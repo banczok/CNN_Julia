{
 "cells": [
  {
   "cell_type": "code",
   "execution_count": 1,
   "id": "7fdd458e",
   "metadata": {},
   "outputs": [],
   "source": [
    "using Flux, MLDatasets, Statistics\n",
    "using Flux: onehotbatch, onecold, crossentropy\n"
   ]
  },
  {
   "cell_type": "code",
   "execution_count": 2,
   "id": "bb11f7cc",
   "metadata": {},
   "outputs": [
    {
     "data": {
      "text/plain": [
       "Chain(\n",
       "  Conv((3, 3), 1 => 24, relu),          \u001b[90m# 240 parameters\u001b[39m\n",
       "  var\"#1#3\"(),\n",
       "  var\"#2#4\"(),\n",
       "  Dense(864 => 32, relu),               \u001b[90m# 27_680 parameters\u001b[39m\n",
       "  Dense(32 => 10),                      \u001b[90m# 330 parameters\u001b[39m\n",
       "  NNlib.softmax,\n",
       ") \u001b[90m                  # Total: 6 arrays, \u001b[39m28_250 parameters, 110.953 KiB."
      ]
     },
     "execution_count": 2,
     "metadata": {},
     "output_type": "execute_result"
    }
   ],
   "source": [
    "model = Chain(\n",
    "    Conv((3, 3), 1=>24, relu),\n",
    "    x -> maxpool(x, (4,4)),\n",
    "\n",
    "    x -> reshape(x, :, size(x, 4)),\n",
    "    Dense(864, 32, relu),\n",
    "    Dense(32, 10),\n",
    "\n",
    "    softmax,\n",
    ")\n"
   ]
  },
  {
   "cell_type": "code",
   "execution_count": 3,
   "id": "10182fce",
   "metadata": {},
   "outputs": [
    {
     "data": {
      "text/plain": [
       "(features = [0.0 0.0 … 0.0 0.0; 0.0 0.0 … 0.0 0.0; … ; 0.0 0.0 … 0.0 0.0; 0.0 0.0 … 0.0 0.0;;; 0.0 0.0 … 0.0 0.0; 0.0 0.0 … 0.0 0.0; … ; 0.0 0.0 … 0.0 0.0; 0.0 0.0 … 0.0 0.0;;; 0.0 0.0 … 0.0 0.0; 0.0 0.0 … 0.0 0.0; … ; 0.0 0.0 … 0.0 0.0; 0.0 0.0 … 0.0 0.0;;; … ;;; 0.0 0.0 … 0.0 0.0; 0.0 0.0 … 0.0 0.0; … ; 0.0 0.0 … 0.0 0.0; 0.0 0.0 … 0.0 0.0;;; 0.0 0.0 … 0.0 0.0; 0.0 0.0 … 0.0 0.0; … ; 0.0 0.0 … 0.0 0.0; 0.0 0.0 … 0.0 0.0;;; 0.0 0.0 … 0.0 0.0; 0.0 0.0 … 0.0 0.0; … ; 0.0 0.0 … 0.0 0.0; 0.0 0.0 … 0.0 0.0], targets = [7, 2, 1, 0, 4, 1, 4, 9, 5, 9  …  7, 8, 9, 0, 1, 2, 3, 4, 5, 6])"
      ]
     },
     "execution_count": 3,
     "metadata": {},
     "output_type": "execute_result"
    }
   ],
   "source": [
    "train_set = MNIST(split=:train, dir=\"./train\")[:]\n",
    "test_set  = MNIST(split=:test, dir=\"./test\")[:]"
   ]
  },
  {
   "cell_type": "code",
   "execution_count": 4,
   "id": "19b941ca",
   "metadata": {},
   "outputs": [
    {
     "data": {
      "text/plain": [
       "157-element DataLoader(::Tuple{Array{Float32, 4}, OneHotArrays.OneHotMatrix{UInt32, Vector{UInt32}}}, batchsize=64)\n",
       "  with first element:\n",
       "  (28×28×1×64 Array{Float32, 4}, 10×64 OneHotMatrix(::Vector{UInt32}) with eltype Bool,)"
      ]
     },
     "execution_count": 4,
     "metadata": {},
     "output_type": "execute_result"
    }
   ],
   "source": [
    "using Flux: Data.DataLoader\n",
    "\n",
    "x_train = Flux.unsqueeze(train_set.features, 3)\n",
    "x_test = Flux.unsqueeze(test_set.features, 3)\n",
    "\n",
    "y_train = onehotbatch(train_set.targets, 0:9)\n",
    "y_test = onehotbatch(test_set.targets, 0:9)\n",
    "\n",
    "train_data = DataLoader((x_train, y_train); batchsize=64)\n",
    "test_data = DataLoader((x_test, y_test); batchsize=64)"
   ]
  },
  {
   "cell_type": "code",
   "execution_count": 9,
   "id": "6e45e50c",
   "metadata": {},
   "outputs": [
    {
     "data": {
      "text/plain": [
       "Adam(0.0075, (0.9, 0.999), 1.0e-8, IdDict{Any, Any}())"
      ]
     },
     "execution_count": 9,
     "metadata": {},
     "output_type": "execute_result"
    }
   ],
   "source": [
    "loss(x, y) = crossentropy(model(x), y)\n",
    "accuracy(x, y) = mean(onecold(model(x)) .== onecold(y))\n",
    "\n",
    "opt = ADAM(0.0075)"
   ]
  },
  {
   "cell_type": "code",
   "execution_count": 11,
   "id": "f0227d64",
   "metadata": {},
   "outputs": [
    {
     "name": "stdout",
     "output_type": "stream",
     "text": [
      "Epoch 1. loss: 0.022134477\n",
      "Epoch 2. loss: 0.040265255\n",
      "Epoch 3. loss: 0.026367456\n",
      "Epoch 4. loss: 0.02626853\n",
      "Epoch 5. loss: 0.033919554\n",
      "Epoch 6. loss: 0.023153849\n",
      "Epoch 7. loss: 0.01687043\n",
      "Epoch 8. loss: 0.02531087\n",
      "Epoch 9. loss: 0.01582326\n",
      "Epoch 10. loss: 0.028086687\n",
      "Epoch 1. loss: 0.021297673\n",
      "Epoch 2. loss: 0.033040334\n",
      "Epoch 3. loss: 0.028732564\n",
      "Epoch 4. loss: 0.016133768\n",
      "Epoch 5. loss: 0.021547753\n",
      "Epoch 6. loss: 0.01394144\n",
      "Epoch 7. loss: 0.027098317\n",
      "Epoch 8. loss: 0.032601345\n",
      "Epoch 9. loss: 0.021819625\n",
      "Epoch 10. loss: 0.021185588\n",
      "Epoch 1. loss: 0.024594635\n",
      "Epoch 2. loss: 0.028735299\n",
      "Epoch 3. loss: 0.009092926\n",
      "Epoch 4. loss: 0.03491487\n",
      "Epoch 5. loss: 0.029173177\n",
      "Epoch 6. loss: 0.017001465\n",
      "Epoch 7. loss: 0.027858188\n",
      "Epoch 8. loss: 0.031873193\n",
      "Epoch 9. loss: 0.026064567\n",
      "Epoch 10. loss: 0.028340254\n",
      "Epoch 1. loss: 0.02013817\n",
      "Epoch 2. loss: 0.046363708\n",
      "Epoch 3. loss: 0.02701385\n",
      "Epoch 4. loss: 0.014460394\n",
      "Epoch 5. loss: 0.029796211\n",
      "Epoch 6. loss: 0.013458872\n",
      "Epoch 7. loss: 0.02554107\n",
      "Epoch 8. loss: 0.038485654\n",
      "Epoch 9. loss: 0.027350232\n",
      "Epoch 10. loss: 0.029710175\n",
      "  118.823 s (2479793 allocations: 267.13 GiB)\n"
     ]
    }
   ],
   "source": [
    "using BenchmarkTools: @btime\n",
    "\n",
    "number_epochs = 10\n",
    "@btime for i in 1:number_epochs \n",
    "    Flux.train!(loss, Flux.params(model), train_data, opt)\n",
    "    println(\"Epoch \", i, \". loss: \", loss(train_data.data[1], train_data.data[2])) \n",
    "\n",
    "end"
   ]
  },
  {
   "cell_type": "code",
   "execution_count": 7,
   "id": "bd6ba78b",
   "metadata": {},
   "outputs": [],
   "source": [
    "acc = Vector{Float64}()\n",
    "\n",
    "for data in test_data\n",
    "    push!(acc, accuracy(data[1], data[2]))\n",
    "        \n",
    "end"
   ]
  },
  {
   "cell_type": "code",
   "execution_count": 8,
   "id": "496e1a04",
   "metadata": {},
   "outputs": [
    {
     "name": "stdout",
     "output_type": "stream",
     "text": [
      "Models accuracy:[0.9811902866242038]\n"
     ]
    }
   ],
   "source": [
    "println(\"Models accuracy:\", mean!([1.], acc))"
   ]
  },
  {
   "cell_type": "code",
   "execution_count": null,
   "id": "67a7653d",
   "metadata": {},
   "outputs": [],
   "source": []
  }
 ],
 "metadata": {
  "kernelspec": {
   "display_name": "Julia 1.8.5",
   "language": "julia",
   "name": "julia-1.8"
  },
  "language_info": {
   "file_extension": ".jl",
   "mimetype": "application/julia",
   "name": "julia",
   "version": "1.8.5"
  }
 },
 "nbformat": 4,
 "nbformat_minor": 5
}
