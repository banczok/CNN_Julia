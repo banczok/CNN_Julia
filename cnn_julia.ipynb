{
 "cells": [
  {
   "cell_type": "code",
   "execution_count": 40,
   "id": "9dac709e",
   "metadata": {},
   "outputs": [
    {
     "name": "stderr",
     "output_type": "stream",
     "text": [
      "WARNING: using MLJBase.predict in module Main conflicts with an existing identifier.\n",
      "WARNING: using MLJBase.evaluate in module Main conflicts with an existing identifier.\n",
      "WARNING: using MLJBase.accuracy in module Main conflicts with an existing identifier.\n",
      "WARNING: using MLJBase.confusion_matrix in module Main conflicts with an existing identifier.\n",
      "WARNING: using MLJBase.Node in module Main conflicts with an existing identifier.\n"
     ]
    }
   ],
   "source": [
    "using PyCall\n",
    "using LinearAlgebra\n",
    "using Random\n",
    "using Printf\n",
    "using MLJBase"
   ]
  },
  {
   "cell_type": "code",
   "execution_count": 3,
   "id": "9beed57c-7db7-4e59-9990-a470390d4b59",
   "metadata": {},
   "outputs": [],
   "source": [
    "abstract type Node end\n",
    "#@code_warntype, @simd, @inbounds, statyczne typowenie (brak niestabilności typów, brak Any), @benchmark_tools, @btime, brak alokacji, \n",
    "#kolumny czy wiersze w for\n",
    "#test co szybsz, Matrix czy Array{Float64, 2}\n",
    "#softmax backward\n",
    "\n",
    "mutable struct Conv2DNode <: Node\n",
    "    x::Array{Float64, 4}\n",
    "    W::Array{Float64, 4}\n",
    "    b::Vector{Float64}\n",
    "    batch_size::Int \n",
    "    kernel_size::Tuple{Int, Int}\n",
    "    filters::Int\n",
    "    output::Array{Float64, 4}\n",
    "    gradient_W::Array{Float64, 4}\n",
    "    gradient_b::Vector{Float64}\n",
    "    activation::String\n",
    "    m_W::Array{Float64}\n",
    "    v_W::Array{Float64}\n",
    "    m_b::Array{Float64}\n",
    "    v_b::Array{Float64}\n",
    "end\n",
    "\n",
    "mutable struct MaxPoolNode <: Node\n",
    "    x::Array{Float64, 4}\n",
    "    pool_size::Tuple{Int, Int}\n",
    "    output::Array{Float64, 4}\n",
    "end\n",
    "\n",
    "mutable struct DenseNode <: Node\n",
    "    x::Matrix{Float64}\n",
    "    W::Matrix{Float64} \n",
    "    b::Vector{Float64}\n",
    "    neurons::Int\n",
    "    output::Matrix{Float64}\n",
    "    gradient_W::Matrix{Float64}\n",
    "    gradient_b::Matrix{Float64}\n",
    "    activation::String\n",
    "    m_W::Array{Float64}\n",
    "    v_W::Array{Float64}\n",
    "    m_b::Array{Float64}\n",
    "    v_b::Array{Float64}\n",
    "end\n",
    "\n",
    "mutable struct FlattenNode <: Node\n",
    "    x::Array{Float64, 4}\n",
    "    output::Matrix{Float64}\n",
    "    input_shape::Tuple{Int, Int, Int}\n",
    "end\n",
    "\n",
    "mutable struct ReLUNode <: Node\n",
    "    x::Union{Array{Float64, 4}, Matrix{Float64}}\n",
    "    output::Union{Array{Float64, 4}, Matrix{Float64}}\n",
    "end\n",
    "\n",
    "mutable struct SoftmaxNode <: Node\n",
    "    x::Union{Array{Float64, 4}, Matrix{Float64}}\n",
    "    output::Union{Array{Float64, 4}, Matrix{Float64}}\n",
    "    loss_func::Union{Function, Nothing}\n",
    "end\n",
    "\n",
    "mutable struct SigmoidNode <: Node\n",
    "    x::Union{Array{Float64, 4}, Matrix{Float64}}\n",
    "    output::Union{Array{Float64, 4}, Matrix{Float64}}\n",
    "    loss_func::Union{Function, Nothing}\n",
    "end\n",
    "\n",
    "mutable struct TanhNode <: Node\n",
    "    x::Union{Array{Float64, 4}, Matrix{Float64}}\n",
    "    output::Union{Array{Float64, 4}, Matrix{Float64}}\n",
    "end\n",
    "\n",
    "mutable struct LeakyReLUNode <: Node\n",
    "    x::Union{Array{Float64, 4}, Matrix{Float64}}\n",
    "    output::Union{Array{Float64, 4}, Matrix{Float64}}\n",
    "    alpha::Float64\n",
    "end\n"
   ]
  },
  {
   "cell_type": "code",
   "execution_count": 4,
   "id": "e8eb86b4-d598-4d00-ab75-f71b4ab219a7",
   "metadata": {
    "tags": []
   },
   "outputs": [
    {
     "data": {
      "text/plain": [
       "forward! (generic function with 9 methods)"
      ]
     },
     "metadata": {},
     "output_type": "display_data"
    }
   ],
   "source": [
    "function forward!(node::Conv2DNode, x::Array{Float64, 4}) \n",
    "    @views node.x = x\n",
    "    W = node.W\n",
    "    b = node.b\n",
    "\n",
    "    batch_size, input_height, input_width, input_channels = size(x)\n",
    "    filter_height, filter_width,  num_chanels, num_filters = size(W)\n",
    "\n",
    "    output_height = 1 + (input_height - filter_height)\n",
    "    output_width = 1 + (input_width - filter_width)\n",
    "\n",
    "    output = zeros(batch_size, output_height, output_width, num_filters)\n",
    "    @simd for n in 1:batch_size\n",
    "        for f in 1:num_filters\n",
    "            for j in 1:output_width, i in 1:output_height\n",
    "                @inbounds output[n, i, j, f] = sum(view(x, n, i:i+filter_height-1, j:j+filter_width-1, :) .* W[:,:,:,f]) + b[f]\n",
    "            end\n",
    "        end\n",
    "    end\n",
    "    \n",
    "    @views node.output = output\n",
    "end\n",
    "\n",
    "function forward!(node::MaxPoolNode, x::Array{Float64, 4})\n",
    "    @views node.x = x\n",
    "    pool_size = node.pool_size\n",
    "    \n",
    "    batch_size, input_height, input_width, input_channels = size(x)\n",
    "\n",
    "    output_height = 1 + (input_height - pool_size[1]) ÷ pool_size[1]\n",
    "    output_width = 1 + (input_width - pool_size[2]) ÷ pool_size[2]\n",
    "\n",
    "    output = zeros(batch_size, output_height, output_width, input_channels)\n",
    "\n",
    "    @simd for n in 1:batch_size\n",
    "        for c in 1:input_channels\n",
    "            @inbounds for j in 1:pool_size[2]:input_width-pool_size[2]+1, i in 1:pool_size[1]:input_height-pool_size[1]+1\n",
    "                @inbounds output[n, 1+div(i-1, pool_size[1]), 1+div(j-1, pool_size[2]), c] = maximum(view(x, n, i:i+pool_size[1]-1, j:j+pool_size[2]-1, c))\n",
    "            end\n",
    "        end\n",
    "    end\n",
    "\n",
    "    @views node.output = output\n",
    "end\n",
    "\n",
    "function forward!(node::FlattenNode, x::Array{Float64, 4})\n",
    "    node.x = x\n",
    "    node.output = reshape(x, size(x, 1), size(x, 2) * size(x, 3) * size(x, 4))\n",
    "end\n",
    "\n",
    "function forward!(node::DenseNode, x::Matrix{Float64})\n",
    "    node.x = x\n",
    "    @views node.output = x * node.W .+ node.b'\n",
    "end\n",
    "\n",
    "function forward!(node::ReLUNode, x::Union{Array{Float64, 4}, Matrix{Float64}})\n",
    "    node.x = x\n",
    "    @views node.output = max.(0, x)\n",
    "end\n",
    "\n",
    "function forward!(node::SoftmaxNode, x::Union{Array{Float64, 4}, Matrix{Float64}})\n",
    "    node.x = x\n",
    "    exp_x = exp.(x .- maximum(x, dims=2))\n",
    "    node.output = exp_x ./ sum(exp_x, dims=2)\n",
    "end\n",
    "\n",
    "function forward!(node::SigmoidNode, x::Union{Array{Float64, 4}, Matrix{Float64}})\n",
    "    node.x = x\n",
    "    node.output = 1.0 ./ (1.0 .+ exp.(-x))\n",
    "end\n",
    "\n",
    "function forward!(node::TanhNode, x::Union{Array{Float64, 4}, Matrix{Float64}})\n",
    "    node.x = x\n",
    "    node.output = tanh.(x)\n",
    "end\n",
    "\n",
    "function forward!(node::LeakyReLUNode, x::Union{Array{Float64, 4}, Matrix{Float64}})\n",
    "    node.x = x\n",
    "    @views node.output = ifelse.(x .> 0, x, node.alpha .* x)\n",
    "end"
   ]
  },
  {
   "cell_type": "code",
   "execution_count": 5,
   "id": "602fd274-f243-48fd-874c-9567ce11b6a9",
   "metadata": {
    "tags": []
   },
   "outputs": [
    {
     "data": {
      "text/plain": [
       "backward! (generic function with 9 methods)"
      ]
     },
     "metadata": {},
     "output_type": "display_data"
    }
   ],
   "source": [
    "function backward!(node::Conv2DNode, dy::Array{Float64, 4}, x::Array{Float64, 4})\n",
    "    W = node.W\n",
    "    batch_size, input_height, input_width, input_channels = size(x)\n",
    "    filter_height, filter_width, num_channels, num_filters = size(W)\n",
    "\n",
    "    dx = zeros(size(x))\n",
    "    dW = zeros(size(W))\n",
    "    db = zeros(num_filters)\n",
    "\n",
    "    @simd for n in 1:batch_size\n",
    "        for f in 1:num_filters\n",
    "            for j in 1:input_width - filter_width + 1, i in 1:input_height - filter_height + 1\n",
    "                @inbounds dx[n, i:i + filter_height - 1, j:j + filter_width - 1, :] .+= W[:, :, :, f] .* dy[n, i, j, f]\n",
    "                @inbounds dW[:, :, :, f] .+= view(x, n, i:i + filter_height - 1, j:j + filter_width - 1, :) .* dy[n, i, j, f]\n",
    "            end\n",
    "            @inbounds db[f] += sum(dy[n, :, :, f])\n",
    "        end\n",
    "    end\n",
    "\n",
    "    return (dx, dW, db)\n",
    "end\n",
    "\n",
    "\n",
    "function backward!(node::MaxPoolNode, dy::Array{Float64, 4}, x::Array{Float64, 4})\n",
    "    pool_size = node.pool_size\n",
    "    new_size = size(node.output)\n",
    "    dy = reshape(dy, new_size)\n",
    "    \n",
    "    batch_size, height, width, channels = size(x)\n",
    "    dx = zeros(size(x))\n",
    "    @simd for b in 1:batch_size\n",
    "        for c in 1:channels\n",
    "            @inbounds for j in 1:pool_size[2]:width-pool_size[2]+1, i in 1:pool_size[1]:height-pool_size[1]+1\n",
    "                @inbounds window = view(x, b, i:i+pool_size[1]-1, j:j+pool_size[2]-1, c)\n",
    "                @inbounds dx[b, i:i+pool_size[1]-1, j:j+pool_size[2]-1, c] .+= dy[b, i ÷ pool_size[1]+1, j ÷ pool_size[2]+1, c] .* (window .== maximum(window))\n",
    "            end\n",
    "        end\n",
    "    end\n",
    "    return dx\n",
    "end\n",
    "\n",
    "\n",
    "function backward!(node::DenseNode, dy::Matrix{Float64}, x::Matrix{Float64})\n",
    "    dx, dW, db = dy * node.W', x' * dy, reshape(sum(dy, dims=1), :, 1)\n",
    "    return (dx, dW, db)\n",
    "end\n",
    "\n",
    "function backward!(node::FlattenNode, dy::Matrix{Float64}, x::Array{Float64, 4})\n",
    "    dx = reshape(dy, size(x, 1), node.input_shape...)\n",
    "    return dx\n",
    "end\n",
    "\n",
    "\n",
    "function backward!(node::ReLUNode, dy::Union{Array{Float64, 4}, Matrix{Float64}}, x::Union{Array{Float64, 4}, Matrix{Float64}})\n",
    "    dx = dy .* (x .> 0)\n",
    "    return dx\n",
    "end\n",
    "\n",
    "function backward!(node::SigmoidNode, dy::Union{Array{Float64, 4}, Matrix{Float64}}, x::Union{Array{Float64, 4}, Matrix{Float64}})\n",
    "    dx = dy .* (node.output .* (1.0 .- node.output))\n",
    "    return dx\n",
    "end\n",
    "\n",
    "function backward!(node::TanhNode, dy::Union{Array{Float64, 4}, Matrix{Float64}}, x::Union{Array{Float64, 4}, Matrix{Float64}})\n",
    "    dx = dy .* (1.0 .- node.output .^ 2)\n",
    "    return dx\n",
    "end\n",
    "\n",
    "function backward!(node::LeakyReLUNode, dy::Union{Array{Float64, 4}, Matrix{Float64}}, x::Union{Array{Float64, 4}, Matrix{Float64}})\n",
    "    dx = dy .* ifelse.(x .> 0, 1, node.alpha)\n",
    "    return dx\n",
    "end\n",
    "\n",
    "function backward!(node::SoftmaxNode, dy::Union{Array{Float64, 4}, Matrix{Float64}}, x::Union{Array{Float64, 4}, Matrix{Float64}})\n",
    "    softmax_output = node.output\n",
    "    batch_size, num_classes = size(softmax_output)\n",
    "\n",
    "    dx = similar(dy)\n",
    "\n",
    "    @simd for i in 1:batch_size\n",
    "        vec = view(softmax_output, i, :)\n",
    "        J = diagm(vec) .- vec * vec'\n",
    "        view(dx, i, :) .= J' * view(dy, i, :)\n",
    "    end\n",
    "\n",
    "    return dx\n",
    "end\n"
   ]
  },
  {
   "cell_type": "code",
   "execution_count": 6,
   "id": "d202a415",
   "metadata": {},
   "outputs": [
    {
     "data": {
      "text/plain": [
       "hasproperty (generic function with 1 method)"
      ]
     },
     "metadata": {},
     "output_type": "display_data"
    }
   ],
   "source": [
    "function Conv2DNode(; batch_size::Int, filters::Int, kernel_size::Tuple{Int, Int}, input_shape::Tuple{Int, Int, Int}, activation::String)\n",
    "    W = randn(kernel_size[1], kernel_size[2], input_shape[3], filters) * sqrt(1 / (kernel_size[1] * kernel_size[2] * input_shape[3]))\n",
    "    b = zeros(filters)\n",
    "\n",
    "    return Conv2DNode(zeros(1,1,1,1), W, b, batch_size, kernel_size, filters, zeros(1,1,1,1), zeros(1, 1, 1, 1), zeros(1), activation, zeros(size(W)), zeros(size(W)), zeros(size(b)), zeros(size(b)))\n",
    "end\n",
    "\n",
    "function MaxPoolNode(; pool_size::Tuple{Int, Int})\n",
    "    return MaxPoolNode(zeros((1, 1, 1, 1)), pool_size, zeros((1, 1, 1, 1)))\n",
    "end\n",
    "\n",
    "function DenseNode(; neurons::Int, activation::String, input_shape::Union{Tuple{Int, Int}, Tuple{Int, Int, Int}})\n",
    "    W = randn(prod(input_shape), neurons) * sqrt(1 / (prod(input_shape)))\n",
    "    b = zeros(neurons)\n",
    "\n",
    "    return DenseNode(zeros(1,1), W, b, neurons, zeros((1,1)), zeros((1, 1)), zeros((1, 1)), activation, zeros(size(W)), zeros(size(W)), zeros(size(b)), zeros(size(b)))\n",
    "end\n",
    "\n",
    "function FlattenNode(; input_shape::Tuple{Int, Int, Int})\n",
    "    return FlattenNode(zeros((input_shape..., 1)), zeros((1, 1)), input_shape)\n",
    "end\n",
    "\n",
    "function ReLUNode()\n",
    "    return ReLUNode(zeros((1, 1, 1, 1)), zeros((1, 1, 1, 1)))\n",
    "end\n",
    "\n",
    "function SoftmaxNode()\n",
    "    return SoftmaxNode(zeros((1, 1)), zeros((1, 1)), nothing)\n",
    "end\n",
    "\n",
    "function TanhNode()\n",
    "    return TanhNode(zeros((1, 1)), zeros((1, 1)))\n",
    "end\n",
    "\n",
    "function SigmoidNode()\n",
    "    return SigmoidNode(zeros((1, 1)), zeros((1, 1)), nothing)\n",
    "end\n",
    "\n",
    "function LeakyReLUNode(alpha::Float64)\n",
    "    return LeakyReLUNode(zeros((1, 1)), zeros((1, 1)), alpha)\n",
    "end\n",
    "\n",
    "function forward_pass!(graph::Vector{Any}, x::Array{Float64, 4})\n",
    "    input = x\n",
    "    for node in graph\n",
    "        @inbounds forward!(node, input)\n",
    "        input = @views node.output\n",
    "    end\n",
    "    return input\n",
    "end\n",
    "\n",
    "function backward_pass!(graph::Vector{Any}, y_true::Vector{Int64})\n",
    "    preds = graph[end].output\n",
    "    dout  = graph[end].loss_func(preds, y_true) #loss func backpropagation\n",
    "\n",
    "    for i in reverse(1:length(graph))\n",
    "        layer = graph[i]\n",
    "        prev_layer_output = i > 1 ? graph[i - 1].output : layer.x\n",
    "        if hasproperty(layer, :gradient_W)\n",
    "            @inbounds dout,dW,db = backward!(layer, dout, prev_layer_output)\n",
    "            layer.gradient_W = dW\n",
    "            layer.gradient_b = db\n",
    "\n",
    "        else \n",
    "            @inbounds dout = backward!(layer, dout, prev_layer_output)\n",
    "        end\n",
    "    end\n",
    "end\n",
    "\n",
    "function onehotbatch(labels::Vector{Int64}, classes::UnitRange{Int64})\n",
    "    Y = zeros(Int, length(labels), length(classes))\n",
    "    for (i, label) in enumerate(labels)\n",
    "        Y[i, label .== classes] .= 1\n",
    "    end\n",
    "    return Y\n",
    "end\n",
    "\n",
    "function graph_build(layers::Vector{Node}, loss::String)\n",
    "    output = []\n",
    "    for layer in layers\n",
    "        push!(output, layer)\n",
    "        if hasproperty(layer, :activation)\n",
    "            push!(output, getActivation(layer.activation))\n",
    "        end\n",
    "    end\n",
    "    \n",
    "    if loss == \"cross_entropy_loss\"\n",
    "        output[end].loss_func = cross_entropy_backward\n",
    "    else\n",
    "        error(\"Invalid activation function for output layer\")\n",
    "    end\n",
    "    \n",
    "    return output\n",
    "end\n",
    "\n",
    "function getActivation(name::String)\n",
    "    if name == \"relu\"\n",
    "        return ReLUNode()\n",
    "    elseif name == \"softmax\"\n",
    "        return SoftmaxNode()\n",
    "    elseif name == \"sigmoid\"\n",
    "        return SigmoidNode()\n",
    "    elseif name == \"tanh\"\n",
    "        return TanhNode()\n",
    "    elseif name == \"leakyrelu\"\n",
    "        return LeakyReLUNode(0.01)\n",
    "    else \n",
    "        error(\"no such activation function\")\n",
    "    end\n",
    "end\n",
    "\n",
    "function cross_entropy_backward(y_pred::Matrix{Float64}, y_true::Vector{Int64})\n",
    "    return -(onehotbatch(y_true, 0:9) ./ y_pred) ./ size(y_true, 1)\n",
    "end\n",
    "\n",
    "import Base.hasproperty\n",
    "hasproperty(x, s::Symbol) = s in fieldnames(typeof(x))"
   ]
  },
  {
   "cell_type": "code",
   "execution_count": 106,
   "id": "433dfab2-7d04-4fef-a952-6546082e4fc5",
   "metadata": {
    "tags": []
   },
   "outputs": [
    {
     "data": {
      "text/plain": [
       "predict (generic function with 2 methods)"
      ]
     },
     "metadata": {},
     "output_type": "display_data"
    }
   ],
   "source": [
    "function update_adam!(layer::Node, learning_rate::Float64, t::Int, beta1::Float64 = 0.9, beta2::Float64 = 0.999, epsilon::Float64 = 1e-8)\n",
    "    layer.m_W = beta1 * layer.m_W + (1 - beta1) * layer.gradient_W\n",
    "    layer.v_W = beta2 * layer.v_W + (1 - beta2) * layer.gradient_W .^ 2\n",
    "    mhat_W = layer.m_W / (1 - beta1 ^ t)\n",
    "    vhat_W = layer.v_W / (1 - beta2 ^ t)\n",
    "    layer.W .-= learning_rate .* mhat_W ./ (sqrt.(vhat_W) .+ epsilon)\n",
    "\n",
    "\n",
    "    layer.m_b = beta1 * layer.m_b + (1 - beta1) * layer.gradient_b\n",
    "    layer.v_b = beta2 * layer.v_b + (1 - beta2) * layer.gradient_b .^ 2\n",
    "    mhat_b = layer.m_b / (1 - beta1 ^ t)\n",
    "    vhat_b = layer.v_b / (1 - beta2 ^ t)\n",
    "    layer.b .-= learning_rate .* mhat_b ./ (sqrt.(vhat_b) .+ epsilon)\n",
    "end\n",
    "\n",
    "function update_sgd!(layer::Node, learning_rate::Float64)\n",
    "    layer.W .-= learning_rate .* layer.gradient_W\n",
    "    layer.b .-= learning_rate .* layer.gradient_b\n",
    "end\n",
    "\n",
    "function train!(graph::Vector{Any}, train_x::Array{Float64, 4}, train_y::Vector{Int64}, epochs::Int=5, batch_size::Int=32, learning_rate::Float64=1e-3, optimizer::String=\"adam\")\n",
    "    total_batches = ceil(Int, size(train_x, 1) / batch_size)\n",
    "    each = ceil(Int, total_batches/10)\n",
    " \n",
    "    loss_history = zeros(ceil(Int, total_batches*epochs/each))\n",
    "    counter = 1\n",
    "    \n",
    "    for epoch in 1:epochs\n",
    "        println(\"----EPOCH $epoch----\")\n",
    "\n",
    "        idx = randperm(size(train_x, 1))\n",
    "        train_x = train_x[idx, :, :, :]\n",
    "        train_y = train_y[idx]\n",
    "        loss = 0\n",
    "        current_epoch_loss = zeros(total_batches)\n",
    "        \n",
    "\n",
    "        for i in 1:batch_size:size(train_x, 1)\n",
    "            x_batch = train_x[i:min(i+batch_size-1, end), :, :, :]\n",
    "            y_batch = train_y[i:min(i+batch_size-1, end)]\n",
    "            tmp  = (i ÷ batch_size)\n",
    "\n",
    "            forward_pass!(graph, x_batch)\n",
    "            \n",
    "            current_epoch_loss[tmp+1] = -sum(log.(graph[end].output) .* onehotbatch(y_batch, 0:9))#/size(y_batch, 1)\n",
    "            \n",
    "            backward_pass!(graph, y_batch)\n",
    "\n",
    "            for layer in graph\n",
    "                if hasproperty(layer, :gradient_W)\n",
    "                    if optimizer == \"adam\"\n",
    "                        update_adam!(layer, learning_rate, i)\n",
    "                    elseif optimizer == \"sgd\"\n",
    "                        update_sgd!(layer, learning_rate)\n",
    "                    else\n",
    "                        error(\"Invalid optimizer selected.\")\n",
    "                    end\n",
    "                end\n",
    "            end\n",
    "\n",
    "            \n",
    "            if i == 1  ||  tmp % each == 0\n",
    "                avg_loss = sum(current_epoch_loss)/(tmp+1)\n",
    "\n",
    "                loss_history[counter] = avg_loss\n",
    "                counter += 1\n",
    "                print(i ÷ batch_size, \"/\", total_batches)\n",
    "                println(\" avg epoch loss: \", round(avg_loss, digits=5))\n",
    "                \n",
    "            end\n",
    "        end\n",
    "        println()\n",
    "        \n",
    "    end\n",
    "    println(\"Training finished!\")\n",
    "\n",
    "    return loss_history\n",
    "end\n",
    "\n",
    "function evaluate(graph::Vector{Any}, x_data::Array{Float64, 4}, y_data::Vector{Int64}, batch_size::Int, pool_size::Tuple{Int, Int})\n",
    "    num_correct = 0\n",
    "    num_samples = size(x_data, 1)\n",
    "\n",
    "    for i in 1:batch_size:num_samples\n",
    "        x_batch = x_data[i:min(i+batch_size-1, end), :, :, :]\n",
    "        y_batch = y_data[i:min(i+batch_size-1, end)]\n",
    "        \n",
    "        forward_pass!(graph, x_batch)\n",
    "        pred = graph[end].output\n",
    "        \n",
    "        predictions = argmax.(eachrow(pred)) .- 1\n",
    "        num_correct += sum(predictions .== y_batch)\n",
    "    end\n",
    "\n",
    "    accuracy = num_correct / num_samples\n",
    "    return accuracy\n",
    "end\n",
    "\n",
    "function plot_loss(loss::Vector{Float64}, epochs::Int)\n",
    "    plot(1:size(loss,1), loss, label=\"loss_batches\")\n",
    "\n",
    "    each = Int64(size(loss,1)/epochs)\n",
    "    pts = loss[each:each:end]\n",
    "    plot!(each:each:each*size(pts,1), pts, seriestype=:scatter, label=\"epochs\")\n",
    "end\n",
    "\n",
    "function classification_report(y_true::Array{Int}, y_pred::Array{Int})\n",
    "    labels = sort(unique(y_true))\n",
    "    num_classes = length(labels)\n",
    "    tp = zeros(Int, num_classes)\n",
    "    fp = zeros(Int, num_classes)\n",
    "    fn = zeros(Int, num_classes)\n",
    "\n",
    "    for i in 1:num_classes\n",
    "        tp[i] = sum((y_true .== labels[i]) .& (y_pred .== labels[i]))\n",
    "        fp[i] = sum((y_true .!= labels[i]) .& (y_pred .== labels[i]))\n",
    "        fn[i] = sum((y_true .== labels[i]) .& (y_pred .!= labels[i]))\n",
    "    end\n",
    "\n",
    "    precision = tp ./ (tp .+ fp)\n",
    "    recall = tp ./ (tp .+ fn)\n",
    "    f1_score = 2 * (precision .* recall) ./ (precision .+ recall)\n",
    "    support = tp .+ fn\n",
    "    total_support = sum(support)\n",
    "    weighted_precision = sum(precision .* support) / total_support\n",
    "    weighted_recall = sum(recall .* support) / total_support\n",
    "    weighted_f1_score = sum(f1_score .* support) / total_support\n",
    "\n",
    "    println(\"Class \\t\\t Precision \\t Recall \\t F1-score \\t Support\")\n",
    "    for i in 1:num_classes\n",
    "        @printf(\"%-10d \\t %-10.4f \\t %-10.4f \\t %-10.4f \\t %d \\n\", labels[i], precision[i], recall[i], f1_score[i], support[i])\n",
    "    end\n",
    "\n",
    "    println(\"------------------------------------------------\")\n",
    "    @printf(\"Avg/Total \\t %-10.4f \\t %-10.4f \\t %-10.4f \\t %d\\n\", weighted_precision, weighted_recall, weighted_f1_score, total_support)\n",
    "\n",
    "\n",
    "end\n",
    "\n",
    "function plot_confusion_matrix(y_true::Array{Int}, y_pred::Array{Int})\n",
    "    cm = Matrix(MLJBase.confusion_matrix(y_true, y_pred).mat)\n",
    "    heatmap(cm, c = :Reds_8, title=\"Confusion Matrix\", size=(700, 700))\n",
    "\n",
    "    for i in 1:size(cm, 1)\n",
    "        for j in 1:size(cm, 2)\n",
    "            annotate!([(i, j, Plots.text(string(cm[j, i]), 10, :black, :center))])\n",
    "        end\n",
    "    end\n",
    "\n",
    "    xlabel!(\"Predicted\")\n",
    "    ylabel!(\"Actual\")\n",
    "end\n",
    "\n",
    "function predict(graph::Vector{Any}, x::Array{Float64, 4}, batch_size::Int)\n",
    "    num_samples = size(x, 1)\n",
    "    num_batches = ceil(Int, num_samples / batch_size)\n",
    "\n",
    "    class_labels = zeros(Int, num_samples)\n",
    "\n",
    "    for i in 1:batch_size:num_samples\n",
    "        x_batch = x[i:min(i + batch_size - 1, end), :, :, :]\n",
    "        preds = forward_pass!(graph, x_batch)\n",
    "        max_indices = argmax.(eachrow(preds)) .- 1\n",
    "        class_labels[i:min(i + batch_size - 1, end)] = vec(max_indices)\n",
    "    end\n",
    "\n",
    "    return class_labels\n",
    "end\n"
   ]
  },
  {
   "cell_type": "code",
   "execution_count": 9,
   "id": "4d5e96f3-f2cb-47d1-a14d-8c9d84c3bd53",
   "metadata": {
    "tags": []
   },
   "outputs": [
    {
     "data": {
      "text/plain": [
       "9"
      ]
     },
     "metadata": {},
     "output_type": "display_data"
    }
   ],
   "source": [
    "mnist = pyimport(\"mnist\")\n",
    "\n",
    "# Load the MNIST dataset\n",
    "train_data = mnist.train_images()\n",
    "train_labels = Int64.(mnist.train_labels())\n",
    "train_x =  reshape(train_data, :, 28, 28, 1) / 255.0\n",
    "train_y = train_labels\n",
    "\n",
    "\n",
    "n = 1000\n",
    "idx = randperm(n)\n",
    "train_x = train_x[idx, :,:,:]\n",
    "train_y = train_y[idx]\n",
    "\n",
    "train_y[1]"
   ]
  },
  {
   "cell_type": "code",
   "execution_count": 10,
   "id": "0b287c46-20e9-435c-95e2-23d699c4eca6",
   "metadata": {
    "tags": []
   },
   "outputs": [
    {
     "name": "stdout",
     "output_type": "stream",
     "text": [
      "----EPOCH 1----\n"
     ]
    },
    {
     "name": "stdout",
     "output_type": "stream",
     "text": [
      "0/16 avg epoch loss: "
     ]
    },
    {
     "name": "stdout",
     "output_type": "stream",
     "text": [
      "150.44708\n",
      "2/16 avg epoch loss: 142.09055\n"
     ]
    },
    {
     "name": "stdout",
     "output_type": "stream",
     "text": [
      "4/16 avg epoch loss: 134.74765"
     ]
    },
    {
     "name": "stdout",
     "output_type": "stream",
     "text": [
      "\n",
      "6/16 avg epoch loss: 130.33736\n"
     ]
    },
    {
     "name": "stdout",
     "output_type": "stream",
     "text": [
      "8/16 avg epoch loss: 117.46699\n"
     ]
    },
    {
     "name": "stdout",
     "output_type": "stream",
     "text": [
      "10/16 avg epoch loss: 107.34926\n"
     ]
    },
    {
     "name": "stdout",
     "output_type": "stream",
     "text": [
      "12/16 avg epoch loss: 101.98348\n"
     ]
    },
    {
     "name": "stdout",
     "output_type": "stream",
     "text": [
      "14/"
     ]
    },
    {
     "name": "stdout",
     "output_type": "stream",
     "text": [
      "16 avg epoch loss: 94.80535\n",
      "\n",
      "----EPOCH 2----\n"
     ]
    },
    {
     "name": "stdout",
     "output_type": "stream",
     "text": [
      "0/16 avg epoch loss: 23.50798\n"
     ]
    },
    {
     "name": "stdout",
     "output_type": "stream",
     "text": [
      "2/16 avg epoch loss: 32.78016"
     ]
    },
    {
     "name": "stdout",
     "output_type": "stream",
     "text": [
      "\n",
      "4/16 avg epoch loss: 28.37525\n"
     ]
    },
    {
     "name": "stdout",
     "output_type": "stream",
     "text": [
      "6/16 avg epoch loss: 26.93751\n"
     ]
    },
    {
     "name": "stdout",
     "output_type": "stream",
     "text": [
      "8/16 avg epoch loss: 27.38824"
     ]
    },
    {
     "name": "stdout",
     "output_type": "stream",
     "text": [
      "\n",
      "10/16 avg epoch loss: 29.05519"
     ]
    },
    {
     "name": "stdout",
     "output_type": "stream",
     "text": [
      "\n",
      "12/16 avg epoch loss: 27.29495\n"
     ]
    },
    {
     "name": "stdout",
     "output_type": "stream",
     "text": [
      "14/16 avg epoch loss: 26.87169\n"
     ]
    },
    {
     "name": "stdout",
     "output_type": "stream",
     "text": [
      "\n",
      "----EPOCH 3----\n"
     ]
    },
    {
     "name": "stdout",
     "output_type": "stream",
     "text": [
      "0/16 avg epoch loss: 15.89294"
     ]
    },
    {
     "name": "stdout",
     "output_type": "stream",
     "text": [
      "\n",
      "2/16 avg epoch loss: 13.20585\n"
     ]
    },
    {
     "name": "stdout",
     "output_type": "stream",
     "text": [
      "4/16 avg epoch loss: 12.33677"
     ]
    },
    {
     "name": "stdout",
     "output_type": "stream",
     "text": [
      "\n",
      "6/16 avg epoch loss: 10.74021"
     ]
    },
    {
     "name": "stdout",
     "output_type": "stream",
     "text": [
      "\n",
      "8/16 avg epoch loss: 11.70033"
     ]
    },
    {
     "name": "stdout",
     "output_type": "stream",
     "text": [
      "\n",
      "10/16 avg epoch loss: 11.33419"
     ]
    },
    {
     "name": "stdout",
     "output_type": "stream",
     "text": [
      "\n",
      "12/16 avg epoch loss: 11.99929\n"
     ]
    },
    {
     "name": "stdout",
     "output_type": "stream",
     "text": [
      "14/16 avg epoch loss: 12.43663\n"
     ]
    },
    {
     "name": "stdout",
     "output_type": "stream",
     "text": [
      "\n",
      "----EPOCH 4----\n"
     ]
    },
    {
     "name": "stdout",
     "output_type": "stream",
     "text": [
      "0/16 avg epoch loss: 6.58728"
     ]
    },
    {
     "name": "stdout",
     "output_type": "stream",
     "text": [
      "\n",
      "2/16 avg epoch loss: 7.27604"
     ]
    },
    {
     "name": "stdout",
     "output_type": "stream",
     "text": [
      "\n",
      "4/16 avg epoch loss: 8.14829\n"
     ]
    },
    {
     "name": "stdout",
     "output_type": "stream",
     "text": [
      "6/16 avg epoch loss: 8.76758"
     ]
    },
    {
     "name": "stdout",
     "output_type": "stream",
     "text": [
      "\n",
      "8/16 avg epoch loss: 8.0939"
     ]
    },
    {
     "name": "stdout",
     "output_type": "stream",
     "text": [
      "\n",
      "10/16 avg epoch loss: 7.66221\n"
     ]
    },
    {
     "name": "stdout",
     "output_type": "stream",
     "text": [
      "12/16 avg epoch loss: 7.44609"
     ]
    },
    {
     "name": "stdout",
     "output_type": "stream",
     "text": [
      "\n",
      "14/16 avg epoch loss: 6.88822\n"
     ]
    },
    {
     "name": "stdout",
     "output_type": "stream",
     "text": [
      "\n",
      "----EPOCH 5----\n"
     ]
    },
    {
     "name": "stdout",
     "output_type": "stream",
     "text": [
      "0/16 avg epoch loss: 3.02987\n"
     ]
    },
    {
     "name": "stdout",
     "output_type": "stream",
     "text": [
      "2/16 avg epoch loss: 3.85873"
     ]
    },
    {
     "name": "stdout",
     "output_type": "stream",
     "text": [
      "\n",
      "4/16 avg epoch loss: 7.65593\n"
     ]
    },
    {
     "name": "stdout",
     "output_type": "stream",
     "text": [
      "6/16 avg epoch loss: 6.6696\n"
     ]
    },
    {
     "name": "stdout",
     "output_type": "stream",
     "text": [
      "8/16 avg epoch loss: 5.49595\n"
     ]
    },
    {
     "name": "stdout",
     "output_type": "stream",
     "text": [
      "10/16 avg epoch loss: 5.42251\n"
     ]
    },
    {
     "name": "stdout",
     "output_type": "stream",
     "text": [
      "12/16 avg epoch loss: 4.8236"
     ]
    },
    {
     "name": "stdout",
     "output_type": "stream",
     "text": [
      "\n",
      "14/16 avg epoch loss: 4.60791\n"
     ]
    },
    {
     "name": "stdout",
     "output_type": "stream",
     "text": [
      "\n",
      "----EPOCH 6----\n"
     ]
    },
    {
     "name": "stdout",
     "output_type": "stream",
     "text": [
      "0/16 avg epoch loss: 0.77424\n"
     ]
    },
    {
     "name": "stdout",
     "output_type": "stream",
     "text": [
      "2/16 avg epoch loss: 1.39532"
     ]
    },
    {
     "name": "stdout",
     "output_type": "stream",
     "text": [
      "\n",
      "4/16 avg epoch loss: 1.38187"
     ]
    },
    {
     "name": "stdout",
     "output_type": "stream",
     "text": [
      "\n",
      "6/16 avg epoch loss: 1.9195\n"
     ]
    },
    {
     "name": "stdout",
     "output_type": "stream",
     "text": [
      "8/16 avg epoch loss: 2.1314"
     ]
    },
    {
     "name": "stdout",
     "output_type": "stream",
     "text": [
      "\n",
      "10/16 avg epoch loss: 1.8848\n"
     ]
    },
    {
     "name": "stdout",
     "output_type": "stream",
     "text": [
      "12/16 avg epoch loss: 2.17244"
     ]
    },
    {
     "name": "stdout",
     "output_type": "stream",
     "text": [
      "\n",
      "14/16 avg epoch loss: 2.56861"
     ]
    },
    {
     "name": "stdout",
     "output_type": "stream",
     "text": [
      "\n",
      "\n",
      "----EPOCH 7----\n"
     ]
    },
    {
     "name": "stdout",
     "output_type": "stream",
     "text": [
      "0/16 avg epoch loss: 0.58365\n"
     ]
    },
    {
     "name": "stdout",
     "output_type": "stream",
     "text": [
      "2/16 avg epoch loss: 1.03994\n"
     ]
    },
    {
     "name": "stdout",
     "output_type": "stream",
     "text": [
      "4/16 avg epoch loss: 1.47329"
     ]
    },
    {
     "name": "stdout",
     "output_type": "stream",
     "text": [
      "\n",
      "6/16 avg epoch loss: "
     ]
    },
    {
     "name": "stdout",
     "output_type": "stream",
     "text": [
      "1.44244\n",
      "8/16 avg epoch loss: 1.37242\n"
     ]
    },
    {
     "name": "stdout",
     "output_type": "stream",
     "text": [
      "10/16 avg epoch loss: 1.544\n"
     ]
    },
    {
     "name": "stdout",
     "output_type": "stream",
     "text": [
      "12/16 avg epoch loss: 1.47435"
     ]
    },
    {
     "name": "stdout",
     "output_type": "stream",
     "text": [
      "\n",
      "14/16 avg epoch loss: 1.62443\n"
     ]
    },
    {
     "name": "stdout",
     "output_type": "stream",
     "text": [
      "\n",
      "----EPOCH 8----\n"
     ]
    },
    {
     "name": "stdout",
     "output_type": "stream",
     "text": [
      "0/16 avg epoch loss: 1.14607\n"
     ]
    },
    {
     "name": "stdout",
     "output_type": "stream",
     "text": [
      "2/16 avg epoch loss: 1.07525"
     ]
    },
    {
     "name": "stdout",
     "output_type": "stream",
     "text": [
      "\n",
      "4/16 avg epoch loss: 1.38567\n"
     ]
    },
    {
     "name": "stdout",
     "output_type": "stream",
     "text": [
      "6/16 avg epoch loss: 1.22054"
     ]
    },
    {
     "name": "stdout",
     "output_type": "stream",
     "text": [
      "\n",
      "8/16 avg epoch loss: 1.06426\n"
     ]
    },
    {
     "name": "stdout",
     "output_type": "stream",
     "text": [
      "10/16 avg epoch loss: 1.02864"
     ]
    },
    {
     "name": "stdout",
     "output_type": "stream",
     "text": [
      "\n",
      "12/16 avg epoch loss: 0.99885\n"
     ]
    },
    {
     "name": "stdout",
     "output_type": "stream",
     "text": [
      "14/16 avg epoch loss: 0.93916\n"
     ]
    },
    {
     "name": "stdout",
     "output_type": "stream",
     "text": [
      "\n",
      "----EPOCH 9----"
     ]
    },
    {
     "name": "stdout",
     "output_type": "stream",
     "text": [
      "\n",
      "0/16 avg epoch loss: 0.36588"
     ]
    },
    {
     "name": "stdout",
     "output_type": "stream",
     "text": [
      "\n",
      "2/16 avg epoch loss: 0.95052\n"
     ]
    },
    {
     "name": "stdout",
     "output_type": "stream",
     "text": [
      "4/16 avg epoch loss: 0.73089\n"
     ]
    },
    {
     "name": "stdout",
     "output_type": "stream",
     "text": [
      "6/16 avg epoch loss: "
     ]
    },
    {
     "name": "stdout",
     "output_type": "stream",
     "text": [
      "0.69293\n",
      "8/16 avg epoch loss: 0.75291\n"
     ]
    },
    {
     "name": "stdout",
     "output_type": "stream",
     "text": [
      "10/16 avg epoch loss: 0.67894\n"
     ]
    },
    {
     "name": "stdout",
     "output_type": "stream",
     "text": [
      "12/16 avg epoch loss: 0.86473\n"
     ]
    },
    {
     "name": "stdout",
     "output_type": "stream",
     "text": [
      "14/16 avg epoch loss: 0.83403\n"
     ]
    },
    {
     "name": "stdout",
     "output_type": "stream",
     "text": [
      "\n",
      "----EPOCH 10----\n"
     ]
    },
    {
     "name": "stdout",
     "output_type": "stream",
     "text": [
      "0/16 avg epoch loss: 0.41806"
     ]
    },
    {
     "name": "stdout",
     "output_type": "stream",
     "text": [
      "\n",
      "2/16 avg epoch loss: 0.54152"
     ]
    },
    {
     "name": "stdout",
     "output_type": "stream",
     "text": [
      "\n",
      "4/16 avg epoch loss: 0.4338"
     ]
    },
    {
     "name": "stdout",
     "output_type": "stream",
     "text": [
      "\n",
      "6/16 avg epoch loss: 0.4626\n"
     ]
    },
    {
     "name": "stdout",
     "output_type": "stream",
     "text": [
      "8/16 avg epoch loss: 0.55661"
     ]
    },
    {
     "name": "stdout",
     "output_type": "stream",
     "text": [
      "\n",
      "10/16 avg epoch loss: 0.55137\n"
     ]
    },
    {
     "name": "stdout",
     "output_type": "stream",
     "text": [
      "12/16 avg epoch loss: 0.48408"
     ]
    },
    {
     "name": "stdout",
     "output_type": "stream",
     "text": [
      "\n",
      "14/16 avg epoch loss: 0.46503"
     ]
    },
    {
     "name": "stdout",
     "output_type": "stream",
     "text": [
      "\n",
      "\n",
      "Training finished!"
     ]
    },
    {
     "name": "stdout",
     "output_type": "stream",
     "text": [
      "\n"
     ]
    },
    {
     "data": {
      "image/png": "[encoded data removed]",
      "image/svg+xml": [
       "<?xml version=\"1.0\" encoding=\"utf-8\"?>\n",
       "<svg xmlns=\"http://www.w3.org/2000/svg\" xmlns:xlink=\"http://www.w3.org/1999/xlink\" width=\"600\" height=\"400\" viewBox=\"0 0 2400 1600\">\n",
       "<defs>\n",
       "  <clipPath id=\"clip550\">\n",
       "    <rect x=\"0\" y=\"0\" width=\"2400\" height=\"1600\"/>\n",
       "  </clipPath>\n",
       "</defs>\n",
       "<path clip-path=\"url(#clip550)\" d=\"M0 1600 L2400 1600 L2400 0 L0 0  Z\" fill=\"#ffffff\" fill-rule=\"evenodd\" fill-opacity=\"1\"/>\n",
       "<defs>\n",
       "  <clipPath id=\"clip551\">\n",
       "    <rect x=\"480\" y=\"0\" width=\"1681\" height=\"1600\"/>\n",
       "  </clipPath>\n",
       "</defs>\n",
       "<path clip-path=\"url(#clip550)\" d=\"M169.121 1486.45 L2352.76 1486.45 L2352.76 47.2441 L169.121 47.2441  Z\" fill=\"#ffffff\" fill-rule=\"evenodd\" fill-opacity=\"1\"/>\n",
       "<defs>\n",
       "  <clipPath id=\"clip552\">\n",
       "    <rect x=\"169\" y=\"47\" width=\"2185\" height=\"1440\"/>\n",
       "  </clipPath>\n",
       "</defs>\n",
       "<polyline clip-path=\"url(#clip552)\" style=\"stroke:#000000; stroke-linecap:round; stroke-linejoin:round; stroke-width:2; stroke-opacity:0.1; fill:none\" points=\"204.846,1486.45 204.846,47.2441 \"/>\n",
       "<polyline clip-path=\"url(#clip552)\" style=\"stroke:#000000; stroke-linecap:round; stroke-linejoin:round; stroke-width:2; stroke-opacity:0.1; fill:none\" points=\"726.373,1486.45 726.373,47.2441 \"/>\n",
       "<polyline clip-path=\"url(#clip552)\" style=\"stroke:#000000; stroke-linecap:round; stroke-linejoin:round; stroke-width:2; stroke-opacity:0.1; fill:none\" points=\"1247.9,1486.45 1247.9,47.2441 \"/>\n",
       "<polyline clip-path=\"url(#clip552)\" style=\"stroke:#000000; stroke-linecap:round; stroke-linejoin:round; stroke-width:2; stroke-opacity:0.1; fill:none\" points=\"1769.43,1486.45 1769.43,47.2441 \"/>\n",
       "<polyline clip-path=\"url(#clip552)\" style=\"stroke:#000000; stroke-linecap:round; stroke-linejoin:round; stroke-width:2; stroke-opacity:0.1; fill:none\" points=\"2290.95,1486.45 2290.95,47.2441 \"/>\n",
       "<polyline clip-path=\"url(#clip550)\" style=\"stroke:#000000; stroke-linecap:round; stroke-linejoin:round; stroke-width:4; stroke-opacity:1; fill:none\" points=\"169.121,1486.45 2352.76,1486.45 \"/>\n",
       "<polyline clip-path=\"url(#clip550)\" style=\"stroke:#000000; stroke-linecap:round; stroke-linejoin:round; stroke-width:4; stroke-opacity:1; fill:none\" points=\"204.846,1486.45 204.846,1467.55 \"/>\n",
       "<polyline clip-path=\"url(#clip550)\" style=\"stroke:#000000; stroke-linecap:round; stroke-linejoin:round; stroke-width:4; stroke-opacity:1; fill:none\" points=\"726.373,1486.45 726.373,1467.55 \"/>\n",
       "<polyline clip-path=\"url(#clip550)\" style=\"stroke:#000000; stroke-linecap:round; stroke-linejoin:round; stroke-width:4; stroke-opacity:1; fill:none\" points=\"1247.9,1486.45 1247.9,1467.55 \"/>\n",
       "<polyline clip-path=\"url(#clip550)\" style=\"stroke:#000000; stroke-linecap:round; stroke-linejoin:round; stroke-width:4; stroke-opacity:1; fill:none\" points=\"1769.43,1486.45 1769.43,1467.55 \"/>\n",
       "<polyline clip-path=\"url(#clip550)\" style=\"stroke:#000000; stroke-linecap:round; stroke-linejoin:round; stroke-width:4; stroke-opacity:1; fill:none\" points=\"2290.95,1486.45 2290.95,1467.55 \"/>\n",
       "<path clip-path=\"url(#clip550)\" d=\"M204.846 1517.37 Q201.235 1517.37 199.406 1520.93 Q197.601 1524.47 197.601 1531.6 Q197.601 1538.71 199.406 1542.27 Q201.235 1545.82 204.846 1545.82 Q208.48 1545.82 210.286 1542.27 Q212.114 1538.71 212.114 1531.6 Q212.114 1524.47 210.286 1520.93 Q208.48 1517.37 204.846 1517.37 M204.846 1513.66 Q210.656 1513.66 213.712 1518.27 Q216.79 1522.85 216.79 1531.6 Q216.79 1540.33 213.712 1544.94 Q210.656 1549.52 204.846 1549.52 Q199.036 1549.52 195.957 1544.94 Q192.902 1540.33 192.902 1531.6 Q192.902 1522.85 195.957 1518.27 Q199.036 1513.66 204.846 1513.66 Z\" fill=\"#000000\" fill-rule=\"nonzero\" fill-opacity=\"1\" /><path clip-path=\"url(#clip550)\" d=\"M705.146 1544.91 L721.466 1544.91 L721.466 1548.85 L699.521 1548.85 L699.521 1544.91 Q702.183 1542.16 706.767 1537.53 Q711.373 1532.88 712.554 1531.53 Q714.799 1529.01 715.679 1527.27 Q716.582 1525.51 716.582 1523.82 Q716.582 1521.07 714.637 1519.33 Q712.716 1517.6 709.614 1517.6 Q707.415 1517.6 704.961 1518.36 Q702.531 1519.13 699.753 1520.68 L699.753 1515.95 Q702.577 1514.82 705.031 1514.24 Q707.484 1513.66 709.521 1513.66 Q714.892 1513.66 718.086 1516.35 Q721.281 1519.03 721.281 1523.52 Q721.281 1525.65 720.47 1527.57 Q719.683 1529.47 717.577 1532.07 Q716.998 1532.74 713.896 1535.95 Q710.795 1539.15 705.146 1544.91 Z\" fill=\"#000000\" fill-rule=\"nonzero\" fill-opacity=\"1\" /><path clip-path=\"url(#clip550)\" d=\"M741.281 1517.37 Q737.669 1517.37 735.841 1520.93 Q734.035 1524.47 734.035 1531.6 Q734.035 1538.71 735.841 1542.27 Q737.669 1545.82 741.281 1545.82 Q744.915 1545.82 746.72 1542.27 Q748.549 1538.71 748.549 1531.6 Q748.549 1524.47 746.72 1520.93 Q744.915 1517.37 741.281 1517.37 M741.281 1513.66 Q747.091 1513.66 750.146 1518.27 Q753.225 1522.85 753.225 1531.6 Q753.225 1540.33 750.146 1544.94 Q747.091 1549.52 741.281 1549.52 Q735.47 1549.52 732.392 1544.94 Q729.336 1540.33 729.336 1531.6 Q729.336 1522.85 732.392 1518.27 Q735.47 1513.66 741.281 1513.66 Z\" fill=\"#000000\" fill-rule=\"nonzero\" fill-opacity=\"1\" /><path clip-path=\"url(#clip550)\" d=\"M1236.07 1518.36 L1224.27 1536.81 L1236.07 1536.81 L1236.07 1518.36 M1234.84 1514.29 L1240.72 1514.29 L1240.72 1536.81 L1245.66 1536.81 L1245.66 1540.7 L1240.72 1540.7 L1240.72 1548.85 L1236.07 1548.85 L1236.07 1540.7 L1220.47 1540.7 L1220.47 1536.19 L1234.84 1514.29 Z\" fill=\"#000000\" fill-rule=\"nonzero\" fill-opacity=\"1\" /><path clip-path=\"url(#clip550)\" d=\"M1263.39 1517.37 Q1259.78 1517.37 1257.95 1520.93 Q1256.14 1524.47 1256.14 1531.6 Q1256.14 1538.71 1257.95 1542.27 Q1259.78 1545.82 1263.39 1545.82 Q1267.02 1545.82 1268.83 1542.27 Q1270.65 1538.71 1270.65 1531.6 Q1270.65 1524.47 1268.83 1520.93 Q1267.02 1517.37 1263.39 1517.37 M1263.39 1513.66 Q1269.2 1513.66 1272.25 1518.27 Q1275.33 1522.85 1275.33 1531.6 Q1275.33 1540.33 1272.25 1544.94 Q1269.2 1549.52 1263.39 1549.52 Q1257.58 1549.52 1254.5 1544.94 Q1251.44 1540.33 1251.44 1531.6 Q1251.44 1522.85 1254.5 1518.27 Q1257.58 1513.66 1263.39 1513.66 Z\" fill=\"#000000\" fill-rule=\"nonzero\" fill-opacity=\"1\" /><path clip-path=\"url(#clip550)\" d=\"M1754.83 1529.7 Q1751.68 1529.7 1749.83 1531.86 Q1748 1534.01 1748 1537.76 Q1748 1541.49 1749.83 1543.66 Q1751.68 1545.82 1754.83 1545.82 Q1757.98 1545.82 1759.81 1543.66 Q1761.66 1541.49 1761.66 1537.76 Q1761.66 1534.01 1759.81 1531.86 Q1757.98 1529.7 1754.83 1529.7 M1764.12 1515.05 L1764.12 1519.31 Q1762.36 1518.48 1760.55 1518.04 Q1758.77 1517.6 1757.01 1517.6 Q1752.38 1517.6 1749.93 1520.72 Q1747.49 1523.85 1747.15 1530.17 Q1748.51 1528.15 1750.57 1527.09 Q1752.63 1526 1755.11 1526 Q1760.32 1526 1763.33 1529.17 Q1766.36 1532.32 1766.36 1537.76 Q1766.36 1543.08 1763.21 1546.3 Q1760.06 1549.52 1754.83 1549.52 Q1748.84 1549.52 1745.67 1544.94 Q1742.49 1540.33 1742.49 1531.6 Q1742.49 1523.41 1746.38 1518.55 Q1750.27 1513.66 1756.82 1513.66 Q1758.58 1513.66 1760.37 1514.01 Q1762.17 1514.36 1764.12 1515.05 Z\" fill=\"#000000\" fill-rule=\"nonzero\" fill-opacity=\"1\" /><path clip-path=\"url(#clip550)\" d=\"M1784.42 1517.37 Q1780.8 1517.37 1778.98 1520.93 Q1777.17 1524.47 1777.17 1531.6 Q1777.17 1538.71 1778.98 1542.27 Q1780.8 1545.82 1784.42 1545.82 Q1788.05 1545.82 1789.86 1542.27 Q1791.68 1538.71 1791.68 1531.6 Q1791.68 1524.47 1789.86 1520.93 Q1788.05 1517.37 1784.42 1517.37 M1784.42 1513.66 Q1790.23 1513.66 1793.28 1518.27 Q1796.36 1522.85 1796.36 1531.6 Q1796.36 1540.33 1793.28 1544.94 Q1790.23 1549.52 1784.42 1549.52 Q1778.61 1549.52 1775.53 1544.94 Q1772.47 1540.33 1772.47 1531.6 Q1772.47 1522.85 1775.53 1518.27 Q1778.61 1513.66 1784.42 1513.66 Z\" fill=\"#000000\" fill-rule=\"nonzero\" fill-opacity=\"1\" /><path clip-path=\"url(#clip550)\" d=\"M2275.83 1532.44 Q2272.49 1532.44 2270.57 1534.22 Q2268.67 1536 2268.67 1539.13 Q2268.67 1542.25 2270.57 1544.03 Q2272.49 1545.82 2275.83 1545.82 Q2279.16 1545.82 2281.08 1544.03 Q2283 1542.23 2283 1539.13 Q2283 1536 2281.08 1534.22 Q2279.18 1532.44 2275.83 1532.44 M2271.15 1530.45 Q2268.14 1529.7 2266.45 1527.64 Q2264.79 1525.58 2264.79 1522.62 Q2264.79 1518.48 2267.73 1516.07 Q2270.69 1513.66 2275.83 1513.66 Q2280.99 1513.66 2283.93 1516.07 Q2286.87 1518.48 2286.87 1522.62 Q2286.87 1525.58 2285.18 1527.64 Q2283.51 1529.7 2280.53 1530.45 Q2283.91 1531.23 2285.78 1533.52 Q2287.68 1535.82 2287.68 1539.13 Q2287.68 1544.15 2284.6 1546.83 Q2281.55 1549.52 2275.83 1549.52 Q2270.11 1549.52 2267.03 1546.83 Q2263.98 1544.15 2263.98 1539.13 Q2263.98 1535.82 2265.87 1533.52 Q2267.77 1531.23 2271.15 1530.45 M2269.44 1523.06 Q2269.44 1525.75 2271.11 1527.25 Q2272.8 1528.76 2275.83 1528.76 Q2278.84 1528.76 2280.53 1527.25 Q2282.24 1525.75 2282.24 1523.06 Q2282.24 1520.38 2280.53 1518.87 Q2278.84 1517.37 2275.83 1517.37 Q2272.8 1517.37 2271.11 1518.87 Q2269.44 1520.38 2269.44 1523.06 Z\" fill=\"#000000\" fill-rule=\"nonzero\" fill-opacity=\"1\" /><path clip-path=\"url(#clip550)\" d=\"M2305.99 1517.37 Q2302.38 1517.37 2300.55 1520.93 Q2298.74 1524.47 2298.74 1531.6 Q2298.74 1538.71 2300.55 1542.27 Q2302.38 1545.82 2305.99 1545.82 Q2309.62 1545.82 2311.43 1542.27 Q2313.26 1538.71 2313.26 1531.6 Q2313.26 1524.47 2311.43 1520.93 Q2309.62 1517.37 2305.99 1517.37 M2305.99 1513.66 Q2311.8 1513.66 2314.86 1518.27 Q2317.93 1522.85 2317.93 1531.6 Q2317.93 1540.33 2314.86 1544.94 Q2311.8 1549.52 2305.99 1549.52 Q2300.18 1549.52 2297.1 1544.94 Q2294.05 1540.33 2294.05 1531.6 Q2294.05 1522.85 2297.1 1518.27 Q2300.18 1513.66 2305.99 1513.66 Z\" fill=\"#000000\" fill-rule=\"nonzero\" fill-opacity=\"1\" /><polyline clip-path=\"url(#clip552)\" style=\"stroke:#000000; stroke-linecap:round; stroke-linejoin:round; stroke-width:2; stroke-opacity:0.1; fill:none\" points=\"169.121,1449.03 2352.76,1449.03 \"/>\n",
       "<polyline clip-path=\"url(#clip552)\" style=\"stroke:#000000; stroke-linecap:round; stroke-linejoin:round; stroke-width:2; stroke-opacity:0.1; fill:none\" points=\"169.121,996.691 2352.76,996.691 \"/>\n",
       "<polyline clip-path=\"url(#clip552)\" style=\"stroke:#000000; stroke-linecap:round; stroke-linejoin:round; stroke-width:2; stroke-opacity:0.1; fill:none\" points=\"169.121,544.356 2352.76,544.356 \"/>\n",
       "<polyline clip-path=\"url(#clip552)\" style=\"stroke:#000000; stroke-linecap:round; stroke-linejoin:round; stroke-width:2; stroke-opacity:0.1; fill:none\" points=\"169.121,92.0209 2352.76,92.0209 \"/>\n",
       "<polyline clip-path=\"url(#clip550)\" style=\"stroke:#000000; stroke-linecap:round; stroke-linejoin:round; stroke-width:4; stroke-opacity:1; fill:none\" points=\"169.121,1486.45 169.121,47.2441 \"/>\n",
       "<polyline clip-path=\"url(#clip550)\" style=\"stroke:#000000; stroke-linecap:round; stroke-linejoin:round; stroke-width:4; stroke-opacity:1; fill:none\" points=\"169.121,1449.03 188.019,1449.03 \"/>\n",
       "<polyline clip-path=\"url(#clip550)\" style=\"stroke:#000000; stroke-linecap:round; stroke-linejoin:round; stroke-width:4; stroke-opacity:1; fill:none\" points=\"169.121,996.691 188.019,996.691 \"/>\n",
       "<polyline clip-path=\"url(#clip550)\" style=\"stroke:#000000; stroke-linecap:round; stroke-linejoin:round; stroke-width:4; stroke-opacity:1; fill:none\" points=\"169.121,544.356 188.019,544.356 \"/>\n",
       "<polyline clip-path=\"url(#clip550)\" style=\"stroke:#000000; stroke-linecap:round; stroke-linejoin:round; stroke-width:4; stroke-opacity:1; fill:none\" points=\"169.121,92.0209 188.019,92.0209 \"/>\n",
       "<path clip-path=\"url(#clip550)\" d=\"M121.177 1434.82 Q117.566 1434.82 115.737 1438.39 Q113.932 1441.93 113.932 1449.06 Q113.932 1456.17 115.737 1459.73 Q117.566 1463.27 121.177 1463.27 Q124.811 1463.27 126.617 1459.73 Q128.445 1456.17 128.445 1449.06 Q128.445 1441.93 126.617 1438.39 Q124.811 1434.82 121.177 1434.82 M121.177 1431.12 Q126.987 1431.12 130.043 1435.73 Q133.121 1440.31 133.121 1449.06 Q133.121 1457.79 130.043 1462.39 Q126.987 1466.98 121.177 1466.98 Q115.367 1466.98 112.288 1462.39 Q109.233 1457.79 109.233 1449.06 Q109.233 1440.31 112.288 1435.73 Q115.367 1431.12 121.177 1431.12 Z\" fill=\"#000000\" fill-rule=\"nonzero\" fill-opacity=\"1\" /><path clip-path=\"url(#clip550)\" d=\"M81.0614 979.411 L99.4178 979.411 L99.4178 983.346 L85.3438 983.346 L85.3438 991.818 Q86.3623 991.471 87.3808 991.309 Q88.3993 991.124 89.4178 991.124 Q95.2049 991.124 98.5845 994.295 Q101.964 997.466 101.964 1002.88 Q101.964 1008.46 98.4919 1011.56 Q95.0197 1014.64 88.7003 1014.64 Q86.5243 1014.64 84.2558 1014.27 Q82.0105 1013.9 79.6031 1013.16 L79.6031 1008.46 Q81.6864 1009.6 83.9086 1010.15 Q86.1308 1010.71 88.6077 1010.71 Q92.6123 1010.71 94.9502 1008.6 Q97.2882 1006.49 97.2882 1002.88 Q97.2882 999.272 94.9502 997.165 Q92.6123 995.059 88.6077 995.059 Q86.7327 995.059 84.8577 995.475 Q83.0058 995.892 81.0614 996.772 L81.0614 979.411 Z\" fill=\"#000000\" fill-rule=\"nonzero\" fill-opacity=\"1\" /><path clip-path=\"url(#clip550)\" d=\"M121.177 982.489 Q117.566 982.489 115.737 986.054 Q113.932 989.596 113.932 996.725 Q113.932 1003.83 115.737 1007.4 Q117.566 1010.94 121.177 1010.94 Q124.811 1010.94 126.617 1007.4 Q128.445 1003.83 128.445 996.725 Q128.445 989.596 126.617 986.054 Q124.811 982.489 121.177 982.489 M121.177 978.786 Q126.987 978.786 130.043 983.392 Q133.121 987.975 133.121 996.725 Q133.121 1005.45 130.043 1010.06 Q126.987 1014.64 121.177 1014.64 Q115.367 1014.64 112.288 1010.06 Q109.233 1005.45 109.233 996.725 Q109.233 987.975 112.288 983.392 Q115.367 978.786 121.177 978.786 Z\" fill=\"#000000\" fill-rule=\"nonzero\" fill-opacity=\"1\" /><path clip-path=\"url(#clip550)\" d=\"M51.6634 557.701 L59.3023 557.701 L59.3023 531.335 L50.9921 533.002 L50.9921 528.742 L59.256 527.076 L63.9319 527.076 L63.9319 557.701 L71.5707 557.701 L71.5707 561.636 L51.6634 561.636 L51.6634 557.701 Z\" fill=\"#000000\" fill-rule=\"nonzero\" fill-opacity=\"1\" /><path clip-path=\"url(#clip550)\" d=\"M91.0151 530.154 Q87.404 530.154 85.5753 533.719 Q83.7697 537.261 83.7697 544.391 Q83.7697 551.497 85.5753 555.062 Q87.404 558.603 91.0151 558.603 Q94.6493 558.603 96.4548 555.062 Q98.2835 551.497 98.2835 544.391 Q98.2835 537.261 96.4548 533.719 Q94.6493 530.154 91.0151 530.154 M91.0151 526.451 Q96.8252 526.451 99.8808 531.057 Q102.959 535.641 102.959 544.391 Q102.959 553.117 99.8808 557.724 Q96.8252 562.307 91.0151 562.307 Q85.2049 562.307 82.1262 557.724 Q79.0707 553.117 79.0707 544.391 Q79.0707 535.641 82.1262 531.057 Q85.2049 526.451 91.0151 526.451 Z\" fill=\"#000000\" fill-rule=\"nonzero\" fill-opacity=\"1\" /><path clip-path=\"url(#clip550)\" d=\"M121.177 530.154 Q117.566 530.154 115.737 533.719 Q113.932 537.261 113.932 544.391 Q113.932 551.497 115.737 555.062 Q117.566 558.603 121.177 558.603 Q124.811 558.603 126.617 555.062 Q128.445 551.497 128.445 544.391 Q128.445 537.261 126.617 533.719 Q124.811 530.154 121.177 530.154 M121.177 526.451 Q126.987 526.451 130.043 531.057 Q133.121 535.641 133.121 544.391 Q133.121 553.117 130.043 557.724 Q126.987 562.307 121.177 562.307 Q115.367 562.307 112.288 557.724 Q109.233 553.117 109.233 544.391 Q109.233 535.641 112.288 531.057 Q115.367 526.451 121.177 526.451 Z\" fill=\"#000000\" fill-rule=\"nonzero\" fill-opacity=\"1\" /><path clip-path=\"url(#clip550)\" d=\"M51.6634 105.366 L59.3023 105.366 L59.3023 79.0001 L50.9921 80.6668 L50.9921 76.4075 L59.256 74.7409 L63.9319 74.7409 L63.9319 105.366 L71.5707 105.366 L71.5707 109.301 L51.6634 109.301 L51.6634 105.366 Z\" fill=\"#000000\" fill-rule=\"nonzero\" fill-opacity=\"1\" /><path clip-path=\"url(#clip550)\" d=\"M81.0614 74.7409 L99.4178 74.7409 L99.4178 78.676 L85.3438 78.676 L85.3438 87.1482 Q86.3623 86.801 87.3808 86.6389 Q88.3993 86.4538 89.4178 86.4538 Q95.2049 86.4538 98.5845 89.625 Q101.964 92.7963 101.964 98.213 Q101.964 103.792 98.4919 106.893 Q95.0197 109.972 88.7003 109.972 Q86.5243 109.972 84.2558 109.602 Q82.0105 109.231 79.6031 108.491 L79.6031 103.792 Q81.6864 104.926 83.9086 105.481 Q86.1308 106.037 88.6077 106.037 Q92.6123 106.037 94.9502 103.931 Q97.2882 101.824 97.2882 98.213 Q97.2882 94.6019 94.9502 92.4954 Q92.6123 90.3889 88.6077 90.3889 Q86.7327 90.3889 84.8577 90.8056 Q83.0058 91.2222 81.0614 92.1019 L81.0614 74.7409 Z\" fill=\"#000000\" fill-rule=\"nonzero\" fill-opacity=\"1\" /><path clip-path=\"url(#clip550)\" d=\"M121.177 77.8195 Q117.566 77.8195 115.737 81.3843 Q113.932 84.926 113.932 92.0556 Q113.932 99.162 115.737 102.727 Q117.566 106.268 121.177 106.268 Q124.811 106.268 126.617 102.727 Q128.445 99.162 128.445 92.0556 Q128.445 84.926 126.617 81.3843 Q124.811 77.8195 121.177 77.8195 M121.177 74.1159 Q126.987 74.1159 130.043 78.7223 Q133.121 83.3056 133.121 92.0556 Q133.121 100.782 130.043 105.389 Q126.987 109.972 121.177 109.972 Q115.367 109.972 112.288 105.389 Q109.233 100.782 109.233 92.0556 Q109.233 83.3056 112.288 78.7223 Q115.367 74.1159 121.177 74.1159 Z\" fill=\"#000000\" fill-rule=\"nonzero\" fill-opacity=\"1\" /><polyline clip-path=\"url(#clip552)\" style=\"stroke:#009af9; stroke-linecap:round; stroke-linejoin:round; stroke-width:4; stroke-opacity:1; fill:none\" points=\"230.922,87.9763 256.999,163.575 283.075,230.004 309.151,269.903 335.228,386.337 361.304,477.869 387.38,526.412 413.457,591.35 439.533,1236.36 465.61,1152.47 491.686,1192.32 517.762,1205.33 543.839,1201.25 569.915,1186.17 595.991,1202.1 622.068,1205.93 648.144,1305.25 674.22,1329.56 700.297,1337.42 726.373,1351.86 752.45,1343.18 778.526,1346.49 804.602,1340.47 830.679,1336.52 856.755,1389.43 882.831,1383.2 908.908,1375.31 934.984,1369.71 961.06,1375.8 987.137,1379.71 1013.21,1381.66 1039.29,1386.71 1065.37,1421.62 1091.44,1414.12 1117.52,1379.76 1143.59,1388.69 1169.67,1399.31 1195.75,1399.97 1221.82,1405.39 1247.9,1407.34 1273.98,1442.02 1300.05,1436.4 1326.13,1436.52 1352.21,1431.66 1378.28,1429.74 1404.36,1431.97 1430.43,1429.37 1456.51,1425.79 1482.59,1443.75 1508.66,1439.62 1534.74,1435.7 1560.82,1435.98 1586.89,1436.61 1612.97,1435.06 1639.05,1435.69 1665.12,1434.33 1691.2,1438.66 1717.27,1439.3 1743.35,1436.49 1769.43,1437.98 1795.5,1439.4 1821.58,1439.72 1847.66,1439.99 1873.73,1440.53 1899.81,1445.72 1925.89,1440.43 1951.96,1442.41 1978.04,1442.76 2004.11,1442.21 2030.19,1442.88 2056.27,1441.2 2082.34,1441.48 2108.42,1445.24 2134.5,1444.13 2160.57,1445.1 2186.65,1444.84 2212.73,1443.99 2238.8,1444.04 2264.88,1444.65 2290.95,1444.82 \"/>\n",
       "<circle clip-path=\"url(#clip552)\" cx=\"413.457\" cy=\"591.35\" r=\"14.4\" fill=\"#e26f46\" fill-rule=\"evenodd\" fill-opacity=\"1\" stroke=\"#000000\" stroke-opacity=\"1\" stroke-width=\"3.2\"/>\n",
       "<circle clip-path=\"url(#clip552)\" cx=\"622.068\" cy=\"1205.93\" r=\"14.4\" fill=\"#e26f46\" fill-rule=\"evenodd\" fill-opacity=\"1\" stroke=\"#000000\" stroke-opacity=\"1\" stroke-width=\"3.2\"/>\n",
       "<circle clip-path=\"url(#clip552)\" cx=\"830.679\" cy=\"1336.52\" r=\"14.4\" fill=\"#e26f46\" fill-rule=\"evenodd\" fill-opacity=\"1\" stroke=\"#000000\" stroke-opacity=\"1\" stroke-width=\"3.2\"/>\n",
       "<circle clip-path=\"url(#clip552)\" cx=\"1039.29\" cy=\"1386.71\" r=\"14.4\" fill=\"#e26f46\" fill-rule=\"evenodd\" fill-opacity=\"1\" stroke=\"#000000\" stroke-opacity=\"1\" stroke-width=\"3.2\"/>\n",
       "<circle clip-path=\"url(#clip552)\" cx=\"1247.9\" cy=\"1407.34\" r=\"14.4\" fill=\"#e26f46\" fill-rule=\"evenodd\" fill-opacity=\"1\" stroke=\"#000000\" stroke-opacity=\"1\" stroke-width=\"3.2\"/>\n",
       "<circle clip-path=\"url(#clip552)\" cx=\"1456.51\" cy=\"1425.79\" r=\"14.4\" fill=\"#e26f46\" fill-rule=\"evenodd\" fill-opacity=\"1\" stroke=\"#000000\" stroke-opacity=\"1\" stroke-width=\"3.2\"/>\n",
       "<circle clip-path=\"url(#clip552)\" cx=\"1665.12\" cy=\"1434.33\" r=\"14.4\" fill=\"#e26f46\" fill-rule=\"evenodd\" fill-opacity=\"1\" stroke=\"#000000\" stroke-opacity=\"1\" stroke-width=\"3.2\"/>\n",
       "<circle clip-path=\"url(#clip552)\" cx=\"1873.73\" cy=\"1440.53\" r=\"14.4\" fill=\"#e26f46\" fill-rule=\"evenodd\" fill-opacity=\"1\" stroke=\"#000000\" stroke-opacity=\"1\" stroke-width=\"3.2\"/>\n",
       "<circle clip-path=\"url(#clip552)\" cx=\"2082.34\" cy=\"1441.48\" r=\"14.4\" fill=\"#e26f46\" fill-rule=\"evenodd\" fill-opacity=\"1\" stroke=\"#000000\" stroke-opacity=\"1\" stroke-width=\"3.2\"/>\n",
       "<circle clip-path=\"url(#clip552)\" cx=\"2290.95\" cy=\"1444.82\" r=\"14.4\" fill=\"#e26f46\" fill-rule=\"evenodd\" fill-opacity=\"1\" stroke=\"#000000\" stroke-opacity=\"1\" stroke-width=\"3.2\"/>\n",
       "<path clip-path=\"url(#clip550)\" d=\"M1765.4 250.738 L2279.97 250.738 L2279.97 95.2176 L1765.4 95.2176  Z\" fill=\"#ffffff\" fill-rule=\"evenodd\" fill-opacity=\"1\"/>\n",
       "<polyline clip-path=\"url(#clip550)\" style=\"stroke:#000000; stroke-linecap:round; stroke-linejoin:round; stroke-width:4; stroke-opacity:1; fill:none\" points=\"1765.4,250.738 2279.97,250.738 2279.97,95.2176 1765.4,95.2176 1765.4,250.738 \"/>\n",
       "<polyline clip-path=\"url(#clip550)\" style=\"stroke:#009af9; stroke-linecap:round; stroke-linejoin:round; stroke-width:4; stroke-opacity:1; fill:none\" points=\"1789.67,147.058 1935.24,147.058 \"/>\n",
       "<path clip-path=\"url(#clip550)\" d=\"M1959.5 128.319 L1963.76 128.319 L1963.76 164.338 L1959.5 164.338 L1959.5 128.319 Z\" fill=\"#000000\" fill-rule=\"nonzero\" fill-opacity=\"1\" /><path clip-path=\"url(#clip550)\" d=\"M1982.72 141.398 Q1979.29 141.398 1977.3 144.083 Q1975.31 146.745 1975.31 151.398 Q1975.31 156.051 1977.28 158.736 Q1979.27 161.398 1982.72 161.398 Q1986.12 161.398 1988.11 158.713 Q1990.11 156.027 1990.11 151.398 Q1990.11 146.791 1988.11 144.106 Q1986.12 141.398 1982.72 141.398 M1982.72 137.787 Q1988.28 137.787 1991.45 141.398 Q1994.62 145.009 1994.62 151.398 Q1994.62 157.764 1991.45 161.398 Q1988.28 165.009 1982.72 165.009 Q1977.14 165.009 1973.97 161.398 Q1970.82 157.764 1970.82 151.398 Q1970.82 145.009 1973.97 141.398 Q1977.14 137.787 1982.72 137.787 Z\" fill=\"#000000\" fill-rule=\"nonzero\" fill-opacity=\"1\" /><path clip-path=\"url(#clip550)\" d=\"M2018.21 139.176 L2018.21 143.203 Q2016.4 142.277 2014.46 141.815 Q2012.51 141.352 2010.43 141.352 Q2007.26 141.352 2005.66 142.324 Q2004.09 143.296 2004.09 145.24 Q2004.09 146.722 2005.22 147.578 Q2006.35 148.412 2009.78 149.176 L2011.24 149.5 Q2015.78 150.472 2017.67 152.254 Q2019.6 154.014 2019.6 157.185 Q2019.6 160.796 2016.73 162.902 Q2013.88 165.009 2008.88 165.009 Q2006.79 165.009 2004.53 164.592 Q2002.28 164.199 1999.78 163.388 L1999.78 158.99 Q2002.14 160.217 2004.43 160.842 Q2006.73 161.444 2008.97 161.444 Q2011.98 161.444 2013.6 160.426 Q2015.22 159.384 2015.22 157.509 Q2015.22 155.773 2014.04 154.847 Q2012.88 153.921 2008.92 153.064 L2007.44 152.717 Q2003.48 151.884 2001.73 150.171 Q1999.97 148.435 1999.97 145.426 Q1999.97 141.768 2002.56 139.778 Q2005.15 137.787 2009.92 137.787 Q2012.28 137.787 2014.36 138.134 Q2016.45 138.481 2018.21 139.176 Z\" fill=\"#000000\" fill-rule=\"nonzero\" fill-opacity=\"1\" /><path clip-path=\"url(#clip550)\" d=\"M2042.91 139.176 L2042.91 143.203 Q2041.1 142.277 2039.16 141.815 Q2037.21 141.352 2035.13 141.352 Q2031.96 141.352 2030.36 142.324 Q2028.79 143.296 2028.79 145.24 Q2028.79 146.722 2029.92 147.578 Q2031.05 148.412 2034.48 149.176 L2035.94 149.5 Q2040.48 150.472 2042.37 152.254 Q2044.29 154.014 2044.29 157.185 Q2044.29 160.796 2041.42 162.902 Q2038.58 165.009 2033.58 165.009 Q2031.49 165.009 2029.23 164.592 Q2026.98 164.199 2024.48 163.388 L2024.48 158.99 Q2026.84 160.217 2029.13 160.842 Q2031.42 161.444 2033.67 161.444 Q2036.68 161.444 2038.3 160.426 Q2039.92 159.384 2039.92 157.509 Q2039.92 155.773 2038.74 154.847 Q2037.58 153.921 2033.62 153.064 L2032.14 152.717 Q2028.18 151.884 2026.42 150.171 Q2024.67 148.435 2024.67 145.426 Q2024.67 141.768 2027.26 139.778 Q2029.85 137.787 2034.62 137.787 Q2036.98 137.787 2039.06 138.134 Q2041.15 138.481 2042.91 139.176 Z\" fill=\"#000000\" fill-rule=\"nonzero\" fill-opacity=\"1\" /><path clip-path=\"url(#clip550)\" d=\"M2070.78 172.208 L2070.78 175.518 L2046.15 175.518 L2046.15 172.208 L2070.78 172.208 Z\" fill=\"#000000\" fill-rule=\"nonzero\" fill-opacity=\"1\" /><path clip-path=\"url(#clip550)\" d=\"M2093.39 151.398 Q2093.39 146.699 2091.45 144.037 Q2089.53 141.352 2086.15 141.352 Q2082.77 141.352 2080.82 144.037 Q2078.9 146.699 2078.9 151.398 Q2078.9 156.097 2080.82 158.782 Q2082.77 161.444 2086.15 161.444 Q2089.53 161.444 2091.45 158.782 Q2093.39 156.097 2093.39 151.398 M2078.9 142.347 Q2080.24 140.032 2082.28 138.921 Q2084.34 137.787 2087.19 137.787 Q2091.91 137.787 2094.85 141.537 Q2097.81 145.287 2097.81 151.398 Q2097.81 157.509 2094.85 161.259 Q2091.91 165.009 2087.19 165.009 Q2084.34 165.009 2082.28 163.898 Q2080.24 162.763 2078.9 160.449 L2078.9 164.338 L2074.62 164.338 L2074.62 128.319 L2078.9 128.319 L2078.9 142.347 Z\" fill=\"#000000\" fill-rule=\"nonzero\" fill-opacity=\"1\" /><path clip-path=\"url(#clip550)\" d=\"M2116.66 151.305 Q2111.49 151.305 2109.5 152.486 Q2107.51 153.666 2107.51 156.514 Q2107.51 158.782 2108.99 160.125 Q2110.5 161.444 2113.07 161.444 Q2116.61 161.444 2118.74 158.944 Q2120.89 156.421 2120.89 152.254 L2120.89 151.305 L2116.66 151.305 M2125.15 149.546 L2125.15 164.338 L2120.89 164.338 L2120.89 160.402 Q2119.43 162.763 2117.26 163.898 Q2115.08 165.009 2111.93 165.009 Q2107.95 165.009 2105.59 162.787 Q2103.25 160.541 2103.25 156.791 Q2103.25 152.416 2106.17 150.194 Q2109.11 147.972 2114.92 147.972 L2120.89 147.972 L2120.89 147.555 Q2120.89 144.615 2118.95 143.018 Q2117.03 141.398 2113.53 141.398 Q2111.31 141.398 2109.2 141.93 Q2107.1 142.463 2105.15 143.527 L2105.15 139.592 Q2107.49 138.69 2109.69 138.25 Q2111.89 137.787 2113.97 137.787 Q2119.6 137.787 2122.37 140.703 Q2125.15 143.62 2125.15 149.546 Z\" fill=\"#000000\" fill-rule=\"nonzero\" fill-opacity=\"1\" /><path clip-path=\"url(#clip550)\" d=\"M2138.14 131.051 L2138.14 138.412 L2146.91 138.412 L2146.91 141.722 L2138.14 141.722 L2138.14 155.796 Q2138.14 158.967 2138.99 159.87 Q2139.87 160.773 2142.53 160.773 L2146.91 160.773 L2146.91 164.338 L2142.53 164.338 Q2137.6 164.338 2135.73 162.509 Q2133.85 160.657 2133.85 155.796 L2133.85 141.722 L2130.73 141.722 L2130.73 138.412 L2133.85 138.412 L2133.85 131.051 L2138.14 131.051 Z\" fill=\"#000000\" fill-rule=\"nonzero\" fill-opacity=\"1\" /><path clip-path=\"url(#clip550)\" d=\"M2171.17 139.407 L2171.17 143.389 Q2169.36 142.393 2167.53 141.907 Q2165.73 141.398 2163.88 141.398 Q2159.73 141.398 2157.44 144.037 Q2155.15 146.652 2155.15 151.398 Q2155.15 156.143 2157.44 158.782 Q2159.73 161.398 2163.88 161.398 Q2165.73 161.398 2167.53 160.912 Q2169.36 160.402 2171.17 159.407 L2171.17 163.342 Q2169.39 164.176 2167.47 164.592 Q2165.57 165.009 2163.41 165.009 Q2157.56 165.009 2154.11 161.328 Q2150.66 157.648 2150.66 151.398 Q2150.66 145.055 2154.13 141.421 Q2157.63 137.787 2163.69 137.787 Q2165.66 137.787 2167.53 138.203 Q2169.41 138.597 2171.17 139.407 Z\" fill=\"#000000\" fill-rule=\"nonzero\" fill-opacity=\"1\" /><path clip-path=\"url(#clip550)\" d=\"M2200.13 148.689 L2200.13 164.338 L2195.87 164.338 L2195.87 148.828 Q2195.87 145.148 2194.43 143.319 Q2193 141.49 2190.13 141.49 Q2186.68 141.49 2184.69 143.69 Q2182.7 145.889 2182.7 149.685 L2182.7 164.338 L2178.41 164.338 L2178.41 128.319 L2182.7 128.319 L2182.7 142.44 Q2184.22 140.102 2186.28 138.944 Q2188.37 137.787 2191.08 137.787 Q2195.54 137.787 2197.84 140.565 Q2200.13 143.319 2200.13 148.689 Z\" fill=\"#000000\" fill-rule=\"nonzero\" fill-opacity=\"1\" /><path clip-path=\"url(#clip550)\" d=\"M2230.8 150.31 L2230.8 152.393 L2211.21 152.393 Q2211.49 156.791 2213.85 159.106 Q2216.24 161.398 2220.47 161.398 Q2222.93 161.398 2225.22 160.796 Q2227.53 160.194 2229.8 158.99 L2229.8 163.018 Q2227.51 163.99 2225.1 164.5 Q2222.7 165.009 2220.22 165.009 Q2214.02 165.009 2210.38 161.398 Q2206.77 157.787 2206.77 151.629 Q2206.77 145.264 2210.2 141.537 Q2213.65 137.787 2219.48 137.787 Q2224.71 137.787 2227.74 141.166 Q2230.8 144.523 2230.8 150.31 M2226.54 149.06 Q2226.49 145.565 2224.57 143.481 Q2222.67 141.398 2219.53 141.398 Q2215.96 141.398 2213.81 143.412 Q2211.68 145.426 2211.35 149.083 L2226.54 149.06 Z\" fill=\"#000000\" fill-rule=\"nonzero\" fill-opacity=\"1\" /><path clip-path=\"url(#clip550)\" d=\"M2254.32 139.176 L2254.32 143.203 Q2252.51 142.277 2250.57 141.815 Q2248.62 141.352 2246.54 141.352 Q2243.37 141.352 2241.77 142.324 Q2240.2 143.296 2240.2 145.24 Q2240.2 146.722 2241.33 147.578 Q2242.46 148.412 2245.89 149.176 L2247.35 149.5 Q2251.89 150.472 2253.78 152.254 Q2255.71 154.014 2255.71 157.185 Q2255.71 160.796 2252.84 162.902 Q2249.99 165.009 2244.99 165.009 Q2242.9 165.009 2240.64 164.592 Q2238.39 164.199 2235.89 163.388 L2235.89 158.99 Q2238.25 160.217 2240.54 160.842 Q2242.84 161.444 2245.08 161.444 Q2248.09 161.444 2249.71 160.426 Q2251.33 159.384 2251.33 157.509 Q2251.33 155.773 2250.15 154.847 Q2248.99 153.921 2245.03 153.064 L2243.55 152.717 Q2239.59 151.884 2237.84 150.171 Q2236.08 148.435 2236.08 145.426 Q2236.08 141.768 2238.67 139.778 Q2241.26 137.787 2246.03 137.787 Q2248.39 137.787 2250.47 138.134 Q2252.56 138.481 2254.32 139.176 Z\" fill=\"#000000\" fill-rule=\"nonzero\" fill-opacity=\"1\" /><circle clip-path=\"url(#clip550)\" cx=\"1862.45\" cy=\"198.898\" r=\"20.48\" fill=\"#e26f46\" fill-rule=\"evenodd\" fill-opacity=\"1\" stroke=\"#000000\" stroke-opacity=\"1\" stroke-width=\"4.55111\"/>\n",
       "<path clip-path=\"url(#clip550)\" d=\"M1983.53 202.15 L1983.53 204.233 L1963.95 204.233 Q1964.23 208.631 1966.59 210.946 Q1968.97 213.238 1973.21 213.238 Q1975.66 213.238 1977.95 212.636 Q1980.27 212.034 1982.54 210.83 L1982.54 214.858 Q1980.24 215.83 1977.84 216.34 Q1975.43 216.849 1972.95 216.849 Q1966.75 216.849 1963.11 213.238 Q1959.5 209.627 1959.5 203.469 Q1959.5 197.104 1962.93 193.377 Q1966.38 189.627 1972.21 189.627 Q1977.44 189.627 1980.48 193.006 Q1983.53 196.363 1983.53 202.15 M1979.27 200.9 Q1979.23 197.405 1977.3 195.321 Q1975.41 193.238 1972.26 193.238 Q1968.69 193.238 1966.54 195.252 Q1964.41 197.266 1964.09 200.923 L1979.27 200.9 Z\" fill=\"#000000\" fill-rule=\"nonzero\" fill-opacity=\"1\" /><path clip-path=\"url(#clip550)\" d=\"M1994.64 212.289 L1994.64 226.039 L1990.36 226.039 L1990.36 190.252 L1994.64 190.252 L1994.64 194.187 Q1995.98 191.872 1998.02 190.761 Q2000.08 189.627 2002.93 189.627 Q2007.65 189.627 2010.59 193.377 Q2013.55 197.127 2013.55 203.238 Q2013.55 209.349 2010.59 213.099 Q2007.65 216.849 2002.93 216.849 Q2000.08 216.849 1998.02 215.738 Q1995.98 214.603 1994.64 212.289 M2009.13 203.238 Q2009.13 198.539 2007.19 195.877 Q2005.27 193.192 2001.89 193.192 Q1998.51 193.192 1996.56 195.877 Q1994.64 198.539 1994.64 203.238 Q1994.64 207.937 1996.56 210.622 Q1998.51 213.284 2001.89 213.284 Q2005.27 213.284 2007.19 210.622 Q2009.13 207.937 2009.13 203.238 Z\" fill=\"#000000\" fill-rule=\"nonzero\" fill-opacity=\"1\" /><path clip-path=\"url(#clip550)\" d=\"M2030.66 193.238 Q2027.23 193.238 2025.24 195.923 Q2023.25 198.585 2023.25 203.238 Q2023.25 207.891 2025.22 210.576 Q2027.21 213.238 2030.66 213.238 Q2034.06 213.238 2036.05 210.553 Q2038.04 207.867 2038.04 203.238 Q2038.04 198.631 2036.05 195.946 Q2034.06 193.238 2030.66 193.238 M2030.66 189.627 Q2036.22 189.627 2039.39 193.238 Q2042.56 196.849 2042.56 203.238 Q2042.56 209.604 2039.39 213.238 Q2036.22 216.849 2030.66 216.849 Q2025.08 216.849 2021.91 213.238 Q2018.76 209.604 2018.76 203.238 Q2018.76 196.849 2021.91 193.238 Q2025.08 189.627 2030.66 189.627 Z\" fill=\"#000000\" fill-rule=\"nonzero\" fill-opacity=\"1\" /><path clip-path=\"url(#clip550)\" d=\"M2068.28 191.247 L2068.28 195.229 Q2066.47 194.233 2064.64 193.747 Q2062.84 193.238 2060.98 193.238 Q2056.84 193.238 2054.55 195.877 Q2052.26 198.492 2052.26 203.238 Q2052.26 207.983 2054.55 210.622 Q2056.84 213.238 2060.98 213.238 Q2062.84 213.238 2064.64 212.752 Q2066.47 212.242 2068.28 211.247 L2068.28 215.182 Q2066.49 216.016 2064.57 216.432 Q2062.67 216.849 2060.52 216.849 Q2054.66 216.849 2051.22 213.168 Q2047.77 209.488 2047.77 203.238 Q2047.77 196.895 2051.24 193.261 Q2054.73 189.627 2060.8 189.627 Q2062.77 189.627 2064.64 190.043 Q2066.52 190.437 2068.28 191.247 Z\" fill=\"#000000\" fill-rule=\"nonzero\" fill-opacity=\"1\" /><path clip-path=\"url(#clip550)\" d=\"M2097.23 200.529 L2097.23 216.178 L2092.97 216.178 L2092.97 200.668 Q2092.97 196.988 2091.54 195.159 Q2090.1 193.33 2087.23 193.33 Q2083.79 193.33 2081.79 195.53 Q2079.8 197.729 2079.8 201.525 L2079.8 216.178 L2075.52 216.178 L2075.52 180.159 L2079.8 180.159 L2079.8 194.28 Q2081.33 191.942 2083.39 190.784 Q2085.47 189.627 2088.18 189.627 Q2092.65 189.627 2094.94 192.405 Q2097.23 195.159 2097.23 200.529 Z\" fill=\"#000000\" fill-rule=\"nonzero\" fill-opacity=\"1\" /><path clip-path=\"url(#clip550)\" d=\"M2122.26 191.016 L2122.26 195.043 Q2120.45 194.117 2118.51 193.655 Q2116.56 193.192 2114.48 193.192 Q2111.31 193.192 2109.71 194.164 Q2108.14 195.136 2108.14 197.08 Q2108.14 198.562 2109.27 199.418 Q2110.41 200.252 2113.83 201.016 L2115.29 201.34 Q2119.83 202.312 2121.72 204.094 Q2123.65 205.854 2123.65 209.025 Q2123.65 212.636 2120.78 214.742 Q2117.93 216.849 2112.93 216.849 Q2110.85 216.849 2108.58 216.432 Q2106.33 216.039 2103.83 215.228 L2103.83 210.83 Q2106.19 212.057 2108.48 212.682 Q2110.78 213.284 2113.02 213.284 Q2116.03 213.284 2117.65 212.266 Q2119.27 211.224 2119.27 209.349 Q2119.27 207.613 2118.09 206.687 Q2116.93 205.761 2112.97 204.904 L2111.49 204.557 Q2107.53 203.724 2105.78 202.011 Q2104.02 200.275 2104.02 197.266 Q2104.02 193.608 2106.61 191.618 Q2109.2 189.627 2113.97 189.627 Q2116.33 189.627 2118.41 189.974 Q2120.5 190.321 2122.26 191.016 Z\" fill=\"#000000\" fill-rule=\"nonzero\" fill-opacity=\"1\" /></svg>\n"
      ],
      "text/html": [
       "<?xml version=\"1.0\" encoding=\"utf-8\"?>\n",
       "<svg xmlns=\"http://www.w3.org/2000/svg\" xmlns:xlink=\"http://www.w3.org/1999/xlink\" width=\"600\" height=\"400\" viewBox=\"0 0 2400 1600\">\n",
       "<defs>\n",
       "  <clipPath id=\"clip600\">\n",
       "    <rect x=\"0\" y=\"0\" width=\"2400\" height=\"1600\"/>\n",
       "  </clipPath>\n",
       "</defs>\n",
       "<path clip-path=\"url(#clip600)\" d=\"M0 1600 L2400 1600 L2400 0 L0 0  Z\" fill=\"#ffffff\" fill-rule=\"evenodd\" fill-opacity=\"1\"/>\n",
       "<defs>\n",
       "  <clipPath id=\"clip601\">\n",
       "    <rect x=\"480\" y=\"0\" width=\"1681\" height=\"1600\"/>\n",
       "  </clipPath>\n",
       "</defs>\n",
       "<path clip-path=\"url(#clip600)\" d=\"M169.121 1486.45 L2352.76 1486.45 L2352.76 47.2441 L169.121 47.2441  Z\" fill=\"#ffffff\" fill-rule=\"evenodd\" fill-opacity=\"1\"/>\n",
       "<defs>\n",
       "  <clipPath id=\"clip602\">\n",
       "    <rect x=\"169\" y=\"47\" width=\"2185\" height=\"1440\"/>\n",
       "  </clipPath>\n",
       "</defs>\n",
       "<polyline clip-path=\"url(#clip602)\" style=\"stroke:#000000; stroke-linecap:round; stroke-linejoin:round; stroke-width:2; stroke-opacity:0.1; fill:none\" points=\"204.846,1486.45 204.846,47.2441 \"/>\n",
       "<polyline clip-path=\"url(#clip602)\" style=\"stroke:#000000; stroke-linecap:round; stroke-linejoin:round; stroke-width:2; stroke-opacity:0.1; fill:none\" points=\"726.373,1486.45 726.373,47.2441 \"/>\n",
       "<polyline clip-path=\"url(#clip602)\" style=\"stroke:#000000; stroke-linecap:round; stroke-linejoin:round; stroke-width:2; stroke-opacity:0.1; fill:none\" points=\"1247.9,1486.45 1247.9,47.2441 \"/>\n",
       "<polyline clip-path=\"url(#clip602)\" style=\"stroke:#000000; stroke-linecap:round; stroke-linejoin:round; stroke-width:2; stroke-opacity:0.1; fill:none\" points=\"1769.43,1486.45 1769.43,47.2441 \"/>\n",
       "<polyline clip-path=\"url(#clip602)\" style=\"stroke:#000000; stroke-linecap:round; stroke-linejoin:round; stroke-width:2; stroke-opacity:0.1; fill:none\" points=\"2290.95,1486.45 2290.95,47.2441 \"/>\n",
       "<polyline clip-path=\"url(#clip600)\" style=\"stroke:#000000; stroke-linecap:round; stroke-linejoin:round; stroke-width:4; stroke-opacity:1; fill:none\" points=\"169.121,1486.45 2352.76,1486.45 \"/>\n",
       "<polyline clip-path=\"url(#clip600)\" style=\"stroke:#000000; stroke-linecap:round; stroke-linejoin:round; stroke-width:4; stroke-opacity:1; fill:none\" points=\"204.846,1486.45 204.846,1467.55 \"/>\n",
       "<polyline clip-path=\"url(#clip600)\" style=\"stroke:#000000; stroke-linecap:round; stroke-linejoin:round; stroke-width:4; stroke-opacity:1; fill:none\" points=\"726.373,1486.45 726.373,1467.55 \"/>\n",
       "<polyline clip-path=\"url(#clip600)\" style=\"stroke:#000000; stroke-linecap:round; stroke-linejoin:round; stroke-width:4; stroke-opacity:1; fill:none\" points=\"1247.9,1486.45 1247.9,1467.55 \"/>\n",
       "<polyline clip-path=\"url(#clip600)\" style=\"stroke:#000000; stroke-linecap:round; stroke-linejoin:round; stroke-width:4; stroke-opacity:1; fill:none\" points=\"1769.43,1486.45 1769.43,1467.55 \"/>\n",
       "<polyline clip-path=\"url(#clip600)\" style=\"stroke:#000000; stroke-linecap:round; stroke-linejoin:round; stroke-width:4; stroke-opacity:1; fill:none\" points=\"2290.95,1486.45 2290.95,1467.55 \"/>\n",
       "<path clip-path=\"url(#clip600)\" d=\"M204.846 1517.37 Q201.235 1517.37 199.406 1520.93 Q197.601 1524.47 197.601 1531.6 Q197.601 1538.71 199.406 1542.27 Q201.235 1545.82 204.846 1545.82 Q208.48 1545.82 210.286 1542.27 Q212.114 1538.71 212.114 1531.6 Q212.114 1524.47 210.286 1520.93 Q208.48 1517.37 204.846 1517.37 M204.846 1513.66 Q210.656 1513.66 213.712 1518.27 Q216.79 1522.85 216.79 1531.6 Q216.79 1540.33 213.712 1544.94 Q210.656 1549.52 204.846 1549.52 Q199.036 1549.52 195.957 1544.94 Q192.902 1540.33 192.902 1531.6 Q192.902 1522.85 195.957 1518.27 Q199.036 1513.66 204.846 1513.66 Z\" fill=\"#000000\" fill-rule=\"nonzero\" fill-opacity=\"1\" /><path clip-path=\"url(#clip600)\" d=\"M705.146 1544.91 L721.466 1544.91 L721.466 1548.85 L699.521 1548.85 L699.521 1544.91 Q702.183 1542.16 706.767 1537.53 Q711.373 1532.88 712.554 1531.53 Q714.799 1529.01 715.679 1527.27 Q716.582 1525.51 716.582 1523.82 Q716.582 1521.07 714.637 1519.33 Q712.716 1517.6 709.614 1517.6 Q707.415 1517.6 704.961 1518.36 Q702.531 1519.13 699.753 1520.68 L699.753 1515.95 Q702.577 1514.82 705.031 1514.24 Q707.484 1513.66 709.521 1513.66 Q714.892 1513.66 718.086 1516.35 Q721.281 1519.03 721.281 1523.52 Q721.281 1525.65 720.47 1527.57 Q719.683 1529.47 717.577 1532.07 Q716.998 1532.74 713.896 1535.95 Q710.795 1539.15 705.146 1544.91 Z\" fill=\"#000000\" fill-rule=\"nonzero\" fill-opacity=\"1\" /><path clip-path=\"url(#clip600)\" d=\"M741.281 1517.37 Q737.669 1517.37 735.841 1520.93 Q734.035 1524.47 734.035 1531.6 Q734.035 1538.71 735.841 1542.27 Q737.669 1545.82 741.281 1545.82 Q744.915 1545.82 746.72 1542.27 Q748.549 1538.71 748.549 1531.6 Q748.549 1524.47 746.72 1520.93 Q744.915 1517.37 741.281 1517.37 M741.281 1513.66 Q747.091 1513.66 750.146 1518.27 Q753.225 1522.85 753.225 1531.6 Q753.225 1540.33 750.146 1544.94 Q747.091 1549.52 741.281 1549.52 Q735.47 1549.52 732.392 1544.94 Q729.336 1540.33 729.336 1531.6 Q729.336 1522.85 732.392 1518.27 Q735.47 1513.66 741.281 1513.66 Z\" fill=\"#000000\" fill-rule=\"nonzero\" fill-opacity=\"1\" /><path clip-path=\"url(#clip600)\" d=\"M1236.07 1518.36 L1224.27 1536.81 L1236.07 1536.81 L1236.07 1518.36 M1234.84 1514.29 L1240.72 1514.29 L1240.72 1536.81 L1245.66 1536.81 L1245.66 1540.7 L1240.72 1540.7 L1240.72 1548.85 L1236.07 1548.85 L1236.07 1540.7 L1220.47 1540.7 L1220.47 1536.19 L1234.84 1514.29 Z\" fill=\"#000000\" fill-rule=\"nonzero\" fill-opacity=\"1\" /><path clip-path=\"url(#clip600)\" d=\"M1263.39 1517.37 Q1259.78 1517.37 1257.95 1520.93 Q1256.14 1524.47 1256.14 1531.6 Q1256.14 1538.71 1257.95 1542.27 Q1259.78 1545.82 1263.39 1545.82 Q1267.02 1545.82 1268.83 1542.27 Q1270.65 1538.71 1270.65 1531.6 Q1270.65 1524.47 1268.83 1520.93 Q1267.02 1517.37 1263.39 1517.37 M1263.39 1513.66 Q1269.2 1513.66 1272.25 1518.27 Q1275.33 1522.85 1275.33 1531.6 Q1275.33 1540.33 1272.25 1544.94 Q1269.2 1549.52 1263.39 1549.52 Q1257.58 1549.52 1254.5 1544.94 Q1251.44 1540.33 1251.44 1531.6 Q1251.44 1522.85 1254.5 1518.27 Q1257.58 1513.66 1263.39 1513.66 Z\" fill=\"#000000\" fill-rule=\"nonzero\" fill-opacity=\"1\" /><path clip-path=\"url(#clip600)\" d=\"M1754.83 1529.7 Q1751.68 1529.7 1749.83 1531.86 Q1748 1534.01 1748 1537.76 Q1748 1541.49 1749.83 1543.66 Q1751.68 1545.82 1754.83 1545.82 Q1757.98 1545.82 1759.81 1543.66 Q1761.66 1541.49 1761.66 1537.76 Q1761.66 1534.01 1759.81 1531.86 Q1757.98 1529.7 1754.83 1529.7 M1764.12 1515.05 L1764.12 1519.31 Q1762.36 1518.48 1760.55 1518.04 Q1758.77 1517.6 1757.01 1517.6 Q1752.38 1517.6 1749.93 1520.72 Q1747.49 1523.85 1747.15 1530.17 Q1748.51 1528.15 1750.57 1527.09 Q1752.63 1526 1755.11 1526 Q1760.32 1526 1763.33 1529.17 Q1766.36 1532.32 1766.36 1537.76 Q1766.36 1543.08 1763.21 1546.3 Q1760.06 1549.52 1754.83 1549.52 Q1748.84 1549.52 1745.67 1544.94 Q1742.49 1540.33 1742.49 1531.6 Q1742.49 1523.41 1746.38 1518.55 Q1750.27 1513.66 1756.82 1513.66 Q1758.58 1513.66 1760.37 1514.01 Q1762.17 1514.36 1764.12 1515.05 Z\" fill=\"#000000\" fill-rule=\"nonzero\" fill-opacity=\"1\" /><path clip-path=\"url(#clip600)\" d=\"M1784.42 1517.37 Q1780.8 1517.37 1778.98 1520.93 Q1777.17 1524.47 1777.17 1531.6 Q1777.17 1538.71 1778.98 1542.27 Q1780.8 1545.82 1784.42 1545.82 Q1788.05 1545.82 1789.86 1542.27 Q1791.68 1538.71 1791.68 1531.6 Q1791.68 1524.47 1789.86 1520.93 Q1788.05 1517.37 1784.42 1517.37 M1784.42 1513.66 Q1790.23 1513.66 1793.28 1518.27 Q1796.36 1522.85 1796.36 1531.6 Q1796.36 1540.33 1793.28 1544.94 Q1790.23 1549.52 1784.42 1549.52 Q1778.61 1549.52 1775.53 1544.94 Q1772.47 1540.33 1772.47 1531.6 Q1772.47 1522.85 1775.53 1518.27 Q1778.61 1513.66 1784.42 1513.66 Z\" fill=\"#000000\" fill-rule=\"nonzero\" fill-opacity=\"1\" /><path clip-path=\"url(#clip600)\" d=\"M2275.83 1532.44 Q2272.49 1532.44 2270.57 1534.22 Q2268.67 1536 2268.67 1539.13 Q2268.67 1542.25 2270.57 1544.03 Q2272.49 1545.82 2275.83 1545.82 Q2279.16 1545.82 2281.08 1544.03 Q2283 1542.23 2283 1539.13 Q2283 1536 2281.08 1534.22 Q2279.18 1532.44 2275.83 1532.44 M2271.15 1530.45 Q2268.14 1529.7 2266.45 1527.64 Q2264.79 1525.58 2264.79 1522.62 Q2264.79 1518.48 2267.73 1516.07 Q2270.69 1513.66 2275.83 1513.66 Q2280.99 1513.66 2283.93 1516.07 Q2286.87 1518.48 2286.87 1522.62 Q2286.87 1525.58 2285.18 1527.64 Q2283.51 1529.7 2280.53 1530.45 Q2283.91 1531.23 2285.78 1533.52 Q2287.68 1535.82 2287.68 1539.13 Q2287.68 1544.15 2284.6 1546.83 Q2281.55 1549.52 2275.83 1549.52 Q2270.11 1549.52 2267.03 1546.83 Q2263.98 1544.15 2263.98 1539.13 Q2263.98 1535.82 2265.87 1533.52 Q2267.77 1531.23 2271.15 1530.45 M2269.44 1523.06 Q2269.44 1525.75 2271.11 1527.25 Q2272.8 1528.76 2275.83 1528.76 Q2278.84 1528.76 2280.53 1527.25 Q2282.24 1525.75 2282.24 1523.06 Q2282.24 1520.38 2280.53 1518.87 Q2278.84 1517.37 2275.83 1517.37 Q2272.8 1517.37 2271.11 1518.87 Q2269.44 1520.38 2269.44 1523.06 Z\" fill=\"#000000\" fill-rule=\"nonzero\" fill-opacity=\"1\" /><path clip-path=\"url(#clip600)\" d=\"M2305.99 1517.37 Q2302.38 1517.37 2300.55 1520.93 Q2298.74 1524.47 2298.74 1531.6 Q2298.74 1538.71 2300.55 1542.27 Q2302.38 1545.82 2305.99 1545.82 Q2309.62 1545.82 2311.43 1542.27 Q2313.26 1538.71 2313.26 1531.6 Q2313.26 1524.47 2311.43 1520.93 Q2309.62 1517.37 2305.99 1517.37 M2305.99 1513.66 Q2311.8 1513.66 2314.86 1518.27 Q2317.93 1522.85 2317.93 1531.6 Q2317.93 1540.33 2314.86 1544.94 Q2311.8 1549.52 2305.99 1549.52 Q2300.18 1549.52 2297.1 1544.94 Q2294.05 1540.33 2294.05 1531.6 Q2294.05 1522.85 2297.1 1518.27 Q2300.18 1513.66 2305.99 1513.66 Z\" fill=\"#000000\" fill-rule=\"nonzero\" fill-opacity=\"1\" /><polyline clip-path=\"url(#clip602)\" style=\"stroke:#000000; stroke-linecap:round; stroke-linejoin:round; stroke-width:2; stroke-opacity:0.1; fill:none\" points=\"169.121,1449.03 2352.76,1449.03 \"/>\n",
       "<polyline clip-path=\"url(#clip602)\" style=\"stroke:#000000; stroke-linecap:round; stroke-linejoin:round; stroke-width:2; stroke-opacity:0.1; fill:none\" points=\"169.121,996.691 2352.76,996.691 \"/>\n",
       "<polyline clip-path=\"url(#clip602)\" style=\"stroke:#000000; stroke-linecap:round; stroke-linejoin:round; stroke-width:2; stroke-opacity:0.1; fill:none\" points=\"169.121,544.356 2352.76,544.356 \"/>\n",
       "<polyline clip-path=\"url(#clip602)\" style=\"stroke:#000000; stroke-linecap:round; stroke-linejoin:round; stroke-width:2; stroke-opacity:0.1; fill:none\" points=\"169.121,92.0209 2352.76,92.0209 \"/>\n",
       "<polyline clip-path=\"url(#clip600)\" style=\"stroke:#000000; stroke-linecap:round; stroke-linejoin:round; stroke-width:4; stroke-opacity:1; fill:none\" points=\"169.121,1486.45 169.121,47.2441 \"/>\n",
       "<polyline clip-path=\"url(#clip600)\" style=\"stroke:#000000; stroke-linecap:round; stroke-linejoin:round; stroke-width:4; stroke-opacity:1; fill:none\" points=\"169.121,1449.03 188.019,1449.03 \"/>\n",
       "<polyline clip-path=\"url(#clip600)\" style=\"stroke:#000000; stroke-linecap:round; stroke-linejoin:round; stroke-width:4; stroke-opacity:1; fill:none\" points=\"169.121,996.691 188.019,996.691 \"/>\n",
       "<polyline clip-path=\"url(#clip600)\" style=\"stroke:#000000; stroke-linecap:round; stroke-linejoin:round; stroke-width:4; stroke-opacity:1; fill:none\" points=\"169.121,544.356 188.019,544.356 \"/>\n",
       "<polyline clip-path=\"url(#clip600)\" style=\"stroke:#000000; stroke-linecap:round; stroke-linejoin:round; stroke-width:4; stroke-opacity:1; fill:none\" points=\"169.121,92.0209 188.019,92.0209 \"/>\n",
       "<path clip-path=\"url(#clip600)\" d=\"M121.177 1434.82 Q117.566 1434.82 115.737 1438.39 Q113.932 1441.93 113.932 1449.06 Q113.932 1456.17 115.737 1459.73 Q117.566 1463.27 121.177 1463.27 Q124.811 1463.27 126.617 1459.73 Q128.445 1456.17 128.445 1449.06 Q128.445 1441.93 126.617 1438.39 Q124.811 1434.82 121.177 1434.82 M121.177 1431.12 Q126.987 1431.12 130.043 1435.73 Q133.121 1440.31 133.121 1449.06 Q133.121 1457.79 130.043 1462.39 Q126.987 1466.98 121.177 1466.98 Q115.367 1466.98 112.288 1462.39 Q109.233 1457.79 109.233 1449.06 Q109.233 1440.31 112.288 1435.73 Q115.367 1431.12 121.177 1431.12 Z\" fill=\"#000000\" fill-rule=\"nonzero\" fill-opacity=\"1\" /><path clip-path=\"url(#clip600)\" d=\"M81.0614 979.411 L99.4178 979.411 L99.4178 983.346 L85.3438 983.346 L85.3438 991.818 Q86.3623 991.471 87.3808 991.309 Q88.3993 991.124 89.4178 991.124 Q95.2049 991.124 98.5845 994.295 Q101.964 997.466 101.964 1002.88 Q101.964 1008.46 98.4919 1011.56 Q95.0197 1014.64 88.7003 1014.64 Q86.5243 1014.64 84.2558 1014.27 Q82.0105 1013.9 79.6031 1013.16 L79.6031 1008.46 Q81.6864 1009.6 83.9086 1010.15 Q86.1308 1010.71 88.6077 1010.71 Q92.6123 1010.71 94.9502 1008.6 Q97.2882 1006.49 97.2882 1002.88 Q97.2882 999.272 94.9502 997.165 Q92.6123 995.059 88.6077 995.059 Q86.7327 995.059 84.8577 995.475 Q83.0058 995.892 81.0614 996.772 L81.0614 979.411 Z\" fill=\"#000000\" fill-rule=\"nonzero\" fill-opacity=\"1\" /><path clip-path=\"url(#clip600)\" d=\"M121.177 982.489 Q117.566 982.489 115.737 986.054 Q113.932 989.596 113.932 996.725 Q113.932 1003.83 115.737 1007.4 Q117.566 1010.94 121.177 1010.94 Q124.811 1010.94 126.617 1007.4 Q128.445 1003.83 128.445 996.725 Q128.445 989.596 126.617 986.054 Q124.811 982.489 121.177 982.489 M121.177 978.786 Q126.987 978.786 130.043 983.392 Q133.121 987.975 133.121 996.725 Q133.121 1005.45 130.043 1010.06 Q126.987 1014.64 121.177 1014.64 Q115.367 1014.64 112.288 1010.06 Q109.233 1005.45 109.233 996.725 Q109.233 987.975 112.288 983.392 Q115.367 978.786 121.177 978.786 Z\" fill=\"#000000\" fill-rule=\"nonzero\" fill-opacity=\"1\" /><path clip-path=\"url(#clip600)\" d=\"M51.6634 557.701 L59.3023 557.701 L59.3023 531.335 L50.9921 533.002 L50.9921 528.742 L59.256 527.076 L63.9319 527.076 L63.9319 557.701 L71.5707 557.701 L71.5707 561.636 L51.6634 561.636 L51.6634 557.701 Z\" fill=\"#000000\" fill-rule=\"nonzero\" fill-opacity=\"1\" /><path clip-path=\"url(#clip600)\" d=\"M91.0151 530.154 Q87.404 530.154 85.5753 533.719 Q83.7697 537.261 83.7697 544.391 Q83.7697 551.497 85.5753 555.062 Q87.404 558.603 91.0151 558.603 Q94.6493 558.603 96.4548 555.062 Q98.2835 551.497 98.2835 544.391 Q98.2835 537.261 96.4548 533.719 Q94.6493 530.154 91.0151 530.154 M91.0151 526.451 Q96.8252 526.451 99.8808 531.057 Q102.959 535.641 102.959 544.391 Q102.959 553.117 99.8808 557.724 Q96.8252 562.307 91.0151 562.307 Q85.2049 562.307 82.1262 557.724 Q79.0707 553.117 79.0707 544.391 Q79.0707 535.641 82.1262 531.057 Q85.2049 526.451 91.0151 526.451 Z\" fill=\"#000000\" fill-rule=\"nonzero\" fill-opacity=\"1\" /><path clip-path=\"url(#clip600)\" d=\"M121.177 530.154 Q117.566 530.154 115.737 533.719 Q113.932 537.261 113.932 544.391 Q113.932 551.497 115.737 555.062 Q117.566 558.603 121.177 558.603 Q124.811 558.603 126.617 555.062 Q128.445 551.497 128.445 544.391 Q128.445 537.261 126.617 533.719 Q124.811 530.154 121.177 530.154 M121.177 526.451 Q126.987 526.451 130.043 531.057 Q133.121 535.641 133.121 544.391 Q133.121 553.117 130.043 557.724 Q126.987 562.307 121.177 562.307 Q115.367 562.307 112.288 557.724 Q109.233 553.117 109.233 544.391 Q109.233 535.641 112.288 531.057 Q115.367 526.451 121.177 526.451 Z\" fill=\"#000000\" fill-rule=\"nonzero\" fill-opacity=\"1\" /><path clip-path=\"url(#clip600)\" d=\"M51.6634 105.366 L59.3023 105.366 L59.3023 79.0001 L50.9921 80.6668 L50.9921 76.4075 L59.256 74.7409 L63.9319 74.7409 L63.9319 105.366 L71.5707 105.366 L71.5707 109.301 L51.6634 109.301 L51.6634 105.366 Z\" fill=\"#000000\" fill-rule=\"nonzero\" fill-opacity=\"1\" /><path clip-path=\"url(#clip600)\" d=\"M81.0614 74.7409 L99.4178 74.7409 L99.4178 78.676 L85.3438 78.676 L85.3438 87.1482 Q86.3623 86.801 87.3808 86.6389 Q88.3993 86.4538 89.4178 86.4538 Q95.2049 86.4538 98.5845 89.625 Q101.964 92.7963 101.964 98.213 Q101.964 103.792 98.4919 106.893 Q95.0197 109.972 88.7003 109.972 Q86.5243 109.972 84.2558 109.602 Q82.0105 109.231 79.6031 108.491 L79.6031 103.792 Q81.6864 104.926 83.9086 105.481 Q86.1308 106.037 88.6077 106.037 Q92.6123 106.037 94.9502 103.931 Q97.2882 101.824 97.2882 98.213 Q97.2882 94.6019 94.9502 92.4954 Q92.6123 90.3889 88.6077 90.3889 Q86.7327 90.3889 84.8577 90.8056 Q83.0058 91.2222 81.0614 92.1019 L81.0614 74.7409 Z\" fill=\"#000000\" fill-rule=\"nonzero\" fill-opacity=\"1\" /><path clip-path=\"url(#clip600)\" d=\"M121.177 77.8195 Q117.566 77.8195 115.737 81.3843 Q113.932 84.926 113.932 92.0556 Q113.932 99.162 115.737 102.727 Q117.566 106.268 121.177 106.268 Q124.811 106.268 126.617 102.727 Q128.445 99.162 128.445 92.0556 Q128.445 84.926 126.617 81.3843 Q124.811 77.8195 121.177 77.8195 M121.177 74.1159 Q126.987 74.1159 130.043 78.7223 Q133.121 83.3056 133.121 92.0556 Q133.121 100.782 130.043 105.389 Q126.987 109.972 121.177 109.972 Q115.367 109.972 112.288 105.389 Q109.233 100.782 109.233 92.0556 Q109.233 83.3056 112.288 78.7223 Q115.367 74.1159 121.177 74.1159 Z\" fill=\"#000000\" fill-rule=\"nonzero\" fill-opacity=\"1\" /><polyline clip-path=\"url(#clip602)\" style=\"stroke:#009af9; stroke-linecap:round; stroke-linejoin:round; stroke-width:4; stroke-opacity:1; fill:none\" points=\"230.922,87.9763 256.999,163.575 283.075,230.004 309.151,269.903 335.228,386.337 361.304,477.869 387.38,526.412 413.457,591.35 439.533,1236.36 465.61,1152.47 491.686,1192.32 517.762,1205.33 543.839,1201.25 569.915,1186.17 595.991,1202.1 622.068,1205.93 648.144,1305.25 674.22,1329.56 700.297,1337.42 726.373,1351.86 752.45,1343.18 778.526,1346.49 804.602,1340.47 830.679,1336.52 856.755,1389.43 882.831,1383.2 908.908,1375.31 934.984,1369.71 961.06,1375.8 987.137,1379.71 1013.21,1381.66 1039.29,1386.71 1065.37,1421.62 1091.44,1414.12 1117.52,1379.76 1143.59,1388.69 1169.67,1399.31 1195.75,1399.97 1221.82,1405.39 1247.9,1407.34 1273.98,1442.02 1300.05,1436.4 1326.13,1436.52 1352.21,1431.66 1378.28,1429.74 1404.36,1431.97 1430.43,1429.37 1456.51,1425.79 1482.59,1443.75 1508.66,1439.62 1534.74,1435.7 1560.82,1435.98 1586.89,1436.61 1612.97,1435.06 1639.05,1435.69 1665.12,1434.33 1691.2,1438.66 1717.27,1439.3 1743.35,1436.49 1769.43,1437.98 1795.5,1439.4 1821.58,1439.72 1847.66,1439.99 1873.73,1440.53 1899.81,1445.72 1925.89,1440.43 1951.96,1442.41 1978.04,1442.76 2004.11,1442.21 2030.19,1442.88 2056.27,1441.2 2082.34,1441.48 2108.42,1445.24 2134.5,1444.13 2160.57,1445.1 2186.65,1444.84 2212.73,1443.99 2238.8,1444.04 2264.88,1444.65 2290.95,1444.82 \"/>\n",
       "<circle clip-path=\"url(#clip602)\" cx=\"413.457\" cy=\"591.35\" r=\"14.4\" fill=\"#e26f46\" fill-rule=\"evenodd\" fill-opacity=\"1\" stroke=\"#000000\" stroke-opacity=\"1\" stroke-width=\"3.2\"/>\n",
       "<circle clip-path=\"url(#clip602)\" cx=\"622.068\" cy=\"1205.93\" r=\"14.4\" fill=\"#e26f46\" fill-rule=\"evenodd\" fill-opacity=\"1\" stroke=\"#000000\" stroke-opacity=\"1\" stroke-width=\"3.2\"/>\n",
       "<circle clip-path=\"url(#clip602)\" cx=\"830.679\" cy=\"1336.52\" r=\"14.4\" fill=\"#e26f46\" fill-rule=\"evenodd\" fill-opacity=\"1\" stroke=\"#000000\" stroke-opacity=\"1\" stroke-width=\"3.2\"/>\n",
       "<circle clip-path=\"url(#clip602)\" cx=\"1039.29\" cy=\"1386.71\" r=\"14.4\" fill=\"#e26f46\" fill-rule=\"evenodd\" fill-opacity=\"1\" stroke=\"#000000\" stroke-opacity=\"1\" stroke-width=\"3.2\"/>\n",
       "<circle clip-path=\"url(#clip602)\" cx=\"1247.9\" cy=\"1407.34\" r=\"14.4\" fill=\"#e26f46\" fill-rule=\"evenodd\" fill-opacity=\"1\" stroke=\"#000000\" stroke-opacity=\"1\" stroke-width=\"3.2\"/>\n",
       "<circle clip-path=\"url(#clip602)\" cx=\"1456.51\" cy=\"1425.79\" r=\"14.4\" fill=\"#e26f46\" fill-rule=\"evenodd\" fill-opacity=\"1\" stroke=\"#000000\" stroke-opacity=\"1\" stroke-width=\"3.2\"/>\n",
       "<circle clip-path=\"url(#clip602)\" cx=\"1665.12\" cy=\"1434.33\" r=\"14.4\" fill=\"#e26f46\" fill-rule=\"evenodd\" fill-opacity=\"1\" stroke=\"#000000\" stroke-opacity=\"1\" stroke-width=\"3.2\"/>\n",
       "<circle clip-path=\"url(#clip602)\" cx=\"1873.73\" cy=\"1440.53\" r=\"14.4\" fill=\"#e26f46\" fill-rule=\"evenodd\" fill-opacity=\"1\" stroke=\"#000000\" stroke-opacity=\"1\" stroke-width=\"3.2\"/>\n",
       "<circle clip-path=\"url(#clip602)\" cx=\"2082.34\" cy=\"1441.48\" r=\"14.4\" fill=\"#e26f46\" fill-rule=\"evenodd\" fill-opacity=\"1\" stroke=\"#000000\" stroke-opacity=\"1\" stroke-width=\"3.2\"/>\n",
       "<circle clip-path=\"url(#clip602)\" cx=\"2290.95\" cy=\"1444.82\" r=\"14.4\" fill=\"#e26f46\" fill-rule=\"evenodd\" fill-opacity=\"1\" stroke=\"#000000\" stroke-opacity=\"1\" stroke-width=\"3.2\"/>\n",
       "<path clip-path=\"url(#clip600)\" d=\"M1765.4 250.738 L2279.97 250.738 L2279.97 95.2176 L1765.4 95.2176  Z\" fill=\"#ffffff\" fill-rule=\"evenodd\" fill-opacity=\"1\"/>\n",
       "<polyline clip-path=\"url(#clip600)\" style=\"stroke:#000000; stroke-linecap:round; stroke-linejoin:round; stroke-width:4; stroke-opacity:1; fill:none\" points=\"1765.4,250.738 2279.97,250.738 2279.97,95.2176 1765.4,95.2176 1765.4,250.738 \"/>\n",
       "<polyline clip-path=\"url(#clip600)\" style=\"stroke:#009af9; stroke-linecap:round; stroke-linejoin:round; stroke-width:4; stroke-opacity:1; fill:none\" points=\"1789.67,147.058 1935.24,147.058 \"/>\n",
       "<path clip-path=\"url(#clip600)\" d=\"M1959.5 128.319 L1963.76 128.319 L1963.76 164.338 L1959.5 164.338 L1959.5 128.319 Z\" fill=\"#000000\" fill-rule=\"nonzero\" fill-opacity=\"1\" /><path clip-path=\"url(#clip600)\" d=\"M1982.72 141.398 Q1979.29 141.398 1977.3 144.083 Q1975.31 146.745 1975.31 151.398 Q1975.31 156.051 1977.28 158.736 Q1979.27 161.398 1982.72 161.398 Q1986.12 161.398 1988.11 158.713 Q1990.11 156.027 1990.11 151.398 Q1990.11 146.791 1988.11 144.106 Q1986.12 141.398 1982.72 141.398 M1982.72 137.787 Q1988.28 137.787 1991.45 141.398 Q1994.62 145.009 1994.62 151.398 Q1994.62 157.764 1991.45 161.398 Q1988.28 165.009 1982.72 165.009 Q1977.14 165.009 1973.97 161.398 Q1970.82 157.764 1970.82 151.398 Q1970.82 145.009 1973.97 141.398 Q1977.14 137.787 1982.72 137.787 Z\" fill=\"#000000\" fill-rule=\"nonzero\" fill-opacity=\"1\" /><path clip-path=\"url(#clip600)\" d=\"M2018.21 139.176 L2018.21 143.203 Q2016.4 142.277 2014.46 141.815 Q2012.51 141.352 2010.43 141.352 Q2007.26 141.352 2005.66 142.324 Q2004.09 143.296 2004.09 145.24 Q2004.09 146.722 2005.22 147.578 Q2006.35 148.412 2009.78 149.176 L2011.24 149.5 Q2015.78 150.472 2017.67 152.254 Q2019.6 154.014 2019.6 157.185 Q2019.6 160.796 2016.73 162.902 Q2013.88 165.009 2008.88 165.009 Q2006.79 165.009 2004.53 164.592 Q2002.28 164.199 1999.78 163.388 L1999.78 158.99 Q2002.14 160.217 2004.43 160.842 Q2006.73 161.444 2008.97 161.444 Q2011.98 161.444 2013.6 160.426 Q2015.22 159.384 2015.22 157.509 Q2015.22 155.773 2014.04 154.847 Q2012.88 153.921 2008.92 153.064 L2007.44 152.717 Q2003.48 151.884 2001.73 150.171 Q1999.97 148.435 1999.97 145.426 Q1999.97 141.768 2002.56 139.778 Q2005.15 137.787 2009.92 137.787 Q2012.28 137.787 2014.36 138.134 Q2016.45 138.481 2018.21 139.176 Z\" fill=\"#000000\" fill-rule=\"nonzero\" fill-opacity=\"1\" /><path clip-path=\"url(#clip600)\" d=\"M2042.91 139.176 L2042.91 143.203 Q2041.1 142.277 2039.16 141.815 Q2037.21 141.352 2035.13 141.352 Q2031.96 141.352 2030.36 142.324 Q2028.79 143.296 2028.79 145.24 Q2028.79 146.722 2029.92 147.578 Q2031.05 148.412 2034.48 149.176 L2035.94 149.5 Q2040.48 150.472 2042.37 152.254 Q2044.29 154.014 2044.29 157.185 Q2044.29 160.796 2041.42 162.902 Q2038.58 165.009 2033.58 165.009 Q2031.49 165.009 2029.23 164.592 Q2026.98 164.199 2024.48 163.388 L2024.48 158.99 Q2026.84 160.217 2029.13 160.842 Q2031.42 161.444 2033.67 161.444 Q2036.68 161.444 2038.3 160.426 Q2039.92 159.384 2039.92 157.509 Q2039.92 155.773 2038.74 154.847 Q2037.58 153.921 2033.62 153.064 L2032.14 152.717 Q2028.18 151.884 2026.42 150.171 Q2024.67 148.435 2024.67 145.426 Q2024.67 141.768 2027.26 139.778 Q2029.85 137.787 2034.62 137.787 Q2036.98 137.787 2039.06 138.134 Q2041.15 138.481 2042.91 139.176 Z\" fill=\"#000000\" fill-rule=\"nonzero\" fill-opacity=\"1\" /><path clip-path=\"url(#clip600)\" d=\"M2070.78 172.208 L2070.78 175.518 L2046.15 175.518 L2046.15 172.208 L2070.78 172.208 Z\" fill=\"#000000\" fill-rule=\"nonzero\" fill-opacity=\"1\" /><path clip-path=\"url(#clip600)\" d=\"M2093.39 151.398 Q2093.39 146.699 2091.45 144.037 Q2089.53 141.352 2086.15 141.352 Q2082.77 141.352 2080.82 144.037 Q2078.9 146.699 2078.9 151.398 Q2078.9 156.097 2080.82 158.782 Q2082.77 161.444 2086.15 161.444 Q2089.53 161.444 2091.45 158.782 Q2093.39 156.097 2093.39 151.398 M2078.9 142.347 Q2080.24 140.032 2082.28 138.921 Q2084.34 137.787 2087.19 137.787 Q2091.91 137.787 2094.85 141.537 Q2097.81 145.287 2097.81 151.398 Q2097.81 157.509 2094.85 161.259 Q2091.91 165.009 2087.19 165.009 Q2084.34 165.009 2082.28 163.898 Q2080.24 162.763 2078.9 160.449 L2078.9 164.338 L2074.62 164.338 L2074.62 128.319 L2078.9 128.319 L2078.9 142.347 Z\" fill=\"#000000\" fill-rule=\"nonzero\" fill-opacity=\"1\" /><path clip-path=\"url(#clip600)\" d=\"M2116.66 151.305 Q2111.49 151.305 2109.5 152.486 Q2107.51 153.666 2107.51 156.514 Q2107.51 158.782 2108.99 160.125 Q2110.5 161.444 2113.07 161.444 Q2116.61 161.444 2118.74 158.944 Q2120.89 156.421 2120.89 152.254 L2120.89 151.305 L2116.66 151.305 M2125.15 149.546 L2125.15 164.338 L2120.89 164.338 L2120.89 160.402 Q2119.43 162.763 2117.26 163.898 Q2115.08 165.009 2111.93 165.009 Q2107.95 165.009 2105.59 162.787 Q2103.25 160.541 2103.25 156.791 Q2103.25 152.416 2106.17 150.194 Q2109.11 147.972 2114.92 147.972 L2120.89 147.972 L2120.89 147.555 Q2120.89 144.615 2118.95 143.018 Q2117.03 141.398 2113.53 141.398 Q2111.31 141.398 2109.2 141.93 Q2107.1 142.463 2105.15 143.527 L2105.15 139.592 Q2107.49 138.69 2109.69 138.25 Q2111.89 137.787 2113.97 137.787 Q2119.6 137.787 2122.37 140.703 Q2125.15 143.62 2125.15 149.546 Z\" fill=\"#000000\" fill-rule=\"nonzero\" fill-opacity=\"1\" /><path clip-path=\"url(#clip600)\" d=\"M2138.14 131.051 L2138.14 138.412 L2146.91 138.412 L2146.91 141.722 L2138.14 141.722 L2138.14 155.796 Q2138.14 158.967 2138.99 159.87 Q2139.87 160.773 2142.53 160.773 L2146.91 160.773 L2146.91 164.338 L2142.53 164.338 Q2137.6 164.338 2135.73 162.509 Q2133.85 160.657 2133.85 155.796 L2133.85 141.722 L2130.73 141.722 L2130.73 138.412 L2133.85 138.412 L2133.85 131.051 L2138.14 131.051 Z\" fill=\"#000000\" fill-rule=\"nonzero\" fill-opacity=\"1\" /><path clip-path=\"url(#clip600)\" d=\"M2171.17 139.407 L2171.17 143.389 Q2169.36 142.393 2167.53 141.907 Q2165.73 141.398 2163.88 141.398 Q2159.73 141.398 2157.44 144.037 Q2155.15 146.652 2155.15 151.398 Q2155.15 156.143 2157.44 158.782 Q2159.73 161.398 2163.88 161.398 Q2165.73 161.398 2167.53 160.912 Q2169.36 160.402 2171.17 159.407 L2171.17 163.342 Q2169.39 164.176 2167.47 164.592 Q2165.57 165.009 2163.41 165.009 Q2157.56 165.009 2154.11 161.328 Q2150.66 157.648 2150.66 151.398 Q2150.66 145.055 2154.13 141.421 Q2157.63 137.787 2163.69 137.787 Q2165.66 137.787 2167.53 138.203 Q2169.41 138.597 2171.17 139.407 Z\" fill=\"#000000\" fill-rule=\"nonzero\" fill-opacity=\"1\" /><path clip-path=\"url(#clip600)\" d=\"M2200.13 148.689 L2200.13 164.338 L2195.87 164.338 L2195.87 148.828 Q2195.87 145.148 2194.43 143.319 Q2193 141.49 2190.13 141.49 Q2186.68 141.49 2184.69 143.69 Q2182.7 145.889 2182.7 149.685 L2182.7 164.338 L2178.41 164.338 L2178.41 128.319 L2182.7 128.319 L2182.7 142.44 Q2184.22 140.102 2186.28 138.944 Q2188.37 137.787 2191.08 137.787 Q2195.54 137.787 2197.84 140.565 Q2200.13 143.319 2200.13 148.689 Z\" fill=\"#000000\" fill-rule=\"nonzero\" fill-opacity=\"1\" /><path clip-path=\"url(#clip600)\" d=\"M2230.8 150.31 L2230.8 152.393 L2211.21 152.393 Q2211.49 156.791 2213.85 159.106 Q2216.24 161.398 2220.47 161.398 Q2222.93 161.398 2225.22 160.796 Q2227.53 160.194 2229.8 158.99 L2229.8 163.018 Q2227.51 163.99 2225.1 164.5 Q2222.7 165.009 2220.22 165.009 Q2214.02 165.009 2210.38 161.398 Q2206.77 157.787 2206.77 151.629 Q2206.77 145.264 2210.2 141.537 Q2213.65 137.787 2219.48 137.787 Q2224.71 137.787 2227.74 141.166 Q2230.8 144.523 2230.8 150.31 M2226.54 149.06 Q2226.49 145.565 2224.57 143.481 Q2222.67 141.398 2219.53 141.398 Q2215.96 141.398 2213.81 143.412 Q2211.68 145.426 2211.35 149.083 L2226.54 149.06 Z\" fill=\"#000000\" fill-rule=\"nonzero\" fill-opacity=\"1\" /><path clip-path=\"url(#clip600)\" d=\"M2254.32 139.176 L2254.32 143.203 Q2252.51 142.277 2250.57 141.815 Q2248.62 141.352 2246.54 141.352 Q2243.37 141.352 2241.77 142.324 Q2240.2 143.296 2240.2 145.24 Q2240.2 146.722 2241.33 147.578 Q2242.46 148.412 2245.89 149.176 L2247.35 149.5 Q2251.89 150.472 2253.78 152.254 Q2255.71 154.014 2255.71 157.185 Q2255.71 160.796 2252.84 162.902 Q2249.99 165.009 2244.99 165.009 Q2242.9 165.009 2240.64 164.592 Q2238.39 164.199 2235.89 163.388 L2235.89 158.99 Q2238.25 160.217 2240.54 160.842 Q2242.84 161.444 2245.08 161.444 Q2248.09 161.444 2249.71 160.426 Q2251.33 159.384 2251.33 157.509 Q2251.33 155.773 2250.15 154.847 Q2248.99 153.921 2245.03 153.064 L2243.55 152.717 Q2239.59 151.884 2237.84 150.171 Q2236.08 148.435 2236.08 145.426 Q2236.08 141.768 2238.67 139.778 Q2241.26 137.787 2246.03 137.787 Q2248.39 137.787 2250.47 138.134 Q2252.56 138.481 2254.32 139.176 Z\" fill=\"#000000\" fill-rule=\"nonzero\" fill-opacity=\"1\" /><circle clip-path=\"url(#clip600)\" cx=\"1862.45\" cy=\"198.898\" r=\"20.48\" fill=\"#e26f46\" fill-rule=\"evenodd\" fill-opacity=\"1\" stroke=\"#000000\" stroke-opacity=\"1\" stroke-width=\"4.55111\"/>\n",
       "<path clip-path=\"url(#clip600)\" d=\"M1983.53 202.15 L1983.53 204.233 L1963.95 204.233 Q1964.23 208.631 1966.59 210.946 Q1968.97 213.238 1973.21 213.238 Q1975.66 213.238 1977.95 212.636 Q1980.27 212.034 1982.54 210.83 L1982.54 214.858 Q1980.24 215.83 1977.84 216.34 Q1975.43 216.849 1972.95 216.849 Q1966.75 216.849 1963.11 213.238 Q1959.5 209.627 1959.5 203.469 Q1959.5 197.104 1962.93 193.377 Q1966.38 189.627 1972.21 189.627 Q1977.44 189.627 1980.48 193.006 Q1983.53 196.363 1983.53 202.15 M1979.27 200.9 Q1979.23 197.405 1977.3 195.321 Q1975.41 193.238 1972.26 193.238 Q1968.69 193.238 1966.54 195.252 Q1964.41 197.266 1964.09 200.923 L1979.27 200.9 Z\" fill=\"#000000\" fill-rule=\"nonzero\" fill-opacity=\"1\" /><path clip-path=\"url(#clip600)\" d=\"M1994.64 212.289 L1994.64 226.039 L1990.36 226.039 L1990.36 190.252 L1994.64 190.252 L1994.64 194.187 Q1995.98 191.872 1998.02 190.761 Q2000.08 189.627 2002.93 189.627 Q2007.65 189.627 2010.59 193.377 Q2013.55 197.127 2013.55 203.238 Q2013.55 209.349 2010.59 213.099 Q2007.65 216.849 2002.93 216.849 Q2000.08 216.849 1998.02 215.738 Q1995.98 214.603 1994.64 212.289 M2009.13 203.238 Q2009.13 198.539 2007.19 195.877 Q2005.27 193.192 2001.89 193.192 Q1998.51 193.192 1996.56 195.877 Q1994.64 198.539 1994.64 203.238 Q1994.64 207.937 1996.56 210.622 Q1998.51 213.284 2001.89 213.284 Q2005.27 213.284 2007.19 210.622 Q2009.13 207.937 2009.13 203.238 Z\" fill=\"#000000\" fill-rule=\"nonzero\" fill-opacity=\"1\" /><path clip-path=\"url(#clip600)\" d=\"M2030.66 193.238 Q2027.23 193.238 2025.24 195.923 Q2023.25 198.585 2023.25 203.238 Q2023.25 207.891 2025.22 210.576 Q2027.21 213.238 2030.66 213.238 Q2034.06 213.238 2036.05 210.553 Q2038.04 207.867 2038.04 203.238 Q2038.04 198.631 2036.05 195.946 Q2034.06 193.238 2030.66 193.238 M2030.66 189.627 Q2036.22 189.627 2039.39 193.238 Q2042.56 196.849 2042.56 203.238 Q2042.56 209.604 2039.39 213.238 Q2036.22 216.849 2030.66 216.849 Q2025.08 216.849 2021.91 213.238 Q2018.76 209.604 2018.76 203.238 Q2018.76 196.849 2021.91 193.238 Q2025.08 189.627 2030.66 189.627 Z\" fill=\"#000000\" fill-rule=\"nonzero\" fill-opacity=\"1\" /><path clip-path=\"url(#clip600)\" d=\"M2068.28 191.247 L2068.28 195.229 Q2066.47 194.233 2064.64 193.747 Q2062.84 193.238 2060.98 193.238 Q2056.84 193.238 2054.55 195.877 Q2052.26 198.492 2052.26 203.238 Q2052.26 207.983 2054.55 210.622 Q2056.84 213.238 2060.98 213.238 Q2062.84 213.238 2064.64 212.752 Q2066.47 212.242 2068.28 211.247 L2068.28 215.182 Q2066.49 216.016 2064.57 216.432 Q2062.67 216.849 2060.52 216.849 Q2054.66 216.849 2051.22 213.168 Q2047.77 209.488 2047.77 203.238 Q2047.77 196.895 2051.24 193.261 Q2054.73 189.627 2060.8 189.627 Q2062.77 189.627 2064.64 190.043 Q2066.52 190.437 2068.28 191.247 Z\" fill=\"#000000\" fill-rule=\"nonzero\" fill-opacity=\"1\" /><path clip-path=\"url(#clip600)\" d=\"M2097.23 200.529 L2097.23 216.178 L2092.97 216.178 L2092.97 200.668 Q2092.97 196.988 2091.54 195.159 Q2090.1 193.33 2087.23 193.33 Q2083.79 193.33 2081.79 195.53 Q2079.8 197.729 2079.8 201.525 L2079.8 216.178 L2075.52 216.178 L2075.52 180.159 L2079.8 180.159 L2079.8 194.28 Q2081.33 191.942 2083.39 190.784 Q2085.47 189.627 2088.18 189.627 Q2092.65 189.627 2094.94 192.405 Q2097.23 195.159 2097.23 200.529 Z\" fill=\"#000000\" fill-rule=\"nonzero\" fill-opacity=\"1\" /><path clip-path=\"url(#clip600)\" d=\"M2122.26 191.016 L2122.26 195.043 Q2120.45 194.117 2118.51 193.655 Q2116.56 193.192 2114.48 193.192 Q2111.31 193.192 2109.71 194.164 Q2108.14 195.136 2108.14 197.08 Q2108.14 198.562 2109.27 199.418 Q2110.41 200.252 2113.83 201.016 L2115.29 201.34 Q2119.83 202.312 2121.72 204.094 Q2123.65 205.854 2123.65 209.025 Q2123.65 212.636 2120.78 214.742 Q2117.93 216.849 2112.93 216.849 Q2110.85 216.849 2108.58 216.432 Q2106.33 216.039 2103.83 215.228 L2103.83 210.83 Q2106.19 212.057 2108.48 212.682 Q2110.78 213.284 2113.02 213.284 Q2116.03 213.284 2117.65 212.266 Q2119.27 211.224 2119.27 209.349 Q2119.27 207.613 2118.09 206.687 Q2116.93 205.761 2112.97 204.904 L2111.49 204.557 Q2107.53 203.724 2105.78 202.011 Q2104.02 200.275 2104.02 197.266 Q2104.02 193.608 2106.61 191.618 Q2109.2 189.627 2113.97 189.627 Q2116.33 189.627 2118.41 189.974 Q2120.5 190.321 2122.26 191.016 Z\" fill=\"#000000\" fill-rule=\"nonzero\" fill-opacity=\"1\" /></svg>\n"
      ]
     },
     "metadata": {},
     "output_type": "display_data"
    }
   ],
   "source": [
    "using Plots\n",
    "using BenchmarkTools: @btime\n",
    "using ProfileSVG\n",
    "\n",
    "epochs = 10\n",
    "batch_size = 64\n",
    "learning_rate = 0.0075\n",
    "pool_size = (4,4)\n",
    "\n",
    "model = [\n",
    "    Conv2DNode(batch_size=batch_size, filters=24, kernel_size=(3,3), input_shape=(28,28,1), activation=\"relu\"),\n",
    "    MaxPoolNode(pool_size=(4,4)),\n",
    "    FlattenNode(input_shape=(6,6,24)),\n",
    "    DenseNode(neurons=32, activation=\"relu\", input_shape=(prod((6,6,24)), 1)),\n",
    "    DenseNode(neurons=10, activation=\"softmax\", input_shape=(32,1))\n",
    "]\n",
    "\n",
    "graph = graph_build(model, \"cross_entropy_loss\")\n",
    "\n",
    "loss = train!(graph, train_x, train_y, epochs, batch_size, learning_rate, \"adam\")\n",
    "plot_loss(loss, epochs)"
   ]
  },
  {
   "cell_type": "code",
   "execution_count": 11,
   "id": "2304da79",
   "metadata": {},
   "outputs": [
    {
     "name": "stdout",
     "output_type": "stream",
     "text": [
      "Accuracy: 0.9068\n"
     ]
    }
   ],
   "source": [
    "test_data = mnist.test_images()\n",
    "test_labels = Int64.(mnist.test_labels())\n",
    "\n",
    "test_x =  reshape(test_data, :, 28, 28, 1) / 255.0\n",
    "test_y = test_labels\n",
    "\n",
    "n = 5000\n",
    "idx = randperm(n)\n",
    "\n",
    "test_x = test_x[idx, :,:,:]\n",
    "test_y = test_y[idx]\n",
    "\n",
    "accuracy = evaluate(graph, test_x, test_y, batch_size, pool_size)\n",
    "println(\"Accuracy: \", accuracy)"
   ]
  },
  {
   "cell_type": "code",
   "execution_count": 107,
   "id": "89c5d318",
   "metadata": {},
   "outputs": [
    {
     "name": "stdout",
     "output_type": "stream",
     "text": [
      "Class \t\t Precision \t Recall \t F1-score \t Support\n",
      "0          \t 0.9461     \t 0.9543     \t 0.9502     \t 460 \n",
      "1          \t 0.9772     \t 0.9772     \t 0.9772     \t 571 \n",
      "2          \t 0.8891     \t 0.9075     \t 0.8982     \t 530 \n",
      "3          \t 0.9050     \t 0.8760     \t 0.8902     \t 500 \n",
      "4          \t 0.9476     \t 0.9040     \t 0.9253     \t 500 \n",
      "5          \t 0.8991     \t 0.8794     \t 0.8891     \t 456 \n",
      "6          \t 0.9247     \t 0.9307     \t 0.9277     \t 462 \n",
      "7          \t 0.9256     \t 0.8750     \t 0.8996     \t 512 \n",
      "8          \t 0.8742     \t 0.7955     \t 0.8330     \t 489 \n",
      "9          \t 0.7994     \t 0.9577     \t 0.8714     \t 520 \n",
      "------------------------------------------------\n",
      "Avg/Total \t 0.9090     \t 0.9068     \t 0.9068     \t 5000\n"
     ]
    },
    {
     "name": "stderr",
     "output_type": "stream",
     "text": [
      "┌ Warning: The classes are un-ordered,\n",
      "│ using order: [0, 1, 2, 3, 4, 5, 6, 7, 8, 9].\n",
      "│ To suppress this warning, consider coercing to OrderedFactor.\n",
      "└ @ MLJBase C:\\Users\\anczo\\.julia\\packages\\MLJBase\\g5E7V\\src\\measures\\confusion_matrix.jl:122\n"
     ]
    },
    {
     "data": {
      "image/png": "[encoded data removed]",
      "image/svg+xml": [
       "<?xml version=\"1.0\" encoding=\"utf-8\"?>\n",
       "<svg xmlns=\"http://www.w3.org/2000/svg\" xmlns:xlink=\"http://www.w3.org/1999/xlink\" width=\"700\" height=\"700\" viewBox=\"0 0 2800 2800\">\n",
       "<defs>\n",
       "  <clipPath id=\"clip520\">\n",
       "    <rect x=\"0\" y=\"0\" width=\"2800\" height=\"2800\"/>\n",
       "  </clipPath>\n",
       "</defs>\n",
       "<path clip-path=\"url(#clip520)\" d=\"M0 2800 L2800 2800 L2800 0 L0 0  Z\" fill=\"#ffffff\" fill-rule=\"evenodd\" fill-opacity=\"1\"/>\n",
       "<defs>\n",
       "  <clipPath id=\"clip521\">\n",
       "    <rect x=\"560\" y=\"280\" width=\"1961\" height=\"1961\"/>\n",
       "  </clipPath>\n",
       "</defs>\n",
       "<path clip-path=\"url(#clip520)\" d=\"M229.987 2570.14 L2472.76 2570.14 L2472.76 153.712 L229.987 153.712  Z\" fill=\"#ffffff\" fill-rule=\"evenodd\" fill-opacity=\"1\"/>\n",
       "<defs>\n",
       "  <clipPath id=\"clip522\">\n",
       "    <rect x=\"229\" y=\"153\" width=\"2244\" height=\"2417\"/>\n",
       "  </clipPath>\n",
       "</defs>\n",
       "<polyline clip-path=\"url(#clip522)\" style=\"stroke:#000000; stroke-linecap:round; stroke-linejoin:round; stroke-width:2; stroke-opacity:0.1; fill:none\" points=\"566.403,2570.14 566.403,153.712 \"/>\n",
       "<polyline clip-path=\"url(#clip522)\" style=\"stroke:#000000; stroke-linecap:round; stroke-linejoin:round; stroke-width:2; stroke-opacity:0.1; fill:none\" points=\"1014.96,2570.14 1014.96,153.712 \"/>\n",
       "<polyline clip-path=\"url(#clip522)\" style=\"stroke:#000000; stroke-linecap:round; stroke-linejoin:round; stroke-width:2; stroke-opacity:0.1; fill:none\" points=\"1463.51,2570.14 1463.51,153.712 \"/>\n",
       "<polyline clip-path=\"url(#clip522)\" style=\"stroke:#000000; stroke-linecap:round; stroke-linejoin:round; stroke-width:2; stroke-opacity:0.1; fill:none\" points=\"1912.06,2570.14 1912.06,153.712 \"/>\n",
       "<polyline clip-path=\"url(#clip522)\" style=\"stroke:#000000; stroke-linecap:round; stroke-linejoin:round; stroke-width:2; stroke-opacity:0.1; fill:none\" points=\"2360.62,2570.14 2360.62,153.712 \"/>\n",
       "<polyline clip-path=\"url(#clip520)\" style=\"stroke:#000000; stroke-linecap:round; stroke-linejoin:round; stroke-width:4; stroke-opacity:1; fill:none\" points=\"229.987,2570.14 2472.76,2570.14 \"/>\n",
       "<polyline clip-path=\"url(#clip520)\" style=\"stroke:#000000; stroke-linecap:round; stroke-linejoin:round; stroke-width:4; stroke-opacity:1; fill:none\" points=\"566.403,2570.14 566.403,2551.24 \"/>\n",
       "<polyline clip-path=\"url(#clip520)\" style=\"stroke:#000000; stroke-linecap:round; stroke-linejoin:round; stroke-width:4; stroke-opacity:1; fill:none\" points=\"1014.96,2570.14 1014.96,2551.24 \"/>\n",
       "<polyline clip-path=\"url(#clip520)\" style=\"stroke:#000000; stroke-linecap:round; stroke-linejoin:round; stroke-width:4; stroke-opacity:1; fill:none\" points=\"1463.51,2570.14 1463.51,2551.24 \"/>\n",
       "<polyline clip-path=\"url(#clip520)\" style=\"stroke:#000000; stroke-linecap:round; stroke-linejoin:round; stroke-width:4; stroke-opacity:1; fill:none\" points=\"1912.06,2570.14 1912.06,2551.24 \"/>\n",
       "<polyline clip-path=\"url(#clip520)\" style=\"stroke:#000000; stroke-linecap:round; stroke-linejoin:round; stroke-width:4; stroke-opacity:1; fill:none\" points=\"2360.62,2570.14 2360.62,2551.24 \"/>\n",
       "<path clip-path=\"url(#clip520)\" d=\"M561.056 2631.8 L577.375 2631.8 L577.375 2635.74 L555.431 2635.74 L555.431 2631.8 Q558.093 2629.05 562.676 2624.42 Q567.282 2619.77 568.463 2618.43 Q570.708 2615.9 571.588 2614.17 Q572.491 2612.41 572.491 2610.72 Q572.491 2607.96 570.546 2606.23 Q568.625 2604.49 565.523 2604.49 Q563.324 2604.49 560.87 2605.25 Q558.44 2606.02 555.662 2607.57 L555.662 2602.85 Q558.486 2601.71 560.94 2601.13 Q563.393 2600.55 565.431 2600.55 Q570.801 2600.55 573.995 2603.24 Q577.19 2605.93 577.19 2610.42 Q577.19 2612.55 576.38 2614.47 Q575.593 2616.36 573.486 2618.96 Q572.907 2619.63 569.805 2622.85 Q566.704 2626.04 561.056 2631.8 Z\" fill=\"#000000\" fill-rule=\"nonzero\" fill-opacity=\"1\" /><path clip-path=\"url(#clip520)\" d=\"M1017.97 2605.25 L1006.16 2623.7 L1017.97 2623.7 L1017.97 2605.25 M1016.74 2601.18 L1022.62 2601.18 L1022.62 2623.7 L1027.55 2623.7 L1027.55 2627.59 L1022.62 2627.59 L1022.62 2635.74 L1017.97 2635.74 L1017.97 2627.59 L1002.36 2627.59 L1002.36 2623.08 L1016.74 2601.18 Z\" fill=\"#000000\" fill-rule=\"nonzero\" fill-opacity=\"1\" /><path clip-path=\"url(#clip520)\" d=\"M1463.92 2616.6 Q1460.77 2616.6 1458.92 2618.75 Q1457.09 2620.9 1457.09 2624.65 Q1457.09 2628.38 1458.92 2630.55 Q1460.77 2632.71 1463.92 2632.71 Q1467.06 2632.71 1468.89 2630.55 Q1470.74 2628.38 1470.74 2624.65 Q1470.74 2620.9 1468.89 2618.75 Q1467.06 2616.6 1463.92 2616.6 M1473.2 2601.94 L1473.2 2606.2 Q1471.44 2605.37 1469.63 2604.93 Q1467.85 2604.49 1466.09 2604.49 Q1461.46 2604.49 1459.01 2607.61 Q1456.58 2610.74 1456.23 2617.06 Q1457.6 2615.05 1459.66 2613.98 Q1461.72 2612.89 1464.19 2612.89 Q1469.4 2612.89 1472.41 2616.06 Q1475.44 2619.21 1475.44 2624.65 Q1475.44 2629.98 1472.29 2633.19 Q1469.15 2636.41 1463.92 2636.41 Q1457.92 2636.41 1454.75 2631.83 Q1451.58 2627.22 1451.58 2618.49 Q1451.58 2610.3 1455.47 2605.44 Q1459.36 2600.55 1465.91 2600.55 Q1467.67 2600.55 1469.45 2600.9 Q1471.25 2601.25 1473.2 2601.94 Z\" fill=\"#000000\" fill-rule=\"nonzero\" fill-opacity=\"1\" /><path clip-path=\"url(#clip520)\" d=\"M1912.06 2619.33 Q1908.73 2619.33 1906.81 2621.11 Q1904.91 2622.89 1904.91 2626.02 Q1904.91 2629.14 1906.81 2630.93 Q1908.73 2632.71 1912.06 2632.71 Q1915.4 2632.71 1917.32 2630.93 Q1919.24 2629.12 1919.24 2626.02 Q1919.24 2622.89 1917.32 2621.11 Q1915.42 2619.33 1912.06 2619.33 M1907.39 2617.34 Q1904.38 2616.6 1902.69 2614.54 Q1901.02 2612.48 1901.02 2609.51 Q1901.02 2605.37 1903.96 2602.96 Q1906.92 2600.55 1912.06 2600.55 Q1917.23 2600.55 1920.17 2602.96 Q1923.11 2605.37 1923.11 2609.51 Q1923.11 2612.48 1921.42 2614.54 Q1919.75 2616.6 1916.76 2617.34 Q1920.14 2618.12 1922.02 2620.42 Q1923.92 2622.71 1923.92 2626.02 Q1923.92 2631.04 1920.84 2633.73 Q1917.78 2636.41 1912.06 2636.41 Q1906.35 2636.41 1903.27 2633.73 Q1900.21 2631.04 1900.21 2626.02 Q1900.21 2622.71 1902.11 2620.42 Q1904.01 2618.12 1907.39 2617.34 M1905.67 2609.95 Q1905.67 2612.64 1907.34 2614.14 Q1909.03 2615.65 1912.06 2615.65 Q1915.07 2615.65 1916.76 2614.14 Q1918.48 2612.64 1918.48 2609.95 Q1918.48 2607.27 1916.76 2605.76 Q1915.07 2604.26 1912.06 2604.26 Q1909.03 2604.26 1907.34 2605.76 Q1905.67 2607.27 1905.67 2609.95 Z\" fill=\"#000000\" fill-rule=\"nonzero\" fill-opacity=\"1\" /><path clip-path=\"url(#clip520)\" d=\"M2335.31 2631.8 L2342.94 2631.8 L2342.94 2605.44 L2334.63 2607.11 L2334.63 2602.85 L2342.9 2601.18 L2347.57 2601.18 L2347.57 2631.8 L2355.21 2631.8 L2355.21 2635.74 L2335.31 2635.74 L2335.31 2631.8 Z\" fill=\"#000000\" fill-rule=\"nonzero\" fill-opacity=\"1\" /><path clip-path=\"url(#clip520)\" d=\"M2374.66 2604.26 Q2371.05 2604.26 2369.22 2607.82 Q2367.41 2611.36 2367.41 2618.49 Q2367.41 2625.6 2369.22 2629.17 Q2371.05 2632.71 2374.66 2632.71 Q2378.29 2632.71 2380.1 2629.17 Q2381.93 2625.6 2381.93 2618.49 Q2381.93 2611.36 2380.1 2607.82 Q2378.29 2604.26 2374.66 2604.26 M2374.66 2600.55 Q2380.47 2600.55 2383.52 2605.16 Q2386.6 2609.74 2386.6 2618.49 Q2386.6 2627.22 2383.52 2631.83 Q2380.47 2636.41 2374.66 2636.41 Q2368.85 2636.41 2365.77 2631.83 Q2362.71 2627.22 2362.71 2618.49 Q2362.71 2609.74 2365.77 2605.16 Q2368.85 2600.55 2374.66 2600.55 Z\" fill=\"#000000\" fill-rule=\"nonzero\" fill-opacity=\"1\" /><path clip-path=\"url(#clip520)\" d=\"M1210.96 2678.77 L1210.96 2696.62 L1219.04 2696.62 Q1223.53 2696.62 1225.98 2694.3 Q1228.43 2691.98 1228.43 2687.68 Q1228.43 2683.41 1225.98 2681.09 Q1223.53 2678.77 1219.04 2678.77 L1210.96 2678.77 M1204.53 2673.48 L1219.04 2673.48 Q1227.03 2673.48 1231.11 2677.11 Q1235.21 2680.71 1235.21 2687.68 Q1235.21 2694.71 1231.11 2698.31 Q1227.03 2701.91 1219.04 2701.91 L1210.96 2701.91 L1210.96 2721 L1204.53 2721 L1204.53 2673.48 Z\" fill=\"#000000\" fill-rule=\"nonzero\" fill-opacity=\"1\" /><path clip-path=\"url(#clip520)\" d=\"M1263.1 2690.83 Q1262.11 2690.26 1260.93 2690 Q1259.79 2689.72 1258.38 2689.72 Q1253.42 2689.72 1250.75 2692.96 Q1248.1 2696.18 1248.1 2702.23 L1248.1 2721 L1242.22 2721 L1242.22 2685.36 L1248.1 2685.36 L1248.1 2690.89 Q1249.95 2687.65 1252.91 2686.09 Q1255.87 2684.5 1260.1 2684.5 Q1260.71 2684.5 1261.44 2684.59 Q1262.17 2684.66 1263.06 2684.81 L1263.1 2690.83 Z\" fill=\"#000000\" fill-rule=\"nonzero\" fill-opacity=\"1\" /><path clip-path=\"url(#clip520)\" d=\"M1298.3 2701.72 L1298.3 2704.58 L1271.37 2704.58 Q1271.75 2710.63 1275 2713.81 Q1278.28 2716.96 1284.1 2716.96 Q1287.48 2716.96 1290.63 2716.13 Q1293.81 2715.31 1296.93 2713.65 L1296.93 2719.19 Q1293.78 2720.53 1290.47 2721.23 Q1287.16 2721.93 1283.75 2721.93 Q1275.22 2721.93 1270.22 2716.96 Q1265.26 2712 1265.26 2703.53 Q1265.26 2694.78 1269.97 2689.65 Q1274.71 2684.5 1282.73 2684.5 Q1289.93 2684.5 1294.1 2689.14 Q1298.3 2693.76 1298.3 2701.72 M1292.44 2700 Q1292.38 2695.19 1289.74 2692.33 Q1287.13 2689.46 1282.8 2689.46 Q1277.9 2689.46 1274.94 2692.23 Q1272.01 2695 1271.56 2700.03 L1292.44 2700 Z\" fill=\"#000000\" fill-rule=\"nonzero\" fill-opacity=\"1\" /><path clip-path=\"url(#clip520)\" d=\"M1331.37 2690.77 L1331.37 2671.48 L1337.22 2671.48 L1337.22 2721 L1331.37 2721 L1331.37 2715.66 Q1329.52 2718.84 1326.69 2720.4 Q1323.89 2721.93 1319.94 2721.93 Q1313.48 2721.93 1309.41 2716.77 Q1305.36 2711.61 1305.36 2703.21 Q1305.36 2694.81 1309.41 2689.65 Q1313.48 2684.5 1319.94 2684.5 Q1323.89 2684.5 1326.69 2686.06 Q1329.52 2687.58 1331.37 2690.77 M1311.41 2703.21 Q1311.41 2709.67 1314.05 2713.36 Q1316.73 2717.03 1321.37 2717.03 Q1326.02 2717.03 1328.69 2713.36 Q1331.37 2709.67 1331.37 2703.21 Q1331.37 2696.75 1328.69 2693.09 Q1326.02 2689.4 1321.37 2689.4 Q1316.73 2689.4 1314.05 2693.09 Q1311.41 2696.75 1311.41 2703.21 Z\" fill=\"#000000\" fill-rule=\"nonzero\" fill-opacity=\"1\" /><path clip-path=\"url(#clip520)\" d=\"M1349.29 2685.36 L1355.14 2685.36 L1355.14 2721 L1349.29 2721 L1349.29 2685.36 M1349.29 2671.48 L1355.14 2671.48 L1355.14 2678.89 L1349.29 2678.89 L1349.29 2671.48 Z\" fill=\"#000000\" fill-rule=\"nonzero\" fill-opacity=\"1\" /><path clip-path=\"url(#clip520)\" d=\"M1393.05 2686.72 L1393.05 2692.2 Q1390.57 2690.83 1388.05 2690.16 Q1385.57 2689.46 1383.03 2689.46 Q1377.33 2689.46 1374.18 2693.09 Q1371.03 2696.69 1371.03 2703.21 Q1371.03 2709.74 1374.18 2713.36 Q1377.33 2716.96 1383.03 2716.96 Q1385.57 2716.96 1388.05 2716.29 Q1390.57 2715.59 1393.05 2714.22 L1393.05 2719.64 Q1390.6 2720.78 1387.96 2721.35 Q1385.35 2721.93 1382.39 2721.93 Q1374.34 2721.93 1369.59 2716.87 Q1364.85 2711.81 1364.85 2703.21 Q1364.85 2694.49 1369.63 2689.49 Q1374.43 2684.5 1382.77 2684.5 Q1385.48 2684.5 1388.05 2685.07 Q1390.63 2685.61 1393.05 2686.72 Z\" fill=\"#000000\" fill-rule=\"nonzero\" fill-opacity=\"1\" /><path clip-path=\"url(#clip520)\" d=\"M1409.03 2675.23 L1409.03 2685.36 L1421.09 2685.36 L1421.09 2689.91 L1409.03 2689.91 L1409.03 2709.26 Q1409.03 2713.62 1410.21 2714.86 Q1411.42 2716.1 1415.08 2716.1 L1421.09 2716.1 L1421.09 2721 L1415.08 2721 Q1408.3 2721 1405.72 2718.49 Q1403.14 2715.94 1403.14 2709.26 L1403.14 2689.91 L1398.84 2689.91 L1398.84 2685.36 L1403.14 2685.36 L1403.14 2675.23 L1409.03 2675.23 Z\" fill=\"#000000\" fill-rule=\"nonzero\" fill-opacity=\"1\" /><path clip-path=\"url(#clip520)\" d=\"M1459.29 2701.72 L1459.29 2704.58 L1432.36 2704.58 Q1432.74 2710.63 1435.99 2713.81 Q1439.27 2716.96 1445.09 2716.96 Q1448.46 2716.96 1451.62 2716.13 Q1454.8 2715.31 1457.92 2713.65 L1457.92 2719.19 Q1454.77 2720.53 1451.46 2721.23 Q1448.15 2721.93 1444.74 2721.93 Q1436.21 2721.93 1431.21 2716.96 Q1426.25 2712 1426.25 2703.53 Q1426.25 2694.78 1430.96 2689.65 Q1435.7 2684.5 1443.72 2684.5 Q1450.92 2684.5 1455.08 2689.14 Q1459.29 2693.76 1459.29 2701.72 M1453.43 2700 Q1453.37 2695.19 1450.72 2692.33 Q1448.11 2689.46 1443.79 2689.46 Q1438.88 2689.46 1435.92 2692.23 Q1433 2695 1432.55 2700.03 L1453.43 2700 Z\" fill=\"#000000\" fill-rule=\"nonzero\" fill-opacity=\"1\" /><path clip-path=\"url(#clip520)\" d=\"M1492.36 2690.77 L1492.36 2671.48 L1498.21 2671.48 L1498.21 2721 L1492.36 2721 L1492.36 2715.66 Q1490.51 2718.84 1487.68 2720.4 Q1484.88 2721.93 1480.93 2721.93 Q1474.47 2721.93 1470.39 2716.77 Q1466.35 2711.61 1466.35 2703.21 Q1466.35 2694.81 1470.39 2689.65 Q1474.47 2684.5 1480.93 2684.5 Q1484.88 2684.5 1487.68 2686.06 Q1490.51 2687.58 1492.36 2690.77 M1472.4 2703.21 Q1472.4 2709.67 1475.04 2713.36 Q1477.72 2717.03 1482.36 2717.03 Q1487.01 2717.03 1489.68 2713.36 Q1492.36 2709.67 1492.36 2703.21 Q1492.36 2696.75 1489.68 2693.09 Q1487.01 2689.4 1482.36 2689.4 Q1477.72 2689.4 1475.04 2693.09 Q1472.4 2696.75 1472.4 2703.21 Z\" fill=\"#000000\" fill-rule=\"nonzero\" fill-opacity=\"1\" /><polyline clip-path=\"url(#clip522)\" style=\"stroke:#000000; stroke-linecap:round; stroke-linejoin:round; stroke-width:2; stroke-opacity:0.1; fill:none\" points=\"229.987,2207.68 2472.76,2207.68 \"/>\n",
       "<polyline clip-path=\"url(#clip522)\" style=\"stroke:#000000; stroke-linecap:round; stroke-linejoin:round; stroke-width:2; stroke-opacity:0.1; fill:none\" points=\"229.987,1724.39 2472.76,1724.39 \"/>\n",
       "<polyline clip-path=\"url(#clip522)\" style=\"stroke:#000000; stroke-linecap:round; stroke-linejoin:round; stroke-width:2; stroke-opacity:0.1; fill:none\" points=\"229.987,1241.1 2472.76,1241.1 \"/>\n",
       "<polyline clip-path=\"url(#clip522)\" style=\"stroke:#000000; stroke-linecap:round; stroke-linejoin:round; stroke-width:2; stroke-opacity:0.1; fill:none\" points=\"229.987,757.819 2472.76,757.819 \"/>\n",
       "<polyline clip-path=\"url(#clip522)\" style=\"stroke:#000000; stroke-linecap:round; stroke-linejoin:round; stroke-width:2; stroke-opacity:0.1; fill:none\" points=\"229.987,274.534 2472.76,274.534 \"/>\n",
       "<polyline clip-path=\"url(#clip520)\" style=\"stroke:#000000; stroke-linecap:round; stroke-linejoin:round; stroke-width:4; stroke-opacity:1; fill:none\" points=\"229.987,2570.14 229.987,153.712 \"/>\n",
       "<polyline clip-path=\"url(#clip520)\" style=\"stroke:#000000; stroke-linecap:round; stroke-linejoin:round; stroke-width:4; stroke-opacity:1; fill:none\" points=\"229.987,2207.68 246.788,2207.68 \"/>\n",
       "<polyline clip-path=\"url(#clip520)\" style=\"stroke:#000000; stroke-linecap:round; stroke-linejoin:round; stroke-width:4; stroke-opacity:1; fill:none\" points=\"229.987,1724.39 246.788,1724.39 \"/>\n",
       "<polyline clip-path=\"url(#clip520)\" style=\"stroke:#000000; stroke-linecap:round; stroke-linejoin:round; stroke-width:4; stroke-opacity:1; fill:none\" points=\"229.987,1241.1 246.788,1241.1 \"/>\n",
       "<polyline clip-path=\"url(#clip520)\" style=\"stroke:#000000; stroke-linecap:round; stroke-linejoin:round; stroke-width:4; stroke-opacity:1; fill:none\" points=\"229.987,757.819 246.788,757.819 \"/>\n",
       "<polyline clip-path=\"url(#clip520)\" style=\"stroke:#000000; stroke-linecap:round; stroke-linejoin:round; stroke-width:4; stroke-opacity:1; fill:none\" points=\"229.987,274.534 246.788,274.534 \"/>\n",
       "<path clip-path=\"url(#clip520)\" d=\"M171.668 2221.02 L187.987 2221.02 L187.987 2224.96 L166.043 2224.96 L166.043 2221.02 Q168.705 2218.27 173.288 2213.64 Q177.895 2208.98 179.075 2207.64 Q181.321 2205.12 182.2 2203.38 Q183.103 2201.62 183.103 2199.93 Q183.103 2197.18 181.159 2195.44 Q179.238 2193.71 176.136 2193.71 Q173.937 2193.71 171.483 2194.47 Q169.052 2195.23 166.275 2196.78 L166.275 2192.06 Q169.099 2190.93 171.552 2190.35 Q174.006 2189.77 176.043 2189.77 Q181.413 2189.77 184.608 2192.46 Q187.802 2195.14 187.802 2199.63 Q187.802 2201.76 186.992 2203.68 Q186.205 2205.58 184.099 2208.17 Q183.52 2208.84 180.418 2212.06 Q177.316 2215.26 171.668 2221.02 Z\" fill=\"#000000\" fill-rule=\"nonzero\" fill-opacity=\"1\" /><path clip-path=\"url(#clip520)\" d=\"M178.404 1711.18 L166.599 1729.63 L178.404 1729.63 L178.404 1711.18 M177.177 1707.11 L183.057 1707.11 L183.057 1729.63 L187.987 1729.63 L187.987 1733.52 L183.057 1733.52 L183.057 1741.67 L178.404 1741.67 L178.404 1733.52 L162.802 1733.52 L162.802 1729.01 L177.177 1707.11 Z\" fill=\"#000000\" fill-rule=\"nonzero\" fill-opacity=\"1\" /><path clip-path=\"url(#clip520)\" d=\"M176.46 1239.24 Q173.312 1239.24 171.46 1241.39 Q169.631 1243.55 169.631 1247.3 Q169.631 1251.02 171.46 1253.2 Q173.312 1255.35 176.46 1255.35 Q179.608 1255.35 181.437 1253.2 Q183.288 1251.02 183.288 1247.3 Q183.288 1243.55 181.437 1241.39 Q179.608 1239.24 176.46 1239.24 M185.742 1224.59 L185.742 1228.85 Q183.983 1228.01 182.177 1227.57 Q180.395 1227.13 178.636 1227.13 Q174.006 1227.13 171.552 1230.26 Q169.122 1233.38 168.775 1239.7 Q170.14 1237.69 172.201 1236.63 Q174.261 1235.54 176.738 1235.54 Q181.946 1235.54 184.955 1238.71 Q187.987 1241.86 187.987 1247.3 Q187.987 1252.62 184.839 1255.84 Q181.691 1259.06 176.46 1259.06 Q170.464 1259.06 167.293 1254.47 Q164.122 1249.87 164.122 1241.14 Q164.122 1232.94 168.011 1228.08 Q171.9 1223.2 178.45 1223.2 Q180.21 1223.2 181.992 1223.55 Q183.798 1223.89 185.742 1224.59 Z\" fill=\"#000000\" fill-rule=\"nonzero\" fill-opacity=\"1\" /><path clip-path=\"url(#clip520)\" d=\"M176.136 758.687 Q172.802 758.687 170.881 760.47 Q168.983 762.252 168.983 765.377 Q168.983 768.502 170.881 770.284 Q172.802 772.067 176.136 772.067 Q179.469 772.067 181.39 770.284 Q183.312 768.479 183.312 765.377 Q183.312 762.252 181.39 760.47 Q179.492 758.687 176.136 758.687 M171.46 756.696 Q168.451 755.956 166.761 753.895 Q165.094 751.835 165.094 748.872 Q165.094 744.729 168.034 742.321 Q170.997 739.914 176.136 739.914 Q181.298 739.914 184.237 742.321 Q187.177 744.729 187.177 748.872 Q187.177 751.835 185.487 753.895 Q183.821 755.956 180.835 756.696 Q184.214 757.483 186.089 759.775 Q187.987 762.067 187.987 765.377 Q187.987 770.4 184.909 773.085 Q181.853 775.77 176.136 775.77 Q170.418 775.77 167.339 773.085 Q164.284 770.4 164.284 765.377 Q164.284 762.067 166.182 759.775 Q168.08 757.483 171.46 756.696 M169.747 749.312 Q169.747 751.997 171.413 753.502 Q173.103 755.007 176.136 755.007 Q179.145 755.007 180.835 753.502 Q182.548 751.997 182.548 749.312 Q182.548 746.627 180.835 745.122 Q179.145 743.618 176.136 743.618 Q173.103 743.618 171.413 745.122 Q169.747 746.627 169.747 749.312 Z\" fill=\"#000000\" fill-rule=\"nonzero\" fill-opacity=\"1\" /><path clip-path=\"url(#clip520)\" d=\"M136.691 287.878 L144.33 287.878 L144.33 261.513 L136.02 263.179 L136.02 258.92 L144.284 257.254 L148.96 257.254 L148.96 287.878 L156.599 287.878 L156.599 291.814 L136.691 291.814 L136.691 287.878 Z\" fill=\"#000000\" fill-rule=\"nonzero\" fill-opacity=\"1\" /><path clip-path=\"url(#clip520)\" d=\"M176.043 260.332 Q172.432 260.332 170.603 263.897 Q168.798 267.439 168.798 274.568 Q168.798 281.675 170.603 285.239 Q172.432 288.781 176.043 288.781 Q179.677 288.781 181.483 285.239 Q183.312 281.675 183.312 274.568 Q183.312 267.439 181.483 263.897 Q179.677 260.332 176.043 260.332 M176.043 256.629 Q181.853 256.629 184.909 261.235 Q187.987 265.818 187.987 274.568 Q187.987 283.295 184.909 287.901 Q181.853 292.485 176.043 292.485 Q170.233 292.485 167.154 287.901 Q164.099 283.295 164.099 274.568 Q164.099 265.818 167.154 261.235 Q170.233 256.629 176.043 256.629 Z\" fill=\"#000000\" fill-rule=\"nonzero\" fill-opacity=\"1\" /><path clip-path=\"url(#clip520)\" d=\"M38.578 1438.95 L62.2266 1447.67 L62.2266 1430.2 L38.578 1438.95 M32.2442 1442.58 L32.2442 1435.29 L79.7642 1417.18 L79.7642 1423.86 L67.5738 1428.19 L67.5738 1449.61 L79.7642 1453.94 L79.7642 1460.72 L32.2442 1442.58 Z\" fill=\"#000000\" fill-rule=\"nonzero\" fill-opacity=\"1\" /><path clip-path=\"url(#clip520)\" d=\"M45.4848 1385.99 L50.9593 1385.99 Q49.5907 1388.47 48.9223 1390.99 Q48.2221 1393.47 48.2221 1396.01 Q48.2221 1401.71 51.8505 1404.86 Q55.4472 1408.01 61.972 1408.01 Q68.4969 1408.01 72.1253 1404.86 Q75.7219 1401.71 75.7219 1396.01 Q75.7219 1393.47 75.0535 1390.99 Q74.3533 1388.47 72.9847 1385.99 L78.3955 1385.99 Q79.5414 1388.44 80.1143 1391.08 Q80.6872 1393.69 80.6872 1396.65 Q80.6872 1404.7 75.6264 1409.45 Q70.5657 1414.19 61.972 1414.19 Q53.251 1414.19 48.2539 1409.41 Q43.2568 1404.61 43.2568 1396.27 Q43.2568 1393.56 43.8297 1390.99 Q44.3708 1388.41 45.4848 1385.99 Z\" fill=\"#000000\" fill-rule=\"nonzero\" fill-opacity=\"1\" /><path clip-path=\"url(#clip520)\" d=\"M33.9947 1370.01 L44.1162 1370.01 L44.1162 1357.95 L48.6677 1357.95 L48.6677 1370.01 L68.0194 1370.01 Q72.3799 1370.01 73.6213 1368.83 Q74.8626 1367.62 74.8626 1363.96 L74.8626 1357.95 L79.7642 1357.95 L79.7642 1363.96 Q79.7642 1370.74 77.2497 1373.32 Q74.7034 1375.9 68.0194 1375.9 L48.6677 1375.9 L48.6677 1380.2 L44.1162 1380.2 L44.1162 1375.9 L33.9947 1375.9 L33.9947 1370.01 Z\" fill=\"#000000\" fill-rule=\"nonzero\" fill-opacity=\"1\" /><path clip-path=\"url(#clip520)\" d=\"M65.6959 1350.85 L44.1162 1350.85 L44.1162 1344.99 L65.4731 1344.99 Q70.5339 1344.99 73.0802 1343.02 Q75.5946 1341.05 75.5946 1337.1 Q75.5946 1332.36 72.5709 1329.62 Q69.5472 1326.85 64.3273 1326.85 L44.1162 1326.85 L44.1162 1320.99 L79.7642 1320.99 L79.7642 1326.85 L74.2896 1326.85 Q77.5362 1328.98 79.1276 1331.82 Q80.6872 1334.62 80.6872 1338.34 Q80.6872 1344.48 76.8678 1347.67 Q73.0483 1350.85 65.6959 1350.85 M43.2568 1336.11 L43.2568 1336.11 Z\" fill=\"#000000\" fill-rule=\"nonzero\" fill-opacity=\"1\" /><path clip-path=\"url(#clip520)\" d=\"M61.8447 1292.73 Q61.8447 1299.83 63.4679 1302.57 Q65.0912 1305.3 69.0061 1305.3 Q72.1253 1305.3 73.9714 1303.27 Q75.7856 1301.2 75.7856 1297.66 Q75.7856 1292.79 72.3481 1289.87 Q68.8788 1286.91 63.1497 1286.91 L61.8447 1286.91 L61.8447 1292.73 M59.4257 1281.05 L79.7642 1281.05 L79.7642 1286.91 L74.3533 1286.91 Q77.5998 1288.91 79.1594 1291.9 Q80.6872 1294.9 80.6872 1299.22 Q80.6872 1304.7 77.6316 1307.94 Q74.5443 1311.16 69.3881 1311.16 Q63.3725 1311.16 60.3169 1307.15 Q57.2614 1303.11 57.2614 1295.12 L57.2614 1286.91 L56.6885 1286.91 Q52.6462 1286.91 50.4501 1289.58 Q48.2221 1292.22 48.2221 1297.03 Q48.2221 1300.08 48.9541 1302.98 Q49.6862 1305.88 51.1503 1308.55 L45.7395 1308.55 Q44.4981 1305.33 43.8934 1302.31 Q43.2568 1299.29 43.2568 1296.42 Q43.2568 1288.69 47.2672 1284.87 Q51.2776 1281.05 59.4257 1281.05 Z\" fill=\"#000000\" fill-rule=\"nonzero\" fill-opacity=\"1\" /><path clip-path=\"url(#clip520)\" d=\"M30.239 1268.99 L30.239 1263.13 L79.7642 1263.13 L79.7642 1268.99 L30.239 1268.99 Z\" fill=\"#000000\" fill-rule=\"nonzero\" fill-opacity=\"1\" /><path clip-path=\"url(#clip520)\" d=\"M1053.71 16.7545 L1053.71 25.383 Q1049.58 21.5346 1044.88 19.6307 Q1040.22 17.7268 1034.96 17.7268 Q1024.59 17.7268 1019.08 24.0867 Q1013.57 30.4061 1013.57 42.3968 Q1013.57 54.3469 1019.08 60.7069 Q1024.59 67.0263 1034.96 67.0263 Q1040.22 67.0263 1044.88 65.1223 Q1049.58 63.2184 1053.71 59.3701 L1053.71 67.9175 Q1049.42 70.8341 1044.6 72.2924 Q1039.82 73.7508 1034.47 73.7508 Q1020.74 73.7508 1012.84 65.3654 Q1004.94 56.9395 1004.94 42.3968 Q1004.94 27.8135 1012.84 19.4281 Q1020.74 11.0023 1034.47 11.0023 Q1039.9 11.0023 1044.68 12.4606 Q1049.5 13.8784 1053.71 16.7545 Z\" fill=\"#000000\" fill-rule=\"nonzero\" fill-opacity=\"1\" /><path clip-path=\"url(#clip520)\" d=\"M1083.61 32.4315 Q1077.61 32.4315 1074.13 37.1306 Q1070.64 41.7891 1070.64 49.9314 Q1070.64 58.0738 1074.09 62.7728 Q1077.57 67.4314 1083.61 67.4314 Q1089.56 67.4314 1093.05 62.7323 Q1096.53 58.0333 1096.53 49.9314 Q1096.53 41.8701 1093.05 37.1711 Q1089.56 32.4315 1083.61 32.4315 M1083.61 26.1121 Q1093.33 26.1121 1098.88 32.4315 Q1104.43 38.7509 1104.43 49.9314 Q1104.43 61.0714 1098.88 67.4314 Q1093.33 73.7508 1083.61 73.7508 Q1073.84 73.7508 1068.29 67.4314 Q1062.79 61.0714 1062.79 49.9314 Q1062.79 38.7509 1068.29 32.4315 Q1073.84 26.1121 1083.61 26.1121 Z\" fill=\"#000000\" fill-rule=\"nonzero\" fill-opacity=\"1\" /><path clip-path=\"url(#clip520)\" d=\"M1154.5 45.1919 L1154.5 72.576 L1147.04 72.576 L1147.04 45.4349 Q1147.04 38.994 1144.53 35.7938 Q1142.02 32.5936 1137 32.5936 Q1130.96 32.5936 1127.48 36.4419 Q1123.99 40.2903 1123.99 46.9338 L1123.99 72.576 L1116.5 72.576 L1116.5 27.2059 L1123.99 27.2059 L1123.99 34.2544 Q1126.67 30.163 1130.27 28.1376 Q1133.92 26.1121 1138.66 26.1121 Q1146.48 26.1121 1150.49 30.9732 Q1154.5 35.7938 1154.5 45.1919 Z\" fill=\"#000000\" fill-rule=\"nonzero\" fill-opacity=\"1\" /><path clip-path=\"url(#clip520)\" d=\"M1192.33 9.54393 L1192.33 15.7418 L1185.2 15.7418 Q1181.19 15.7418 1179.61 17.3622 Q1178.07 18.9825 1178.07 23.1955 L1178.07 27.2059 L1190.35 27.2059 L1190.35 32.9987 L1178.07 32.9987 L1178.07 72.576 L1170.58 72.576 L1170.58 32.9987 L1163.45 32.9987 L1163.45 27.2059 L1170.58 27.2059 L1170.58 24.0462 Q1170.58 16.471 1174.1 13.0277 Q1177.63 9.54393 1185.28 9.54393 L1192.33 9.54393 Z\" fill=\"#000000\" fill-rule=\"nonzero\" fill-opacity=\"1\" /><path clip-path=\"url(#clip520)\" d=\"M1197.8 54.671 L1197.8 27.2059 L1205.26 27.2059 L1205.26 54.3874 Q1205.26 60.8284 1207.77 64.0691 Q1210.28 67.2693 1215.3 67.2693 Q1221.34 67.2693 1224.82 63.421 Q1228.35 59.5726 1228.35 52.9291 L1228.35 27.2059 L1235.8 27.2059 L1235.8 72.576 L1228.35 72.576 L1228.35 65.6084 Q1225.63 69.7404 1222.03 71.7658 Q1218.46 73.7508 1213.72 73.7508 Q1205.9 73.7508 1201.85 68.8897 Q1197.8 64.0286 1197.8 54.671 M1216.56 26.1121 L1216.56 26.1121 Z\" fill=\"#000000\" fill-rule=\"nonzero\" fill-opacity=\"1\" /><path clip-path=\"url(#clip520)\" d=\"M1280.08 28.5427 L1280.08 35.5912 Q1276.92 33.9709 1273.51 33.1607 Q1270.11 32.3505 1266.46 32.3505 Q1260.91 32.3505 1258.12 34.0519 Q1255.37 35.7533 1255.37 39.156 Q1255.37 41.7486 1257.35 43.2475 Q1259.34 44.7058 1265.33 46.0426 L1267.88 46.6097 Q1275.82 48.3111 1279.14 51.4303 Q1282.51 54.509 1282.51 60.0587 Q1282.51 66.3781 1277.48 70.0644 Q1272.5 73.7508 1263.75 73.7508 Q1260.1 73.7508 1256.13 73.0216 Q1252.21 72.3329 1247.83 70.9151 L1247.83 63.2184 Q1251.96 65.3654 1255.97 66.4591 Q1259.98 67.5124 1263.91 67.5124 Q1269.18 67.5124 1272.01 65.73 Q1274.85 63.9071 1274.85 60.6258 Q1274.85 57.5877 1272.78 55.9673 Q1270.76 54.3469 1263.83 52.8481 L1261.24 52.2405 Q1254.31 50.7821 1251.23 47.7845 Q1248.15 44.7463 1248.15 39.4801 Q1248.15 33.0797 1252.69 29.5959 Q1257.23 26.1121 1265.57 26.1121 Q1269.71 26.1121 1273.35 26.7198 Q1277 27.3274 1280.08 28.5427 Z\" fill=\"#000000\" fill-rule=\"nonzero\" fill-opacity=\"1\" /><path clip-path=\"url(#clip520)\" d=\"M1294.38 27.2059 L1301.83 27.2059 L1301.83 72.576 L1294.38 72.576 L1294.38 27.2059 M1294.38 9.54393 L1301.83 9.54393 L1301.83 18.9825 L1294.38 18.9825 L1294.38 9.54393 Z\" fill=\"#000000\" fill-rule=\"nonzero\" fill-opacity=\"1\" /><path clip-path=\"url(#clip520)\" d=\"M1335.01 32.4315 Q1329.01 32.4315 1325.53 37.1306 Q1322.04 41.7891 1322.04 49.9314 Q1322.04 58.0738 1325.49 62.7728 Q1328.97 67.4314 1335.01 67.4314 Q1340.96 67.4314 1344.44 62.7323 Q1347.93 58.0333 1347.93 49.9314 Q1347.93 41.8701 1344.44 37.1711 Q1340.96 32.4315 1335.01 32.4315 M1335.01 26.1121 Q1344.73 26.1121 1350.28 32.4315 Q1355.83 38.7509 1355.83 49.9314 Q1355.83 61.0714 1350.28 67.4314 Q1344.73 73.7508 1335.01 73.7508 Q1325.24 73.7508 1319.69 67.4314 Q1314.18 61.0714 1314.18 49.9314 Q1314.18 38.7509 1319.69 32.4315 Q1325.24 26.1121 1335.01 26.1121 Z\" fill=\"#000000\" fill-rule=\"nonzero\" fill-opacity=\"1\" /><path clip-path=\"url(#clip520)\" d=\"M1405.9 45.1919 L1405.9 72.576 L1398.44 72.576 L1398.44 45.4349 Q1398.44 38.994 1395.93 35.7938 Q1393.42 32.5936 1388.4 32.5936 Q1382.36 32.5936 1378.88 36.4419 Q1375.39 40.2903 1375.39 46.9338 L1375.39 72.576 L1367.9 72.576 L1367.9 27.2059 L1375.39 27.2059 L1375.39 34.2544 Q1378.07 30.163 1381.67 28.1376 Q1385.32 26.1121 1390.06 26.1121 Q1397.88 26.1121 1401.89 30.9732 Q1405.9 35.7938 1405.9 45.1919 Z\" fill=\"#000000\" fill-rule=\"nonzero\" fill-opacity=\"1\" /><path clip-path=\"url(#clip520)\" d=\"M1447.46 12.096 L1459.65 12.096 L1475.09 53.2532 L1490.6 12.096 L1502.79 12.096 L1502.79 72.576 L1494.81 72.576 L1494.81 19.4686 L1479.22 60.9499 L1470.99 60.9499 L1455.4 19.4686 L1455.4 72.576 L1447.46 72.576 L1447.46 12.096 Z\" fill=\"#000000\" fill-rule=\"nonzero\" fill-opacity=\"1\" /><path clip-path=\"url(#clip520)\" d=\"M1539.33 49.7694 Q1530.3 49.7694 1526.82 51.8354 Q1523.33 53.9013 1523.33 58.8839 Q1523.33 62.8538 1525.93 65.2034 Q1528.56 67.5124 1533.05 67.5124 Q1539.25 67.5124 1542.98 63.1374 Q1546.75 58.7219 1546.75 51.4303 L1546.75 49.7694 L1539.33 49.7694 M1554.2 46.6907 L1554.2 72.576 L1546.75 72.576 L1546.75 65.6895 Q1544.19 69.8214 1540.39 71.8063 Q1536.58 73.7508 1531.07 73.7508 Q1524.1 73.7508 1519.97 69.8619 Q1515.88 65.9325 1515.88 59.3701 Q1515.88 51.7138 1520.98 47.825 Q1526.13 43.9361 1536.3 43.9361 L1546.75 43.9361 L1546.75 43.2069 Q1546.75 38.0623 1543.34 35.2672 Q1539.98 32.4315 1533.86 32.4315 Q1529.98 32.4315 1526.29 33.3632 Q1522.6 34.295 1519.2 36.1584 L1519.2 29.2718 Q1523.29 27.692 1527.14 26.9223 Q1530.99 26.1121 1534.63 26.1121 Q1544.48 26.1121 1549.34 31.2163 Q1554.2 36.3204 1554.2 46.6907 Z\" fill=\"#000000\" fill-rule=\"nonzero\" fill-opacity=\"1\" /><path clip-path=\"url(#clip520)\" d=\"M1576.93 14.324 L1576.93 27.2059 L1592.28 27.2059 L1592.28 32.9987 L1576.93 32.9987 L1576.93 57.6282 Q1576.93 63.1779 1578.42 64.7578 Q1579.96 66.3376 1584.62 66.3376 L1592.28 66.3376 L1592.28 72.576 L1584.62 72.576 Q1575.99 72.576 1572.71 69.3758 Q1569.43 66.1351 1569.43 57.6282 L1569.43 32.9987 L1563.96 32.9987 L1563.96 27.2059 L1569.43 27.2059 L1569.43 14.324 L1576.93 14.324 Z\" fill=\"#000000\" fill-rule=\"nonzero\" fill-opacity=\"1\" /><path clip-path=\"url(#clip520)\" d=\"M1628.37 34.1734 Q1627.12 33.4443 1625.62 33.1202 Q1624.16 32.7556 1622.38 32.7556 Q1616.06 32.7556 1612.66 36.8875 Q1609.29 40.9789 1609.29 48.6757 L1609.29 72.576 L1601.8 72.576 L1601.8 27.2059 L1609.29 27.2059 L1609.29 34.2544 Q1611.64 30.1225 1615.41 28.1376 Q1619.18 26.1121 1624.56 26.1121 Q1625.33 26.1121 1626.27 26.2337 Q1627.2 26.3147 1628.33 26.5172 L1628.37 34.1734 Z\" fill=\"#000000\" fill-rule=\"nonzero\" fill-opacity=\"1\" /><path clip-path=\"url(#clip520)\" d=\"M1636.19 27.2059 L1643.64 27.2059 L1643.64 72.576 L1636.19 72.576 L1636.19 27.2059 M1636.19 9.54393 L1643.64 9.54393 L1643.64 18.9825 L1636.19 18.9825 L1636.19 9.54393 Z\" fill=\"#000000\" fill-rule=\"nonzero\" fill-opacity=\"1\" /><path clip-path=\"url(#clip520)\" d=\"M1696.95 27.2059 L1680.55 49.2833 L1697.81 72.576 L1689.01 72.576 L1675.81 54.752 L1662.6 72.576 L1653.81 72.576 L1671.43 48.8377 L1655.31 27.2059 L1664.1 27.2059 L1676.13 43.369 L1688.16 27.2059 L1696.95 27.2059 Z\" fill=\"#000000\" fill-rule=\"nonzero\" fill-opacity=\"1\" /><g clip-path=\"url(#clip522)\">\n",
       "<image width=\"2243\" height=\"2416\" xlink:href=\"data:image/png;base64,\n",
       "iVBORw0KGgoAAAANSUhEUgAACMMAAAlwCAYAAACMemDnAAAgAElEQVR4nOzbS00FQRRF0dd8bCAA\n",
       "FSAAzwyxgAsYMCHwGhMkN9l3LQVnUqlOZ9dxfn2cF2CQIwhjTucPxhzH9ALYzRUIc9yBAGx1vU4v\n",
       "gL18g8KY14fH6Qmw1s30AAAAAAAAAAAA+C9iGAAAAAAAAAAAMsQwAAAAAAAAAABkiGEAAAAAAAAA\n",
       "AMgQwwAAAAAAAAAAkCGGAQAAAAAAAAAgQwwDAAAAAAAAAECGGAYAAAAAAAAAgAwxDAAAAAAAAAAA\n",
       "GWIYAAAAAAAAAAAyxDAAAAAAAAAAAGSIYQAAAAAAAAAAyBDDAAAAAAAAAACQIYYBAAAAAAAAACBD\n",
       "DAMAAAAAAAAAQIYYBgAAAAAAAACADDEMAAAAAAAAAAAZYhgAAAAAAAAAADLEMAAAAAAAAAAAZIhh\n",
       "AAAAAAAAAADIEMMAAAAAAAAAAJAhhgEAAAAAAAAAIEMMAwAAAAAAAABAhhgGAAAAAAAAAIAMMQwA\n",
       "AAAAAAAAABliGAAAAAAAAAAAMsQwAAAAAAAAAABkiGEAAAAAAAAAAMgQwwAAAAAAAAAAkCGGAQAA\n",
       "AAAAAAAgQwwDAAAAAAAAAECGGAYAAAAAAAAAgAwxDAAAAAAAAAAAGWIYAAAAAAAAAAAyxDAAAAAA\n",
       "AAAAAGSIYQAAAAAAAAAAyBDDAAAAAAAAAACQIYYBAAAAAAAAACBDDAMAAAAAAAAAQIYYBgAAAAAA\n",
       "AACADDEMAAAAAAAAAAAZYhgAAAAAAAAAADLEMAAAAAAAAAAAZIhhAAAAAAAAAADIEMMAAAAAAAAA\n",
       "AJAhhgEAAAAAAAAAIEMMAwAAAAAAAABAhhgGAAAAAAAAAIAMMQwAAAAAAAAAABliGAAAAAAAAAAA\n",
       "MsQwAAAAAAAAAABkiGEAAAAAAAAAAMgQwwAAAAAAAAAAkCGGAQAAAAAAAAAgQwwDAAAAAAAAAECG\n",
       "GAYAAAAAAAAAgAwxDAAAAAAAAAAAGWIYAAAAAAAAAAAyxDAAAAAAAAAAAGSIYQAAAAAAAAAAyBDD\n",
       "AAAAAAAAAACQIYYBAAAAAAAAACBDDAMAAAAAAAAAQIYYBgAAAAAAAACADDEMAAAAAAAAAAAZYhgA\n",
       "AAAAAAAAADLEMAAAAAAAAAAAZIhhAAAAAAAAAADIEMMAAAAAAAAAAJAhhgEAAAAAAAAAIEMMAwAA\n",
       "AAAAAABAhhgGAAAAAAAAAIAMMQwAAAAAAAAAABliGAAAAAAAAAAAMsQwAAAAAAAAAABkiGEAAAAA\n",
       "AAAAAMgQwwAAAAAAAAAAkCGGAQAAAAAAAAAgQwwDAAAAAAAAAECGGAYAAAAAAAAAgAwxDAAAAAAA\n",
       "AAAAGWIYAAAAAAAAAAAyxDAAAAAAAAAAAGSIYQAAAAAAAAAAyBDDAAAAAAAAAACQIYYBAAAAAAAA\n",
       "ACBDDAMAAAAAAAAAQIYYBgAAAAAAAACADDEMAAAAAAAAAAAZYhgAAAAAAAAAADLEMAAAAAAAAAAA\n",
       "ZIhhAAAAAAAAAADIEMMAAAAAAAAAAJAhhgEAAAAAAAAAIEMMAwAAAAAAAABAhhgGAAAAAAAAAIAM\n",
       "MQwAAAAAAAAAABliGAAAAAAAAAAAMsQwAAAAAAAAAABkiGEAAAAAAAAAAMgQwwAAAAAAAAAAkCGG\n",
       "AQAAAAAAAAAgQwwDAAAAAAAAAECGGAYAAAAAAAAAgAwxDAAAAAAAAAAAGWIYAAAAAAAAAAAyxDAA\n",
       "AAAAAAAAAGSIYQAAAAAAAAAAyBDDAAAAAAAAAACQIYYBAAAAAAAAACBDDAMAAAAAAAAAQIYYBgAA\n",
       "AAAAAACADDEMAAAAAAAAAAAZYhgAAAAAAAAAADLEMAAAAAAAAAAAZIhhAAAAAAAAAADIEMMAAAAA\n",
       "AAAAAJAhhgEAAAAAAAAAIEMMAwAAAAAAAABAhhgGAAAAAAAAAIAMMQwAAAAAAAAAABliGAAAAAAA\n",
       "AAAAMsQwAAAAAAAAAABkiGEAAAAAAAAAAMgQwwAAAAAAAAAAkCGGAQAAAAAAAAAgQwwDAAAAAAAA\n",
       "AECGGAYAAAAAAAAAgAwxDAAAAAAAAAAAGWIYAAAAAAAAAAAyxDAAAAAAAAAAAGSIYQAAAAAAAAAA\n",
       "yBDDAAAAAAAAAACQIYYBAAAAAAAAACBDDAMAAAAAAAAAQIYYBgAAAAAAAACADDEMAAAAAAAAAAAZ\n",
       "YhgAAAAAAAAAADLEMAAAAAAAAAAAZIhhAAAAAAAAAADIEMMAAAAAAAAAAJAhhgEAAAAAAAAAIEMM\n",
       "AwAAAAAAAABAhhgGAAAAAAAAAIAMMQwAAAAAAAAAABliGAAAAAAAAAAAMsQwAAAAAAAAAABkiGEA\n",
       "AAAAAAAAAMgQwwAAAAAAAAAAkCGGAQAAAAAAAAAgQwwDAAAAAAAAAECGGAYAAAAAAAAAgAwxDAAA\n",
       "AAAAAAAAGWIYAAAAAAAAAAAyxDAAAAAAAAAAAGSIYQAAAAAAAAAAyBDDAAAAAAAAAACQIYYBAAAA\n",
       "AAAAACBDDAMAAAAAAAAAQIYYBgAAAAAAAACADDEMAAAAAAAAAAAZYhgAAAAAAAAAADLEMAAAAAAA\n",
       "AAAAZIhhAAAAAAAAAADIEMMAAAAAAAAAAJAhhgEAAAAAAAAAIEMMAwAAAAAAAABAhhgGAAAAAAAA\n",
       "AIAMMQwAAAAAAAAAABliGAAAAAAAAAAAMsQwAAAAAAAAAABkiGEAAAAAAAAAAMgQwwAAAAAAAAAA\n",
       "kCGGAQAAAAAAAAAgQwwDAAAAAAAAAECGGAYAAAAAAAAAgAwxDAAAAAAAAAAAGWIYAAAAAAAAAAAy\n",
       "xDAAAAAAAAAAAGSIYQAAAAAAAAAAyBDDAAAAAAAAAACQIYYBAAAAAAAAACBDDAMAAAAAAAAAQIYY\n",
       "BgAAAAAAAACADDEMAAAAAAAAAAAZYhgAAAAAAAAAADLEMAAAAAAAAAAAZIhhAAAAAAAAAADIEMMA\n",
       "AAAAAAAAAJAhhgEAAAAAAAAAIEMMAwAAAAAAAABAhhgGAAAAAAAAAIAMMQwAAAAAAAAAABliGAAA\n",
       "AAAAAAAAMsQwAAAAAAAAAABkiGEAAAAAAAAAAMgQwwAAAAAAAAAAkCGGAQAAAAAAAAAgQwwDAAAA\n",
       "AAAAAECGGAYAAAAAAAAAgAwxDAAAAAAAAAAAGWIYAAAAAAAAAAAyxDAAAAAAAAAAAGSIYQAAAAAA\n",
       "AAAAyBDDAAAAAAAAAACQIYYBAAAAAAAAACBDDAMAAAAAAAAAQIYYBgAAAAAAAACADDEMAAAAAAAA\n",
       "AAAZYhgAAAAAAAAAADLEMAAAAAAAAAAAZIhhAAAAAAAAAADIEMMAAAAAAAAAAJAhhgEAAAAAAAAA\n",
       "IEMMAwAAAAAAAABAhhgGAAAAAAAAAIAMMQwAAAAAAAAAABliGAAAAAAAAAAAMsQwAAAAAAAAAABk\n",
       "iGEAAAAAAAAAAMgQwwAAAAAAAAAAkCGGAQAAAAAAAAAgQwwDAAAAAAAAAECGGAYAAAAAAAAAgAwx\n",
       "DAAAAAAAAAAAGWIYAAAAAAAAAAAyxDAAAAAAAAAAAGSIYQAAAAAAAAAAyBDDAAAAAAAAAACQIYYB\n",
       "AAAAAAAAACBDDAMAAAAAAAAAQIYYBgAAAAAAAACADDEMAAAAAAAAAAAZYhgAAAAAAAAAADLEMAAA\n",
       "AAAAAAAAZIhhAAAAAAAAAADIEMMAAAAAAAAAAJAhhgEAAAAAAAAAIEMMAwAAAAAAAABAhhgGAAAA\n",
       "AAAAAIAMMQwAAAAAAAAAABl3l5/v6Q2w2+399ALY6zynF8Be19/pBbDb4V0EjDmP6QWwl+MHwFKf\n",
       "L8/TE2Ctp/e36Qmwlj+gAAAAAAAAAABkiGEAAAAAAAAAAMgQwwAAAAAAAAAAkCGGAQAAAAAAAAAg\n",
       "QwwDAAAAAAAAAECGGAYAAAAAAAAAgAwxDAAAAAAAAAAAGWIYAAAAAAAAAAAyxDAAAAAAAAAAAGSI\n",
       "YQAAAAAAAAAAyBDDAAAAAAAAAACQIYYBAAAAAAAAACBDDAMAAAAAAAAAQIYYBgAAAAAAAACADDEM\n",
       "AAAAAAAAAAAZYhgAAAAAAAAAADLEMAAAAAAAAAAAZIhhAAAAAAAAAADIEMMAAAAAAAAAAJAhhgEA\n",
       "AAAAAAAAIEMMAwAAAAAAAABAhhgGAAAAAAAAAIAMMQwAAAAAAAAAABliGAAAAAAAAAAAMsQwAAAA\n",
       "AAAAAABkiGEAAAAAAAAAAMgQwwAAAAAAAAAAkCGGAQAAAAAAAAAgQwwDAAAAAAAAAECGGAYAAAAA\n",
       "AAAAgAwxDAAAAAAAAAAAGWIYAAAAAAAAAAAyxDAAAAAAAAAAAGSIYQAAAAAAAAAAyBDDAAAAAAAA\n",
       "AACQIYYBAAAAAAAAACBDDAMAAAAAAAAAQIYYBgAAAAAAAACADDEMAAAAAAAAAAAZYhgAAAAAAAAA\n",
       "ADLEMAAAAAAAAAAAZIhhAAAAAAAAAADIEMMAAAAAAAAAAJAhhgEAAAAAAAAAIEMMAwAAAAAAAABA\n",
       "hhgGAAAAAAAAAIAMMQwAAAAAAAAAABliGAAAAAAAAAAAMsQwAAAAAAAAAABkiGEAAAAAAAAAAMgQ\n",
       "wwAAAAAAAAAAkCGGAQAAAAAAAAAgQwwDAAAAAAAAAECGGAYAAAAAAAAAgAwxDAAAAAAAAAAAGWIY\n",
       "AAAAAAAAAAAyxDAAAAAAAAAAAGSIYQAAAAAAAAAAyBDDAAAAAAAAAACQIYYBAAAAAAAAACBDDAMA\n",
       "AAAAAAAAQIYYBgAAAAAAAACADDEMAAAAAAAAAAAZYhgAAAAAAAAAADLEMAAAAAAAAAAAZIhhAAAA\n",
       "AAAAAADIEMMAAAAAAAAAAJAhhgEAAAAAAAAAIEMMAwAAAAAAAABAhhgGAAAAAAAAAIAMMQwAAAAA\n",
       "AAAAABliGAAAAAAAAAAAMsQwAAAAAAAAAABkiGEAAAAAAAAAAMgQwwAAAAAAAAAAkCGGAQAAAAAA\n",
       "AAAgQwwDAAAAAAAAAECGGAYAAAAAAAAAgAwxDAAAAAAAAAAAGWIYAAAAAAAAAAAyxDAAAAAAAAAA\n",
       "AGSIYQAAAAAAAAAAyBDDAAAAAAAAAACQIYYBAAAAAAAAACBDDAMAAAAAAAAAQIYYBgAAAAAAAACA\n",
       "DDEMAAAAAAAAAAAZYhgAAAAAAAAAADLEMAAAAAAAAAAAZIhhAAAAAAAAAADIEMMAAAAAAAAAAJAh\n",
       "hgEAAAAAAAAAIEMMAwAAAAAAAABAhhgGAAAAAAAAAIAMMQwAAAAAAAAAABliGAAAAAAAAAAAMsQw\n",
       "AAAAAAAAAABkiGEAAAAAAAAAAMgQwwAAAAAAAAAAkCGGAQAAAAAAAAAgQwwDAAAAAAAAAECGGAYA\n",
       "AAAAAAAAgAwxDAAAAAAAAAAAGWIYAAAAAAAAAAAyxDAAAAAAAAAAAGSIYQAAAAAAAAAAyBDDAAAA\n",
       "AAAAAACQIYYBAAAAAAAAACBDDAMAAAAAAAAAQIYYBgAAAAAAAACADDEMAAAAAAAAAAAZYhgAAAAA\n",
       "AAAAADLEMAAAAAAAAAAAZIhhAAAAAAAAAADIEMMAAAAAAAAAAJAhhgEAAAAAAAAAIEMMAwAAAAAA\n",
       "AABAhhgGAAAAAAAAAIAMMQwAAAAAAAAAABliGAAAAAAAAAAAMsQwAAAAAAAAAABkiGEAAAAAAAAA\n",
       "AMgQwwAAAAAAAAAAkCGGAQAAAAAAAAAgQwwDAAAAAAAAAECGGAYAAAAAAAAAgAwxDAAAAAAAAAAA\n",
       "GWIYAAAAAAAAAAAyxDAAAAAAAAAAAGSIYQAAAAAAAAAAyBDDAAAAAAAAAACQIYYBAAAAAAAAACBD\n",
       "DAMAAAAAAAAAQIYYBgAAAAAAAACADDEMAAAAAAAAAAAZYhgAAAAAAAAAADLEMAAAAAAAAAAAZIhh\n",
       "AAAAAAAAAADIEMMAAAAAAAAAAJAhhgEAAAAAAAAAIEMMAwAAAAAAAABAhhgGAAAAAAAAAIAMMQwA\n",
       "AAAAAAAAABliGAAAAAAAAAAAMsQwAAAAAAAAAABkiGEAAAAAAAAAAMgQwwAAAAAAAAAAkCGGAQAA\n",
       "AAAAAAAgQwwDAAAAAAAAAECGGAYAAAAAAAAAgAwxDAAAAAAAAAAAGWIYAAAAAAAAAAAyxDAAAAAA\n",
       "AAAAAGSIYQAAAAAAAAAAyBDDAAAAAAAAAACQIYYBAAAAAAAAACBDDAMAAAAAAAAAQIYYBgAAAAAA\n",
       "AACADDEMAAAAAAAAAAAZYhgAAAAAAAAAADLEMAAAAAAAAAAAZIhhAAAAAAAAAADIEMMAAAAAAAAA\n",
       "AJAhhgEAAAAAAAAAIEMMAwAAAAAAAABAhhgGAAAAAAAAAIAMMQwAAAAAAAAAABliGAAAAAAAAAAA\n",
       "MsQwAAAAAAAAAABkiGEAAAAAAAAAAMgQwwAAAAAAAAAAkCGGAQAAAAAAAAAgQwwDAAAAAAAAAECG\n",
       "GAYAAAAAAAAAgAwxDAAAAAAAAAAAGWIYAAAAAAAAAAAyxDAAAAAAAAAAAGSIYQAAAAAAAAAAyBDD\n",
       "AAAAAAAAAACQIYYBAAAAAAAAACBDDAMAAAAAAAAAQIYYBgAAAAAAAACADDEMAAAAAAAAAAAZYhgA\n",
       "AAAAAAAAADLEMAAAAAAAAAAAZIhhAAAAAAAAAADIEMMAAAAAAAAAAJAhhgEAAAAAAAAAIEMMAwAA\n",
       "AAAAAABAhhgGAAAAAAAAAIAMMQwAAAAAAAAAABliGAAAAAAAAAAAMsQwAAAAAAAAAABkiGEAAAAA\n",
       "AAAAAMgQwwAAAAAAAAAAkCGGAQAAAAAAAAAgQwwDAAAAAAAAAECGGAYAAAAAAAAAgAwxDAAAAAAA\n",
       "AAAAGWIYAAAAAAAAAAAyxDAAAAAAAAAAAGSIYQAAAAAAAAAAyBDDAAAAAAAAAACQIYYBAAAAAAAA\n",
       "ACBDDAMAAAAAAAAAQIYYBgAAAAAAAACADDEMAAAAAAAAAAAZYhgAAAAAAAAAADLEMAAAAAAAAAAA\n",
       "ZIhhAAAAAAAAAADIEMMAAAAAAAAAAJAhhgEAAAAAAAAAIEMMAwAAAAAAAABAhhgGAAAAAAAAAIAM\n",
       "MQwAAAAAAAAAABliGAAAAAAAAAAAMsQwAAAAAAAAAABkiGEAAAAAAAAAAMgQwwAAAAAAAAAAkCGG\n",
       "AQAAAAAAAAAgQwwDAAAAAAAAAECGGAYAAAAAAAAAgAwxDAAAAAAAAAAAGWIYAAAAAAAAAP7YuWOb\n",
       "hmIwjKJ50iPAIukRbfZvECI1JVuQoIQxfun6nAm+1ta1ATLEMAAAAAAAAAAAZIhhAAAAAAAAAADI\n",
       "EMMAAAAAAAAAAJAhhgEAAAAAAAAAIEMMAwAAAAAAAABAhhgGAAAAAAAAAIAMMQwAAAAAAAAAABli\n",
       "GAAAAAAAAAAAMsQwAAAAAAAAAABkiGEAAAAAAAAAAMgQwwAAAAAAAAAAkCGGAQAAAAAAAAAgQwwD\n",
       "AAAAAAAAAECGGAYAAAAAAAAAgAwxDAAAAAAAAAAAGWIYAAAAAAAAAAAyxDAAAAAAAAAAAGTsh/04\n",
       "vQEAZtxu0wtgXfvT9AJY27ZNL4B1bd4lAbCm77f36QmwrNPXx/QEWNf1d3oBLMsNDAAAAAAAAAAA\n",
       "GWIYAAAAAAAAAAAyxDAAAAAAAAAAAGSIYQAAAAAAAAAAyBDDAAAAAAAAAACQIYYBAAAAAAAAACBD\n",
       "DAMAAAAAAAAAQIYYBgAAAAAAAACADDEMAAAAAAAAAAAZYhgAAAAAAAAAADLEMAAAAAAAAAAAZIhh\n",
       "AAAAAAAAAADIEMMAAAAAAAAAAJAhhgEAAAAAAAAAIEMMAwAAAAAAAABAhhgGAAAAAAAAAIAMMQwA\n",
       "AAAAAAAAABliGAAAAAAAAAAAMsQwAAAAAAAAAABkiGEAAAAAAAAAAMgQwwAAAAAAAAAAkCGGAQAA\n",
       "AAAAAAAgQwwDAAAAAAAAAECGGAYAAAAAAAAAgAwxDAAAAAAAAAAAGWIYAAAAAAAAAAAyxDAAAAAA\n",
       "AAAAAGSIYQAAAAAAAAAAyBDDAAAAAAAAAACQIYYBAAAAAAAAACBDDAMAAAAAAAAAQIYYBgAAAAAA\n",
       "AACADDEMAAAAAAAAAAAZYhgAAAAAAAAAADLEMAAAAAAAAAAAZIhhAAAAAAAAAADIEMMAAAAAAAAA\n",
       "AJAhhgEAAAAAAAAAIEMMAwAAAAAAAABAhhgGAAAAAAAAAIAMMQwAAAAAAAAAABliGAAAAAAAAAAA\n",
       "MsQwAAAAAAAAAABkiGEAAAAAAAAAAMgQwwAAAAAAAAAAkCGGAQAAAAAAAAAgQwwDAAAAAAAAAECG\n",
       "GAYAAAAAAAAAgAwxDAAAAAAAAAAAGWIYAAAAAAAAAAAyxDAAAAAAAAAAAGSIYQAAAAAAAAAAyBDD\n",
       "AAAAAAAAAACQIYYBAAAAAAAAACBDDAMAAAAAAAAAQIYYBgAAAAAAAACADDEMAAAAAAAAAAAZYhgA\n",
       "AAAAAAAAADLEMAAAAAAAAAAAZIhhAAAAAAAAAADIEMMAAAAAAAAAAJAhhgEAAAAAAAAAIEMMAwAA\n",
       "AAAAAABAhhgGAAAAAAAAAIAMMQwAAAAAAAAAABliGAAAAAAAAAAAMsQwAAAAAAAAAABkiGEAAAAA\n",
       "AAAAAMgQwwAAAAAAAAAAkCGGAQAAAAAAAAAgQwwDAAAAAAAAAECGGAYAAAAAAAAAgAwxDAAAAAAA\n",
       "AAAAGWIYAAAAAAAAAAAyxDAAAAAAAAAAAGSIYQAAAAAAAAAAyBDDAAAAAAAAAACQIYYBAAAAAAAA\n",
       "ACBDDAMAAAAAAAAAQIYYBgAAAAAAAACADDEMAAAAAAAAAAAZYhgAAAAAAAAAADLEMAAAAAAAAAAA\n",
       "ZIhhAAAAAAAAAADIEMMAAAAAAAAAAJAhhgEAAAAAAAAAIEMMAwAAAAAAAABAhhgGAAAAAAAAAIAM\n",
       "MQwAAAAAAAAAABliGAAAAAAAAAAAMsQwAAAAAAAAAABkiGEAAAAAAAAAAMgQwwAAAAAAAAAAkCGG\n",
       "AQAAAAAAAAAgQwwDAAAAAAAAAECGGAYAAAAAAAAAgAwxDAAAAAAAAAAAGWIYAAAAAAAAAAAyxDAA\n",
       "AAAAAAAAAGSIYQAAAAAAAAAAyBDDAAAAAAAAAACQIYYBAAAAAAAAACBDDAMAAAAAAAAAQIYYBgAA\n",
       "AAAAAACADDEMAAAAAAAAAAAZYhgAAAAAAAAAADLEMAAAAAAAAAAAZIhhAAAAAAAAAADIEMMAAAAA\n",
       "AAAAAJAhhgEAAAAAAAAAIEMMAwAAAAAAAABAhhgGAAAAAAAAAIAMMQwAAAAAAAAAABliGAAAAAAA\n",
       "AAAAMsQwAAAAAAAAAABkiGEAAAAAAAAAAMgQwwAAAAAAAAAAkCGGAQAAAAAAAAAgQwwDAAAAAAAA\n",
       "AECGGAYAAAAAAAAAgAwxDAAAAAAAAAAAGWIYAAAAAAAAAAAyxDAAAAAAAAAAAGSIYQAAAAAAAAAA\n",
       "yBDDAAAAAAAAAACQIYYBAAAAAAAAACBDDAMAAAAAAAAAQIYYBgAAAAAAAACADDEMAAAAAAAAAAAZ\n",
       "YhgAAAAAAAAAADLEMAAAAAAAAAAAZIhhAAAAAAAAAADIEMMAAAAAAAAAAJAhhgEAAAAAAAAAIEMM\n",
       "AwAAAAAAAABAhhgGAAAAAAAAAIAMMQwAAAAAAAAAABliGAAAAAAAAAAAMsQwAAAAAAAAAABkiGEA\n",
       "AAAAAAAAAMgQwwAAAAAAAAAAkCGGAQAAAAAAAAAgQwwDAAAAAAAAAECGGAYAAAAAAAAAgAwxDAAA\n",
       "AAAAAAAAGWIYAAAAAAAAAAAyxDAAAAAAAAAAAGSIYQAAAAAAAAAAyBDDAAAAAAAAAACQIYYBAAAA\n",
       "AAAAACBDDAMAAAAAAAAAQIYYBgAAAAAAAACADDEMAAAAAAAAAAAZYhgAAAAAAAAAADLEMAAAAAAA\n",
       "AAAAZIhhAAAAAAAAAADIEMMAAAAAAAAAAJAhhgEAAAAAAAAAIEMMAwAAAAAAAABAhhgGAAAAAAAA\n",
       "AIAMMQwAAAAAAAAAABliGAAAAAAAAAAAMsQwAAAAAAAAAABkiGEAAAAAAAAAAMgQwwAAAAAAAAAA\n",
       "kCGGAQAAAAAAAAAgQwwDAAAAAAAAAECGGAYAAAAAAAAAgAwxDAAAAAAAAAAAGWIYAAAAAAAAAAAy\n",
       "xDAAAAAAAAAAAGSIYQAAAAAAAAAAyBDDAAAAAAAAAACQIYYBAAAAAAAAACBDDAMAAAAAAAAAQIYY\n",
       "BgAAAAAAAACADDEMAAAAAAAAAAAZYhgAAAAAAAAAADLEMAAAAAAAAAAAZIhhAAAAAAAAAADIEMMA\n",
       "AAAAAAAAAJAhhgEAAAAAAAAAIEMMAwAAAAAAAABAhhgGAAAAAAAAAIAMMQwAAAAAAAAAABliGAAA\n",
       "AAAAAAAAMsQwAAAAAAAAAABkiGEAAAAAAAAAAMgQwwAAAAAAAAAAkCGGAQAAAAAAAAAgQwwDAAAA\n",
       "AAAAAECGGAYAAAAAAAAAgAwxDAAAAAAAAAAAGWIYAAAAAAAAAAAyxDAAAAAAAAAAAGSIYQAAAAAA\n",
       "AAAAyBDDAAAAAAAAAACQIYYBAAAAAAAAACBDDAMAAAAAAAAAQIYYBgAAAAAAAACADDEMAAAAAAAA\n",
       "AAAZYhgAAAAAAAAAADLEMAAAAAAAAAAAZIhhAAAAAAAAAADIEMMAAAAAAAAAAJAhhgEAAAAAAAAA\n",
       "IEMMAwAAAAAAAABAhhgGAAAAAAAAAIAMMQwAAAAAAAAAABliGAAAAAAAAAAAMsQwAAAAAAAAAABk\n",
       "iGEAAAAAAAAAAMgQwwAAAAAAAAAAkCGGAQAAAAAAAAAgQwwDAAAAAAAAAECGGAYAAAAAAAAAgAwx\n",
       "DAAAAAAAAAAAGWIYAAAAAAAAAAAyxDAAAAAAAAAAAGSIYQAAAAAAAAAAyBDDAAAAAAAAAACQIYYB\n",
       "AAAAAAAAACBDDAMAAAAAAAAAQIYYBgAAAAAAAACADDEMAAAAAAAAAAAZYhgAAAAAAAAAADLEMAAA\n",
       "AAAAAAAAZIhhAAAAAAAAAADIEMMAAAAAAAAAAJAhhgEAAAAAAAAAIEMMAwAAAAAAAABAhhgGAAAA\n",
       "AAAAAIAMMQwAAAAAAAAAABliGAAAAAAAAFHuybAAACAASURBVAAAMsQwAAAAAAAAAABkiGEAAAAA\n",
       "AAAAAMgQwwAAAAAAAAAAkCGGAQAAAAAAAAAgQwwDAAAAAAAAAECGGAYAAAAAAAAAgIz9cL9Pb4C1\n",
       "bdv0AljX8WV6AQDMeDgHwpi/6/QCWNbP+Tw9AZZ2unxOT4CFPaYHwLqeX6cXwLL8DAMAAAAAAAAA\n",
       "QIYYBgAAAAAAAACADDEMAAAAAAAAAAAZYhgAAAAAAAAAADLEMAAAAAAAAAAAZIhhAAAAAAAAAADI\n",
       "EMMAAAAAAAAAAJAhhgEAAAAAAAAAIEMMAwAAAAAAAABAhhgGAAAAAAAAAIAMMQwAAAAAAAAAABli\n",
       "GAAAAAAAAAAAMsQwAAAAAAAAAABkiGEAAAAAAAAAAMgQwwAAAAAAAAAAkCGGAQAAAAAAAAAgQwwD\n",
       "AAAAAAAAAECGGAYAAAAAAAAAgAwxDAAAAAAAAAAAGWIYAAAAAAAAAAAyxDAAAAAAAAAAAGSIYQAA\n",
       "AAAAAAAAyBDDAAAAAAAAAACQIYYBAAAAAAAAACBDDAMAAAAAAAAAQIYYBgAAAAAAAACADDEMAAAA\n",
       "AAAAAAAZYhgAAAAAAAAAADLEMAAAAAAAAAAAZIhhAAAAAAAAAADIEMMAAAAAAAAAAJAhhgEAAAAA\n",
       "AAAAIEMMAwAAAAAAAABAhhgGAAAAAAAAAIAMMQwAAAAAAAAAABliGAAAAAAAAAAAMsQwAAAAAAAA\n",
       "AABkiGEAAAAAAAAAAMgQwwAAAAAAAAAAkCGGAQAAAAAAAAAgQwwDAAAAAAAAAECGGAYAAAAAAAAA\n",
       "gAwxDAAAAAAAAAAAGWIYAAAAAAAAAAAyxDAAAAAAAAAAAGSIYQAAAAAAAAAAyBDDAAAAAAAAAACQ\n",
       "IYYBAAAAAAAAACBDDAMAAAAAAAAAQIYYBgAAAAAAAACADDEMAAAAAAAAAAAZYhgAAAAAAAAAADLE\n",
       "MAAAAAAAAAAAZIhhAAAAAAAAAADIEMMAAAAAAAAAAJAhhgEAAAAAAAAAIEMMAwAAAAAAAABAhhgG\n",
       "AAAAAAAAAIAMMQwAAAAAAAAAABliGAAAAAAAAAAAMsQwAAAAAAAAAABkiGEAAAAAAAAAAMgQwwAA\n",
       "AAAAAAAAkCGGAQAAAAAAAAAgQwwDAAAAAAAAAECGGAYAAAAAAAAAgAwxDAAAAAAAAAAAGWIYAAAA\n",
       "AAAAAAAyxDAAAAAAAAAAAGSIYQAAAAAAAAAAyBDDAAAAAAAAAACQIYYBAAAAAAAAACBDDAMAAAAA\n",
       "AAAAQIYYBgAAAAAAAACADDEMAAAAAAAAAAAZYhgAAAAAAAAAADLEMAAAAAAAAAAAZIhhAAAAAAAA\n",
       "AADIEMMAAAAAAAAAAJAhhgEAAAAAAAAAIEMMAwAAAAAAAABAhhgGAAAAAAAAAIAMMQwAAAAAAAAA\n",
       "ABliGAAAAAAAAAAAMsQwAAAAAAAAAABkiGEAAAAAAAAAAMgQwwAAAAAAAAAAkCGGAQAAAAAAAAAg\n",
       "QwwDAAAAAAAAAECGGAYAAAAAAAAAgAwxDAAAAAAAAAAAGWIYAAAAAAAAAAAyxDAAAAAAAAAAAGSI\n",
       "YQAAAAAAAAAAyBDDAAAAAAAAAACQIYYBAAAAAAAAACBDDAMAAAAAAAAAQIYYBgAAAAAAAACADDEM\n",
       "AAAAAAAAAAAZYhgAAAAAAAAAADLEMAAAAAAAAAAAZIhhAAAAAAAAAADIEMMAAAAAAAAAAJAhhgEA\n",
       "AAAAAAAAIEMMAwAAAAAAAABAhhgGAAAAAAAAAIAMMQwAAAAAAAAAABliGAAAAAAAAAAAMsQwAAAA\n",
       "AAAAAABkiGEAAAAAAAAAAMgQwwAAAAAAAAAAkCGGAQAAAAAAAAAgQwwDAAAAAAAAAECGGAYAAAAA\n",
       "AAAAgAwxDAAAAAAAAAAAGWIYAAAAAAAAAAAyxDAAAAAAAAAAAGSIYQAAAAAAAAAAyBDDAAAAAAAA\n",
       "AACQIYYBAAAAAAAAACBDDAMAAAAAAAAAQIYYBgAAAAAAAACADDEMAAAAAAAAAAAZYhgAAAAAAAAA\n",
       "ADLEMAAAAAAAAAAAZIhhAAAAAAAAAADIEMMAAAAAAAAAAJAhhgEAAAAAAAAAIEMMAwAAAAAAAABA\n",
       "hhgGAAAAAAAAAIAMMQwAAAAAAAAAABliGAAAAAAAAAAAMsQwAAAAAAAAAABkiGEAAAAAAAAAAMgQ\n",
       "wwAAAAAAAAAAkCGGAQAAAAAAAAAgQwwDAAAAAAAAAECGGAYAAAAAAAAAgAwxDAAAAAAAAAAAGWIY\n",
       "AAAAAAAAAAAyxDAAAAAAAAAAAGSIYQAAAAAAAAAAyBDDAAAAAAAAAACQIYYBAAAAAAAAACBDDAMA\n",
       "AAAAAAAAQIYYBgAAAAAAAACADDEMAAAAAAAAAAAZYhgAAAAAAAAAADLEMAAAAAAAAAAAZIhhAAAA\n",
       "AAAAAADIEMMAAAAAAAAAAJAhhgEAAAAAAAAAIEMMAwAAAAAAAABAhhgGAAAAAAAAAIAMMQwAAAAA\n",
       "AAAAABliGAAAAAAAAAAAMsQwAAAAAAAAAABkiGEAAAAAAAAAAMgQwwAAAAAAAAAAkCGGAQAAAAAA\n",
       "AAAgQwwDAAAAAAAAAECGGAYAAAAAAAAAgAwxDAAAAAAAAAAAGWIYAAAAAAAAAAAyxDAAAAAAAAAA\n",
       "AGSIYQAAAAAAAAAAyBDDAAAAAAAAAACQIYYBAAAAAAAAACBDDAMAAAAAAAAAQIYYBgAAAAAAAACA\n",
       "DDEMAAAAAAAAAAAZYhgAAAAAAAAAADLEMAAAAAAAAAAAZIhhAAAAAAAAAADIEMMAAAAAAAAAAJAh\n",
       "hgEAAAAAAAAAIEMMAwAAAAAAAABAhhgGAAAAAAAAAIAMMQwAAAAAAAAAABliGAAAAAAAAAAAMsQw\n",
       "AAAAAAAAAABkiGEAAAAAAAAAAMgQwwAAAAAAAAAAkCGGAQAAAAAAAAAgQwwDAAAAAAAAAECGGAYA\n",
       "AAAAAAAAgAwxDAAAAAAAAAAAGWIYAAAAAAAAAAAyxDAAAAAAAAAAAGSIYQAAAAAAAAAAyBDDAAAA\n",
       "AAAAAACQIYYBAAAAAAAAACBDDAMAAAAAAAAAQIYYBgAAAAAAAACADDEMAAAAAAAAAAAZYhgAAAAA\n",
       "AAAAADLEMAAAAAAAAAAAZIhhAAAAAAAAAADIEMMAAAAAAAAAAJAhhgEAAAAAAAAAIEMMAwAAAAAA\n",
       "AABAhhgGAAAAAAAAAIAMMQwAAAAAAAAAABliGAAAAAAAAAAAMsQwAAAAAAAAAABkiGEAAAAAAAAA\n",
       "AMgQwwAAAAAAAAAAkCGGAQAAAAD+2bljXAgAKIqiMsgkFqFWKSxBZ+GUCpVdaCSIGHbhJ/efs4K3\n",
       "gJsHAAAAGWIYAAAAAAAAAAAyxDAAAAAAAAAAAGSIYQAAAAAAAAAAyBDDAAAAAAAAAACQIYYBAAAA\n",
       "AAAAACBDDAMAAAAAAAAAQIYYBgAAAAAAAACADDEMAAAAAAAAAAAZYhgAAAAAAAAAADLEMAAAAAAA\n",
       "AAAAZIhhAAAAAAAAAADIEMMAAAAAAAAAAJAhhgEAAAAAAAAAIEMMAwAAAAAAAABAhhgGAAAAAAAA\n",
       "AIAMMQwAAAAAAAAAABliGAAAAAAAAAAAMsQwAAAAAAAAAABkiGEAAAAAAAAAAMgQwwAAAAAAAAAA\n",
       "kCGGAQAAAAAAAAAgQwwDAAAAAAAAAECGGAYAAAAAAAAAgAwxDAAAAAAAAAAAGWIYAAAAAAAAAAAy\n",
       "xDAAAAAAAAAAAGSIYQAAAAAAAAAAyBDDAAAAAAAAAACQIYYBAAAAAAAAACBDDAMAAAAAAAAAQIYY\n",
       "BgAAAAAAAACADDEMAAAAAAAAAAAZYhgAAAAAAAAAADIuzg56GAAA/tnpZ3oB7HY4n14Aa7093E9P\n",
       "gLWuH5+mJwDAjK+P6QWw1+VxegGspYQBAAAAAAAAACBDDAMAAAAAAAAAQIYYBgAAAAAAAACADDEM\n",
       "AAAAAAAAAAAZYhgAAAAAAAAAADLEMAAAAAAAAAAAZIhhAAAAAAAAAADIEMMAAAAAAAAAAJAhhgEA\n",
       "AAAAAAAAIEMMAwAAAAAAAABAhhgGAAAAAAAAAIAMMQwAAAAAAAAAABliGAAAAAAAAAAAMsQwAAAA\n",
       "AAAAAABkiGEAAAAAAAAAAMgQwwAAAAAAAAAAkCGGAQAAAAAAAAAgQwwDAAAAAAAAAECGGAYAAAAA\n",
       "AAAAgAwxDAAAAAAAAAAAGWIYAAAAAAAAAAAyxDAAAAAAAAAAAGSIYQAAAAAAAAAAyBDDAAAAAAAA\n",
       "AACQIYYBAAAAAAAAACBDDAMAAAAAAAAAQIYYBgAAAAAAAACADDEMAAAAAAAAAAAZYhgAAAAAAAAA\n",
       "ADLEMAAAAAAAAAAAZIhhAAAAAAAAAADIEMMAAAAAAAAAAJAhhgEAAAAAAAAAIEMMAwAAAAAAAABA\n",
       "hhgGAAAAAAAAAIAMMQwAAAAAAAAAABliGAAAAAAAAAAAMsQwAAAAAAAAAABkiGEAAAAAAAAAAMgQ\n",
       "wwAAAAAAAAAAkCGGAQAAAAAAAAAgQwwDAAAAAAAAAECGGAYAAAAAAAAAgAwxDAAAAAAAAAAAGWIY\n",
       "AAAAAAAAAAAyxDAAAAAAAAAAAGSIYQAAAAAAAAAAyBDDAAAAAAAAAACQIYYBAAAAAAAAACBDDAMA\n",
       "AAAAAAAAQIYYBgAAAAAAAACADDEMAAAAAAAAAAAZYhgAAAAAAAAAADLEMAAAAAAAAAAAZIhhAAAA\n",
       "AAAAAADIEMMAAAAAAAAAAJAhhgEAAAAAAAAAIEMMAwAAAAAAAABAhhgGAAAAAAAAAIAMMQwAAAAA\n",
       "AAAAABliGAAAAAAAAAAAMsQwAAAAAAAAAABkiGEAAAAAAAAAAMgQwwAAAAAAAAAAkCGGAQAAAAAA\n",
       "AAAgQwwDAAAAAAAAAECGGAYAAAAAAAAAgAwxDAAAAAAAAAAAGWIYAAAAAAAAAAAyxDAAAAAAAAAA\n",
       "AGSIYQAAAAAAAAAAyBDDAAAAAAAAAACQIYYBAAAAAAAAACBDDAMAAAAAAAAAQIYYBgAAAAAAAACA\n",
       "DDEMAAAAAAAAAAAZYhgAAAAAAAAAADLEMAAAAAAAAAAAZIhhAAAAAAAAAADIEMMAAAAAAAAAAJAh\n",
       "hgEAAAAAAAAAIEMMAwAAAAAAAABAhhgGAAAAAAAAAIAMMQwAAAAAAAAAABliGAAAAAAAAAAAMsQw\n",
       "AAAAAAAAAABkiGEAAAAAAAAAAMgQwwAAAAAAAAAAkCGGAQAAAAAAAAAgQwwDAAAAAAAAAECGGAYA\n",
       "AAAAAAAAgAwxDAAAAAAAAAAAGWIYAAAAAAAAAAAyxDAAAAAAAAAAAGSIYQAAAAAAAAAAyBDDAAAA\n",
       "AAAAAACQIYYBAAAAAAAAACBDDAMAAAAAAAAAQIYYBgAAAAAAAACADDEMAAAAAAAAAAAZYhgAAAAA\n",
       "AAAAADLEMAAAAAAAAAAAZIhhAAAAAAAAAADIEMMAAAAAAAAAAJAhhgEAAAAAAAAAIEMMAwAAAAAA\n",
       "AABAhhgGAAAAAAAAAIAMMQwAAAAAAAAAABliGAAAAAAAAAAAMsQwAAAAAAAAAABkiGEAAAAAAAAA\n",
       "AMgQwwAAAAAAAAAAkCGGAQAAAAAAAAAgQwwDAAAAAAAAAECGGAYAAAAAAAAAgAwxDAAAAAAAAAAA\n",
       "GWIYAAAAAAAAAAAyxDAAAAAAAAAAAGSIYQAAAAAAAAAAyBDDAAAAAAAAAACQIYYBAAAAAAAAACBD\n",
       "DAMAAAAAAAAAQIYYBgAAAAAAAACADDEMAAAAAAAAAAAZYhgAAAAAAAAAADLEMAAAAAAAAAAAZIhh\n",
       "AAAAAAAAAADIEMMAAAAAAAAAAJAhhgEAAAAAAAAAIEMMAwAAAAAAAABAhhgGAAAAAAAAAIAMMQwA\n",
       "AAAAAAAAABliGAAAAAAAAAAAMsQwAAAAAAAAAABkiGEAAAAAAAAAAMgQwwAAAAAAAAAAkCGGAQAA\n",
       "AAAAAAAgQwwDAAAAAAAAAECGGAYAAAAAAAAAgAwxDAAAAAAAAAAAGWIYAAAAAAAAAAAyxDAAAAAA\n",
       "AAAAAGSIYQAAAAAAAAAAyBDDAAAAAAAAAACQIYYBAAAAAAAAACBDDAMAAAAAAAAAQIYYBgAAAAAA\n",
       "AACADDEMAAAAAAAAAAAZYhgAAAAAAAAAADLEMAAAAAAAAAAAZIhhAAAAAAAAAADIEMMAAAAAAAAA\n",
       "AJAhhgEAAAAAAAAAIEMMAwAAAAAAAABAhhgGAAAAAAAAAIAMMQwAAAAAAAAAABliGAAAAAAAAAAA\n",
       "MsQwAAAAAAAAAABkiGEAAAAAAAAAAMgQwwAAAAAAAAAAkCGGAQAAAAAAAAAgQwwDAAAAAAAAAECG\n",
       "GAYAAAAAAAAAgAwxDAAAAAAAAAAAGWIYAAAAAAAAAAAyxDAAAAAAAAAAAGSIYQAAAAAAAAAAyBDD\n",
       "AAAAAAAAAACQIYYBAAAAAAAAACBDDAMAAAAAAAAAQIYYBgAAAAAAAACADDEMAAAAAAAAAAAZYhgA\n",
       "AAAAAAAAADLEMAAAAAAAAAAAZIhhAAAAAAAAAADIEMMAAAAAAAAAAJAhhgEAAAAAAAAAIEMMAwAA\n",
       "AAAAAABAhhgGAAAAAAAAAIAMMQwAAAAAAAAAABliGAAAAAAAAAAAMsQwAAAAAAAAAABkiGEAAAAA\n",
       "AAAAAMgQwwAAAAAAAAAAkCGGAQAAAAAAAAAgQwwDAAAAAAAAAECGGAYAAAAAAAAAgAwxDAAAAAAA\n",
       "AAAAGWIYAAAAAAAAAAAyxDAAAAAAAAAAAGSIYQAAAAAAAAAAyBDDAAAAAAAAAACQIYYBAAAAAAAA\n",
       "ACBDDAMAAAAAAAAAQIYYBgAAAAAAAACADDEMAAAAAAAAAAAZYhgAAAAAAAAAADLEMAAAAAAAAAAA\n",
       "ZIhhAAAAAAAAAADIEMMAAAAAAAAAAJAhhgEAAAAAAAAAIEMMAwAAAAAAAABAhhgGAAAAAAAAAIAM\n",
       "MQwAAAAAAAAAABliGAAAAAAAAAAAMsQwAAAAAAAAAABkiGEAAAAAAAAAAMgQwwAAAAAAAAAAkCGG\n",
       "AQAAAAAAAAAgQwwDAAAAAAAAAECGGAYAAAAAAAAAgAwxDAAAAAAAAAAAGWIYAAAAAAAAAAAyxDAA\n",
       "AAAAAAAAAGSIYQAAAAAAAAAAyBDDAAAAAAAAAACQIYYBAAAAAAAAACBDDAMAAAAAAAAAQIYYBgAA\n",
       "AAAAAACADDEMAAAAAAAAAAAZYhgAAAAAAAAAADLEMAAAAAAAAAAAZIhhAAAAAAAAAADIEMMAAAAA\n",
       "AAAAAJAhhgEAAAAAAAAAIEMMAwAAAAAAAABAhhgGAAAAAAAAAIAMMQwAAAAAAAAAABliGAAAAAAA\n",
       "AAAAMsQwAAAAAAAAAABkiGEAAAAAAAAAAMgQwwAAAAAAAAAAkCGGAQAAAAAAAAAgQwwDAAAAAAAA\n",
       "AECGGAYAAAAAAAAAgAwxDAAAAAAAAAAAGWIYAAAAAAAAAAAyxDAAAAAAAAAAAGSIYQAAAAAAAAAA\n",
       "yBDDAAAAAAAAAACQcTE9AACAhQ7n0wtgtdfbu+kJsNbNy/P0BNjr53t6Aez2e5peAHsdr6YXwF6f\n",
       "79MLYC3PMAAAAAAAAAAAZIhhAAAAAAAAAADIEMMAAAAAAAAAAJAhhgEAAAAAAAAAIEMMAwAAAAAA\n",
       "AABAhhgGAAAAAAAAAIAMMQwAAAAAAAAAABliGAAAAAAAAAAAMsQwAAAAAAAAAABkiGEAAAAAAAAA\n",
       "AMgQwwAAAAAAAAAAkCGGAQAAAAAAAAAgQwwDAAAAAAAAAECGGAYAAAAAAAAAgAwxDAAAAAAAAAAA\n",
       "GWIYAAAAAAAAAAAyxDAAAAAAAAAAAGSIYQAAAAAAAAAAyBDDAAAAAAAAAACQIYYBAAAAAAAAACBD\n",
       "DAMAAAAAAAAAQIYYBgAAAAAAAACADDEMAAAAAAAAAAAZYhgAAAAAAAAAADLEMAAAAAAAAAAAZIhh\n",
       "AAAAAAAAAADIEMMAAAAAAAAAAJAhhgEAAAAAAAAAIEMMAwAAAAAAAABAhhgGAAAAAAAAAIAMMQwA\n",
       "AAAAAAAAABliGAAAAAAAAAAAMsQwAAAAAAAAAABkiGEAAAAAAAAAAMgQwwAAAAAAAAAAkCGGAQAA\n",
       "AAAAAAAgQwwDAAAAAAAAAECGGAYAAAAAAAAAgAwxDAAAAAAAAAAAGWIYAAAAAAAAAAAyxDAAAAAA\n",
       "AAAAAGSIYQAAAAAAAAAAyBDDAAAAAAAAAACQIYYBAAAAAAAAACBDDAMAAAAAAAAAQIYYBgAAAAAA\n",
       "AACADDEMAAAAAAAAAAAZYhgAAAAAAAAAADLEMAAAAAAAAAAAZIhhAAAAAAAAAADIEMMAAAAAAAAA\n",
       "AJAhhgEAAAAAAAAAIEMMAwAAAAAAAABAhhgGAAAAAAAAAIAMMQwAAAAAAAAAABliGAAAAAAAAAAA\n",
       "MsQwAAAAAAAAAABkiGEAAAAAAAAAAMgQwwAAAAAAAAAAkCGGAQAAAAAAAAAgQwwDAAAAAAAAAECG\n",
       "GAYAAAAAAAAAgAwxDAAAAAAAAAAAGWIYAAAAAAAAAAAyxDAAAAAAAAAAAGSIYQAAAAAAAAAAyBDD\n",
       "AAAAAAAAAACQIYYBAAAAAAAAACBDDAMAAAAAAAAAQIYYBgAAAAAAAACADDEMAAAAAAAAAAAZYhgA\n",
       "AAAAAAAAADLEMAAAAAAAAAAAZIhhAAAAAAAAAADIEMMAAAAAAAAAAJAhhgEAAAAAAAAAIEMMAwAA\n",
       "AAAAAABAhhgGAAAAAAAAAIAMMQwAAAAAAAAAABliGAAAAAAAAAAAMsQwAAAAAAAAAABkiGEAAAAA\n",
       "AAAAAMgQwwAAAAAAAAAAkCGGAQAAAAAAAAAgQwwDAAAAAAAAAECGGAYAAAAAAAAAgAwxDAAAAAAA\n",
       "AAAAGWIYAAAAAAAAAAAyxDAAAAAAAAAAAGSIYQAAAAAAAAAAyBDDAAAAAAAAAACQIYYBAAAAAAAA\n",
       "ACBDDAMAAAAAAAAAQIYYBgAAAAAAAACADDEMAAAAAAAAAAAZYhgAAAAAAAAAADLEMAAAAAAAAAAA\n",
       "ZIhhAAAAAAAAAADIEMMAAAAAAAAAAJAhhgEAAAAAAAAAIEMMAwAAAAAAAABAhhgGAAAAAAAAAIAM\n",
       "MQwAAAAAAAAAABliGAAAAAAAAAAAMsQwAAAAAAAAAABkiGEAAAAAAAAAAMgQwwAAAAAAAAAAkCGG\n",
       "AQAAAAAAAAAgQwwDAAAAAAAAAECGGAYAAAAAAAAAgAwxDAAAAAAAAAAAGWIYAAAAAAAAAAAyxDAA\n",
       "AAAAAAAAAGSIYQAAAAAAAAAAyBDDAAAAAAAAAACQIYYBAAAAAAAAACBDDAMAAAAAAAAAQIYYBgAA\n",
       "AAAAAACADDEMAAAAAAAAAAAZYhgAAAAAAAAAADLEMAAAAAAAAAAAZIhhAAAAAAAAAADIEMMAAAAA\n",
       "AAAAAJAhhgEAAAAAAAAAIEMMAwAAAAAAAABAhhgGAAAAAAAAAIAMMQwAAAAAAAAAABliGAAAAAAA\n",
       "AAAAMsQwAAAAAAAAAABkiGEAAAAAAAAAAMgQwwAAAAAAAAAAkCGGAQAAAAAAAAAgQwwDAAAAAAAA\n",
       "AECGGAYAAAAAAAAAgAwxDAAAAAAAAAAAGWIYAAAAAAAAAAAyxDAAAAAAAAAAAGSIYQAAAAAAAAAA\n",
       "yBDDAAAAAAAAAACQIYYBAAAAAAAAACBDDAMAAAAAAAAAQIYYBgAAAAAAAACADDEMAAAAAAAAAAAZ\n",
       "YhgAAAAAAAAAADLEMAAAAAAAAAAAZIhhAAAAAAAAAADIEMMAAAAAAAAAAJAhhgEAAAAAAAAAIEMM\n",
       "AwAAAAAAAABAhhgGAAAAAAAAAIAMMQwAAAAAAAAAABliGAAAAAAAAAAAMsQwAAAAAAAAAABkiGEA\n",
       "AAAAAAAAAMgQwwAAAAAAAAAAkCGGAQAAAAAAAAAgQwwDAAAAAAAAAECGGAYAAAAAAAAAgAwxDAAA\n",
       "AAAAAAAAGWIYAAAAAAAAAAAyxDAAAAAAAAAAAGSIYQAAAAAAAAAAyBDDAAAAAAAAAACQIYYBAAAA\n",
       "AAAAACBDDAMAAAAAAAAAQIYYBgAAAAAAAACADDEMAAAAAAAAAAAZYhgAAAAAAAAAADLEMAAAAAAA\n",
       "AAAAZIhhAAAAAAAAAADIEMMAAAAAAAAAAJAhhgEAAAAAAAAAIEMMAwAAAAAAAABAhhgGAAAAAAAA\n",
       "AIAMMQwAAAAAAAAAABliGAAAAAAAAAAAMsQwAAAAAAAAAABkiGEAAAAAAAAAAMgQwwAAAAAAAAAA\n",
       "kCGGAQAAAAAAAAAgQwwDAAAAAAAAAECGGAYAAAAAAAAAgAwxDAAAAAAAAAAAGWIYAAAAAAAAAAAy\n",
       "xDAAAAAAAAAAAGSIYQAAAAAAAAAAyBDDAAAAAAAAAACQIYYBAAAAAAAAACBDDAMAAAAAAAAAQIYY\n",
       "BgAAAAAAAACADDEMAAAAAAAAAAAZYhgAAADgj507RokgiKIoOmAzzkYEYwMR9x8ZTGA4gesQZbrd\n",
       "hR9unbOClxRUcPkAAAAAkCGGAQAAAAAAAAAgQwwDAAAAAAAAAECGGAYAAAAAAAAAgAwxDAAAAAAA\n",
       "AAAAGWIYAAAAAAAAAAAyxDAAAAAAAAAAAGSIYQAAAAAAAAAAyBDDAAAAAAAAAACQIYYBAAAAAAAA\n",
       "ACBDDAMAAAAAAAAAQIYYBgAAAAAAAACADDEMAAAAAAAAAAAZYhgAAAAAAAAAADLEMAAAAAAAAAAA\n",
       "ZIhhAAAAAAAAAADIEMMAAAAAAAAAAJAhhgEAAAAAAAAAIEMMAwAAAAAAAABAhhgGAAAAAAAAAIAM\n",
       "MQwAAAAAAAAAABliGAAAAAAAAAAAMsQwAAAAAAAAAABkiGEAAAAAAAAAAMgQwwAAAAAAAAAAkCGG\n",
       "AQAAAAAAAAAgQwwDAAAAAAAAAECGGAYAAAAAAAAAgAwxDAAAAAAAAAAAGWIYAAAAAAAAAAAyxDAA\n",
       "AAAAAAAAAGSIYQAAAAAAAAAAyBDDAAAAAAAAAACQIYYBAAAAAAAAACBDDAMAAAAAAAAAQIYYBgAA\n",
       "AAAAAACADDEMAAAAAAAAAAAZYhgATR3I9QAAIABJREFUAAAAAAAAADLEMAAAAAAAAAAAZIhhAAAA\n",
       "AAAAAADIEMMAAAAAAAAAAJAhhgEAAAAAAAAAIEMMAwAAAAAAAABAhhgGAAAAAAAAAIAMMQwAAAAA\n",
       "AAAAABliGAAAAAAAAAAAMsQwAAAAAAAAAABkiGEAAAAAAAAAAMgQwwAAAAAAAAAAkCGGAQAAAAAA\n",
       "AAAgY5seAABj7r/TC2BZX2/v0xNgac+f1+kJsK6f7+kFsK7zZXoBrG3fpxfAuo779AJY1/Y4vQCW\n",
       "5TIMAAAAAAAAAAAZYhgAAAAAAAAAADLEMAAAAAAAAAAAZIhhAAAAAAAAAADIEMMAAAAAAAAAAJAh\n",
       "hgEAAAAAAAAAIEMMAwAAAAAAAABAhhgGAAAAAAAAAIAMMQwAAAAAAAAAABliGAAAAAAAAAAAMsQw\n",
       "AAAAAAAAAABkiGEAAAAAAAAAAMgQwwAAAAAAAAAAkCGGAQAAAAAAAAAgQwwDAAAAAAAAAECGGAYA\n",
       "AAAAAAAAgAwxDAAAAAAAAAAAGWIYAAAAAAAAAAAyxDAAAAAAAAAAAGSIYQAAAAAAAAAAyBDDAAAA\n",
       "AAAAAACQIYYBAAAAAAAAACBDDAMAAAAAAAAAQIYYBgAAAAAAAACADDEMAAAAAAAAAAAZYhgAAAAA\n",
       "AAAAADLEMAAAAAAAAAAAZIhhAAAAAAAAAADIEMMAAAAAAAAAAJAhhgEAAAAAAAAAIEMMAwAAAAAA\n",
       "AABAhhgGAAAAAAAAAIAMMQwAAAAAAAAAABliGAAAAAAAAAAAMsQwAAAAAAAAAABkiGEAAAAAAAAA\n",
       "AMgQwwAAAAAAAAAAkCGGAQAAAAAAAAAgQwwDAAAAAAAAAECGGAYAAAAAAAAAgAwxDAAAAAAAAAAA\n",
       "GWIYAAAAAAAAAAAyxDAAAAAAAAAAAGSIYQAAAAAAAAAAyBDDAAAAAAAAAACQIYYBAAAAAAAAACBD\n",
       "DAMAAAAAAAAAQIYYBgAAAAAAAACADDEMAAAAAAAAAAAZYhgAAAAAAAAAADLEMAAAAAAAAAAAZIhh\n",
       "AAAAAAAAAADIEMMAAAAAAAAAAJAhhgEAAAAAAAAAIEMMAwAAAAAAAABAhhgGAAAAAAAAAIAMMQwA\n",
       "AAAAAAAAABliGAAAAAAAAAAAMsQwAAAAAAAAAABkiGEAAAAAAAAAAMgQwwAAAAAAAAAAkCGGAQAA\n",
       "AAAAAAAgQwwDAAAAAAAAAECGGAYAAAAAAAAAgAwxDAAAAAAAAAAAGWIYAAAAAAAAAAAyxDAAAAAA\n",
       "AAAAAGSIYQAAAAAAAAAAyBDDAAAAAAAAAACQIYYBAAAAAAAAACBDDAMAAAAAAAAAQIYYBgAAAAAA\n",
       "AACADDEMAAAAAAAAAAAZYhgAAAAAAAAAADLEMAAAAAAAAAAAZIhhAAAAAAAAAADIEMMAAAAAAAAA\n",
       "AJAhhgEAAAAAAAAAIEMMAwAAAAAAAABAhhgGAAAAAAAAAIAMMQwAAAAAAAAAABliGAAAAAAAAAAA\n",
       "MsQwAAAAAAAAAABkiGEAAAAAAAAAAMgQwwAAAAAAAAAAkCGGAQAAAAAAAAAgQwwDAAAAAAAAAECG\n",
       "GAYAAAAAAAAAgAwxDAAAAAAAAAAAGWIYAAAAAAAAAAAyxDAAAAAAAAAAAGSIYQAAAAAAAAAAyBDD\n",
       "AAAAAAAAAACQIYYBAAAAAAAAACBDDAMAAAAAAAAAQIYYBgAAAAAAAACADDEMAAAAAAAAAAAZYhgA\n",
       "AAAAAAAAADLEMAAAAAAAAAAAZIhhAAAAAAAAAADIEMMAAAAAAAAAAJAhhgEAAAAAAAAAIEMMAwAA\n",
       "AAAAAABAhhgGAAAAAAAAAIAMMQwAAAAAAAAAABliGAAAAAAAAAAAMsQwAAAAAAAAAABkiGEAAAAA\n",
       "AAAAAMgQwwAAAAAAAAAAkCGGAQAAAAAAAAAgQwwDAAAAAAAAAECGGAYAAAAAAAAAgAwxDAAAAAAA\n",
       "AAAAGWIYAAAAAAAAAAAyxDAAAAAAAAAAAGSIYQAAAAAAAAAAyBDDAAAAAAAAAACQIYYBAAAAAAAA\n",
       "ACBDDAMAAAAAAAAAQIYYBgAAAAAAAACADDEMAAAAAAAAAAAZYhgAAAAAAAAAADLEMAAAAAAAAAAA\n",
       "ZIhhAAAAAAAAAADIEMMAAAAAAAAAAJAhhgEAAAAAAAAAIEMMAwAAAAAAAABAhhgGAAAAAAAAAIAM\n",
       "MQwAAAAAAAAAABliGAAAAAAAAAAAMsQwAAAAAAAAAABkiGEAAAAAAAAAAMgQwwAAAAAAAAAAkCGG\n",
       "AQAAAAAAAAAgQwwDAAAAAAAAAECGGAYAAAAAAAAAgAwxDAAAAAAAAAAAGWIYAAAAAAAAAAAyxDAA\n",
       "AAAAAAAAAGSIYQAAAAAAAAAAyBDDAAAAAAAAAACQIYYBAAAAAAAAACBDDAMAAAAAAAAAQIYYBgAA\n",
       "AAAAAACADDEMAAAAAAAAAAAZYhgAAAAAAAAAADLEMAAAAAAAAAAAZIhhAAAAAAAAAADIEMMAAAAA\n",
       "AAAAAJAhhgEAAAAAAAAAIEMMAwAAAAAAAABAhhgGAAAAAAAAAIAMMQwAAAAAAAAAABliGAAAAAAA\n",
       "AAAAMsQwAAAAAAAAAABkiGEAAAAAAAAAAMgQwwAAAAAAAAAAkCGGAQAAAAAAAAAgQwwDAAAAAAAA\n",
       "AECGGAYAAAAAAAAAgAwxDAAAAAAAAAAAGWIYAAAAAAAAAAAyxDAAAAAAAAAAAGSIYQAAAAAAAAAA\n",
       "yBDDAAAAAAAAAACQIYYBAAAAAAAAACBDDAMAAAAAAAAAQIYYBgAAAAAAAACADDEMAAAAAAAAAAAZ\n",
       "YhgAAAAAAAAAADLEMAAAAAAAAAAAZIhhAAAAAAAAAADIEMMAAAAAAAAAAJAhhgEAAAAAAAAAIEMM\n",
       "AwAAAAAAAABAhhgGAAAAAAAAAIAMMQwAAAAAAAAAABliGAAAAAAAAAAAMsQwAAAAAAAAAABkiGEA\n",
       "AAAAAAAAAMgQwwAAAAAAAAAAkCGGAQAAAAAAAAAgQwwDAAAAAAAAAECGGAYAAAAAAAAAgAwxDAAA\n",
       "AAAAAAAAGWIYAAAAAAAAAAAyxDAAAAAAAAAAAGSIYQAAAAAAAAAAyBDDAAAAAAAAAACQIYYBAAAA\n",
       "AAAAACBDDAMAAAAAAAAAQIYYBgAAAAAAAACADDEMAAAAAAAAAAAZYhgAAAAAAAAAADLEMAAAAAAA\n",
       "AAAAZIhhAAAAAAAAAADIEMMAAAAAAAAAAJAhhgEAAAAAAAAAIEMMAwAAAAAAAABAhhgGAAAAAAAA\n",
       "AIAMMQwAAAAAAAAAABliGAAAAAAAAAAAMsQwAAAAAAAAAABkiGEAAAAAAAAAAMgQwwAAAAAAAAAA\n",
       "kCGGAQAAAAAAAAAgQwwDAAAAAAAAAECGGAYAAAAAAAAAgAwxDAAAAAAAAAAAGWIYAAAAAAAAAAAy\n",
       "xDAAAAAAAAAAAGSIYQAAAAAAAAAAyBDDAAAAAAAAAACQIYYBAAAAAAAAACBDDAMAAAAAAAAAQIYY\n",
       "BgAAAAAAAACADDEMAAAAAAAAAAAZYhgAAAAAAAAAADLEMAAAAAAAAAAAZIhhAAAAAAAAAADIEMMA\n",
       "AAAAAAAAAJAhhgEAAAAAAAAAIEMMAwAAAAAAAABAhhgGAAAAAAAAAIAMMQwAAAAAAAAAABliGAAA\n",
       "AAAAAAAAMsQwAAAAAAAAAABkiGEAAAAAAAAAAMgQwwAAAAAAAAAAkCGGAQAAAAAAAAAgQwwDAAAA\n",
       "AAAAAECGGAYAAAAAAAAAgAwxDAAAAAAAAAAAGWIYAAAAAAAAAAAyxDAAAAAAAAAAAGSIYQAAAAAA\n",
       "AAAAyBDDAAAAAAAAAACQIYYBAAAAAAAAACBDDAMAAAAAAAAAQIYYBgAAAAAAAACADDEMAAAAAAAA\n",
       "AAAZ2+l0TG+AtR3eIEz5eHqZngDLer1dpyfA2vxBYc75Mr0AAGYc+/QCAPh/D9v0AliWyzAAAAAA\n",
       "AAAAAGSIYQAAAAAAAAAAyBDDAAAAAAAAAACQIYYBAAAAAAAAACBDDAMAAAAAAAAAQIYYBgAAAAAA\n",
       "AACADDEMAAAAAAAAAAAZYhgAAAAAAAAAADLEMAAAAAAAAAAAZIhhAAAAAAAAAADIEMMAAAAAAAAA\n",
       "AJAhhgEAAAAAAAAAIEMMAwAAAAAAAABAhhgGAAAAAAAAAIAMMQwAAAAAAAAAABliGAAAAAAAAAAA\n",
       "MsQwAAAAAAAAAABkiGEAAAAAAAAAAMgQwwAAAAAAAAAAkCGGAQAAAAAAAAAgQwwDAAAAAAAAAECG\n",
       "GAYAAAAAAAAAgAwxDAAAAAAAAAAAGWIYAAAAAAAAAAAyxDAAAAAAAAAAAGSIYQAAAAAAAAAAyBDD\n",
       "AAAAAAAAAACQIYYBAAAAAAAAACBDDAMAAAAAAAAAQIYYBgAAAAAAAACADDEMAAAAAAAAAAAZYhgA\n",
       "AAAAAAAAADLEMAAAAAAAAAAAZIhhAAAAAAAAAADIEMMAAAAAAAAAAJAhhgEAAAAAAAAAIEMMAwAA\n",
       "AAAAAABAhhgGAAAAAAAAAIAMMQwAAAAAAAAAABliGAAAAAAAAAAAMsQwAAAAAAAAAABkiGEAAAAA\n",
       "AAAAAMgQwwAAAAAAAAAAkCGGAQAAAAAAAAAgQwwDAAAAAAAAAECGGAYAAAAAAAAAgAwxDAAAAAAA\n",
       "AAAAGWIYAAAAAAAAAAAyxDAAAAAAAAAAAGSIYQAAAAAAAAAAyBDDAAAAAAAAAACQIYYBAAAAAAAA\n",
       "ACBDDAMAAAAAAAAAQIYYBgAAAAAAAACADDEMAAAAAAAAAAAZYhgAAAAAAAAAADLEMAAAAAAAAAAA\n",
       "ZIhhAAAAAAAAAADIEMMAAAAAAAAAAJAhhgEAAAAAAAAAIEMMAwAAAAAAAABAhhgGAAAAAAAAAIAM\n",
       "MQwAAAAAAAAAABliGAAAAAAAAAAAMsQwAAAAAAAAAABkiGEAAAAAAAAAAMgQwwAAAAAAAAAAkCGG\n",
       "AQAAAAAAAAAgQwwDAAAAAAAAAECGGAYAAAAAAAAAgAwxDAAAAAAAAAAAGWIYAAAAAAAAAAAyxDAA\n",
       "AAAAAAAAAGSIYQAAAAAAAAAAyBDDAAAAAAAAAACQIYYBAAAAAAAAACBDDAMAAAAAAAAAQIYYBgAA\n",
       "AAAAAACADDEMAAAAAAAAAAAZYhgAAAAAAAAAADLEMAAAAAAAAAAAZIhhAAAAAAAAAADIEMMAAAAA\n",
       "AAAAAJAhhgEAAAAAAAAAIEMMAwAAAAAAAABAhhgGAAAAAAAAAIAMMQwAAAAAAAAAABliGAAAAAAA\n",
       "AAAAMsQwAAAAAAAAAABkiGEAAAAAAAAAAMgQwwAAAAAAAAAAkCGGAQAAAAAAAAAgQwwDAAAAAAAA\n",
       "AECGGAYAAAAAAAAAgAwxDAAAAAAAAAAAGWIYAAAAAAAAAAAyxDAAAAAAAAAAAGSIYQAAAAAAAAAA\n",
       "yBDDAAAAAAAAAACQIYYBAAAAAAAAACBDDAMAAAAAAAAAQIYYBgAAAAAAAACADDEMAAAAAAAAAAAZ\n",
       "YhgAAAAAAAAAADLEMAAAAAAAAAAAZIhhAAAAAAAAAADIEMMAAAAAAAAAAJAhhgEAAAAAAAAAIEMM\n",
       "AwAAAAAAAABAhhgGAAAAAAAAAIAMMQwAAAAAAAAAABliGAAAAAAAAAAAMsQwAAAAAAAAAABkiGEA\n",
       "AAAAAAAAAMgQwwAAAAAAAAAAkCGGAQAAAAAAAAAgQwwDAAAAAAAAAECGGAYAAAAAAAAAgAwxDAAA\n",
       "AAAAAAAAGWIYAAAAAAAAAAAyxDAAAAAAAAAAAGSIYQAAAAAAAAAAyBDDAAAAAAAAAACQIYYBAAAA\n",
       "AAAAACBDDAMAAAAAAAAAQIYYBgAAAAAAAACADDEMAAAAAAAAAAAZYhgAAAAAAAAAADLEMAAAAAAA\n",
       "AAAAZIhhAAAAAAAAAADIEMMAAAAAAAAAAJAhhgEAAAAAAAAAIEMMAwAAAAAAAABAhhgGAAAAAAAA\n",
       "AIAMMQwAAAAAAAAAABliGAAAAAAAAAAAMsQwAAAAAAAAAABkiGEAAAAAAAAAAMgQwwAAAAAAAAAA\n",
       "kCGGAQAAAAAAAAAgQwwDAAAAAAAAAECGGAYAAAAAAAAAgAwxDAAAAAAAAAAAGWIYAAAAAAAAAAAy\n",
       "xDAAAAAAAAAAAGSIYQAAAAAAAAAAyBDDAAAAAAAAAACQIYYBAAAAAAAAACBDDAMAAAAAAAAAQIYY\n",
       "BgAAAAAAAACADDEMAAAAAAAAAAAZYhgAAAAAAAAAADLEMAAAAAAAAAAAZIhhAAAAAAAAAADIEMMA\n",
       "AAAAAAAAAJAhhgEAAAAAAAAAIEMMAwAAAAAAAABAhhgGAAAAAAAAAIAMMQwAAAAAAAAAABliGAAA\n",
       "AAAAAAAAMsQwAAAAAAAAAABkiGEAAAAAAAAAAMgQwwAAAAAAAAAAkCGGAQAAAAAAAAAgQwwDAAAA\n",
       "AAAAAECGGAYAAAAAAAAAgAwxDAAAAAAAAAAAGWIYAAAAAAAAAAAyxDAAAAAAAAAAAGSIYQAAAAAA\n",
       "AAAAyBDDAAAAAAAAAACQIYYBAAAAAAAAACBDDAMAAAAAAAAAQIYYBgAAAAAAAACADDEMAPDHvh3b\n",
       "NBREURT0twmpgQCR0BhFUZNbIKAHp3xTxpPOm6ngJiuttGcBAAAAAAAgQwwDAAAAAAAAAECGGAYA\n",
       "AAAAAAAAgAwxDAAAAAAAAAAAGWIYAAAAAAAAAAAyxDAAAAAAAAAAAGSIYQAAAAAAAAAAyBDDAAAA\n",
       "AAAAAACQIYYBAAAAAAAAACBDDAMAAAAAAAAAQIYYBgAAAAAAAACADDEMAAAAAAAAAAAZYhgAAAAA\n",
       "AAAAADLEMAAAAAAAAAAAZIhhAAAAAAAAAADIEMMAAAAAAAAAAJAhhgEAAAAAAAAAIEMMAwAAAAAA\n",
       "AABAhhgGAAAAAAAAAIAMMQwAAAAAAAAAABliGAAAAAAAAAAAMsQwAAAAAAAAAABkiGEAAAAAAAAA\n",
       "AMgQwwAAAAAAAAAAkCGGAQAAAAAAAAAgQwwDAAAAAAAAAECGGAYAAAAAAAAAgAwxDAAAAAAAAAAA\n",
       "GWIYAAAAAAAAAAAyxDAAAAAAAAAAAGSIYQAAAAAAAAAAyBDDAAAAAAAAAACQIYYBAAAAAAAAACBD\n",
       "DAMAAAAAAAAAQIYYBgAAAAAAAACADDEMAAAAAAAAAAAZYhgAAAAAAAAAADLEMAAAAAAAAAAAZIhh\n",
       "AAAAAAAAAADIEMMAAAAAAAAAAJAhhgEAAAAAAAAAIEMMAwAAAAAAAABAhhgGAAAAAAAAAIAMMQwA\n",
       "AAAAAAAAABliGAAAAAAAAAAAMsQwAAAAAAAAAABkiGEAAAAAAAAAAMgQwwAAAAAAAAAAkCGGAQAA\n",
       "AAAAAAAgQwwDAAAAAAAAAECGGAYAAAAAAAAAgAwxDAAAAAAAAAAAGWIYAAAAAAAAAAAyxDAAAAAA\n",
       "AAAAAGSIYQAAAAAAAAAAyBDDAAAAAAAAAACQIYYBAAAAAAAAACBDDAMAAAAAAAAAQIYYBgAAAAAA\n",
       "AACADDEMAAAAAAAAAAAZYhgAAAAAAAAAADLEMAAAAAAAAAAAZIhhAAAAAAAAAADIEMMAAAAAAAAA\n",
       "AJAhhgEAAAAAAAAAIEMMAwAAAAAAAABAxsvlckxvgNW+X9+mJ8BaX4/f6Qmw16HJhlnP6QEAAGxz\n",
       "vU0vgL08BcIgBxCmeIUAAAAAAAAAACBDDAMAAAAAAAAAQIYYBgAAAAAAAACADDEMAAAAAAAAAAAZ\n",
       "YhgAAAAAAAAAADLEMAAAAAAAAAAAZIhhAAAAAAAAAADIEMMAAAAAAAAAAJAhhgEAAAAAAAAAIEMM\n",
       "AwAAAAAAAABAhhgGAAAAAAAAAIAMMQwAAAAAAAAAABliGAAAAAAAAAAAMsQwAAAAAAAAAABkiGEA\n",
       "AAAAAAAAAMgQwwAAAAAAAAAAkCGGAQAAAAAAAAAgQwwDAAAAAAAAAECGGAYAAAAAAAAAgAwxDAAA\n",
       "AAAAAAAAGWIYAAAAAAAAAAAyxDAAAAAAAAAAAGSIYQAAAAAAAAAAyBDDAAAAAAAAAACQIYYBAAAA\n",
       "AAAAACBDDAMAAAAAAAAAQIYYBgAAAAAAAACADDEMAAAAAAAAAAAZYhgAAAAAAAAAADLEMAAAAAAA\n",
       "AAAAZIhhAAAAAAAAAADIEMMAAAAAAAAAAJAhhgEAAAAAAAAAIEMMAwAAAAAAAABAhhgGAAAAAAAA\n",
       "AIAMMQwAAAAAAAAAABliGAAAAAAAAAAAMsQwAAAAAAAAAABkiGEAAAAAAAAAAMgQwwAAAAAAAAAA\n",
       "kCGGAQAAAAAAAAAgQwwDAAAAAAAAAECGGAYAAAAAAAAAgAwxDAAAAAAAAAAAGWIYAAAAAAAAAAAy\n",
       "xDAAAAAAAAAAAGSIYQAAAAAAAAAAyBDDAAAAAAAAAACQIYYBAAAAAAAAACBDDAMAAAAAAAAAQIYY\n",
       "BgAAAAAAAACADDEMAAAAAAAAAAAZYhgAAAAAAAAAADLEMAAAAAAAAAAAZIhhAAAAAAAAAADIEMMA\n",
       "AAAAAAAAAJAhhgEAAAAAAAAAIEMMAwAAAAAAAABAhhgGAAAAAAAAAIAMMQwAAAAAAAAAABliGAAA\n",
       "AAAAAAAAMsQwAAAAAAAAAABkiGEAAAAAAAAAAMgQwwAAAAAAAAAAkCGGAQAAAAAAAAAgQwwDAAAA\n",
       "AAAAAECGGAYAAAAAAAAAgAwxDAAAAAAAAAAAGWIYAAAAAAAAAAAyxDAAAAAAAAAAAGSIYQAAAAAA\n",
       "AAAAyBDDAAAAAAAAAACQIYYBAAAAAAAAACBDDAMAAAAAAAAAQIYYBgAAAAAAAACADDEMAAAAAAAA\n",
       "AAAZYhgAAAAAAAAAADLEMAAAAAAAAAAAZIhhAAAAAAAAAADIEMMAAAAAAAAAAJAhhgEAAAAAAAAA\n",
       "IEMMAwAAAAAAAABAhhgGAAAAAAAAAIAMMQwAAAAAAAAAABliGAAAAAAAAAAAMsQwAAAAAAAAAABk\n",
       "iGEAAAAAAAAAAMgQwwAAAAAAAAAAkCGGAQAAAAAAAAAgQwwDAAAAAAAAAECGGAYAAAAAAAAAgAwx\n",
       "DAAAAAAAAAAAGWIYAAAAAAAAAAAyxDAAAAAAAAAAAGSIYQAAAAAAAAAAyBDDAAAAAAAAAACQIYYB\n",
       "AAAAAAAAACBDDAMAAAAAAAAAQIYYBgAAAAAAAACADDEMAAAAAAAAAAAZYhgAAAAAAAAAADLEMAAA\n",
       "AAAAAAAAZIhhAAAAAAAAAADIEMMAAAAAAAAAAJAhhgEAAAAAAAAAIEMMAwAAAAAAAABAhhgGAAAA\n",
       "AAAAAIAMMQwAAAAAAAAAABliGAAAAAAAAAAAMsQwAAAAAAAAAABkiGEAAAAAAAAAAMgQwwAAAAAA\n",
       "AAAAkCGGAQAAAAAAAAAgQwwDAAAAAAAAAECGGAYAAAAAAAAAgAwxDAAAAAAAAAAAGWIYAAAAAAAA\n",
       "AAAyxDAAAAAAAAAAAGSIYQAAAAAAAAAAyBDDAAAAAAAAAACQIYYBAAAAAAAAACBDDAMAAAAAAAAA\n",
       "QIYYBgAAAAAAAACADDEMAAAAAAAAAAAZYhgAAAAAAAAAADLEMAAAAAAAAAAAZIhhAAAAAAAAAADI\n",
       "EMMAAAAAAAAAAJAhhgEAAAAAAAAAIEMMAwAAAAAAAABAhhgGAAAAAAAAAIAMMQwAAAAAAAAAABli\n",
       "GAAAAAAAAAAAMsQwAAAAAAAAAABkiGEAAAAAAAAAAMgQwwAAAAAAAAAAkCGGAQAAAAAAAAAgQwwD\n",
       "AAAAAAAAAECGGAYAAAAAAAAAgAwxDAAAAAAAAAAAGWIYAAAAAAAAAAAyxDAAAAAAAAAAAGSIYQAA\n",
       "AAAAAAAAyBDDAAAAAAAAAACQIYYBAAAAAAAAACBDDAMAAAAAAAAAQIYYBgAAAAAAAACADDEMAAAA\n",
       "AAAAAAAZYhgAAAAAAAAAADLEMAAAAAAAAAAAZIhhAAAAAAAAAADIEMMAAAAAAAAAAJAhhgEAAAAA\n",
       "AAAAIEMMAwAAAAAAAABAhhgGAAAAAAAAAIAMMQwAAAAAAAAAABliGAAAAAAAAAAAMsQwAAAAAAAA\n",
       "AABkiGEAAAAAAAAAAMgQwwAAAAAAAAAAkCGGAQAAAAAAAAAgQwwDAAAAAAAAAECGGAYAAAAAAAAA\n",
       "gAwxDAAAAAAAAAAAGWIYAAAAAAAAAAAyxDAAAAAAAAAAAGSIYQAAAAAAAAAAyBDDAAAAAAAAAACQ\n",
       "IYYBAAAAAAAAACBDDAMAAAAAAAAAQIYYBgAAAAAAAACADDEMAAAAAAAAAAAZYhgAAAAAAAAAADLE\n",
       "MAAAAAAAAAAAZIhhAAAAAAAAAADIEMMAAAAAAAAAAJAhhgEAAAAAAAAAIEMMAwAAAAAAAABAhhgG\n",
       "AAAAAAAAAIAMMQwAAAAAAAAAABliGAAAAAAAAAAAMsQwAAAAAAAAAABkiGEAAAAAAAAAAMgQwwAA\n",
       "AAAAAAAAkCGGAQAAAAAAAAAgQwwDAAAAAAAAAECGGAYAAAAAAAAAgAwxDAAAAAAAAAAAGWIYAAAA\n",
       "AAAAAAAyxDAAAAAAAAAAAGSIYQAAAAAAAAAAyBDDAAAAAAAAAACQIYYBAAAAAAAAACBDDAMAAAAA\n",
       "AAAAQIYYBgAAAAAAAACADDEMAAAAAAAAAAAZYhgAAAAAAAAAADLEMAAAAAAAAAAAZIhhAAAAAAAA\n",
       "AADIEMMAAAAAAAAAAJAhhgEAAAAAAAAAIEMMAwAAAAAAAABAhhgGAAAAAAAAAIAMMQwAAAAAAAAA\n",
       "ABliGAAAAAAAAAAAMsQwAAAAAAAAAABkiGEAAAAAAAAAAMgQwwAAAAAAAAAAkCGGAQAAAAAAAAAg\n",
       "QwwDAAAAAAAAAECGGAYAAAAAAAAAgAwxDAAAAAAAAAAAGWIYAAAAAAAAAAAyxDAAAAAAAAAAAGSI\n",
       "YQAAAAAAAAAAyBDDAAAAAAAAAACQIYYBAAAAAAAAACBDDAMAAAAAAAAAQIYYBgAAAAAAAACADDEM\n",
       "AAAAAAAAAAAZYhgAAAAAAAAAADLEMAAAAAAAAAAAZIhhAAAAAAAAAADIEMMAAAAAAAAAAJAhhgEA\n",
       "AAAAAAAAIEMMAwAAAAAAAACzabyrAAALTElEQVRAhhgGAAAAAAAAAIAMMQwAAAAAAAAAABliGAAA\n",
       "AAAAAAAAMsQwAAAAAAAAAABkiGEAAAAAAAAAAMgQwwAAAAAAAAAAkCGGAQAAAAAAAAAgQwwDAAAA\n",
       "AAAAAECGGAYAAAAAAAAAgAwxDAAAAAAAAAAAGWIYAAAAAAAAAAAyxDAAAAAAAAAAAGSIYQAAAAAA\n",
       "AAAAyBDDAAAAAAAAAACQIYYBAAAAAAAAACDj+Pn8eE6PgM3e7/fpCbDX+Te9APa63qYXAACwzXlO\n",
       "L4Ddrv7mArCQOyiMcfsEAAAAAAAAACBDDAMAAAAAAAAAQIYYBgAAAAAAAACADDEMAAAAAAAAAAAZ\n",
       "YhgAAAAAAAAAADLEMAAAAAAAAAAAZIhhAAAAAAAAAADIEMMAAAAAAAAAAJAhhgEAAAAAAAAAIEMM\n",
       "AwAAAAAAAABAhhgGAAAAAAAAAIAMMQwAAAAAAAAAABliGAAAAAAAAAAAMsQwAAAAAAAAAABkiGEA\n",
       "AAAAAAAAAMgQwwAAAAAAAAAAkCGGAQAAAAAAAAAgQwwDAAAAAAAAAECGGAYAAAAAAAAAgAwxDAAA\n",
       "AAAAAAAAGWIYAAAAAAAAAAAyxDAAAAAAAAAAAGSIYQAAAAAAAAAAyBDDAAAAAAAAAACQIYYBAAAA\n",
       "AAAAACBDDAMAAAAAAAAAQIYYBgAAAAAAAACADDEMAAAAAAAAAAAZYhgAAAAAAAAAADLEMAAAAAAA\n",
       "AAAAZIhhAAAAAAAAAADIEMMAAAAAAAAAAJAhhgEAAAAAAAAAIEMMAwAAAAAAAABAhhgGAAAAAAAA\n",
       "AIAMMQwAAAAAAAAAABliGAAAAAAAAAAAMsQwAAAAAAAAAABkiGEAAAAAAAAAAMgQwwAAAAAAAAAA\n",
       "kCGGAQAAAAAAAAAgQwwDAAAAAAAAAECGGAYAAAAAAAAAgAwxDAAAAAAAAAAAGWIYAAAAAAAAAAAy\n",
       "xDAAAAAAAAAAAGSIYQAAAAAAAAAAyBDDAAAAAAAAAACQIYYBAAAAAAAAACBDDAMAAAAAAAAAQIYY\n",
       "BgAAAAAAAACADDEMAAAAAAAAAAAZYhgAAAAAAAAAADLEMAAAAAAAAAAAZIhhAAAAAAAAAADIEMMA\n",
       "AAAAAAAAAJAhhgEAAAAAAAAAIEMMAwAAAAAAAABAhhgGAAAAAAAAAIAMMQwAAAAAAAAAABliGAAA\n",
       "AAAAAAAAMsQwAAAAAAAAAABkiGEAAAAAAAAAAMgQwwAAAAAAAAAAkCGGAQAAAAAAAAAgQwwDAAAA\n",
       "AAAAAECGGAYAAAAAAAAAgAwxDAAAAAAAAAAAGWIYAAAAAAAAAAAyxDAAAAAAAAAAAGSIYQAAAAAA\n",
       "AAAAyBDDAAAAAAAAAACQIYYBAAAAAAAAACBDDAMAAAAAAAAAQIYYBgAAAAAAAACADDEMAAAAAAAA\n",
       "AAAZYhgAAAAAAAAAADLEMAAAAAAAAAAAZIhhAAAAAAAAAADIEMMAAAAAAAAAAJAhhgEAAAAAAAAA\n",
       "IEMMAwAAAAAAAABAhhgGAAAAAAAAAIAMMQwAAAAAAAAAABliGAAAAAAAAAAAMsQwAAAAAAAAAABk\n",
       "iGEAAAAAAAAAAMgQwwAAAAAAAAAAkCGGAQAAAAAAAAAgQwwDAAAAAAAAAECGGAYAAAAAAAAAgAwx\n",
       "DAAAAAAAAAAAGWIYAAAAAAAAAAAyxDAAAAAAAAAAAGSIYQAAAAAAAAAAyBDDAAAAAAAAAACQIYYB\n",
       "AAAAAAAAACBDDAMAAAAAAAAAQIYYBgAAAAAAAACADDEMAAAAAAAAAAAZYhgAAAAAAAAAADLEMAAA\n",
       "AAAAAAAAZIhhAAAAAAAAAADIEMMAAAAAAAAAAJAhhgEAAAAAAAAAIEMMAwAAAAAAAABAhhgGAAAA\n",
       "AAAAAIAMMQwAAAAAAAAAABliGAAAAAAAAAAAMsQwAAAAAAAAAABkiGEAAAAAAAAAAMgQwwAAAAAA\n",
       "AAAAkCGGAQAAAAAAAAAgQwwDAAAAAAAAAECGGAYAAAAAAAAAgAwxDAAAAAAAAAAAGWIYAAAAAAAA\n",
       "AAAyxDAAAAAAAAAAAGSIYQAAAAAAAAAAyBDDAAAAAAAAAACQIYYBAAAAAAAAACBDDAMAAAAAAAAA\n",
       "QIYYBgAAAAAAAACADDEMAAAAAAAAAAAZYhgAAAAAAAAAADLEMAAAAAAAAAAAZIhhAAAAAAAAAADI\n",
       "EMMAAAAAAAAAAJAhhgEAAAAAAAAAIEMMAwAAAAAAAABAhhgGAAAAAAAAAIAMMQwAAAAAAAAAABli\n",
       "GAAAAAAAAAAAMsQwAAAAAAAAAABkiGEAAAAAAAAAAMgQwwAAAAAAAAAAkCGGAQAAAAAAAAAgQwwD\n",
       "AAAAAAAAAECGGAYAAAAAAAAAgAwxDAAAAAAAAAAAGWIYAAAAAAAAAAAyxDAAAAAAAAAAAGSIYQAA\n",
       "AAAAAAAAyBDDAAAAAAAAAACQIYYBAAAAAAAAACBDDAMAAAAAAAAAQIYYBgAAAAAAAACADDEMAAAA\n",
       "AAAAAAAZYhgAAAAAAAAAADLEMAAAAAAAAAAAZIhhAAAAAAAAAADIEMMAAAAAAAAAAJAhhgEAAAAA\n",
       "AAAAIEMMAwAAAAAAAABAhhgGAAAAAAAAAIAMMQwAAAAAAAAAABliGAAAAAAAAAAAMsQwAAAAAAAA\n",
       "AABkiGEAAPhv1w5kAAAAAAb5W9/jK44AAAAAAAA2ZBgAAAAAAAAAADZkGAAAAAAAAAAANmQYAAAA\n",
       "AAAAAAA2ZBgAAAAAAAAAADZkGAAAAAAAAAAANmQYAAAAAAAAAAA2ZBgAAAAAAAAAADZkGAAAAAAA\n",
       "AAAANmQYAAAAAAAAAAA2ZBgAAAAAAAAAADZkGAAAAAAAAAAANmQYAAAAAAAAAAA2ZBgAAAAAAAAA\n",
       "ADZkGAAAAAAAAAAANmQYAAAAAAAAAAA2ZBgAAAAAAAAAADZkGAAAAAAAAAAANmQYAAAAAAAAAAA2\n",
       "ZBgAAAAAAAAAADZkGAAAAAAAAAAANmQYAAAAAAAAAAA2ZBgAAAAAAAAAADZkGAAAAAAAAAAANmQY\n",
       "AAAAAAAAAAA2ZBgAAAAAAAAAADZkGAAAAAAAAAAANmQYAAAAAAAAAAA2ZBgAAAAAAAAAADZkGAAA\n",
       "AAAAAAAANmQYAAAAAAAAAAA2ZBgAAAAAAAAAADZkGAAAAAAAAAAANmQYAAAAAAAAAAA2ZBgAAAAA\n",
       "AAAAADZkGAAAAAAAAAAANmQYAAAAAAAAAAA2ZBgAAAAAAAAAADZkGAAAAAAAAAAANmQYAAAAAAAA\n",
       "AAA2ZBgAAAAAAAAAADZkGAAAAAAAAAAANmQYAAAAAAAAAAA2ZBgAAAAAAAAAADZkGAAAAAAAAAAA\n",
       "NmQYAAAAAAAAAAA2ZBgAAAAAAAAAADZkGAAAAAAAAAAANmQYAAAAAAAAAAA2ZBgAAAAAAAAAADZk\n",
       "GAAAAAAAAAAANmQYAAAAAAAAAAA2ZBgAAAAAAAAAADZkGAAAAAAAAAAANmQYAAAAAAAAAAA2ZBgA\n",
       "AAAAAAAAADZkGAAAAAAAAAAANmQYAAAAAAAAAAA2ZBgAAAAAAAAAADZkGAAAAAAAAAAANmQYAAAA\n",
       "AAAAAAA2ZBgAAAAAAAAAADZkGAAAAAAAAAAANmQYAAAAAAAAAAA2ZBgAAAAAAAAAADZkGAAAAAAA\n",
       "AAAANmQYAAAAAAAAAAA2ZBgAAAAAAAAAADZkGAAAAAAAAAAANmQYAAAAAAAAAAA2ZBgAAAAAAAAA\n",
       "ADZkGAAAAAAAAAAANmQYAAAAAAAAAAA2ZBgAAAAAAAAAADZkGAAAAAAAAAAANmQYAAAAAAAAAAA2\n",
       "ZBgAAAAAAAAAADZkGAAAAAAAAAAANmQYAAAAAAAAAAA2ZBgAAAAAAAAAADZkGAAAAAAAAAAANmQY\n",
       "AAAAAAAAAAA2As8EbH7NEcJiAAAAAElFTkSuQmCC\n",
       "\" transform=\"translate(230, 154)\"/>\n",
       "</g>\n",
       "<defs>\n",
       "  <clipPath id=\"clip523\">\n",
       "    <rect x=\"2528\" y=\"153\" width=\"85\" height=\"2417\"/>\n",
       "  </clipPath>\n",
       "</defs>\n",
       "<g clip-path=\"url(#clip523)\">\n",
       "<image width=\"84\" height=\"2416\" xlink:href=\"data:image/png;base64,\n",
       "iVBORw0KGgoAAAANSUhEUgAAAFQAAAlwCAYAAAAVzhIyAAAViUlEQVR4nO3dQWokMQAEQUnU1f/H\n",
       "r7U/kTAwRLxgSerQvVJ77u/5+Ttk3qf/Ad9G0JigMUFjgsYEjQkaEzQmaGz30/+CL2OhMUFjgsYE\n",
       "jQkaEzQmaEzQ2K4n+5SFxgSNCRoTNCZoTNCYoDFBY4LG9o5XpZKFxgSNCRoTNCZoTNCYoDFBY45A\n",
       "YhYaEzQmaEzQmKAxQWOCxgSNCRrb9aqUstCYoDFBY4LGBI0JGhM0Jmhsirb0jAkaEzQmaEzQmKAx\n",
       "QWOCxgSNOQKJWWhM0JigMUFjgsYEjQkaEzTmK5CYhcYEjQkaEzQmaEzQmKAxQWPuNsX0jAkaEzQm\n",
       "aEzQmKAxQWOCxgSNudsUs9CYoDFBY4LGBI0JGhM0Jmhsz3N9ykJjgsYEjQkaEzQmaEzQmKAxQWO7\n",
       "fuQvZaExQWOCxgSNCRoTNCZoTNCYz7tjFhoTNCZoTNCYoDFBY4LGBI0JGtvzqpSy0JigMUFjgsYE\n",
       "jQkaEzQmaGwe61sWGhM0JmhM0JigMUFjgsYEjfm7TTELjQkaEzQmaEzQmKAxQWOCxgSN+UNYMQuN\n",
       "CRoTNCZoTNCYoDFBY4LG3G2KWWhM0JigMUFjgsYEjQkaEzQmaMzn3TELjQkaEzQmaEzQmKAxQWOC\n",
       "xvyF25iFxgSNCRoTNCZoTNCYoDFBY4LG/MhfzEJjgsYEjQkaEzQmaEzQmKAxn3fHLDQmaEzQmKAx\n",
       "QWOCxgSNCRoTNOZPBscsNCZoTNCYoDFBY4LGBI0JGvOHsGIWGhM0JmhM0JigMUFjgsYEjfm7TTEL\n",
       "jQkaEzQmaEzQmKAxQWOCxgSN+UNYMQuNCRoTNCZoTNCYoDFBY4LGpmhLz5igMUFjgsYEjQkaEzQm\n",
       "aEzQmM+7YxYaEzQmaEzQmKAxQWOCxgSNudsUs9CYoDFBY4LGBI0JGhM0JmhM0NieH/lLWWhM0Jig\n",
       "MUFjgsYEjQkaEzTmCCRmoTFBY4LGBI0JGhM0JmhM0JiPFmIWGhM0JmhM0JigMUFjgsYEjQka84ew\n",
       "YnrGBI0JGhM0JmhM0JigMUFj7jbFLDQmaEzQmKAxQWOCxgSNCRoTNObn0GMWGhM0JmhM0JigMUFj\n",
       "gsYEjc1jfctCY4LGBI0JGhM0JmhM0JigMUFjvpePWWhM0JigMUFjgsYEjQkaEzTmK5CYhcYEjQka\n",
       "EzQmaEzQmKAxQWOCxhyBxCw0JmhM0JigMUFjgsYEjQkacwQSs9CYoDFBY4LGBI0JGhM0JmjMg33M\n",
       "QmOCxgSNCRoTNCZoTNCYoDFBY+42xSw0JmhM0JigMUFjgsYEjQkacwQSs9CYoDFBY4LGBI0JGhM0\n",
       "JmhM0JgjkJiFxgSNCRoTNCZoTNCYoDFBY45AYhYaEzQmaEzQmKAxQWOCxgSNCRpzBBKz0JigMUFj\n",
       "gsYEjQkaEzQmaMwRSMxCY4LGBI0JGhM0JmhM0JigMQ/2MQuNCRoTNCZoTNCYoDFBY4LGBI252xSz\n",
       "0JigMUFjgsYEjQkaEzQmaGwe61sWGhM0JmhM0JigMUFjgsYEjQkacwQSs9CYoDFBY4LGBI0JGhM0\n",
       "JmjMVyAxC40JGhM0JmhM0JigMUFjgsYEjXlTilloTNCYoDFBY4LGBI0JGhM05m5TzEJjgsYEjQka\n",
       "EzQmaEzQmKAxQWOOQGIWGhM0JmhM0JigMUFjgsYEjTkCiVloTNCYoDFBY4LGBI0JGhM05n/sYxYa\n",
       "EzQmaEzQmKAxQWOCxgSNCRrzphSz0JigMUFjgsYEjQkaEzQmaMzdppiFxgSNCRoTNCZoTNCYoDFB\n",
       "Y4LGHIHELDQmaEzQmKAxQWOCxgSNCRpzBBKz0JigMUFjgsYEjQkaEzQmaEzQmCOQmIXGBI0JGhM0\n",
       "JmhM0JigMUFjjkBiFhoTNCZoTNCYoDFBY4LGBI35H/uYhcYEjQkaEzQmaEzQmKAxQWOCxrwpxSw0\n",
       "JmhM0JigMUFjgsYEjQkac7cpZqExQWOCxgSNCRoTNCZoTNCYoDFHIDELjQkaEzQmaEzQmKAxQWOC\n",
       "xhyBxCw0JmhM0JigMUFjgsYEjQkaEzTmCCRmoTFBY4LGBI0JGhM0JmhM0JgH+5iFxgSNCRoTNCZo\n",
       "TNCYoDFBY4LGXBaLWWhM0JigMUFjgsYEjQkaEzTmCCRmoTFBY4LGBI0JGhM0JmhM0NiOJ/uUhcYE\n",
       "jQkaEzQmaEzQmKAxQWOCxtxtilloTNCYoDFBY4LGBI0JGhM0tuO5PmWhMUFjgsYEjQkaEzQmaEzQ\n",
       "mKAxl8ViFhoTNCZoTNCYoDFBY4LGBI3tPg/2JQuNCRoTNCZoTNCYoDFBY4LGBI05AolZaEzQmKAx\n",
       "QWOCxgSNCRoTNObBPmahMUFjgsYEjQkaEzQmaEzQ2K6kKTljgsYEjQkaEzQmaEzQmKAxQWOOQGIW\n",
       "GhM0JmhM0JigMUFjgsYEjXmwj1loTNCYoDFBY4LGBI0JGhM0JmjMH8KKWWhM0JigMUFjgsYEjQka\n",
       "EzTmCCRmoTFBY4LGBI0JGhM0JmhM0JigMW9KMQuNCRoTNCZoTNCYoDFBY4LG5rm+ZaExQWOCxgSN\n",
       "CRoTNCZoTNCYoLEdX4GkLDQmaEzQmKAxQWOCxgSNCRpztylmoTFBY4LGBI0JGhM0JmhM0NiuB/uU\n",
       "hcYEjQkaEzQmaEzQmKAxQWOCxtxtilloTNCYoDFBY4LGBI0JGhM0tuO5PmWhMUFjgsYEjQkaEzQm\n",
       "aEzQmKAxl8ViFhoTNCZoTNCYoDFBY4LGBI35vDtmoTFBY4LGBI0JGhM0JmhM0JigMV+BxCw0JmhM\n",
       "0JigMUFjgsYEjQkac7cpZqExQWOCxgSNCRoTNCZoTNCYu00xC40JGhM0JmhM0JigMUFjgsYEjU3S\n",
       "lpwxQWOCxgSNCRoTNCZoTNCYu00xC40JGhM0JmhM0JigMUFjgsYEjbksFrPQmKAxQWOCxgSNCRoT\n",
       "NCZozN9tilloTNCYoDFBY4LGBI0JGhM0JmjMZbGYhcYEjQkaEzQmaEzQmKAxQWM7nutTFhoTNCZo\n",
       "TNCYoDFBY4LGBI0JGvMVSMxCY4LGBI0JGhM0JmhM0JigsV1fgaQsNCZoTNCYoDFBY4LGBI0JGvM/\n",
       "9jELjQkaEzQmaEzQmKAxQWOCxgSNeVOKWWhM0JigMUFjgsYEjQkaEzTmblPMQmOCxgSNCRoTNCZo\n",
       "TNCYoDFBY/4QVsxCY4LGBI0JGhM0JmhM0JigMXebYhYaEzQmaEzQmKAxQWOCxgSNCRrzphSz0Jig\n",
       "MUFjgsYEjQkaEzQmaMyDfcxCY4LGBI0JGhM0JmhM0JigsR2fd6csNCZoTNCYoDFBY4LGBI0JGhM0\n",
       "tns1LakZEzQmaEzQmKAxQWOCxgSNudsUs9CYoDFBY4LGBI0JGhM0JmhM0Jg3pZiFxgSNCRoTNCZo\n",
       "TNCYoDFBYx7sYxYaEzQmaEzQmKAxQWOCxgSNCRrzphSz0JigMUFjgsYEjQkaEzQmaMyDfcxCY4LG\n",
       "BI0JGhM0JmhM0JigMUFj3pRiFhoTNCZoTNCYoDFBY4LGBI15sI9ZaEzQmKAxQWOCxgSNCRoTNObB\n",
       "PmahMUFjgsYEjQkaEzQmaEzQmKAxP4ces9CYoDFBY4LGBI0JGhM0Jmhsx693p9SMCRoTNCZoTNCY\n",
       "oDFBY4LGBI25LBaz0JigMUFjgsYEjQkaEzQmaMyDfcxCY4LGBI0JGhM0JmhM0JigMUFj3pRiFhoT\n",
       "NCZoTNCYoDFBY4LGBI15sI9ZaEzQmKAxQWOCxgSNCRoTNObBPmahMUFjgsYEjQkaEzQmaEzQmKAx\n",
       "b0oxC40JGhM0JmhM0JigMUFjgsY82McsNCZoTNCYoDFBY4LGBI0JGhM05k0pZqExQWOCxgSNCRoT\n",
       "NCZoTNCYX++OWWhM0JigMUFjgsYEjQkaEzQmaMzPocfUjAkaEzQmaEzQmKAxQWOCxtxtilloTNCY\n",
       "oDFBY4LGBI0JGhM0JmjMm1LMQmOCxgSNCRoTNCZoTNCYoDEP9jELjQkaEzQmaEzQmKAxQWOCxjzY\n",
       "xyw0JmhM0JigMUFjgsYEjQkaEzTmTSlmoTFBY4LGBI0JGhM0JmhM0JgH+5iFxgSNCRoTNCZoTNCY\n",
       "oDFBY4LGvCnFLDQmaEzQmKAxQWOCxgSNCRrzYB+z0JigMUFjgsYEjQkaEzQmaEzQmJ9Dj1loTNCY\n",
       "oDFBY4LGBI0JGhM05te7Y2rGBI0JGhM0JmhM0JigMUFj7jbFLDQmaEzQmKAxQWOCxgSNCRoTNOZN\n",
       "KWahMUFjgsYEjQkaEzQmaEzQmAf7mIXGBI0JGhM0JmhM0JigMUFjgsa8KcUsNCZoTNCYoDFBY4LG\n",
       "BI0JGvNgH7PQmKAxQWOCxgSNCRoTNCZoTNCYP4QVUzMmaEzQmKAxQWOCxgSNCRpzBBKz0JigMUFj\n",
       "gsYEjQkaEzQmaEzQmB/5i1loTNCYoDFBY4LGBI0JGhM05m5TTM2YoDFBY4LGBI0JGhM0JmjM3aaY\n",
       "hcYEjQkaEzQmaEzQmKAxQWOCxrwpxSw0JmhM0JigMUFjgsYEjQka82Afs9CYoDFBY4LGBI0JGhM0\n",
       "JmhM0JivQGJqxgSNCRoTNCZoTNCYoDFBY45AYhYaEzQmaEzQmKAxQWOCxgSNCRrzphSz0JigMUFj\n",
       "gsYEjQkaEzQmaMzdppiaMUFjgsYEjQkaEzQmaEzQmN+ki1loTNCYoDFBY4LGBI0JGhM0JmjM3aaY\n",
       "hcYEjQkaEzQmaEzQmKAxQWMe7GMWGhM0JmhM0JigMUFjgsYEjQka8xVITM2YoDFBY4LGBI0JGhM0\n",
       "JmjMEUjMQmOCxgSNCRoTNCZoTNCYoDFBY96UYhYaEzQmaEzQmKAxQWOCxgSNudsUUzMmaEzQmKAx\n",
       "QWOCxgSNCRoTNOYIJGahMUFjgsYEjQkaEzQmaEzQmN8CiVloTNCYoDFBY4LGBI0JGhM05n/sYxYa\n",
       "EzQmaEzQmKAxQWOCxgSNCRrzFUhMzZigMUFjgsYEjQkaEzQmaMwRSMxCY4LGBI0JGhM0JmhM0Jig\n",
       "MUFj3pRiFhoTNCZoTNCYoDFBY4LGBI252xRTMyZoTNCYoDFBY4LGBI0JGhM05ggkZqExQWOCxgSN\n",
       "CRoTNCZoTNCYB/uYhcYEjQkaEzQmaEzQmKAxQWN+uiJmoTFBY4LGBI0JGhM0JmhM0JigMV+BxNSM\n",
       "CRoTNCZoTNCYoDFBY4LG3G2KWWhM0JigMUFjgsYEjQkaEzQmaMybUsxCY4LGBI0JGhM0JmhM0Jig\n",
       "MXebYmrGBI0JGhM0JmhM0JigMUFjgsYcgcQsNCZoTNCYoDFBY4LGBI0JGvNgH7PQmKAxQWOCxgSN\n",
       "CRoTNCZoTNCYy2IxNWOCxgSNCRoTNCZoTNCYoLFdRyApC40JGhM0JmhM0JigMUFjgsbcbYpZaEzQ\n",
       "mKAxQWOCxgSNCRoTNCZozN2mmJoxQWOCxgSNCRoTNCZoTNCYI5CYhcYEjQkaEzQmaEzQmKAxQWOC\n",
       "xrwpxSw0JmhM0JigMUFjgsYEjQkac7cppmZM0JigMUFjgsYEjQkaEzQmaMwRSMxCY4LGBI0JGhM0\n",
       "JmhM0JigMQ/2MQuNCRoTNCZoTNCYoDFBY4LG3G2KqRkTNCZoTNCYoDFBY4LGBI0JGnMEErPQmKAx\n",
       "QWOCxgSNCRoTNCZozIN9zEJjgsYEjQkaEzQmaEzQmKAxQWMui8XUjAkaEzQmaEzQmKAxQWOCxhyB\n",
       "xCw0JmhM0JigMUFjgsYEjQkaEzTmTSlmoTFBY4LGBI0JGhM0JmhM0NjO07SkZkzQmKAxQWOCxgSN\n",
       "CRoTNCZozBFIzEJjgsYEjQkaEzQmaEzQmKAxn3fH1IwJGhM0JmhM0JigMUFjgsb8j33MQmOCxgSN\n",
       "CRoTNCZoTNCYoDFBY7velFIWGhM0JmhM0JigMUFjgsYEjbnbFFMzJmhM0JigMUFjgsYEjQkaEzTm\n",
       "sljMQmOCxgSNCRoTNCZoTNCYoDEP9jELjQkaEzQmaEzQmKAxQWOCxgSNuSwWUzMmaEzQmKAxQWOC\n",
       "xgSNCRpzBBKz0JigMUFjgsYEjQkaEzQmaMyDfcxCY4LGBI0JGhM0JmhM0JigMUFj7jbF1IwJGhM0\n",
       "JmhM0JigMUFjgsYcgcQsNCZoTNCYoDFBY4LGBI0JGhM05k0pZqExQWOCxgSNCRoTNCZoTNCYu00x\n",
       "NWOCxgSNCRoTNCZoTNCYoDFBY45AYhYaEzQmaEzQmKAxQWOCxgSNebCPWWhM0JigMUFjgsYEjQka\n",
       "EzQmaMxlsZiaMUFjgsYEjQkaEzQmaEzQmCOQmIXGBI0JGhM0JmhM0JigMUFjHuxjFhoTNCZoTNCY\n",
       "oDFBY4LGBI0JGnO3KaZmTNCYoDFBY4LGBI0JGhM05ggkZqExQWOCxgSNCRoTNCZoTNCYoLHd402p\n",
       "ZKExQWOCxgSNCRoTNCZoTNCYI5CYhcYEjQkaEzQmaEzQmKAxQWOCxgSNCRoTNCZoTNCYoDFBY4LG\n",
       "BI05AolZaEzQmKAxQWOCxgSNCRoTNObBPmahMUFjgsYEjQkaEzQmaEzQmKCxHZ93pyw0JmhM0Jig\n",
       "MUFjgsYEjQkacwQSs9CYoDFBY4LGBI0JGhM0JmhM0JgjkJiFxgSNCRoTNCZoTNCYoDFBY/Nc37LQ\n",
       "mKAxQWOCxgSNCRoTNCZoTNCYI5CYhcYEjQkaEzQmaEzQmKAxQWO+AolZaEzQmKAxQWOCxgSNCRoT\n",
       "NCZozJtSzEJjgsYEjQkaEzQmaEzQmKAxd5tiFhoTNCZoTNCYoDFBY4LGBI35vDtmoTFBY4LGBI0J\n",
       "GhM0JmhM0JigMUcgMQuNCRoTNCZoTNCYoDFBY4LGfLQQs9CYoDFBY4LGBI0JGhM0JmhM0Jg3pZiF\n",
       "xgSNCRoTNCZoTNCYoDFBY+42xSw0JmhM0JigMUFjgsYEjQkaEzTmCCRmoTFBY4LGBI0JGhM0JmhM\n",
       "0JigMUFjgsYEjQkaEzQmaEzQmKAx/2Mfs9CYoDFBY4LGBI0JGhM0JmhM0JivQGIWGhM0JmhM0Jig\n",
       "MUFjgsYEjTkCiVloTNCYoDFBY4LGBI0JGhM0JmjMm1LMQmOCxgSNCRoTNCZoTNCYoDFBY4LGBI0J\n",
       "GhM0JmhM0JigMUFjgsYcgcQsNCZoTNCYoDFBY4LGBI0JGvN5d8xCY4LGBI0JGhM0JmhM0JigMUFj\n",
       "jkBiFhoTNCZoTNCYoDFBY4LGBI05AolZaEzQmKAxQWOCxgSNCRoTNOZ/7GMWGhM0JmhM0JigMUFj\n",
       "gsYEjQkamxOQloXGBI0JGhM0JmhM0JigMUFj7jbFLDQmaEzQmKAxQWOCxgSNCRoTNOayWMxCY4LG\n",
       "BI0JGhM0JmhM0JigMUcgMQuNCRoTNCZoTNCYoDFBY4LGBI05AolZaEzQmKAxQWOCxgSNCRoTNDbP\n",
       "9S0LjQkaEzQmaEzQmKAxQWOCxv4BLgcYuuC8rkMAAAAASUVORK5CYII=\n",
       "\" transform=\"translate(2529, 154)\"/>\n",
       "</g>\n",
       "<path clip-path=\"url(#clip520)\" d=\"M2666.7 2552.31 Q2663.09 2552.31 2661.26 2555.87 Q2659.45 2559.42 2659.45 2566.55 Q2659.45 2573.65 2661.26 2577.22 Q2663.09 2580.76 2666.7 2580.76 Q2670.33 2580.76 2672.14 2577.22 Q2673.97 2573.65 2673.97 2566.55 Q2673.97 2559.42 2672.14 2555.87 Q2670.33 2552.31 2666.7 2552.31 M2666.7 2548.61 Q2672.51 2548.61 2675.57 2553.21 Q2678.64 2557.8 2678.64 2566.55 Q2678.64 2575.27 2675.57 2579.88 Q2672.51 2584.46 2666.7 2584.46 Q2660.89 2584.46 2657.81 2579.88 Q2654.76 2575.27 2654.76 2566.55 Q2654.76 2557.8 2657.81 2553.21 Q2660.89 2548.61 2666.7 2548.61 Z\" fill=\"#000000\" fill-rule=\"nonzero\" fill-opacity=\"1\" /><path clip-path=\"url(#clip520)\" d=\"M2655.43 2146.8 L2663.07 2146.8 L2663.07 2120.44 L2654.76 2122.11 L2654.76 2117.85 L2663.02 2116.18 L2667.7 2116.18 L2667.7 2146.8 L2675.33 2146.8 L2675.33 2150.74 L2655.43 2150.74 L2655.43 2146.8 Z\" fill=\"#000000\" fill-rule=\"nonzero\" fill-opacity=\"1\" /><path clip-path=\"url(#clip520)\" d=\"M2694.78 2119.26 Q2691.17 2119.26 2689.34 2122.82 Q2687.53 2126.36 2687.53 2133.49 Q2687.53 2140.6 2689.34 2144.17 Q2691.17 2147.71 2694.78 2147.71 Q2698.41 2147.71 2700.22 2144.17 Q2702.05 2140.6 2702.05 2133.49 Q2702.05 2126.36 2700.22 2122.82 Q2698.41 2119.26 2694.78 2119.26 M2694.78 2115.55 Q2700.59 2115.55 2703.64 2120.16 Q2706.72 2124.74 2706.72 2133.49 Q2706.72 2142.22 2703.64 2146.83 Q2700.59 2151.41 2694.78 2151.41 Q2688.97 2151.41 2685.89 2146.83 Q2682.83 2142.22 2682.83 2133.49 Q2682.83 2124.74 2685.89 2120.16 Q2688.97 2115.55 2694.78 2115.55 Z\" fill=\"#000000\" fill-rule=\"nonzero\" fill-opacity=\"1\" /><path clip-path=\"url(#clip520)\" d=\"M2724.94 2119.26 Q2721.33 2119.26 2719.5 2122.82 Q2717.7 2126.36 2717.7 2133.49 Q2717.7 2140.6 2719.5 2144.17 Q2721.33 2147.71 2724.94 2147.71 Q2728.57 2147.71 2730.38 2144.17 Q2732.21 2140.6 2732.21 2133.49 Q2732.21 2126.36 2730.38 2122.82 Q2728.57 2119.26 2724.94 2119.26 M2724.94 2115.55 Q2730.75 2115.55 2733.81 2120.16 Q2736.89 2124.74 2736.89 2133.49 Q2736.89 2142.22 2733.81 2146.83 Q2730.75 2151.41 2724.94 2151.41 Q2719.13 2151.41 2716.05 2146.83 Q2713 2142.22 2713 2133.49 Q2713 2124.74 2716.05 2120.16 Q2719.13 2115.55 2724.94 2115.55 Z\" fill=\"#000000\" fill-rule=\"nonzero\" fill-opacity=\"1\" /><path clip-path=\"url(#clip520)\" d=\"M2660.38 1713.75 L2676.7 1713.75 L2676.7 1717.69 L2654.76 1717.69 L2654.76 1713.75 Q2657.42 1711 2662 1706.37 Q2666.61 1701.72 2667.79 1700.37 Q2670.03 1697.85 2670.91 1696.11 Q2671.82 1694.35 2671.82 1692.66 Q2671.82 1689.91 2669.87 1688.17 Q2667.95 1686.44 2664.85 1686.44 Q2662.65 1686.44 2660.2 1687.2 Q2657.77 1687.97 2654.99 1689.52 L2654.99 1684.79 Q2657.81 1683.66 2660.27 1683.08 Q2662.72 1682.5 2664.76 1682.5 Q2670.13 1682.5 2673.32 1685.19 Q2676.52 1687.87 2676.52 1692.36 Q2676.52 1694.49 2675.7 1696.41 Q2674.92 1698.31 2672.81 1700.91 Q2672.23 1701.58 2669.13 1704.79 Q2666.03 1707.99 2660.38 1713.75 Z\" fill=\"#000000\" fill-rule=\"nonzero\" fill-opacity=\"1\" /><path clip-path=\"url(#clip520)\" d=\"M2696.51 1686.21 Q2692.9 1686.21 2691.08 1689.77 Q2689.27 1693.31 2689.27 1700.44 Q2689.27 1707.55 2691.08 1711.11 Q2692.9 1714.66 2696.51 1714.66 Q2700.15 1714.66 2701.95 1711.11 Q2703.78 1707.55 2703.78 1700.44 Q2703.78 1693.31 2701.95 1689.77 Q2700.15 1686.21 2696.51 1686.21 M2696.51 1682.5 Q2702.33 1682.5 2705.38 1687.11 Q2708.46 1691.69 2708.46 1700.44 Q2708.46 1709.17 2705.38 1713.78 Q2702.33 1718.36 2696.51 1718.36 Q2690.7 1718.36 2687.63 1713.78 Q2684.57 1709.17 2684.57 1700.44 Q2684.57 1691.69 2687.63 1687.11 Q2690.7 1682.5 2696.51 1682.5 Z\" fill=\"#000000\" fill-rule=\"nonzero\" fill-opacity=\"1\" /><path clip-path=\"url(#clip520)\" d=\"M2726.68 1686.21 Q2723.07 1686.21 2721.24 1689.77 Q2719.43 1693.31 2719.43 1700.44 Q2719.43 1707.55 2721.24 1711.11 Q2723.07 1714.66 2726.68 1714.66 Q2730.31 1714.66 2732.12 1711.11 Q2733.95 1707.55 2733.95 1700.44 Q2733.95 1693.31 2732.12 1689.77 Q2730.31 1686.21 2726.68 1686.21 M2726.68 1682.5 Q2732.49 1682.5 2735.54 1687.11 Q2738.62 1691.69 2738.62 1700.44 Q2738.62 1709.17 2735.54 1713.78 Q2732.49 1718.36 2726.68 1718.36 Q2720.87 1718.36 2717.79 1713.78 Q2714.73 1709.17 2714.73 1700.44 Q2714.73 1691.69 2717.79 1687.11 Q2720.87 1682.5 2726.68 1682.5 Z\" fill=\"#000000\" fill-rule=\"nonzero\" fill-opacity=\"1\" /><path clip-path=\"url(#clip520)\" d=\"M2670.38 1266 Q2673.74 1266.72 2675.61 1268.99 Q2677.51 1271.26 2677.51 1274.59 Q2677.51 1279.71 2673.99 1282.51 Q2670.47 1285.31 2663.99 1285.31 Q2661.82 1285.31 2659.5 1284.87 Q2657.21 1284.45 2654.76 1283.59 L2654.76 1279.08 Q2656.7 1280.22 2659.02 1280.79 Q2661.33 1281.37 2663.85 1281.37 Q2668.25 1281.37 2670.54 1279.64 Q2672.86 1277.9 2672.86 1274.59 Q2672.86 1271.53 2670.7 1269.82 Q2668.58 1268.09 2664.76 1268.09 L2660.73 1268.09 L2660.73 1264.24 L2664.94 1264.24 Q2668.39 1264.24 2670.22 1262.88 Q2672.05 1261.49 2672.05 1258.9 Q2672.05 1256.23 2670.15 1254.82 Q2668.27 1253.39 2664.76 1253.39 Q2662.83 1253.39 2660.64 1253.8 Q2658.44 1254.22 2655.8 1255.1 L2655.8 1250.93 Q2658.46 1250.19 2660.77 1249.82 Q2663.11 1249.45 2665.17 1249.45 Q2670.5 1249.45 2673.6 1251.88 Q2676.7 1254.29 2676.7 1258.41 Q2676.7 1261.28 2675.06 1263.27 Q2673.41 1265.24 2670.38 1266 Z\" fill=\"#000000\" fill-rule=\"nonzero\" fill-opacity=\"1\" /><path clip-path=\"url(#clip520)\" d=\"M2696.38 1253.16 Q2692.76 1253.16 2690.94 1256.72 Q2689.13 1260.26 2689.13 1267.39 Q2689.13 1274.5 2690.94 1278.06 Q2692.76 1281.6 2696.38 1281.6 Q2700.01 1281.6 2701.82 1278.06 Q2703.64 1274.5 2703.64 1267.39 Q2703.64 1260.26 2701.82 1256.72 Q2700.01 1253.16 2696.38 1253.16 M2696.38 1249.45 Q2702.19 1249.45 2705.24 1254.06 Q2708.32 1258.64 2708.32 1267.39 Q2708.32 1276.12 2705.24 1280.72 Q2702.19 1285.31 2696.38 1285.31 Q2690.57 1285.31 2687.49 1280.72 Q2684.43 1276.12 2684.43 1267.39 Q2684.43 1258.64 2687.49 1254.06 Q2690.57 1249.45 2696.38 1249.45 Z\" fill=\"#000000\" fill-rule=\"nonzero\" fill-opacity=\"1\" /><path clip-path=\"url(#clip520)\" d=\"M2726.54 1253.16 Q2722.93 1253.16 2721.1 1256.72 Q2719.29 1260.26 2719.29 1267.39 Q2719.29 1274.5 2721.1 1278.06 Q2722.93 1281.6 2726.54 1281.6 Q2730.17 1281.6 2731.98 1278.06 Q2733.81 1274.5 2733.81 1267.39 Q2733.81 1260.26 2731.98 1256.72 Q2730.17 1253.16 2726.54 1253.16 M2726.54 1249.45 Q2732.35 1249.45 2735.4 1254.06 Q2738.48 1258.64 2738.48 1267.39 Q2738.48 1276.12 2735.4 1280.72 Q2732.35 1285.31 2726.54 1285.31 Q2720.73 1285.31 2717.65 1280.72 Q2714.59 1276.12 2714.59 1267.39 Q2714.59 1258.64 2717.65 1254.06 Q2720.73 1249.45 2726.54 1249.45 Z\" fill=\"#000000\" fill-rule=\"nonzero\" fill-opacity=\"1\" /><path clip-path=\"url(#clip520)\" d=\"M2670.36 821.099 L2658.55 839.548 L2670.36 839.548 L2670.36 821.099 M2669.13 817.025 L2675.01 817.025 L2675.01 839.548 L2679.94 839.548 L2679.94 843.437 L2675.01 843.437 L2675.01 851.585 L2670.36 851.585 L2670.36 843.437 L2654.76 843.437 L2654.76 838.923 L2669.13 817.025 Z\" fill=\"#000000\" fill-rule=\"nonzero\" fill-opacity=\"1\" /><path clip-path=\"url(#clip520)\" d=\"M2697.67 820.103 Q2694.06 820.103 2692.23 823.668 Q2690.43 827.21 2690.43 834.34 Q2690.43 841.446 2692.23 845.011 Q2694.06 848.552 2697.67 848.552 Q2701.31 848.552 2703.11 845.011 Q2704.94 841.446 2704.94 834.34 Q2704.94 827.21 2703.11 823.668 Q2701.31 820.103 2697.67 820.103 M2697.67 816.4 Q2703.48 816.4 2706.54 821.006 Q2709.62 825.59 2709.62 834.34 Q2709.62 843.066 2706.54 847.673 Q2703.48 852.256 2697.67 852.256 Q2691.86 852.256 2688.78 847.673 Q2685.73 843.066 2685.73 834.34 Q2685.73 825.59 2688.78 821.006 Q2691.86 816.4 2697.67 816.4 Z\" fill=\"#000000\" fill-rule=\"nonzero\" fill-opacity=\"1\" /><path clip-path=\"url(#clip520)\" d=\"M2727.83 820.103 Q2724.22 820.103 2722.39 823.668 Q2720.59 827.21 2720.59 834.34 Q2720.59 841.446 2722.39 845.011 Q2724.22 848.552 2727.83 848.552 Q2731.47 848.552 2733.27 845.011 Q2735.1 841.446 2735.1 834.34 Q2735.1 827.21 2733.27 823.668 Q2731.47 820.103 2727.83 820.103 M2727.83 816.4 Q2733.64 816.4 2736.7 821.006 Q2739.78 825.59 2739.78 834.34 Q2739.78 843.066 2736.7 847.673 Q2733.64 852.256 2727.83 852.256 Q2722.02 852.256 2718.95 847.673 Q2715.89 843.066 2715.89 834.34 Q2715.89 825.59 2718.95 821.006 Q2722.02 816.4 2727.83 816.4 Z\" fill=\"#000000\" fill-rule=\"nonzero\" fill-opacity=\"1\" /><path clip-path=\"url(#clip520)\" d=\"M2656.21 383.973 L2674.57 383.973 L2674.57 387.908 L2660.5 387.908 L2660.5 396.381 Q2661.52 396.033 2662.53 395.871 Q2663.55 395.686 2664.57 395.686 Q2670.36 395.686 2673.74 398.857 Q2677.12 402.029 2677.12 407.445 Q2677.12 413.024 2673.64 416.126 Q2670.17 419.205 2663.85 419.205 Q2661.68 419.205 2659.41 418.834 Q2657.16 418.464 2654.76 417.723 L2654.76 413.024 Q2656.84 414.158 2659.06 414.714 Q2661.28 415.269 2663.76 415.269 Q2667.77 415.269 2670.1 413.163 Q2672.44 411.056 2672.44 407.445 Q2672.44 403.834 2670.1 401.728 Q2667.77 399.621 2663.76 399.621 Q2661.89 399.621 2660.01 400.038 Q2658.16 400.455 2656.21 401.334 L2656.21 383.973 Z\" fill=\"#000000\" fill-rule=\"nonzero\" fill-opacity=\"1\" /><path clip-path=\"url(#clip520)\" d=\"M2696.33 387.052 Q2692.72 387.052 2690.89 390.617 Q2689.08 394.158 2689.08 401.288 Q2689.08 408.394 2690.89 411.959 Q2692.72 415.501 2696.33 415.501 Q2699.96 415.501 2701.77 411.959 Q2703.6 408.394 2703.6 401.288 Q2703.6 394.158 2701.77 390.617 Q2699.96 387.052 2696.33 387.052 M2696.33 383.348 Q2702.14 383.348 2705.2 387.955 Q2708.27 392.538 2708.27 401.288 Q2708.27 410.015 2705.2 414.621 Q2702.14 419.205 2696.33 419.205 Q2690.52 419.205 2687.44 414.621 Q2684.39 410.015 2684.39 401.288 Q2684.39 392.538 2687.44 387.955 Q2690.52 383.348 2696.33 383.348 Z\" fill=\"#000000\" fill-rule=\"nonzero\" fill-opacity=\"1\" /><path clip-path=\"url(#clip520)\" d=\"M2726.49 387.052 Q2722.88 387.052 2721.05 390.617 Q2719.25 394.158 2719.25 401.288 Q2719.25 408.394 2721.05 411.959 Q2722.88 415.501 2726.49 415.501 Q2730.13 415.501 2731.93 411.959 Q2733.76 408.394 2733.76 401.288 Q2733.76 394.158 2731.93 390.617 Q2730.13 387.052 2726.49 387.052 M2726.49 383.348 Q2732.3 383.348 2735.36 387.955 Q2738.44 392.538 2738.44 401.288 Q2738.44 410.015 2735.36 414.621 Q2732.3 419.205 2726.49 419.205 Q2720.68 419.205 2717.6 414.621 Q2714.55 410.015 2714.55 401.288 Q2714.55 392.538 2717.6 387.955 Q2720.68 383.348 2726.49 383.348 Z\" fill=\"#000000\" fill-rule=\"nonzero\" fill-opacity=\"1\" /><polyline clip-path=\"url(#clip520)\" style=\"stroke:#000000; stroke-linecap:round; stroke-linejoin:round; stroke-width:4; stroke-opacity:1; fill:none\" points=\"2612.76,2570.14 2612.76,2570.14 2640.76,2570.14 2612.76,2570.14 2612.76,2137.09 2640.76,2137.09 2612.76,2137.09 2612.76,1704.04 2640.76,1704.04 2612.76,1704.04 2612.76,1270.99 2640.76,1270.99 2612.76,1270.99 2612.76,837.934 2640.76,837.934 2612.76,837.934 2612.76,404.882 2640.76,404.882 2612.76,404.882 2612.76,153.712 \"/>\n",
       "<path clip-path=\"url(#clip520)\" d=\"M308.605 2432.81 L293.848 2455.87 L308.605 2455.87 L308.605 2432.81 M307.071 2427.72 L314.421 2427.72 L314.421 2455.87 L320.584 2455.87 L320.584 2460.73 L314.421 2460.73 L314.421 2470.92 L308.605 2470.92 L308.605 2460.73 L289.102 2460.73 L289.102 2455.09 L307.071 2427.72 Z\" fill=\"#000000\" fill-rule=\"nonzero\" fill-opacity=\"1\" /><path clip-path=\"url(#clip520)\" d=\"M347.956 2447.63 Q352.152 2448.52 354.496 2451.36 Q356.868 2454.19 356.868 2458.36 Q356.868 2464.76 352.47 2468.26 Q348.072 2471.76 339.97 2471.76 Q337.25 2471.76 334.357 2471.21 Q331.492 2470.69 328.425 2469.62 L328.425 2463.97 Q330.856 2465.39 333.749 2466.12 Q336.643 2466.84 339.797 2466.84 Q345.294 2466.84 348.159 2464.67 Q351.052 2462.5 351.052 2458.36 Q351.052 2454.54 348.361 2452.4 Q345.699 2450.23 340.925 2450.23 L335.89 2450.23 L335.89 2445.43 L341.157 2445.43 Q345.468 2445.43 347.754 2443.72 Q350.04 2441.98 350.04 2438.74 Q350.04 2435.42 347.667 2433.65 Q345.323 2431.86 340.925 2431.86 Q338.523 2431.86 335.775 2432.38 Q333.026 2432.9 329.727 2434 L329.727 2428.79 Q333.055 2427.86 335.948 2427.4 Q338.871 2426.94 341.446 2426.94 Q348.101 2426.94 351.978 2429.98 Q355.856 2432.98 355.856 2438.14 Q355.856 2441.72 353.801 2444.21 Q351.747 2446.67 347.956 2447.63 Z\" fill=\"#000000\" fill-rule=\"nonzero\" fill-opacity=\"1\" /><path clip-path=\"url(#clip520)\" d=\"M368.124 2470.02 L368.124 2464.7 Q370.323 2465.74 372.58 2466.29 Q374.837 2466.84 377.007 2466.84 Q382.794 2466.84 385.832 2462.96 Q388.899 2459.06 389.333 2451.13 Q387.655 2453.62 385.08 2454.95 Q382.505 2456.28 379.38 2456.28 Q372.898 2456.28 369.108 2452.37 Q365.346 2448.44 365.346 2441.64 Q365.346 2434.98 369.281 2430.96 Q373.217 2426.94 379.756 2426.94 Q387.25 2426.94 391.185 2432.7 Q395.149 2438.42 395.149 2449.36 Q395.149 2459.58 390.288 2465.68 Q385.456 2471.76 377.267 2471.76 Q375.068 2471.76 372.811 2471.32 Q370.555 2470.89 368.124 2470.02 M379.756 2451.71 Q383.691 2451.71 385.977 2449.01 Q388.292 2446.32 388.292 2441.64 Q388.292 2436.98 385.977 2434.29 Q383.691 2431.57 379.756 2431.57 Q375.821 2431.57 373.506 2434.29 Q371.22 2436.98 371.22 2441.64 Q371.22 2446.32 373.506 2449.01 Q375.821 2451.71 379.756 2451.71 Z\" fill=\"#000000\" fill-rule=\"nonzero\" fill-opacity=\"1\" /><path clip-path=\"url(#clip520)\" d=\"M342.126 2189.92 Q337.612 2189.92 335.326 2194.38 Q333.069 2198.81 333.069 2207.72 Q333.069 2216.6 335.326 2221.06 Q337.612 2225.49 342.126 2225.49 Q346.669 2225.49 348.926 2221.06 Q351.211 2216.6 351.211 2207.72 Q351.211 2198.81 348.926 2194.38 Q346.669 2189.92 342.126 2189.92 M342.126 2185.29 Q349.389 2185.29 353.208 2191.05 Q357.056 2196.78 357.056 2207.72 Q357.056 2218.63 353.208 2224.39 Q349.389 2230.11 342.126 2230.11 Q334.863 2230.11 331.015 2224.39 Q327.195 2218.63 327.195 2207.72 Q327.195 2196.78 331.015 2191.05 Q334.863 2185.29 342.126 2185.29 Z\" fill=\"#000000\" fill-rule=\"nonzero\" fill-opacity=\"1\" /><path clip-path=\"url(#clip520)\" d=\"M335.442 1982.71 L355.841 1982.71 L355.841 1987.63 L328.411 1987.63 L328.411 1982.71 Q331.738 1979.27 337.467 1973.48 Q343.225 1967.67 344.701 1965.99 Q347.508 1962.84 348.607 1960.67 Q349.736 1958.47 349.736 1956.35 Q349.736 1952.91 347.305 1950.74 Q344.904 1948.57 341.026 1948.57 Q338.278 1948.57 335.21 1949.53 Q332.172 1950.48 328.7 1952.42 L328.7 1946.52 Q332.23 1945.1 335.297 1944.38 Q338.364 1943.65 340.911 1943.65 Q347.624 1943.65 351.617 1947.01 Q355.61 1950.36 355.61 1955.98 Q355.61 1958.64 354.597 1961.04 Q353.613 1963.41 350.98 1966.66 Q350.257 1967.49 346.379 1971.52 Q342.502 1975.51 335.442 1982.71 Z\" fill=\"#000000\" fill-rule=\"nonzero\" fill-opacity=\"1\" /><path clip-path=\"url(#clip520)\" d=\"M330.103 1741.07 L339.652 1741.07 L339.652 1708.11 L329.264 1710.2 L329.264 1704.87 L339.594 1702.79 L345.439 1702.79 L345.439 1741.07 L354.988 1741.07 L354.988 1745.99 L330.103 1745.99 L330.103 1741.07 Z\" fill=\"#000000\" fill-rule=\"nonzero\" fill-opacity=\"1\" /><path clip-path=\"url(#clip520)\" d=\"M342.126 1465 Q337.612 1465 335.326 1469.45 Q333.069 1473.88 333.069 1482.79 Q333.069 1491.67 335.326 1496.13 Q337.612 1500.56 342.126 1500.56 Q346.669 1500.56 348.926 1496.13 Q351.211 1491.67 351.211 1482.79 Q351.211 1473.88 348.926 1469.45 Q346.669 1465 342.126 1465 M342.126 1460.37 Q349.389 1460.37 353.208 1466.12 Q357.056 1471.85 357.056 1482.79 Q357.056 1493.7 353.208 1499.46 Q349.389 1505.19 342.126 1505.19 Q334.863 1505.19 331.015 1499.46 Q327.195 1493.7 327.195 1482.79 Q327.195 1471.85 331.015 1466.12 Q334.863 1460.37 342.126 1460.37 Z\" fill=\"#000000\" fill-rule=\"nonzero\" fill-opacity=\"1\" /><path clip-path=\"url(#clip520)\" d=\"M330.103 1257.79 L339.652 1257.79 L339.652 1224.83 L329.264 1226.91 L329.264 1221.59 L339.594 1219.5 L345.439 1219.5 L345.439 1257.79 L354.988 1257.79 L354.988 1262.7 L330.103 1262.7 L330.103 1257.79 Z\" fill=\"#000000\" fill-rule=\"nonzero\" fill-opacity=\"1\" /><path clip-path=\"url(#clip520)\" d=\"M342.632 997.133 Q338.697 997.133 336.382 999.824 Q334.096 1002.51 334.096 1007.2 Q334.096 1011.86 336.382 1014.58 Q338.697 1017.27 342.632 1017.27 Q346.567 1017.27 348.853 1014.58 Q351.168 1011.86 351.168 1007.2 Q351.168 1002.51 348.853 999.824 Q346.567 997.133 342.632 997.133 M354.235 978.817 L354.235 984.141 Q352.036 983.099 349.779 982.549 Q347.551 982 345.352 982 Q339.565 982 336.498 985.906 Q333.46 989.812 333.026 997.711 Q334.733 995.194 337.308 993.863 Q339.883 992.503 342.979 992.503 Q349.49 992.503 353.251 996.467 Q357.042 1000.4 357.042 1007.2 Q357.042 1013.86 353.107 1017.88 Q349.172 1021.9 342.632 1021.9 Q335.138 1021.9 331.174 1016.17 Q327.21 1010.41 327.21 999.505 Q327.21 989.262 332.071 983.186 Q336.932 977.081 345.121 977.081 Q347.32 977.081 349.548 977.515 Q351.805 977.949 354.235 978.817 Z\" fill=\"#000000\" fill-rule=\"nonzero\" fill-opacity=\"1\" /><path clip-path=\"url(#clip520)\" d=\"M342.126 740.067 Q337.612 740.067 335.326 744.523 Q333.069 748.95 333.069 757.862 Q333.069 766.746 335.326 771.202 Q337.612 775.629 342.126 775.629 Q346.669 775.629 348.926 771.202 Q351.211 766.746 351.211 757.862 Q351.211 748.95 348.926 744.523 Q346.669 740.067 342.126 740.067 M342.126 735.438 Q349.389 735.438 353.208 741.196 Q357.056 746.925 357.056 757.862 Q357.056 768.771 353.208 774.529 Q349.389 780.258 342.126 780.258 Q334.863 780.258 331.015 774.529 Q327.195 768.771 327.195 757.862 Q327.195 746.925 331.015 741.196 Q334.863 735.438 342.126 735.438 Z\" fill=\"#000000\" fill-rule=\"nonzero\" fill-opacity=\"1\" /><path clip-path=\"url(#clip520)\" d=\"M311.108 532.857 L320.656 532.857 L320.656 499.9 L310.268 501.984 L310.268 496.66 L320.598 494.576 L326.443 494.576 L326.443 532.857 L335.992 532.857 L335.992 537.776 L311.108 537.776 L311.108 532.857 Z\" fill=\"#000000\" fill-rule=\"nonzero\" fill-opacity=\"1\" /><path clip-path=\"url(#clip520)\" d=\"M347.855 494.576 L370.801 494.576 L370.801 499.495 L353.208 499.495 L353.208 510.085 Q354.481 509.651 355.754 509.449 Q357.027 509.217 358.301 509.217 Q365.534 509.217 369.759 513.182 Q373.983 517.146 373.983 523.916 Q373.983 530.89 369.643 534.767 Q365.303 538.615 357.404 538.615 Q354.684 538.615 351.848 538.152 Q349.041 537.689 346.032 536.764 L346.032 530.89 Q348.636 532.308 351.414 533.002 Q354.192 533.696 357.288 533.696 Q362.294 533.696 365.216 531.063 Q368.138 528.43 368.138 523.916 Q368.138 519.403 365.216 516.769 Q362.294 514.136 357.288 514.136 Q354.944 514.136 352.6 514.657 Q350.286 515.178 347.855 516.278 L347.855 494.576 Z\" fill=\"#000000\" fill-rule=\"nonzero\" fill-opacity=\"1\" /><path clip-path=\"url(#clip520)\" d=\"M342.126 256.782 Q337.612 256.782 335.326 261.238 Q333.069 265.665 333.069 274.577 Q333.069 283.46 335.326 287.916 Q337.612 292.343 342.126 292.343 Q346.669 292.343 348.926 287.916 Q351.211 283.46 351.211 274.577 Q351.211 265.665 348.926 261.238 Q346.669 256.782 342.126 256.782 M342.126 252.152 Q349.389 252.152 353.208 257.91 Q357.056 263.639 357.056 274.577 Q357.056 285.485 353.208 291.243 Q349.389 296.973 342.126 296.973 Q334.863 296.973 331.015 291.243 Q327.195 285.485 327.195 274.577 Q327.195 263.639 331.015 257.91 Q334.863 252.152 342.126 252.152 Z\" fill=\"#000000\" fill-rule=\"nonzero\" fill-opacity=\"1\" /><path clip-path=\"url(#clip520)\" d=\"M566.403 2431.57 Q561.889 2431.57 559.603 2436.02 Q557.346 2440.45 557.346 2449.36 Q557.346 2458.24 559.603 2462.7 Q561.889 2467.13 566.403 2467.13 Q570.946 2467.13 573.202 2462.7 Q575.488 2458.24 575.488 2449.36 Q575.488 2440.45 573.202 2436.02 Q570.946 2431.57 566.403 2431.57 M566.403 2426.94 Q573.665 2426.94 577.485 2432.7 Q581.333 2438.42 581.333 2449.36 Q581.333 2460.27 577.485 2466.03 Q573.665 2471.76 566.403 2471.76 Q559.14 2471.76 555.292 2466.03 Q551.472 2460.27 551.472 2449.36 Q551.472 2438.42 555.292 2432.7 Q559.14 2426.94 566.403 2426.94 Z\" fill=\"#000000\" fill-rule=\"nonzero\" fill-opacity=\"1\" /><path clip-path=\"url(#clip520)\" d=\"M515.983 2186.08 L538.929 2186.08 L538.929 2190.99 L521.336 2190.99 L521.336 2201.58 Q522.61 2201.15 523.883 2200.95 Q525.156 2200.72 526.429 2200.72 Q533.663 2200.72 537.887 2204.68 Q542.112 2208.65 542.112 2215.42 Q542.112 2222.39 537.772 2226.27 Q533.431 2230.11 525.532 2230.11 Q522.812 2230.11 519.976 2229.65 Q517.17 2229.19 514.161 2228.26 L514.161 2222.39 Q516.765 2223.81 519.542 2224.5 Q522.32 2225.2 525.416 2225.2 Q530.422 2225.2 533.344 2222.56 Q536.267 2219.93 536.267 2215.42 Q536.267 2210.9 533.344 2208.27 Q530.422 2205.64 525.416 2205.64 Q523.073 2205.64 520.729 2206.16 Q518.414 2206.68 515.983 2207.78 L515.983 2186.08 Z\" fill=\"#000000\" fill-rule=\"nonzero\" fill-opacity=\"1\" /><path clip-path=\"url(#clip520)\" d=\"M553.686 2186.08 L576.631 2186.08 L576.631 2190.99 L559.039 2190.99 L559.039 2201.58 Q560.312 2201.15 561.585 2200.95 Q562.858 2200.72 564.131 2200.72 Q571.365 2200.72 575.59 2204.68 Q579.814 2208.65 579.814 2215.42 Q579.814 2222.39 575.474 2226.27 Q571.134 2230.11 563.234 2230.11 Q560.514 2230.11 557.679 2229.65 Q554.872 2229.19 551.863 2228.26 L551.863 2222.39 Q554.467 2223.81 557.245 2224.5 Q560.023 2225.2 563.119 2225.2 Q568.124 2225.2 571.047 2222.56 Q573.969 2219.93 573.969 2215.42 Q573.969 2210.9 571.047 2208.27 Q568.124 2205.64 563.119 2205.64 Q560.775 2205.64 558.431 2206.16 Q556.116 2206.68 553.686 2207.78 L553.686 2186.08 Z\" fill=\"#000000\" fill-rule=\"nonzero\" fill-opacity=\"1\" /><path clip-path=\"url(#clip520)\" d=\"M603.83 2208.76 Q599.664 2208.76 597.262 2210.99 Q594.889 2213.22 594.889 2217.12 Q594.889 2221.03 597.262 2223.26 Q599.664 2225.49 603.83 2225.49 Q607.997 2225.49 610.398 2223.26 Q612.8 2221 612.8 2217.12 Q612.8 2213.22 610.398 2210.99 Q608.026 2208.76 603.83 2208.76 M597.985 2206.27 Q594.224 2205.35 592.112 2202.77 Q590.028 2200.2 590.028 2196.49 Q590.028 2191.31 593.703 2188.3 Q597.407 2185.29 603.83 2185.29 Q610.283 2185.29 613.957 2188.3 Q617.632 2191.31 617.632 2196.49 Q617.632 2200.2 615.52 2202.77 Q613.437 2205.35 609.704 2206.27 Q613.929 2207.26 616.272 2210.12 Q618.645 2212.99 618.645 2217.12 Q618.645 2223.4 614.797 2226.76 Q610.977 2230.11 603.83 2230.11 Q596.683 2230.11 592.835 2226.76 Q589.015 2223.4 589.015 2217.12 Q589.015 2212.99 591.388 2210.12 Q593.761 2207.26 597.985 2206.27 M595.844 2197.04 Q595.844 2200.4 597.927 2202.28 Q600.04 2204.16 603.83 2204.16 Q607.592 2204.16 609.704 2202.28 Q611.845 2200.4 611.845 2197.04 Q611.845 2193.69 609.704 2191.8 Q607.592 2189.92 603.83 2189.92 Q600.04 2189.92 597.927 2191.8 Q595.844 2193.69 595.844 2197.04 Z\" fill=\"#000000\" fill-rule=\"nonzero\" fill-opacity=\"1\" /><path clip-path=\"url(#clip520)\" d=\"M570.164 1949.53 L555.407 1972.59 L570.164 1972.59 L570.164 1949.53 M568.631 1944.43 L575.98 1944.43 L575.98 1972.59 L582.143 1972.59 L582.143 1977.45 L575.98 1977.45 L575.98 1987.63 L570.164 1987.63 L570.164 1977.45 L550.662 1977.45 L550.662 1971.81 L568.631 1944.43 Z\" fill=\"#000000\" fill-rule=\"nonzero\" fill-opacity=\"1\" /><path clip-path=\"url(#clip520)\" d=\"M566.403 1706.64 Q561.889 1706.64 559.603 1711.09 Q557.346 1715.52 557.346 1724.43 Q557.346 1733.32 559.603 1737.77 Q561.889 1742.2 566.403 1742.2 Q570.946 1742.2 573.202 1737.77 Q575.488 1733.32 575.488 1724.43 Q575.488 1715.52 573.202 1711.09 Q570.946 1706.64 566.403 1706.64 M566.403 1702.01 Q573.665 1702.01 577.485 1707.77 Q581.333 1713.5 581.333 1724.43 Q581.333 1735.34 577.485 1741.1 Q573.665 1746.83 566.403 1746.83 Q559.14 1746.83 555.292 1741.1 Q551.472 1735.34 551.472 1724.43 Q551.472 1713.5 555.292 1707.77 Q559.14 1702.01 566.403 1702.01 Z\" fill=\"#000000\" fill-rule=\"nonzero\" fill-opacity=\"1\" /><path clip-path=\"url(#clip520)\" d=\"M566.403 1465 Q561.889 1465 559.603 1469.45 Q557.346 1473.88 557.346 1482.79 Q557.346 1491.67 559.603 1496.13 Q561.889 1500.56 566.403 1500.56 Q570.946 1500.56 573.202 1496.13 Q575.488 1491.67 575.488 1482.79 Q575.488 1473.88 573.202 1469.45 Q570.946 1465 566.403 1465 M566.403 1460.37 Q573.665 1460.37 577.485 1466.12 Q581.333 1471.85 581.333 1482.79 Q581.333 1493.7 577.485 1499.46 Q573.665 1505.19 566.403 1505.19 Q559.14 1505.19 555.292 1499.46 Q551.472 1493.7 551.472 1482.79 Q551.472 1471.85 555.292 1466.12 Q559.14 1460.37 566.403 1460.37 Z\" fill=\"#000000\" fill-rule=\"nonzero\" fill-opacity=\"1\" /><path clip-path=\"url(#clip520)\" d=\"M554.38 1257.79 L563.929 1257.79 L563.929 1224.83 L553.541 1226.91 L553.541 1221.59 L563.871 1219.5 L569.716 1219.5 L569.716 1257.79 L579.264 1257.79 L579.264 1262.7 L554.38 1262.7 L554.38 1257.79 Z\" fill=\"#000000\" fill-rule=\"nonzero\" fill-opacity=\"1\" /><path clip-path=\"url(#clip520)\" d=\"M571.712 997.769 Q575.908 998.666 578.252 1001.5 Q580.624 1004.34 580.624 1008.5 Q580.624 1014.9 576.226 1018.4 Q571.828 1021.9 563.726 1021.9 Q561.006 1021.9 558.113 1021.35 Q555.248 1020.83 552.181 1019.76 L552.181 1014.12 Q554.612 1015.54 557.505 1016.26 Q560.399 1016.98 563.553 1016.98 Q569.05 1016.98 571.915 1014.81 Q574.808 1012.64 574.808 1008.5 Q574.808 1004.68 572.117 1002.54 Q569.455 1000.37 564.681 1000.37 L559.646 1000.37 L559.646 995.57 L564.913 995.57 Q569.224 995.57 571.51 993.863 Q573.796 992.127 573.796 988.886 Q573.796 985.559 571.423 983.794 Q569.079 982 564.681 982 Q562.279 982 559.531 982.52 Q556.782 983.041 553.483 984.141 L553.483 978.932 Q556.811 978.007 559.704 977.544 Q562.627 977.081 565.202 977.081 Q571.857 977.081 575.734 980.119 Q579.612 983.128 579.612 988.278 Q579.612 991.866 577.557 994.355 Q575.503 996.814 571.712 997.769 Z\" fill=\"#000000\" fill-rule=\"nonzero\" fill-opacity=\"1\" /><path clip-path=\"url(#clip520)\" d=\"M566.403 740.067 Q561.889 740.067 559.603 744.523 Q557.346 748.95 557.346 757.862 Q557.346 766.746 559.603 771.202 Q561.889 775.629 566.403 775.629 Q570.946 775.629 573.202 771.202 Q575.488 766.746 575.488 757.862 Q575.488 748.95 573.202 744.523 Q570.946 740.067 566.403 740.067 M566.403 735.438 Q573.665 735.438 577.485 741.196 Q581.333 746.925 581.333 757.862 Q581.333 768.771 577.485 774.529 Q573.665 780.258 566.403 780.258 Q559.14 780.258 555.292 774.529 Q551.472 768.771 551.472 757.862 Q551.472 746.925 555.292 741.196 Q559.14 735.438 566.403 735.438 Z\" fill=\"#000000\" fill-rule=\"nonzero\" fill-opacity=\"1\" /><path clip-path=\"url(#clip520)\" d=\"M571.712 514.484 Q575.908 515.381 578.252 518.216 Q580.624 521.052 580.624 525.218 Q580.624 531.613 576.226 535.114 Q571.828 538.615 563.726 538.615 Q561.006 538.615 558.113 538.066 Q555.248 537.545 552.181 536.474 L552.181 530.832 Q554.612 532.25 557.505 532.973 Q560.399 533.696 563.553 533.696 Q569.05 533.696 571.915 531.526 Q574.808 529.356 574.808 525.218 Q574.808 521.399 572.117 519.258 Q569.455 517.088 564.681 517.088 L559.646 517.088 L559.646 512.285 L564.913 512.285 Q569.224 512.285 571.51 510.577 Q573.796 508.841 573.796 505.601 Q573.796 502.273 571.423 500.508 Q569.079 498.714 564.681 498.714 Q562.279 498.714 559.531 499.235 Q556.782 499.756 553.483 500.855 L553.483 495.647 Q556.811 494.721 559.704 494.258 Q562.627 493.795 565.202 493.795 Q571.857 493.795 575.734 496.833 Q579.612 499.842 579.612 504.993 Q579.612 508.581 577.557 511.069 Q575.503 513.529 571.712 514.484 Z\" fill=\"#000000\" fill-rule=\"nonzero\" fill-opacity=\"1\" /><path clip-path=\"url(#clip520)\" d=\"M559.719 291.215 L580.118 291.215 L580.118 296.134 L552.688 296.134 L552.688 291.215 Q556.015 287.771 561.744 281.984 Q567.502 276.168 568.978 274.49 Q571.785 271.336 572.884 269.166 Q574.013 266.967 574.013 264.855 Q574.013 261.411 571.582 259.241 Q569.18 257.071 565.303 257.071 Q562.554 257.071 559.487 258.026 Q556.449 258.981 552.977 260.92 L552.977 255.017 Q556.507 253.599 559.574 252.876 Q562.641 252.152 565.187 252.152 Q571.9 252.152 575.893 255.509 Q579.886 258.865 579.886 264.479 Q579.886 267.141 578.874 269.542 Q577.89 271.915 575.257 275.156 Q574.533 275.995 570.656 280.017 Q566.779 284.01 559.719 291.215 Z\" fill=\"#000000\" fill-rule=\"nonzero\" fill-opacity=\"1\" /><path clip-path=\"url(#clip520)\" d=\"M790.68 2450.4 Q786.513 2450.4 784.111 2452.63 Q781.739 2454.86 781.739 2458.77 Q781.739 2462.67 784.111 2464.9 Q786.513 2467.13 790.68 2467.13 Q794.846 2467.13 797.248 2464.9 Q799.649 2462.64 799.649 2458.77 Q799.649 2454.86 797.248 2452.63 Q794.875 2450.4 790.68 2450.4 M784.835 2447.92 Q781.073 2446.99 778.961 2444.41 Q776.878 2441.84 776.878 2438.14 Q776.878 2432.96 780.552 2429.95 Q784.256 2426.94 790.68 2426.94 Q797.132 2426.94 800.807 2429.95 Q804.482 2432.96 804.482 2438.14 Q804.482 2441.84 802.369 2444.41 Q800.286 2446.99 796.553 2447.92 Q800.778 2448.9 803.122 2451.76 Q805.494 2454.63 805.494 2458.77 Q805.494 2465.04 801.646 2468.4 Q797.827 2471.76 790.68 2471.76 Q783.533 2471.76 779.684 2468.4 Q775.865 2465.04 775.865 2458.77 Q775.865 2454.63 778.238 2451.76 Q780.61 2448.9 784.835 2447.92 M782.694 2438.68 Q782.694 2442.04 784.777 2443.92 Q786.889 2445.8 790.68 2445.8 Q794.441 2445.8 796.553 2443.92 Q798.695 2442.04 798.695 2438.68 Q798.695 2435.33 796.553 2433.45 Q794.441 2431.57 790.68 2431.57 Q786.889 2431.57 784.777 2433.45 Q782.694 2435.33 782.694 2438.68 Z\" fill=\"#000000\" fill-rule=\"nonzero\" fill-opacity=\"1\" /><path clip-path=\"url(#clip520)\" d=\"M794.441 2191.17 L779.684 2214.23 L794.441 2214.23 L794.441 2191.17 M792.908 2186.08 L800.257 2186.08 L800.257 2214.23 L806.42 2214.23 L806.42 2219.09 L800.257 2219.09 L800.257 2229.28 L794.441 2229.28 L794.441 2219.09 L774.939 2219.09 L774.939 2213.45 L792.908 2186.08 Z\" fill=\"#000000\" fill-rule=\"nonzero\" fill-opacity=\"1\" /><path clip-path=\"url(#clip520)\" d=\"M757.809 1949.53 L743.053 1972.59 L757.809 1972.59 L757.809 1949.53 M756.276 1944.43 L763.625 1944.43 L763.625 1972.59 L769.788 1972.59 L769.788 1977.45 L763.625 1977.45 L763.625 1987.63 L757.809 1987.63 L757.809 1977.45 L738.307 1977.45 L738.307 1971.81 L756.276 1944.43 Z\" fill=\"#000000\" fill-rule=\"nonzero\" fill-opacity=\"1\" /><path clip-path=\"url(#clip520)\" d=\"M791.953 1967.12 Q787.786 1967.12 785.384 1969.35 Q783.012 1971.57 783.012 1975.48 Q783.012 1979.39 785.384 1981.61 Q787.786 1983.84 791.953 1983.84 Q796.119 1983.84 798.521 1981.61 Q800.923 1979.36 800.923 1975.48 Q800.923 1971.57 798.521 1969.35 Q796.148 1967.12 791.953 1967.12 M786.108 1964.63 Q782.346 1963.7 780.234 1961.13 Q778.151 1958.55 778.151 1954.85 Q778.151 1949.67 781.825 1946.66 Q785.529 1943.65 791.953 1943.65 Q798.405 1943.65 802.08 1946.66 Q805.755 1949.67 805.755 1954.85 Q805.755 1958.55 803.642 1961.13 Q801.559 1963.7 797.827 1964.63 Q802.051 1965.61 804.395 1968.48 Q806.767 1971.34 806.767 1975.48 Q806.767 1981.76 802.919 1985.12 Q799.1 1988.47 791.953 1988.47 Q784.806 1988.47 780.957 1985.12 Q777.138 1981.76 777.138 1975.48 Q777.138 1971.34 779.511 1968.48 Q781.883 1965.61 786.108 1964.63 M783.967 1955.4 Q783.967 1958.76 786.05 1960.64 Q788.162 1962.52 791.953 1962.52 Q795.714 1962.52 797.827 1960.64 Q799.968 1958.76 799.968 1955.4 Q799.968 1952.04 797.827 1950.16 Q795.714 1948.28 791.953 1948.28 Q788.162 1948.28 786.05 1950.16 Q783.967 1952.04 783.967 1955.4 Z\" fill=\"#000000\" fill-rule=\"nonzero\" fill-opacity=\"1\" /><path clip-path=\"url(#clip520)\" d=\"M818.168 1982.71 L827.716 1982.71 L827.716 1949.76 L817.329 1951.84 L817.329 1946.52 L827.659 1944.43 L833.503 1944.43 L833.503 1982.71 L843.052 1982.71 L843.052 1987.63 L818.168 1987.63 L818.168 1982.71 Z\" fill=\"#000000\" fill-rule=\"nonzero\" fill-opacity=\"1\" /><path clip-path=\"url(#clip520)\" d=\"M760.037 1741.07 L769.586 1741.07 L769.586 1708.11 L759.198 1710.2 L759.198 1704.87 L769.528 1702.79 L775.373 1702.79 L775.373 1741.07 L784.922 1741.07 L784.922 1745.99 L760.037 1745.99 L760.037 1741.07 Z\" fill=\"#000000\" fill-rule=\"nonzero\" fill-opacity=\"1\" /><path clip-path=\"url(#clip520)\" d=\"M801.762 1741.07 L822.161 1741.07 L822.161 1745.99 L794.73 1745.99 L794.73 1741.07 Q798.058 1737.63 803.787 1731.84 Q809.545 1726.02 811.021 1724.35 Q813.828 1721.19 814.927 1719.02 Q816.056 1716.82 816.056 1714.71 Q816.056 1711.27 813.625 1709.1 Q811.223 1706.93 807.346 1706.93 Q804.597 1706.93 801.53 1707.88 Q798.492 1708.84 795.02 1710.78 L795.02 1704.87 Q798.55 1703.46 801.617 1702.73 Q804.684 1702.01 807.23 1702.01 Q813.943 1702.01 817.936 1705.37 Q821.929 1708.72 821.929 1714.34 Q821.929 1717 820.917 1719.4 Q819.933 1721.77 817.3 1725.01 Q816.576 1725.85 812.699 1729.87 Q808.822 1733.87 801.762 1741.07 Z\" fill=\"#000000\" fill-rule=\"nonzero\" fill-opacity=\"1\" /><path clip-path=\"url(#clip520)\" d=\"M778.657 1499.43 L788.206 1499.43 L788.206 1466.47 L777.818 1468.55 L777.818 1463.23 L788.148 1461.15 L793.993 1461.15 L793.993 1499.43 L803.541 1499.43 L803.541 1504.35 L778.657 1504.35 L778.657 1499.43 Z\" fill=\"#000000\" fill-rule=\"nonzero\" fill-opacity=\"1\" /><path clip-path=\"url(#clip520)\" d=\"M778.657 1257.79 L788.206 1257.79 L788.206 1224.83 L777.818 1226.91 L777.818 1221.59 L788.148 1219.5 L793.993 1219.5 L793.993 1257.79 L803.541 1257.79 L803.541 1262.7 L778.657 1262.7 L778.657 1257.79 Z\" fill=\"#000000\" fill-rule=\"nonzero\" fill-opacity=\"1\" /><path clip-path=\"url(#clip520)\" d=\"M778.657 1016.14 L788.206 1016.14 L788.206 983.186 L777.818 985.269 L777.818 979.945 L788.148 977.862 L793.993 977.862 L793.993 1016.14 L803.541 1016.14 L803.541 1021.06 L778.657 1021.06 L778.657 1016.14 Z\" fill=\"#000000\" fill-rule=\"nonzero\" fill-opacity=\"1\" /><path clip-path=\"url(#clip520)\" d=\"M765.144 774.5 L785.544 774.5 L785.544 779.419 L758.113 779.419 L758.113 774.5 Q761.441 771.057 767.17 765.27 Q772.928 759.454 774.404 757.776 Q777.21 754.622 778.31 752.452 Q779.438 750.253 779.438 748.14 Q779.438 744.697 777.008 742.527 Q774.606 740.357 770.729 740.357 Q767.98 740.357 764.913 741.312 Q761.875 742.266 758.403 744.205 L758.403 738.302 Q761.933 736.885 765 736.161 Q768.067 735.438 770.613 735.438 Q777.326 735.438 781.319 738.794 Q785.312 742.151 785.312 747.764 Q785.312 750.426 784.299 752.828 Q783.316 755.2 780.683 758.441 Q779.959 759.28 776.082 763.302 Q772.205 767.295 765.144 774.5 Z\" fill=\"#000000\" fill-rule=\"nonzero\" fill-opacity=\"1\" /><path clip-path=\"url(#clip520)\" d=\"M802.847 774.5 L823.246 774.5 L823.246 779.419 L795.816 779.419 L795.816 774.5 Q799.143 771.057 804.872 765.27 Q810.63 759.454 812.106 757.776 Q814.913 754.622 816.012 752.452 Q817.141 750.253 817.141 748.14 Q817.141 744.697 814.71 742.527 Q812.309 740.357 808.431 740.357 Q805.682 740.357 802.615 741.312 Q799.577 742.266 796.105 744.205 L796.105 738.302 Q799.635 736.885 802.702 736.161 Q805.769 735.438 808.315 735.438 Q815.028 735.438 819.021 738.794 Q823.014 742.151 823.014 747.764 Q823.014 750.426 822.002 752.828 Q821.018 755.2 818.385 758.441 Q817.661 759.28 813.784 763.302 Q809.907 767.295 802.847 774.5 Z\" fill=\"#000000\" fill-rule=\"nonzero\" fill-opacity=\"1\" /><path clip-path=\"url(#clip520)\" d=\"M776.791 494.576 L804.568 494.576 L804.568 497.065 L788.886 537.776 L782.78 537.776 L797.537 499.495 L776.791 499.495 L776.791 494.576 Z\" fill=\"#000000\" fill-rule=\"nonzero\" fill-opacity=\"1\" /><path clip-path=\"url(#clip520)\" d=\"M794.441 258.026 L779.684 281.087 L794.441 281.087 L794.441 258.026 M792.908 252.934 L800.257 252.934 L800.257 281.087 L806.42 281.087 L806.42 285.948 L800.257 285.948 L800.257 296.134 L794.441 296.134 L794.441 285.948 L774.939 285.948 L774.939 280.306 L792.908 252.934 Z\" fill=\"#000000\" fill-rule=\"nonzero\" fill-opacity=\"1\" /><path clip-path=\"url(#clip520)\" d=\"M1014.96 2431.57 Q1010.44 2431.57 1008.16 2436.02 Q1005.9 2440.45 1005.9 2449.36 Q1005.9 2458.24 1008.16 2462.7 Q1010.44 2467.13 1014.96 2467.13 Q1019.5 2467.13 1021.76 2462.7 Q1024.04 2458.24 1024.04 2449.36 Q1024.04 2440.45 1021.76 2436.02 Q1019.5 2431.57 1014.96 2431.57 M1014.96 2426.94 Q1022.22 2426.94 1026.04 2432.7 Q1029.89 2438.42 1029.89 2449.36 Q1029.89 2460.27 1026.04 2466.03 Q1022.22 2471.76 1014.96 2471.76 Q1007.69 2471.76 1003.85 2466.03 Q1000.03 2460.27 1000.03 2449.36 Q1000.03 2438.42 1003.85 2432.7 Q1007.69 2426.94 1014.96 2426.94 Z\" fill=\"#000000\" fill-rule=\"nonzero\" fill-opacity=\"1\" /><path clip-path=\"url(#clip520)\" d=\"M1002.93 2224.36 L1012.48 2224.36 L1012.48 2191.4 L1002.09 2193.48 L1002.09 2188.16 L1012.42 2186.08 L1018.27 2186.08 L1018.27 2224.36 L1027.82 2224.36 L1027.82 2229.28 L1002.93 2229.28 L1002.93 2224.36 Z\" fill=\"#000000\" fill-rule=\"nonzero\" fill-opacity=\"1\" /><path clip-path=\"url(#clip520)\" d=\"M983.012 1982.71 L992.561 1982.71 L992.561 1949.76 L982.173 1951.84 L982.173 1946.52 L992.503 1944.43 L998.348 1944.43 L998.348 1982.71 L1007.9 1982.71 L1007.9 1987.63 L983.012 1987.63 L983.012 1982.71 Z\" fill=\"#000000\" fill-rule=\"nonzero\" fill-opacity=\"1\" /><path clip-path=\"url(#clip520)\" d=\"M1035.76 1949.53 L1021 1972.59 L1035.76 1972.59 L1035.76 1949.53 M1034.23 1944.43 L1041.58 1944.43 L1041.58 1972.59 L1047.74 1972.59 L1047.74 1977.45 L1041.58 1977.45 L1041.58 1987.63 L1035.76 1987.63 L1035.76 1977.45 L1016.26 1977.45 L1016.26 1971.81 L1034.23 1944.43 Z\" fill=\"#000000\" fill-rule=\"nonzero\" fill-opacity=\"1\" /><path clip-path=\"url(#clip520)\" d=\"M981.377 1707.88 L966.62 1730.94 L981.377 1730.94 L981.377 1707.88 M979.844 1702.79 L987.193 1702.79 L987.193 1730.94 L993.356 1730.94 L993.356 1735.81 L987.193 1735.81 L987.193 1745.99 L981.377 1745.99 L981.377 1735.81 L961.875 1735.81 L961.875 1730.16 L979.844 1702.79 Z\" fill=\"#000000\" fill-rule=\"nonzero\" fill-opacity=\"1\" /><path clip-path=\"url(#clip520)\" d=\"M1020.73 1722.7 Q1024.92 1723.59 1027.27 1726.43 Q1029.64 1729.27 1029.64 1733.43 Q1029.64 1739.83 1025.24 1743.33 Q1020.84 1746.83 1012.74 1746.83 Q1010.02 1746.83 1007.13 1746.28 Q1004.26 1745.76 1001.2 1744.69 L1001.2 1739.05 Q1003.63 1740.46 1006.52 1741.19 Q1009.42 1741.91 1012.57 1741.91 Q1018.07 1741.91 1020.93 1739.74 Q1023.83 1737.57 1023.83 1733.43 Q1023.83 1729.61 1021.13 1727.47 Q1018.47 1725.3 1013.7 1725.3 L1008.66 1725.3 L1008.66 1720.5 L1013.93 1720.5 Q1018.24 1720.5 1020.53 1718.79 Q1022.81 1717.06 1022.81 1713.81 Q1022.81 1710.49 1020.44 1708.72 Q1018.1 1706.93 1013.7 1706.93 Q1011.3 1706.93 1008.55 1707.45 Q1005.8 1707.97 1002.5 1709.07 L1002.5 1703.86 Q1005.83 1702.93 1008.72 1702.47 Q1011.64 1702.01 1014.22 1702.01 Q1020.87 1702.01 1024.75 1705.05 Q1028.63 1708.06 1028.63 1713.21 Q1028.63 1716.79 1026.57 1719.28 Q1024.52 1721.74 1020.73 1722.7 Z\" fill=\"#000000\" fill-rule=\"nonzero\" fill-opacity=\"1\" /><path clip-path=\"url(#clip520)\" d=\"M1053.22 1725.48 Q1049.06 1725.48 1046.65 1727.7 Q1044.28 1729.93 1044.28 1733.84 Q1044.28 1737.74 1046.65 1739.97 Q1049.06 1742.2 1053.22 1742.2 Q1057.39 1742.2 1059.79 1739.97 Q1062.19 1737.71 1062.19 1733.84 Q1062.19 1729.93 1059.79 1727.7 Q1057.42 1725.48 1053.22 1725.48 M1047.38 1722.99 Q1043.62 1722.06 1041.5 1719.49 Q1039.42 1716.91 1039.42 1713.21 Q1039.42 1708.03 1043.1 1705.02 Q1046.8 1702.01 1053.22 1702.01 Q1059.68 1702.01 1063.35 1705.02 Q1067.03 1708.03 1067.03 1713.21 Q1067.03 1716.91 1064.91 1719.49 Q1062.83 1722.06 1059.1 1722.99 Q1063.32 1723.97 1065.67 1726.84 Q1068.04 1729.7 1068.04 1733.84 Q1068.04 1740.12 1064.19 1743.47 Q1060.37 1746.83 1053.22 1746.83 Q1046.08 1746.83 1042.23 1743.47 Q1038.41 1740.12 1038.41 1733.84 Q1038.41 1729.7 1040.78 1726.84 Q1043.15 1723.97 1047.38 1722.99 M1045.24 1713.76 Q1045.24 1717.11 1047.32 1718.99 Q1049.43 1720.87 1053.22 1720.87 Q1056.98 1720.87 1059.1 1718.99 Q1061.24 1717.11 1061.24 1713.76 Q1061.24 1710.4 1059.1 1708.52 Q1056.98 1706.64 1053.22 1706.64 Q1049.43 1706.64 1047.32 1708.52 Q1045.24 1710.4 1045.24 1713.76 Z\" fill=\"#000000\" fill-rule=\"nonzero\" fill-opacity=\"1\" /><path clip-path=\"url(#clip520)\" d=\"M1014.96 1465 Q1010.44 1465 1008.16 1469.45 Q1005.9 1473.88 1005.9 1482.79 Q1005.9 1491.67 1008.16 1496.13 Q1010.44 1500.56 1014.96 1500.56 Q1019.5 1500.56 1021.76 1496.13 Q1024.04 1491.67 1024.04 1482.79 Q1024.04 1473.88 1021.76 1469.45 Q1019.5 1465 1014.96 1465 M1014.96 1460.37 Q1022.22 1460.37 1026.04 1466.12 Q1029.89 1471.85 1029.89 1482.79 Q1029.89 1493.7 1026.04 1499.46 Q1022.22 1505.19 1014.96 1505.19 Q1007.69 1505.19 1003.85 1499.46 Q1000.03 1493.7 1000.03 1482.79 Q1000.03 1471.85 1003.85 1466.12 Q1007.69 1460.37 1014.96 1460.37 Z\" fill=\"#000000\" fill-rule=\"nonzero\" fill-opacity=\"1\" /><path clip-path=\"url(#clip520)\" d=\"M1014.96 1242.19 Q1010.79 1242.19 1008.39 1244.42 Q1006.02 1246.65 1006.02 1250.55 Q1006.02 1254.46 1008.39 1256.69 Q1010.79 1258.91 1014.96 1258.91 Q1019.12 1258.91 1021.52 1256.69 Q1023.93 1254.43 1023.93 1250.55 Q1023.93 1246.65 1021.52 1244.42 Q1019.15 1242.19 1014.96 1242.19 M1009.11 1239.7 Q1005.35 1238.78 1003.24 1236.2 Q1001.15 1233.62 1001.15 1229.92 Q1001.15 1224.74 1004.83 1221.73 Q1008.53 1218.72 1014.96 1218.72 Q1021.41 1218.72 1025.08 1221.73 Q1028.76 1224.74 1028.76 1229.92 Q1028.76 1233.62 1026.65 1236.2 Q1024.56 1238.78 1020.83 1239.7 Q1025.05 1240.69 1027.4 1243.55 Q1029.77 1246.41 1029.77 1250.55 Q1029.77 1256.83 1025.92 1260.19 Q1022.1 1263.54 1014.96 1263.54 Q1007.81 1263.54 1003.96 1260.19 Q1000.14 1256.83 1000.14 1250.55 Q1000.14 1246.41 1002.51 1243.55 Q1004.89 1240.69 1009.11 1239.7 M1006.97 1230.47 Q1006.97 1233.83 1009.05 1235.71 Q1011.17 1237.59 1014.96 1237.59 Q1018.72 1237.59 1020.83 1235.71 Q1022.97 1233.83 1022.97 1230.47 Q1022.97 1227.11 1020.83 1225.23 Q1018.72 1223.35 1014.96 1223.35 Q1011.17 1223.35 1009.05 1225.23 Q1006.97 1227.11 1006.97 1230.47 Z\" fill=\"#000000\" fill-rule=\"nonzero\" fill-opacity=\"1\" /><path clip-path=\"url(#clip520)\" d=\"M1014.96 981.71 Q1010.44 981.71 1008.16 986.166 Q1005.9 990.593 1005.9 999.505 Q1005.9 1008.39 1008.16 1012.84 Q1010.44 1017.27 1014.96 1017.27 Q1019.5 1017.27 1021.76 1012.84 Q1024.04 1008.39 1024.04 999.505 Q1024.04 990.593 1021.76 986.166 Q1019.5 981.71 1014.96 981.71 M1014.96 977.081 Q1022.22 977.081 1026.04 982.839 Q1029.89 988.568 1029.89 999.505 Q1029.89 1010.41 1026.04 1016.17 Q1022.22 1021.9 1014.96 1021.9 Q1007.69 1021.9 1003.85 1016.17 Q1000.03 1010.41 1000.03 999.505 Q1000.03 988.568 1003.85 982.839 Q1007.69 977.081 1014.96 977.081 Z\" fill=\"#000000\" fill-rule=\"nonzero\" fill-opacity=\"1\" /><path clip-path=\"url(#clip520)\" d=\"M1014.96 758.904 Q1010.79 758.904 1008.39 761.132 Q1006.02 763.36 1006.02 767.266 Q1006.02 771.173 1008.39 773.401 Q1010.79 775.629 1014.96 775.629 Q1019.12 775.629 1021.52 773.401 Q1023.93 771.144 1023.93 767.266 Q1023.93 763.36 1021.52 761.132 Q1019.15 758.904 1014.96 758.904 M1009.11 756.416 Q1005.35 755.49 1003.24 752.915 Q1001.15 750.339 1001.15 746.636 Q1001.15 741.456 1004.83 738.447 Q1008.53 735.438 1014.96 735.438 Q1021.41 735.438 1025.08 738.447 Q1028.76 741.456 1028.76 746.636 Q1028.76 750.339 1026.65 752.915 Q1024.56 755.49 1020.83 756.416 Q1025.05 757.399 1027.4 760.264 Q1029.77 763.129 1029.77 767.266 Q1029.77 773.545 1025.92 776.902 Q1022.1 780.258 1014.96 780.258 Q1007.81 780.258 1003.96 776.902 Q1000.14 773.545 1000.14 767.266 Q1000.14 763.129 1002.51 760.264 Q1004.89 757.399 1009.11 756.416 M1006.97 747.185 Q1006.97 750.542 1009.05 752.423 Q1011.17 754.303 1014.96 754.303 Q1018.72 754.303 1020.83 752.423 Q1022.97 750.542 1022.97 747.185 Q1022.97 743.829 1020.83 741.948 Q1018.72 740.067 1014.96 740.067 Q1011.17 740.067 1009.05 741.948 Q1006.97 743.829 1006.97 747.185 Z\" fill=\"#000000\" fill-rule=\"nonzero\" fill-opacity=\"1\" /><path clip-path=\"url(#clip520)\" d=\"M983.721 532.857 L993.27 532.857 L993.27 499.9 L982.882 501.984 L982.882 496.66 L993.212 494.576 L999.057 494.576 L999.057 532.857 L1008.61 532.857 L1008.61 537.776 L983.721 537.776 L983.721 532.857 Z\" fill=\"#000000\" fill-rule=\"nonzero\" fill-opacity=\"1\" /><path clip-path=\"url(#clip520)\" d=\"M1038.12 514.484 Q1042.31 515.381 1044.66 518.216 Q1047.03 521.052 1047.03 525.218 Q1047.03 531.613 1042.63 535.114 Q1038.23 538.615 1030.13 538.615 Q1027.41 538.615 1024.52 538.066 Q1021.65 537.545 1018.59 536.474 L1018.59 530.832 Q1021.02 532.25 1023.91 532.973 Q1026.81 533.696 1029.96 533.696 Q1035.46 533.696 1038.32 531.526 Q1041.21 529.356 1041.21 525.218 Q1041.21 521.399 1038.52 519.258 Q1035.86 517.088 1031.09 517.088 L1026.05 517.088 L1026.05 512.285 L1031.32 512.285 Q1035.63 512.285 1037.92 510.577 Q1040.2 508.841 1040.2 505.601 Q1040.2 502.273 1037.83 500.508 Q1035.49 498.714 1031.09 498.714 Q1028.69 498.714 1025.94 499.235 Q1023.19 499.756 1019.89 500.855 L1019.89 495.647 Q1023.22 494.721 1026.11 494.258 Q1029.03 493.795 1031.61 493.795 Q1038.26 493.795 1042.14 496.833 Q1046.02 499.842 1046.02 504.993 Q1046.02 508.581 1043.96 511.069 Q1041.91 513.529 1038.12 514.484 Z\" fill=\"#000000\" fill-rule=\"nonzero\" fill-opacity=\"1\" /><path clip-path=\"url(#clip520)\" d=\"M1008.27 291.215 L1028.67 291.215 L1028.67 296.134 L1001.24 296.134 L1001.24 291.215 Q1004.57 287.771 1010.3 281.984 Q1016.06 276.168 1017.53 274.49 Q1020.34 271.336 1021.44 269.166 Q1022.57 266.967 1022.57 264.855 Q1022.57 261.411 1020.14 259.241 Q1017.73 257.071 1013.86 257.071 Q1011.11 257.071 1008.04 258.026 Q1005 258.981 1001.53 260.92 L1001.53 255.017 Q1005.06 253.599 1008.13 252.876 Q1011.19 252.152 1013.74 252.152 Q1020.45 252.152 1024.45 255.509 Q1028.44 258.865 1028.44 264.479 Q1028.44 267.141 1027.43 269.542 Q1026.44 271.915 1023.81 275.156 Q1023.09 275.995 1019.21 280.017 Q1015.33 284.01 1008.27 291.215 Z\" fill=\"#000000\" fill-rule=\"nonzero\" fill-opacity=\"1\" /><path clip-path=\"url(#clip520)\" d=\"M1239.23 2431.57 Q1234.72 2431.57 1232.43 2436.02 Q1230.18 2440.45 1230.18 2449.36 Q1230.18 2458.24 1232.43 2462.7 Q1234.72 2467.13 1239.23 2467.13 Q1243.78 2467.13 1246.03 2462.7 Q1248.32 2458.24 1248.32 2449.36 Q1248.32 2440.45 1246.03 2436.02 Q1243.78 2431.57 1239.23 2431.57 M1239.23 2426.94 Q1246.5 2426.94 1250.32 2432.7 Q1254.16 2438.42 1254.16 2449.36 Q1254.16 2460.27 1250.32 2466.03 Q1246.5 2471.76 1239.23 2471.76 Q1231.97 2471.76 1228.12 2466.03 Q1224.3 2460.27 1224.3 2449.36 Q1224.3 2438.42 1228.12 2432.7 Q1231.97 2426.94 1239.23 2426.94 Z\" fill=\"#000000\" fill-rule=\"nonzero\" fill-opacity=\"1\" /><path clip-path=\"url(#clip520)\" d=\"M1232.55 2224.36 L1252.95 2224.36 L1252.95 2229.28 L1225.52 2229.28 L1225.52 2224.36 Q1228.85 2220.91 1234.57 2215.13 Q1240.33 2209.31 1241.81 2207.63 Q1244.62 2204.48 1245.71 2202.31 Q1246.84 2200.11 1246.84 2198 Q1246.84 2194.55 1244.41 2192.38 Q1242.01 2190.21 1238.13 2190.21 Q1235.38 2190.21 1232.32 2191.17 Q1229.28 2192.12 1225.81 2194.06 L1225.81 2188.16 Q1229.34 2186.74 1232.4 2186.02 Q1235.47 2185.29 1238.02 2185.29 Q1244.73 2185.29 1248.72 2188.65 Q1252.72 2192.01 1252.72 2197.62 Q1252.72 2200.28 1251.7 2202.68 Q1250.72 2205.06 1248.09 2208.3 Q1247.36 2209.14 1243.49 2213.16 Q1239.61 2217.15 1232.55 2224.36 Z\" fill=\"#000000\" fill-rule=\"nonzero\" fill-opacity=\"1\" /><path clip-path=\"url(#clip520)\" d=\"M1244.54 1964.34 Q1248.74 1965.24 1251.08 1968.07 Q1253.45 1970.91 1253.45 1975.08 Q1253.45 1981.47 1249.06 1984.97 Q1244.66 1988.47 1236.56 1988.47 Q1233.84 1988.47 1230.94 1987.92 Q1228.08 1987.4 1225.01 1986.33 L1225.01 1980.69 Q1227.44 1982.11 1230.34 1982.83 Q1233.23 1983.55 1236.38 1983.55 Q1241.88 1983.55 1244.75 1981.38 Q1247.64 1979.21 1247.64 1975.08 Q1247.64 1971.26 1244.95 1969.11 Q1242.29 1966.94 1237.51 1966.94 L1232.48 1966.94 L1232.48 1962.14 L1237.74 1962.14 Q1242.05 1962.14 1244.34 1960.43 Q1246.63 1958.7 1246.63 1955.46 Q1246.63 1952.13 1244.25 1950.36 Q1241.91 1948.57 1237.51 1948.57 Q1235.11 1948.57 1232.36 1949.09 Q1229.61 1949.61 1226.31 1950.71 L1226.31 1945.5 Q1229.64 1944.58 1232.53 1944.11 Q1235.46 1943.65 1238.03 1943.65 Q1244.69 1943.65 1248.56 1946.69 Q1252.44 1949.7 1252.44 1954.85 Q1252.44 1958.44 1250.39 1960.93 Q1248.33 1963.39 1244.54 1964.34 Z\" fill=\"#000000\" fill-rule=\"nonzero\" fill-opacity=\"1\" /><path clip-path=\"url(#clip520)\" d=\"M1227.21 1741.07 L1236.76 1741.07 L1236.76 1708.11 L1226.37 1710.2 L1226.37 1704.87 L1236.7 1702.79 L1242.55 1702.79 L1242.55 1741.07 L1252.09 1741.07 L1252.09 1745.99 L1227.21 1745.99 L1227.21 1741.07 Z\" fill=\"#000000\" fill-rule=\"nonzero\" fill-opacity=\"1\" /><path clip-path=\"url(#clip520)\" d=\"M1206.59 1466.24 L1191.84 1489.3 L1206.59 1489.3 L1206.59 1466.24 M1205.06 1461.15 L1212.41 1461.15 L1212.41 1489.3 L1218.57 1489.3 L1218.57 1494.16 L1212.41 1494.16 L1212.41 1504.35 L1206.59 1504.35 L1206.59 1494.16 L1187.09 1494.16 L1187.09 1488.52 L1205.06 1461.15 Z\" fill=\"#000000\" fill-rule=\"nonzero\" fill-opacity=\"1\" /><path clip-path=\"url(#clip520)\" d=\"M1228.3 1461.15 L1251.24 1461.15 L1251.24 1466.07 L1233.65 1466.07 L1233.65 1476.66 Q1234.92 1476.22 1236.2 1476.02 Q1237.47 1475.79 1238.74 1475.79 Q1245.98 1475.79 1250.2 1479.75 Q1254.42 1483.72 1254.42 1490.49 Q1254.42 1497.46 1250.08 1501.34 Q1245.74 1505.19 1237.84 1505.19 Q1235.12 1505.19 1232.29 1504.72 Q1229.48 1504.26 1226.47 1503.33 L1226.47 1497.46 Q1229.08 1498.88 1231.85 1499.57 Q1234.63 1500.27 1237.73 1500.27 Q1242.73 1500.27 1245.66 1497.63 Q1248.58 1495 1248.58 1490.49 Q1248.58 1485.97 1245.66 1483.34 Q1242.73 1480.71 1237.73 1480.71 Q1235.38 1480.71 1233.04 1481.23 Q1230.73 1481.75 1228.3 1482.85 L1228.3 1461.15 Z\" fill=\"#000000\" fill-rule=\"nonzero\" fill-opacity=\"1\" /><path clip-path=\"url(#clip520)\" d=\"M1270.97 1499.43 L1291.37 1499.43 L1291.37 1504.35 L1263.94 1504.35 L1263.94 1499.43 Q1267.27 1495.99 1273 1490.2 Q1278.76 1484.38 1280.23 1482.7 Q1283.04 1479.55 1284.14 1477.38 Q1285.27 1475.18 1285.27 1473.07 Q1285.27 1469.63 1282.84 1467.46 Q1280.44 1465.29 1276.56 1465.29 Q1273.81 1465.29 1270.74 1466.24 Q1267.71 1467.19 1264.23 1469.13 L1264.23 1463.23 Q1267.76 1461.81 1270.83 1461.09 Q1273.9 1460.37 1276.44 1460.37 Q1283.16 1460.37 1287.15 1463.72 Q1291.14 1467.08 1291.14 1472.69 Q1291.14 1475.35 1290.13 1477.76 Q1289.15 1480.13 1286.51 1483.37 Q1285.79 1484.21 1281.91 1488.23 Q1278.04 1492.22 1270.97 1499.43 Z\" fill=\"#000000\" fill-rule=\"nonzero\" fill-opacity=\"1\" /><path clip-path=\"url(#clip520)\" d=\"M1239.23 1223.35 Q1234.72 1223.35 1232.43 1227.81 Q1230.18 1232.24 1230.18 1241.15 Q1230.18 1250.03 1232.43 1254.49 Q1234.72 1258.91 1239.23 1258.91 Q1243.78 1258.91 1246.03 1254.49 Q1248.32 1250.03 1248.32 1241.15 Q1248.32 1232.24 1246.03 1227.81 Q1243.78 1223.35 1239.23 1223.35 M1239.23 1218.72 Q1246.5 1218.72 1250.32 1224.48 Q1254.16 1230.21 1254.16 1241.15 Q1254.16 1252.06 1250.32 1257.81 Q1246.5 1263.54 1239.23 1263.54 Q1231.97 1263.54 1228.12 1257.81 Q1224.3 1252.06 1224.3 1241.15 Q1224.3 1230.21 1228.12 1224.48 Q1231.97 1218.72 1239.23 1218.72 Z\" fill=\"#000000\" fill-rule=\"nonzero\" fill-opacity=\"1\" /><path clip-path=\"url(#clip520)\" d=\"M1242.99 982.954 L1228.24 1006.02 L1242.99 1006.02 L1242.99 982.954 M1241.46 977.862 L1248.81 977.862 L1248.81 1006.02 L1254.97 1006.02 L1254.97 1010.88 L1248.81 1010.88 L1248.81 1021.06 L1242.99 1021.06 L1242.99 1010.88 L1223.49 1010.88 L1223.49 1005.23 L1241.46 977.862 Z\" fill=\"#000000\" fill-rule=\"nonzero\" fill-opacity=\"1\" /><path clip-path=\"url(#clip520)\" d=\"M1227.08 736.219 L1250.03 736.219 L1250.03 741.138 L1232.43 741.138 L1232.43 751.728 Q1233.71 751.294 1234.98 751.092 Q1236.25 750.86 1237.53 750.86 Q1244.76 750.86 1248.98 754.824 Q1253.21 758.788 1253.21 765.559 Q1253.21 772.533 1248.87 776.41 Q1244.53 780.258 1236.63 780.258 Q1233.91 780.258 1231.07 779.795 Q1228.27 779.332 1225.26 778.406 L1225.26 772.533 Q1227.86 773.95 1230.64 774.645 Q1233.42 775.339 1236.51 775.339 Q1241.52 775.339 1244.44 772.706 Q1247.36 770.073 1247.36 765.559 Q1247.36 761.045 1244.44 758.412 Q1241.52 755.779 1236.51 755.779 Q1234.17 755.779 1231.83 756.3 Q1229.51 756.821 1227.08 757.92 L1227.08 736.219 Z\" fill=\"#000000\" fill-rule=\"nonzero\" fill-opacity=\"1\" /><path clip-path=\"url(#clip520)\" d=\"M1225.34 494.576 L1253.12 494.576 L1253.12 497.065 L1237.44 537.776 L1231.33 537.776 L1246.09 499.495 L1225.34 499.495 L1225.34 494.576 Z\" fill=\"#000000\" fill-rule=\"nonzero\" fill-opacity=\"1\" /><path clip-path=\"url(#clip520)\" d=\"M1244.54 272.841 Q1248.74 273.738 1251.08 276.573 Q1253.45 279.409 1253.45 283.576 Q1253.45 289.97 1249.06 293.471 Q1244.66 296.973 1236.56 296.973 Q1233.84 296.973 1230.94 296.423 Q1228.08 295.902 1225.01 294.831 L1225.01 289.189 Q1227.44 290.607 1230.34 291.33 Q1233.23 292.054 1236.38 292.054 Q1241.88 292.054 1244.75 289.884 Q1247.64 287.713 1247.64 283.576 Q1247.64 279.756 1244.95 277.615 Q1242.29 275.445 1237.51 275.445 L1232.48 275.445 L1232.48 270.642 L1237.74 270.642 Q1242.05 270.642 1244.34 268.935 Q1246.63 267.198 1246.63 263.958 Q1246.63 260.63 1244.25 258.865 Q1241.91 257.071 1237.51 257.071 Q1235.11 257.071 1232.36 257.592 Q1229.61 258.113 1226.31 259.212 L1226.31 254.004 Q1229.64 253.078 1232.53 252.615 Q1235.46 252.152 1238.03 252.152 Q1244.69 252.152 1248.56 255.19 Q1252.44 258.2 1252.44 263.35 Q1252.44 266.938 1250.39 269.426 Q1248.33 271.886 1244.54 272.841 Z\" fill=\"#000000\" fill-rule=\"nonzero\" fill-opacity=\"1\" /><path clip-path=\"url(#clip520)\" d=\"M1463.51 2431.57 Q1459 2431.57 1456.71 2436.02 Q1454.45 2440.45 1454.45 2449.36 Q1454.45 2458.24 1456.71 2462.7 Q1459 2467.13 1463.51 2467.13 Q1468.05 2467.13 1470.31 2462.7 Q1472.6 2458.24 1472.6 2449.36 Q1472.6 2440.45 1470.31 2436.02 Q1468.05 2431.57 1463.51 2431.57 M1463.51 2426.94 Q1470.77 2426.94 1474.59 2432.7 Q1478.44 2438.42 1478.44 2449.36 Q1478.44 2460.27 1474.59 2466.03 Q1470.77 2471.76 1463.51 2471.76 Q1456.25 2471.76 1452.4 2466.03 Q1448.58 2460.27 1448.58 2449.36 Q1448.58 2438.42 1452.4 2432.7 Q1456.25 2426.94 1463.51 2426.94 Z\" fill=\"#000000\" fill-rule=\"nonzero\" fill-opacity=\"1\" /><path clip-path=\"url(#clip520)\" d=\"M1451.49 2224.36 L1461.04 2224.36 L1461.04 2191.4 L1450.65 2193.48 L1450.65 2188.16 L1460.98 2186.08 L1466.82 2186.08 L1466.82 2224.36 L1476.37 2224.36 L1476.37 2229.28 L1451.49 2229.28 L1451.49 2224.36 Z\" fill=\"#000000\" fill-rule=\"nonzero\" fill-opacity=\"1\" /><path clip-path=\"url(#clip520)\" d=\"M1463.51 1948.28 Q1459 1948.28 1456.71 1952.74 Q1454.45 1957.16 1454.45 1966.08 Q1454.45 1974.96 1456.71 1979.42 Q1459 1983.84 1463.51 1983.84 Q1468.05 1983.84 1470.31 1979.42 Q1472.6 1974.96 1472.6 1966.08 Q1472.6 1957.16 1470.31 1952.74 Q1468.05 1948.28 1463.51 1948.28 M1463.51 1943.65 Q1470.77 1943.65 1474.59 1949.41 Q1478.44 1955.14 1478.44 1966.08 Q1478.44 1976.98 1474.59 1982.74 Q1470.77 1988.47 1463.51 1988.47 Q1456.25 1988.47 1452.4 1982.74 Q1448.58 1976.98 1448.58 1966.08 Q1448.58 1955.14 1452.4 1949.41 Q1456.25 1943.65 1463.51 1943.65 Z\" fill=\"#000000\" fill-rule=\"nonzero\" fill-opacity=\"1\" /><path clip-path=\"url(#clip520)\" d=\"M1437.74 1741.07 L1458.14 1741.07 L1458.14 1745.99 L1430.71 1745.99 L1430.71 1741.07 Q1434.04 1737.63 1439.77 1731.84 Q1445.53 1726.02 1447 1724.35 Q1449.81 1721.19 1450.91 1719.02 Q1452.04 1716.82 1452.04 1714.71 Q1452.04 1711.27 1449.61 1709.1 Q1447.21 1706.93 1443.33 1706.93 Q1440.58 1706.93 1437.51 1707.88 Q1434.47 1708.84 1431 1710.78 L1431 1704.87 Q1434.53 1703.46 1437.6 1702.73 Q1440.67 1702.01 1443.21 1702.01 Q1449.93 1702.01 1453.92 1705.37 Q1457.91 1708.72 1457.91 1714.34 Q1457.91 1717 1456.9 1719.4 Q1455.91 1721.77 1453.28 1725.01 Q1452.56 1725.85 1448.68 1729.87 Q1444.8 1733.87 1437.74 1741.07 Z\" fill=\"#000000\" fill-rule=\"nonzero\" fill-opacity=\"1\" /><path clip-path=\"url(#clip520)\" d=\"M1471.42 1741.07 L1480.97 1741.07 L1480.97 1708.11 L1470.58 1710.2 L1470.58 1704.87 L1480.91 1702.79 L1486.76 1702.79 L1486.76 1741.07 L1496.31 1741.07 L1496.31 1745.99 L1471.42 1745.99 L1471.42 1741.07 Z\" fill=\"#000000\" fill-rule=\"nonzero\" fill-opacity=\"1\" /><path clip-path=\"url(#clip520)\" d=\"M1463.51 1465 Q1459 1465 1456.71 1469.45 Q1454.45 1473.88 1454.45 1482.79 Q1454.45 1491.67 1456.71 1496.13 Q1459 1500.56 1463.51 1500.56 Q1468.05 1500.56 1470.31 1496.13 Q1472.6 1491.67 1472.6 1482.79 Q1472.6 1473.88 1470.31 1469.45 Q1468.05 1465 1463.51 1465 M1463.51 1460.37 Q1470.77 1460.37 1474.59 1466.12 Q1478.44 1471.85 1478.44 1482.79 Q1478.44 1493.7 1474.59 1499.46 Q1470.77 1505.19 1463.51 1505.19 Q1456.25 1505.19 1452.4 1499.46 Q1448.58 1493.7 1448.58 1482.79 Q1448.58 1471.85 1452.4 1466.12 Q1456.25 1460.37 1463.51 1460.37 Z\" fill=\"#000000\" fill-rule=\"nonzero\" fill-opacity=\"1\" /><path clip-path=\"url(#clip520)\" d=\"M1430.64 1224.6 L1415.88 1247.66 L1430.64 1247.66 L1430.64 1224.6 M1429.11 1219.5 L1436.46 1219.5 L1436.46 1247.66 L1442.62 1247.66 L1442.62 1252.52 L1436.46 1252.52 L1436.46 1262.7 L1430.64 1262.7 L1430.64 1252.52 L1411.14 1252.52 L1411.14 1246.88 L1429.11 1219.5 Z\" fill=\"#000000\" fill-rule=\"nonzero\" fill-opacity=\"1\" /><path clip-path=\"url(#clip520)\" d=\"M1464.78 1223.35 Q1460.27 1223.35 1457.98 1227.81 Q1455.73 1232.24 1455.73 1241.15 Q1455.73 1250.03 1457.98 1254.49 Q1460.27 1258.91 1464.78 1258.91 Q1469.33 1258.91 1471.58 1254.49 Q1473.87 1250.03 1473.87 1241.15 Q1473.87 1232.24 1471.58 1227.81 Q1469.33 1223.35 1464.78 1223.35 M1464.78 1218.72 Q1472.05 1218.72 1475.87 1224.48 Q1479.71 1230.21 1479.71 1241.15 Q1479.71 1252.06 1475.87 1257.81 Q1472.05 1263.54 1464.78 1263.54 Q1457.52 1263.54 1453.67 1257.81 Q1449.85 1252.06 1449.85 1241.15 Q1449.85 1230.21 1453.67 1224.48 Q1457.52 1218.72 1464.78 1218.72 Z\" fill=\"#000000\" fill-rule=\"nonzero\" fill-opacity=\"1\" /><path clip-path=\"url(#clip520)\" d=\"M1491 1257.79 L1500.55 1257.79 L1500.55 1224.83 L1490.16 1226.91 L1490.16 1221.59 L1500.49 1219.5 L1506.33 1219.5 L1506.33 1257.79 L1515.88 1257.79 L1515.88 1262.7 L1491 1262.7 L1491 1257.79 Z\" fill=\"#000000\" fill-rule=\"nonzero\" fill-opacity=\"1\" /><path clip-path=\"url(#clip520)\" d=\"M1431.77 1016.14 L1441.32 1016.14 L1441.32 983.186 L1430.93 985.269 L1430.93 979.945 L1441.26 977.862 L1447.1 977.862 L1447.1 1016.14 L1456.65 1016.14 L1456.65 1021.06 L1431.77 1021.06 L1431.77 1016.14 Z\" fill=\"#000000\" fill-rule=\"nonzero\" fill-opacity=\"1\" /><path clip-path=\"url(#clip520)\" d=\"M1481.68 997.133 Q1477.75 997.133 1475.43 999.824 Q1473.15 1002.51 1473.15 1007.2 Q1473.15 1011.86 1475.43 1014.58 Q1477.75 1017.27 1481.68 1017.27 Q1485.62 1017.27 1487.9 1014.58 Q1490.22 1011.86 1490.22 1007.2 Q1490.22 1002.51 1487.9 999.824 Q1485.62 997.133 1481.68 997.133 M1493.28 978.817 L1493.28 984.141 Q1491.09 983.099 1488.83 982.549 Q1486.6 982 1484.4 982 Q1478.61 982 1475.55 985.906 Q1472.51 989.812 1472.07 997.711 Q1473.78 995.194 1476.36 993.863 Q1478.93 992.503 1482.03 992.503 Q1488.54 992.503 1492.3 996.467 Q1496.09 1000.4 1496.09 1007.2 Q1496.09 1013.86 1492.16 1017.88 Q1488.22 1021.9 1481.68 1021.9 Q1474.19 1021.9 1470.22 1016.17 Q1466.26 1010.41 1466.26 999.505 Q1466.26 989.262 1471.12 983.186 Q1475.98 977.081 1484.17 977.081 Q1486.37 977.081 1488.6 977.515 Q1490.85 977.949 1493.28 978.817 Z\" fill=\"#000000\" fill-rule=\"nonzero\" fill-opacity=\"1\" /><path clip-path=\"url(#clip520)\" d=\"M1463.51 740.067 Q1459 740.067 1456.71 744.523 Q1454.45 748.95 1454.45 757.862 Q1454.45 766.746 1456.71 771.202 Q1459 775.629 1463.51 775.629 Q1468.05 775.629 1470.31 771.202 Q1472.6 766.746 1472.6 757.862 Q1472.6 748.95 1470.31 744.523 Q1468.05 740.067 1463.51 740.067 M1463.51 735.438 Q1470.77 735.438 1474.59 741.196 Q1478.44 746.925 1478.44 757.862 Q1478.44 768.771 1474.59 774.529 Q1470.77 780.258 1463.51 780.258 Q1456.25 780.258 1452.4 774.529 Q1448.58 768.771 1448.58 757.862 Q1448.58 746.925 1452.4 741.196 Q1456.25 735.438 1463.51 735.438 Z\" fill=\"#000000\" fill-rule=\"nonzero\" fill-opacity=\"1\" /><path clip-path=\"url(#clip520)\" d=\"M1464.02 513.847 Q1460.08 513.847 1457.77 516.538 Q1455.48 519.229 1455.48 523.916 Q1455.48 528.575 1457.77 531.295 Q1460.08 533.986 1464.02 533.986 Q1467.95 533.986 1470.24 531.295 Q1472.55 528.575 1472.55 523.916 Q1472.55 519.229 1470.24 516.538 Q1467.95 513.847 1464.02 513.847 M1475.62 495.531 L1475.62 500.855 Q1473.42 499.814 1471.16 499.264 Q1468.94 498.714 1466.74 498.714 Q1460.95 498.714 1457.88 502.62 Q1454.84 506.526 1454.41 514.426 Q1456.12 511.908 1458.69 510.577 Q1461.27 509.217 1464.36 509.217 Q1470.87 509.217 1474.64 513.182 Q1478.43 517.117 1478.43 523.916 Q1478.43 530.571 1474.49 534.593 Q1470.56 538.615 1464.02 538.615 Q1456.52 538.615 1452.56 532.886 Q1448.59 527.128 1448.59 516.22 Q1448.59 505.977 1453.46 499.9 Q1458.32 493.795 1466.5 493.795 Q1468.7 493.795 1470.93 494.229 Q1473.19 494.663 1475.62 495.531 Z\" fill=\"#000000\" fill-rule=\"nonzero\" fill-opacity=\"1\" /><path clip-path=\"url(#clip520)\" d=\"M1451.49 291.215 L1461.04 291.215 L1461.04 258.258 L1450.65 260.341 L1450.65 255.017 L1460.98 252.934 L1466.82 252.934 L1466.82 291.215 L1476.37 291.215 L1476.37 296.134 L1451.49 296.134 L1451.49 291.215 Z\" fill=\"#000000\" fill-rule=\"nonzero\" fill-opacity=\"1\" /><path clip-path=\"url(#clip520)\" d=\"M1688.29 2446.99 Q1684.36 2446.99 1682.04 2449.68 Q1679.76 2452.37 1679.76 2457.06 Q1679.76 2461.72 1682.04 2464.44 Q1684.36 2467.13 1688.29 2467.13 Q1692.23 2467.13 1694.51 2464.44 Q1696.83 2461.72 1696.83 2457.06 Q1696.83 2452.37 1694.51 2449.68 Q1692.23 2446.99 1688.29 2446.99 M1699.9 2428.67 L1699.9 2434 Q1697.7 2432.96 1695.44 2432.41 Q1693.21 2431.86 1691.01 2431.86 Q1685.23 2431.86 1682.16 2435.76 Q1679.12 2439.67 1678.69 2447.57 Q1680.39 2445.05 1682.97 2443.72 Q1685.54 2442.36 1688.64 2442.36 Q1695.15 2442.36 1698.91 2446.32 Q1702.7 2450.26 1702.7 2457.06 Q1702.7 2463.71 1698.77 2467.74 Q1694.83 2471.76 1688.29 2471.76 Q1680.8 2471.76 1676.84 2466.03 Q1672.87 2460.27 1672.87 2449.36 Q1672.87 2439.12 1677.73 2433.04 Q1682.59 2426.94 1690.78 2426.94 Q1692.98 2426.94 1695.21 2427.37 Q1697.47 2427.81 1699.9 2428.67 Z\" fill=\"#000000\" fill-rule=\"nonzero\" fill-opacity=\"1\" /><path clip-path=\"url(#clip520)\" d=\"M1687.79 2189.92 Q1683.27 2189.92 1680.99 2194.38 Q1678.73 2198.81 1678.73 2207.72 Q1678.73 2216.6 1680.99 2221.06 Q1683.27 2225.49 1687.79 2225.49 Q1692.33 2225.49 1694.59 2221.06 Q1696.87 2216.6 1696.87 2207.72 Q1696.87 2198.81 1694.59 2194.38 Q1692.33 2189.92 1687.79 2189.92 M1687.79 2185.29 Q1695.05 2185.29 1698.87 2191.05 Q1702.72 2196.78 1702.72 2207.72 Q1702.72 2218.63 1698.87 2224.39 Q1695.05 2230.11 1687.79 2230.11 Q1680.52 2230.11 1676.68 2224.39 Q1672.86 2218.63 1672.86 2207.72 Q1672.86 2196.78 1676.68 2191.05 Q1680.52 2185.29 1687.79 2185.29 Z\" fill=\"#000000\" fill-rule=\"nonzero\" fill-opacity=\"1\" /><path clip-path=\"url(#clip520)\" d=\"M1675.76 1982.71 L1685.31 1982.71 L1685.31 1949.76 L1674.93 1951.84 L1674.93 1946.52 L1685.26 1944.43 L1691.1 1944.43 L1691.1 1982.71 L1700.65 1982.71 L1700.65 1987.63 L1675.76 1987.63 L1675.76 1982.71 Z\" fill=\"#000000\" fill-rule=\"nonzero\" fill-opacity=\"1\" /><path clip-path=\"url(#clip520)\" d=\"M1687.79 1706.64 Q1683.27 1706.64 1680.99 1711.09 Q1678.73 1715.52 1678.73 1724.43 Q1678.73 1733.32 1680.99 1737.77 Q1683.27 1742.2 1687.79 1742.2 Q1692.33 1742.2 1694.59 1737.77 Q1696.87 1733.32 1696.87 1724.43 Q1696.87 1715.52 1694.59 1711.09 Q1692.33 1706.64 1687.79 1706.64 M1687.79 1702.01 Q1695.05 1702.01 1698.87 1707.77 Q1702.72 1713.5 1702.72 1724.43 Q1702.72 1735.34 1698.87 1741.1 Q1695.05 1746.83 1687.79 1746.83 Q1680.52 1746.83 1676.68 1741.1 Q1672.86 1735.34 1672.86 1724.43 Q1672.86 1713.5 1676.68 1707.77 Q1680.52 1702.01 1687.79 1702.01 Z\" fill=\"#000000\" fill-rule=\"nonzero\" fill-opacity=\"1\" /><path clip-path=\"url(#clip520)\" d=\"M1657.14 1499.43 L1666.69 1499.43 L1666.69 1466.47 L1656.31 1468.55 L1656.31 1463.23 L1666.64 1461.15 L1672.48 1461.15 L1672.48 1499.43 L1682.03 1499.43 L1682.03 1504.35 L1657.14 1504.35 L1657.14 1499.43 Z\" fill=\"#000000\" fill-rule=\"nonzero\" fill-opacity=\"1\" /><path clip-path=\"url(#clip520)\" d=\"M1698.87 1499.43 L1719.27 1499.43 L1719.27 1504.35 L1691.84 1504.35 L1691.84 1499.43 Q1695.17 1495.99 1700.89 1490.2 Q1706.65 1484.38 1708.13 1482.7 Q1710.93 1479.55 1712.03 1477.38 Q1713.16 1475.18 1713.16 1473.07 Q1713.16 1469.63 1710.73 1467.46 Q1708.33 1465.29 1704.45 1465.29 Q1701.7 1465.29 1698.64 1466.24 Q1695.6 1467.19 1692.13 1469.13 L1692.13 1463.23 Q1695.66 1461.81 1698.72 1461.09 Q1701.79 1460.37 1704.34 1460.37 Q1711.05 1460.37 1715.04 1463.72 Q1719.04 1467.08 1719.04 1472.69 Q1719.04 1475.35 1718.02 1477.76 Q1717.04 1480.13 1714.41 1483.37 Q1713.68 1484.21 1709.81 1488.23 Q1705.93 1492.22 1698.87 1499.43 Z\" fill=\"#000000\" fill-rule=\"nonzero\" fill-opacity=\"1\" /><path clip-path=\"url(#clip520)\" d=\"M1656.91 1257.79 L1666.46 1257.79 L1666.46 1224.83 L1656.07 1226.91 L1656.07 1221.59 L1666.4 1219.5 L1672.25 1219.5 L1672.25 1257.79 L1681.8 1257.79 L1681.8 1262.7 L1656.91 1262.7 L1656.91 1257.79 Z\" fill=\"#000000\" fill-rule=\"nonzero\" fill-opacity=\"1\" /><path clip-path=\"url(#clip520)\" d=\"M1694.62 1257.79 L1704.16 1257.79 L1704.16 1224.83 L1693.78 1226.91 L1693.78 1221.59 L1704.11 1219.5 L1709.95 1219.5 L1709.95 1257.79 L1719.5 1257.79 L1719.5 1262.7 L1694.62 1262.7 L1694.62 1257.79 Z\" fill=\"#000000\" fill-rule=\"nonzero\" fill-opacity=\"1\" /><path clip-path=\"url(#clip520)\" d=\"M1654.15 982.954 L1639.39 1006.02 L1654.15 1006.02 L1654.15 982.954 M1652.62 977.862 L1659.97 977.862 L1659.97 1006.02 L1666.13 1006.02 L1666.13 1010.88 L1659.97 1010.88 L1659.97 1021.06 L1654.15 1021.06 L1654.15 1010.88 L1634.65 1010.88 L1634.65 1005.23 L1652.62 977.862 Z\" fill=\"#000000\" fill-rule=\"nonzero\" fill-opacity=\"1\" /><path clip-path=\"url(#clip520)\" d=\"M1693.5 997.769 Q1697.7 998.666 1700.04 1001.5 Q1702.41 1004.34 1702.41 1008.5 Q1702.41 1014.9 1698.02 1018.4 Q1693.62 1021.9 1685.52 1021.9 Q1682.8 1021.9 1679.9 1021.35 Q1677.04 1020.83 1673.97 1019.76 L1673.97 1014.12 Q1676.4 1015.54 1679.29 1016.26 Q1682.19 1016.98 1685.34 1016.98 Q1690.84 1016.98 1693.7 1014.81 Q1696.6 1012.64 1696.6 1008.5 Q1696.6 1004.68 1693.91 1002.54 Q1691.24 1000.37 1686.47 1000.37 L1681.44 1000.37 L1681.44 995.57 L1686.7 995.57 Q1691.01 995.57 1693.3 993.863 Q1695.58 992.127 1695.58 988.886 Q1695.58 985.559 1693.21 983.794 Q1690.87 982 1686.47 982 Q1684.07 982 1681.32 982.52 Q1678.57 983.041 1675.27 984.141 L1675.27 978.932 Q1678.6 978.007 1681.49 977.544 Q1684.42 977.081 1686.99 977.081 Q1693.65 977.081 1697.52 980.119 Q1701.4 983.128 1701.4 988.278 Q1701.4 991.866 1699.35 994.355 Q1697.29 996.814 1693.5 997.769 Z\" fill=\"#000000\" fill-rule=\"nonzero\" fill-opacity=\"1\" /><path clip-path=\"url(#clip520)\" d=\"M1726 981.71 Q1721.48 981.71 1719.2 986.166 Q1716.94 990.593 1716.94 999.505 Q1716.94 1008.39 1719.2 1012.84 Q1721.48 1017.27 1726 1017.27 Q1730.54 1017.27 1732.8 1012.84 Q1735.08 1008.39 1735.08 999.505 Q1735.08 990.593 1732.8 986.166 Q1730.54 981.71 1726 981.71 M1726 977.081 Q1733.26 977.081 1737.08 982.839 Q1740.93 988.568 1740.93 999.505 Q1740.93 1010.41 1737.08 1016.17 Q1733.26 1021.9 1726 1021.9 Q1718.73 1021.9 1714.88 1016.17 Q1711.07 1010.41 1711.07 999.505 Q1711.07 988.568 1714.88 982.839 Q1718.73 977.081 1726 977.081 Z\" fill=\"#000000\" fill-rule=\"nonzero\" fill-opacity=\"1\" /><path clip-path=\"url(#clip520)\" d=\"M1687.79 740.067 Q1683.27 740.067 1680.99 744.523 Q1678.73 748.95 1678.73 757.862 Q1678.73 766.746 1680.99 771.202 Q1683.27 775.629 1687.79 775.629 Q1692.33 775.629 1694.59 771.202 Q1696.87 766.746 1696.87 757.862 Q1696.87 748.95 1694.59 744.523 Q1692.33 740.067 1687.79 740.067 M1687.79 735.438 Q1695.05 735.438 1698.87 741.196 Q1702.72 746.925 1702.72 757.862 Q1702.72 768.771 1698.87 774.529 Q1695.05 780.258 1687.79 780.258 Q1680.52 780.258 1676.68 774.529 Q1672.86 768.771 1672.86 757.862 Q1672.86 746.925 1676.68 741.196 Q1680.52 735.438 1687.79 735.438 Z\" fill=\"#000000\" fill-rule=\"nonzero\" fill-opacity=\"1\" /><path clip-path=\"url(#clip520)\" d=\"M1691.55 499.669 L1676.79 522.73 L1691.55 522.73 L1691.55 499.669 M1690.01 494.576 L1697.36 494.576 L1697.36 522.73 L1703.53 522.73 L1703.53 527.591 L1697.36 527.591 L1697.36 537.776 L1691.55 537.776 L1691.55 527.591 L1672.05 527.591 L1672.05 521.949 L1690.01 494.576 Z\" fill=\"#000000\" fill-rule=\"nonzero\" fill-opacity=\"1\" /><path clip-path=\"url(#clip520)\" d=\"M1675.76 291.215 L1685.31 291.215 L1685.31 258.258 L1674.93 260.341 L1674.93 255.017 L1685.26 252.934 L1691.1 252.934 L1691.1 291.215 L1700.65 291.215 L1700.65 296.134 L1675.76 296.134 L1675.76 291.215 Z\" fill=\"#000000\" fill-rule=\"nonzero\" fill-opacity=\"1\" /><path clip-path=\"url(#clip520)\" d=\"M1912.06 2431.57 Q1907.55 2431.57 1905.26 2436.02 Q1903.01 2440.45 1903.01 2449.36 Q1903.01 2458.24 1905.26 2462.7 Q1907.55 2467.13 1912.06 2467.13 Q1916.61 2467.13 1918.86 2462.7 Q1921.15 2458.24 1921.15 2449.36 Q1921.15 2440.45 1918.86 2436.02 Q1916.61 2431.57 1912.06 2431.57 M1912.06 2426.94 Q1919.33 2426.94 1923.15 2432.7 Q1926.99 2438.42 1926.99 2449.36 Q1926.99 2460.27 1923.15 2466.03 Q1919.33 2471.76 1912.06 2471.76 Q1904.8 2471.76 1900.95 2466.03 Q1897.13 2460.27 1897.13 2449.36 Q1897.13 2438.42 1900.95 2432.7 Q1904.8 2426.94 1912.06 2426.94 Z\" fill=\"#000000\" fill-rule=\"nonzero\" fill-opacity=\"1\" /><path clip-path=\"url(#clip520)\" d=\"M1917.37 2205.98 Q1921.57 2206.88 1923.91 2209.72 Q1926.29 2212.55 1926.29 2216.72 Q1926.29 2223.11 1921.89 2226.61 Q1917.49 2230.11 1909.39 2230.11 Q1906.67 2230.11 1903.77 2229.57 Q1900.91 2229.04 1897.84 2227.97 L1897.84 2222.33 Q1900.27 2223.75 1903.17 2224.47 Q1906.06 2225.2 1909.21 2225.2 Q1914.71 2225.2 1917.58 2223.03 Q1920.47 2220.86 1920.47 2216.72 Q1920.47 2212.9 1917.78 2210.76 Q1915.12 2208.59 1910.34 2208.59 L1905.31 2208.59 L1905.31 2203.78 L1910.57 2203.78 Q1914.88 2203.78 1917.17 2202.08 Q1919.46 2200.34 1919.46 2197.1 Q1919.46 2193.77 1917.08 2192.01 Q1914.74 2190.21 1910.34 2190.21 Q1907.94 2190.21 1905.19 2190.73 Q1902.44 2191.26 1899.14 2192.35 L1899.14 2187.15 Q1902.47 2186.22 1905.37 2185.76 Q1908.29 2185.29 1910.86 2185.29 Q1917.52 2185.29 1921.4 2188.33 Q1925.27 2191.34 1925.27 2196.49 Q1925.27 2200.08 1923.22 2202.57 Q1921.16 2205.03 1917.37 2205.98 Z\" fill=\"#000000\" fill-rule=\"nonzero\" fill-opacity=\"1\" /><path clip-path=\"url(#clip520)\" d=\"M1881.19 1982.71 L1890.74 1982.71 L1890.74 1949.76 L1880.35 1951.84 L1880.35 1946.52 L1890.68 1944.43 L1896.53 1944.43 L1896.53 1982.71 L1906.07 1982.71 L1906.07 1987.63 L1881.19 1987.63 L1881.19 1982.71 Z\" fill=\"#000000\" fill-rule=\"nonzero\" fill-opacity=\"1\" /><path clip-path=\"url(#clip520)\" d=\"M1918.89 1982.71 L1928.44 1982.71 L1928.44 1949.76 L1918.05 1951.84 L1918.05 1946.52 L1928.38 1944.43 L1934.23 1944.43 L1934.23 1982.71 L1943.78 1982.71 L1943.78 1987.63 L1918.89 1987.63 L1918.89 1982.71 Z\" fill=\"#000000\" fill-rule=\"nonzero\" fill-opacity=\"1\" /><path clip-path=\"url(#clip520)\" d=\"M1912.57 1722.06 Q1908.63 1722.06 1906.32 1724.75 Q1904.03 1727.44 1904.03 1732.13 Q1904.03 1736.79 1906.32 1739.51 Q1908.63 1742.2 1912.57 1742.2 Q1916.51 1742.2 1918.79 1739.51 Q1921.11 1736.79 1921.11 1732.13 Q1921.11 1727.44 1918.79 1724.75 Q1916.51 1722.06 1912.57 1722.06 M1924.17 1703.74 L1924.17 1709.07 Q1921.97 1708.03 1919.72 1707.48 Q1917.49 1706.93 1915.29 1706.93 Q1909.5 1706.93 1906.44 1710.83 Q1903.4 1714.74 1902.96 1722.64 Q1904.67 1720.12 1907.25 1718.79 Q1909.82 1717.43 1912.92 1717.43 Q1919.43 1717.43 1923.19 1721.4 Q1926.98 1725.33 1926.98 1732.13 Q1926.98 1738.79 1923.04 1742.81 Q1919.11 1746.83 1912.57 1746.83 Q1905.08 1746.83 1901.11 1741.1 Q1897.15 1735.34 1897.15 1724.43 Q1897.15 1714.19 1902.01 1708.11 Q1906.87 1702.01 1915.06 1702.01 Q1917.26 1702.01 1919.49 1702.44 Q1921.74 1702.88 1924.17 1703.74 Z\" fill=\"#000000\" fill-rule=\"nonzero\" fill-opacity=\"1\" /><path clip-path=\"url(#clip520)\" d=\"M1915.83 1466.24 L1901.07 1489.3 L1915.83 1489.3 L1915.83 1466.24 M1914.29 1461.15 L1921.64 1461.15 L1921.64 1489.3 L1927.8 1489.3 L1927.8 1494.16 L1921.64 1494.16 L1921.64 1504.35 L1915.83 1504.35 L1915.83 1494.16 L1896.32 1494.16 L1896.32 1488.52 L1914.29 1461.15 Z\" fill=\"#000000\" fill-rule=\"nonzero\" fill-opacity=\"1\" /><path clip-path=\"url(#clip520)\" d=\"M1912.06 1223.35 Q1907.55 1223.35 1905.26 1227.81 Q1903.01 1232.24 1903.01 1241.15 Q1903.01 1250.03 1905.26 1254.49 Q1907.55 1258.91 1912.06 1258.91 Q1916.61 1258.91 1918.86 1254.49 Q1921.15 1250.03 1921.15 1241.15 Q1921.15 1232.24 1918.86 1227.81 Q1916.61 1223.35 1912.06 1223.35 M1912.06 1218.72 Q1919.33 1218.72 1923.15 1224.48 Q1926.99 1230.21 1926.99 1241.15 Q1926.99 1252.06 1923.15 1257.81 Q1919.33 1263.54 1912.06 1263.54 Q1904.8 1263.54 1900.95 1257.81 Q1897.13 1252.06 1897.13 1241.15 Q1897.13 1230.21 1900.95 1224.48 Q1904.8 1218.72 1912.06 1218.72 Z\" fill=\"#000000\" fill-rule=\"nonzero\" fill-opacity=\"1\" /><path clip-path=\"url(#clip520)\" d=\"M1912.06 981.71 Q1907.55 981.71 1905.26 986.166 Q1903.01 990.593 1903.01 999.505 Q1903.01 1008.39 1905.26 1012.84 Q1907.55 1017.27 1912.06 1017.27 Q1916.61 1017.27 1918.86 1012.84 Q1921.15 1008.39 1921.15 999.505 Q1921.15 990.593 1918.86 986.166 Q1916.61 981.71 1912.06 981.71 M1912.06 977.081 Q1919.33 977.081 1923.15 982.839 Q1926.99 988.568 1926.99 999.505 Q1926.99 1010.41 1923.15 1016.17 Q1919.33 1021.9 1912.06 1021.9 Q1904.8 1021.9 1900.95 1016.17 Q1897.13 1010.41 1897.13 999.505 Q1897.13 988.568 1900.95 982.839 Q1904.8 977.081 1912.06 977.081 Z\" fill=\"#000000\" fill-rule=\"nonzero\" fill-opacity=\"1\" /><path clip-path=\"url(#clip520)\" d=\"M1878.48 741.312 L1863.73 764.373 L1878.48 764.373 L1878.48 741.312 M1876.95 736.219 L1884.3 736.219 L1884.3 764.373 L1890.46 764.373 L1890.46 769.234 L1884.3 769.234 L1884.3 779.419 L1878.48 779.419 L1878.48 769.234 L1858.98 769.234 L1858.98 763.592 L1876.95 736.219 Z\" fill=\"#000000\" fill-rule=\"nonzero\" fill-opacity=\"1\" /><path clip-path=\"url(#clip520)\" d=\"M1916.19 741.312 L1901.43 764.373 L1916.19 764.373 L1916.19 741.312 M1914.65 736.219 L1922 736.219 L1922 764.373 L1928.17 764.373 L1928.17 769.234 L1922 769.234 L1922 779.419 L1916.19 779.419 L1916.19 769.234 L1896.68 769.234 L1896.68 763.592 L1914.65 736.219 Z\" fill=\"#000000\" fill-rule=\"nonzero\" fill-opacity=\"1\" /><path clip-path=\"url(#clip520)\" d=\"M1950.33 758.904 Q1946.16 758.904 1943.76 761.132 Q1941.39 763.36 1941.39 767.266 Q1941.39 771.173 1943.76 773.401 Q1946.16 775.629 1950.33 775.629 Q1954.5 775.629 1956.9 773.401 Q1959.3 771.144 1959.3 767.266 Q1959.3 763.36 1956.9 761.132 Q1954.53 758.904 1950.33 758.904 M1944.49 756.416 Q1940.72 755.49 1938.61 752.915 Q1936.53 750.339 1936.53 746.636 Q1936.53 741.456 1940.2 738.447 Q1943.91 735.438 1950.33 735.438 Q1956.78 735.438 1960.46 738.447 Q1964.13 741.456 1964.13 746.636 Q1964.13 750.339 1962.02 752.915 Q1959.94 755.49 1956.2 756.416 Q1960.43 757.399 1962.77 760.264 Q1965.15 763.129 1965.15 767.266 Q1965.15 773.545 1961.3 776.902 Q1957.48 780.258 1950.33 780.258 Q1943.18 780.258 1939.34 776.902 Q1935.52 773.545 1935.52 767.266 Q1935.52 763.129 1937.89 760.264 Q1940.26 757.399 1944.49 756.416 M1942.34 747.185 Q1942.34 750.542 1944.43 752.423 Q1946.54 754.303 1950.33 754.303 Q1954.09 754.303 1956.2 752.423 Q1958.35 750.542 1958.35 747.185 Q1958.35 743.829 1956.2 741.948 Q1954.09 740.067 1950.33 740.067 Q1946.54 740.067 1944.43 741.948 Q1942.34 743.829 1942.34 747.185 Z\" fill=\"#000000\" fill-rule=\"nonzero\" fill-opacity=\"1\" /><path clip-path=\"url(#clip520)\" d=\"M1912.57 513.847 Q1908.63 513.847 1906.32 516.538 Q1904.03 519.229 1904.03 523.916 Q1904.03 528.575 1906.32 531.295 Q1908.63 533.986 1912.57 533.986 Q1916.51 533.986 1918.79 531.295 Q1921.11 528.575 1921.11 523.916 Q1921.11 519.229 1918.79 516.538 Q1916.51 513.847 1912.57 513.847 M1924.17 495.531 L1924.17 500.855 Q1921.97 499.814 1919.72 499.264 Q1917.49 498.714 1915.29 498.714 Q1909.5 498.714 1906.44 502.62 Q1903.4 506.526 1902.96 514.426 Q1904.67 511.908 1907.25 510.577 Q1909.82 509.217 1912.92 509.217 Q1919.43 509.217 1923.19 513.182 Q1926.98 517.117 1926.98 523.916 Q1926.98 530.571 1923.04 534.593 Q1919.11 538.615 1912.57 538.615 Q1905.08 538.615 1901.11 532.886 Q1897.15 527.128 1897.15 516.22 Q1897.15 505.977 1902.01 499.9 Q1906.87 493.795 1915.06 493.795 Q1917.26 493.795 1919.49 494.229 Q1921.74 494.663 1924.17 495.531 Z\" fill=\"#000000\" fill-rule=\"nonzero\" fill-opacity=\"1\" /><path clip-path=\"url(#clip520)\" d=\"M1912.57 272.204 Q1908.63 272.204 1906.32 274.895 Q1904.03 277.586 1904.03 282.274 Q1904.03 286.932 1906.32 289.652 Q1908.63 292.343 1912.57 292.343 Q1916.51 292.343 1918.79 289.652 Q1921.11 286.932 1921.11 282.274 Q1921.11 277.586 1918.79 274.895 Q1916.51 272.204 1912.57 272.204 M1924.17 253.888 L1924.17 259.212 Q1921.97 258.171 1919.72 257.621 Q1917.49 257.071 1915.29 257.071 Q1909.5 257.071 1906.44 260.977 Q1903.4 264.884 1902.96 272.783 Q1904.67 270.266 1907.25 268.935 Q1909.82 267.575 1912.92 267.575 Q1919.43 267.575 1923.19 271.539 Q1926.98 275.474 1926.98 282.274 Q1926.98 288.929 1923.04 292.951 Q1919.11 296.973 1912.57 296.973 Q1905.08 296.973 1901.11 291.243 Q1897.15 285.485 1897.15 274.577 Q1897.15 264.334 1902.01 258.258 Q1906.87 252.152 1915.06 252.152 Q1917.26 252.152 1919.49 252.586 Q1921.74 253.02 1924.17 253.888 Z\" fill=\"#000000\" fill-rule=\"nonzero\" fill-opacity=\"1\" /><path clip-path=\"url(#clip520)\" d=\"M2124.32 2466 L2133.87 2466 L2133.87 2433.04 L2123.48 2435.13 L2123.48 2429.8 L2133.81 2427.72 L2139.65 2427.72 L2139.65 2466 L2149.2 2466 L2149.2 2470.92 L2124.32 2470.92 L2124.32 2466 Z\" fill=\"#000000\" fill-rule=\"nonzero\" fill-opacity=\"1\" /><path clip-path=\"url(#clip520)\" d=\"M2129.66 2224.36 L2150.06 2224.36 L2150.06 2229.28 L2122.63 2229.28 L2122.63 2224.36 Q2125.95 2220.91 2131.68 2215.13 Q2137.44 2209.31 2138.92 2207.63 Q2141.72 2204.48 2142.82 2202.31 Q2143.95 2200.11 2143.95 2198 Q2143.95 2194.55 2141.52 2192.38 Q2139.12 2190.21 2135.24 2190.21 Q2132.49 2190.21 2129.43 2191.17 Q2126.39 2192.12 2122.91 2194.06 L2122.91 2188.16 Q2126.44 2186.74 2129.51 2186.02 Q2132.58 2185.29 2135.13 2185.29 Q2141.84 2185.29 2145.83 2188.65 Q2149.82 2192.01 2149.82 2197.62 Q2149.82 2200.28 2148.81 2202.68 Q2147.83 2205.06 2145.19 2208.3 Q2144.47 2209.14 2140.59 2213.16 Q2136.72 2217.15 2129.66 2224.36 Z\" fill=\"#000000\" fill-rule=\"nonzero\" fill-opacity=\"1\" /><path clip-path=\"url(#clip520)\" d=\"M2105.47 1982.71 L2115.02 1982.71 L2115.02 1949.76 L2104.63 1951.84 L2104.63 1946.52 L2114.96 1944.43 L2120.8 1944.43 L2120.8 1982.71 L2130.35 1982.71 L2130.35 1987.63 L2105.47 1987.63 L2105.47 1982.71 Z\" fill=\"#000000\" fill-rule=\"nonzero\" fill-opacity=\"1\" /><path clip-path=\"url(#clip520)\" d=\"M2143.17 1982.71 L2152.72 1982.71 L2152.72 1949.76 L2142.33 1951.84 L2142.33 1946.52 L2152.66 1944.43 L2158.5 1944.43 L2158.5 1982.71 L2168.05 1982.71 L2168.05 1987.63 L2143.17 1987.63 L2143.17 1982.71 Z\" fill=\"#000000\" fill-rule=\"nonzero\" fill-opacity=\"1\" /><path clip-path=\"url(#clip520)\" d=\"M2122.45 1702.79 L2150.23 1702.79 L2150.23 1705.28 L2134.55 1745.99 L2128.44 1745.99 L2143.2 1707.71 L2122.45 1707.71 L2122.45 1702.79 Z\" fill=\"#000000\" fill-rule=\"nonzero\" fill-opacity=\"1\" /><path clip-path=\"url(#clip520)\" d=\"M2136.34 1465 Q2131.83 1465 2129.54 1469.45 Q2127.28 1473.88 2127.28 1482.79 Q2127.28 1491.67 2129.54 1496.13 Q2131.83 1500.56 2136.34 1500.56 Q2140.88 1500.56 2143.14 1496.13 Q2145.43 1491.67 2145.43 1482.79 Q2145.43 1473.88 2143.14 1469.45 Q2140.88 1465 2136.34 1465 M2136.34 1460.37 Q2143.6 1460.37 2147.42 1466.12 Q2151.27 1471.85 2151.27 1482.79 Q2151.27 1493.7 2147.42 1499.46 Q2143.6 1505.19 2136.34 1505.19 Q2129.08 1505.19 2125.23 1499.46 Q2121.41 1493.7 2121.41 1482.79 Q2121.41 1471.85 2125.23 1466.12 Q2129.08 1460.37 2136.34 1460.37 Z\" fill=\"#000000\" fill-rule=\"nonzero\" fill-opacity=\"1\" /><path clip-path=\"url(#clip520)\" d=\"M2109.71 1257.79 L2130.11 1257.79 L2130.11 1262.7 L2102.67 1262.7 L2102.67 1257.79 Q2106 1254.34 2111.73 1248.56 Q2117.49 1242.74 2118.97 1241.06 Q2121.77 1237.91 2122.87 1235.74 Q2124 1233.54 2124 1231.43 Q2124 1227.98 2121.57 1225.81 Q2119.17 1223.64 2115.29 1223.64 Q2112.54 1223.64 2109.47 1224.6 Q2106.44 1225.55 2102.96 1227.49 L2102.96 1221.59 Q2106.49 1220.17 2109.56 1219.45 Q2112.63 1218.72 2115.17 1218.72 Q2121.89 1218.72 2125.88 1222.08 Q2129.87 1225.44 2129.87 1231.05 Q2129.87 1233.71 2128.86 1236.11 Q2127.88 1238.49 2125.24 1241.73 Q2124.52 1242.57 2120.64 1246.59 Q2116.77 1250.58 2109.71 1257.79 Z\" fill=\"#000000\" fill-rule=\"nonzero\" fill-opacity=\"1\" /><path clip-path=\"url(#clip520)\" d=\"M2155.6 1238.78 Q2151.66 1238.78 2149.35 1241.47 Q2147.06 1244.16 2147.06 1248.84 Q2147.06 1253.5 2149.35 1256.22 Q2151.66 1258.91 2155.6 1258.91 Q2159.53 1258.91 2161.82 1256.22 Q2164.13 1253.5 2164.13 1248.84 Q2164.13 1244.16 2161.82 1241.47 Q2159.53 1238.78 2155.6 1238.78 M2167.2 1220.46 L2167.2 1225.78 Q2165 1224.74 2162.74 1224.19 Q2160.52 1223.64 2158.32 1223.64 Q2152.53 1223.64 2149.46 1227.55 Q2146.42 1231.45 2145.99 1239.35 Q2147.7 1236.84 2150.27 1235.51 Q2152.85 1234.15 2155.94 1234.15 Q2162.45 1234.15 2166.22 1238.11 Q2170.01 1242.04 2170.01 1248.84 Q2170.01 1255.5 2166.07 1259.52 Q2162.14 1263.54 2155.6 1263.54 Q2148.1 1263.54 2144.14 1257.81 Q2140.17 1252.06 2140.17 1241.15 Q2140.17 1230.91 2145.04 1224.83 Q2149.9 1218.72 2158.09 1218.72 Q2160.28 1218.72 2162.51 1219.16 Q2164.77 1219.59 2167.2 1220.46 Z\" fill=\"#000000\" fill-rule=\"nonzero\" fill-opacity=\"1\" /><path clip-path=\"url(#clip520)\" d=\"M2129.66 1016.14 L2150.06 1016.14 L2150.06 1021.06 L2122.63 1021.06 L2122.63 1016.14 Q2125.95 1012.7 2131.68 1006.91 Q2137.44 1001.1 2138.92 999.418 Q2141.72 996.265 2142.82 994.094 Q2143.95 991.895 2143.95 989.783 Q2143.95 986.34 2141.52 984.17 Q2139.12 982 2135.24 982 Q2132.49 982 2129.43 982.954 Q2126.39 983.909 2122.91 985.848 L2122.91 979.945 Q2126.44 978.527 2129.51 977.804 Q2132.58 977.081 2135.13 977.081 Q2141.84 977.081 2145.83 980.437 Q2149.82 983.794 2149.82 989.407 Q2149.82 992.069 2148.81 994.471 Q2147.83 996.843 2145.19 1000.08 Q2144.47 1000.92 2140.59 1004.95 Q2136.72 1008.94 2129.66 1016.14 Z\" fill=\"#000000\" fill-rule=\"nonzero\" fill-opacity=\"1\" /><path clip-path=\"url(#clip520)\" d=\"M2140.1 741.312 L2125.35 764.373 L2140.1 764.373 L2140.1 741.312 M2138.57 736.219 L2145.92 736.219 L2145.92 764.373 L2152.08 764.373 L2152.08 769.234 L2145.92 769.234 L2145.92 779.419 L2140.1 779.419 L2140.1 769.234 L2120.6 769.234 L2120.6 763.592 L2138.57 736.219 Z\" fill=\"#000000\" fill-rule=\"nonzero\" fill-opacity=\"1\" /><path clip-path=\"url(#clip520)\" d=\"M2103.66 514.484 Q2107.85 515.381 2110.2 518.216 Q2112.57 521.052 2112.57 525.218 Q2112.57 531.613 2108.17 535.114 Q2103.77 538.615 2095.67 538.615 Q2092.95 538.615 2090.06 538.066 Q2087.19 537.545 2084.13 536.474 L2084.13 530.832 Q2086.56 532.25 2089.45 532.973 Q2092.34 533.696 2095.5 533.696 Q2101 533.696 2103.86 531.526 Q2106.75 529.356 2106.75 525.218 Q2106.75 521.399 2104.06 519.258 Q2101.4 517.088 2096.63 517.088 L2091.59 517.088 L2091.59 512.285 L2096.86 512.285 Q2101.17 512.285 2103.46 510.577 Q2105.74 508.841 2105.74 505.601 Q2105.74 502.273 2103.37 500.508 Q2101.03 498.714 2096.63 498.714 Q2094.23 498.714 2091.48 499.235 Q2088.73 499.756 2085.43 500.855 L2085.43 495.647 Q2088.76 494.721 2091.65 494.258 Q2094.57 493.795 2097.15 493.795 Q2103.8 493.795 2107.68 496.833 Q2111.56 499.842 2111.56 504.993 Q2111.56 508.581 2109.5 511.069 Q2107.45 513.529 2103.66 514.484 Z\" fill=\"#000000\" fill-rule=\"nonzero\" fill-opacity=\"1\" /><path clip-path=\"url(#clip520)\" d=\"M2136.15 517.261 Q2131.99 517.261 2129.58 519.489 Q2127.21 521.717 2127.21 525.624 Q2127.21 529.53 2129.58 531.758 Q2131.99 533.986 2136.15 533.986 Q2140.32 533.986 2142.72 531.758 Q2145.12 529.501 2145.12 525.624 Q2145.12 521.717 2142.72 519.489 Q2140.35 517.261 2136.15 517.261 M2130.31 514.773 Q2126.55 513.847 2124.43 511.272 Q2122.35 508.697 2122.35 504.993 Q2122.35 499.814 2126.03 496.804 Q2129.73 493.795 2136.15 493.795 Q2142.61 493.795 2146.28 496.804 Q2149.95 499.814 2149.95 504.993 Q2149.95 508.697 2147.84 511.272 Q2145.76 513.847 2142.03 514.773 Q2146.25 515.757 2148.59 518.621 Q2150.97 521.486 2150.97 525.624 Q2150.97 531.902 2147.12 535.259 Q2143.3 538.615 2136.15 538.615 Q2129.01 538.615 2125.16 535.259 Q2121.34 531.902 2121.34 525.624 Q2121.34 521.486 2123.71 518.621 Q2126.08 515.757 2130.31 514.773 M2128.17 505.543 Q2128.17 508.899 2130.25 510.78 Q2132.36 512.661 2136.15 512.661 Q2139.91 512.661 2142.03 510.78 Q2144.17 508.899 2144.17 505.543 Q2144.17 502.186 2142.03 500.305 Q2139.91 498.425 2136.15 498.425 Q2132.36 498.425 2130.25 500.305 Q2128.17 502.186 2128.17 505.543 Z\" fill=\"#000000\" fill-rule=\"nonzero\" fill-opacity=\"1\" /><path clip-path=\"url(#clip520)\" d=\"M2161.53 536.879 L2161.53 531.555 Q2163.73 532.597 2165.98 533.147 Q2168.24 533.696 2170.41 533.696 Q2176.2 533.696 2179.24 529.819 Q2182.3 525.913 2182.74 517.985 Q2181.06 520.473 2178.48 521.804 Q2175.91 523.135 2172.78 523.135 Q2166.3 523.135 2162.51 519.229 Q2158.75 515.294 2158.75 508.494 Q2158.75 501.839 2162.69 497.817 Q2166.62 493.795 2173.16 493.795 Q2180.65 493.795 2184.59 499.553 Q2188.55 505.282 2188.55 516.22 Q2188.55 526.434 2183.69 532.539 Q2178.86 538.615 2170.67 538.615 Q2168.47 538.615 2166.22 538.181 Q2163.96 537.747 2161.53 536.879 M2173.16 518.563 Q2177.1 518.563 2179.38 515.872 Q2181.7 513.182 2181.7 508.494 Q2181.7 503.835 2179.38 501.145 Q2177.1 498.425 2173.16 498.425 Q2169.23 498.425 2166.91 501.145 Q2164.62 503.835 2164.62 508.494 Q2164.62 513.182 2166.91 515.872 Q2169.23 518.563 2173.16 518.563 Z\" fill=\"#000000\" fill-rule=\"nonzero\" fill-opacity=\"1\" /><path clip-path=\"url(#clip520)\" d=\"M2141.65 272.841 Q2145.85 273.738 2148.19 276.573 Q2150.56 279.409 2150.56 283.576 Q2150.56 289.97 2146.16 293.471 Q2141.77 296.973 2133.66 296.973 Q2130.94 296.973 2128.05 296.423 Q2125.19 295.902 2122.12 294.831 L2122.12 289.189 Q2124.55 290.607 2127.44 291.33 Q2130.34 292.054 2133.49 292.054 Q2138.99 292.054 2141.85 289.884 Q2144.75 287.713 2144.75 283.576 Q2144.75 279.756 2142.06 277.615 Q2139.39 275.445 2134.62 275.445 L2129.58 275.445 L2129.58 270.642 L2134.85 270.642 Q2139.16 270.642 2141.45 268.935 Q2143.73 267.198 2143.73 263.958 Q2143.73 260.63 2141.36 258.865 Q2139.02 257.071 2134.62 257.071 Q2132.22 257.071 2129.47 257.592 Q2126.72 258.113 2123.42 259.212 L2123.42 254.004 Q2126.75 253.078 2129.64 252.615 Q2132.56 252.152 2135.14 252.152 Q2141.79 252.152 2145.67 255.19 Q2149.55 258.2 2149.55 263.35 Q2149.55 266.938 2147.5 269.426 Q2145.44 271.886 2141.65 272.841 Z\" fill=\"#000000\" fill-rule=\"nonzero\" fill-opacity=\"1\" /><path clip-path=\"url(#clip520)\" d=\"M2361.12 2446.99 Q2357.19 2446.99 2354.87 2449.68 Q2352.59 2452.37 2352.59 2457.06 Q2352.59 2461.72 2354.87 2464.44 Q2357.19 2467.13 2361.12 2467.13 Q2365.06 2467.13 2367.34 2464.44 Q2369.66 2461.72 2369.66 2457.06 Q2369.66 2452.37 2367.34 2449.68 Q2365.06 2446.99 2361.12 2446.99 M2372.73 2428.67 L2372.73 2434 Q2370.53 2432.96 2368.27 2432.41 Q2366.04 2431.86 2363.84 2431.86 Q2358.06 2431.86 2354.99 2435.76 Q2351.95 2439.67 2351.52 2447.57 Q2353.22 2445.05 2355.8 2443.72 Q2358.38 2442.36 2361.47 2442.36 Q2367.98 2442.36 2371.74 2446.32 Q2375.53 2450.26 2375.53 2457.06 Q2375.53 2463.71 2371.6 2467.74 Q2367.66 2471.76 2361.12 2471.76 Q2353.63 2471.76 2349.67 2466.03 Q2345.7 2460.27 2345.7 2449.36 Q2345.7 2439.12 2350.56 2433.04 Q2355.42 2426.94 2363.61 2426.94 Q2365.81 2426.94 2368.04 2427.37 Q2370.3 2427.81 2372.73 2428.67 Z\" fill=\"#000000\" fill-rule=\"nonzero\" fill-opacity=\"1\" /><path clip-path=\"url(#clip520)\" d=\"M2360.62 2189.92 Q2356.1 2189.92 2353.82 2194.38 Q2351.56 2198.81 2351.56 2207.72 Q2351.56 2216.6 2353.82 2221.06 Q2356.1 2225.49 2360.62 2225.49 Q2365.16 2225.49 2367.42 2221.06 Q2369.7 2216.6 2369.7 2207.72 Q2369.7 2198.81 2367.42 2194.38 Q2365.16 2189.92 2360.62 2189.92 M2360.62 2185.29 Q2367.88 2185.29 2371.7 2191.05 Q2375.55 2196.78 2375.55 2207.72 Q2375.55 2218.63 2371.7 2224.39 Q2367.88 2230.11 2360.62 2230.11 Q2353.35 2230.11 2349.51 2224.39 Q2345.69 2218.63 2345.69 2207.72 Q2345.69 2196.78 2349.51 2191.05 Q2353.35 2185.29 2360.62 2185.29 Z\" fill=\"#000000\" fill-rule=\"nonzero\" fill-opacity=\"1\" /><path clip-path=\"url(#clip520)\" d=\"M2365.93 1964.34 Q2370.12 1965.24 2372.47 1968.07 Q2374.84 1970.91 2374.84 1975.08 Q2374.84 1981.47 2370.44 1984.97 Q2366.04 1988.47 2357.94 1988.47 Q2355.22 1988.47 2352.33 1987.92 Q2349.46 1987.4 2346.4 1986.33 L2346.4 1980.69 Q2348.83 1982.11 2351.72 1982.83 Q2354.61 1983.55 2357.77 1983.55 Q2363.27 1983.55 2366.13 1981.38 Q2369.02 1979.21 2369.02 1975.08 Q2369.02 1971.26 2366.33 1969.11 Q2363.67 1966.94 2358.9 1966.94 L2353.86 1966.94 L2353.86 1962.14 L2359.13 1962.14 Q2363.44 1962.14 2365.72 1960.43 Q2368.01 1958.7 2368.01 1955.46 Q2368.01 1952.13 2365.64 1950.36 Q2363.29 1948.57 2358.9 1948.57 Q2356.49 1948.57 2353.75 1949.09 Q2351 1949.61 2347.7 1950.71 L2347.7 1945.5 Q2351.03 1944.58 2353.92 1944.11 Q2356.84 1943.65 2359.42 1943.65 Q2366.07 1943.65 2369.95 1946.69 Q2373.83 1949.7 2373.83 1954.85 Q2373.83 1958.44 2371.77 1960.93 Q2369.72 1963.39 2365.93 1964.34 Z\" fill=\"#000000\" fill-rule=\"nonzero\" fill-opacity=\"1\" /><path clip-path=\"url(#clip520)\" d=\"M2328.67 1741.07 L2338.22 1741.07 L2338.22 1708.11 L2327.83 1710.2 L2327.83 1704.87 L2338.16 1702.79 L2344.01 1702.79 L2344.01 1741.07 L2353.56 1741.07 L2353.56 1745.99 L2328.67 1745.99 L2328.67 1741.07 Z\" fill=\"#000000\" fill-rule=\"nonzero\" fill-opacity=\"1\" /><path clip-path=\"url(#clip520)\" d=\"M2381.42 1707.88 L2366.66 1730.94 L2381.42 1730.94 L2381.42 1707.88 M2379.89 1702.79 L2387.24 1702.79 L2387.24 1730.94 L2393.4 1730.94 L2393.4 1735.81 L2387.24 1735.81 L2387.24 1745.99 L2381.42 1745.99 L2381.42 1735.81 L2361.92 1735.81 L2361.92 1730.16 L2379.89 1702.79 Z\" fill=\"#000000\" fill-rule=\"nonzero\" fill-opacity=\"1\" /><path clip-path=\"url(#clip520)\" d=\"M2347.44 1481.05 Q2351.63 1481.95 2353.98 1484.79 Q2356.35 1487.62 2356.35 1491.79 Q2356.35 1498.18 2351.95 1501.69 Q2347.55 1505.19 2339.45 1505.19 Q2336.73 1505.19 2333.84 1504.64 Q2330.97 1504.12 2327.91 1503.05 L2327.91 1497.4 Q2330.34 1498.82 2333.23 1499.54 Q2336.12 1500.27 2339.28 1500.27 Q2344.78 1500.27 2347.64 1498.1 Q2350.53 1495.93 2350.53 1491.79 Q2350.53 1487.97 2347.84 1485.83 Q2345.18 1483.66 2340.41 1483.66 L2335.37 1483.66 L2335.37 1478.86 L2340.64 1478.86 Q2344.95 1478.86 2347.24 1477.15 Q2349.52 1475.41 2349.52 1472.17 Q2349.52 1468.84 2347.15 1467.08 Q2344.8 1465.29 2340.41 1465.29 Q2338 1465.29 2335.26 1465.81 Q2332.51 1466.33 2329.21 1467.43 L2329.21 1462.22 Q2332.54 1461.29 2335.43 1460.83 Q2338.35 1460.37 2340.93 1460.37 Q2347.58 1460.37 2351.46 1463.4 Q2355.34 1466.41 2355.34 1471.56 Q2355.34 1475.15 2353.28 1477.64 Q2351.23 1480.1 2347.44 1481.05 Z\" fill=\"#000000\" fill-rule=\"nonzero\" fill-opacity=\"1\" /><path clip-path=\"url(#clip520)\" d=\"M2368.44 1499.43 L2377.99 1499.43 L2377.99 1466.47 L2367.61 1468.55 L2367.61 1463.23 L2377.94 1461.15 L2383.78 1461.15 L2383.78 1499.43 L2393.33 1499.43 L2393.33 1504.35 L2368.44 1504.35 L2368.44 1499.43 Z\" fill=\"#000000\" fill-rule=\"nonzero\" fill-opacity=\"1\" /><path clip-path=\"url(#clip520)\" d=\"M2346.73 1219.5 L2374.51 1219.5 L2374.51 1221.99 L2358.82 1262.7 L2352.72 1262.7 L2367.48 1224.42 L2346.73 1224.42 L2346.73 1219.5 Z\" fill=\"#000000\" fill-rule=\"nonzero\" fill-opacity=\"1\" /><path clip-path=\"url(#clip520)\" d=\"M2360.62 981.71 Q2356.1 981.71 2353.82 986.166 Q2351.56 990.593 2351.56 999.505 Q2351.56 1008.39 2353.82 1012.84 Q2356.1 1017.27 2360.62 1017.27 Q2365.16 1017.27 2367.42 1012.84 Q2369.7 1008.39 2369.7 999.505 Q2369.7 990.593 2367.42 986.166 Q2365.16 981.71 2360.62 981.71 M2360.62 977.081 Q2367.88 977.081 2371.7 982.839 Q2375.55 988.568 2375.55 999.505 Q2375.55 1010.41 2371.7 1016.17 Q2367.88 1021.9 2360.62 1021.9 Q2353.35 1021.9 2349.51 1016.17 Q2345.69 1010.41 2345.69 999.505 Q2345.69 988.568 2349.51 982.839 Q2353.35 977.081 2360.62 977.081 Z\" fill=\"#000000\" fill-rule=\"nonzero\" fill-opacity=\"1\" /><path clip-path=\"url(#clip520)\" d=\"M2334.71 774.5 L2355.11 774.5 L2355.11 779.419 L2327.67 779.419 L2327.67 774.5 Q2331 771.057 2336.73 765.27 Q2342.49 759.454 2343.97 757.776 Q2346.77 754.622 2347.87 752.452 Q2349 750.253 2349 748.14 Q2349 744.697 2346.57 742.527 Q2344.17 740.357 2340.29 740.357 Q2337.54 740.357 2334.47 741.312 Q2331.44 742.266 2327.96 744.205 L2327.96 738.302 Q2331.49 736.885 2334.56 736.161 Q2337.63 735.438 2340.17 735.438 Q2346.89 735.438 2350.88 738.794 Q2354.87 742.151 2354.87 747.764 Q2354.87 750.426 2353.86 752.828 Q2352.88 755.2 2350.24 758.441 Q2349.52 759.28 2345.64 763.302 Q2341.77 767.295 2334.71 774.5 Z\" fill=\"#000000\" fill-rule=\"nonzero\" fill-opacity=\"1\" /><path clip-path=\"url(#clip520)\" d=\"M2367.43 736.219 L2390.38 736.219 L2390.38 741.138 L2372.78 741.138 L2372.78 751.728 Q2374.06 751.294 2375.33 751.092 Q2376.6 750.86 2377.88 750.86 Q2385.11 750.86 2389.34 754.824 Q2393.56 758.788 2393.56 765.559 Q2393.56 772.533 2389.22 776.41 Q2384.88 780.258 2376.98 780.258 Q2374.26 780.258 2371.42 779.795 Q2368.62 779.332 2365.61 778.406 L2365.61 772.533 Q2368.21 773.95 2370.99 774.645 Q2373.77 775.339 2376.86 775.339 Q2381.87 775.339 2384.79 772.706 Q2387.72 770.073 2387.72 765.559 Q2387.72 761.045 2384.79 758.412 Q2381.87 755.779 2376.86 755.779 Q2374.52 755.779 2372.18 756.3 Q2369.86 756.821 2367.43 757.92 L2367.43 736.219 Z\" fill=\"#000000\" fill-rule=\"nonzero\" fill-opacity=\"1\" /><path clip-path=\"url(#clip520)\" d=\"M2346.79 514.484 Q2350.98 515.381 2353.33 518.216 Q2355.7 521.052 2355.7 525.218 Q2355.7 531.613 2351.3 535.114 Q2346.9 538.615 2338.8 538.615 Q2336.08 538.615 2333.19 538.066 Q2330.32 537.545 2327.26 536.474 L2327.26 530.832 Q2329.69 532.25 2332.58 532.973 Q2335.47 533.696 2338.63 533.696 Q2344.12 533.696 2346.99 531.526 Q2349.88 529.356 2349.88 525.218 Q2349.88 521.399 2347.19 519.258 Q2344.53 517.088 2339.76 517.088 L2334.72 517.088 L2334.72 512.285 L2339.99 512.285 Q2344.3 512.285 2346.58 510.577 Q2348.87 508.841 2348.87 505.601 Q2348.87 502.273 2346.5 500.508 Q2344.15 498.714 2339.76 498.714 Q2337.35 498.714 2334.6 499.235 Q2331.86 499.756 2328.56 500.855 L2328.56 495.647 Q2331.88 494.721 2334.78 494.258 Q2337.7 493.795 2340.28 493.795 Q2346.93 493.795 2350.81 496.833 Q2354.69 499.842 2354.69 504.993 Q2354.69 508.581 2352.63 511.069 Q2350.58 513.529 2346.79 514.484 Z\" fill=\"#000000\" fill-rule=\"nonzero\" fill-opacity=\"1\" /><path clip-path=\"url(#clip520)\" d=\"M2366.95 536.879 L2366.95 531.555 Q2369.15 532.597 2371.41 533.147 Q2373.67 533.696 2375.84 533.696 Q2381.62 533.696 2384.66 529.819 Q2387.73 525.913 2388.16 517.985 Q2386.49 520.473 2383.91 521.804 Q2381.33 523.135 2378.21 523.135 Q2371.73 523.135 2367.94 519.229 Q2364.18 515.294 2364.18 508.494 Q2364.18 501.839 2368.11 497.817 Q2372.05 493.795 2378.59 493.795 Q2386.08 493.795 2390.02 499.553 Q2393.98 505.282 2393.98 516.22 Q2393.98 526.434 2389.12 532.539 Q2384.29 538.615 2376.1 538.615 Q2373.9 538.615 2371.64 538.181 Q2369.38 537.747 2366.95 536.879 M2378.59 518.563 Q2382.52 518.563 2384.81 515.872 Q2387.12 513.182 2387.12 508.494 Q2387.12 503.835 2384.81 501.145 Q2382.52 498.425 2378.59 498.425 Q2374.65 498.425 2372.34 501.145 Q2370.05 503.835 2370.05 508.494 Q2370.05 513.182 2372.34 515.872 Q2374.65 518.563 2378.59 518.563 Z\" fill=\"#000000\" fill-rule=\"nonzero\" fill-opacity=\"1\" /><path clip-path=\"url(#clip520)\" d=\"M2327.04 258.026 L2312.28 281.087 L2327.04 281.087 L2327.04 258.026 M2325.5 252.934 L2332.85 252.934 L2332.85 281.087 L2339.02 281.087 L2339.02 285.948 L2332.85 285.948 L2332.85 296.134 L2327.04 296.134 L2327.04 285.948 L2307.54 285.948 L2307.54 280.306 L2325.5 252.934 Z\" fill=\"#000000\" fill-rule=\"nonzero\" fill-opacity=\"1\" /><path clip-path=\"url(#clip520)\" d=\"M2348.86 295.237 L2348.86 289.912 Q2351.05 290.954 2353.31 291.504 Q2355.57 292.054 2357.74 292.054 Q2363.53 292.054 2366.56 288.176 Q2369.63 284.27 2370.06 276.342 Q2368.39 278.83 2365.81 280.161 Q2363.24 281.492 2360.11 281.492 Q2353.63 281.492 2349.84 277.586 Q2346.08 273.651 2346.08 266.851 Q2346.08 260.196 2350.01 256.174 Q2353.95 252.152 2360.49 252.152 Q2367.98 252.152 2371.92 257.91 Q2375.88 263.639 2375.88 274.577 Q2375.88 284.791 2371.02 290.896 Q2366.19 296.973 2358 296.973 Q2355.8 296.973 2353.54 296.539 Q2351.29 296.105 2348.86 295.237 M2360.49 276.921 Q2364.42 276.921 2366.71 274.23 Q2369.02 271.539 2369.02 266.851 Q2369.02 262.193 2366.71 259.502 Q2364.42 256.782 2360.49 256.782 Q2356.55 256.782 2354.24 259.502 Q2351.95 262.193 2351.95 266.851 Q2351.95 271.539 2354.24 274.23 Q2356.55 276.921 2360.49 276.921 Z\" fill=\"#000000\" fill-rule=\"nonzero\" fill-opacity=\"1\" /><path clip-path=\"url(#clip520)\" d=\"M2398.88 275.619 Q2394.72 275.619 2392.32 277.847 Q2389.94 280.075 2389.94 283.981 Q2389.94 287.887 2392.32 290.115 Q2394.72 292.343 2398.88 292.343 Q2403.05 292.343 2405.45 290.115 Q2407.85 287.858 2407.85 283.981 Q2407.85 280.075 2405.45 277.847 Q2403.08 275.619 2398.88 275.619 M2393.04 273.13 Q2389.28 272.204 2387.17 269.629 Q2385.08 267.054 2385.08 263.35 Q2385.08 258.171 2388.76 255.162 Q2392.46 252.152 2398.88 252.152 Q2405.34 252.152 2409.01 255.162 Q2412.69 258.171 2412.69 263.35 Q2412.69 267.054 2410.57 269.629 Q2408.49 272.204 2404.76 273.13 Q2408.98 274.114 2411.33 276.979 Q2413.7 279.843 2413.7 283.981 Q2413.7 290.26 2409.85 293.616 Q2406.03 296.973 2398.88 296.973 Q2391.74 296.973 2387.89 293.616 Q2384.07 290.26 2384.07 283.981 Q2384.07 279.843 2386.44 276.979 Q2388.81 274.114 2393.04 273.13 M2390.9 263.9 Q2390.9 267.256 2392.98 269.137 Q2395.09 271.018 2398.88 271.018 Q2402.65 271.018 2404.76 269.137 Q2406.9 267.256 2406.9 263.9 Q2406.9 260.543 2404.76 258.663 Q2402.65 256.782 2398.88 256.782 Q2395.09 256.782 2392.98 258.663 Q2390.9 260.543 2390.9 263.9 Z\" fill=\"#000000\" fill-rule=\"nonzero\" fill-opacity=\"1\" /></svg>\n"
      ],
      "text/html": [
       "<?xml version=\"1.0\" encoding=\"utf-8\"?>\n",
       "<svg xmlns=\"http://www.w3.org/2000/svg\" xmlns:xlink=\"http://www.w3.org/1999/xlink\" width=\"700\" height=\"700\" viewBox=\"0 0 2800 2800\">\n",
       "<defs>\n",
       "  <clipPath id=\"clip570\">\n",
       "    <rect x=\"0\" y=\"0\" width=\"2800\" height=\"2800\"/>\n",
       "  </clipPath>\n",
       "</defs>\n",
       "<path clip-path=\"url(#clip570)\" d=\"M0 2800 L2800 2800 L2800 0 L0 0  Z\" fill=\"#ffffff\" fill-rule=\"evenodd\" fill-opacity=\"1\"/>\n",
       "<defs>\n",
       "  <clipPath id=\"clip571\">\n",
       "    <rect x=\"560\" y=\"280\" width=\"1961\" height=\"1961\"/>\n",
       "  </clipPath>\n",
       "</defs>\n",
       "<path clip-path=\"url(#clip570)\" d=\"M229.987 2570.14 L2472.76 2570.14 L2472.76 153.712 L229.987 153.712  Z\" fill=\"#ffffff\" fill-rule=\"evenodd\" fill-opacity=\"1\"/>\n",
       "<defs>\n",
       "  <clipPath id=\"clip572\">\n",
       "    <rect x=\"229\" y=\"153\" width=\"2244\" height=\"2417\"/>\n",
       "  </clipPath>\n",
       "</defs>\n",
       "<polyline clip-path=\"url(#clip572)\" style=\"stroke:#000000; stroke-linecap:round; stroke-linejoin:round; stroke-width:2; stroke-opacity:0.1; fill:none\" points=\"566.403,2570.14 566.403,153.712 \"/>\n",
       "<polyline clip-path=\"url(#clip572)\" style=\"stroke:#000000; stroke-linecap:round; stroke-linejoin:round; stroke-width:2; stroke-opacity:0.1; fill:none\" points=\"1014.96,2570.14 1014.96,153.712 \"/>\n",
       "<polyline clip-path=\"url(#clip572)\" style=\"stroke:#000000; stroke-linecap:round; stroke-linejoin:round; stroke-width:2; stroke-opacity:0.1; fill:none\" points=\"1463.51,2570.14 1463.51,153.712 \"/>\n",
       "<polyline clip-path=\"url(#clip572)\" style=\"stroke:#000000; stroke-linecap:round; stroke-linejoin:round; stroke-width:2; stroke-opacity:0.1; fill:none\" points=\"1912.06,2570.14 1912.06,153.712 \"/>\n",
       "<polyline clip-path=\"url(#clip572)\" style=\"stroke:#000000; stroke-linecap:round; stroke-linejoin:round; stroke-width:2; stroke-opacity:0.1; fill:none\" points=\"2360.62,2570.14 2360.62,153.712 \"/>\n",
       "<polyline clip-path=\"url(#clip570)\" style=\"stroke:#000000; stroke-linecap:round; stroke-linejoin:round; stroke-width:4; stroke-opacity:1; fill:none\" points=\"229.987,2570.14 2472.76,2570.14 \"/>\n",
       "<polyline clip-path=\"url(#clip570)\" style=\"stroke:#000000; stroke-linecap:round; stroke-linejoin:round; stroke-width:4; stroke-opacity:1; fill:none\" points=\"566.403,2570.14 566.403,2551.24 \"/>\n",
       "<polyline clip-path=\"url(#clip570)\" style=\"stroke:#000000; stroke-linecap:round; stroke-linejoin:round; stroke-width:4; stroke-opacity:1; fill:none\" points=\"1014.96,2570.14 1014.96,2551.24 \"/>\n",
       "<polyline clip-path=\"url(#clip570)\" style=\"stroke:#000000; stroke-linecap:round; stroke-linejoin:round; stroke-width:4; stroke-opacity:1; fill:none\" points=\"1463.51,2570.14 1463.51,2551.24 \"/>\n",
       "<polyline clip-path=\"url(#clip570)\" style=\"stroke:#000000; stroke-linecap:round; stroke-linejoin:round; stroke-width:4; stroke-opacity:1; fill:none\" points=\"1912.06,2570.14 1912.06,2551.24 \"/>\n",
       "<polyline clip-path=\"url(#clip570)\" style=\"stroke:#000000; stroke-linecap:round; stroke-linejoin:round; stroke-width:4; stroke-opacity:1; fill:none\" points=\"2360.62,2570.14 2360.62,2551.24 \"/>\n",
       "<path clip-path=\"url(#clip570)\" d=\"M561.056 2631.8 L577.375 2631.8 L577.375 2635.74 L555.431 2635.74 L555.431 2631.8 Q558.093 2629.05 562.676 2624.42 Q567.282 2619.77 568.463 2618.43 Q570.708 2615.9 571.588 2614.17 Q572.491 2612.41 572.491 2610.72 Q572.491 2607.96 570.546 2606.23 Q568.625 2604.49 565.523 2604.49 Q563.324 2604.49 560.87 2605.25 Q558.44 2606.02 555.662 2607.57 L555.662 2602.85 Q558.486 2601.71 560.94 2601.13 Q563.393 2600.55 565.431 2600.55 Q570.801 2600.55 573.995 2603.24 Q577.19 2605.93 577.19 2610.42 Q577.19 2612.55 576.38 2614.47 Q575.593 2616.36 573.486 2618.96 Q572.907 2619.63 569.805 2622.85 Q566.704 2626.04 561.056 2631.8 Z\" fill=\"#000000\" fill-rule=\"nonzero\" fill-opacity=\"1\" /><path clip-path=\"url(#clip570)\" d=\"M1017.97 2605.25 L1006.16 2623.7 L1017.97 2623.7 L1017.97 2605.25 M1016.74 2601.18 L1022.62 2601.18 L1022.62 2623.7 L1027.55 2623.7 L1027.55 2627.59 L1022.62 2627.59 L1022.62 2635.74 L1017.97 2635.74 L1017.97 2627.59 L1002.36 2627.59 L1002.36 2623.08 L1016.74 2601.18 Z\" fill=\"#000000\" fill-rule=\"nonzero\" fill-opacity=\"1\" /><path clip-path=\"url(#clip570)\" d=\"M1463.92 2616.6 Q1460.77 2616.6 1458.92 2618.75 Q1457.09 2620.9 1457.09 2624.65 Q1457.09 2628.38 1458.92 2630.55 Q1460.77 2632.71 1463.92 2632.71 Q1467.06 2632.71 1468.89 2630.55 Q1470.74 2628.38 1470.74 2624.65 Q1470.74 2620.9 1468.89 2618.75 Q1467.06 2616.6 1463.92 2616.6 M1473.2 2601.94 L1473.2 2606.2 Q1471.44 2605.37 1469.63 2604.93 Q1467.85 2604.49 1466.09 2604.49 Q1461.46 2604.49 1459.01 2607.61 Q1456.58 2610.74 1456.23 2617.06 Q1457.6 2615.05 1459.66 2613.98 Q1461.72 2612.89 1464.19 2612.89 Q1469.4 2612.89 1472.41 2616.06 Q1475.44 2619.21 1475.44 2624.65 Q1475.44 2629.98 1472.29 2633.19 Q1469.15 2636.41 1463.92 2636.41 Q1457.92 2636.41 1454.75 2631.83 Q1451.58 2627.22 1451.58 2618.49 Q1451.58 2610.3 1455.47 2605.44 Q1459.36 2600.55 1465.91 2600.55 Q1467.67 2600.55 1469.45 2600.9 Q1471.25 2601.25 1473.2 2601.94 Z\" fill=\"#000000\" fill-rule=\"nonzero\" fill-opacity=\"1\" /><path clip-path=\"url(#clip570)\" d=\"M1912.06 2619.33 Q1908.73 2619.33 1906.81 2621.11 Q1904.91 2622.89 1904.91 2626.02 Q1904.91 2629.14 1906.81 2630.93 Q1908.73 2632.71 1912.06 2632.71 Q1915.4 2632.71 1917.32 2630.93 Q1919.24 2629.12 1919.24 2626.02 Q1919.24 2622.89 1917.32 2621.11 Q1915.42 2619.33 1912.06 2619.33 M1907.39 2617.34 Q1904.38 2616.6 1902.69 2614.54 Q1901.02 2612.48 1901.02 2609.51 Q1901.02 2605.37 1903.96 2602.96 Q1906.92 2600.55 1912.06 2600.55 Q1917.23 2600.55 1920.17 2602.96 Q1923.11 2605.37 1923.11 2609.51 Q1923.11 2612.48 1921.42 2614.54 Q1919.75 2616.6 1916.76 2617.34 Q1920.14 2618.12 1922.02 2620.42 Q1923.92 2622.71 1923.92 2626.02 Q1923.92 2631.04 1920.84 2633.73 Q1917.78 2636.41 1912.06 2636.41 Q1906.35 2636.41 1903.27 2633.73 Q1900.21 2631.04 1900.21 2626.02 Q1900.21 2622.71 1902.11 2620.42 Q1904.01 2618.12 1907.39 2617.34 M1905.67 2609.95 Q1905.67 2612.64 1907.34 2614.14 Q1909.03 2615.65 1912.06 2615.65 Q1915.07 2615.65 1916.76 2614.14 Q1918.48 2612.64 1918.48 2609.95 Q1918.48 2607.27 1916.76 2605.76 Q1915.07 2604.26 1912.06 2604.26 Q1909.03 2604.26 1907.34 2605.76 Q1905.67 2607.27 1905.67 2609.95 Z\" fill=\"#000000\" fill-rule=\"nonzero\" fill-opacity=\"1\" /><path clip-path=\"url(#clip570)\" d=\"M2335.31 2631.8 L2342.94 2631.8 L2342.94 2605.44 L2334.63 2607.11 L2334.63 2602.85 L2342.9 2601.18 L2347.57 2601.18 L2347.57 2631.8 L2355.21 2631.8 L2355.21 2635.74 L2335.31 2635.74 L2335.31 2631.8 Z\" fill=\"#000000\" fill-rule=\"nonzero\" fill-opacity=\"1\" /><path clip-path=\"url(#clip570)\" d=\"M2374.66 2604.26 Q2371.05 2604.26 2369.22 2607.82 Q2367.41 2611.36 2367.41 2618.49 Q2367.41 2625.6 2369.22 2629.17 Q2371.05 2632.71 2374.66 2632.71 Q2378.29 2632.71 2380.1 2629.17 Q2381.93 2625.6 2381.93 2618.49 Q2381.93 2611.36 2380.1 2607.82 Q2378.29 2604.26 2374.66 2604.26 M2374.66 2600.55 Q2380.47 2600.55 2383.52 2605.16 Q2386.6 2609.74 2386.6 2618.49 Q2386.6 2627.22 2383.52 2631.83 Q2380.47 2636.41 2374.66 2636.41 Q2368.85 2636.41 2365.77 2631.83 Q2362.71 2627.22 2362.71 2618.49 Q2362.71 2609.74 2365.77 2605.16 Q2368.85 2600.55 2374.66 2600.55 Z\" fill=\"#000000\" fill-rule=\"nonzero\" fill-opacity=\"1\" /><path clip-path=\"url(#clip570)\" d=\"M1210.96 2678.77 L1210.96 2696.62 L1219.04 2696.62 Q1223.53 2696.62 1225.98 2694.3 Q1228.43 2691.98 1228.43 2687.68 Q1228.43 2683.41 1225.98 2681.09 Q1223.53 2678.77 1219.04 2678.77 L1210.96 2678.77 M1204.53 2673.48 L1219.04 2673.48 Q1227.03 2673.48 1231.11 2677.11 Q1235.21 2680.71 1235.21 2687.68 Q1235.21 2694.71 1231.11 2698.31 Q1227.03 2701.91 1219.04 2701.91 L1210.96 2701.91 L1210.96 2721 L1204.53 2721 L1204.53 2673.48 Z\" fill=\"#000000\" fill-rule=\"nonzero\" fill-opacity=\"1\" /><path clip-path=\"url(#clip570)\" d=\"M1263.1 2690.83 Q1262.11 2690.26 1260.93 2690 Q1259.79 2689.72 1258.38 2689.72 Q1253.42 2689.72 1250.75 2692.96 Q1248.1 2696.18 1248.1 2702.23 L1248.1 2721 L1242.22 2721 L1242.22 2685.36 L1248.1 2685.36 L1248.1 2690.89 Q1249.95 2687.65 1252.91 2686.09 Q1255.87 2684.5 1260.1 2684.5 Q1260.71 2684.5 1261.44 2684.59 Q1262.17 2684.66 1263.06 2684.81 L1263.1 2690.83 Z\" fill=\"#000000\" fill-rule=\"nonzero\" fill-opacity=\"1\" /><path clip-path=\"url(#clip570)\" d=\"M1298.3 2701.72 L1298.3 2704.58 L1271.37 2704.58 Q1271.75 2710.63 1275 2713.81 Q1278.28 2716.96 1284.1 2716.96 Q1287.48 2716.96 1290.63 2716.13 Q1293.81 2715.31 1296.93 2713.65 L1296.93 2719.19 Q1293.78 2720.53 1290.47 2721.23 Q1287.16 2721.93 1283.75 2721.93 Q1275.22 2721.93 1270.22 2716.96 Q1265.26 2712 1265.26 2703.53 Q1265.26 2694.78 1269.97 2689.65 Q1274.71 2684.5 1282.73 2684.5 Q1289.93 2684.5 1294.1 2689.14 Q1298.3 2693.76 1298.3 2701.72 M1292.44 2700 Q1292.38 2695.19 1289.74 2692.33 Q1287.13 2689.46 1282.8 2689.46 Q1277.9 2689.46 1274.94 2692.23 Q1272.01 2695 1271.56 2700.03 L1292.44 2700 Z\" fill=\"#000000\" fill-rule=\"nonzero\" fill-opacity=\"1\" /><path clip-path=\"url(#clip570)\" d=\"M1331.37 2690.77 L1331.37 2671.48 L1337.22 2671.48 L1337.22 2721 L1331.37 2721 L1331.37 2715.66 Q1329.52 2718.84 1326.69 2720.4 Q1323.89 2721.93 1319.94 2721.93 Q1313.48 2721.93 1309.41 2716.77 Q1305.36 2711.61 1305.36 2703.21 Q1305.36 2694.81 1309.41 2689.65 Q1313.48 2684.5 1319.94 2684.5 Q1323.89 2684.5 1326.69 2686.06 Q1329.52 2687.58 1331.37 2690.77 M1311.41 2703.21 Q1311.41 2709.67 1314.05 2713.36 Q1316.73 2717.03 1321.37 2717.03 Q1326.02 2717.03 1328.69 2713.36 Q1331.37 2709.67 1331.37 2703.21 Q1331.37 2696.75 1328.69 2693.09 Q1326.02 2689.4 1321.37 2689.4 Q1316.73 2689.4 1314.05 2693.09 Q1311.41 2696.75 1311.41 2703.21 Z\" fill=\"#000000\" fill-rule=\"nonzero\" fill-opacity=\"1\" /><path clip-path=\"url(#clip570)\" d=\"M1349.29 2685.36 L1355.14 2685.36 L1355.14 2721 L1349.29 2721 L1349.29 2685.36 M1349.29 2671.48 L1355.14 2671.48 L1355.14 2678.89 L1349.29 2678.89 L1349.29 2671.48 Z\" fill=\"#000000\" fill-rule=\"nonzero\" fill-opacity=\"1\" /><path clip-path=\"url(#clip570)\" d=\"M1393.05 2686.72 L1393.05 2692.2 Q1390.57 2690.83 1388.05 2690.16 Q1385.57 2689.46 1383.03 2689.46 Q1377.33 2689.46 1374.18 2693.09 Q1371.03 2696.69 1371.03 2703.21 Q1371.03 2709.74 1374.18 2713.36 Q1377.33 2716.96 1383.03 2716.96 Q1385.57 2716.96 1388.05 2716.29 Q1390.57 2715.59 1393.05 2714.22 L1393.05 2719.64 Q1390.6 2720.78 1387.96 2721.35 Q1385.35 2721.93 1382.39 2721.93 Q1374.34 2721.93 1369.59 2716.87 Q1364.85 2711.81 1364.85 2703.21 Q1364.85 2694.49 1369.63 2689.49 Q1374.43 2684.5 1382.77 2684.5 Q1385.48 2684.5 1388.05 2685.07 Q1390.63 2685.61 1393.05 2686.72 Z\" fill=\"#000000\" fill-rule=\"nonzero\" fill-opacity=\"1\" /><path clip-path=\"url(#clip570)\" d=\"M1409.03 2675.23 L1409.03 2685.36 L1421.09 2685.36 L1421.09 2689.91 L1409.03 2689.91 L1409.03 2709.26 Q1409.03 2713.62 1410.21 2714.86 Q1411.42 2716.1 1415.08 2716.1 L1421.09 2716.1 L1421.09 2721 L1415.08 2721 Q1408.3 2721 1405.72 2718.49 Q1403.14 2715.94 1403.14 2709.26 L1403.14 2689.91 L1398.84 2689.91 L1398.84 2685.36 L1403.14 2685.36 L1403.14 2675.23 L1409.03 2675.23 Z\" fill=\"#000000\" fill-rule=\"nonzero\" fill-opacity=\"1\" /><path clip-path=\"url(#clip570)\" d=\"M1459.29 2701.72 L1459.29 2704.58 L1432.36 2704.58 Q1432.74 2710.63 1435.99 2713.81 Q1439.27 2716.96 1445.09 2716.96 Q1448.46 2716.96 1451.62 2716.13 Q1454.8 2715.31 1457.92 2713.65 L1457.92 2719.19 Q1454.77 2720.53 1451.46 2721.23 Q1448.15 2721.93 1444.74 2721.93 Q1436.21 2721.93 1431.21 2716.96 Q1426.25 2712 1426.25 2703.53 Q1426.25 2694.78 1430.96 2689.65 Q1435.7 2684.5 1443.72 2684.5 Q1450.92 2684.5 1455.08 2689.14 Q1459.29 2693.76 1459.29 2701.72 M1453.43 2700 Q1453.37 2695.19 1450.72 2692.33 Q1448.11 2689.46 1443.79 2689.46 Q1438.88 2689.46 1435.92 2692.23 Q1433 2695 1432.55 2700.03 L1453.43 2700 Z\" fill=\"#000000\" fill-rule=\"nonzero\" fill-opacity=\"1\" /><path clip-path=\"url(#clip570)\" d=\"M1492.36 2690.77 L1492.36 2671.48 L1498.21 2671.48 L1498.21 2721 L1492.36 2721 L1492.36 2715.66 Q1490.51 2718.84 1487.68 2720.4 Q1484.88 2721.93 1480.93 2721.93 Q1474.47 2721.93 1470.39 2716.77 Q1466.35 2711.61 1466.35 2703.21 Q1466.35 2694.81 1470.39 2689.65 Q1474.47 2684.5 1480.93 2684.5 Q1484.88 2684.5 1487.68 2686.06 Q1490.51 2687.58 1492.36 2690.77 M1472.4 2703.21 Q1472.4 2709.67 1475.04 2713.36 Q1477.72 2717.03 1482.36 2717.03 Q1487.01 2717.03 1489.68 2713.36 Q1492.36 2709.67 1492.36 2703.21 Q1492.36 2696.75 1489.68 2693.09 Q1487.01 2689.4 1482.36 2689.4 Q1477.72 2689.4 1475.04 2693.09 Q1472.4 2696.75 1472.4 2703.21 Z\" fill=\"#000000\" fill-rule=\"nonzero\" fill-opacity=\"1\" /><polyline clip-path=\"url(#clip572)\" style=\"stroke:#000000; stroke-linecap:round; stroke-linejoin:round; stroke-width:2; stroke-opacity:0.1; fill:none\" points=\"229.987,2207.68 2472.76,2207.68 \"/>\n",
       "<polyline clip-path=\"url(#clip572)\" style=\"stroke:#000000; stroke-linecap:round; stroke-linejoin:round; stroke-width:2; stroke-opacity:0.1; fill:none\" points=\"229.987,1724.39 2472.76,1724.39 \"/>\n",
       "<polyline clip-path=\"url(#clip572)\" style=\"stroke:#000000; stroke-linecap:round; stroke-linejoin:round; stroke-width:2; stroke-opacity:0.1; fill:none\" points=\"229.987,1241.1 2472.76,1241.1 \"/>\n",
       "<polyline clip-path=\"url(#clip572)\" style=\"stroke:#000000; stroke-linecap:round; stroke-linejoin:round; stroke-width:2; stroke-opacity:0.1; fill:none\" points=\"229.987,757.819 2472.76,757.819 \"/>\n",
       "<polyline clip-path=\"url(#clip572)\" style=\"stroke:#000000; stroke-linecap:round; stroke-linejoin:round; stroke-width:2; stroke-opacity:0.1; fill:none\" points=\"229.987,274.534 2472.76,274.534 \"/>\n",
       "<polyline clip-path=\"url(#clip570)\" style=\"stroke:#000000; stroke-linecap:round; stroke-linejoin:round; stroke-width:4; stroke-opacity:1; fill:none\" points=\"229.987,2570.14 229.987,153.712 \"/>\n",
       "<polyline clip-path=\"url(#clip570)\" style=\"stroke:#000000; stroke-linecap:round; stroke-linejoin:round; stroke-width:4; stroke-opacity:1; fill:none\" points=\"229.987,2207.68 246.788,2207.68 \"/>\n",
       "<polyline clip-path=\"url(#clip570)\" style=\"stroke:#000000; stroke-linecap:round; stroke-linejoin:round; stroke-width:4; stroke-opacity:1; fill:none\" points=\"229.987,1724.39 246.788,1724.39 \"/>\n",
       "<polyline clip-path=\"url(#clip570)\" style=\"stroke:#000000; stroke-linecap:round; stroke-linejoin:round; stroke-width:4; stroke-opacity:1; fill:none\" points=\"229.987,1241.1 246.788,1241.1 \"/>\n",
       "<polyline clip-path=\"url(#clip570)\" style=\"stroke:#000000; stroke-linecap:round; stroke-linejoin:round; stroke-width:4; stroke-opacity:1; fill:none\" points=\"229.987,757.819 246.788,757.819 \"/>\n",
       "<polyline clip-path=\"url(#clip570)\" style=\"stroke:#000000; stroke-linecap:round; stroke-linejoin:round; stroke-width:4; stroke-opacity:1; fill:none\" points=\"229.987,274.534 246.788,274.534 \"/>\n",
       "<path clip-path=\"url(#clip570)\" d=\"M171.668 2221.02 L187.987 2221.02 L187.987 2224.96 L166.043 2224.96 L166.043 2221.02 Q168.705 2218.27 173.288 2213.64 Q177.895 2208.98 179.075 2207.64 Q181.321 2205.12 182.2 2203.38 Q183.103 2201.62 183.103 2199.93 Q183.103 2197.18 181.159 2195.44 Q179.238 2193.71 176.136 2193.71 Q173.937 2193.71 171.483 2194.47 Q169.052 2195.23 166.275 2196.78 L166.275 2192.06 Q169.099 2190.93 171.552 2190.35 Q174.006 2189.77 176.043 2189.77 Q181.413 2189.77 184.608 2192.46 Q187.802 2195.14 187.802 2199.63 Q187.802 2201.76 186.992 2203.68 Q186.205 2205.58 184.099 2208.17 Q183.52 2208.84 180.418 2212.06 Q177.316 2215.26 171.668 2221.02 Z\" fill=\"#000000\" fill-rule=\"nonzero\" fill-opacity=\"1\" /><path clip-path=\"url(#clip570)\" d=\"M178.404 1711.18 L166.599 1729.63 L178.404 1729.63 L178.404 1711.18 M177.177 1707.11 L183.057 1707.11 L183.057 1729.63 L187.987 1729.63 L187.987 1733.52 L183.057 1733.52 L183.057 1741.67 L178.404 1741.67 L178.404 1733.52 L162.802 1733.52 L162.802 1729.01 L177.177 1707.11 Z\" fill=\"#000000\" fill-rule=\"nonzero\" fill-opacity=\"1\" /><path clip-path=\"url(#clip570)\" d=\"M176.46 1239.24 Q173.312 1239.24 171.46 1241.39 Q169.631 1243.55 169.631 1247.3 Q169.631 1251.02 171.46 1253.2 Q173.312 1255.35 176.46 1255.35 Q179.608 1255.35 181.437 1253.2 Q183.288 1251.02 183.288 1247.3 Q183.288 1243.55 181.437 1241.39 Q179.608 1239.24 176.46 1239.24 M185.742 1224.59 L185.742 1228.85 Q183.983 1228.01 182.177 1227.57 Q180.395 1227.13 178.636 1227.13 Q174.006 1227.13 171.552 1230.26 Q169.122 1233.38 168.775 1239.7 Q170.14 1237.69 172.201 1236.63 Q174.261 1235.54 176.738 1235.54 Q181.946 1235.54 184.955 1238.71 Q187.987 1241.86 187.987 1247.3 Q187.987 1252.62 184.839 1255.84 Q181.691 1259.06 176.46 1259.06 Q170.464 1259.06 167.293 1254.47 Q164.122 1249.87 164.122 1241.14 Q164.122 1232.94 168.011 1228.08 Q171.9 1223.2 178.45 1223.2 Q180.21 1223.2 181.992 1223.55 Q183.798 1223.89 185.742 1224.59 Z\" fill=\"#000000\" fill-rule=\"nonzero\" fill-opacity=\"1\" /><path clip-path=\"url(#clip570)\" d=\"M176.136 758.687 Q172.802 758.687 170.881 760.47 Q168.983 762.252 168.983 765.377 Q168.983 768.502 170.881 770.284 Q172.802 772.067 176.136 772.067 Q179.469 772.067 181.39 770.284 Q183.312 768.479 183.312 765.377 Q183.312 762.252 181.39 760.47 Q179.492 758.687 176.136 758.687 M171.46 756.696 Q168.451 755.956 166.761 753.895 Q165.094 751.835 165.094 748.872 Q165.094 744.729 168.034 742.321 Q170.997 739.914 176.136 739.914 Q181.298 739.914 184.237 742.321 Q187.177 744.729 187.177 748.872 Q187.177 751.835 185.487 753.895 Q183.821 755.956 180.835 756.696 Q184.214 757.483 186.089 759.775 Q187.987 762.067 187.987 765.377 Q187.987 770.4 184.909 773.085 Q181.853 775.77 176.136 775.77 Q170.418 775.77 167.339 773.085 Q164.284 770.4 164.284 765.377 Q164.284 762.067 166.182 759.775 Q168.08 757.483 171.46 756.696 M169.747 749.312 Q169.747 751.997 171.413 753.502 Q173.103 755.007 176.136 755.007 Q179.145 755.007 180.835 753.502 Q182.548 751.997 182.548 749.312 Q182.548 746.627 180.835 745.122 Q179.145 743.618 176.136 743.618 Q173.103 743.618 171.413 745.122 Q169.747 746.627 169.747 749.312 Z\" fill=\"#000000\" fill-rule=\"nonzero\" fill-opacity=\"1\" /><path clip-path=\"url(#clip570)\" d=\"M136.691 287.878 L144.33 287.878 L144.33 261.513 L136.02 263.179 L136.02 258.92 L144.284 257.254 L148.96 257.254 L148.96 287.878 L156.599 287.878 L156.599 291.814 L136.691 291.814 L136.691 287.878 Z\" fill=\"#000000\" fill-rule=\"nonzero\" fill-opacity=\"1\" /><path clip-path=\"url(#clip570)\" d=\"M176.043 260.332 Q172.432 260.332 170.603 263.897 Q168.798 267.439 168.798 274.568 Q168.798 281.675 170.603 285.239 Q172.432 288.781 176.043 288.781 Q179.677 288.781 181.483 285.239 Q183.312 281.675 183.312 274.568 Q183.312 267.439 181.483 263.897 Q179.677 260.332 176.043 260.332 M176.043 256.629 Q181.853 256.629 184.909 261.235 Q187.987 265.818 187.987 274.568 Q187.987 283.295 184.909 287.901 Q181.853 292.485 176.043 292.485 Q170.233 292.485 167.154 287.901 Q164.099 283.295 164.099 274.568 Q164.099 265.818 167.154 261.235 Q170.233 256.629 176.043 256.629 Z\" fill=\"#000000\" fill-rule=\"nonzero\" fill-opacity=\"1\" /><path clip-path=\"url(#clip570)\" d=\"M38.578 1438.95 L62.2266 1447.67 L62.2266 1430.2 L38.578 1438.95 M32.2442 1442.58 L32.2442 1435.29 L79.7642 1417.18 L79.7642 1423.86 L67.5738 1428.19 L67.5738 1449.61 L79.7642 1453.94 L79.7642 1460.72 L32.2442 1442.58 Z\" fill=\"#000000\" fill-rule=\"nonzero\" fill-opacity=\"1\" /><path clip-path=\"url(#clip570)\" d=\"M45.4848 1385.99 L50.9593 1385.99 Q49.5907 1388.47 48.9223 1390.99 Q48.2221 1393.47 48.2221 1396.01 Q48.2221 1401.71 51.8505 1404.86 Q55.4472 1408.01 61.972 1408.01 Q68.4969 1408.01 72.1253 1404.86 Q75.7219 1401.71 75.7219 1396.01 Q75.7219 1393.47 75.0535 1390.99 Q74.3533 1388.47 72.9847 1385.99 L78.3955 1385.99 Q79.5414 1388.44 80.1143 1391.08 Q80.6872 1393.69 80.6872 1396.65 Q80.6872 1404.7 75.6264 1409.45 Q70.5657 1414.19 61.972 1414.19 Q53.251 1414.19 48.2539 1409.41 Q43.2568 1404.61 43.2568 1396.27 Q43.2568 1393.56 43.8297 1390.99 Q44.3708 1388.41 45.4848 1385.99 Z\" fill=\"#000000\" fill-rule=\"nonzero\" fill-opacity=\"1\" /><path clip-path=\"url(#clip570)\" d=\"M33.9947 1370.01 L44.1162 1370.01 L44.1162 1357.95 L48.6677 1357.95 L48.6677 1370.01 L68.0194 1370.01 Q72.3799 1370.01 73.6213 1368.83 Q74.8626 1367.62 74.8626 1363.96 L74.8626 1357.95 L79.7642 1357.95 L79.7642 1363.96 Q79.7642 1370.74 77.2497 1373.32 Q74.7034 1375.9 68.0194 1375.9 L48.6677 1375.9 L48.6677 1380.2 L44.1162 1380.2 L44.1162 1375.9 L33.9947 1375.9 L33.9947 1370.01 Z\" fill=\"#000000\" fill-rule=\"nonzero\" fill-opacity=\"1\" /><path clip-path=\"url(#clip570)\" d=\"M65.6959 1350.85 L44.1162 1350.85 L44.1162 1344.99 L65.4731 1344.99 Q70.5339 1344.99 73.0802 1343.02 Q75.5946 1341.05 75.5946 1337.1 Q75.5946 1332.36 72.5709 1329.62 Q69.5472 1326.85 64.3273 1326.85 L44.1162 1326.85 L44.1162 1320.99 L79.7642 1320.99 L79.7642 1326.85 L74.2896 1326.85 Q77.5362 1328.98 79.1276 1331.82 Q80.6872 1334.62 80.6872 1338.34 Q80.6872 1344.48 76.8678 1347.67 Q73.0483 1350.85 65.6959 1350.85 M43.2568 1336.11 L43.2568 1336.11 Z\" fill=\"#000000\" fill-rule=\"nonzero\" fill-opacity=\"1\" /><path clip-path=\"url(#clip570)\" d=\"M61.8447 1292.73 Q61.8447 1299.83 63.4679 1302.57 Q65.0912 1305.3 69.0061 1305.3 Q72.1253 1305.3 73.9714 1303.27 Q75.7856 1301.2 75.7856 1297.66 Q75.7856 1292.79 72.3481 1289.87 Q68.8788 1286.91 63.1497 1286.91 L61.8447 1286.91 L61.8447 1292.73 M59.4257 1281.05 L79.7642 1281.05 L79.7642 1286.91 L74.3533 1286.91 Q77.5998 1288.91 79.1594 1291.9 Q80.6872 1294.9 80.6872 1299.22 Q80.6872 1304.7 77.6316 1307.94 Q74.5443 1311.16 69.3881 1311.16 Q63.3725 1311.16 60.3169 1307.15 Q57.2614 1303.11 57.2614 1295.12 L57.2614 1286.91 L56.6885 1286.91 Q52.6462 1286.91 50.4501 1289.58 Q48.2221 1292.22 48.2221 1297.03 Q48.2221 1300.08 48.9541 1302.98 Q49.6862 1305.88 51.1503 1308.55 L45.7395 1308.55 Q44.4981 1305.33 43.8934 1302.31 Q43.2568 1299.29 43.2568 1296.42 Q43.2568 1288.69 47.2672 1284.87 Q51.2776 1281.05 59.4257 1281.05 Z\" fill=\"#000000\" fill-rule=\"nonzero\" fill-opacity=\"1\" /><path clip-path=\"url(#clip570)\" d=\"M30.239 1268.99 L30.239 1263.13 L79.7642 1263.13 L79.7642 1268.99 L30.239 1268.99 Z\" fill=\"#000000\" fill-rule=\"nonzero\" fill-opacity=\"1\" /><path clip-path=\"url(#clip570)\" d=\"M1053.71 16.7545 L1053.71 25.383 Q1049.58 21.5346 1044.88 19.6307 Q1040.22 17.7268 1034.96 17.7268 Q1024.59 17.7268 1019.08 24.0867 Q1013.57 30.4061 1013.57 42.3968 Q1013.57 54.3469 1019.08 60.7069 Q1024.59 67.0263 1034.96 67.0263 Q1040.22 67.0263 1044.88 65.1223 Q1049.58 63.2184 1053.71 59.3701 L1053.71 67.9175 Q1049.42 70.8341 1044.6 72.2924 Q1039.82 73.7508 1034.47 73.7508 Q1020.74 73.7508 1012.84 65.3654 Q1004.94 56.9395 1004.94 42.3968 Q1004.94 27.8135 1012.84 19.4281 Q1020.74 11.0023 1034.47 11.0023 Q1039.9 11.0023 1044.68 12.4606 Q1049.5 13.8784 1053.71 16.7545 Z\" fill=\"#000000\" fill-rule=\"nonzero\" fill-opacity=\"1\" /><path clip-path=\"url(#clip570)\" d=\"M1083.61 32.4315 Q1077.61 32.4315 1074.13 37.1306 Q1070.64 41.7891 1070.64 49.9314 Q1070.64 58.0738 1074.09 62.7728 Q1077.57 67.4314 1083.61 67.4314 Q1089.56 67.4314 1093.05 62.7323 Q1096.53 58.0333 1096.53 49.9314 Q1096.53 41.8701 1093.05 37.1711 Q1089.56 32.4315 1083.61 32.4315 M1083.61 26.1121 Q1093.33 26.1121 1098.88 32.4315 Q1104.43 38.7509 1104.43 49.9314 Q1104.43 61.0714 1098.88 67.4314 Q1093.33 73.7508 1083.61 73.7508 Q1073.84 73.7508 1068.29 67.4314 Q1062.79 61.0714 1062.79 49.9314 Q1062.79 38.7509 1068.29 32.4315 Q1073.84 26.1121 1083.61 26.1121 Z\" fill=\"#000000\" fill-rule=\"nonzero\" fill-opacity=\"1\" /><path clip-path=\"url(#clip570)\" d=\"M1154.5 45.1919 L1154.5 72.576 L1147.04 72.576 L1147.04 45.4349 Q1147.04 38.994 1144.53 35.7938 Q1142.02 32.5936 1137 32.5936 Q1130.96 32.5936 1127.48 36.4419 Q1123.99 40.2903 1123.99 46.9338 L1123.99 72.576 L1116.5 72.576 L1116.5 27.2059 L1123.99 27.2059 L1123.99 34.2544 Q1126.67 30.163 1130.27 28.1376 Q1133.92 26.1121 1138.66 26.1121 Q1146.48 26.1121 1150.49 30.9732 Q1154.5 35.7938 1154.5 45.1919 Z\" fill=\"#000000\" fill-rule=\"nonzero\" fill-opacity=\"1\" /><path clip-path=\"url(#clip570)\" d=\"M1192.33 9.54393 L1192.33 15.7418 L1185.2 15.7418 Q1181.19 15.7418 1179.61 17.3622 Q1178.07 18.9825 1178.07 23.1955 L1178.07 27.2059 L1190.35 27.2059 L1190.35 32.9987 L1178.07 32.9987 L1178.07 72.576 L1170.58 72.576 L1170.58 32.9987 L1163.45 32.9987 L1163.45 27.2059 L1170.58 27.2059 L1170.58 24.0462 Q1170.58 16.471 1174.1 13.0277 Q1177.63 9.54393 1185.28 9.54393 L1192.33 9.54393 Z\" fill=\"#000000\" fill-rule=\"nonzero\" fill-opacity=\"1\" /><path clip-path=\"url(#clip570)\" d=\"M1197.8 54.671 L1197.8 27.2059 L1205.26 27.2059 L1205.26 54.3874 Q1205.26 60.8284 1207.77 64.0691 Q1210.28 67.2693 1215.3 67.2693 Q1221.34 67.2693 1224.82 63.421 Q1228.35 59.5726 1228.35 52.9291 L1228.35 27.2059 L1235.8 27.2059 L1235.8 72.576 L1228.35 72.576 L1228.35 65.6084 Q1225.63 69.7404 1222.03 71.7658 Q1218.46 73.7508 1213.72 73.7508 Q1205.9 73.7508 1201.85 68.8897 Q1197.8 64.0286 1197.8 54.671 M1216.56 26.1121 L1216.56 26.1121 Z\" fill=\"#000000\" fill-rule=\"nonzero\" fill-opacity=\"1\" /><path clip-path=\"url(#clip570)\" d=\"M1280.08 28.5427 L1280.08 35.5912 Q1276.92 33.9709 1273.51 33.1607 Q1270.11 32.3505 1266.46 32.3505 Q1260.91 32.3505 1258.12 34.0519 Q1255.37 35.7533 1255.37 39.156 Q1255.37 41.7486 1257.35 43.2475 Q1259.34 44.7058 1265.33 46.0426 L1267.88 46.6097 Q1275.82 48.3111 1279.14 51.4303 Q1282.51 54.509 1282.51 60.0587 Q1282.51 66.3781 1277.48 70.0644 Q1272.5 73.7508 1263.75 73.7508 Q1260.1 73.7508 1256.13 73.0216 Q1252.21 72.3329 1247.83 70.9151 L1247.83 63.2184 Q1251.96 65.3654 1255.97 66.4591 Q1259.98 67.5124 1263.91 67.5124 Q1269.18 67.5124 1272.01 65.73 Q1274.85 63.9071 1274.85 60.6258 Q1274.85 57.5877 1272.78 55.9673 Q1270.76 54.3469 1263.83 52.8481 L1261.24 52.2405 Q1254.31 50.7821 1251.23 47.7845 Q1248.15 44.7463 1248.15 39.4801 Q1248.15 33.0797 1252.69 29.5959 Q1257.23 26.1121 1265.57 26.1121 Q1269.71 26.1121 1273.35 26.7198 Q1277 27.3274 1280.08 28.5427 Z\" fill=\"#000000\" fill-rule=\"nonzero\" fill-opacity=\"1\" /><path clip-path=\"url(#clip570)\" d=\"M1294.38 27.2059 L1301.83 27.2059 L1301.83 72.576 L1294.38 72.576 L1294.38 27.2059 M1294.38 9.54393 L1301.83 9.54393 L1301.83 18.9825 L1294.38 18.9825 L1294.38 9.54393 Z\" fill=\"#000000\" fill-rule=\"nonzero\" fill-opacity=\"1\" /><path clip-path=\"url(#clip570)\" d=\"M1335.01 32.4315 Q1329.01 32.4315 1325.53 37.1306 Q1322.04 41.7891 1322.04 49.9314 Q1322.04 58.0738 1325.49 62.7728 Q1328.97 67.4314 1335.01 67.4314 Q1340.96 67.4314 1344.44 62.7323 Q1347.93 58.0333 1347.93 49.9314 Q1347.93 41.8701 1344.44 37.1711 Q1340.96 32.4315 1335.01 32.4315 M1335.01 26.1121 Q1344.73 26.1121 1350.28 32.4315 Q1355.83 38.7509 1355.83 49.9314 Q1355.83 61.0714 1350.28 67.4314 Q1344.73 73.7508 1335.01 73.7508 Q1325.24 73.7508 1319.69 67.4314 Q1314.18 61.0714 1314.18 49.9314 Q1314.18 38.7509 1319.69 32.4315 Q1325.24 26.1121 1335.01 26.1121 Z\" fill=\"#000000\" fill-rule=\"nonzero\" fill-opacity=\"1\" /><path clip-path=\"url(#clip570)\" d=\"M1405.9 45.1919 L1405.9 72.576 L1398.44 72.576 L1398.44 45.4349 Q1398.44 38.994 1395.93 35.7938 Q1393.42 32.5936 1388.4 32.5936 Q1382.36 32.5936 1378.88 36.4419 Q1375.39 40.2903 1375.39 46.9338 L1375.39 72.576 L1367.9 72.576 L1367.9 27.2059 L1375.39 27.2059 L1375.39 34.2544 Q1378.07 30.163 1381.67 28.1376 Q1385.32 26.1121 1390.06 26.1121 Q1397.88 26.1121 1401.89 30.9732 Q1405.9 35.7938 1405.9 45.1919 Z\" fill=\"#000000\" fill-rule=\"nonzero\" fill-opacity=\"1\" /><path clip-path=\"url(#clip570)\" d=\"M1447.46 12.096 L1459.65 12.096 L1475.09 53.2532 L1490.6 12.096 L1502.79 12.096 L1502.79 72.576 L1494.81 72.576 L1494.81 19.4686 L1479.22 60.9499 L1470.99 60.9499 L1455.4 19.4686 L1455.4 72.576 L1447.46 72.576 L1447.46 12.096 Z\" fill=\"#000000\" fill-rule=\"nonzero\" fill-opacity=\"1\" /><path clip-path=\"url(#clip570)\" d=\"M1539.33 49.7694 Q1530.3 49.7694 1526.82 51.8354 Q1523.33 53.9013 1523.33 58.8839 Q1523.33 62.8538 1525.93 65.2034 Q1528.56 67.5124 1533.05 67.5124 Q1539.25 67.5124 1542.98 63.1374 Q1546.75 58.7219 1546.75 51.4303 L1546.75 49.7694 L1539.33 49.7694 M1554.2 46.6907 L1554.2 72.576 L1546.75 72.576 L1546.75 65.6895 Q1544.19 69.8214 1540.39 71.8063 Q1536.58 73.7508 1531.07 73.7508 Q1524.1 73.7508 1519.97 69.8619 Q1515.88 65.9325 1515.88 59.3701 Q1515.88 51.7138 1520.98 47.825 Q1526.13 43.9361 1536.3 43.9361 L1546.75 43.9361 L1546.75 43.2069 Q1546.75 38.0623 1543.34 35.2672 Q1539.98 32.4315 1533.86 32.4315 Q1529.98 32.4315 1526.29 33.3632 Q1522.6 34.295 1519.2 36.1584 L1519.2 29.2718 Q1523.29 27.692 1527.14 26.9223 Q1530.99 26.1121 1534.63 26.1121 Q1544.48 26.1121 1549.34 31.2163 Q1554.2 36.3204 1554.2 46.6907 Z\" fill=\"#000000\" fill-rule=\"nonzero\" fill-opacity=\"1\" /><path clip-path=\"url(#clip570)\" d=\"M1576.93 14.324 L1576.93 27.2059 L1592.28 27.2059 L1592.28 32.9987 L1576.93 32.9987 L1576.93 57.6282 Q1576.93 63.1779 1578.42 64.7578 Q1579.96 66.3376 1584.62 66.3376 L1592.28 66.3376 L1592.28 72.576 L1584.62 72.576 Q1575.99 72.576 1572.71 69.3758 Q1569.43 66.1351 1569.43 57.6282 L1569.43 32.9987 L1563.96 32.9987 L1563.96 27.2059 L1569.43 27.2059 L1569.43 14.324 L1576.93 14.324 Z\" fill=\"#000000\" fill-rule=\"nonzero\" fill-opacity=\"1\" /><path clip-path=\"url(#clip570)\" d=\"M1628.37 34.1734 Q1627.12 33.4443 1625.62 33.1202 Q1624.16 32.7556 1622.38 32.7556 Q1616.06 32.7556 1612.66 36.8875 Q1609.29 40.9789 1609.29 48.6757 L1609.29 72.576 L1601.8 72.576 L1601.8 27.2059 L1609.29 27.2059 L1609.29 34.2544 Q1611.64 30.1225 1615.41 28.1376 Q1619.18 26.1121 1624.56 26.1121 Q1625.33 26.1121 1626.27 26.2337 Q1627.2 26.3147 1628.33 26.5172 L1628.37 34.1734 Z\" fill=\"#000000\" fill-rule=\"nonzero\" fill-opacity=\"1\" /><path clip-path=\"url(#clip570)\" d=\"M1636.19 27.2059 L1643.64 27.2059 L1643.64 72.576 L1636.19 72.576 L1636.19 27.2059 M1636.19 9.54393 L1643.64 9.54393 L1643.64 18.9825 L1636.19 18.9825 L1636.19 9.54393 Z\" fill=\"#000000\" fill-rule=\"nonzero\" fill-opacity=\"1\" /><path clip-path=\"url(#clip570)\" d=\"M1696.95 27.2059 L1680.55 49.2833 L1697.81 72.576 L1689.01 72.576 L1675.81 54.752 L1662.6 72.576 L1653.81 72.576 L1671.43 48.8377 L1655.31 27.2059 L1664.1 27.2059 L1676.13 43.369 L1688.16 27.2059 L1696.95 27.2059 Z\" fill=\"#000000\" fill-rule=\"nonzero\" fill-opacity=\"1\" /><g clip-path=\"url(#clip572)\">\n",
       "<image width=\"2243\" height=\"2416\" xlink:href=\"data:image/png;base64,\n",
       "iVBORw0KGgoAAAANSUhEUgAACMMAAAlwCAYAAACMemDnAAAgAElEQVR4nOzbS00FQRRF0dd8bCAA\n",
       "FSAAzwyxgAsYMCHwGhMkN9l3LQVnUqlOZ9dxfn2cF2CQIwhjTucPxhzH9ALYzRUIc9yBAGx1vU4v\n",
       "gL18g8KY14fH6Qmw1s30AAAAAAAAAAAA+C9iGAAAAAAAAAAAMsQwAAAAAAAAAABkiGEAAAAAAAAA\n",
       "AMgQwwAAAAAAAAAAkCGGAQAAAAAAAAAgQwwDAAAAAAAAAECGGAYAAAAAAAAAgAwxDAAAAAAAAAAA\n",
       "GWIYAAAAAAAAAAAyxDAAAAAAAAAAAGSIYQAAAAAAAAAAyBDDAAAAAAAAAACQIYYBAAAAAAAAACBD\n",
       "DAMAAAAAAAAAQIYYBgAAAAAAAACADDEMAAAAAAAAAAAZYhgAAAAAAAAAADLEMAAAAAAAAAAAZIhh\n",
       "AAAAAAAAAADIEMMAAAAAAAAAAJAhhgEAAAAAAAAAIEMMAwAAAAAAAABAhhgGAAAAAAAAAIAMMQwA\n",
       "AAAAAAAAABliGAAAAAAAAAAAMsQwAAAAAAAAAABkiGEAAAAAAAAAAMgQwwAAAAAAAAAAkCGGAQAA\n",
       "AAAAAAAgQwwDAAAAAAAAAECGGAYAAAAAAAAAgAwxDAAAAAAAAAAAGWIYAAAAAAAAAAAyxDAAAAAA\n",
       "AAAAAGSIYQAAAAAAAAAAyBDDAAAAAAAAAACQIYYBAAAAAAAAACBDDAMAAAAAAAAAQIYYBgAAAAAA\n",
       "AACADDEMAAAAAAAAAAAZYhgAAAAAAAAAADLEMAAAAAAAAAAAZIhhAAAAAAAAAADIEMMAAAAAAAAA\n",
       "AJAhhgEAAAAAAAAAIEMMAwAAAAAAAABAhhgGAAAAAAAAAIAMMQwAAAAAAAAAABliGAAAAAAAAAAA\n",
       "MsQwAAAAAAAAAABkiGEAAAAAAAAAAMgQwwAAAAAAAAAAkCGGAQAAAAAAAAAgQwwDAAAAAAAAAECG\n",
       "GAYAAAAAAAAAgAwxDAAAAAAAAAAAGWIYAAAAAAAAAAAyxDAAAAAAAAAAAGSIYQAAAAAAAAAAyBDD\n",
       "AAAAAAAAAACQIYYBAAAAAAAAACBDDAMAAAAAAAAAQIYYBgAAAAAAAACADDEMAAAAAAAAAAAZYhgA\n",
       "AAAAAAAAADLEMAAAAAAAAAAAZIhhAAAAAAAAAADIEMMAAAAAAAAAAJAhhgEAAAAAAAAAIEMMAwAA\n",
       "AAAAAABAhhgGAAAAAAAAAIAMMQwAAAAAAAAAABliGAAAAAAAAAAAMsQwAAAAAAAAAABkiGEAAAAA\n",
       "AAAAAMgQwwAAAAAAAAAAkCGGAQAAAAAAAAAgQwwDAAAAAAAAAECGGAYAAAAAAAAAgAwxDAAAAAAA\n",
       "AAAAGWIYAAAAAAAAAAAyxDAAAAAAAAAAAGSIYQAAAAAAAAAAyBDDAAAAAAAAAACQIYYBAAAAAAAA\n",
       "ACBDDAMAAAAAAAAAQIYYBgAAAAAAAACADDEMAAAAAAAAAAAZYhgAAAAAAAAAADLEMAAAAAAAAAAA\n",
       "ZIhhAAAAAAAAAADIEMMAAAAAAAAAAJAhhgEAAAAAAAAAIEMMAwAAAAAAAABAhhgGAAAAAAAAAIAM\n",
       "MQwAAAAAAAAAABliGAAAAAAAAAAAMsQwAAAAAAAAAABkiGEAAAAAAAAAAMgQwwAAAAAAAAAAkCGG\n",
       "AQAAAAAAAAAgQwwDAAAAAAAAAECGGAYAAAAAAAAAgAwxDAAAAAAAAAAAGWIYAAAAAAAAAAAyxDAA\n",
       "AAAAAAAAAGSIYQAAAAAAAAAAyBDDAAAAAAAAAACQIYYBAAAAAAAAACBDDAMAAAAAAAAAQIYYBgAA\n",
       "AAAAAACADDEMAAAAAAAAAAAZYhgAAAAAAAAAADLEMAAAAAAAAAAAZIhhAAAAAAAAAADIEMMAAAAA\n",
       "AAAAAJAhhgEAAAAAAAAAIEMMAwAAAAAAAABAhhgGAAAAAAAAAIAMMQwAAAAAAAAAABliGAAAAAAA\n",
       "AAAAMsQwAAAAAAAAAABkiGEAAAAAAAAAAMgQwwAAAAAAAAAAkCGGAQAAAAAAAAAgQwwDAAAAAAAA\n",
       "AECGGAYAAAAAAAAAgAwxDAAAAAAAAAAAGWIYAAAAAAAAAAAyxDAAAAAAAAAAAGSIYQAAAAAAAAAA\n",
       "yBDDAAAAAAAAAACQIYYBAAAAAAAAACBDDAMAAAAAAAAAQIYYBgAAAAAAAACADDEMAAAAAAAAAAAZ\n",
       "YhgAAAAAAAAAADLEMAAAAAAAAAAAZIhhAAAAAAAAAADIEMMAAAAAAAAAAJAhhgEAAAAAAAAAIEMM\n",
       "AwAAAAAAAABAhhgGAAAAAAAAAIAMMQwAAAAAAAAAABliGAAAAAAAAAAAMsQwAAAAAAAAAABkiGEA\n",
       "AAAAAAAAAMgQwwAAAAAAAAAAkCGGAQAAAAAAAAAgQwwDAAAAAAAAAECGGAYAAAAAAAAAgAwxDAAA\n",
       "AAAAAAAAGWIYAAAAAAAAAAAyxDAAAAAAAAAAAGSIYQAAAAAAAAAAyBDDAAAAAAAAAACQIYYBAAAA\n",
       "AAAAACBDDAMAAAAAAAAAQIYYBgAAAAAAAACADDEMAAAAAAAAAAAZYhgAAAAAAAAAADLEMAAAAAAA\n",
       "AAAAZIhhAAAAAAAAAADIEMMAAAAAAAAAAJAhhgEAAAAAAAAAIEMMAwAAAAAAAABAhhgGAAAAAAAA\n",
       "AIAMMQwAAAAAAAAAABliGAAAAAAAAAAAMsQwAAAAAAAAAABkiGEAAAAAAAAAAMgQwwAAAAAAAAAA\n",
       "kCGGAQAAAAAAAAAgQwwDAAAAAAAAAECGGAYAAAAAAAAAgAwxDAAAAAAAAAAAGWIYAAAAAAAAAAAy\n",
       "xDAAAAAAAAAAAGSIYQAAAAAAAAAAyBDDAAAAAAAAAACQIYYBAAAAAAAAACBDDAMAAAAAAAAAQIYY\n",
       "BgAAAAAAAACADDEMAAAAAAAAAAAZYhgAAAAAAAAAADLEMAAAAAAAAAAAZIhhAAAAAAAAAADIEMMA\n",
       "AAAAAAAAAJAhhgEAAAAAAAAAIEMMAwAAAAAAAABAhhgGAAAAAAAAAIAMMQwAAAAAAAAAABliGAAA\n",
       "AAAAAAAAMsQwAAAAAAAAAABkiGEAAAAAAAAAAMgQwwAAAAAAAAAAkCGGAQAAAAAAAAAgQwwDAAAA\n",
       "AAAAAECGGAYAAAAAAAAAgAwxDAAAAAAAAAAAGWIYAAAAAAAAAAAyxDAAAAAAAAAAAGSIYQAAAAAA\n",
       "AAAAyBDDAAAAAAAAAACQIYYBAAAAAAAAACBDDAMAAAAAAAAAQIYYBgAAAAAAAACADDEMAAAAAAAA\n",
       "AAAZYhgAAAAAAAAAADLEMAAAAAAAAAAAZIhhAAAAAAAAAADIEMMAAAAAAAAAAJAhhgEAAAAAAAAA\n",
       "IEMMAwAAAAAAAABAhhgGAAAAAAAAAIAMMQwAAAAAAAAAABliGAAAAAAAAAAAMsQwAAAAAAAAAABk\n",
       "iGEAAAAAAAAAAMgQwwAAAAAAAAAAkCGGAQAAAAAAAAAgQwwDAAAAAAAAAECGGAYAAAAAAAAAgAwx\n",
       "DAAAAAAAAAAAGWIYAAAAAAAAAAAyxDAAAAAAAAAAAGSIYQAAAAAAAAAAyBDDAAAAAAAAAACQIYYB\n",
       "AAAAAAAAACBDDAMAAAAAAAAAQIYYBgAAAAAAAACADDEMAAAAAAAAAAAZYhgAAAAAAAAAADLEMAAA\n",
       "AAAAAAAAZIhhAAAAAAAAAADIEMMAAAAAAAAAAJAhhgEAAAAAAAAAIEMMAwAAAAAAAABAhhgGAAAA\n",
       "AAAAAIAMMQwAAAAAAAAAABl3l5/v6Q2w2+399ALY6zynF8Be19/pBbDb4V0EjDmP6QWwl+MHwFKf\n",
       "L8/TE2Ctp/e36Qmwlj+gAAAAAAAAAABkiGEAAAAAAAAAAMgQwwAAAAAAAAAAkCGGAQAAAAAAAAAg\n",
       "QwwDAAAAAAAAAECGGAYAAAAAAAAAgAwxDAAAAAAAAAAAGWIYAAAAAAAAAAAyxDAAAAAAAAAAAGSI\n",
       "YQAAAAAAAAAAyBDDAAAAAAAAAACQIYYBAAAAAAAAACBDDAMAAAAAAAAAQIYYBgAAAAAAAACADDEM\n",
       "AAAAAAAAAAAZYhgAAAAAAAAAADLEMAAAAAAAAAAAZIhhAAAAAAAAAADIEMMAAAAAAAAAAJAhhgEA\n",
       "AAAAAAAAIEMMAwAAAAAAAABAhhgGAAAAAAAAAIAMMQwAAAAAAAAAABliGAAAAAAAAAAAMsQwAAAA\n",
       "AAAAAABkiGEAAAAAAAAAAMgQwwAAAAAAAAAAkCGGAQAAAAAAAAAgQwwDAAAAAAAAAECGGAYAAAAA\n",
       "AAAAgAwxDAAAAAAAAAAAGWIYAAAAAAAAAAAyxDAAAAAAAAAAAGSIYQAAAAAAAAAAyBDDAAAAAAAA\n",
       "AACQIYYBAAAAAAAAACBDDAMAAAAAAAAAQIYYBgAAAAAAAACADDEMAAAAAAAAAAAZYhgAAAAAAAAA\n",
       "ADLEMAAAAAAAAAAAZIhhAAAAAAAAAADIEMMAAAAAAAAAAJAhhgEAAAAAAAAAIEMMAwAAAAAAAABA\n",
       "hhgGAAAAAAAAAIAMMQwAAAAAAAAAABliGAAAAAAAAAAAMsQwAAAAAAAAAABkiGEAAAAAAAAAAMgQ\n",
       "wwAAAAAAAAAAkCGGAQAAAAAAAAAgQwwDAAAAAAAAAECGGAYAAAAAAAAAgAwxDAAAAAAAAAAAGWIY\n",
       "AAAAAAAAAAAyxDAAAAAAAAAAAGSIYQAAAAAAAAAAyBDDAAAAAAAAAACQIYYBAAAAAAAAACBDDAMA\n",
       "AAAAAAAAQIYYBgAAAAAAAACADDEMAAAAAAAAAAAZYhgAAAAAAAAAADLEMAAAAAAAAAAAZIhhAAAA\n",
       "AAAAAADIEMMAAAAAAAAAAJAhhgEAAAAAAAAAIEMMAwAAAAAAAABAhhgGAAAAAAAAAIAMMQwAAAAA\n",
       "AAAAABliGAAAAAAAAAAAMsQwAAAAAAAAAABkiGEAAAAAAAAAAMgQwwAAAAAAAAAAkCGGAQAAAAAA\n",
       "AAAgQwwDAAAAAAAAAECGGAYAAAAAAAAAgAwxDAAAAAAAAAAAGWIYAAAAAAAAAAAyxDAAAAAAAAAA\n",
       "AGSIYQAAAAAAAAAAyBDDAAAAAAAAAACQIYYBAAAAAAAAACBDDAMAAAAAAAAAQIYYBgAAAAAAAACA\n",
       "DDEMAAAAAAAAAAAZYhgAAAAAAAAAADLEMAAAAAAAAAAAZIhhAAAAAAAAAADIEMMAAAAAAAAAAJAh\n",
       "hgEAAAAAAAAAIEMMAwAAAAAAAABAhhgGAAAAAAAAAIAMMQwAAAAAAAAAABliGAAAAAAAAAAAMsQw\n",
       "AAAAAAAAAABkiGEAAAAAAAAAAMgQwwAAAAAAAAAAkCGGAQAAAAAAAAAgQwwDAAAAAAAAAECGGAYA\n",
       "AAAAAAAAgAwxDAAAAAAAAAAAGWIYAAAAAAAAAAAyxDAAAAAAAAAAAGSIYQAAAAAAAAAAyBDDAAAA\n",
       "AAAAAACQIYYBAAAAAAAAACBDDAMAAAAAAAAAQIYYBgAAAAAAAACADDEMAAAAAAAAAAAZYhgAAAAA\n",
       "AAAAADLEMAAAAAAAAAAAZIhhAAAAAAAAAADIEMMAAAAAAAAAAJAhhgEAAAAAAAAAIEMMAwAAAAAA\n",
       "AABAhhgGAAAAAAAAAIAMMQwAAAAAAAAAABliGAAAAAAAAAAAMsQwAAAAAAAAAABkiGEAAAAAAAAA\n",
       "AMgQwwAAAAAAAAAAkCGGAQAAAAAAAAAgQwwDAAAAAAAAAECGGAYAAAAAAAAAgAwxDAAAAAAAAAAA\n",
       "GWIYAAAAAAAAAAAyxDAAAAAAAAAAAGSIYQAAAAAAAAAAyBDDAAAAAAAAAACQIYYBAAAAAAAAACBD\n",
       "DAMAAAAAAAAAQIYYBgAAAAAAAACADDEMAAAAAAAAAAAZYhgAAAAAAAAAADLEMAAAAAAAAAAAZIhh\n",
       "AAAAAAAAAADIEMMAAAAAAAAAAJAhhgEAAAAAAAAAIEMMAwAAAAAAAABAhhgGAAAAAAAAAIAMMQwA\n",
       "AAAAAAAAABliGAAAAAAAAAAAMsQwAAAAAAAAAABkiGEAAAAAAAAAAMgQwwAAAAAAAAAAkCGGAQAA\n",
       "AAAAAAAgQwwDAAAAAAAAAECGGAYAAAAAAAAAgAwxDAAAAAAAAAAAGWIYAAAAAAAAAAAyxDAAAAAA\n",
       "AAAAAGSIYQAAAAAAAAAAyBDDAAAAAAAAAACQIYYBAAAAAAAAACBDDAMAAAAAAAAAQIYYBgAAAAAA\n",
       "AACADDEMAAAAAAAAAAAZYhgAAAAAAAAAADLEMAAAAAAAAAAAZIhhAAAAAAAAAADIEMMAAAAAAAAA\n",
       "AJAhhgEAAAAAAAAAIEMMAwAAAAAAAABAhhgGAAAAAAAAAIAMMQwAAAAAAAAAABliGAAAAAAAAAAA\n",
       "MsQwAAAAAAAAAABkiGEAAAAAAAAAAMgQwwAAAAAAAAAAkCGGAQAAAAAAAAAgQwwDAAAAAAAAAECG\n",
       "GAYAAAAAAAAAgAwxDAAAAAAAAAAAGWIYAAAAAAAAAAAyxDAAAAAAAAAAAGSIYQAAAAAAAAAAyBDD\n",
       "AAAAAAAAAACQIYYBAAAAAAAAACBDDAMAAAAAAAAAQIYYBgAAAAAAAACADDEMAAAAAAAAAAAZYhgA\n",
       "AAAAAAAAADLEMAAAAAAAAAAAZIhhAAAAAAAAAADIEMMAAAAAAAAAAJAhhgEAAAAAAAAAIEMMAwAA\n",
       "AAAAAABAhhgGAAAAAAAAAIAMMQwAAAAAAAAAABliGAAAAAAAAAAAMsQwAAAAAAAAAABkiGEAAAAA\n",
       "AAAAAMgQwwAAAAAAAAAAkCGGAQAAAAAAAAAgQwwDAAAAAAAAAECGGAYAAAAAAAAAgAwxDAAAAAAA\n",
       "AAAAGWIYAAAAAAAAAAAyxDAAAAAAAAAAAGSIYQAAAAAAAAAAyBDDAAAAAAAAAACQIYYBAAAAAAAA\n",
       "ACBDDAMAAAAAAAAAQIYYBgAAAAAAAACADDEMAAAAAAAAAAAZYhgAAAAAAAAAADLEMAAAAAAAAAAA\n",
       "ZIhhAAAAAAAAAADIEMMAAAAAAAAAAJAhhgEAAAAAAAAAIEMMAwAAAAAAAABAhhgGAAAAAAAAAIAM\n",
       "MQwAAAAAAAAAABliGAAAAAAAAAAAMsQwAAAAAAAAAABkiGEAAAAAAAAAAMgQwwAAAAAAAAAAkCGG\n",
       "AQAAAAAAAAAgQwwDAAAAAAAAAECGGAYAAAAAAAAAgAwxDAAAAAAAAAAAGWIYAAAAAAAAAP7YuWOb\n",
       "hmIwjKJ50iPAIukRbfZvECI1JVuQoIQxfun6nAm+1ta1ATLEMAAAAAAAAAAAZIhhAAAAAAAAAADI\n",
       "EMMAAAAAAAAAAJAhhgEAAAAAAAAAIEMMAwAAAAAAAABAhhgGAAAAAAAAAIAMMQwAAAAAAAAAABli\n",
       "GAAAAAAAAAAAMsQwAAAAAAAAAABkiGEAAAAAAAAAAMgQwwAAAAAAAAAAkCGGAQAAAAAAAAAgQwwD\n",
       "AAAAAAAAAECGGAYAAAAAAAAAgAwxDAAAAAAAAAAAGWIYAAAAAAAAAAAyxDAAAAAAAAAAAGTsh/04\n",
       "vQEAZtxu0wtgXfvT9AJY27ZNL4B1bd4lAbCm77f36QmwrNPXx/QEWNf1d3oBLMsNDAAAAAAAAAAA\n",
       "GWIYAAAAAAAAAAAyxDAAAAAAAAAAAGSIYQAAAAAAAAAAyBDDAAAAAAAAAACQIYYBAAAAAAAAACBD\n",
       "DAMAAAAAAAAAQIYYBgAAAAAAAACADDEMAAAAAAAAAAAZYhgAAAAAAAAAADLEMAAAAAAAAAAAZIhh\n",
       "AAAAAAAAAADIEMMAAAAAAAAAAJAhhgEAAAAAAAAAIEMMAwAAAAAAAABAhhgGAAAAAAAAAIAMMQwA\n",
       "AAAAAAAAABliGAAAAAAAAAAAMsQwAAAAAAAAAABkiGEAAAAAAAAAAMgQwwAAAAAAAAAAkCGGAQAA\n",
       "AAAAAAAgQwwDAAAAAAAAAECGGAYAAAAAAAAAgAwxDAAAAAAAAAAAGWIYAAAAAAAAAAAyxDAAAAAA\n",
       "AAAAAGSIYQAAAAAAAAAAyBDDAAAAAAAAAACQIYYBAAAAAAAAACBDDAMAAAAAAAAAQIYYBgAAAAAA\n",
       "AACADDEMAAAAAAAAAAAZYhgAAAAAAAAAADLEMAAAAAAAAAAAZIhhAAAAAAAAAADIEMMAAAAAAAAA\n",
       "AJAhhgEAAAAAAAAAIEMMAwAAAAAAAABAhhgGAAAAAAAAAIAMMQwAAAAAAAAAABliGAAAAAAAAAAA\n",
       "MsQwAAAAAAAAAABkiGEAAAAAAAAAAMgQwwAAAAAAAAAAkCGGAQAAAAAAAAAgQwwDAAAAAAAAAECG\n",
       "GAYAAAAAAAAAgAwxDAAAAAAAAAAAGWIYAAAAAAAAAAAyxDAAAAAAAAAAAGSIYQAAAAAAAAAAyBDD\n",
       "AAAAAAAAAACQIYYBAAAAAAAAACBDDAMAAAAAAAAAQIYYBgAAAAAAAACADDEMAAAAAAAAAAAZYhgA\n",
       "AAAAAAAAADLEMAAAAAAAAAAAZIhhAAAAAAAAAADIEMMAAAAAAAAAAJAhhgEAAAAAAAAAIEMMAwAA\n",
       "AAAAAABAhhgGAAAAAAAAAIAMMQwAAAAAAAAAABliGAAAAAAAAAAAMsQwAAAAAAAAAABkiGEAAAAA\n",
       "AAAAAMgQwwAAAAAAAAAAkCGGAQAAAAAAAAAgQwwDAAAAAAAAAECGGAYAAAAAAAAAgAwxDAAAAAAA\n",
       "AAAAGWIYAAAAAAAAAAAyxDAAAAAAAAAAAGSIYQAAAAAAAAAAyBDDAAAAAAAAAACQIYYBAAAAAAAA\n",
       "ACBDDAMAAAAAAAAAQIYYBgAAAAAAAACADDEMAAAAAAAAAAAZYhgAAAAAAAAAADLEMAAAAAAAAAAA\n",
       "ZIhhAAAAAAAAAADIEMMAAAAAAAAAAJAhhgEAAAAAAAAAIEMMAwAAAAAAAABAhhgGAAAAAAAAAIAM\n",
       "MQwAAAAAAAAAABliGAAAAAAAAAAAMsQwAAAAAAAAAABkiGEAAAAAAAAAAMgQwwAAAAAAAAAAkCGG\n",
       "AQAAAAAAAAAgQwwDAAAAAAAAAECGGAYAAAAAAAAAgAwxDAAAAAAAAAAAGWIYAAAAAAAAAAAyxDAA\n",
       "AAAAAAAAAGSIYQAAAAAAAAAAyBDDAAAAAAAAAACQIYYBAAAAAAAAACBDDAMAAAAAAAAAQIYYBgAA\n",
       "AAAAAACADDEMAAAAAAAAAAAZYhgAAAAAAAAAADLEMAAAAAAAAAAAZIhhAAAAAAAAAADIEMMAAAAA\n",
       "AAAAAJAhhgEAAAAAAAAAIEMMAwAAAAAAAABAhhgGAAAAAAAAAIAMMQwAAAAAAAAAABliGAAAAAAA\n",
       "AAAAMsQwAAAAAAAAAABkiGEAAAAAAAAAAMgQwwAAAAAAAAAAkCGGAQAAAAAAAAAgQwwDAAAAAAAA\n",
       "AECGGAYAAAAAAAAAgAwxDAAAAAAAAAAAGWIYAAAAAAAAAAAyxDAAAAAAAAAAAGSIYQAAAAAAAAAA\n",
       "yBDDAAAAAAAAAACQIYYBAAAAAAAAACBDDAMAAAAAAAAAQIYYBgAAAAAAAACADDEMAAAAAAAAAAAZ\n",
       "YhgAAAAAAAAAADLEMAAAAAAAAAAAZIhhAAAAAAAAAADIEMMAAAAAAAAAAJAhhgEAAAAAAAAAIEMM\n",
       "AwAAAAAAAABAhhgGAAAAAAAAAIAMMQwAAAAAAAAAABliGAAAAAAAAAAAMsQwAAAAAAAAAABkiGEA\n",
       "AAAAAAAAAMgQwwAAAAAAAAAAkCGGAQAAAAAAAAAgQwwDAAAAAAAAAECGGAYAAAAAAAAAgAwxDAAA\n",
       "AAAAAAAAGWIYAAAAAAAAAAAyxDAAAAAAAAAAAGSIYQAAAAAAAAAAyBDDAAAAAAAAAACQIYYBAAAA\n",
       "AAAAACBDDAMAAAAAAAAAQIYYBgAAAAAAAACADDEMAAAAAAAAAAAZYhgAAAAAAAAAADLEMAAAAAAA\n",
       "AAAAZIhhAAAAAAAAAADIEMMAAAAAAAAAAJAhhgEAAAAAAAAAIEMMAwAAAAAAAABAhhgGAAAAAAAA\n",
       "AIAMMQwAAAAAAAAAABliGAAAAAAAAAAAMsQwAAAAAAAAAABkiGEAAAAAAAAAAMgQwwAAAAAAAAAA\n",
       "kCGGAQAAAAAAAAAgQwwDAAAAAAAAAECGGAYAAAAAAAAAgAwxDAAAAAAAAAAAGWIYAAAAAAAAAAAy\n",
       "xDAAAAAAAAAAAGSIYQAAAAAAAAAAyBDDAAAAAAAAAACQIYYBAAAAAAAAACBDDAMAAAAAAAAAQIYY\n",
       "BgAAAAAAAACADDEMAAAAAAAAAAAZYhgAAAAAAAAAADLEMAAAAAAAAAAAZIhhAAAAAAAAAADIEMMA\n",
       "AAAAAAAAAJAhhgEAAAAAAAAAIEMMAwAAAAAAAABAhhgGAAAAAAAAAIAMMQwAAAAAAAAAABliGAAA\n",
       "AAAAAAAAMsQwAAAAAAAAAABkiGEAAAAAAAAAAMgQwwAAAAAAAAAAkCGGAQAAAAAAAAAgQwwDAAAA\n",
       "AAAAAECGGAYAAAAAAAAAgAwxDAAAAAAAAAAAGWIYAAAAAAAAAAAyxDAAAAAAAAAAAGSIYQAAAAAA\n",
       "AAAAyBDDAAAAAAAAAACQIYYBAAAAAAAAACBDDAMAAAAAAAAAQIYYBgAAAAAAAACADDEMAAAAAAAA\n",
       "AAAZYhgAAAAAAAAAADLEMAAAAAAAAAAAZIhhAAAAAAAAAADIEMMAAAAAAAAAAJAhhgEAAAAAAAAA\n",
       "IEMMAwAAAAAAAABAhhgGAAAAAAAAAIAMMQwAAAAAAAAAABliGAAAAAAAAAAAMsQwAAAAAAAAAABk\n",
       "iGEAAAAAAAAAAMgQwwAAAAAAAAAAkCGGAQAAAAAAAAAgQwwDAAAAAAAAAECGGAYAAAAAAAAAgAwx\n",
       "DAAAAAAAAAAAGWIYAAAAAAAAAAAyxDAAAAAAAAAAAGSIYQAAAAAAAAAAyBDDAAAAAAAAAACQIYYB\n",
       "AAAAAAAAACBDDAMAAAAAAAAAQIYYBgAAAAAAAACADDEMAAAAAAAAAAAZYhgAAAAAAAAAADLEMAAA\n",
       "AAAAAAAAZIhhAAAAAAAAAADIEMMAAAAAAAAAAJAhhgEAAAAAAAAAIEMMAwAAAAAAAABAhhgGAAAA\n",
       "AAAAAIAMMQwAAAAAAAAAABliGAAAAAAAAFHuybAAACAASURBVAAAMsQwAAAAAAAAAABkiGEAAAAA\n",
       "AAAAAMgQwwAAAAAAAAAAkCGGAQAAAAAAAAAgQwwDAAAAAAAAAECGGAYAAAAAAAAAgIz9cL9Pb4C1\n",
       "bdv0AljX8WV6AQDMeDgHwpi/6/QCWNbP+Tw9AZZ2unxOT4CFPaYHwLqeX6cXwLL8DAMAAAAAAAAA\n",
       "QIYYBgAAAAAAAACADDEMAAAAAAAAAAAZYhgAAAAAAAAAADLEMAAAAAAAAAAAZIhhAAAAAAAAAADI\n",
       "EMMAAAAAAAAAAJAhhgEAAAAAAAAAIEMMAwAAAAAAAABAhhgGAAAAAAAAAIAMMQwAAAAAAAAAABli\n",
       "GAAAAAAAAAAAMsQwAAAAAAAAAABkiGEAAAAAAAAAAMgQwwAAAAAAAAAAkCGGAQAAAAAAAAAgQwwD\n",
       "AAAAAAAAAECGGAYAAAAAAAAAgAwxDAAAAAAAAAAAGWIYAAAAAAAAAAAyxDAAAAAAAAAAAGSIYQAA\n",
       "AAAAAAAAyBDDAAAAAAAAAACQIYYBAAAAAAAAACBDDAMAAAAAAAAAQIYYBgAAAAAAAACADDEMAAAA\n",
       "AAAAAAAZYhgAAAAAAAAAADLEMAAAAAAAAAAAZIhhAAAAAAAAAADIEMMAAAAAAAAAAJAhhgEAAAAA\n",
       "AAAAIEMMAwAAAAAAAABAhhgGAAAAAAAAAIAMMQwAAAAAAAAAABliGAAAAAAAAAAAMsQwAAAAAAAA\n",
       "AABkiGEAAAAAAAAAAMgQwwAAAAAAAAAAkCGGAQAAAAAAAAAgQwwDAAAAAAAAAECGGAYAAAAAAAAA\n",
       "gAwxDAAAAAAAAAAAGWIYAAAAAAAAAAAyxDAAAAAAAAAAAGSIYQAAAAAAAAAAyBDDAAAAAAAAAACQ\n",
       "IYYBAAAAAAAAACBDDAMAAAAAAAAAQIYYBgAAAAAAAACADDEMAAAAAAAAAAAZYhgAAAAAAAAAADLE\n",
       "MAAAAAAAAAAAZIhhAAAAAAAAAADIEMMAAAAAAAAAAJAhhgEAAAAAAAAAIEMMAwAAAAAAAABAhhgG\n",
       "AAAAAAAAAIAMMQwAAAAAAAAAABliGAAAAAAAAAAAMsQwAAAAAAAAAABkiGEAAAAAAAAAAMgQwwAA\n",
       "AAAAAAAAkCGGAQAAAAAAAAAgQwwDAAAAAAAAAECGGAYAAAAAAAAAgAwxDAAAAAAAAAAAGWIYAAAA\n",
       "AAAAAAAyxDAAAAAAAAAAAGSIYQAAAAAAAAAAyBDDAAAAAAAAAACQIYYBAAAAAAAAACBDDAMAAAAA\n",
       "AAAAQIYYBgAAAAAAAACADDEMAAAAAAAAAAAZYhgAAAAAAAAAADLEMAAAAAAAAAAAZIhhAAAAAAAA\n",
       "AADIEMMAAAAAAAAAAJAhhgEAAAAAAAAAIEMMAwAAAAAAAABAhhgGAAAAAAAAAIAMMQwAAAAAAAAA\n",
       "ABliGAAAAAAAAAAAMsQwAAAAAAAAAABkiGEAAAAAAAAAAMgQwwAAAAAAAAAAkCGGAQAAAAAAAAAg\n",
       "QwwDAAAAAAAAAECGGAYAAAAAAAAAgAwxDAAAAAAAAAAAGWIYAAAAAAAAAAAyxDAAAAAAAAAAAGSI\n",
       "YQAAAAAAAAAAyBDDAAAAAAAAAACQIYYBAAAAAAAAACBDDAMAAAAAAAAAQIYYBgAAAAAAAACADDEM\n",
       "AAAAAAAAAAAZYhgAAAAAAAAAADLEMAAAAAAAAAAAZIhhAAAAAAAAAADIEMMAAAAAAAAAAJAhhgEA\n",
       "AAAAAAAAIEMMAwAAAAAAAABAhhgGAAAAAAAAAIAMMQwAAAAAAAAAABliGAAAAAAAAAAAMsQwAAAA\n",
       "AAAAAABkiGEAAAAAAAAAAMgQwwAAAAAAAAAAkCGGAQAAAAAAAAAgQwwDAAAAAAAAAECGGAYAAAAA\n",
       "AAAAgAwxDAAAAAAAAAAAGWIYAAAAAAAAAAAyxDAAAAAAAAAAAGSIYQAAAAAAAAAAyBDDAAAAAAAA\n",
       "AACQIYYBAAAAAAAAACBDDAMAAAAAAAAAQIYYBgAAAAAAAACADDEMAAAAAAAAAAAZYhgAAAAAAAAA\n",
       "ADLEMAAAAAAAAAAAZIhhAAAAAAAAAADIEMMAAAAAAAAAAJAhhgEAAAAAAAAAIEMMAwAAAAAAAABA\n",
       "hhgGAAAAAAAAAIAMMQwAAAAAAAAAABliGAAAAAAAAAAAMsQwAAAAAAAAAABkiGEAAAAAAAAAAMgQ\n",
       "wwAAAAAAAAAAkCGGAQAAAAAAAAAgQwwDAAAAAAAAAECGGAYAAAAAAAAAgAwxDAAAAAAAAAAAGWIY\n",
       "AAAAAAAAAAAyxDAAAAAAAAAAAGSIYQAAAAAAAAAAyBDDAAAAAAAAAACQIYYBAAAAAAAAACBDDAMA\n",
       "AAAAAAAAQIYYBgAAAAAAAACADDEMAAAAAAAAAAAZYhgAAAAAAAAAADLEMAAAAAAAAAAAZIhhAAAA\n",
       "AAAAAADIEMMAAAAAAAAAAJAhhgEAAAAAAAAAIEMMAwAAAAAAAABAhhgGAAAAAAAAAIAMMQwAAAAA\n",
       "AAAAABliGAAAAAAAAAAAMsQwAAAAAAAAAABkiGEAAAAAAAAAAMgQwwAAAAAAAAAAkCGGAQAAAAAA\n",
       "AAAgQwwDAAAAAAAAAECGGAYAAAAAAAAAgAwxDAAAAAAAAAAAGWIYAAAAAAAAAAAyxDAAAAAAAAAA\n",
       "AGSIYQAAAAAAAAAAyBDDAAAAAAAAAACQIYYBAAAAAAAAACBDDAMAAAAAAAAAQIYYBgAAAAAAAACA\n",
       "DDEMAAAAAAAAAAAZYhgAAAAAAAAAADLEMAAAAAAAAAAAZIhhAAAAAAAAAADIEMMAAAAAAAAAAJAh\n",
       "hgEAAAAAAAAAIEMMAwAAAAAAAABAhhgGAAAAAAAAAIAMMQwAAAAAAAAAABliGAAAAAAAAAAAMsQw\n",
       "AAAAAAAAAABkiGEAAAAAAAAAAMgQwwAAAAAAAAAAkCGGAQAAAAAAAAAgQwwDAAAAAAAAAECGGAYA\n",
       "AAAAAAAAgAwxDAAAAAAAAAAAGWIYAAAAAAAAAAAyxDAAAAAAAAAAAGSIYQAAAAAAAAAAyBDDAAAA\n",
       "AAAAAACQIYYBAAAAAAAAACBDDAMAAAAAAAAAQIYYBgAAAAAAAACADDEMAAAAAAAAAAAZYhgAAAAA\n",
       "AAAAADLEMAAAAAAAAAAAZIhhAAAAAAAAAADIEMMAAAAAAAAAAJAhhgEAAAAAAAAAIEMMAwAAAAAA\n",
       "AABAhhgGAAAAAAAAAIAMMQwAAAAAAAAAABliGAAAAAAAAAAAMsQwAAAAAAAAAABkiGEAAAAAAAAA\n",
       "AMgQwwAAAAAAAAAAkCGGAQAAAAD+2bljXAgAKIqiMsgkFqFWKSxBZ+GUCpVdaCSIGHbhJ/efs4K3\n",
       "gJsHAAAAGWIYAAAAAAAAAAAyxDAAAAAAAAAAAGSIYQAAAAAAAAAAyBDDAAAAAAAAAACQIYYBAAAA\n",
       "AAAAACBDDAMAAAAAAAAAQIYYBgAAAAAAAACADDEMAAAAAAAAAAAZYhgAAAAAAAAAADLEMAAAAAAA\n",
       "AAAAZIhhAAAAAAAAAADIEMMAAAAAAAAAAJAhhgEAAAAAAAAAIEMMAwAAAAAAAABAhhgGAAAAAAAA\n",
       "AIAMMQwAAAAAAAAAABliGAAAAAAAAAAAMsQwAAAAAAAAAABkiGEAAAAAAAAAAMgQwwAAAAAAAAAA\n",
       "kCGGAQAAAAAAAAAgQwwDAAAAAAAAAECGGAYAAAAAAAAAgAwxDAAAAAAAAAAAGWIYAAAAAAAAAAAy\n",
       "xDAAAAAAAAAAAGSIYQAAAAAAAAAAyBDDAAAAAAAAAACQIYYBAAAAAAAAACBDDAMAAAAAAAAAQIYY\n",
       "BgAAAAAAAACADDEMAAAAAAAAAAAZYhgAAAAAAAAAADIuzg56GAAA/tnpZ3oB7HY4n14Aa7093E9P\n",
       "gLWuH5+mJwDAjK+P6QWw1+VxegGspYQBAAAAAAAAACBDDAMAAAAAAAAAQIYYBgAAAAAAAACADDEM\n",
       "AAAAAAAAAAAZYhgAAAAAAAAAADLEMAAAAAAAAAAAZIhhAAAAAAAAAADIEMMAAAAAAAAAAJAhhgEA\n",
       "AAAAAAAAIEMMAwAAAAAAAABAhhgGAAAAAAAAAIAMMQwAAAAAAAAAABliGAAAAAAAAAAAMsQwAAAA\n",
       "AAAAAABkiGEAAAAAAAAAAMgQwwAAAAAAAAAAkCGGAQAAAAAAAAAgQwwDAAAAAAAAAECGGAYAAAAA\n",
       "AAAAgAwxDAAAAAAAAAAAGWIYAAAAAAAAAAAyxDAAAAAAAAAAAGSIYQAAAAAAAAAAyBDDAAAAAAAA\n",
       "AACQIYYBAAAAAAAAACBDDAMAAAAAAAAAQIYYBgAAAAAAAACADDEMAAAAAAAAAAAZYhgAAAAAAAAA\n",
       "ADLEMAAAAAAAAAAAZIhhAAAAAAAAAADIEMMAAAAAAAAAAJAhhgEAAAAAAAAAIEMMAwAAAAAAAABA\n",
       "hhgGAAAAAAAAAIAMMQwAAAAAAAAAABliGAAAAAAAAAAAMsQwAAAAAAAAAABkiGEAAAAAAAAAAMgQ\n",
       "wwAAAAAAAAAAkCGGAQAAAAAAAAAgQwwDAAAAAAAAAECGGAYAAAAAAAAAgAwxDAAAAAAAAAAAGWIY\n",
       "AAAAAAAAAAAyxDAAAAAAAAAAAGSIYQAAAAAAAAAAyBDDAAAAAAAAAACQIYYBAAAAAAAAACBDDAMA\n",
       "AAAAAAAAQIYYBgAAAAAAAACADDEMAAAAAAAAAAAZYhgAAAAAAAAAADLEMAAAAAAAAAAAZIhhAAAA\n",
       "AAAAAADIEMMAAAAAAAAAAJAhhgEAAAAAAAAAIEMMAwAAAAAAAABAhhgGAAAAAAAAAIAMMQwAAAAA\n",
       "AAAAABliGAAAAAAAAAAAMsQwAAAAAAAAAABkiGEAAAAAAAAAAMgQwwAAAAAAAAAAkCGGAQAAAAAA\n",
       "AAAgQwwDAAAAAAAAAECGGAYAAAAAAAAAgAwxDAAAAAAAAAAAGWIYAAAAAAAAAAAyxDAAAAAAAAAA\n",
       "AGSIYQAAAAAAAAAAyBDDAAAAAAAAAACQIYYBAAAAAAAAACBDDAMAAAAAAAAAQIYYBgAAAAAAAACA\n",
       "DDEMAAAAAAAAAAAZYhgAAAAAAAAAADLEMAAAAAAAAAAAZIhhAAAAAAAAAADIEMMAAAAAAAAAAJAh\n",
       "hgEAAAAAAAAAIEMMAwAAAAAAAABAhhgGAAAAAAAAAIAMMQwAAAAAAAAAABliGAAAAAAAAAAAMsQw\n",
       "AAAAAAAAAABkiGEAAAAAAAAAAMgQwwAAAAAAAAAAkCGGAQAAAAAAAAAgQwwDAAAAAAAAAECGGAYA\n",
       "AAAAAAAAgAwxDAAAAAAAAAAAGWIYAAAAAAAAAAAyxDAAAAAAAAAAAGSIYQAAAAAAAAAAyBDDAAAA\n",
       "AAAAAACQIYYBAAAAAAAAACBDDAMAAAAAAAAAQIYYBgAAAAAAAACADDEMAAAAAAAAAAAZYhgAAAAA\n",
       "AAAAADLEMAAAAAAAAAAAZIhhAAAAAAAAAADIEMMAAAAAAAAAAJAhhgEAAAAAAAAAIEMMAwAAAAAA\n",
       "AABAhhgGAAAAAAAAAIAMMQwAAAAAAAAAABliGAAAAAAAAAAAMsQwAAAAAAAAAABkiGEAAAAAAAAA\n",
       "AMgQwwAAAAAAAAAAkCGGAQAAAAAAAAAgQwwDAAAAAAAAAECGGAYAAAAAAAAAgAwxDAAAAAAAAAAA\n",
       "GWIYAAAAAAAAAAAyxDAAAAAAAAAAAGSIYQAAAAAAAAAAyBDDAAAAAAAAAACQIYYBAAAAAAAAACBD\n",
       "DAMAAAAAAAAAQIYYBgAAAAAAAACADDEMAAAAAAAAAAAZYhgAAAAAAAAAADLEMAAAAAAAAAAAZIhh\n",
       "AAAAAAAAAADIEMMAAAAAAAAAAJAhhgEAAAAAAAAAIEMMAwAAAAAAAABAhhgGAAAAAAAAAIAMMQwA\n",
       "AAAAAAAAABliGAAAAAAAAAAAMsQwAAAAAAAAAABkiGEAAAAAAAAAAMgQwwAAAAAAAAAAkCGGAQAA\n",
       "AAAAAAAgQwwDAAAAAAAAAECGGAYAAAAAAAAAgAwxDAAAAAAAAAAAGWIYAAAAAAAAAAAyxDAAAAAA\n",
       "AAAAAGSIYQAAAAAAAAAAyBDDAAAAAAAAAACQIYYBAAAAAAAAACBDDAMAAAAAAAAAQIYYBgAAAAAA\n",
       "AACADDEMAAAAAAAAAAAZYhgAAAAAAAAAADLEMAAAAAAAAAAAZIhhAAAAAAAAAADIEMMAAAAAAAAA\n",
       "AJAhhgEAAAAAAAAAIEMMAwAAAAAAAABAhhgGAAAAAAAAAIAMMQwAAAAAAAAAABliGAAAAAAAAAAA\n",
       "MsQwAAAAAAAAAABkiGEAAAAAAAAAAMgQwwAAAAAAAAAAkCGGAQAAAAAAAAAgQwwDAAAAAAAAAECG\n",
       "GAYAAAAAAAAAgAwxDAAAAAAAAAAAGWIYAAAAAAAAAAAyxDAAAAAAAAAAAGSIYQAAAAAAAAAAyBDD\n",
       "AAAAAAAAAACQIYYBAAAAAAAAACBDDAMAAAAAAAAAQIYYBgAAAAAAAACADDEMAAAAAAAAAAAZYhgA\n",
       "AAAAAAAAADLEMAAAAAAAAAAAZIhhAAAAAAAAAADIEMMAAAAAAAAAAJAhhgEAAAAAAAAAIEMMAwAA\n",
       "AAAAAABAhhgGAAAAAAAAAIAMMQwAAAAAAAAAABliGAAAAAAAAAAAMsQwAAAAAAAAAABkiGEAAAAA\n",
       "AAAAAMgQwwAAAAAAAAAAkCGGAQAAAAAAAAAgQwwDAAAAAAAAAECGGAYAAAAAAAAAgAwxDAAAAAAA\n",
       "AAAAGWIYAAAAAAAAAAAyxDAAAAAAAAAAAGSIYQAAAAAAAAAAyBDDAAAAAAAAAACQIYYBAAAAAAAA\n",
       "ACBDDAMAAAAAAAAAQIYYBgAAAAAAAACADDEMAAAAAAAAAAAZYhgAAAAAAAAAADLEMAAAAAAAAAAA\n",
       "ZIhhAAAAAAAAAADIEMMAAAAAAAAAAJAhhgEAAAAAAAAAIEMMAwAAAAAAAABAhhgGAAAAAAAAAIAM\n",
       "MQwAAAAAAAAAABliGAAAAAAAAAAAMsQwAAAAAAAAAABkiGEAAAAAAAAAAMgQwwAAAAAAAAAAkCGG\n",
       "AQAAAAAAAAAgQwwDAAAAAAAAAECGGAYAAAAAAAAAgAwxDAAAAAAAAAAAGWIYAAAAAAAAAAAyxDAA\n",
       "AAAAAAAAAGSIYQAAAAAAAAAAyBDDAAAAAAAAAACQIYYBAAAAAAAAACBDDAMAAAAAAAAAQIYYBgAA\n",
       "AAAAAACADDEMAAAAAAAAAAAZYhgAAAAAAAAAADLEMAAAAAAAAAAAZIhhAAAAAAAAAADIEMMAAAAA\n",
       "AAAAAJAhhgEAAAAAAAAAIEMMAwAAAAAAAABAhhgGAAAAAAAAAIAMMQwAAAAAAAAAABliGAAAAAAA\n",
       "AAAAMsQwAAAAAAAAAABkiGEAAAAAAAAAAMgQwwAAAAAAAAAAkCGGAQAAAAAAAAAgQwwDAAAAAAAA\n",
       "AECGGAYAAAAAAAAAgAwxDAAAAAAAAAAAGWIYAAAAAAAAAAAyxDAAAAAAAAAAAGSIYQAAAAAAAAAA\n",
       "yBDDAAAAAAAAAACQcTE9AACAhQ7n0wtgtdfbu+kJsNbNy/P0BNjr53t6Aez2e5peAHsdr6YXwF6f\n",
       "79MLYC3PMAAAAAAAAAAAZIhhAAAAAAAAAADIEMMAAAAAAAAAAJAhhgEAAAAAAAAAIEMMAwAAAAAA\n",
       "AABAhhgGAAAAAAAAAIAMMQwAAAAAAAAAABliGAAAAAAAAAAAMsQwAAAAAAAAAABkiGEAAAAAAAAA\n",
       "AMgQwwAAAAAAAAAAkCGGAQAAAAAAAAAgQwwDAAAAAAAAAECGGAYAAAAAAAAAgAwxDAAAAAAAAAAA\n",
       "GWIYAAAAAAAAAAAyxDAAAAAAAAAAAGSIYQAAAAAAAAAAyBDDAAAAAAAAAACQIYYBAAAAAAAAACBD\n",
       "DAMAAAAAAAAAQIYYBgAAAAAAAACADDEMAAAAAAAAAAAZYhgAAAAAAAAAADLEMAAAAAAAAAAAZIhh\n",
       "AAAAAAAAAADIEMMAAAAAAAAAAJAhhgEAAAAAAAAAIEMMAwAAAAAAAABAhhgGAAAAAAAAAIAMMQwA\n",
       "AAAAAAAAABliGAAAAAAAAAAAMsQwAAAAAAAAAABkiGEAAAAAAAAAAMgQwwAAAAAAAAAAkCGGAQAA\n",
       "AAAAAAAgQwwDAAAAAAAAAECGGAYAAAAAAAAAgAwxDAAAAAAAAAAAGWIYAAAAAAAAAAAyxDAAAAAA\n",
       "AAAAAGSIYQAAAAAAAAAAyBDDAAAAAAAAAACQIYYBAAAAAAAAACBDDAMAAAAAAAAAQIYYBgAAAAAA\n",
       "AACADDEMAAAAAAAAAAAZYhgAAAAAAAAAADLEMAAAAAAAAAAAZIhhAAAAAAAAAADIEMMAAAAAAAAA\n",
       "AJAhhgEAAAAAAAAAIEMMAwAAAAAAAABAhhgGAAAAAAAAAIAMMQwAAAAAAAAAABliGAAAAAAAAAAA\n",
       "MsQwAAAAAAAAAABkiGEAAAAAAAAAAMgQwwAAAAAAAAAAkCGGAQAAAAAAAAAgQwwDAAAAAAAAAECG\n",
       "GAYAAAAAAAAAgAwxDAAAAAAAAAAAGWIYAAAAAAAAAAAyxDAAAAAAAAAAAGSIYQAAAAAAAAAAyBDD\n",
       "AAAAAAAAAACQIYYBAAAAAAAAACBDDAMAAAAAAAAAQIYYBgAAAAAAAACADDEMAAAAAAAAAAAZYhgA\n",
       "AAAAAAAAADLEMAAAAAAAAAAAZIhhAAAAAAAAAADIEMMAAAAAAAAAAJAhhgEAAAAAAAAAIEMMAwAA\n",
       "AAAAAABAhhgGAAAAAAAAAIAMMQwAAAAAAAAAABliGAAAAAAAAAAAMsQwAAAAAAAAAABkiGEAAAAA\n",
       "AAAAAMgQwwAAAAAAAAAAkCGGAQAAAAAAAAAgQwwDAAAAAAAAAECGGAYAAAAAAAAAgAwxDAAAAAAA\n",
       "AAAAGWIYAAAAAAAAAAAyxDAAAAAAAAAAAGSIYQAAAAAAAAAAyBDDAAAAAAAAAACQIYYBAAAAAAAA\n",
       "ACBDDAMAAAAAAAAAQIYYBgAAAAAAAACADDEMAAAAAAAAAAAZYhgAAAAAAAAAADLEMAAAAAAAAAAA\n",
       "ZIhhAAAAAAAAAADIEMMAAAAAAAAAAJAhhgEAAAAAAAAAIEMMAwAAAAAAAABAhhgGAAAAAAAAAIAM\n",
       "MQwAAAAAAAAAABliGAAAAAAAAAAAMsQwAAAAAAAAAABkiGEAAAAAAAAAAMgQwwAAAAAAAAAAkCGG\n",
       "AQAAAAAAAAAgQwwDAAAAAAAAAECGGAYAAAAAAAAAgAwxDAAAAAAAAAAAGWIYAAAAAAAAAAAyxDAA\n",
       "AAAAAAAAAGSIYQAAAAAAAAAAyBDDAAAAAAAAAACQIYYBAAAAAAAAACBDDAMAAAAAAAAAQIYYBgAA\n",
       "AAAAAACADDEMAAAAAAAAAAAZYhgAAAAAAAAAADLEMAAAAAAAAAAAZIhhAAAAAAAAAADIEMMAAAAA\n",
       "AAAAAJAhhgEAAAAAAAAAIEMMAwAAAAAAAABAhhgGAAAAAAAAAIAMMQwAAAAAAAAAABliGAAAAAAA\n",
       "AAAAMsQwAAAAAAAAAABkiGEAAAAAAAAAAMgQwwAAAAAAAAAAkCGGAQAAAAAAAAAgQwwDAAAAAAAA\n",
       "AECGGAYAAAAAAAAAgAwxDAAAAAAAAAAAGWIYAAAAAAAAAAAyxDAAAAAAAAAAAGSIYQAAAAAAAAAA\n",
       "yBDDAAAAAAAAAACQIYYBAAAAAAAAACBDDAMAAAAAAAAAQIYYBgAAAAAAAACADDEMAAAAAAAAAAAZ\n",
       "YhgAAAAAAAAAADLEMAAAAAAAAAAAZIhhAAAAAAAAAADIEMMAAAAAAAAAAJAhhgEAAAAAAAAAIEMM\n",
       "AwAAAAAAAABAhhgGAAAAAAAAAIAMMQwAAAAAAAAAABliGAAAAAAAAAAAMsQwAAAAAAAAAABkiGEA\n",
       "AAAAAAAAAMgQwwAAAAAAAAAAkCGGAQAAAAAAAAAgQwwDAAAAAAAAAECGGAYAAAAAAAAAgAwxDAAA\n",
       "AAAAAAAAGWIYAAAAAAAAAAAyxDAAAAAAAAAAAGSIYQAAAAAAAAAAyBDDAAAAAAAAAACQIYYBAAAA\n",
       "AAAAACBDDAMAAAAAAAAAQIYYBgAAAAAAAACADDEMAAAAAAAAAAAZYhgAAAAAAAAAADLEMAAAAAAA\n",
       "AAAAZIhhAAAAAAAAAADIEMMAAAAAAAAAAJAhhgEAAAAAAAAAIEMMAwAAAAAAAABAhhgGAAAAAAAA\n",
       "AIAMMQwAAAAAAAAAABliGAAAAAAAAAAAMsQwAAAAAAAAAABkiGEAAAAAAAAAAMgQwwAAAAAAAAAA\n",
       "kCGGAQAAAAAAAAAgQwwDAAAAAAAAAECGGAYAAAAAAAAAgAwxDAAAAAAAAAAAGWIYAAAAAAAAAAAy\n",
       "xDAAAAAAAAAAAGSIYQAAAAAAAAAAyBDDAAAAAAAAAACQIYYBAAAAAAAAACBDDAMAAAAAAAAAQIYY\n",
       "BgAAAAAAAACADDEMAAAAAAAAAAAZYhgAAADgj507RokgiKIoOmAzzkYEYwMR9x8ZTGA4gesQZbrd\n",
       "hR9unbOClxRUcPkAAAAAkCGGAQAAAAAAAAAgQwwDAAAAAAAAAECGGAYAAAAAAAAAgAwxDAAAAAAA\n",
       "AAAAGWIYAAAAAAAAAAAyxDAAAAAAAAAAAGSIYQAAAAAAAAAAyBDDAAAAAAAAAACQIYYBAAAAAAAA\n",
       "ACBDDAMAAAAAAAAAQIYYBgAAAAAAAACADDEMAAAAAAAAAAAZYhgAAAAAAAAAADLEMAAAAAAAAAAA\n",
       "ZIhhAAAAAAAAAADIEMMAAAAAAAAAAJAhhgEAAAAAAAAAIEMMAwAAAAAAAABAhhgGAAAAAAAAAIAM\n",
       "MQwAAAAAAAAAABliGAAAAAAAAAAAMsQwAAAAAAAAAABkiGEAAAAAAAAAAMgQwwAAAAAAAAAAkCGG\n",
       "AQAAAAAAAAAgQwwDAAAAAAAAAECGGAYAAAAAAAAAgAwxDAAAAAAAAAAAGWIYAAAAAAAAAAAyxDAA\n",
       "AAAAAAAAAGSIYQAAAAAAAAAAyBDDAAAAAAAAAACQIYYBAAAAAAAAACBDDAMAAAAAAAAAQIYYBgAA\n",
       "AAAAAACADDEMAAAAAAAAAAAZYhgATR3I9QAAIABJREFUAAAAAAAAADLEMAAAAAAAAAAAZIhhAAAA\n",
       "AAAAAADIEMMAAAAAAAAAAJAhhgEAAAAAAAAAIEMMAwAAAAAAAABAhhgGAAAAAAAAAIAMMQwAAAAA\n",
       "AAAAABliGAAAAAAAAAAAMsQwAAAAAAAAAABkiGEAAAAAAAAAAMgQwwAAAAAAAAAAkCGGAQAAAAAA\n",
       "AAAgY5seAABj7r/TC2BZX2/v0xNgac+f1+kJsK6f7+kFsK7zZXoBrG3fpxfAuo779AJY1/Y4vQCW\n",
       "5TIMAAAAAAAAAAAZYhgAAAAAAAAAADLEMAAAAAAAAAAAZIhhAAAAAAAAAADIEMMAAAAAAAAAAJAh\n",
       "hgEAAAAAAAAAIEMMAwAAAAAAAABAhhgGAAAAAAAAAIAMMQwAAAAAAAAAABliGAAAAAAAAAAAMsQw\n",
       "AAAAAAAAAABkiGEAAAAAAAAAAMgQwwAAAAAAAAAAkCGGAQAAAAAAAAAgQwwDAAAAAAAAAECGGAYA\n",
       "AAAAAAAAgAwxDAAAAAAAAAAAGWIYAAAAAAAAAAAyxDAAAAAAAAAAAGSIYQAAAAAAAAAAyBDDAAAA\n",
       "AAAAAACQIYYBAAAAAAAAACBDDAMAAAAAAAAAQIYYBgAAAAAAAACADDEMAAAAAAAAAAAZYhgAAAAA\n",
       "AAAAADLEMAAAAAAAAAAAZIhhAAAAAAAAAADIEMMAAAAAAAAAAJAhhgEAAAAAAAAAIEMMAwAAAAAA\n",
       "AABAhhgGAAAAAAAAAIAMMQwAAAAAAAAAABliGAAAAAAAAAAAMsQwAAAAAAAAAABkiGEAAAAAAAAA\n",
       "AMgQwwAAAAAAAAAAkCGGAQAAAAAAAAAgQwwDAAAAAAAAAECGGAYAAAAAAAAAgAwxDAAAAAAAAAAA\n",
       "GWIYAAAAAAAAAAAyxDAAAAAAAAAAAGSIYQAAAAAAAAAAyBDDAAAAAAAAAACQIYYBAAAAAAAAACBD\n",
       "DAMAAAAAAAAAQIYYBgAAAAAAAACADDEMAAAAAAAAAAAZYhgAAAAAAAAAADLEMAAAAAAAAAAAZIhh\n",
       "AAAAAAAAAADIEMMAAAAAAAAAAJAhhgEAAAAAAAAAIEMMAwAAAAAAAABAhhgGAAAAAAAAAIAMMQwA\n",
       "AAAAAAAAABliGAAAAAAAAAAAMsQwAAAAAAAAAABkiGEAAAAAAAAAAMgQwwAAAAAAAAAAkCGGAQAA\n",
       "AAAAAAAgQwwDAAAAAAAAAECGGAYAAAAAAAAAgAwxDAAAAAAAAAAAGWIYAAAAAAAAAAAyxDAAAAAA\n",
       "AAAAAGSIYQAAAAAAAAAAyBDDAAAAAAAAAACQIYYBAAAAAAAAACBDDAMAAAAAAAAAQIYYBgAAAAAA\n",
       "AACADDEMAAAAAAAAAAAZYhgAAAAAAAAAADLEMAAAAAAAAAAAZIhhAAAAAAAAAADIEMMAAAAAAAAA\n",
       "AJAhhgEAAAAAAAAAIEMMAwAAAAAAAABAhhgGAAAAAAAAAIAMMQwAAAAAAAAAABliGAAAAAAAAAAA\n",
       "MsQwAAAAAAAAAABkiGEAAAAAAAAAAMgQwwAAAAAAAAAAkCGGAQAAAAAAAAAgQwwDAAAAAAAAAECG\n",
       "GAYAAAAAAAAAgAwxDAAAAAAAAAAAGWIYAAAAAAAAAAAyxDAAAAAAAAAAAGSIYQAAAAAAAAAAyBDD\n",
       "AAAAAAAAAACQIYYBAAAAAAAAACBDDAMAAAAAAAAAQIYYBgAAAAAAAACADDEMAAAAAAAAAAAZYhgA\n",
       "AAAAAAAAADLEMAAAAAAAAAAAZIhhAAAAAAAAAADIEMMAAAAAAAAAAJAhhgEAAAAAAAAAIEMMAwAA\n",
       "AAAAAABAhhgGAAAAAAAAAIAMMQwAAAAAAAAAABliGAAAAAAAAAAAMsQwAAAAAAAAAABkiGEAAAAA\n",
       "AAAAAMgQwwAAAAAAAAAAkCGGAQAAAAAAAAAgQwwDAAAAAAAAAECGGAYAAAAAAAAAgAwxDAAAAAAA\n",
       "AAAAGWIYAAAAAAAAAAAyxDAAAAAAAAAAAGSIYQAAAAAAAAAAyBDDAAAAAAAAAACQIYYBAAAAAAAA\n",
       "ACBDDAMAAAAAAAAAQIYYBgAAAAAAAACADDEMAAAAAAAAAAAZYhgAAAAAAAAAADLEMAAAAAAAAAAA\n",
       "ZIhhAAAAAAAAAADIEMMAAAAAAAAAAJAhhgEAAAAAAAAAIEMMAwAAAAAAAABAhhgGAAAAAAAAAIAM\n",
       "MQwAAAAAAAAAABliGAAAAAAAAAAAMsQwAAAAAAAAAABkiGEAAAAAAAAAAMgQwwAAAAAAAAAAkCGG\n",
       "AQAAAAAAAAAgQwwDAAAAAAAAAECGGAYAAAAAAAAAgAwxDAAAAAAAAAAAGWIYAAAAAAAAAAAyxDAA\n",
       "AAAAAAAAAGSIYQAAAAAAAAAAyBDDAAAAAAAAAACQIYYBAAAAAAAAACBDDAMAAAAAAAAAQIYYBgAA\n",
       "AAAAAACADDEMAAAAAAAAAAAZYhgAAAAAAAAAADLEMAAAAAAAAAAAZIhhAAAAAAAAAADIEMMAAAAA\n",
       "AAAAAJAhhgEAAAAAAAAAIEMMAwAAAAAAAABAhhgGAAAAAAAAAIAMMQwAAAAAAAAAABliGAAAAAAA\n",
       "AAAAMsQwAAAAAAAAAABkiGEAAAAAAAAAAMgQwwAAAAAAAAAAkCGGAQAAAAAAAAAgQwwDAAAAAAAA\n",
       "AECGGAYAAAAAAAAAgAwxDAAAAAAAAAAAGWIYAAAAAAAAAAAyxDAAAAAAAAAAAGSIYQAAAAAAAAAA\n",
       "yBDDAAAAAAAAAACQIYYBAAAAAAAAACBDDAMAAAAAAAAAQIYYBgAAAAAAAACADDEMAAAAAAAAAAAZ\n",
       "YhgAAAAAAAAAADLEMAAAAAAAAAAAZIhhAAAAAAAAAADIEMMAAAAAAAAAAJAhhgEAAAAAAAAAIEMM\n",
       "AwAAAAAAAABAhhgGAAAAAAAAAIAMMQwAAAAAAAAAABliGAAAAAAAAAAAMsQwAAAAAAAAAABkiGEA\n",
       "AAAAAAAAAMgQwwAAAAAAAAAAkCGGAQAAAAAAAAAgQwwDAAAAAAAAAECGGAYAAAAAAAAAgAwxDAAA\n",
       "AAAAAAAAGWIYAAAAAAAAAAAyxDAAAAAAAAAAAGSIYQAAAAAAAAAAyBDDAAAAAAAAAACQIYYBAAAA\n",
       "AAAAACBDDAMAAAAAAAAAQIYYBgAAAAAAAACADDEMAAAAAAAAAAAZYhgAAAAAAAAAADLEMAAAAAAA\n",
       "AAAAZIhhAAAAAAAAAADIEMMAAAAAAAAAAJAhhgEAAAAAAAAAIEMMAwAAAAAAAABAhhgGAAAAAAAA\n",
       "AIAMMQwAAAAAAAAAABliGAAAAAAAAAAAMsQwAAAAAAAAAABkiGEAAAAAAAAAAMgQwwAAAAAAAAAA\n",
       "kCGGAQAAAAAAAAAgQwwDAAAAAAAAAECGGAYAAAAAAAAAgAwxDAAAAAAAAAAAGWIYAAAAAAAAAAAy\n",
       "xDAAAAAAAAAAAGSIYQAAAAAAAAAAyBDDAAAAAAAAAACQIYYBAAAAAAAAACBDDAMAAAAAAAAAQIYY\n",
       "BgAAAAAAAACADDEMAAAAAAAAAAAZYhgAAAAAAAAAADLEMAAAAAAAAAAAZIhhAAAAAAAAAADIEMMA\n",
       "AAAAAAAAAJAhhgEAAAAAAAAAIEMMAwAAAAAAAABAhhgGAAAAAAAAAIAMMQwAAAAAAAAAABliGAAA\n",
       "AAAAAAAAMsQwAAAAAAAAAABkiGEAAAAAAAAAAMgQwwAAAAAAAAAAkCGGAQAAAAAAAAAgQwwDAAAA\n",
       "AAAAAECGGAYAAAAAAAAAgAwxDAAAAAAAAAAAGWIYAAAAAAAAAAAyxDAAAAAAAAAAAGSIYQAAAAAA\n",
       "AAAAyBDDAAAAAAAAAACQIYYBAAAAAAAAACBDDAMAAAAAAAAAQIYYBgAAAAAAAACADDEMAAAAAAAA\n",
       "AAAZ2+l0TG+AtR3eIEz5eHqZngDLer1dpyfA2vxBYc75Mr0AAGYc+/QCAPh/D9v0AliWyzAAAAAA\n",
       "AAAAAGSIYQAAAAAAAAAAyBDDAAAAAAAAAACQIYYBAAAAAAAAACBDDAMAAAAAAAAAQIYYBgAAAAAA\n",
       "AACADDEMAAAAAAAAAAAZYhgAAAAAAAAAADLEMAAAAAAAAAAAZIhhAAAAAAAAAADIEMMAAAAAAAAA\n",
       "AJAhhgEAAAAAAAAAIEMMAwAAAAAAAABAhhgGAAAAAAAAAIAMMQwAAAAAAAAAABliGAAAAAAAAAAA\n",
       "MsQwAAAAAAAAAABkiGEAAAAAAAAAAMgQwwAAAAAAAAAAkCGGAQAAAAAAAAAgQwwDAAAAAAAAAECG\n",
       "GAYAAAAAAAAAgAwxDAAAAAAAAAAAGWIYAAAAAAAAAAAyxDAAAAAAAAAAAGSIYQAAAAAAAAAAyBDD\n",
       "AAAAAAAAAACQIYYBAAAAAAAAACBDDAMAAAAAAAAAQIYYBgAAAAAAAACADDEMAAAAAAAAAAAZYhgA\n",
       "AAAAAAAAADLEMAAAAAAAAAAAZIhhAAAAAAAAAADIEMMAAAAAAAAAAJAhhgEAAAAAAAAAIEMMAwAA\n",
       "AAAAAABAhhgGAAAAAAAAAIAMMQwAAAAAAAAAABliGAAAAAAAAAAAMsQwAAAAAAAAAABkiGEAAAAA\n",
       "AAAAAMgQwwAAAAAAAAAAkCGGAQAAAAAAAAAgQwwDAAAAAAAAAECGGAYAAAAAAAAAgAwxDAAAAAAA\n",
       "AAAAGWIYAAAAAAAAAAAyxDAAAAAAAAAAAGSIYQAAAAAAAAAAyBDDAAAAAAAAAACQIYYBAAAAAAAA\n",
       "ACBDDAMAAAAAAAAAQIYYBgAAAAAAAACADDEMAAAAAAAAAAAZYhgAAAAAAAAAADLEMAAAAAAAAAAA\n",
       "ZIhhAAAAAAAAAADIEMMAAAAAAAAAAJAhhgEAAAAAAAAAIEMMAwAAAAAAAABAhhgGAAAAAAAAAIAM\n",
       "MQwAAAAAAAAAABliGAAAAAAAAAAAMsQwAAAAAAAAAABkiGEAAAAAAAAAAMgQwwAAAAAAAAAAkCGG\n",
       "AQAAAAAAAAAgQwwDAAAAAAAAAECGGAYAAAAAAAAAgAwxDAAAAAAAAAAAGWIYAAAAAAAAAAAyxDAA\n",
       "AAAAAAAAAGSIYQAAAAAAAAAAyBDDAAAAAAAAAACQIYYBAAAAAAAAACBDDAMAAAAAAAAAQIYYBgAA\n",
       "AAAAAACADDEMAAAAAAAAAAAZYhgAAAAAAAAAADLEMAAAAAAAAAAAZIhhAAAAAAAAAADIEMMAAAAA\n",
       "AAAAAJAhhgEAAAAAAAAAIEMMAwAAAAAAAABAhhgGAAAAAAAAAIAMMQwAAAAAAAAAABliGAAAAAAA\n",
       "AAAAMsQwAAAAAAAAAABkiGEAAAAAAAAAAMgQwwAAAAAAAAAAkCGGAQAAAAAAAAAgQwwDAAAAAAAA\n",
       "AECGGAYAAAAAAAAAgAwxDAAAAAAAAAAAGWIYAAAAAAAAAAAyxDAAAAAAAAAAAGSIYQAAAAAAAAAA\n",
       "yBDDAAAAAAAAAACQIYYBAAAAAAAAACBDDAMAAAAAAAAAQIYYBgAAAAAAAACADDEMAAAAAAAAAAAZ\n",
       "YhgAAAAAAAAAADLEMAAAAAAAAAAAZIhhAAAAAAAAAADIEMMAAAAAAAAAAJAhhgEAAAAAAAAAIEMM\n",
       "AwAAAAAAAABAhhgGAAAAAAAAAIAMMQwAAAAAAAAAABliGAAAAAAAAAAAMsQwAAAAAAAAAABkiGEA\n",
       "AAAAAAAAAMgQwwAAAAAAAAAAkCGGAQAAAAAAAAAgQwwDAAAAAAAAAECGGAYAAAAAAAAAgAwxDAAA\n",
       "AAAAAAAAGWIYAAAAAAAAAAAyxDAAAAAAAAAAAGSIYQAAAAAAAAAAyBDDAAAAAAAAAACQIYYBAAAA\n",
       "AAAAACBDDAMAAAAAAAAAQIYYBgAAAAAAAACADDEMAAAAAAAAAAAZYhgAAAAAAAAAADLEMAAAAAAA\n",
       "AAAAZIhhAAAAAAAAAADIEMMAAAAAAAAAAJAhhgEAAAAAAAAAIEMMAwAAAAAAAABAhhgGAAAAAAAA\n",
       "AIAMMQwAAAAAAAAAABliGAAAAAAAAAAAMsQwAAAAAAAAAABkiGEAAAAAAAAAAMgQwwAAAAAAAAAA\n",
       "kCGGAQAAAAAAAAAgQwwDAAAAAAAAAECGGAYAAAAAAAAAgAwxDAAAAAAAAAAAGWIYAAAAAAAAAAAy\n",
       "xDAAAAAAAAAAAGSIYQAAAAAAAAAAyBDDAAAAAAAAAACQIYYBAAAAAAAAACBDDAMAAAAAAAAAQIYY\n",
       "BgAAAAAAAACADDEMAAAAAAAAAAAZYhgAAAAAAAAAADLEMAAAAAAAAAAAZIhhAAAAAAAAAADIEMMA\n",
       "AAAAAAAAAJAhhgEAAAAAAAAAIEMMAwAAAAAAAABAhhgGAAAAAAAAAIAMMQwAAAAAAAAAABliGAAA\n",
       "AAAAAAAAMsQwAAAAAAAAAABkiGEAAAAAAAAAAMgQwwAAAAAAAAAAkCGGAQAAAAAAAAAgQwwDAAAA\n",
       "AAAAAECGGAYAAAAAAAAAgAwxDAAAAAAAAAAAGWIYAAAAAAAAAAAyxDAAAAAAAAAAAGSIYQAAAAAA\n",
       "AAAAyBDDAAAAAAAAAACQIYYBAAAAAAAAACBDDAMAAAAAAAAAQIYYBgAAAAAAAACADDEMAPDHvh3b\n",
       "NBREURT0twmpgQCR0BhFUZNbIKAHp3xTxpPOm6ngJiuttGcBAAAAAAAgQwwDAAAAAAAAAECGGAYA\n",
       "AAAAAAAAgAwxDAAAAAAAAAAAGWIYAAAAAAAAAAAyxDAAAAAAAAAAAGSIYQAAAAAAAAAAyBDDAAAA\n",
       "AAAAAACQIYYBAAAAAAAAACBDDAMAAAAAAAAAQIYYBgAAAAAAAACADDEMAAAAAAAAAAAZYhgAAAAA\n",
       "AAAAADLEMAAAAAAAAAAAZIhhAAAAAAAAAADIEMMAAAAAAAAAAJAhhgEAAAAAAAAAIEMMAwAAAAAA\n",
       "AABAhhgGAAAAAAAAAIAMMQwAAAAAAAAAABliGAAAAAAAAAAAMsQwAAAAAAAAAABkiGEAAAAAAAAA\n",
       "AMgQwwAAAAAAAAAAkCGGAQAAAAAAAAAgQwwDAAAAAAAAAECGGAYAAAAAAAAAgAwxDAAAAAAAAAAA\n",
       "GWIYAAAAAAAAAAAyxDAAAAAAAAAAAGSIYQAAAAAAAAAAyBDDAAAAAAAAAACQIYYBAAAAAAAAACBD\n",
       "DAMAAAAAAAAAQIYYBgAAAAAAAACADDEMAAAAAAAAAAAZYhgAAAAAAAAAADLEMAAAAAAAAAAAZIhh\n",
       "AAAAAAAAAADIEMMAAAAAAAAAAJAhhgEAAAAAAAAAIEMMAwAAAAAAAABAhhgGAAAAAAAAAIAMMQwA\n",
       "AAAAAAAAABliGAAAAAAAAAAAMsQwAAAAAAAAAABkiGEAAAAAAAAAAMgQwwAAAAAAAAAAkCGGAQAA\n",
       "AAAAAAAgQwwDAAAAAAAAAECGGAYAAAAAAAAAgAwxDAAAAAAAAAAAGWIYAAAAAAAAAAAyxDAAAAAA\n",
       "AAAAAGSIYQAAAAAAAAAAyBDDAAAAAAAAAACQIYYBAAAAAAAAACBDDAMAAAAAAAAAQIYYBgAAAAAA\n",
       "AACADDEMAAAAAAAAAAAZYhgAAAAAAAAAADLEMAAAAAAAAAAAZIhhAAAAAAAAAADIEMMAAAAAAAAA\n",
       "AJAhhgEAAAAAAAAAIEMMAwAAAAAAAABAxsvlckxvgNW+X9+mJ8BaX4/f6Qmw16HJhlnP6QEAAGxz\n",
       "vU0vgL08BcIgBxCmeIUAAAAAAAAAACBDDAMAAAAAAAAAQIYYBgAAAAAAAACADDEMAAAAAAAAAAAZ\n",
       "YhgAAAAAAAAAADLEMAAAAAAAAAAAZIhhAAAAAAAAAADIEMMAAAAAAAAAAJAhhgEAAAAAAAAAIEMM\n",
       "AwAAAAAAAABAhhgGAAAAAAAAAIAMMQwAAAAAAAAAABliGAAAAAAAAAAAMsQwAAAAAAAAAABkiGEA\n",
       "AAAAAAAAAMgQwwAAAAAAAAAAkCGGAQAAAAAAAAAgQwwDAAAAAAAAAECGGAYAAAAAAAAAgAwxDAAA\n",
       "AAAAAAAAGWIYAAAAAAAAAAAyxDAAAAAAAAAAAGSIYQAAAAAAAAAAyBDDAAAAAAAAAACQIYYBAAAA\n",
       "AAAAACBDDAMAAAAAAAAAQIYYBgAAAAAAAACADDEMAAAAAAAAAAAZYhgAAAAAAAAAADLEMAAAAAAA\n",
       "AAAAZIhhAAAAAAAAAADIEMMAAAAAAAAAAJAhhgEAAAAAAAAAIEMMAwAAAAAAAABAhhgGAAAAAAAA\n",
       "AIAMMQwAAAAAAAAAABliGAAAAAAAAAAAMsQwAAAAAAAAAABkiGEAAAAAAAAAAMgQwwAAAAAAAAAA\n",
       "kCGGAQAAAAAAAAAgQwwDAAAAAAAAAECGGAYAAAAAAAAAgAwxDAAAAAAAAAAAGWIYAAAAAAAAAAAy\n",
       "xDAAAAAAAAAAAGSIYQAAAAAAAAAAyBDDAAAAAAAAAACQIYYBAAAAAAAAACBDDAMAAAAAAAAAQIYY\n",
       "BgAAAAAAAACADDEMAAAAAAAAAAAZYhgAAAAAAAAAADLEMAAAAAAAAAAAZIhhAAAAAAAAAADIEMMA\n",
       "AAAAAAAAAJAhhgEAAAAAAAAAIEMMAwAAAAAAAABAhhgGAAAAAAAAAIAMMQwAAAAAAAAAABliGAAA\n",
       "AAAAAAAAMsQwAAAAAAAAAABkiGEAAAAAAAAAAMgQwwAAAAAAAAAAkCGGAQAAAAAAAAAgQwwDAAAA\n",
       "AAAAAECGGAYAAAAAAAAAgAwxDAAAAAAAAAAAGWIYAAAAAAAAAAAyxDAAAAAAAAAAAGSIYQAAAAAA\n",
       "AAAAyBDDAAAAAAAAAACQIYYBAAAAAAAAACBDDAMAAAAAAAAAQIYYBgAAAAAAAACADDEMAAAAAAAA\n",
       "AAAZYhgAAAAAAAAAADLEMAAAAAAAAAAAZIhhAAAAAAAAAADIEMMAAAAAAAAAAJAhhgEAAAAAAAAA\n",
       "IEMMAwAAAAAAAABAhhgGAAAAAAAAAIAMMQwAAAAAAAAAABliGAAAAAAAAAAAMsQwAAAAAAAAAABk\n",
       "iGEAAAAAAAAAAMgQwwAAAAAAAAAAkCGGAQAAAAAAAAAgQwwDAAAAAAAAAECGGAYAAAAAAAAAgAwx\n",
       "DAAAAAAAAAAAGWIYAAAAAAAAAAAyxDAAAAAAAAAAAGSIYQAAAAAAAAAAyBDDAAAAAAAAAACQIYYB\n",
       "AAAAAAAAACBDDAMAAAAAAAAAQIYYBgAAAAAAAACADDEMAAAAAAAAAAAZYhgAAAAAAAAAADLEMAAA\n",
       "AAAAAAAAZIhhAAAAAAAAAADIEMMAAAAAAAAAAJAhhgEAAAAAAAAAIEMMAwAAAAAAAABAhhgGAAAA\n",
       "AAAAAIAMMQwAAAAAAAAAABliGAAAAAAAAAAAMsQwAAAAAAAAAABkiGEAAAAAAAAAAMgQwwAAAAAA\n",
       "AAAAkCGGAQAAAAAAAAAgQwwDAAAAAAAAAECGGAYAAAAAAAAAgAwxDAAAAAAAAAAAGWIYAAAAAAAA\n",
       "AAAyxDAAAAAAAAAAAGSIYQAAAAAAAAAAyBDDAAAAAAAAAACQIYYBAAAAAAAAACBDDAMAAAAAAAAA\n",
       "QIYYBgAAAAAAAACADDEMAAAAAAAAAAAZYhgAAAAAAAAAADLEMAAAAAAAAAAAZIhhAAAAAAAAAADI\n",
       "EMMAAAAAAAAAAJAhhgEAAAAAAAAAIEMMAwAAAAAAAABAhhgGAAAAAAAAAIAMMQwAAAAAAAAAABli\n",
       "GAAAAAAAAAAAMsQwAAAAAAAAAABkiGEAAAAAAAAAAMgQwwAAAAAAAAAAkCGGAQAAAAAAAAAgQwwD\n",
       "AAAAAAAAAECGGAYAAAAAAAAAgAwxDAAAAAAAAAAAGWIYAAAAAAAAAAAyxDAAAAAAAAAAAGSIYQAA\n",
       "AAAAAAAAyBDDAAAAAAAAAACQIYYBAAAAAAAAACBDDAMAAAAAAAAAQIYYBgAAAAAAAACADDEMAAAA\n",
       "AAAAAAAZYhgAAAAAAAAAADLEMAAAAAAAAAAAZIhhAAAAAAAAAADIEMMAAAAAAAAAAJAhhgEAAAAA\n",
       "AAAAIEMMAwAAAAAAAABAhhgGAAAAAAAAAIAMMQwAAAAAAAAAABliGAAAAAAAAAAAMsQwAAAAAAAA\n",
       "AABkiGEAAAAAAAAAAMgQwwAAAAAAAAAAkCGGAQAAAAAAAAAgQwwDAAAAAAAAAECGGAYAAAAAAAAA\n",
       "gAwxDAAAAAAAAAAAGWIYAAAAAAAAAAAyxDAAAAAAAAAAAGSIYQAAAAAAAAAAyBDDAAAAAAAAAACQ\n",
       "IYYBAAAAAAAAACBDDAMAAAAAAAAAQIYYBgAAAAAAAACADDEMAAAAAAAAAAAZYhgAAAAAAAAAADLE\n",
       "MAAAAAAAAAAAZIhhAAAAAAAAAADIEMMAAAAAAAAAAJAhhgEAAAAAAAAAIEMMAwAAAAAAAABAhhgG\n",
       "AAAAAAAAAIAMMQwAAAAAAAAAABliGAAAAAAAAAAAMsQwAAAAAAAAAABkiGEAAAAAAAAAAMgQwwAA\n",
       "AAAAAAAAkCGGAQAAAAAAAAAgQwwDAAAAAAAAAECGGAYAAAAAAAAAgAwxDAAAAAAAAAAAGWIYAAAA\n",
       "AAAAAAAyxDAAAAAAAAAAAGSIYQAAAAAAAAAAyBDDAAAAAAAAAACQIYYBAAAAAAAAACBDDAMAAAAA\n",
       "AAAAQIYYBgAAAAAAAACADDEMAAAAAAAAAAAZYhgAAAAAAAAAADLEMAAAAAAAAAAAZIhhAAAAAAAA\n",
       "AADIEMMAAAAAAAAAAJAhhgEAAAAAAAAAIEMMAwAAAAAAAABAhhgGAAAAAAAAAIAMMQwAAAAAAAAA\n",
       "ABliGAAAAAAAAAAAMsQwAAAAAAAAAABkiGEAAAAAAAAAAMgQwwAAAAAAAAAAkCGGAQAAAAAAAAAg\n",
       "QwwDAAAAAAAAAECGGAYAAAAAAAAAgAwxDAAAAAAAAAAAGWIYAAAAAAAAAAAyxDAAAAAAAAAAAGSI\n",
       "YQAAAAAAAAAAyBDDAAAAAAAAAACQIYYBAAAAAAAAACBDDAMAAAAAAAAAQIYYBgAAAAAAAACADDEM\n",
       "AAAAAAAAAAAZYhgAAAAAAAAAADLEMAAAAAAAAAAAZIhhAAAAAAAAAADIEMMAAAAAAAAAAJAhhgEA\n",
       "AAAAAAAAIEMMAwAAAAAAAACzabyrAAALTElEQVRAhhgGAAAAAAAAAIAMMQwAAAAAAAAAABliGAAA\n",
       "AAAAAAAAMsQwAAAAAAAAAABkiGEAAAAAAAAAAMgQwwAAAAAAAAAAkCGGAQAAAAAAAAAgQwwDAAAA\n",
       "AAAAAECGGAYAAAAAAAAAgAwxDAAAAAAAAAAAGWIYAAAAAAAAAAAyxDAAAAAAAAAAAGSIYQAAAAAA\n",
       "AAAAyBDDAAAAAAAAAACQIYYBAAAAAAAAACDj+Pn8eE6PgM3e7/fpCbDX+Te9APa63qYXAACwzXlO\n",
       "L4Ddrv7mArCQOyiMcfsEAAAAAAAAACBDDAMAAAAAAAAAQIYYBgAAAAAAAACADDEMAAAAAAAAAAAZ\n",
       "YhgAAAAAAAAAADLEMAAAAAAAAAAAZIhhAAAAAAAAAADIEMMAAAAAAAAAAJAhhgEAAAAAAAAAIEMM\n",
       "AwAAAAAAAABAhhgGAAAAAAAAAIAMMQwAAAAAAAAAABliGAAAAAAAAAAAMsQwAAAAAAAAAABkiGEA\n",
       "AAAAAAAAAMgQwwAAAAAAAAAAkCGGAQAAAAAAAAAgQwwDAAAAAAAAAECGGAYAAAAAAAAAgAwxDAAA\n",
       "AAAAAAAAGWIYAAAAAAAAAAAyxDAAAAAAAAAAAGSIYQAAAAAAAAAAyBDDAAAAAAAAAACQIYYBAAAA\n",
       "AAAAACBDDAMAAAAAAAAAQIYYBgAAAAAAAACADDEMAAAAAAAAAAAZYhgAAAAAAAAAADLEMAAAAAAA\n",
       "AAAAZIhhAAAAAAAAAADIEMMAAAAAAAAAAJAhhgEAAAAAAAAAIEMMAwAAAAAAAABAhhgGAAAAAAAA\n",
       "AIAMMQwAAAAAAAAAABliGAAAAAAAAAAAMsQwAAAAAAAAAABkiGEAAAAAAAAAAMgQwwAAAAAAAAAA\n",
       "kCGGAQAAAAAAAAAgQwwDAAAAAAAAAECGGAYAAAAAAAAAgAwxDAAAAAAAAAAAGWIYAAAAAAAAAAAy\n",
       "xDAAAAAAAAAAAGSIYQAAAAAAAAAAyBDDAAAAAAAAAACQIYYBAAAAAAAAACBDDAMAAAAAAAAAQIYY\n",
       "BgAAAAAAAACADDEMAAAAAAAAAAAZYhgAAAAAAAAAADLEMAAAAAAAAAAAZIhhAAAAAAAAAADIEMMA\n",
       "AAAAAAAAAJAhhgEAAAAAAAAAIEMMAwAAAAAAAABAhhgGAAAAAAAAAIAMMQwAAAAAAAAAABliGAAA\n",
       "AAAAAAAAMsQwAAAAAAAAAABkiGEAAAAAAAAAAMgQwwAAAAAAAAAAkCGGAQAAAAAAAAAgQwwDAAAA\n",
       "AAAAAECGGAYAAAAAAAAAgAwxDAAAAAAAAAAAGWIYAAAAAAAAAAAyxDAAAAAAAAAAAGSIYQAAAAAA\n",
       "AAAAyBDDAAAAAAAAAACQIYYBAAAAAAAAACBDDAMAAAAAAAAAQIYYBgAAAAAAAACADDEMAAAAAAAA\n",
       "AAAZYhgAAAAAAAAAADLEMAAAAAAAAAAAZIhhAAAAAAAAAADIEMMAAAAAAAAAAJAhhgEAAAAAAAAA\n",
       "IEMMAwAAAAAAAABAhhgGAAAAAAAAAIAMMQwAAAAAAAAAABliGAAAAAAAAAAAMsQwAAAAAAAAAABk\n",
       "iGEAAAAAAAAAAMgQwwAAAAAAAAAAkCGGAQAAAAAAAAAgQwwDAAAAAAAAAECGGAYAAAAAAAAAgAwx\n",
       "DAAAAAAAAAAAGWIYAAAAAAAAAAAyxDAAAAAAAAAAAGSIYQAAAAAAAAAAyBDDAAAAAAAAAACQIYYB\n",
       "AAAAAAAAACBDDAMAAAAAAAAAQIYYBgAAAAAAAACADDEMAAAAAAAAAAAZYhgAAAAAAAAAADLEMAAA\n",
       "AAAAAAAAZIhhAAAAAAAAAADIEMMAAAAAAAAAAJAhhgEAAAAAAAAAIEMMAwAAAAAAAABAhhgGAAAA\n",
       "AAAAAIAMMQwAAAAAAAAAABliGAAAAAAAAAAAMsQwAAAAAAAAAABkiGEAAAAAAAAAAMgQwwAAAAAA\n",
       "AAAAkCGGAQAAAAAAAAAgQwwDAAAAAAAAAECGGAYAAAAAAAAAgAwxDAAAAAAAAAAAGWIYAAAAAAAA\n",
       "AAAyxDAAAAAAAAAAAGSIYQAAAAAAAAAAyBDDAAAAAAAAAACQIYYBAAAAAAAAACBDDAMAAAAAAAAA\n",
       "QIYYBgAAAAAAAACADDEMAAAAAAAAAAAZYhgAAAAAAAAAADLEMAAAAAAAAAAAZIhhAAAAAAAAAADI\n",
       "EMMAAAAAAAAAAJAhhgEAAAAAAAAAIEMMAwAAAAAAAABAhhgGAAAAAAAAAIAMMQwAAAAAAAAAABli\n",
       "GAAAAAAAAAAAMsQwAAAAAAAAAABkiGEAAAAAAAAAAMgQwwAAAAAAAAAAkCGGAQAAAAAAAAAgQwwD\n",
       "AAAAAAAAAECGGAYAAAAAAAAAgAwxDAAAAAAAAAAAGWIYAAAAAAAAAAAyxDAAAAAAAAAAAGSIYQAA\n",
       "AAAAAAAAyBDDAAAAAAAAAACQIYYBAAAAAAAAACBDDAMAAAAAAAAAQIYYBgAAAAAAAACADDEMAAAA\n",
       "AAAAAAAZYhgAAAAAAAAAADLEMAAAAAAAAAAAZIhhAAAAAAAAAADIEMMAAAAAAAAAAJAhhgEAAAAA\n",
       "AAAAIEMMAwAAAAAAAABAhhgGAAAAAAAAAIAMMQwAAAAAAAAAABliGAAAAAAAAAAAMsQwAAAAAAAA\n",
       "AABkiGEAAPhv1w5kAAAAAAb5W9/jK44AAAAAAAA2ZBgAAAAAAAAAADZkGAAAAAAAAAAANmQYAAAA\n",
       "AAAAAAA2ZBgAAAAAAAAAADZkGAAAAAAAAAAANmQYAAAAAAAAAAA2ZBgAAAAAAAAAADZkGAAAAAAA\n",
       "AAAANmQYAAAAAAAAAAA2ZBgAAAAAAAAAADZkGAAAAAAAAAAANmQYAAAAAAAAAAA2ZBgAAAAAAAAA\n",
       "ADZkGAAAAAAAAAAANmQYAAAAAAAAAAA2ZBgAAAAAAAAAADZkGAAAAAAAAAAANmQYAAAAAAAAAAA2\n",
       "ZBgAAAAAAAAAADZkGAAAAAAAAAAANmQYAAAAAAAAAAA2ZBgAAAAAAAAAADZkGAAAAAAAAAAANmQY\n",
       "AAAAAAAAAAA2ZBgAAAAAAAAAADZkGAAAAAAAAAAANmQYAAAAAAAAAAA2ZBgAAAAAAAAAADZkGAAA\n",
       "AAAAAAAANmQYAAAAAAAAAAA2ZBgAAAAAAAAAADZkGAAAAAAAAAAANmQYAAAAAAAAAAA2ZBgAAAAA\n",
       "AAAAADZkGAAAAAAAAAAANmQYAAAAAAAAAAA2ZBgAAAAAAAAAADZkGAAAAAAAAAAANmQYAAAAAAAA\n",
       "AAA2ZBgAAAAAAAAAADZkGAAAAAAAAAAANmQYAAAAAAAAAAA2ZBgAAAAAAAAAADZkGAAAAAAAAAAA\n",
       "NmQYAAAAAAAAAAA2ZBgAAAAAAAAAADZkGAAAAAAAAAAANmQYAAAAAAAAAAA2ZBgAAAAAAAAAADZk\n",
       "GAAAAAAAAAAANmQYAAAAAAAAAAA2ZBgAAAAAAAAAADZkGAAAAAAAAAAANmQYAAAAAAAAAAA2ZBgA\n",
       "AAAAAAAAADZkGAAAAAAAAAAANmQYAAAAAAAAAAA2ZBgAAAAAAAAAADZkGAAAAAAAAAAANmQYAAAA\n",
       "AAAAAAA2ZBgAAAAAAAAAADZkGAAAAAAAAAAANmQYAAAAAAAAAAA2ZBgAAAAAAAAAADZkGAAAAAAA\n",
       "AAAANmQYAAAAAAAAAAA2ZBgAAAAAAAAAADZkGAAAAAAAAAAANmQYAAAAAAAAAAA2ZBgAAAAAAAAA\n",
       "ADZkGAAAAAAAAAAANmQYAAAAAAAAAAA2ZBgAAAAAAAAAADZkGAAAAAAAAAAANmQYAAAAAAAAAAA2\n",
       "ZBgAAAAAAAAAADZkGAAAAAAAAAAANmQYAAAAAAAAAAA2ZBgAAAAAAAAAADZkGAAAAAAAAAAANmQY\n",
       "AAAAAAAAAAA2As8EbH7NEcJiAAAAAElFTkSuQmCC\n",
       "\" transform=\"translate(230, 154)\"/>\n",
       "</g>\n",
       "<defs>\n",
       "  <clipPath id=\"clip573\">\n",
       "    <rect x=\"2528\" y=\"153\" width=\"85\" height=\"2417\"/>\n",
       "  </clipPath>\n",
       "</defs>\n",
       "<g clip-path=\"url(#clip573)\">\n",
       "<image width=\"84\" height=\"2416\" xlink:href=\"data:image/png;base64,\n",
       "iVBORw0KGgoAAAANSUhEUgAAAFQAAAlwCAYAAAAVzhIyAAAViUlEQVR4nO3dQWokMQAEQUnU1f/H\n",
       "r7U/kTAwRLxgSerQvVJ77u/5+Ttk3qf/Ad9G0JigMUFjgsYEjQkaEzQmaGz30/+CL2OhMUFjgsYE\n",
       "jQkaEzQmaEzQ2K4n+5SFxgSNCRoTNCZoTNCYoDFBY4LG9o5XpZKFxgSNCRoTNCZoTNCYoDFBY45A\n",
       "YhYaEzQmaEzQmKAxQWOCxgSNCRrb9aqUstCYoDFBY4LGBI0JGhM0Jmhsirb0jAkaEzQmaEzQmKAx\n",
       "QWOCxgSNOQKJWWhM0JigMUFjgsYEjQkaEzTmK5CYhcYEjQkaEzQmaEzQmKAxQWPuNsX0jAkaEzQm\n",
       "aEzQmKAxQWOCxgSNudsUs9CYoDFBY4LGBI0JGhM0Jmhsz3N9ykJjgsYEjQkaEzQmaEzQmKAxQWO7\n",
       "fuQvZaExQWOCxgSNCRoTNCZoTNCYz7tjFhoTNCZoTNCYoDFBY4LGBI0JGtvzqpSy0JigMUFjgsYE\n",
       "jQkaEzQmaGwe61sWGhM0JmhM0JigMUFjgsYEjfm7TTELjQkaEzQmaEzQmKAxQWOCxgSN+UNYMQuN\n",
       "CRoTNCZoTNCYoDFBY4LG3G2KWWhM0JigMUFjgsYEjQkaEzQmaMzn3TELjQkaEzQmaEzQmKAxQWOC\n",
       "xvyF25iFxgSNCRoTNCZoTNCYoDFBY4LG/MhfzEJjgsYEjQkaEzQmaEzQmKAxn3fHLDQmaEzQmKAx\n",
       "QWOCxgSNCRoTNOZPBscsNCZoTNCYoDFBY4LGBI0JGvOHsGIWGhM0JmhM0JigMUFjgsYEjfm7TTEL\n",
       "jQkaEzQmaEzQmKAxQWOCxgSN+UNYMQuNCRoTNCZoTNCYoDFBY4LGpmhLz5igMUFjgsYEjQkaEzQm\n",
       "aEzQmM+7YxYaEzQmaEzQmKAxQWOCxgSNudsUs9CYoDFBY4LGBI0JGhM0JmhM0NieH/lLWWhM0Jig\n",
       "MUFjgsYEjQkaEzTmCCRmoTFBY4LGBI0JGhM0JmhM0JiPFmIWGhM0JmhM0JigMUFjgsYEjQka84ew\n",
       "YnrGBI0JGhM0JmhM0JigMUFj7jbFLDQmaEzQmKAxQWOCxgSNCRoTNObn0GMWGhM0JmhM0JigMUFj\n",
       "gsYEjc1jfctCY4LGBI0JGhM0JmhM0JigMUFjvpePWWhM0JigMUFjgsYEjQkaEzTmK5CYhcYEjQka\n",
       "EzQmaEzQmKAxQWOCxhyBxCw0JmhM0JigMUFjgsYEjQkacwQSs9CYoDFBY4LGBI0JGhM0JmjMg33M\n",
       "QmOCxgSNCRoTNCZoTNCYoDFBY+42xSw0JmhM0JigMUFjgsYEjQkacwQSs9CYoDFBY4LGBI0JGhM0\n",
       "JmhM0JgjkJiFxgSNCRoTNCZoTNCYoDFBY45AYhYaEzQmaEzQmKAxQWOCxgSNCRpzBBKz0JigMUFj\n",
       "gsYEjQkaEzQmaMwRSMxCY4LGBI0JGhM0JmhM0JigMQ/2MQuNCRoTNCZoTNCYoDFBY4LGBI252xSz\n",
       "0JigMUFjgsYEjQkaEzQmaGwe61sWGhM0JmhM0JigMUFjgsYEjQkacwQSs9CYoDFBY4LGBI0JGhM0\n",
       "JmjMVyAxC40JGhM0JmhM0JigMUFjgsYEjXlTilloTNCYoDFBY4LGBI0JGhM05m5TzEJjgsYEjQka\n",
       "EzQmaEzQmKAxQWOOQGIWGhM0JmhM0JigMUFjgsYEjTkCiVloTNCYoDFBY4LGBI0JGhM05n/sYxYa\n",
       "EzQmaEzQmKAxQWOCxgSNCRrzphSz0JigMUFjgsYEjQkaEzQmaMzdppiFxgSNCRoTNCZoTNCYoDFB\n",
       "Y4LGHIHELDQmaEzQmKAxQWOCxgSNCRpzBBKz0JigMUFjgsYEjQkaEzQmaEzQmCOQmIXGBI0JGhM0\n",
       "JmhM0JigMUFjjkBiFhoTNCZoTNCYoDFBY4LGBI35H/uYhcYEjQkaEzQmaEzQmKAxQWOCxrwpxSw0\n",
       "JmhM0JigMUFjgsYEjQkac7cpZqExQWOCxgSNCRoTNCZoTNCYoDFHIDELjQkaEzQmaEzQmKAxQWOC\n",
       "xhyBxCw0JmhM0JigMUFjgsYEjQkaEzTmCCRmoTFBY4LGBI0JGhM0JmhM0JgH+5iFxgSNCRoTNCZo\n",
       "TNCYoDFBY4LGXBaLWWhM0JigMUFjgsYEjQkaEzTmCCRmoTFBY4LGBI0JGhM0JmhM0NiOJ/uUhcYE\n",
       "jQkaEzQmaEzQmKAxQWOCxtxtilloTNCYoDFBY4LGBI0JGhM0tuO5PmWhMUFjgsYEjQkaEzQmaEzQ\n",
       "mKAxl8ViFhoTNCZoTNCYoDFBY4LGBI3tPg/2JQuNCRoTNCZoTNCYoDFBY4LGBI05AolZaEzQmKAx\n",
       "QWOCxgSNCRoTNObBPmahMUFjgsYEjQkaEzQmaEzQ2K6kKTljgsYEjQkaEzQmaEzQmKAxQWOOQGIW\n",
       "GhM0JmhM0JigMUFjgsYEjXmwj1loTNCYoDFBY4LGBI0JGhM0JmjMH8KKWWhM0JigMUFjgsYEjQka\n",
       "EzTmCCRmoTFBY4LGBI0JGhM0JmhM0JigMW9KMQuNCRoTNCZoTNCYoDFBY4LG5rm+ZaExQWOCxgSN\n",
       "CRoTNCZoTNCYoLEdX4GkLDQmaEzQmKAxQWOCxgSNCRpztylmoTFBY4LGBI0JGhM0JmhM0NiuB/uU\n",
       "hcYEjQkaEzQmaEzQmKAxQWOCxtxtilloTNCYoDFBY4LGBI0JGhM0tuO5PmWhMUFjgsYEjQkaEzQm\n",
       "aEzQmKAxl8ViFhoTNCZoTNCYoDFBY4LGBI35vDtmoTFBY4LGBI0JGhM0JmhM0JigMV+BxCw0JmhM\n",
       "0JigMUFjgsYEjQkac7cpZqExQWOCxgSNCRoTNCZoTNCYu00xC40JGhM0JmhM0JigMUFjgsYEjU3S\n",
       "lpwxQWOCxgSNCRoTNCZoTNCYu00xC40JGhM0JmhM0JigMUFjgsYEjbksFrPQmKAxQWOCxgSNCRoT\n",
       "NCZozN9tilloTNCYoDFBY4LGBI0JGhM0JmjMZbGYhcYEjQkaEzQmaEzQmKAxQWM7nutTFhoTNCZo\n",
       "TNCYoDFBY4LGBI0JGvMVSMxCY4LGBI0JGhM0JmhM0JigsV1fgaQsNCZoTNCYoDFBY4LGBI0JGvM/\n",
       "9jELjQkaEzQmaEzQmKAxQWOCxgSNeVOKWWhM0JigMUFjgsYEjQkaEzTmblPMQmOCxgSNCRoTNCZo\n",
       "TNCYoDFBY/4QVsxCY4LGBI0JGhM0JmhM0JigMXebYhYaEzQmaEzQmKAxQWOCxgSNCRrzphSz0Jig\n",
       "MUFjgsYEjQkaEzQmaMyDfcxCY4LGBI0JGhM0JmhM0JigsR2fd6csNCZoTNCYoDFBY4LGBI0JGhM0\n",
       "tns1LakZEzQmaEzQmKAxQWOCxgSNudsUs9CYoDFBY4LGBI0JGhM0JmhM0Jg3pZiFxgSNCRoTNCZo\n",
       "TNCYoDFBYx7sYxYaEzQmaEzQmKAxQWOCxgSNCRrzphSz0JigMUFjgsYEjQkaEzQmaMyDfcxCY4LG\n",
       "BI0JGhM0JmhM0JigMUFj3pRiFhoTNCZoTNCYoDFBY4LGBI15sI9ZaEzQmKAxQWOCxgSNCRoTNObB\n",
       "PmahMUFjgsYEjQkaEzQmaEzQmKAxP4ces9CYoDFBY4LGBI0JGhM0Jmhsx693p9SMCRoTNCZoTNCY\n",
       "oDFBY4LGBI25LBaz0JigMUFjgsYEjQkaEzQmaMyDfcxCY4LGBI0JGhM0JmhM0JigMUFj3pRiFhoT\n",
       "NCZoTNCYoDFBY4LGBI15sI9ZaEzQmKAxQWOCxgSNCRoTNObBPmahMUFjgsYEjQkaEzQmaEzQmKAx\n",
       "b0oxC40JGhM0JmhM0JigMUFjgsY82McsNCZoTNCYoDFBY4LGBI0JGhM05k0pZqExQWOCxgSNCRoT\n",
       "NCZoTNCYX++OWWhM0JigMUFjgsYEjQkaEzQmaMzPocfUjAkaEzQmaEzQmKAxQWOCxtxtilloTNCY\n",
       "oDFBY4LGBI0JGhM0JmjMm1LMQmOCxgSNCRoTNCZoTNCYoDEP9jELjQkaEzQmaEzQmKAxQWOCxjzY\n",
       "xyw0JmhM0JigMUFjgsYEjQkaEzTmTSlmoTFBY4LGBI0JGhM0JmhM0JgH+5iFxgSNCRoTNCZoTNCY\n",
       "oDFBY4LGvCnFLDQmaEzQmKAxQWOCxgSNCRrzYB+z0JigMUFjgsYEjQkaEzQmaEzQmJ9Dj1loTNCY\n",
       "oDFBY4LGBI0JGhM05te7Y2rGBI0JGhM0JmhM0JigMUFj7jbFLDQmaEzQmKAxQWOCxgSNCRoTNOZN\n",
       "KWahMUFjgsYEjQkaEzQmaEzQmAf7mIXGBI0JGhM0JmhM0JigMUFjgsa8KcUsNCZoTNCYoDFBY4LG\n",
       "BI0JGvNgH7PQmKAxQWOCxgSNCRoTNCZoTNCYP4QVUzMmaEzQmKAxQWOCxgSNCRpzBBKz0JigMUFj\n",
       "gsYEjQkaEzQmaEzQmB/5i1loTNCYoDFBY4LGBI0JGhM05m5TTM2YoDFBY4LGBI0JGhM0JmjM3aaY\n",
       "hcYEjQkaEzQmaEzQmKAxQWOCxrwpxSw0JmhM0JigMUFjgsYEjQka82Afs9CYoDFBY4LGBI0JGhM0\n",
       "JmhM0JivQGJqxgSNCRoTNCZoTNCYoDFBY45AYhYaEzQmaEzQmKAxQWOCxgSNCRrzphSz0JigMUFj\n",
       "gsYEjQkaEzQmaMzdppiaMUFjgsYEjQkaEzQmaEzQmN+ki1loTNCYoDFBY4LGBI0JGhM0JmjM3aaY\n",
       "hcYEjQkaEzQmaEzQmKAxQWMe7GMWGhM0JmhM0JigMUFjgsYEjQka8xVITM2YoDFBY4LGBI0JGhM0\n",
       "JmjMEUjMQmOCxgSNCRoTNCZoTNCYoDFBY96UYhYaEzQmaEzQmKAxQWOCxgSNudsUUzMmaEzQmKAx\n",
       "QWOCxgSNCRoTNOYIJGahMUFjgsYEjQkaEzQmaEzQmN8CiVloTNCYoDFBY4LGBI0JGhM05n/sYxYa\n",
       "EzQmaEzQmKAxQWOCxgSNCRrzFUhMzZigMUFjgsYEjQkaEzQmaMwRSMxCY4LGBI0JGhM0JmhM0Jig\n",
       "MUFj3pRiFhoTNCZoTNCYoDFBY4LGBI252xRTMyZoTNCYoDFBY4LGBI0JGhM05ggkZqExQWOCxgSN\n",
       "CRoTNCZoTNCYB/uYhcYEjQkaEzQmaEzQmKAxQWN+uiJmoTFBY4LGBI0JGhM0JmhM0JigMV+BxNSM\n",
       "CRoTNCZoTNCYoDFBY4LG3G2KWWhM0JigMUFjgsYEjQkaEzQmaMybUsxCY4LGBI0JGhM0JmhM0Jig\n",
       "MXebYmrGBI0JGhM0JmhM0JigMUFjgsYcgcQsNCZoTNCYoDFBY4LGBI0JGvNgH7PQmKAxQWOCxgSN\n",
       "CRoTNCZoTNCYy2IxNWOCxgSNCRoTNCZoTNCYoLFdRyApC40JGhM0JmhM0JigMUFjgsbcbYpZaEzQ\n",
       "mKAxQWOCxgSNCRoTNCZozN2mmJoxQWOCxgSNCRoTNCZoTNCYI5CYhcYEjQkaEzQmaEzQmKAxQWOC\n",
       "xrwpxSw0JmhM0JigMUFjgsYEjQkac7cppmZM0JigMUFjgsYEjQkaEzQmaMwRSMxCY4LGBI0JGhM0\n",
       "JmhM0JigMQ/2MQuNCRoTNCZoTNCYoDFBY4LG3G2KqRkTNCZoTNCYoDFBY4LGBI0JGnMEErPQmKAx\n",
       "QWOCxgSNCRoTNCZozIN9zEJjgsYEjQkaEzQmaEzQmKAxQWMui8XUjAkaEzQmaEzQmKAxQWOCxhyB\n",
       "xCw0JmhM0JigMUFjgsYEjQkaEzTmTSlmoTFBY4LGBI0JGhM0JmhM0NjO07SkZkzQmKAxQWOCxgSN\n",
       "CRoTNCZozBFIzEJjgsYEjQkaEzQmaEzQmKAxn3fH1IwJGhM0JmhM0JigMUFjgsb8j33MQmOCxgSN\n",
       "CRoTNCZoTNCYoDFBY7velFIWGhM0JmhM0JigMUFjgsYEjbnbFFMzJmhM0JigMUFjgsYEjQkaEzTm\n",
       "sljMQmOCxgSNCRoTNCZoTNCYoDEP9jELjQkaEzQmaEzQmKAxQWOCxgSNuSwWUzMmaEzQmKAxQWOC\n",
       "xgSNCRpzBBKz0JigMUFjgsYEjQkaEzQmaMyDfcxCY4LGBI0JGhM0JmhM0JigMUFj7jbF1IwJGhM0\n",
       "JmhM0JigMUFjgsYcgcQsNCZoTNCYoDFBY4LGBI0JGhM05k0pZqExQWOCxgSNCRoTNCZoTNCYu00x\n",
       "NWOCxgSNCRoTNCZoTNCYoDFBY45AYhYaEzQmaEzQmKAxQWOCxgSNebCPWWhM0JigMUFjgsYEjQka\n",
       "EzQmaMxlsZiaMUFjgsYEjQkaEzQmaEzQmCOQmIXGBI0JGhM0JmhM0JigMUFjHuxjFhoTNCZoTNCY\n",
       "oDFBY4LGBI0JGnO3KaZmTNCYoDFBY4LGBI0JGhM05ggkZqExQWOCxgSNCRoTNCZoTNCYoLHd402p\n",
       "ZKExQWOCxgSNCRoTNCZoTNCYI5CYhcYEjQkaEzQmaEzQmKAxQWOCxgSNCRoTNCZoTNCYoDFBY4LG\n",
       "BI05AolZaEzQmKAxQWOCxgSNCRoTNObBPmahMUFjgsYEjQkaEzQmaEzQmKCxHZ93pyw0JmhM0Jig\n",
       "MUFjgsYEjQkacwQSs9CYoDFBY4LGBI0JGhM0JmhM0JgjkJiFxgSNCRoTNCZoTNCYoDFBY/Nc37LQ\n",
       "mKAxQWOCxgSNCRoTNCZoTNCYI5CYhcYEjQkaEzQmaEzQmKAxQWO+AolZaEzQmKAxQWOCxgSNCRoT\n",
       "NCZozJtSzEJjgsYEjQkaEzQmaEzQmKAxd5tiFhoTNCZoTNCYoDFBY4LGBI35vDtmoTFBY4LGBI0J\n",
       "GhM0JmhM0JigMUcgMQuNCRoTNCZoTNCYoDFBY4LGfLQQs9CYoDFBY4LGBI0JGhM0JmhM0Jg3pZiF\n",
       "xgSNCRoTNCZoTNCYoDFBY+42xSw0JmhM0JigMUFjgsYEjQkaEzTmCCRmoTFBY4LGBI0JGhM0JmhM\n",
       "0JigMUFjgsYEjQkaEzQmaEzQmKAx/2Mfs9CYoDFBY4LGBI0JGhM0JmhM0JivQGIWGhM0JmhM0Jig\n",
       "MUFjgsYEjTkCiVloTNCYoDFBY4LGBI0JGhM0JmjMm1LMQmOCxgSNCRoTNCZoTNCYoDFBY4LGBI0J\n",
       "GhM0JmhM0JigMUFjgsYcgcQsNCZoTNCYoDFBY4LGBI0JGvN5d8xCY4LGBI0JGhM0JmhM0JigMUFj\n",
       "jkBiFhoTNCZoTNCYoDFBY4LGBI05AolZaEzQmKAxQWOCxgSNCRoTNOZ/7GMWGhM0JmhM0JigMUFj\n",
       "gsYEjQkamxOQloXGBI0JGhM0JmhM0JigMUFj7jbFLDQmaEzQmKAxQWOCxgSNCRoTNOayWMxCY4LG\n",
       "BI0JGhM0JmhM0JigMUcgMQuNCRoTNCZoTNCYoDFBY4LGBI05AolZaEzQmKAxQWOCxgSNCRoTNDbP\n",
       "9S0LjQkaEzQmaEzQmKAxQWOCxv4BLgcYuuC8rkMAAAAASUVORK5CYII=\n",
       "\" transform=\"translate(2529, 154)\"/>\n",
       "</g>\n",
       "<path clip-path=\"url(#clip570)\" d=\"M2666.7 2552.31 Q2663.09 2552.31 2661.26 2555.87 Q2659.45 2559.42 2659.45 2566.55 Q2659.45 2573.65 2661.26 2577.22 Q2663.09 2580.76 2666.7 2580.76 Q2670.33 2580.76 2672.14 2577.22 Q2673.97 2573.65 2673.97 2566.55 Q2673.97 2559.42 2672.14 2555.87 Q2670.33 2552.31 2666.7 2552.31 M2666.7 2548.61 Q2672.51 2548.61 2675.57 2553.21 Q2678.64 2557.8 2678.64 2566.55 Q2678.64 2575.27 2675.57 2579.88 Q2672.51 2584.46 2666.7 2584.46 Q2660.89 2584.46 2657.81 2579.88 Q2654.76 2575.27 2654.76 2566.55 Q2654.76 2557.8 2657.81 2553.21 Q2660.89 2548.61 2666.7 2548.61 Z\" fill=\"#000000\" fill-rule=\"nonzero\" fill-opacity=\"1\" /><path clip-path=\"url(#clip570)\" d=\"M2655.43 2146.8 L2663.07 2146.8 L2663.07 2120.44 L2654.76 2122.11 L2654.76 2117.85 L2663.02 2116.18 L2667.7 2116.18 L2667.7 2146.8 L2675.33 2146.8 L2675.33 2150.74 L2655.43 2150.74 L2655.43 2146.8 Z\" fill=\"#000000\" fill-rule=\"nonzero\" fill-opacity=\"1\" /><path clip-path=\"url(#clip570)\" d=\"M2694.78 2119.26 Q2691.17 2119.26 2689.34 2122.82 Q2687.53 2126.36 2687.53 2133.49 Q2687.53 2140.6 2689.34 2144.17 Q2691.17 2147.71 2694.78 2147.71 Q2698.41 2147.71 2700.22 2144.17 Q2702.05 2140.6 2702.05 2133.49 Q2702.05 2126.36 2700.22 2122.82 Q2698.41 2119.26 2694.78 2119.26 M2694.78 2115.55 Q2700.59 2115.55 2703.64 2120.16 Q2706.72 2124.74 2706.72 2133.49 Q2706.72 2142.22 2703.64 2146.83 Q2700.59 2151.41 2694.78 2151.41 Q2688.97 2151.41 2685.89 2146.83 Q2682.83 2142.22 2682.83 2133.49 Q2682.83 2124.74 2685.89 2120.16 Q2688.97 2115.55 2694.78 2115.55 Z\" fill=\"#000000\" fill-rule=\"nonzero\" fill-opacity=\"1\" /><path clip-path=\"url(#clip570)\" d=\"M2724.94 2119.26 Q2721.33 2119.26 2719.5 2122.82 Q2717.7 2126.36 2717.7 2133.49 Q2717.7 2140.6 2719.5 2144.17 Q2721.33 2147.71 2724.94 2147.71 Q2728.57 2147.71 2730.38 2144.17 Q2732.21 2140.6 2732.21 2133.49 Q2732.21 2126.36 2730.38 2122.82 Q2728.57 2119.26 2724.94 2119.26 M2724.94 2115.55 Q2730.75 2115.55 2733.81 2120.16 Q2736.89 2124.74 2736.89 2133.49 Q2736.89 2142.22 2733.81 2146.83 Q2730.75 2151.41 2724.94 2151.41 Q2719.13 2151.41 2716.05 2146.83 Q2713 2142.22 2713 2133.49 Q2713 2124.74 2716.05 2120.16 Q2719.13 2115.55 2724.94 2115.55 Z\" fill=\"#000000\" fill-rule=\"nonzero\" fill-opacity=\"1\" /><path clip-path=\"url(#clip570)\" d=\"M2660.38 1713.75 L2676.7 1713.75 L2676.7 1717.69 L2654.76 1717.69 L2654.76 1713.75 Q2657.42 1711 2662 1706.37 Q2666.61 1701.72 2667.79 1700.37 Q2670.03 1697.85 2670.91 1696.11 Q2671.82 1694.35 2671.82 1692.66 Q2671.82 1689.91 2669.87 1688.17 Q2667.95 1686.44 2664.85 1686.44 Q2662.65 1686.44 2660.2 1687.2 Q2657.77 1687.97 2654.99 1689.52 L2654.99 1684.79 Q2657.81 1683.66 2660.27 1683.08 Q2662.72 1682.5 2664.76 1682.5 Q2670.13 1682.5 2673.32 1685.19 Q2676.52 1687.87 2676.52 1692.36 Q2676.52 1694.49 2675.7 1696.41 Q2674.92 1698.31 2672.81 1700.91 Q2672.23 1701.58 2669.13 1704.79 Q2666.03 1707.99 2660.38 1713.75 Z\" fill=\"#000000\" fill-rule=\"nonzero\" fill-opacity=\"1\" /><path clip-path=\"url(#clip570)\" d=\"M2696.51 1686.21 Q2692.9 1686.21 2691.08 1689.77 Q2689.27 1693.31 2689.27 1700.44 Q2689.27 1707.55 2691.08 1711.11 Q2692.9 1714.66 2696.51 1714.66 Q2700.15 1714.66 2701.95 1711.11 Q2703.78 1707.55 2703.78 1700.44 Q2703.78 1693.31 2701.95 1689.77 Q2700.15 1686.21 2696.51 1686.21 M2696.51 1682.5 Q2702.33 1682.5 2705.38 1687.11 Q2708.46 1691.69 2708.46 1700.44 Q2708.46 1709.17 2705.38 1713.78 Q2702.33 1718.36 2696.51 1718.36 Q2690.7 1718.36 2687.63 1713.78 Q2684.57 1709.17 2684.57 1700.44 Q2684.57 1691.69 2687.63 1687.11 Q2690.7 1682.5 2696.51 1682.5 Z\" fill=\"#000000\" fill-rule=\"nonzero\" fill-opacity=\"1\" /><path clip-path=\"url(#clip570)\" d=\"M2726.68 1686.21 Q2723.07 1686.21 2721.24 1689.77 Q2719.43 1693.31 2719.43 1700.44 Q2719.43 1707.55 2721.24 1711.11 Q2723.07 1714.66 2726.68 1714.66 Q2730.31 1714.66 2732.12 1711.11 Q2733.95 1707.55 2733.95 1700.44 Q2733.95 1693.31 2732.12 1689.77 Q2730.31 1686.21 2726.68 1686.21 M2726.68 1682.5 Q2732.49 1682.5 2735.54 1687.11 Q2738.62 1691.69 2738.62 1700.44 Q2738.62 1709.17 2735.54 1713.78 Q2732.49 1718.36 2726.68 1718.36 Q2720.87 1718.36 2717.79 1713.78 Q2714.73 1709.17 2714.73 1700.44 Q2714.73 1691.69 2717.79 1687.11 Q2720.87 1682.5 2726.68 1682.5 Z\" fill=\"#000000\" fill-rule=\"nonzero\" fill-opacity=\"1\" /><path clip-path=\"url(#clip570)\" d=\"M2670.38 1266 Q2673.74 1266.72 2675.61 1268.99 Q2677.51 1271.26 2677.51 1274.59 Q2677.51 1279.71 2673.99 1282.51 Q2670.47 1285.31 2663.99 1285.31 Q2661.82 1285.31 2659.5 1284.87 Q2657.21 1284.45 2654.76 1283.59 L2654.76 1279.08 Q2656.7 1280.22 2659.02 1280.79 Q2661.33 1281.37 2663.85 1281.37 Q2668.25 1281.37 2670.54 1279.64 Q2672.86 1277.9 2672.86 1274.59 Q2672.86 1271.53 2670.7 1269.82 Q2668.58 1268.09 2664.76 1268.09 L2660.73 1268.09 L2660.73 1264.24 L2664.94 1264.24 Q2668.39 1264.24 2670.22 1262.88 Q2672.05 1261.49 2672.05 1258.9 Q2672.05 1256.23 2670.15 1254.82 Q2668.27 1253.39 2664.76 1253.39 Q2662.83 1253.39 2660.64 1253.8 Q2658.44 1254.22 2655.8 1255.1 L2655.8 1250.93 Q2658.46 1250.19 2660.77 1249.82 Q2663.11 1249.45 2665.17 1249.45 Q2670.5 1249.45 2673.6 1251.88 Q2676.7 1254.29 2676.7 1258.41 Q2676.7 1261.28 2675.06 1263.27 Q2673.41 1265.24 2670.38 1266 Z\" fill=\"#000000\" fill-rule=\"nonzero\" fill-opacity=\"1\" /><path clip-path=\"url(#clip570)\" d=\"M2696.38 1253.16 Q2692.76 1253.16 2690.94 1256.72 Q2689.13 1260.26 2689.13 1267.39 Q2689.13 1274.5 2690.94 1278.06 Q2692.76 1281.6 2696.38 1281.6 Q2700.01 1281.6 2701.82 1278.06 Q2703.64 1274.5 2703.64 1267.39 Q2703.64 1260.26 2701.82 1256.72 Q2700.01 1253.16 2696.38 1253.16 M2696.38 1249.45 Q2702.19 1249.45 2705.24 1254.06 Q2708.32 1258.64 2708.32 1267.39 Q2708.32 1276.12 2705.24 1280.72 Q2702.19 1285.31 2696.38 1285.31 Q2690.57 1285.31 2687.49 1280.72 Q2684.43 1276.12 2684.43 1267.39 Q2684.43 1258.64 2687.49 1254.06 Q2690.57 1249.45 2696.38 1249.45 Z\" fill=\"#000000\" fill-rule=\"nonzero\" fill-opacity=\"1\" /><path clip-path=\"url(#clip570)\" d=\"M2726.54 1253.16 Q2722.93 1253.16 2721.1 1256.72 Q2719.29 1260.26 2719.29 1267.39 Q2719.29 1274.5 2721.1 1278.06 Q2722.93 1281.6 2726.54 1281.6 Q2730.17 1281.6 2731.98 1278.06 Q2733.81 1274.5 2733.81 1267.39 Q2733.81 1260.26 2731.98 1256.72 Q2730.17 1253.16 2726.54 1253.16 M2726.54 1249.45 Q2732.35 1249.45 2735.4 1254.06 Q2738.48 1258.64 2738.48 1267.39 Q2738.48 1276.12 2735.4 1280.72 Q2732.35 1285.31 2726.54 1285.31 Q2720.73 1285.31 2717.65 1280.72 Q2714.59 1276.12 2714.59 1267.39 Q2714.59 1258.64 2717.65 1254.06 Q2720.73 1249.45 2726.54 1249.45 Z\" fill=\"#000000\" fill-rule=\"nonzero\" fill-opacity=\"1\" /><path clip-path=\"url(#clip570)\" d=\"M2670.36 821.099 L2658.55 839.548 L2670.36 839.548 L2670.36 821.099 M2669.13 817.025 L2675.01 817.025 L2675.01 839.548 L2679.94 839.548 L2679.94 843.437 L2675.01 843.437 L2675.01 851.585 L2670.36 851.585 L2670.36 843.437 L2654.76 843.437 L2654.76 838.923 L2669.13 817.025 Z\" fill=\"#000000\" fill-rule=\"nonzero\" fill-opacity=\"1\" /><path clip-path=\"url(#clip570)\" d=\"M2697.67 820.103 Q2694.06 820.103 2692.23 823.668 Q2690.43 827.21 2690.43 834.34 Q2690.43 841.446 2692.23 845.011 Q2694.06 848.552 2697.67 848.552 Q2701.31 848.552 2703.11 845.011 Q2704.94 841.446 2704.94 834.34 Q2704.94 827.21 2703.11 823.668 Q2701.31 820.103 2697.67 820.103 M2697.67 816.4 Q2703.48 816.4 2706.54 821.006 Q2709.62 825.59 2709.62 834.34 Q2709.62 843.066 2706.54 847.673 Q2703.48 852.256 2697.67 852.256 Q2691.86 852.256 2688.78 847.673 Q2685.73 843.066 2685.73 834.34 Q2685.73 825.59 2688.78 821.006 Q2691.86 816.4 2697.67 816.4 Z\" fill=\"#000000\" fill-rule=\"nonzero\" fill-opacity=\"1\" /><path clip-path=\"url(#clip570)\" d=\"M2727.83 820.103 Q2724.22 820.103 2722.39 823.668 Q2720.59 827.21 2720.59 834.34 Q2720.59 841.446 2722.39 845.011 Q2724.22 848.552 2727.83 848.552 Q2731.47 848.552 2733.27 845.011 Q2735.1 841.446 2735.1 834.34 Q2735.1 827.21 2733.27 823.668 Q2731.47 820.103 2727.83 820.103 M2727.83 816.4 Q2733.64 816.4 2736.7 821.006 Q2739.78 825.59 2739.78 834.34 Q2739.78 843.066 2736.7 847.673 Q2733.64 852.256 2727.83 852.256 Q2722.02 852.256 2718.95 847.673 Q2715.89 843.066 2715.89 834.34 Q2715.89 825.59 2718.95 821.006 Q2722.02 816.4 2727.83 816.4 Z\" fill=\"#000000\" fill-rule=\"nonzero\" fill-opacity=\"1\" /><path clip-path=\"url(#clip570)\" d=\"M2656.21 383.973 L2674.57 383.973 L2674.57 387.908 L2660.5 387.908 L2660.5 396.381 Q2661.52 396.033 2662.53 395.871 Q2663.55 395.686 2664.57 395.686 Q2670.36 395.686 2673.74 398.857 Q2677.12 402.029 2677.12 407.445 Q2677.12 413.024 2673.64 416.126 Q2670.17 419.205 2663.85 419.205 Q2661.68 419.205 2659.41 418.834 Q2657.16 418.464 2654.76 417.723 L2654.76 413.024 Q2656.84 414.158 2659.06 414.714 Q2661.28 415.269 2663.76 415.269 Q2667.77 415.269 2670.1 413.163 Q2672.44 411.056 2672.44 407.445 Q2672.44 403.834 2670.1 401.728 Q2667.77 399.621 2663.76 399.621 Q2661.89 399.621 2660.01 400.038 Q2658.16 400.455 2656.21 401.334 L2656.21 383.973 Z\" fill=\"#000000\" fill-rule=\"nonzero\" fill-opacity=\"1\" /><path clip-path=\"url(#clip570)\" d=\"M2696.33 387.052 Q2692.72 387.052 2690.89 390.617 Q2689.08 394.158 2689.08 401.288 Q2689.08 408.394 2690.89 411.959 Q2692.72 415.501 2696.33 415.501 Q2699.96 415.501 2701.77 411.959 Q2703.6 408.394 2703.6 401.288 Q2703.6 394.158 2701.77 390.617 Q2699.96 387.052 2696.33 387.052 M2696.33 383.348 Q2702.14 383.348 2705.2 387.955 Q2708.27 392.538 2708.27 401.288 Q2708.27 410.015 2705.2 414.621 Q2702.14 419.205 2696.33 419.205 Q2690.52 419.205 2687.44 414.621 Q2684.39 410.015 2684.39 401.288 Q2684.39 392.538 2687.44 387.955 Q2690.52 383.348 2696.33 383.348 Z\" fill=\"#000000\" fill-rule=\"nonzero\" fill-opacity=\"1\" /><path clip-path=\"url(#clip570)\" d=\"M2726.49 387.052 Q2722.88 387.052 2721.05 390.617 Q2719.25 394.158 2719.25 401.288 Q2719.25 408.394 2721.05 411.959 Q2722.88 415.501 2726.49 415.501 Q2730.13 415.501 2731.93 411.959 Q2733.76 408.394 2733.76 401.288 Q2733.76 394.158 2731.93 390.617 Q2730.13 387.052 2726.49 387.052 M2726.49 383.348 Q2732.3 383.348 2735.36 387.955 Q2738.44 392.538 2738.44 401.288 Q2738.44 410.015 2735.36 414.621 Q2732.3 419.205 2726.49 419.205 Q2720.68 419.205 2717.6 414.621 Q2714.55 410.015 2714.55 401.288 Q2714.55 392.538 2717.6 387.955 Q2720.68 383.348 2726.49 383.348 Z\" fill=\"#000000\" fill-rule=\"nonzero\" fill-opacity=\"1\" /><polyline clip-path=\"url(#clip570)\" style=\"stroke:#000000; stroke-linecap:round; stroke-linejoin:round; stroke-width:4; stroke-opacity:1; fill:none\" points=\"2612.76,2570.14 2612.76,2570.14 2640.76,2570.14 2612.76,2570.14 2612.76,2137.09 2640.76,2137.09 2612.76,2137.09 2612.76,1704.04 2640.76,1704.04 2612.76,1704.04 2612.76,1270.99 2640.76,1270.99 2612.76,1270.99 2612.76,837.934 2640.76,837.934 2612.76,837.934 2612.76,404.882 2640.76,404.882 2612.76,404.882 2612.76,153.712 \"/>\n",
       "<path clip-path=\"url(#clip570)\" d=\"M308.605 2432.81 L293.848 2455.87 L308.605 2455.87 L308.605 2432.81 M307.071 2427.72 L314.421 2427.72 L314.421 2455.87 L320.584 2455.87 L320.584 2460.73 L314.421 2460.73 L314.421 2470.92 L308.605 2470.92 L308.605 2460.73 L289.102 2460.73 L289.102 2455.09 L307.071 2427.72 Z\" fill=\"#000000\" fill-rule=\"nonzero\" fill-opacity=\"1\" /><path clip-path=\"url(#clip570)\" d=\"M347.956 2447.63 Q352.152 2448.52 354.496 2451.36 Q356.868 2454.19 356.868 2458.36 Q356.868 2464.76 352.47 2468.26 Q348.072 2471.76 339.97 2471.76 Q337.25 2471.76 334.357 2471.21 Q331.492 2470.69 328.425 2469.62 L328.425 2463.97 Q330.856 2465.39 333.749 2466.12 Q336.643 2466.84 339.797 2466.84 Q345.294 2466.84 348.159 2464.67 Q351.052 2462.5 351.052 2458.36 Q351.052 2454.54 348.361 2452.4 Q345.699 2450.23 340.925 2450.23 L335.89 2450.23 L335.89 2445.43 L341.157 2445.43 Q345.468 2445.43 347.754 2443.72 Q350.04 2441.98 350.04 2438.74 Q350.04 2435.42 347.667 2433.65 Q345.323 2431.86 340.925 2431.86 Q338.523 2431.86 335.775 2432.38 Q333.026 2432.9 329.727 2434 L329.727 2428.79 Q333.055 2427.86 335.948 2427.4 Q338.871 2426.94 341.446 2426.94 Q348.101 2426.94 351.978 2429.98 Q355.856 2432.98 355.856 2438.14 Q355.856 2441.72 353.801 2444.21 Q351.747 2446.67 347.956 2447.63 Z\" fill=\"#000000\" fill-rule=\"nonzero\" fill-opacity=\"1\" /><path clip-path=\"url(#clip570)\" d=\"M368.124 2470.02 L368.124 2464.7 Q370.323 2465.74 372.58 2466.29 Q374.837 2466.84 377.007 2466.84 Q382.794 2466.84 385.832 2462.96 Q388.899 2459.06 389.333 2451.13 Q387.655 2453.62 385.08 2454.95 Q382.505 2456.28 379.38 2456.28 Q372.898 2456.28 369.108 2452.37 Q365.346 2448.44 365.346 2441.64 Q365.346 2434.98 369.281 2430.96 Q373.217 2426.94 379.756 2426.94 Q387.25 2426.94 391.185 2432.7 Q395.149 2438.42 395.149 2449.36 Q395.149 2459.58 390.288 2465.68 Q385.456 2471.76 377.267 2471.76 Q375.068 2471.76 372.811 2471.32 Q370.555 2470.89 368.124 2470.02 M379.756 2451.71 Q383.691 2451.71 385.977 2449.01 Q388.292 2446.32 388.292 2441.64 Q388.292 2436.98 385.977 2434.29 Q383.691 2431.57 379.756 2431.57 Q375.821 2431.57 373.506 2434.29 Q371.22 2436.98 371.22 2441.64 Q371.22 2446.32 373.506 2449.01 Q375.821 2451.71 379.756 2451.71 Z\" fill=\"#000000\" fill-rule=\"nonzero\" fill-opacity=\"1\" /><path clip-path=\"url(#clip570)\" d=\"M342.126 2189.92 Q337.612 2189.92 335.326 2194.38 Q333.069 2198.81 333.069 2207.72 Q333.069 2216.6 335.326 2221.06 Q337.612 2225.49 342.126 2225.49 Q346.669 2225.49 348.926 2221.06 Q351.211 2216.6 351.211 2207.72 Q351.211 2198.81 348.926 2194.38 Q346.669 2189.92 342.126 2189.92 M342.126 2185.29 Q349.389 2185.29 353.208 2191.05 Q357.056 2196.78 357.056 2207.72 Q357.056 2218.63 353.208 2224.39 Q349.389 2230.11 342.126 2230.11 Q334.863 2230.11 331.015 2224.39 Q327.195 2218.63 327.195 2207.72 Q327.195 2196.78 331.015 2191.05 Q334.863 2185.29 342.126 2185.29 Z\" fill=\"#000000\" fill-rule=\"nonzero\" fill-opacity=\"1\" /><path clip-path=\"url(#clip570)\" d=\"M335.442 1982.71 L355.841 1982.71 L355.841 1987.63 L328.411 1987.63 L328.411 1982.71 Q331.738 1979.27 337.467 1973.48 Q343.225 1967.67 344.701 1965.99 Q347.508 1962.84 348.607 1960.67 Q349.736 1958.47 349.736 1956.35 Q349.736 1952.91 347.305 1950.74 Q344.904 1948.57 341.026 1948.57 Q338.278 1948.57 335.21 1949.53 Q332.172 1950.48 328.7 1952.42 L328.7 1946.52 Q332.23 1945.1 335.297 1944.38 Q338.364 1943.65 340.911 1943.65 Q347.624 1943.65 351.617 1947.01 Q355.61 1950.36 355.61 1955.98 Q355.61 1958.64 354.597 1961.04 Q353.613 1963.41 350.98 1966.66 Q350.257 1967.49 346.379 1971.52 Q342.502 1975.51 335.442 1982.71 Z\" fill=\"#000000\" fill-rule=\"nonzero\" fill-opacity=\"1\" /><path clip-path=\"url(#clip570)\" d=\"M330.103 1741.07 L339.652 1741.07 L339.652 1708.11 L329.264 1710.2 L329.264 1704.87 L339.594 1702.79 L345.439 1702.79 L345.439 1741.07 L354.988 1741.07 L354.988 1745.99 L330.103 1745.99 L330.103 1741.07 Z\" fill=\"#000000\" fill-rule=\"nonzero\" fill-opacity=\"1\" /><path clip-path=\"url(#clip570)\" d=\"M342.126 1465 Q337.612 1465 335.326 1469.45 Q333.069 1473.88 333.069 1482.79 Q333.069 1491.67 335.326 1496.13 Q337.612 1500.56 342.126 1500.56 Q346.669 1500.56 348.926 1496.13 Q351.211 1491.67 351.211 1482.79 Q351.211 1473.88 348.926 1469.45 Q346.669 1465 342.126 1465 M342.126 1460.37 Q349.389 1460.37 353.208 1466.12 Q357.056 1471.85 357.056 1482.79 Q357.056 1493.7 353.208 1499.46 Q349.389 1505.19 342.126 1505.19 Q334.863 1505.19 331.015 1499.46 Q327.195 1493.7 327.195 1482.79 Q327.195 1471.85 331.015 1466.12 Q334.863 1460.37 342.126 1460.37 Z\" fill=\"#000000\" fill-rule=\"nonzero\" fill-opacity=\"1\" /><path clip-path=\"url(#clip570)\" d=\"M330.103 1257.79 L339.652 1257.79 L339.652 1224.83 L329.264 1226.91 L329.264 1221.59 L339.594 1219.5 L345.439 1219.5 L345.439 1257.79 L354.988 1257.79 L354.988 1262.7 L330.103 1262.7 L330.103 1257.79 Z\" fill=\"#000000\" fill-rule=\"nonzero\" fill-opacity=\"1\" /><path clip-path=\"url(#clip570)\" d=\"M342.632 997.133 Q338.697 997.133 336.382 999.824 Q334.096 1002.51 334.096 1007.2 Q334.096 1011.86 336.382 1014.58 Q338.697 1017.27 342.632 1017.27 Q346.567 1017.27 348.853 1014.58 Q351.168 1011.86 351.168 1007.2 Q351.168 1002.51 348.853 999.824 Q346.567 997.133 342.632 997.133 M354.235 978.817 L354.235 984.141 Q352.036 983.099 349.779 982.549 Q347.551 982 345.352 982 Q339.565 982 336.498 985.906 Q333.46 989.812 333.026 997.711 Q334.733 995.194 337.308 993.863 Q339.883 992.503 342.979 992.503 Q349.49 992.503 353.251 996.467 Q357.042 1000.4 357.042 1007.2 Q357.042 1013.86 353.107 1017.88 Q349.172 1021.9 342.632 1021.9 Q335.138 1021.9 331.174 1016.17 Q327.21 1010.41 327.21 999.505 Q327.21 989.262 332.071 983.186 Q336.932 977.081 345.121 977.081 Q347.32 977.081 349.548 977.515 Q351.805 977.949 354.235 978.817 Z\" fill=\"#000000\" fill-rule=\"nonzero\" fill-opacity=\"1\" /><path clip-path=\"url(#clip570)\" d=\"M342.126 740.067 Q337.612 740.067 335.326 744.523 Q333.069 748.95 333.069 757.862 Q333.069 766.746 335.326 771.202 Q337.612 775.629 342.126 775.629 Q346.669 775.629 348.926 771.202 Q351.211 766.746 351.211 757.862 Q351.211 748.95 348.926 744.523 Q346.669 740.067 342.126 740.067 M342.126 735.438 Q349.389 735.438 353.208 741.196 Q357.056 746.925 357.056 757.862 Q357.056 768.771 353.208 774.529 Q349.389 780.258 342.126 780.258 Q334.863 780.258 331.015 774.529 Q327.195 768.771 327.195 757.862 Q327.195 746.925 331.015 741.196 Q334.863 735.438 342.126 735.438 Z\" fill=\"#000000\" fill-rule=\"nonzero\" fill-opacity=\"1\" /><path clip-path=\"url(#clip570)\" d=\"M311.108 532.857 L320.656 532.857 L320.656 499.9 L310.268 501.984 L310.268 496.66 L320.598 494.576 L326.443 494.576 L326.443 532.857 L335.992 532.857 L335.992 537.776 L311.108 537.776 L311.108 532.857 Z\" fill=\"#000000\" fill-rule=\"nonzero\" fill-opacity=\"1\" /><path clip-path=\"url(#clip570)\" d=\"M347.855 494.576 L370.801 494.576 L370.801 499.495 L353.208 499.495 L353.208 510.085 Q354.481 509.651 355.754 509.449 Q357.027 509.217 358.301 509.217 Q365.534 509.217 369.759 513.182 Q373.983 517.146 373.983 523.916 Q373.983 530.89 369.643 534.767 Q365.303 538.615 357.404 538.615 Q354.684 538.615 351.848 538.152 Q349.041 537.689 346.032 536.764 L346.032 530.89 Q348.636 532.308 351.414 533.002 Q354.192 533.696 357.288 533.696 Q362.294 533.696 365.216 531.063 Q368.138 528.43 368.138 523.916 Q368.138 519.403 365.216 516.769 Q362.294 514.136 357.288 514.136 Q354.944 514.136 352.6 514.657 Q350.286 515.178 347.855 516.278 L347.855 494.576 Z\" fill=\"#000000\" fill-rule=\"nonzero\" fill-opacity=\"1\" /><path clip-path=\"url(#clip570)\" d=\"M342.126 256.782 Q337.612 256.782 335.326 261.238 Q333.069 265.665 333.069 274.577 Q333.069 283.46 335.326 287.916 Q337.612 292.343 342.126 292.343 Q346.669 292.343 348.926 287.916 Q351.211 283.46 351.211 274.577 Q351.211 265.665 348.926 261.238 Q346.669 256.782 342.126 256.782 M342.126 252.152 Q349.389 252.152 353.208 257.91 Q357.056 263.639 357.056 274.577 Q357.056 285.485 353.208 291.243 Q349.389 296.973 342.126 296.973 Q334.863 296.973 331.015 291.243 Q327.195 285.485 327.195 274.577 Q327.195 263.639 331.015 257.91 Q334.863 252.152 342.126 252.152 Z\" fill=\"#000000\" fill-rule=\"nonzero\" fill-opacity=\"1\" /><path clip-path=\"url(#clip570)\" d=\"M566.403 2431.57 Q561.889 2431.57 559.603 2436.02 Q557.346 2440.45 557.346 2449.36 Q557.346 2458.24 559.603 2462.7 Q561.889 2467.13 566.403 2467.13 Q570.946 2467.13 573.202 2462.7 Q575.488 2458.24 575.488 2449.36 Q575.488 2440.45 573.202 2436.02 Q570.946 2431.57 566.403 2431.57 M566.403 2426.94 Q573.665 2426.94 577.485 2432.7 Q581.333 2438.42 581.333 2449.36 Q581.333 2460.27 577.485 2466.03 Q573.665 2471.76 566.403 2471.76 Q559.14 2471.76 555.292 2466.03 Q551.472 2460.27 551.472 2449.36 Q551.472 2438.42 555.292 2432.7 Q559.14 2426.94 566.403 2426.94 Z\" fill=\"#000000\" fill-rule=\"nonzero\" fill-opacity=\"1\" /><path clip-path=\"url(#clip570)\" d=\"M515.983 2186.08 L538.929 2186.08 L538.929 2190.99 L521.336 2190.99 L521.336 2201.58 Q522.61 2201.15 523.883 2200.95 Q525.156 2200.72 526.429 2200.72 Q533.663 2200.72 537.887 2204.68 Q542.112 2208.65 542.112 2215.42 Q542.112 2222.39 537.772 2226.27 Q533.431 2230.11 525.532 2230.11 Q522.812 2230.11 519.976 2229.65 Q517.17 2229.19 514.161 2228.26 L514.161 2222.39 Q516.765 2223.81 519.542 2224.5 Q522.32 2225.2 525.416 2225.2 Q530.422 2225.2 533.344 2222.56 Q536.267 2219.93 536.267 2215.42 Q536.267 2210.9 533.344 2208.27 Q530.422 2205.64 525.416 2205.64 Q523.073 2205.64 520.729 2206.16 Q518.414 2206.68 515.983 2207.78 L515.983 2186.08 Z\" fill=\"#000000\" fill-rule=\"nonzero\" fill-opacity=\"1\" /><path clip-path=\"url(#clip570)\" d=\"M553.686 2186.08 L576.631 2186.08 L576.631 2190.99 L559.039 2190.99 L559.039 2201.58 Q560.312 2201.15 561.585 2200.95 Q562.858 2200.72 564.131 2200.72 Q571.365 2200.72 575.59 2204.68 Q579.814 2208.65 579.814 2215.42 Q579.814 2222.39 575.474 2226.27 Q571.134 2230.11 563.234 2230.11 Q560.514 2230.11 557.679 2229.65 Q554.872 2229.19 551.863 2228.26 L551.863 2222.39 Q554.467 2223.81 557.245 2224.5 Q560.023 2225.2 563.119 2225.2 Q568.124 2225.2 571.047 2222.56 Q573.969 2219.93 573.969 2215.42 Q573.969 2210.9 571.047 2208.27 Q568.124 2205.64 563.119 2205.64 Q560.775 2205.64 558.431 2206.16 Q556.116 2206.68 553.686 2207.78 L553.686 2186.08 Z\" fill=\"#000000\" fill-rule=\"nonzero\" fill-opacity=\"1\" /><path clip-path=\"url(#clip570)\" d=\"M603.83 2208.76 Q599.664 2208.76 597.262 2210.99 Q594.889 2213.22 594.889 2217.12 Q594.889 2221.03 597.262 2223.26 Q599.664 2225.49 603.83 2225.49 Q607.997 2225.49 610.398 2223.26 Q612.8 2221 612.8 2217.12 Q612.8 2213.22 610.398 2210.99 Q608.026 2208.76 603.83 2208.76 M597.985 2206.27 Q594.224 2205.35 592.112 2202.77 Q590.028 2200.2 590.028 2196.49 Q590.028 2191.31 593.703 2188.3 Q597.407 2185.29 603.83 2185.29 Q610.283 2185.29 613.957 2188.3 Q617.632 2191.31 617.632 2196.49 Q617.632 2200.2 615.52 2202.77 Q613.437 2205.35 609.704 2206.27 Q613.929 2207.26 616.272 2210.12 Q618.645 2212.99 618.645 2217.12 Q618.645 2223.4 614.797 2226.76 Q610.977 2230.11 603.83 2230.11 Q596.683 2230.11 592.835 2226.76 Q589.015 2223.4 589.015 2217.12 Q589.015 2212.99 591.388 2210.12 Q593.761 2207.26 597.985 2206.27 M595.844 2197.04 Q595.844 2200.4 597.927 2202.28 Q600.04 2204.16 603.83 2204.16 Q607.592 2204.16 609.704 2202.28 Q611.845 2200.4 611.845 2197.04 Q611.845 2193.69 609.704 2191.8 Q607.592 2189.92 603.83 2189.92 Q600.04 2189.92 597.927 2191.8 Q595.844 2193.69 595.844 2197.04 Z\" fill=\"#000000\" fill-rule=\"nonzero\" fill-opacity=\"1\" /><path clip-path=\"url(#clip570)\" d=\"M570.164 1949.53 L555.407 1972.59 L570.164 1972.59 L570.164 1949.53 M568.631 1944.43 L575.98 1944.43 L575.98 1972.59 L582.143 1972.59 L582.143 1977.45 L575.98 1977.45 L575.98 1987.63 L570.164 1987.63 L570.164 1977.45 L550.662 1977.45 L550.662 1971.81 L568.631 1944.43 Z\" fill=\"#000000\" fill-rule=\"nonzero\" fill-opacity=\"1\" /><path clip-path=\"url(#clip570)\" d=\"M566.403 1706.64 Q561.889 1706.64 559.603 1711.09 Q557.346 1715.52 557.346 1724.43 Q557.346 1733.32 559.603 1737.77 Q561.889 1742.2 566.403 1742.2 Q570.946 1742.2 573.202 1737.77 Q575.488 1733.32 575.488 1724.43 Q575.488 1715.52 573.202 1711.09 Q570.946 1706.64 566.403 1706.64 M566.403 1702.01 Q573.665 1702.01 577.485 1707.77 Q581.333 1713.5 581.333 1724.43 Q581.333 1735.34 577.485 1741.1 Q573.665 1746.83 566.403 1746.83 Q559.14 1746.83 555.292 1741.1 Q551.472 1735.34 551.472 1724.43 Q551.472 1713.5 555.292 1707.77 Q559.14 1702.01 566.403 1702.01 Z\" fill=\"#000000\" fill-rule=\"nonzero\" fill-opacity=\"1\" /><path clip-path=\"url(#clip570)\" d=\"M566.403 1465 Q561.889 1465 559.603 1469.45 Q557.346 1473.88 557.346 1482.79 Q557.346 1491.67 559.603 1496.13 Q561.889 1500.56 566.403 1500.56 Q570.946 1500.56 573.202 1496.13 Q575.488 1491.67 575.488 1482.79 Q575.488 1473.88 573.202 1469.45 Q570.946 1465 566.403 1465 M566.403 1460.37 Q573.665 1460.37 577.485 1466.12 Q581.333 1471.85 581.333 1482.79 Q581.333 1493.7 577.485 1499.46 Q573.665 1505.19 566.403 1505.19 Q559.14 1505.19 555.292 1499.46 Q551.472 1493.7 551.472 1482.79 Q551.472 1471.85 555.292 1466.12 Q559.14 1460.37 566.403 1460.37 Z\" fill=\"#000000\" fill-rule=\"nonzero\" fill-opacity=\"1\" /><path clip-path=\"url(#clip570)\" d=\"M554.38 1257.79 L563.929 1257.79 L563.929 1224.83 L553.541 1226.91 L553.541 1221.59 L563.871 1219.5 L569.716 1219.5 L569.716 1257.79 L579.264 1257.79 L579.264 1262.7 L554.38 1262.7 L554.38 1257.79 Z\" fill=\"#000000\" fill-rule=\"nonzero\" fill-opacity=\"1\" /><path clip-path=\"url(#clip570)\" d=\"M571.712 997.769 Q575.908 998.666 578.252 1001.5 Q580.624 1004.34 580.624 1008.5 Q580.624 1014.9 576.226 1018.4 Q571.828 1021.9 563.726 1021.9 Q561.006 1021.9 558.113 1021.35 Q555.248 1020.83 552.181 1019.76 L552.181 1014.12 Q554.612 1015.54 557.505 1016.26 Q560.399 1016.98 563.553 1016.98 Q569.05 1016.98 571.915 1014.81 Q574.808 1012.64 574.808 1008.5 Q574.808 1004.68 572.117 1002.54 Q569.455 1000.37 564.681 1000.37 L559.646 1000.37 L559.646 995.57 L564.913 995.57 Q569.224 995.57 571.51 993.863 Q573.796 992.127 573.796 988.886 Q573.796 985.559 571.423 983.794 Q569.079 982 564.681 982 Q562.279 982 559.531 982.52 Q556.782 983.041 553.483 984.141 L553.483 978.932 Q556.811 978.007 559.704 977.544 Q562.627 977.081 565.202 977.081 Q571.857 977.081 575.734 980.119 Q579.612 983.128 579.612 988.278 Q579.612 991.866 577.557 994.355 Q575.503 996.814 571.712 997.769 Z\" fill=\"#000000\" fill-rule=\"nonzero\" fill-opacity=\"1\" /><path clip-path=\"url(#clip570)\" d=\"M566.403 740.067 Q561.889 740.067 559.603 744.523 Q557.346 748.95 557.346 757.862 Q557.346 766.746 559.603 771.202 Q561.889 775.629 566.403 775.629 Q570.946 775.629 573.202 771.202 Q575.488 766.746 575.488 757.862 Q575.488 748.95 573.202 744.523 Q570.946 740.067 566.403 740.067 M566.403 735.438 Q573.665 735.438 577.485 741.196 Q581.333 746.925 581.333 757.862 Q581.333 768.771 577.485 774.529 Q573.665 780.258 566.403 780.258 Q559.14 780.258 555.292 774.529 Q551.472 768.771 551.472 757.862 Q551.472 746.925 555.292 741.196 Q559.14 735.438 566.403 735.438 Z\" fill=\"#000000\" fill-rule=\"nonzero\" fill-opacity=\"1\" /><path clip-path=\"url(#clip570)\" d=\"M571.712 514.484 Q575.908 515.381 578.252 518.216 Q580.624 521.052 580.624 525.218 Q580.624 531.613 576.226 535.114 Q571.828 538.615 563.726 538.615 Q561.006 538.615 558.113 538.066 Q555.248 537.545 552.181 536.474 L552.181 530.832 Q554.612 532.25 557.505 532.973 Q560.399 533.696 563.553 533.696 Q569.05 533.696 571.915 531.526 Q574.808 529.356 574.808 525.218 Q574.808 521.399 572.117 519.258 Q569.455 517.088 564.681 517.088 L559.646 517.088 L559.646 512.285 L564.913 512.285 Q569.224 512.285 571.51 510.577 Q573.796 508.841 573.796 505.601 Q573.796 502.273 571.423 500.508 Q569.079 498.714 564.681 498.714 Q562.279 498.714 559.531 499.235 Q556.782 499.756 553.483 500.855 L553.483 495.647 Q556.811 494.721 559.704 494.258 Q562.627 493.795 565.202 493.795 Q571.857 493.795 575.734 496.833 Q579.612 499.842 579.612 504.993 Q579.612 508.581 577.557 511.069 Q575.503 513.529 571.712 514.484 Z\" fill=\"#000000\" fill-rule=\"nonzero\" fill-opacity=\"1\" /><path clip-path=\"url(#clip570)\" d=\"M559.719 291.215 L580.118 291.215 L580.118 296.134 L552.688 296.134 L552.688 291.215 Q556.015 287.771 561.744 281.984 Q567.502 276.168 568.978 274.49 Q571.785 271.336 572.884 269.166 Q574.013 266.967 574.013 264.855 Q574.013 261.411 571.582 259.241 Q569.18 257.071 565.303 257.071 Q562.554 257.071 559.487 258.026 Q556.449 258.981 552.977 260.92 L552.977 255.017 Q556.507 253.599 559.574 252.876 Q562.641 252.152 565.187 252.152 Q571.9 252.152 575.893 255.509 Q579.886 258.865 579.886 264.479 Q579.886 267.141 578.874 269.542 Q577.89 271.915 575.257 275.156 Q574.533 275.995 570.656 280.017 Q566.779 284.01 559.719 291.215 Z\" fill=\"#000000\" fill-rule=\"nonzero\" fill-opacity=\"1\" /><path clip-path=\"url(#clip570)\" d=\"M790.68 2450.4 Q786.513 2450.4 784.111 2452.63 Q781.739 2454.86 781.739 2458.77 Q781.739 2462.67 784.111 2464.9 Q786.513 2467.13 790.68 2467.13 Q794.846 2467.13 797.248 2464.9 Q799.649 2462.64 799.649 2458.77 Q799.649 2454.86 797.248 2452.63 Q794.875 2450.4 790.68 2450.4 M784.835 2447.92 Q781.073 2446.99 778.961 2444.41 Q776.878 2441.84 776.878 2438.14 Q776.878 2432.96 780.552 2429.95 Q784.256 2426.94 790.68 2426.94 Q797.132 2426.94 800.807 2429.95 Q804.482 2432.96 804.482 2438.14 Q804.482 2441.84 802.369 2444.41 Q800.286 2446.99 796.553 2447.92 Q800.778 2448.9 803.122 2451.76 Q805.494 2454.63 805.494 2458.77 Q805.494 2465.04 801.646 2468.4 Q797.827 2471.76 790.68 2471.76 Q783.533 2471.76 779.684 2468.4 Q775.865 2465.04 775.865 2458.77 Q775.865 2454.63 778.238 2451.76 Q780.61 2448.9 784.835 2447.92 M782.694 2438.68 Q782.694 2442.04 784.777 2443.92 Q786.889 2445.8 790.68 2445.8 Q794.441 2445.8 796.553 2443.92 Q798.695 2442.04 798.695 2438.68 Q798.695 2435.33 796.553 2433.45 Q794.441 2431.57 790.68 2431.57 Q786.889 2431.57 784.777 2433.45 Q782.694 2435.33 782.694 2438.68 Z\" fill=\"#000000\" fill-rule=\"nonzero\" fill-opacity=\"1\" /><path clip-path=\"url(#clip570)\" d=\"M794.441 2191.17 L779.684 2214.23 L794.441 2214.23 L794.441 2191.17 M792.908 2186.08 L800.257 2186.08 L800.257 2214.23 L806.42 2214.23 L806.42 2219.09 L800.257 2219.09 L800.257 2229.28 L794.441 2229.28 L794.441 2219.09 L774.939 2219.09 L774.939 2213.45 L792.908 2186.08 Z\" fill=\"#000000\" fill-rule=\"nonzero\" fill-opacity=\"1\" /><path clip-path=\"url(#clip570)\" d=\"M757.809 1949.53 L743.053 1972.59 L757.809 1972.59 L757.809 1949.53 M756.276 1944.43 L763.625 1944.43 L763.625 1972.59 L769.788 1972.59 L769.788 1977.45 L763.625 1977.45 L763.625 1987.63 L757.809 1987.63 L757.809 1977.45 L738.307 1977.45 L738.307 1971.81 L756.276 1944.43 Z\" fill=\"#000000\" fill-rule=\"nonzero\" fill-opacity=\"1\" /><path clip-path=\"url(#clip570)\" d=\"M791.953 1967.12 Q787.786 1967.12 785.384 1969.35 Q783.012 1971.57 783.012 1975.48 Q783.012 1979.39 785.384 1981.61 Q787.786 1983.84 791.953 1983.84 Q796.119 1983.84 798.521 1981.61 Q800.923 1979.36 800.923 1975.48 Q800.923 1971.57 798.521 1969.35 Q796.148 1967.12 791.953 1967.12 M786.108 1964.63 Q782.346 1963.7 780.234 1961.13 Q778.151 1958.55 778.151 1954.85 Q778.151 1949.67 781.825 1946.66 Q785.529 1943.65 791.953 1943.65 Q798.405 1943.65 802.08 1946.66 Q805.755 1949.67 805.755 1954.85 Q805.755 1958.55 803.642 1961.13 Q801.559 1963.7 797.827 1964.63 Q802.051 1965.61 804.395 1968.48 Q806.767 1971.34 806.767 1975.48 Q806.767 1981.76 802.919 1985.12 Q799.1 1988.47 791.953 1988.47 Q784.806 1988.47 780.957 1985.12 Q777.138 1981.76 777.138 1975.48 Q777.138 1971.34 779.511 1968.48 Q781.883 1965.61 786.108 1964.63 M783.967 1955.4 Q783.967 1958.76 786.05 1960.64 Q788.162 1962.52 791.953 1962.52 Q795.714 1962.52 797.827 1960.64 Q799.968 1958.76 799.968 1955.4 Q799.968 1952.04 797.827 1950.16 Q795.714 1948.28 791.953 1948.28 Q788.162 1948.28 786.05 1950.16 Q783.967 1952.04 783.967 1955.4 Z\" fill=\"#000000\" fill-rule=\"nonzero\" fill-opacity=\"1\" /><path clip-path=\"url(#clip570)\" d=\"M818.168 1982.71 L827.716 1982.71 L827.716 1949.76 L817.329 1951.84 L817.329 1946.52 L827.659 1944.43 L833.503 1944.43 L833.503 1982.71 L843.052 1982.71 L843.052 1987.63 L818.168 1987.63 L818.168 1982.71 Z\" fill=\"#000000\" fill-rule=\"nonzero\" fill-opacity=\"1\" /><path clip-path=\"url(#clip570)\" d=\"M760.037 1741.07 L769.586 1741.07 L769.586 1708.11 L759.198 1710.2 L759.198 1704.87 L769.528 1702.79 L775.373 1702.79 L775.373 1741.07 L784.922 1741.07 L784.922 1745.99 L760.037 1745.99 L760.037 1741.07 Z\" fill=\"#000000\" fill-rule=\"nonzero\" fill-opacity=\"1\" /><path clip-path=\"url(#clip570)\" d=\"M801.762 1741.07 L822.161 1741.07 L822.161 1745.99 L794.73 1745.99 L794.73 1741.07 Q798.058 1737.63 803.787 1731.84 Q809.545 1726.02 811.021 1724.35 Q813.828 1721.19 814.927 1719.02 Q816.056 1716.82 816.056 1714.71 Q816.056 1711.27 813.625 1709.1 Q811.223 1706.93 807.346 1706.93 Q804.597 1706.93 801.53 1707.88 Q798.492 1708.84 795.02 1710.78 L795.02 1704.87 Q798.55 1703.46 801.617 1702.73 Q804.684 1702.01 807.23 1702.01 Q813.943 1702.01 817.936 1705.37 Q821.929 1708.72 821.929 1714.34 Q821.929 1717 820.917 1719.4 Q819.933 1721.77 817.3 1725.01 Q816.576 1725.85 812.699 1729.87 Q808.822 1733.87 801.762 1741.07 Z\" fill=\"#000000\" fill-rule=\"nonzero\" fill-opacity=\"1\" /><path clip-path=\"url(#clip570)\" d=\"M778.657 1499.43 L788.206 1499.43 L788.206 1466.47 L777.818 1468.55 L777.818 1463.23 L788.148 1461.15 L793.993 1461.15 L793.993 1499.43 L803.541 1499.43 L803.541 1504.35 L778.657 1504.35 L778.657 1499.43 Z\" fill=\"#000000\" fill-rule=\"nonzero\" fill-opacity=\"1\" /><path clip-path=\"url(#clip570)\" d=\"M778.657 1257.79 L788.206 1257.79 L788.206 1224.83 L777.818 1226.91 L777.818 1221.59 L788.148 1219.5 L793.993 1219.5 L793.993 1257.79 L803.541 1257.79 L803.541 1262.7 L778.657 1262.7 L778.657 1257.79 Z\" fill=\"#000000\" fill-rule=\"nonzero\" fill-opacity=\"1\" /><path clip-path=\"url(#clip570)\" d=\"M778.657 1016.14 L788.206 1016.14 L788.206 983.186 L777.818 985.269 L777.818 979.945 L788.148 977.862 L793.993 977.862 L793.993 1016.14 L803.541 1016.14 L803.541 1021.06 L778.657 1021.06 L778.657 1016.14 Z\" fill=\"#000000\" fill-rule=\"nonzero\" fill-opacity=\"1\" /><path clip-path=\"url(#clip570)\" d=\"M765.144 774.5 L785.544 774.5 L785.544 779.419 L758.113 779.419 L758.113 774.5 Q761.441 771.057 767.17 765.27 Q772.928 759.454 774.404 757.776 Q777.21 754.622 778.31 752.452 Q779.438 750.253 779.438 748.14 Q779.438 744.697 777.008 742.527 Q774.606 740.357 770.729 740.357 Q767.98 740.357 764.913 741.312 Q761.875 742.266 758.403 744.205 L758.403 738.302 Q761.933 736.885 765 736.161 Q768.067 735.438 770.613 735.438 Q777.326 735.438 781.319 738.794 Q785.312 742.151 785.312 747.764 Q785.312 750.426 784.299 752.828 Q783.316 755.2 780.683 758.441 Q779.959 759.28 776.082 763.302 Q772.205 767.295 765.144 774.5 Z\" fill=\"#000000\" fill-rule=\"nonzero\" fill-opacity=\"1\" /><path clip-path=\"url(#clip570)\" d=\"M802.847 774.5 L823.246 774.5 L823.246 779.419 L795.816 779.419 L795.816 774.5 Q799.143 771.057 804.872 765.27 Q810.63 759.454 812.106 757.776 Q814.913 754.622 816.012 752.452 Q817.141 750.253 817.141 748.14 Q817.141 744.697 814.71 742.527 Q812.309 740.357 808.431 740.357 Q805.682 740.357 802.615 741.312 Q799.577 742.266 796.105 744.205 L796.105 738.302 Q799.635 736.885 802.702 736.161 Q805.769 735.438 808.315 735.438 Q815.028 735.438 819.021 738.794 Q823.014 742.151 823.014 747.764 Q823.014 750.426 822.002 752.828 Q821.018 755.2 818.385 758.441 Q817.661 759.28 813.784 763.302 Q809.907 767.295 802.847 774.5 Z\" fill=\"#000000\" fill-rule=\"nonzero\" fill-opacity=\"1\" /><path clip-path=\"url(#clip570)\" d=\"M776.791 494.576 L804.568 494.576 L804.568 497.065 L788.886 537.776 L782.78 537.776 L797.537 499.495 L776.791 499.495 L776.791 494.576 Z\" fill=\"#000000\" fill-rule=\"nonzero\" fill-opacity=\"1\" /><path clip-path=\"url(#clip570)\" d=\"M794.441 258.026 L779.684 281.087 L794.441 281.087 L794.441 258.026 M792.908 252.934 L800.257 252.934 L800.257 281.087 L806.42 281.087 L806.42 285.948 L800.257 285.948 L800.257 296.134 L794.441 296.134 L794.441 285.948 L774.939 285.948 L774.939 280.306 L792.908 252.934 Z\" fill=\"#000000\" fill-rule=\"nonzero\" fill-opacity=\"1\" /><path clip-path=\"url(#clip570)\" d=\"M1014.96 2431.57 Q1010.44 2431.57 1008.16 2436.02 Q1005.9 2440.45 1005.9 2449.36 Q1005.9 2458.24 1008.16 2462.7 Q1010.44 2467.13 1014.96 2467.13 Q1019.5 2467.13 1021.76 2462.7 Q1024.04 2458.24 1024.04 2449.36 Q1024.04 2440.45 1021.76 2436.02 Q1019.5 2431.57 1014.96 2431.57 M1014.96 2426.94 Q1022.22 2426.94 1026.04 2432.7 Q1029.89 2438.42 1029.89 2449.36 Q1029.89 2460.27 1026.04 2466.03 Q1022.22 2471.76 1014.96 2471.76 Q1007.69 2471.76 1003.85 2466.03 Q1000.03 2460.27 1000.03 2449.36 Q1000.03 2438.42 1003.85 2432.7 Q1007.69 2426.94 1014.96 2426.94 Z\" fill=\"#000000\" fill-rule=\"nonzero\" fill-opacity=\"1\" /><path clip-path=\"url(#clip570)\" d=\"M1002.93 2224.36 L1012.48 2224.36 L1012.48 2191.4 L1002.09 2193.48 L1002.09 2188.16 L1012.42 2186.08 L1018.27 2186.08 L1018.27 2224.36 L1027.82 2224.36 L1027.82 2229.28 L1002.93 2229.28 L1002.93 2224.36 Z\" fill=\"#000000\" fill-rule=\"nonzero\" fill-opacity=\"1\" /><path clip-path=\"url(#clip570)\" d=\"M983.012 1982.71 L992.561 1982.71 L992.561 1949.76 L982.173 1951.84 L982.173 1946.52 L992.503 1944.43 L998.348 1944.43 L998.348 1982.71 L1007.9 1982.71 L1007.9 1987.63 L983.012 1987.63 L983.012 1982.71 Z\" fill=\"#000000\" fill-rule=\"nonzero\" fill-opacity=\"1\" /><path clip-path=\"url(#clip570)\" d=\"M1035.76 1949.53 L1021 1972.59 L1035.76 1972.59 L1035.76 1949.53 M1034.23 1944.43 L1041.58 1944.43 L1041.58 1972.59 L1047.74 1972.59 L1047.74 1977.45 L1041.58 1977.45 L1041.58 1987.63 L1035.76 1987.63 L1035.76 1977.45 L1016.26 1977.45 L1016.26 1971.81 L1034.23 1944.43 Z\" fill=\"#000000\" fill-rule=\"nonzero\" fill-opacity=\"1\" /><path clip-path=\"url(#clip570)\" d=\"M981.377 1707.88 L966.62 1730.94 L981.377 1730.94 L981.377 1707.88 M979.844 1702.79 L987.193 1702.79 L987.193 1730.94 L993.356 1730.94 L993.356 1735.81 L987.193 1735.81 L987.193 1745.99 L981.377 1745.99 L981.377 1735.81 L961.875 1735.81 L961.875 1730.16 L979.844 1702.79 Z\" fill=\"#000000\" fill-rule=\"nonzero\" fill-opacity=\"1\" /><path clip-path=\"url(#clip570)\" d=\"M1020.73 1722.7 Q1024.92 1723.59 1027.27 1726.43 Q1029.64 1729.27 1029.64 1733.43 Q1029.64 1739.83 1025.24 1743.33 Q1020.84 1746.83 1012.74 1746.83 Q1010.02 1746.83 1007.13 1746.28 Q1004.26 1745.76 1001.2 1744.69 L1001.2 1739.05 Q1003.63 1740.46 1006.52 1741.19 Q1009.42 1741.91 1012.57 1741.91 Q1018.07 1741.91 1020.93 1739.74 Q1023.83 1737.57 1023.83 1733.43 Q1023.83 1729.61 1021.13 1727.47 Q1018.47 1725.3 1013.7 1725.3 L1008.66 1725.3 L1008.66 1720.5 L1013.93 1720.5 Q1018.24 1720.5 1020.53 1718.79 Q1022.81 1717.06 1022.81 1713.81 Q1022.81 1710.49 1020.44 1708.72 Q1018.1 1706.93 1013.7 1706.93 Q1011.3 1706.93 1008.55 1707.45 Q1005.8 1707.97 1002.5 1709.07 L1002.5 1703.86 Q1005.83 1702.93 1008.72 1702.47 Q1011.64 1702.01 1014.22 1702.01 Q1020.87 1702.01 1024.75 1705.05 Q1028.63 1708.06 1028.63 1713.21 Q1028.63 1716.79 1026.57 1719.28 Q1024.52 1721.74 1020.73 1722.7 Z\" fill=\"#000000\" fill-rule=\"nonzero\" fill-opacity=\"1\" /><path clip-path=\"url(#clip570)\" d=\"M1053.22 1725.48 Q1049.06 1725.48 1046.65 1727.7 Q1044.28 1729.93 1044.28 1733.84 Q1044.28 1737.74 1046.65 1739.97 Q1049.06 1742.2 1053.22 1742.2 Q1057.39 1742.2 1059.79 1739.97 Q1062.19 1737.71 1062.19 1733.84 Q1062.19 1729.93 1059.79 1727.7 Q1057.42 1725.48 1053.22 1725.48 M1047.38 1722.99 Q1043.62 1722.06 1041.5 1719.49 Q1039.42 1716.91 1039.42 1713.21 Q1039.42 1708.03 1043.1 1705.02 Q1046.8 1702.01 1053.22 1702.01 Q1059.68 1702.01 1063.35 1705.02 Q1067.03 1708.03 1067.03 1713.21 Q1067.03 1716.91 1064.91 1719.49 Q1062.83 1722.06 1059.1 1722.99 Q1063.32 1723.97 1065.67 1726.84 Q1068.04 1729.7 1068.04 1733.84 Q1068.04 1740.12 1064.19 1743.47 Q1060.37 1746.83 1053.22 1746.83 Q1046.08 1746.83 1042.23 1743.47 Q1038.41 1740.12 1038.41 1733.84 Q1038.41 1729.7 1040.78 1726.84 Q1043.15 1723.97 1047.38 1722.99 M1045.24 1713.76 Q1045.24 1717.11 1047.32 1718.99 Q1049.43 1720.87 1053.22 1720.87 Q1056.98 1720.87 1059.1 1718.99 Q1061.24 1717.11 1061.24 1713.76 Q1061.24 1710.4 1059.1 1708.52 Q1056.98 1706.64 1053.22 1706.64 Q1049.43 1706.64 1047.32 1708.52 Q1045.24 1710.4 1045.24 1713.76 Z\" fill=\"#000000\" fill-rule=\"nonzero\" fill-opacity=\"1\" /><path clip-path=\"url(#clip570)\" d=\"M1014.96 1465 Q1010.44 1465 1008.16 1469.45 Q1005.9 1473.88 1005.9 1482.79 Q1005.9 1491.67 1008.16 1496.13 Q1010.44 1500.56 1014.96 1500.56 Q1019.5 1500.56 1021.76 1496.13 Q1024.04 1491.67 1024.04 1482.79 Q1024.04 1473.88 1021.76 1469.45 Q1019.5 1465 1014.96 1465 M1014.96 1460.37 Q1022.22 1460.37 1026.04 1466.12 Q1029.89 1471.85 1029.89 1482.79 Q1029.89 1493.7 1026.04 1499.46 Q1022.22 1505.19 1014.96 1505.19 Q1007.69 1505.19 1003.85 1499.46 Q1000.03 1493.7 1000.03 1482.79 Q1000.03 1471.85 1003.85 1466.12 Q1007.69 1460.37 1014.96 1460.37 Z\" fill=\"#000000\" fill-rule=\"nonzero\" fill-opacity=\"1\" /><path clip-path=\"url(#clip570)\" d=\"M1014.96 1242.19 Q1010.79 1242.19 1008.39 1244.42 Q1006.02 1246.65 1006.02 1250.55 Q1006.02 1254.46 1008.39 1256.69 Q1010.79 1258.91 1014.96 1258.91 Q1019.12 1258.91 1021.52 1256.69 Q1023.93 1254.43 1023.93 1250.55 Q1023.93 1246.65 1021.52 1244.42 Q1019.15 1242.19 1014.96 1242.19 M1009.11 1239.7 Q1005.35 1238.78 1003.24 1236.2 Q1001.15 1233.62 1001.15 1229.92 Q1001.15 1224.74 1004.83 1221.73 Q1008.53 1218.72 1014.96 1218.72 Q1021.41 1218.72 1025.08 1221.73 Q1028.76 1224.74 1028.76 1229.92 Q1028.76 1233.62 1026.65 1236.2 Q1024.56 1238.78 1020.83 1239.7 Q1025.05 1240.69 1027.4 1243.55 Q1029.77 1246.41 1029.77 1250.55 Q1029.77 1256.83 1025.92 1260.19 Q1022.1 1263.54 1014.96 1263.54 Q1007.81 1263.54 1003.96 1260.19 Q1000.14 1256.83 1000.14 1250.55 Q1000.14 1246.41 1002.51 1243.55 Q1004.89 1240.69 1009.11 1239.7 M1006.97 1230.47 Q1006.97 1233.83 1009.05 1235.71 Q1011.17 1237.59 1014.96 1237.59 Q1018.72 1237.59 1020.83 1235.71 Q1022.97 1233.83 1022.97 1230.47 Q1022.97 1227.11 1020.83 1225.23 Q1018.72 1223.35 1014.96 1223.35 Q1011.17 1223.35 1009.05 1225.23 Q1006.97 1227.11 1006.97 1230.47 Z\" fill=\"#000000\" fill-rule=\"nonzero\" fill-opacity=\"1\" /><path clip-path=\"url(#clip570)\" d=\"M1014.96 981.71 Q1010.44 981.71 1008.16 986.166 Q1005.9 990.593 1005.9 999.505 Q1005.9 1008.39 1008.16 1012.84 Q1010.44 1017.27 1014.96 1017.27 Q1019.5 1017.27 1021.76 1012.84 Q1024.04 1008.39 1024.04 999.505 Q1024.04 990.593 1021.76 986.166 Q1019.5 981.71 1014.96 981.71 M1014.96 977.081 Q1022.22 977.081 1026.04 982.839 Q1029.89 988.568 1029.89 999.505 Q1029.89 1010.41 1026.04 1016.17 Q1022.22 1021.9 1014.96 1021.9 Q1007.69 1021.9 1003.85 1016.17 Q1000.03 1010.41 1000.03 999.505 Q1000.03 988.568 1003.85 982.839 Q1007.69 977.081 1014.96 977.081 Z\" fill=\"#000000\" fill-rule=\"nonzero\" fill-opacity=\"1\" /><path clip-path=\"url(#clip570)\" d=\"M1014.96 758.904 Q1010.79 758.904 1008.39 761.132 Q1006.02 763.36 1006.02 767.266 Q1006.02 771.173 1008.39 773.401 Q1010.79 775.629 1014.96 775.629 Q1019.12 775.629 1021.52 773.401 Q1023.93 771.144 1023.93 767.266 Q1023.93 763.36 1021.52 761.132 Q1019.15 758.904 1014.96 758.904 M1009.11 756.416 Q1005.35 755.49 1003.24 752.915 Q1001.15 750.339 1001.15 746.636 Q1001.15 741.456 1004.83 738.447 Q1008.53 735.438 1014.96 735.438 Q1021.41 735.438 1025.08 738.447 Q1028.76 741.456 1028.76 746.636 Q1028.76 750.339 1026.65 752.915 Q1024.56 755.49 1020.83 756.416 Q1025.05 757.399 1027.4 760.264 Q1029.77 763.129 1029.77 767.266 Q1029.77 773.545 1025.92 776.902 Q1022.1 780.258 1014.96 780.258 Q1007.81 780.258 1003.96 776.902 Q1000.14 773.545 1000.14 767.266 Q1000.14 763.129 1002.51 760.264 Q1004.89 757.399 1009.11 756.416 M1006.97 747.185 Q1006.97 750.542 1009.05 752.423 Q1011.17 754.303 1014.96 754.303 Q1018.72 754.303 1020.83 752.423 Q1022.97 750.542 1022.97 747.185 Q1022.97 743.829 1020.83 741.948 Q1018.72 740.067 1014.96 740.067 Q1011.17 740.067 1009.05 741.948 Q1006.97 743.829 1006.97 747.185 Z\" fill=\"#000000\" fill-rule=\"nonzero\" fill-opacity=\"1\" /><path clip-path=\"url(#clip570)\" d=\"M983.721 532.857 L993.27 532.857 L993.27 499.9 L982.882 501.984 L982.882 496.66 L993.212 494.576 L999.057 494.576 L999.057 532.857 L1008.61 532.857 L1008.61 537.776 L983.721 537.776 L983.721 532.857 Z\" fill=\"#000000\" fill-rule=\"nonzero\" fill-opacity=\"1\" /><path clip-path=\"url(#clip570)\" d=\"M1038.12 514.484 Q1042.31 515.381 1044.66 518.216 Q1047.03 521.052 1047.03 525.218 Q1047.03 531.613 1042.63 535.114 Q1038.23 538.615 1030.13 538.615 Q1027.41 538.615 1024.52 538.066 Q1021.65 537.545 1018.59 536.474 L1018.59 530.832 Q1021.02 532.25 1023.91 532.973 Q1026.81 533.696 1029.96 533.696 Q1035.46 533.696 1038.32 531.526 Q1041.21 529.356 1041.21 525.218 Q1041.21 521.399 1038.52 519.258 Q1035.86 517.088 1031.09 517.088 L1026.05 517.088 L1026.05 512.285 L1031.32 512.285 Q1035.63 512.285 1037.92 510.577 Q1040.2 508.841 1040.2 505.601 Q1040.2 502.273 1037.83 500.508 Q1035.49 498.714 1031.09 498.714 Q1028.69 498.714 1025.94 499.235 Q1023.19 499.756 1019.89 500.855 L1019.89 495.647 Q1023.22 494.721 1026.11 494.258 Q1029.03 493.795 1031.61 493.795 Q1038.26 493.795 1042.14 496.833 Q1046.02 499.842 1046.02 504.993 Q1046.02 508.581 1043.96 511.069 Q1041.91 513.529 1038.12 514.484 Z\" fill=\"#000000\" fill-rule=\"nonzero\" fill-opacity=\"1\" /><path clip-path=\"url(#clip570)\" d=\"M1008.27 291.215 L1028.67 291.215 L1028.67 296.134 L1001.24 296.134 L1001.24 291.215 Q1004.57 287.771 1010.3 281.984 Q1016.06 276.168 1017.53 274.49 Q1020.34 271.336 1021.44 269.166 Q1022.57 266.967 1022.57 264.855 Q1022.57 261.411 1020.14 259.241 Q1017.73 257.071 1013.86 257.071 Q1011.11 257.071 1008.04 258.026 Q1005 258.981 1001.53 260.92 L1001.53 255.017 Q1005.06 253.599 1008.13 252.876 Q1011.19 252.152 1013.74 252.152 Q1020.45 252.152 1024.45 255.509 Q1028.44 258.865 1028.44 264.479 Q1028.44 267.141 1027.43 269.542 Q1026.44 271.915 1023.81 275.156 Q1023.09 275.995 1019.21 280.017 Q1015.33 284.01 1008.27 291.215 Z\" fill=\"#000000\" fill-rule=\"nonzero\" fill-opacity=\"1\" /><path clip-path=\"url(#clip570)\" d=\"M1239.23 2431.57 Q1234.72 2431.57 1232.43 2436.02 Q1230.18 2440.45 1230.18 2449.36 Q1230.18 2458.24 1232.43 2462.7 Q1234.72 2467.13 1239.23 2467.13 Q1243.78 2467.13 1246.03 2462.7 Q1248.32 2458.24 1248.32 2449.36 Q1248.32 2440.45 1246.03 2436.02 Q1243.78 2431.57 1239.23 2431.57 M1239.23 2426.94 Q1246.5 2426.94 1250.32 2432.7 Q1254.16 2438.42 1254.16 2449.36 Q1254.16 2460.27 1250.32 2466.03 Q1246.5 2471.76 1239.23 2471.76 Q1231.97 2471.76 1228.12 2466.03 Q1224.3 2460.27 1224.3 2449.36 Q1224.3 2438.42 1228.12 2432.7 Q1231.97 2426.94 1239.23 2426.94 Z\" fill=\"#000000\" fill-rule=\"nonzero\" fill-opacity=\"1\" /><path clip-path=\"url(#clip570)\" d=\"M1232.55 2224.36 L1252.95 2224.36 L1252.95 2229.28 L1225.52 2229.28 L1225.52 2224.36 Q1228.85 2220.91 1234.57 2215.13 Q1240.33 2209.31 1241.81 2207.63 Q1244.62 2204.48 1245.71 2202.31 Q1246.84 2200.11 1246.84 2198 Q1246.84 2194.55 1244.41 2192.38 Q1242.01 2190.21 1238.13 2190.21 Q1235.38 2190.21 1232.32 2191.17 Q1229.28 2192.12 1225.81 2194.06 L1225.81 2188.16 Q1229.34 2186.74 1232.4 2186.02 Q1235.47 2185.29 1238.02 2185.29 Q1244.73 2185.29 1248.72 2188.65 Q1252.72 2192.01 1252.72 2197.62 Q1252.72 2200.28 1251.7 2202.68 Q1250.72 2205.06 1248.09 2208.3 Q1247.36 2209.14 1243.49 2213.16 Q1239.61 2217.15 1232.55 2224.36 Z\" fill=\"#000000\" fill-rule=\"nonzero\" fill-opacity=\"1\" /><path clip-path=\"url(#clip570)\" d=\"M1244.54 1964.34 Q1248.74 1965.24 1251.08 1968.07 Q1253.45 1970.91 1253.45 1975.08 Q1253.45 1981.47 1249.06 1984.97 Q1244.66 1988.47 1236.56 1988.47 Q1233.84 1988.47 1230.94 1987.92 Q1228.08 1987.4 1225.01 1986.33 L1225.01 1980.69 Q1227.44 1982.11 1230.34 1982.83 Q1233.23 1983.55 1236.38 1983.55 Q1241.88 1983.55 1244.75 1981.38 Q1247.64 1979.21 1247.64 1975.08 Q1247.64 1971.26 1244.95 1969.11 Q1242.29 1966.94 1237.51 1966.94 L1232.48 1966.94 L1232.48 1962.14 L1237.74 1962.14 Q1242.05 1962.14 1244.34 1960.43 Q1246.63 1958.7 1246.63 1955.46 Q1246.63 1952.13 1244.25 1950.36 Q1241.91 1948.57 1237.51 1948.57 Q1235.11 1948.57 1232.36 1949.09 Q1229.61 1949.61 1226.31 1950.71 L1226.31 1945.5 Q1229.64 1944.58 1232.53 1944.11 Q1235.46 1943.65 1238.03 1943.65 Q1244.69 1943.65 1248.56 1946.69 Q1252.44 1949.7 1252.44 1954.85 Q1252.44 1958.44 1250.39 1960.93 Q1248.33 1963.39 1244.54 1964.34 Z\" fill=\"#000000\" fill-rule=\"nonzero\" fill-opacity=\"1\" /><path clip-path=\"url(#clip570)\" d=\"M1227.21 1741.07 L1236.76 1741.07 L1236.76 1708.11 L1226.37 1710.2 L1226.37 1704.87 L1236.7 1702.79 L1242.55 1702.79 L1242.55 1741.07 L1252.09 1741.07 L1252.09 1745.99 L1227.21 1745.99 L1227.21 1741.07 Z\" fill=\"#000000\" fill-rule=\"nonzero\" fill-opacity=\"1\" /><path clip-path=\"url(#clip570)\" d=\"M1206.59 1466.24 L1191.84 1489.3 L1206.59 1489.3 L1206.59 1466.24 M1205.06 1461.15 L1212.41 1461.15 L1212.41 1489.3 L1218.57 1489.3 L1218.57 1494.16 L1212.41 1494.16 L1212.41 1504.35 L1206.59 1504.35 L1206.59 1494.16 L1187.09 1494.16 L1187.09 1488.52 L1205.06 1461.15 Z\" fill=\"#000000\" fill-rule=\"nonzero\" fill-opacity=\"1\" /><path clip-path=\"url(#clip570)\" d=\"M1228.3 1461.15 L1251.24 1461.15 L1251.24 1466.07 L1233.65 1466.07 L1233.65 1476.66 Q1234.92 1476.22 1236.2 1476.02 Q1237.47 1475.79 1238.74 1475.79 Q1245.98 1475.79 1250.2 1479.75 Q1254.42 1483.72 1254.42 1490.49 Q1254.42 1497.46 1250.08 1501.34 Q1245.74 1505.19 1237.84 1505.19 Q1235.12 1505.19 1232.29 1504.72 Q1229.48 1504.26 1226.47 1503.33 L1226.47 1497.46 Q1229.08 1498.88 1231.85 1499.57 Q1234.63 1500.27 1237.73 1500.27 Q1242.73 1500.27 1245.66 1497.63 Q1248.58 1495 1248.58 1490.49 Q1248.58 1485.97 1245.66 1483.34 Q1242.73 1480.71 1237.73 1480.71 Q1235.38 1480.71 1233.04 1481.23 Q1230.73 1481.75 1228.3 1482.85 L1228.3 1461.15 Z\" fill=\"#000000\" fill-rule=\"nonzero\" fill-opacity=\"1\" /><path clip-path=\"url(#clip570)\" d=\"M1270.97 1499.43 L1291.37 1499.43 L1291.37 1504.35 L1263.94 1504.35 L1263.94 1499.43 Q1267.27 1495.99 1273 1490.2 Q1278.76 1484.38 1280.23 1482.7 Q1283.04 1479.55 1284.14 1477.38 Q1285.27 1475.18 1285.27 1473.07 Q1285.27 1469.63 1282.84 1467.46 Q1280.44 1465.29 1276.56 1465.29 Q1273.81 1465.29 1270.74 1466.24 Q1267.71 1467.19 1264.23 1469.13 L1264.23 1463.23 Q1267.76 1461.81 1270.83 1461.09 Q1273.9 1460.37 1276.44 1460.37 Q1283.16 1460.37 1287.15 1463.72 Q1291.14 1467.08 1291.14 1472.69 Q1291.14 1475.35 1290.13 1477.76 Q1289.15 1480.13 1286.51 1483.37 Q1285.79 1484.21 1281.91 1488.23 Q1278.04 1492.22 1270.97 1499.43 Z\" fill=\"#000000\" fill-rule=\"nonzero\" fill-opacity=\"1\" /><path clip-path=\"url(#clip570)\" d=\"M1239.23 1223.35 Q1234.72 1223.35 1232.43 1227.81 Q1230.18 1232.24 1230.18 1241.15 Q1230.18 1250.03 1232.43 1254.49 Q1234.72 1258.91 1239.23 1258.91 Q1243.78 1258.91 1246.03 1254.49 Q1248.32 1250.03 1248.32 1241.15 Q1248.32 1232.24 1246.03 1227.81 Q1243.78 1223.35 1239.23 1223.35 M1239.23 1218.72 Q1246.5 1218.72 1250.32 1224.48 Q1254.16 1230.21 1254.16 1241.15 Q1254.16 1252.06 1250.32 1257.81 Q1246.5 1263.54 1239.23 1263.54 Q1231.97 1263.54 1228.12 1257.81 Q1224.3 1252.06 1224.3 1241.15 Q1224.3 1230.21 1228.12 1224.48 Q1231.97 1218.72 1239.23 1218.72 Z\" fill=\"#000000\" fill-rule=\"nonzero\" fill-opacity=\"1\" /><path clip-path=\"url(#clip570)\" d=\"M1242.99 982.954 L1228.24 1006.02 L1242.99 1006.02 L1242.99 982.954 M1241.46 977.862 L1248.81 977.862 L1248.81 1006.02 L1254.97 1006.02 L1254.97 1010.88 L1248.81 1010.88 L1248.81 1021.06 L1242.99 1021.06 L1242.99 1010.88 L1223.49 1010.88 L1223.49 1005.23 L1241.46 977.862 Z\" fill=\"#000000\" fill-rule=\"nonzero\" fill-opacity=\"1\" /><path clip-path=\"url(#clip570)\" d=\"M1227.08 736.219 L1250.03 736.219 L1250.03 741.138 L1232.43 741.138 L1232.43 751.728 Q1233.71 751.294 1234.98 751.092 Q1236.25 750.86 1237.53 750.86 Q1244.76 750.86 1248.98 754.824 Q1253.21 758.788 1253.21 765.559 Q1253.21 772.533 1248.87 776.41 Q1244.53 780.258 1236.63 780.258 Q1233.91 780.258 1231.07 779.795 Q1228.27 779.332 1225.26 778.406 L1225.26 772.533 Q1227.86 773.95 1230.64 774.645 Q1233.42 775.339 1236.51 775.339 Q1241.52 775.339 1244.44 772.706 Q1247.36 770.073 1247.36 765.559 Q1247.36 761.045 1244.44 758.412 Q1241.52 755.779 1236.51 755.779 Q1234.17 755.779 1231.83 756.3 Q1229.51 756.821 1227.08 757.92 L1227.08 736.219 Z\" fill=\"#000000\" fill-rule=\"nonzero\" fill-opacity=\"1\" /><path clip-path=\"url(#clip570)\" d=\"M1225.34 494.576 L1253.12 494.576 L1253.12 497.065 L1237.44 537.776 L1231.33 537.776 L1246.09 499.495 L1225.34 499.495 L1225.34 494.576 Z\" fill=\"#000000\" fill-rule=\"nonzero\" fill-opacity=\"1\" /><path clip-path=\"url(#clip570)\" d=\"M1244.54 272.841 Q1248.74 273.738 1251.08 276.573 Q1253.45 279.409 1253.45 283.576 Q1253.45 289.97 1249.06 293.471 Q1244.66 296.973 1236.56 296.973 Q1233.84 296.973 1230.94 296.423 Q1228.08 295.902 1225.01 294.831 L1225.01 289.189 Q1227.44 290.607 1230.34 291.33 Q1233.23 292.054 1236.38 292.054 Q1241.88 292.054 1244.75 289.884 Q1247.64 287.713 1247.64 283.576 Q1247.64 279.756 1244.95 277.615 Q1242.29 275.445 1237.51 275.445 L1232.48 275.445 L1232.48 270.642 L1237.74 270.642 Q1242.05 270.642 1244.34 268.935 Q1246.63 267.198 1246.63 263.958 Q1246.63 260.63 1244.25 258.865 Q1241.91 257.071 1237.51 257.071 Q1235.11 257.071 1232.36 257.592 Q1229.61 258.113 1226.31 259.212 L1226.31 254.004 Q1229.64 253.078 1232.53 252.615 Q1235.46 252.152 1238.03 252.152 Q1244.69 252.152 1248.56 255.19 Q1252.44 258.2 1252.44 263.35 Q1252.44 266.938 1250.39 269.426 Q1248.33 271.886 1244.54 272.841 Z\" fill=\"#000000\" fill-rule=\"nonzero\" fill-opacity=\"1\" /><path clip-path=\"url(#clip570)\" d=\"M1463.51 2431.57 Q1459 2431.57 1456.71 2436.02 Q1454.45 2440.45 1454.45 2449.36 Q1454.45 2458.24 1456.71 2462.7 Q1459 2467.13 1463.51 2467.13 Q1468.05 2467.13 1470.31 2462.7 Q1472.6 2458.24 1472.6 2449.36 Q1472.6 2440.45 1470.31 2436.02 Q1468.05 2431.57 1463.51 2431.57 M1463.51 2426.94 Q1470.77 2426.94 1474.59 2432.7 Q1478.44 2438.42 1478.44 2449.36 Q1478.44 2460.27 1474.59 2466.03 Q1470.77 2471.76 1463.51 2471.76 Q1456.25 2471.76 1452.4 2466.03 Q1448.58 2460.27 1448.58 2449.36 Q1448.58 2438.42 1452.4 2432.7 Q1456.25 2426.94 1463.51 2426.94 Z\" fill=\"#000000\" fill-rule=\"nonzero\" fill-opacity=\"1\" /><path clip-path=\"url(#clip570)\" d=\"M1451.49 2224.36 L1461.04 2224.36 L1461.04 2191.4 L1450.65 2193.48 L1450.65 2188.16 L1460.98 2186.08 L1466.82 2186.08 L1466.82 2224.36 L1476.37 2224.36 L1476.37 2229.28 L1451.49 2229.28 L1451.49 2224.36 Z\" fill=\"#000000\" fill-rule=\"nonzero\" fill-opacity=\"1\" /><path clip-path=\"url(#clip570)\" d=\"M1463.51 1948.28 Q1459 1948.28 1456.71 1952.74 Q1454.45 1957.16 1454.45 1966.08 Q1454.45 1974.96 1456.71 1979.42 Q1459 1983.84 1463.51 1983.84 Q1468.05 1983.84 1470.31 1979.42 Q1472.6 1974.96 1472.6 1966.08 Q1472.6 1957.16 1470.31 1952.74 Q1468.05 1948.28 1463.51 1948.28 M1463.51 1943.65 Q1470.77 1943.65 1474.59 1949.41 Q1478.44 1955.14 1478.44 1966.08 Q1478.44 1976.98 1474.59 1982.74 Q1470.77 1988.47 1463.51 1988.47 Q1456.25 1988.47 1452.4 1982.74 Q1448.58 1976.98 1448.58 1966.08 Q1448.58 1955.14 1452.4 1949.41 Q1456.25 1943.65 1463.51 1943.65 Z\" fill=\"#000000\" fill-rule=\"nonzero\" fill-opacity=\"1\" /><path clip-path=\"url(#clip570)\" d=\"M1437.74 1741.07 L1458.14 1741.07 L1458.14 1745.99 L1430.71 1745.99 L1430.71 1741.07 Q1434.04 1737.63 1439.77 1731.84 Q1445.53 1726.02 1447 1724.35 Q1449.81 1721.19 1450.91 1719.02 Q1452.04 1716.82 1452.04 1714.71 Q1452.04 1711.27 1449.61 1709.1 Q1447.21 1706.93 1443.33 1706.93 Q1440.58 1706.93 1437.51 1707.88 Q1434.47 1708.84 1431 1710.78 L1431 1704.87 Q1434.53 1703.46 1437.6 1702.73 Q1440.67 1702.01 1443.21 1702.01 Q1449.93 1702.01 1453.92 1705.37 Q1457.91 1708.72 1457.91 1714.34 Q1457.91 1717 1456.9 1719.4 Q1455.91 1721.77 1453.28 1725.01 Q1452.56 1725.85 1448.68 1729.87 Q1444.8 1733.87 1437.74 1741.07 Z\" fill=\"#000000\" fill-rule=\"nonzero\" fill-opacity=\"1\" /><path clip-path=\"url(#clip570)\" d=\"M1471.42 1741.07 L1480.97 1741.07 L1480.97 1708.11 L1470.58 1710.2 L1470.58 1704.87 L1480.91 1702.79 L1486.76 1702.79 L1486.76 1741.07 L1496.31 1741.07 L1496.31 1745.99 L1471.42 1745.99 L1471.42 1741.07 Z\" fill=\"#000000\" fill-rule=\"nonzero\" fill-opacity=\"1\" /><path clip-path=\"url(#clip570)\" d=\"M1463.51 1465 Q1459 1465 1456.71 1469.45 Q1454.45 1473.88 1454.45 1482.79 Q1454.45 1491.67 1456.71 1496.13 Q1459 1500.56 1463.51 1500.56 Q1468.05 1500.56 1470.31 1496.13 Q1472.6 1491.67 1472.6 1482.79 Q1472.6 1473.88 1470.31 1469.45 Q1468.05 1465 1463.51 1465 M1463.51 1460.37 Q1470.77 1460.37 1474.59 1466.12 Q1478.44 1471.85 1478.44 1482.79 Q1478.44 1493.7 1474.59 1499.46 Q1470.77 1505.19 1463.51 1505.19 Q1456.25 1505.19 1452.4 1499.46 Q1448.58 1493.7 1448.58 1482.79 Q1448.58 1471.85 1452.4 1466.12 Q1456.25 1460.37 1463.51 1460.37 Z\" fill=\"#000000\" fill-rule=\"nonzero\" fill-opacity=\"1\" /><path clip-path=\"url(#clip570)\" d=\"M1430.64 1224.6 L1415.88 1247.66 L1430.64 1247.66 L1430.64 1224.6 M1429.11 1219.5 L1436.46 1219.5 L1436.46 1247.66 L1442.62 1247.66 L1442.62 1252.52 L1436.46 1252.52 L1436.46 1262.7 L1430.64 1262.7 L1430.64 1252.52 L1411.14 1252.52 L1411.14 1246.88 L1429.11 1219.5 Z\" fill=\"#000000\" fill-rule=\"nonzero\" fill-opacity=\"1\" /><path clip-path=\"url(#clip570)\" d=\"M1464.78 1223.35 Q1460.27 1223.35 1457.98 1227.81 Q1455.73 1232.24 1455.73 1241.15 Q1455.73 1250.03 1457.98 1254.49 Q1460.27 1258.91 1464.78 1258.91 Q1469.33 1258.91 1471.58 1254.49 Q1473.87 1250.03 1473.87 1241.15 Q1473.87 1232.24 1471.58 1227.81 Q1469.33 1223.35 1464.78 1223.35 M1464.78 1218.72 Q1472.05 1218.72 1475.87 1224.48 Q1479.71 1230.21 1479.71 1241.15 Q1479.71 1252.06 1475.87 1257.81 Q1472.05 1263.54 1464.78 1263.54 Q1457.52 1263.54 1453.67 1257.81 Q1449.85 1252.06 1449.85 1241.15 Q1449.85 1230.21 1453.67 1224.48 Q1457.52 1218.72 1464.78 1218.72 Z\" fill=\"#000000\" fill-rule=\"nonzero\" fill-opacity=\"1\" /><path clip-path=\"url(#clip570)\" d=\"M1491 1257.79 L1500.55 1257.79 L1500.55 1224.83 L1490.16 1226.91 L1490.16 1221.59 L1500.49 1219.5 L1506.33 1219.5 L1506.33 1257.79 L1515.88 1257.79 L1515.88 1262.7 L1491 1262.7 L1491 1257.79 Z\" fill=\"#000000\" fill-rule=\"nonzero\" fill-opacity=\"1\" /><path clip-path=\"url(#clip570)\" d=\"M1431.77 1016.14 L1441.32 1016.14 L1441.32 983.186 L1430.93 985.269 L1430.93 979.945 L1441.26 977.862 L1447.1 977.862 L1447.1 1016.14 L1456.65 1016.14 L1456.65 1021.06 L1431.77 1021.06 L1431.77 1016.14 Z\" fill=\"#000000\" fill-rule=\"nonzero\" fill-opacity=\"1\" /><path clip-path=\"url(#clip570)\" d=\"M1481.68 997.133 Q1477.75 997.133 1475.43 999.824 Q1473.15 1002.51 1473.15 1007.2 Q1473.15 1011.86 1475.43 1014.58 Q1477.75 1017.27 1481.68 1017.27 Q1485.62 1017.27 1487.9 1014.58 Q1490.22 1011.86 1490.22 1007.2 Q1490.22 1002.51 1487.9 999.824 Q1485.62 997.133 1481.68 997.133 M1493.28 978.817 L1493.28 984.141 Q1491.09 983.099 1488.83 982.549 Q1486.6 982 1484.4 982 Q1478.61 982 1475.55 985.906 Q1472.51 989.812 1472.07 997.711 Q1473.78 995.194 1476.36 993.863 Q1478.93 992.503 1482.03 992.503 Q1488.54 992.503 1492.3 996.467 Q1496.09 1000.4 1496.09 1007.2 Q1496.09 1013.86 1492.16 1017.88 Q1488.22 1021.9 1481.68 1021.9 Q1474.19 1021.9 1470.22 1016.17 Q1466.26 1010.41 1466.26 999.505 Q1466.26 989.262 1471.12 983.186 Q1475.98 977.081 1484.17 977.081 Q1486.37 977.081 1488.6 977.515 Q1490.85 977.949 1493.28 978.817 Z\" fill=\"#000000\" fill-rule=\"nonzero\" fill-opacity=\"1\" /><path clip-path=\"url(#clip570)\" d=\"M1463.51 740.067 Q1459 740.067 1456.71 744.523 Q1454.45 748.95 1454.45 757.862 Q1454.45 766.746 1456.71 771.202 Q1459 775.629 1463.51 775.629 Q1468.05 775.629 1470.31 771.202 Q1472.6 766.746 1472.6 757.862 Q1472.6 748.95 1470.31 744.523 Q1468.05 740.067 1463.51 740.067 M1463.51 735.438 Q1470.77 735.438 1474.59 741.196 Q1478.44 746.925 1478.44 757.862 Q1478.44 768.771 1474.59 774.529 Q1470.77 780.258 1463.51 780.258 Q1456.25 780.258 1452.4 774.529 Q1448.58 768.771 1448.58 757.862 Q1448.58 746.925 1452.4 741.196 Q1456.25 735.438 1463.51 735.438 Z\" fill=\"#000000\" fill-rule=\"nonzero\" fill-opacity=\"1\" /><path clip-path=\"url(#clip570)\" d=\"M1464.02 513.847 Q1460.08 513.847 1457.77 516.538 Q1455.48 519.229 1455.48 523.916 Q1455.48 528.575 1457.77 531.295 Q1460.08 533.986 1464.02 533.986 Q1467.95 533.986 1470.24 531.295 Q1472.55 528.575 1472.55 523.916 Q1472.55 519.229 1470.24 516.538 Q1467.95 513.847 1464.02 513.847 M1475.62 495.531 L1475.62 500.855 Q1473.42 499.814 1471.16 499.264 Q1468.94 498.714 1466.74 498.714 Q1460.95 498.714 1457.88 502.62 Q1454.84 506.526 1454.41 514.426 Q1456.12 511.908 1458.69 510.577 Q1461.27 509.217 1464.36 509.217 Q1470.87 509.217 1474.64 513.182 Q1478.43 517.117 1478.43 523.916 Q1478.43 530.571 1474.49 534.593 Q1470.56 538.615 1464.02 538.615 Q1456.52 538.615 1452.56 532.886 Q1448.59 527.128 1448.59 516.22 Q1448.59 505.977 1453.46 499.9 Q1458.32 493.795 1466.5 493.795 Q1468.7 493.795 1470.93 494.229 Q1473.19 494.663 1475.62 495.531 Z\" fill=\"#000000\" fill-rule=\"nonzero\" fill-opacity=\"1\" /><path clip-path=\"url(#clip570)\" d=\"M1451.49 291.215 L1461.04 291.215 L1461.04 258.258 L1450.65 260.341 L1450.65 255.017 L1460.98 252.934 L1466.82 252.934 L1466.82 291.215 L1476.37 291.215 L1476.37 296.134 L1451.49 296.134 L1451.49 291.215 Z\" fill=\"#000000\" fill-rule=\"nonzero\" fill-opacity=\"1\" /><path clip-path=\"url(#clip570)\" d=\"M1688.29 2446.99 Q1684.36 2446.99 1682.04 2449.68 Q1679.76 2452.37 1679.76 2457.06 Q1679.76 2461.72 1682.04 2464.44 Q1684.36 2467.13 1688.29 2467.13 Q1692.23 2467.13 1694.51 2464.44 Q1696.83 2461.72 1696.83 2457.06 Q1696.83 2452.37 1694.51 2449.68 Q1692.23 2446.99 1688.29 2446.99 M1699.9 2428.67 L1699.9 2434 Q1697.7 2432.96 1695.44 2432.41 Q1693.21 2431.86 1691.01 2431.86 Q1685.23 2431.86 1682.16 2435.76 Q1679.12 2439.67 1678.69 2447.57 Q1680.39 2445.05 1682.97 2443.72 Q1685.54 2442.36 1688.64 2442.36 Q1695.15 2442.36 1698.91 2446.32 Q1702.7 2450.26 1702.7 2457.06 Q1702.7 2463.71 1698.77 2467.74 Q1694.83 2471.76 1688.29 2471.76 Q1680.8 2471.76 1676.84 2466.03 Q1672.87 2460.27 1672.87 2449.36 Q1672.87 2439.12 1677.73 2433.04 Q1682.59 2426.94 1690.78 2426.94 Q1692.98 2426.94 1695.21 2427.37 Q1697.47 2427.81 1699.9 2428.67 Z\" fill=\"#000000\" fill-rule=\"nonzero\" fill-opacity=\"1\" /><path clip-path=\"url(#clip570)\" d=\"M1687.79 2189.92 Q1683.27 2189.92 1680.99 2194.38 Q1678.73 2198.81 1678.73 2207.72 Q1678.73 2216.6 1680.99 2221.06 Q1683.27 2225.49 1687.79 2225.49 Q1692.33 2225.49 1694.59 2221.06 Q1696.87 2216.6 1696.87 2207.72 Q1696.87 2198.81 1694.59 2194.38 Q1692.33 2189.92 1687.79 2189.92 M1687.79 2185.29 Q1695.05 2185.29 1698.87 2191.05 Q1702.72 2196.78 1702.72 2207.72 Q1702.72 2218.63 1698.87 2224.39 Q1695.05 2230.11 1687.79 2230.11 Q1680.52 2230.11 1676.68 2224.39 Q1672.86 2218.63 1672.86 2207.72 Q1672.86 2196.78 1676.68 2191.05 Q1680.52 2185.29 1687.79 2185.29 Z\" fill=\"#000000\" fill-rule=\"nonzero\" fill-opacity=\"1\" /><path clip-path=\"url(#clip570)\" d=\"M1675.76 1982.71 L1685.31 1982.71 L1685.31 1949.76 L1674.93 1951.84 L1674.93 1946.52 L1685.26 1944.43 L1691.1 1944.43 L1691.1 1982.71 L1700.65 1982.71 L1700.65 1987.63 L1675.76 1987.63 L1675.76 1982.71 Z\" fill=\"#000000\" fill-rule=\"nonzero\" fill-opacity=\"1\" /><path clip-path=\"url(#clip570)\" d=\"M1687.79 1706.64 Q1683.27 1706.64 1680.99 1711.09 Q1678.73 1715.52 1678.73 1724.43 Q1678.73 1733.32 1680.99 1737.77 Q1683.27 1742.2 1687.79 1742.2 Q1692.33 1742.2 1694.59 1737.77 Q1696.87 1733.32 1696.87 1724.43 Q1696.87 1715.52 1694.59 1711.09 Q1692.33 1706.64 1687.79 1706.64 M1687.79 1702.01 Q1695.05 1702.01 1698.87 1707.77 Q1702.72 1713.5 1702.72 1724.43 Q1702.72 1735.34 1698.87 1741.1 Q1695.05 1746.83 1687.79 1746.83 Q1680.52 1746.83 1676.68 1741.1 Q1672.86 1735.34 1672.86 1724.43 Q1672.86 1713.5 1676.68 1707.77 Q1680.52 1702.01 1687.79 1702.01 Z\" fill=\"#000000\" fill-rule=\"nonzero\" fill-opacity=\"1\" /><path clip-path=\"url(#clip570)\" d=\"M1657.14 1499.43 L1666.69 1499.43 L1666.69 1466.47 L1656.31 1468.55 L1656.31 1463.23 L1666.64 1461.15 L1672.48 1461.15 L1672.48 1499.43 L1682.03 1499.43 L1682.03 1504.35 L1657.14 1504.35 L1657.14 1499.43 Z\" fill=\"#000000\" fill-rule=\"nonzero\" fill-opacity=\"1\" /><path clip-path=\"url(#clip570)\" d=\"M1698.87 1499.43 L1719.27 1499.43 L1719.27 1504.35 L1691.84 1504.35 L1691.84 1499.43 Q1695.17 1495.99 1700.89 1490.2 Q1706.65 1484.38 1708.13 1482.7 Q1710.93 1479.55 1712.03 1477.38 Q1713.16 1475.18 1713.16 1473.07 Q1713.16 1469.63 1710.73 1467.46 Q1708.33 1465.29 1704.45 1465.29 Q1701.7 1465.29 1698.64 1466.24 Q1695.6 1467.19 1692.13 1469.13 L1692.13 1463.23 Q1695.66 1461.81 1698.72 1461.09 Q1701.79 1460.37 1704.34 1460.37 Q1711.05 1460.37 1715.04 1463.72 Q1719.04 1467.08 1719.04 1472.69 Q1719.04 1475.35 1718.02 1477.76 Q1717.04 1480.13 1714.41 1483.37 Q1713.68 1484.21 1709.81 1488.23 Q1705.93 1492.22 1698.87 1499.43 Z\" fill=\"#000000\" fill-rule=\"nonzero\" fill-opacity=\"1\" /><path clip-path=\"url(#clip570)\" d=\"M1656.91 1257.79 L1666.46 1257.79 L1666.46 1224.83 L1656.07 1226.91 L1656.07 1221.59 L1666.4 1219.5 L1672.25 1219.5 L1672.25 1257.79 L1681.8 1257.79 L1681.8 1262.7 L1656.91 1262.7 L1656.91 1257.79 Z\" fill=\"#000000\" fill-rule=\"nonzero\" fill-opacity=\"1\" /><path clip-path=\"url(#clip570)\" d=\"M1694.62 1257.79 L1704.16 1257.79 L1704.16 1224.83 L1693.78 1226.91 L1693.78 1221.59 L1704.11 1219.5 L1709.95 1219.5 L1709.95 1257.79 L1719.5 1257.79 L1719.5 1262.7 L1694.62 1262.7 L1694.62 1257.79 Z\" fill=\"#000000\" fill-rule=\"nonzero\" fill-opacity=\"1\" /><path clip-path=\"url(#clip570)\" d=\"M1654.15 982.954 L1639.39 1006.02 L1654.15 1006.02 L1654.15 982.954 M1652.62 977.862 L1659.97 977.862 L1659.97 1006.02 L1666.13 1006.02 L1666.13 1010.88 L1659.97 1010.88 L1659.97 1021.06 L1654.15 1021.06 L1654.15 1010.88 L1634.65 1010.88 L1634.65 1005.23 L1652.62 977.862 Z\" fill=\"#000000\" fill-rule=\"nonzero\" fill-opacity=\"1\" /><path clip-path=\"url(#clip570)\" d=\"M1693.5 997.769 Q1697.7 998.666 1700.04 1001.5 Q1702.41 1004.34 1702.41 1008.5 Q1702.41 1014.9 1698.02 1018.4 Q1693.62 1021.9 1685.52 1021.9 Q1682.8 1021.9 1679.9 1021.35 Q1677.04 1020.83 1673.97 1019.76 L1673.97 1014.12 Q1676.4 1015.54 1679.29 1016.26 Q1682.19 1016.98 1685.34 1016.98 Q1690.84 1016.98 1693.7 1014.81 Q1696.6 1012.64 1696.6 1008.5 Q1696.6 1004.68 1693.91 1002.54 Q1691.24 1000.37 1686.47 1000.37 L1681.44 1000.37 L1681.44 995.57 L1686.7 995.57 Q1691.01 995.57 1693.3 993.863 Q1695.58 992.127 1695.58 988.886 Q1695.58 985.559 1693.21 983.794 Q1690.87 982 1686.47 982 Q1684.07 982 1681.32 982.52 Q1678.57 983.041 1675.27 984.141 L1675.27 978.932 Q1678.6 978.007 1681.49 977.544 Q1684.42 977.081 1686.99 977.081 Q1693.65 977.081 1697.52 980.119 Q1701.4 983.128 1701.4 988.278 Q1701.4 991.866 1699.35 994.355 Q1697.29 996.814 1693.5 997.769 Z\" fill=\"#000000\" fill-rule=\"nonzero\" fill-opacity=\"1\" /><path clip-path=\"url(#clip570)\" d=\"M1726 981.71 Q1721.48 981.71 1719.2 986.166 Q1716.94 990.593 1716.94 999.505 Q1716.94 1008.39 1719.2 1012.84 Q1721.48 1017.27 1726 1017.27 Q1730.54 1017.27 1732.8 1012.84 Q1735.08 1008.39 1735.08 999.505 Q1735.08 990.593 1732.8 986.166 Q1730.54 981.71 1726 981.71 M1726 977.081 Q1733.26 977.081 1737.08 982.839 Q1740.93 988.568 1740.93 999.505 Q1740.93 1010.41 1737.08 1016.17 Q1733.26 1021.9 1726 1021.9 Q1718.73 1021.9 1714.88 1016.17 Q1711.07 1010.41 1711.07 999.505 Q1711.07 988.568 1714.88 982.839 Q1718.73 977.081 1726 977.081 Z\" fill=\"#000000\" fill-rule=\"nonzero\" fill-opacity=\"1\" /><path clip-path=\"url(#clip570)\" d=\"M1687.79 740.067 Q1683.27 740.067 1680.99 744.523 Q1678.73 748.95 1678.73 757.862 Q1678.73 766.746 1680.99 771.202 Q1683.27 775.629 1687.79 775.629 Q1692.33 775.629 1694.59 771.202 Q1696.87 766.746 1696.87 757.862 Q1696.87 748.95 1694.59 744.523 Q1692.33 740.067 1687.79 740.067 M1687.79 735.438 Q1695.05 735.438 1698.87 741.196 Q1702.72 746.925 1702.72 757.862 Q1702.72 768.771 1698.87 774.529 Q1695.05 780.258 1687.79 780.258 Q1680.52 780.258 1676.68 774.529 Q1672.86 768.771 1672.86 757.862 Q1672.86 746.925 1676.68 741.196 Q1680.52 735.438 1687.79 735.438 Z\" fill=\"#000000\" fill-rule=\"nonzero\" fill-opacity=\"1\" /><path clip-path=\"url(#clip570)\" d=\"M1691.55 499.669 L1676.79 522.73 L1691.55 522.73 L1691.55 499.669 M1690.01 494.576 L1697.36 494.576 L1697.36 522.73 L1703.53 522.73 L1703.53 527.591 L1697.36 527.591 L1697.36 537.776 L1691.55 537.776 L1691.55 527.591 L1672.05 527.591 L1672.05 521.949 L1690.01 494.576 Z\" fill=\"#000000\" fill-rule=\"nonzero\" fill-opacity=\"1\" /><path clip-path=\"url(#clip570)\" d=\"M1675.76 291.215 L1685.31 291.215 L1685.31 258.258 L1674.93 260.341 L1674.93 255.017 L1685.26 252.934 L1691.1 252.934 L1691.1 291.215 L1700.65 291.215 L1700.65 296.134 L1675.76 296.134 L1675.76 291.215 Z\" fill=\"#000000\" fill-rule=\"nonzero\" fill-opacity=\"1\" /><path clip-path=\"url(#clip570)\" d=\"M1912.06 2431.57 Q1907.55 2431.57 1905.26 2436.02 Q1903.01 2440.45 1903.01 2449.36 Q1903.01 2458.24 1905.26 2462.7 Q1907.55 2467.13 1912.06 2467.13 Q1916.61 2467.13 1918.86 2462.7 Q1921.15 2458.24 1921.15 2449.36 Q1921.15 2440.45 1918.86 2436.02 Q1916.61 2431.57 1912.06 2431.57 M1912.06 2426.94 Q1919.33 2426.94 1923.15 2432.7 Q1926.99 2438.42 1926.99 2449.36 Q1926.99 2460.27 1923.15 2466.03 Q1919.33 2471.76 1912.06 2471.76 Q1904.8 2471.76 1900.95 2466.03 Q1897.13 2460.27 1897.13 2449.36 Q1897.13 2438.42 1900.95 2432.7 Q1904.8 2426.94 1912.06 2426.94 Z\" fill=\"#000000\" fill-rule=\"nonzero\" fill-opacity=\"1\" /><path clip-path=\"url(#clip570)\" d=\"M1917.37 2205.98 Q1921.57 2206.88 1923.91 2209.72 Q1926.29 2212.55 1926.29 2216.72 Q1926.29 2223.11 1921.89 2226.61 Q1917.49 2230.11 1909.39 2230.11 Q1906.67 2230.11 1903.77 2229.57 Q1900.91 2229.04 1897.84 2227.97 L1897.84 2222.33 Q1900.27 2223.75 1903.17 2224.47 Q1906.06 2225.2 1909.21 2225.2 Q1914.71 2225.2 1917.58 2223.03 Q1920.47 2220.86 1920.47 2216.72 Q1920.47 2212.9 1917.78 2210.76 Q1915.12 2208.59 1910.34 2208.59 L1905.31 2208.59 L1905.31 2203.78 L1910.57 2203.78 Q1914.88 2203.78 1917.17 2202.08 Q1919.46 2200.34 1919.46 2197.1 Q1919.46 2193.77 1917.08 2192.01 Q1914.74 2190.21 1910.34 2190.21 Q1907.94 2190.21 1905.19 2190.73 Q1902.44 2191.26 1899.14 2192.35 L1899.14 2187.15 Q1902.47 2186.22 1905.37 2185.76 Q1908.29 2185.29 1910.86 2185.29 Q1917.52 2185.29 1921.4 2188.33 Q1925.27 2191.34 1925.27 2196.49 Q1925.27 2200.08 1923.22 2202.57 Q1921.16 2205.03 1917.37 2205.98 Z\" fill=\"#000000\" fill-rule=\"nonzero\" fill-opacity=\"1\" /><path clip-path=\"url(#clip570)\" d=\"M1881.19 1982.71 L1890.74 1982.71 L1890.74 1949.76 L1880.35 1951.84 L1880.35 1946.52 L1890.68 1944.43 L1896.53 1944.43 L1896.53 1982.71 L1906.07 1982.71 L1906.07 1987.63 L1881.19 1987.63 L1881.19 1982.71 Z\" fill=\"#000000\" fill-rule=\"nonzero\" fill-opacity=\"1\" /><path clip-path=\"url(#clip570)\" d=\"M1918.89 1982.71 L1928.44 1982.71 L1928.44 1949.76 L1918.05 1951.84 L1918.05 1946.52 L1928.38 1944.43 L1934.23 1944.43 L1934.23 1982.71 L1943.78 1982.71 L1943.78 1987.63 L1918.89 1987.63 L1918.89 1982.71 Z\" fill=\"#000000\" fill-rule=\"nonzero\" fill-opacity=\"1\" /><path clip-path=\"url(#clip570)\" d=\"M1912.57 1722.06 Q1908.63 1722.06 1906.32 1724.75 Q1904.03 1727.44 1904.03 1732.13 Q1904.03 1736.79 1906.32 1739.51 Q1908.63 1742.2 1912.57 1742.2 Q1916.51 1742.2 1918.79 1739.51 Q1921.11 1736.79 1921.11 1732.13 Q1921.11 1727.44 1918.79 1724.75 Q1916.51 1722.06 1912.57 1722.06 M1924.17 1703.74 L1924.17 1709.07 Q1921.97 1708.03 1919.72 1707.48 Q1917.49 1706.93 1915.29 1706.93 Q1909.5 1706.93 1906.44 1710.83 Q1903.4 1714.74 1902.96 1722.64 Q1904.67 1720.12 1907.25 1718.79 Q1909.82 1717.43 1912.92 1717.43 Q1919.43 1717.43 1923.19 1721.4 Q1926.98 1725.33 1926.98 1732.13 Q1926.98 1738.79 1923.04 1742.81 Q1919.11 1746.83 1912.57 1746.83 Q1905.08 1746.83 1901.11 1741.1 Q1897.15 1735.34 1897.15 1724.43 Q1897.15 1714.19 1902.01 1708.11 Q1906.87 1702.01 1915.06 1702.01 Q1917.26 1702.01 1919.49 1702.44 Q1921.74 1702.88 1924.17 1703.74 Z\" fill=\"#000000\" fill-rule=\"nonzero\" fill-opacity=\"1\" /><path clip-path=\"url(#clip570)\" d=\"M1915.83 1466.24 L1901.07 1489.3 L1915.83 1489.3 L1915.83 1466.24 M1914.29 1461.15 L1921.64 1461.15 L1921.64 1489.3 L1927.8 1489.3 L1927.8 1494.16 L1921.64 1494.16 L1921.64 1504.35 L1915.83 1504.35 L1915.83 1494.16 L1896.32 1494.16 L1896.32 1488.52 L1914.29 1461.15 Z\" fill=\"#000000\" fill-rule=\"nonzero\" fill-opacity=\"1\" /><path clip-path=\"url(#clip570)\" d=\"M1912.06 1223.35 Q1907.55 1223.35 1905.26 1227.81 Q1903.01 1232.24 1903.01 1241.15 Q1903.01 1250.03 1905.26 1254.49 Q1907.55 1258.91 1912.06 1258.91 Q1916.61 1258.91 1918.86 1254.49 Q1921.15 1250.03 1921.15 1241.15 Q1921.15 1232.24 1918.86 1227.81 Q1916.61 1223.35 1912.06 1223.35 M1912.06 1218.72 Q1919.33 1218.72 1923.15 1224.48 Q1926.99 1230.21 1926.99 1241.15 Q1926.99 1252.06 1923.15 1257.81 Q1919.33 1263.54 1912.06 1263.54 Q1904.8 1263.54 1900.95 1257.81 Q1897.13 1252.06 1897.13 1241.15 Q1897.13 1230.21 1900.95 1224.48 Q1904.8 1218.72 1912.06 1218.72 Z\" fill=\"#000000\" fill-rule=\"nonzero\" fill-opacity=\"1\" /><path clip-path=\"url(#clip570)\" d=\"M1912.06 981.71 Q1907.55 981.71 1905.26 986.166 Q1903.01 990.593 1903.01 999.505 Q1903.01 1008.39 1905.26 1012.84 Q1907.55 1017.27 1912.06 1017.27 Q1916.61 1017.27 1918.86 1012.84 Q1921.15 1008.39 1921.15 999.505 Q1921.15 990.593 1918.86 986.166 Q1916.61 981.71 1912.06 981.71 M1912.06 977.081 Q1919.33 977.081 1923.15 982.839 Q1926.99 988.568 1926.99 999.505 Q1926.99 1010.41 1923.15 1016.17 Q1919.33 1021.9 1912.06 1021.9 Q1904.8 1021.9 1900.95 1016.17 Q1897.13 1010.41 1897.13 999.505 Q1897.13 988.568 1900.95 982.839 Q1904.8 977.081 1912.06 977.081 Z\" fill=\"#000000\" fill-rule=\"nonzero\" fill-opacity=\"1\" /><path clip-path=\"url(#clip570)\" d=\"M1878.48 741.312 L1863.73 764.373 L1878.48 764.373 L1878.48 741.312 M1876.95 736.219 L1884.3 736.219 L1884.3 764.373 L1890.46 764.373 L1890.46 769.234 L1884.3 769.234 L1884.3 779.419 L1878.48 779.419 L1878.48 769.234 L1858.98 769.234 L1858.98 763.592 L1876.95 736.219 Z\" fill=\"#000000\" fill-rule=\"nonzero\" fill-opacity=\"1\" /><path clip-path=\"url(#clip570)\" d=\"M1916.19 741.312 L1901.43 764.373 L1916.19 764.373 L1916.19 741.312 M1914.65 736.219 L1922 736.219 L1922 764.373 L1928.17 764.373 L1928.17 769.234 L1922 769.234 L1922 779.419 L1916.19 779.419 L1916.19 769.234 L1896.68 769.234 L1896.68 763.592 L1914.65 736.219 Z\" fill=\"#000000\" fill-rule=\"nonzero\" fill-opacity=\"1\" /><path clip-path=\"url(#clip570)\" d=\"M1950.33 758.904 Q1946.16 758.904 1943.76 761.132 Q1941.39 763.36 1941.39 767.266 Q1941.39 771.173 1943.76 773.401 Q1946.16 775.629 1950.33 775.629 Q1954.5 775.629 1956.9 773.401 Q1959.3 771.144 1959.3 767.266 Q1959.3 763.36 1956.9 761.132 Q1954.53 758.904 1950.33 758.904 M1944.49 756.416 Q1940.72 755.49 1938.61 752.915 Q1936.53 750.339 1936.53 746.636 Q1936.53 741.456 1940.2 738.447 Q1943.91 735.438 1950.33 735.438 Q1956.78 735.438 1960.46 738.447 Q1964.13 741.456 1964.13 746.636 Q1964.13 750.339 1962.02 752.915 Q1959.94 755.49 1956.2 756.416 Q1960.43 757.399 1962.77 760.264 Q1965.15 763.129 1965.15 767.266 Q1965.15 773.545 1961.3 776.902 Q1957.48 780.258 1950.33 780.258 Q1943.18 780.258 1939.34 776.902 Q1935.52 773.545 1935.52 767.266 Q1935.52 763.129 1937.89 760.264 Q1940.26 757.399 1944.49 756.416 M1942.34 747.185 Q1942.34 750.542 1944.43 752.423 Q1946.54 754.303 1950.33 754.303 Q1954.09 754.303 1956.2 752.423 Q1958.35 750.542 1958.35 747.185 Q1958.35 743.829 1956.2 741.948 Q1954.09 740.067 1950.33 740.067 Q1946.54 740.067 1944.43 741.948 Q1942.34 743.829 1942.34 747.185 Z\" fill=\"#000000\" fill-rule=\"nonzero\" fill-opacity=\"1\" /><path clip-path=\"url(#clip570)\" d=\"M1912.57 513.847 Q1908.63 513.847 1906.32 516.538 Q1904.03 519.229 1904.03 523.916 Q1904.03 528.575 1906.32 531.295 Q1908.63 533.986 1912.57 533.986 Q1916.51 533.986 1918.79 531.295 Q1921.11 528.575 1921.11 523.916 Q1921.11 519.229 1918.79 516.538 Q1916.51 513.847 1912.57 513.847 M1924.17 495.531 L1924.17 500.855 Q1921.97 499.814 1919.72 499.264 Q1917.49 498.714 1915.29 498.714 Q1909.5 498.714 1906.44 502.62 Q1903.4 506.526 1902.96 514.426 Q1904.67 511.908 1907.25 510.577 Q1909.82 509.217 1912.92 509.217 Q1919.43 509.217 1923.19 513.182 Q1926.98 517.117 1926.98 523.916 Q1926.98 530.571 1923.04 534.593 Q1919.11 538.615 1912.57 538.615 Q1905.08 538.615 1901.11 532.886 Q1897.15 527.128 1897.15 516.22 Q1897.15 505.977 1902.01 499.9 Q1906.87 493.795 1915.06 493.795 Q1917.26 493.795 1919.49 494.229 Q1921.74 494.663 1924.17 495.531 Z\" fill=\"#000000\" fill-rule=\"nonzero\" fill-opacity=\"1\" /><path clip-path=\"url(#clip570)\" d=\"M1912.57 272.204 Q1908.63 272.204 1906.32 274.895 Q1904.03 277.586 1904.03 282.274 Q1904.03 286.932 1906.32 289.652 Q1908.63 292.343 1912.57 292.343 Q1916.51 292.343 1918.79 289.652 Q1921.11 286.932 1921.11 282.274 Q1921.11 277.586 1918.79 274.895 Q1916.51 272.204 1912.57 272.204 M1924.17 253.888 L1924.17 259.212 Q1921.97 258.171 1919.72 257.621 Q1917.49 257.071 1915.29 257.071 Q1909.5 257.071 1906.44 260.977 Q1903.4 264.884 1902.96 272.783 Q1904.67 270.266 1907.25 268.935 Q1909.82 267.575 1912.92 267.575 Q1919.43 267.575 1923.19 271.539 Q1926.98 275.474 1926.98 282.274 Q1926.98 288.929 1923.04 292.951 Q1919.11 296.973 1912.57 296.973 Q1905.08 296.973 1901.11 291.243 Q1897.15 285.485 1897.15 274.577 Q1897.15 264.334 1902.01 258.258 Q1906.87 252.152 1915.06 252.152 Q1917.26 252.152 1919.49 252.586 Q1921.74 253.02 1924.17 253.888 Z\" fill=\"#000000\" fill-rule=\"nonzero\" fill-opacity=\"1\" /><path clip-path=\"url(#clip570)\" d=\"M2124.32 2466 L2133.87 2466 L2133.87 2433.04 L2123.48 2435.13 L2123.48 2429.8 L2133.81 2427.72 L2139.65 2427.72 L2139.65 2466 L2149.2 2466 L2149.2 2470.92 L2124.32 2470.92 L2124.32 2466 Z\" fill=\"#000000\" fill-rule=\"nonzero\" fill-opacity=\"1\" /><path clip-path=\"url(#clip570)\" d=\"M2129.66 2224.36 L2150.06 2224.36 L2150.06 2229.28 L2122.63 2229.28 L2122.63 2224.36 Q2125.95 2220.91 2131.68 2215.13 Q2137.44 2209.31 2138.92 2207.63 Q2141.72 2204.48 2142.82 2202.31 Q2143.95 2200.11 2143.95 2198 Q2143.95 2194.55 2141.52 2192.38 Q2139.12 2190.21 2135.24 2190.21 Q2132.49 2190.21 2129.43 2191.17 Q2126.39 2192.12 2122.91 2194.06 L2122.91 2188.16 Q2126.44 2186.74 2129.51 2186.02 Q2132.58 2185.29 2135.13 2185.29 Q2141.84 2185.29 2145.83 2188.65 Q2149.82 2192.01 2149.82 2197.62 Q2149.82 2200.28 2148.81 2202.68 Q2147.83 2205.06 2145.19 2208.3 Q2144.47 2209.14 2140.59 2213.16 Q2136.72 2217.15 2129.66 2224.36 Z\" fill=\"#000000\" fill-rule=\"nonzero\" fill-opacity=\"1\" /><path clip-path=\"url(#clip570)\" d=\"M2105.47 1982.71 L2115.02 1982.71 L2115.02 1949.76 L2104.63 1951.84 L2104.63 1946.52 L2114.96 1944.43 L2120.8 1944.43 L2120.8 1982.71 L2130.35 1982.71 L2130.35 1987.63 L2105.47 1987.63 L2105.47 1982.71 Z\" fill=\"#000000\" fill-rule=\"nonzero\" fill-opacity=\"1\" /><path clip-path=\"url(#clip570)\" d=\"M2143.17 1982.71 L2152.72 1982.71 L2152.72 1949.76 L2142.33 1951.84 L2142.33 1946.52 L2152.66 1944.43 L2158.5 1944.43 L2158.5 1982.71 L2168.05 1982.71 L2168.05 1987.63 L2143.17 1987.63 L2143.17 1982.71 Z\" fill=\"#000000\" fill-rule=\"nonzero\" fill-opacity=\"1\" /><path clip-path=\"url(#clip570)\" d=\"M2122.45 1702.79 L2150.23 1702.79 L2150.23 1705.28 L2134.55 1745.99 L2128.44 1745.99 L2143.2 1707.71 L2122.45 1707.71 L2122.45 1702.79 Z\" fill=\"#000000\" fill-rule=\"nonzero\" fill-opacity=\"1\" /><path clip-path=\"url(#clip570)\" d=\"M2136.34 1465 Q2131.83 1465 2129.54 1469.45 Q2127.28 1473.88 2127.28 1482.79 Q2127.28 1491.67 2129.54 1496.13 Q2131.83 1500.56 2136.34 1500.56 Q2140.88 1500.56 2143.14 1496.13 Q2145.43 1491.67 2145.43 1482.79 Q2145.43 1473.88 2143.14 1469.45 Q2140.88 1465 2136.34 1465 M2136.34 1460.37 Q2143.6 1460.37 2147.42 1466.12 Q2151.27 1471.85 2151.27 1482.79 Q2151.27 1493.7 2147.42 1499.46 Q2143.6 1505.19 2136.34 1505.19 Q2129.08 1505.19 2125.23 1499.46 Q2121.41 1493.7 2121.41 1482.79 Q2121.41 1471.85 2125.23 1466.12 Q2129.08 1460.37 2136.34 1460.37 Z\" fill=\"#000000\" fill-rule=\"nonzero\" fill-opacity=\"1\" /><path clip-path=\"url(#clip570)\" d=\"M2109.71 1257.79 L2130.11 1257.79 L2130.11 1262.7 L2102.67 1262.7 L2102.67 1257.79 Q2106 1254.34 2111.73 1248.56 Q2117.49 1242.74 2118.97 1241.06 Q2121.77 1237.91 2122.87 1235.74 Q2124 1233.54 2124 1231.43 Q2124 1227.98 2121.57 1225.81 Q2119.17 1223.64 2115.29 1223.64 Q2112.54 1223.64 2109.47 1224.6 Q2106.44 1225.55 2102.96 1227.49 L2102.96 1221.59 Q2106.49 1220.17 2109.56 1219.45 Q2112.63 1218.72 2115.17 1218.72 Q2121.89 1218.72 2125.88 1222.08 Q2129.87 1225.44 2129.87 1231.05 Q2129.87 1233.71 2128.86 1236.11 Q2127.88 1238.49 2125.24 1241.73 Q2124.52 1242.57 2120.64 1246.59 Q2116.77 1250.58 2109.71 1257.79 Z\" fill=\"#000000\" fill-rule=\"nonzero\" fill-opacity=\"1\" /><path clip-path=\"url(#clip570)\" d=\"M2155.6 1238.78 Q2151.66 1238.78 2149.35 1241.47 Q2147.06 1244.16 2147.06 1248.84 Q2147.06 1253.5 2149.35 1256.22 Q2151.66 1258.91 2155.6 1258.91 Q2159.53 1258.91 2161.82 1256.22 Q2164.13 1253.5 2164.13 1248.84 Q2164.13 1244.16 2161.82 1241.47 Q2159.53 1238.78 2155.6 1238.78 M2167.2 1220.46 L2167.2 1225.78 Q2165 1224.74 2162.74 1224.19 Q2160.52 1223.64 2158.32 1223.64 Q2152.53 1223.64 2149.46 1227.55 Q2146.42 1231.45 2145.99 1239.35 Q2147.7 1236.84 2150.27 1235.51 Q2152.85 1234.15 2155.94 1234.15 Q2162.45 1234.15 2166.22 1238.11 Q2170.01 1242.04 2170.01 1248.84 Q2170.01 1255.5 2166.07 1259.52 Q2162.14 1263.54 2155.6 1263.54 Q2148.1 1263.54 2144.14 1257.81 Q2140.17 1252.06 2140.17 1241.15 Q2140.17 1230.91 2145.04 1224.83 Q2149.9 1218.72 2158.09 1218.72 Q2160.28 1218.72 2162.51 1219.16 Q2164.77 1219.59 2167.2 1220.46 Z\" fill=\"#000000\" fill-rule=\"nonzero\" fill-opacity=\"1\" /><path clip-path=\"url(#clip570)\" d=\"M2129.66 1016.14 L2150.06 1016.14 L2150.06 1021.06 L2122.63 1021.06 L2122.63 1016.14 Q2125.95 1012.7 2131.68 1006.91 Q2137.44 1001.1 2138.92 999.418 Q2141.72 996.265 2142.82 994.094 Q2143.95 991.895 2143.95 989.783 Q2143.95 986.34 2141.52 984.17 Q2139.12 982 2135.24 982 Q2132.49 982 2129.43 982.954 Q2126.39 983.909 2122.91 985.848 L2122.91 979.945 Q2126.44 978.527 2129.51 977.804 Q2132.58 977.081 2135.13 977.081 Q2141.84 977.081 2145.83 980.437 Q2149.82 983.794 2149.82 989.407 Q2149.82 992.069 2148.81 994.471 Q2147.83 996.843 2145.19 1000.08 Q2144.47 1000.92 2140.59 1004.95 Q2136.72 1008.94 2129.66 1016.14 Z\" fill=\"#000000\" fill-rule=\"nonzero\" fill-opacity=\"1\" /><path clip-path=\"url(#clip570)\" d=\"M2140.1 741.312 L2125.35 764.373 L2140.1 764.373 L2140.1 741.312 M2138.57 736.219 L2145.92 736.219 L2145.92 764.373 L2152.08 764.373 L2152.08 769.234 L2145.92 769.234 L2145.92 779.419 L2140.1 779.419 L2140.1 769.234 L2120.6 769.234 L2120.6 763.592 L2138.57 736.219 Z\" fill=\"#000000\" fill-rule=\"nonzero\" fill-opacity=\"1\" /><path clip-path=\"url(#clip570)\" d=\"M2103.66 514.484 Q2107.85 515.381 2110.2 518.216 Q2112.57 521.052 2112.57 525.218 Q2112.57 531.613 2108.17 535.114 Q2103.77 538.615 2095.67 538.615 Q2092.95 538.615 2090.06 538.066 Q2087.19 537.545 2084.13 536.474 L2084.13 530.832 Q2086.56 532.25 2089.45 532.973 Q2092.34 533.696 2095.5 533.696 Q2101 533.696 2103.86 531.526 Q2106.75 529.356 2106.75 525.218 Q2106.75 521.399 2104.06 519.258 Q2101.4 517.088 2096.63 517.088 L2091.59 517.088 L2091.59 512.285 L2096.86 512.285 Q2101.17 512.285 2103.46 510.577 Q2105.74 508.841 2105.74 505.601 Q2105.74 502.273 2103.37 500.508 Q2101.03 498.714 2096.63 498.714 Q2094.23 498.714 2091.48 499.235 Q2088.73 499.756 2085.43 500.855 L2085.43 495.647 Q2088.76 494.721 2091.65 494.258 Q2094.57 493.795 2097.15 493.795 Q2103.8 493.795 2107.68 496.833 Q2111.56 499.842 2111.56 504.993 Q2111.56 508.581 2109.5 511.069 Q2107.45 513.529 2103.66 514.484 Z\" fill=\"#000000\" fill-rule=\"nonzero\" fill-opacity=\"1\" /><path clip-path=\"url(#clip570)\" d=\"M2136.15 517.261 Q2131.99 517.261 2129.58 519.489 Q2127.21 521.717 2127.21 525.624 Q2127.21 529.53 2129.58 531.758 Q2131.99 533.986 2136.15 533.986 Q2140.32 533.986 2142.72 531.758 Q2145.12 529.501 2145.12 525.624 Q2145.12 521.717 2142.72 519.489 Q2140.35 517.261 2136.15 517.261 M2130.31 514.773 Q2126.55 513.847 2124.43 511.272 Q2122.35 508.697 2122.35 504.993 Q2122.35 499.814 2126.03 496.804 Q2129.73 493.795 2136.15 493.795 Q2142.61 493.795 2146.28 496.804 Q2149.95 499.814 2149.95 504.993 Q2149.95 508.697 2147.84 511.272 Q2145.76 513.847 2142.03 514.773 Q2146.25 515.757 2148.59 518.621 Q2150.97 521.486 2150.97 525.624 Q2150.97 531.902 2147.12 535.259 Q2143.3 538.615 2136.15 538.615 Q2129.01 538.615 2125.16 535.259 Q2121.34 531.902 2121.34 525.624 Q2121.34 521.486 2123.71 518.621 Q2126.08 515.757 2130.31 514.773 M2128.17 505.543 Q2128.17 508.899 2130.25 510.78 Q2132.36 512.661 2136.15 512.661 Q2139.91 512.661 2142.03 510.78 Q2144.17 508.899 2144.17 505.543 Q2144.17 502.186 2142.03 500.305 Q2139.91 498.425 2136.15 498.425 Q2132.36 498.425 2130.25 500.305 Q2128.17 502.186 2128.17 505.543 Z\" fill=\"#000000\" fill-rule=\"nonzero\" fill-opacity=\"1\" /><path clip-path=\"url(#clip570)\" d=\"M2161.53 536.879 L2161.53 531.555 Q2163.73 532.597 2165.98 533.147 Q2168.24 533.696 2170.41 533.696 Q2176.2 533.696 2179.24 529.819 Q2182.3 525.913 2182.74 517.985 Q2181.06 520.473 2178.48 521.804 Q2175.91 523.135 2172.78 523.135 Q2166.3 523.135 2162.51 519.229 Q2158.75 515.294 2158.75 508.494 Q2158.75 501.839 2162.69 497.817 Q2166.62 493.795 2173.16 493.795 Q2180.65 493.795 2184.59 499.553 Q2188.55 505.282 2188.55 516.22 Q2188.55 526.434 2183.69 532.539 Q2178.86 538.615 2170.67 538.615 Q2168.47 538.615 2166.22 538.181 Q2163.96 537.747 2161.53 536.879 M2173.16 518.563 Q2177.1 518.563 2179.38 515.872 Q2181.7 513.182 2181.7 508.494 Q2181.7 503.835 2179.38 501.145 Q2177.1 498.425 2173.16 498.425 Q2169.23 498.425 2166.91 501.145 Q2164.62 503.835 2164.62 508.494 Q2164.62 513.182 2166.91 515.872 Q2169.23 518.563 2173.16 518.563 Z\" fill=\"#000000\" fill-rule=\"nonzero\" fill-opacity=\"1\" /><path clip-path=\"url(#clip570)\" d=\"M2141.65 272.841 Q2145.85 273.738 2148.19 276.573 Q2150.56 279.409 2150.56 283.576 Q2150.56 289.97 2146.16 293.471 Q2141.77 296.973 2133.66 296.973 Q2130.94 296.973 2128.05 296.423 Q2125.19 295.902 2122.12 294.831 L2122.12 289.189 Q2124.55 290.607 2127.44 291.33 Q2130.34 292.054 2133.49 292.054 Q2138.99 292.054 2141.85 289.884 Q2144.75 287.713 2144.75 283.576 Q2144.75 279.756 2142.06 277.615 Q2139.39 275.445 2134.62 275.445 L2129.58 275.445 L2129.58 270.642 L2134.85 270.642 Q2139.16 270.642 2141.45 268.935 Q2143.73 267.198 2143.73 263.958 Q2143.73 260.63 2141.36 258.865 Q2139.02 257.071 2134.62 257.071 Q2132.22 257.071 2129.47 257.592 Q2126.72 258.113 2123.42 259.212 L2123.42 254.004 Q2126.75 253.078 2129.64 252.615 Q2132.56 252.152 2135.14 252.152 Q2141.79 252.152 2145.67 255.19 Q2149.55 258.2 2149.55 263.35 Q2149.55 266.938 2147.5 269.426 Q2145.44 271.886 2141.65 272.841 Z\" fill=\"#000000\" fill-rule=\"nonzero\" fill-opacity=\"1\" /><path clip-path=\"url(#clip570)\" d=\"M2361.12 2446.99 Q2357.19 2446.99 2354.87 2449.68 Q2352.59 2452.37 2352.59 2457.06 Q2352.59 2461.72 2354.87 2464.44 Q2357.19 2467.13 2361.12 2467.13 Q2365.06 2467.13 2367.34 2464.44 Q2369.66 2461.72 2369.66 2457.06 Q2369.66 2452.37 2367.34 2449.68 Q2365.06 2446.99 2361.12 2446.99 M2372.73 2428.67 L2372.73 2434 Q2370.53 2432.96 2368.27 2432.41 Q2366.04 2431.86 2363.84 2431.86 Q2358.06 2431.86 2354.99 2435.76 Q2351.95 2439.67 2351.52 2447.57 Q2353.22 2445.05 2355.8 2443.72 Q2358.38 2442.36 2361.47 2442.36 Q2367.98 2442.36 2371.74 2446.32 Q2375.53 2450.26 2375.53 2457.06 Q2375.53 2463.71 2371.6 2467.74 Q2367.66 2471.76 2361.12 2471.76 Q2353.63 2471.76 2349.67 2466.03 Q2345.7 2460.27 2345.7 2449.36 Q2345.7 2439.12 2350.56 2433.04 Q2355.42 2426.94 2363.61 2426.94 Q2365.81 2426.94 2368.04 2427.37 Q2370.3 2427.81 2372.73 2428.67 Z\" fill=\"#000000\" fill-rule=\"nonzero\" fill-opacity=\"1\" /><path clip-path=\"url(#clip570)\" d=\"M2360.62 2189.92 Q2356.1 2189.92 2353.82 2194.38 Q2351.56 2198.81 2351.56 2207.72 Q2351.56 2216.6 2353.82 2221.06 Q2356.1 2225.49 2360.62 2225.49 Q2365.16 2225.49 2367.42 2221.06 Q2369.7 2216.6 2369.7 2207.72 Q2369.7 2198.81 2367.42 2194.38 Q2365.16 2189.92 2360.62 2189.92 M2360.62 2185.29 Q2367.88 2185.29 2371.7 2191.05 Q2375.55 2196.78 2375.55 2207.72 Q2375.55 2218.63 2371.7 2224.39 Q2367.88 2230.11 2360.62 2230.11 Q2353.35 2230.11 2349.51 2224.39 Q2345.69 2218.63 2345.69 2207.72 Q2345.69 2196.78 2349.51 2191.05 Q2353.35 2185.29 2360.62 2185.29 Z\" fill=\"#000000\" fill-rule=\"nonzero\" fill-opacity=\"1\" /><path clip-path=\"url(#clip570)\" d=\"M2365.93 1964.34 Q2370.12 1965.24 2372.47 1968.07 Q2374.84 1970.91 2374.84 1975.08 Q2374.84 1981.47 2370.44 1984.97 Q2366.04 1988.47 2357.94 1988.47 Q2355.22 1988.47 2352.33 1987.92 Q2349.46 1987.4 2346.4 1986.33 L2346.4 1980.69 Q2348.83 1982.11 2351.72 1982.83 Q2354.61 1983.55 2357.77 1983.55 Q2363.27 1983.55 2366.13 1981.38 Q2369.02 1979.21 2369.02 1975.08 Q2369.02 1971.26 2366.33 1969.11 Q2363.67 1966.94 2358.9 1966.94 L2353.86 1966.94 L2353.86 1962.14 L2359.13 1962.14 Q2363.44 1962.14 2365.72 1960.43 Q2368.01 1958.7 2368.01 1955.46 Q2368.01 1952.13 2365.64 1950.36 Q2363.29 1948.57 2358.9 1948.57 Q2356.49 1948.57 2353.75 1949.09 Q2351 1949.61 2347.7 1950.71 L2347.7 1945.5 Q2351.03 1944.58 2353.92 1944.11 Q2356.84 1943.65 2359.42 1943.65 Q2366.07 1943.65 2369.95 1946.69 Q2373.83 1949.7 2373.83 1954.85 Q2373.83 1958.44 2371.77 1960.93 Q2369.72 1963.39 2365.93 1964.34 Z\" fill=\"#000000\" fill-rule=\"nonzero\" fill-opacity=\"1\" /><path clip-path=\"url(#clip570)\" d=\"M2328.67 1741.07 L2338.22 1741.07 L2338.22 1708.11 L2327.83 1710.2 L2327.83 1704.87 L2338.16 1702.79 L2344.01 1702.79 L2344.01 1741.07 L2353.56 1741.07 L2353.56 1745.99 L2328.67 1745.99 L2328.67 1741.07 Z\" fill=\"#000000\" fill-rule=\"nonzero\" fill-opacity=\"1\" /><path clip-path=\"url(#clip570)\" d=\"M2381.42 1707.88 L2366.66 1730.94 L2381.42 1730.94 L2381.42 1707.88 M2379.89 1702.79 L2387.24 1702.79 L2387.24 1730.94 L2393.4 1730.94 L2393.4 1735.81 L2387.24 1735.81 L2387.24 1745.99 L2381.42 1745.99 L2381.42 1735.81 L2361.92 1735.81 L2361.92 1730.16 L2379.89 1702.79 Z\" fill=\"#000000\" fill-rule=\"nonzero\" fill-opacity=\"1\" /><path clip-path=\"url(#clip570)\" d=\"M2347.44 1481.05 Q2351.63 1481.95 2353.98 1484.79 Q2356.35 1487.62 2356.35 1491.79 Q2356.35 1498.18 2351.95 1501.69 Q2347.55 1505.19 2339.45 1505.19 Q2336.73 1505.19 2333.84 1504.64 Q2330.97 1504.12 2327.91 1503.05 L2327.91 1497.4 Q2330.34 1498.82 2333.23 1499.54 Q2336.12 1500.27 2339.28 1500.27 Q2344.78 1500.27 2347.64 1498.1 Q2350.53 1495.93 2350.53 1491.79 Q2350.53 1487.97 2347.84 1485.83 Q2345.18 1483.66 2340.41 1483.66 L2335.37 1483.66 L2335.37 1478.86 L2340.64 1478.86 Q2344.95 1478.86 2347.24 1477.15 Q2349.52 1475.41 2349.52 1472.17 Q2349.52 1468.84 2347.15 1467.08 Q2344.8 1465.29 2340.41 1465.29 Q2338 1465.29 2335.26 1465.81 Q2332.51 1466.33 2329.21 1467.43 L2329.21 1462.22 Q2332.54 1461.29 2335.43 1460.83 Q2338.35 1460.37 2340.93 1460.37 Q2347.58 1460.37 2351.46 1463.4 Q2355.34 1466.41 2355.34 1471.56 Q2355.34 1475.15 2353.28 1477.64 Q2351.23 1480.1 2347.44 1481.05 Z\" fill=\"#000000\" fill-rule=\"nonzero\" fill-opacity=\"1\" /><path clip-path=\"url(#clip570)\" d=\"M2368.44 1499.43 L2377.99 1499.43 L2377.99 1466.47 L2367.61 1468.55 L2367.61 1463.23 L2377.94 1461.15 L2383.78 1461.15 L2383.78 1499.43 L2393.33 1499.43 L2393.33 1504.35 L2368.44 1504.35 L2368.44 1499.43 Z\" fill=\"#000000\" fill-rule=\"nonzero\" fill-opacity=\"1\" /><path clip-path=\"url(#clip570)\" d=\"M2346.73 1219.5 L2374.51 1219.5 L2374.51 1221.99 L2358.82 1262.7 L2352.72 1262.7 L2367.48 1224.42 L2346.73 1224.42 L2346.73 1219.5 Z\" fill=\"#000000\" fill-rule=\"nonzero\" fill-opacity=\"1\" /><path clip-path=\"url(#clip570)\" d=\"M2360.62 981.71 Q2356.1 981.71 2353.82 986.166 Q2351.56 990.593 2351.56 999.505 Q2351.56 1008.39 2353.82 1012.84 Q2356.1 1017.27 2360.62 1017.27 Q2365.16 1017.27 2367.42 1012.84 Q2369.7 1008.39 2369.7 999.505 Q2369.7 990.593 2367.42 986.166 Q2365.16 981.71 2360.62 981.71 M2360.62 977.081 Q2367.88 977.081 2371.7 982.839 Q2375.55 988.568 2375.55 999.505 Q2375.55 1010.41 2371.7 1016.17 Q2367.88 1021.9 2360.62 1021.9 Q2353.35 1021.9 2349.51 1016.17 Q2345.69 1010.41 2345.69 999.505 Q2345.69 988.568 2349.51 982.839 Q2353.35 977.081 2360.62 977.081 Z\" fill=\"#000000\" fill-rule=\"nonzero\" fill-opacity=\"1\" /><path clip-path=\"url(#clip570)\" d=\"M2334.71 774.5 L2355.11 774.5 L2355.11 779.419 L2327.67 779.419 L2327.67 774.5 Q2331 771.057 2336.73 765.27 Q2342.49 759.454 2343.97 757.776 Q2346.77 754.622 2347.87 752.452 Q2349 750.253 2349 748.14 Q2349 744.697 2346.57 742.527 Q2344.17 740.357 2340.29 740.357 Q2337.54 740.357 2334.47 741.312 Q2331.44 742.266 2327.96 744.205 L2327.96 738.302 Q2331.49 736.885 2334.56 736.161 Q2337.63 735.438 2340.17 735.438 Q2346.89 735.438 2350.88 738.794 Q2354.87 742.151 2354.87 747.764 Q2354.87 750.426 2353.86 752.828 Q2352.88 755.2 2350.24 758.441 Q2349.52 759.28 2345.64 763.302 Q2341.77 767.295 2334.71 774.5 Z\" fill=\"#000000\" fill-rule=\"nonzero\" fill-opacity=\"1\" /><path clip-path=\"url(#clip570)\" d=\"M2367.43 736.219 L2390.38 736.219 L2390.38 741.138 L2372.78 741.138 L2372.78 751.728 Q2374.06 751.294 2375.33 751.092 Q2376.6 750.86 2377.88 750.86 Q2385.11 750.86 2389.34 754.824 Q2393.56 758.788 2393.56 765.559 Q2393.56 772.533 2389.22 776.41 Q2384.88 780.258 2376.98 780.258 Q2374.26 780.258 2371.42 779.795 Q2368.62 779.332 2365.61 778.406 L2365.61 772.533 Q2368.21 773.95 2370.99 774.645 Q2373.77 775.339 2376.86 775.339 Q2381.87 775.339 2384.79 772.706 Q2387.72 770.073 2387.72 765.559 Q2387.72 761.045 2384.79 758.412 Q2381.87 755.779 2376.86 755.779 Q2374.52 755.779 2372.18 756.3 Q2369.86 756.821 2367.43 757.92 L2367.43 736.219 Z\" fill=\"#000000\" fill-rule=\"nonzero\" fill-opacity=\"1\" /><path clip-path=\"url(#clip570)\" d=\"M2346.79 514.484 Q2350.98 515.381 2353.33 518.216 Q2355.7 521.052 2355.7 525.218 Q2355.7 531.613 2351.3 535.114 Q2346.9 538.615 2338.8 538.615 Q2336.08 538.615 2333.19 538.066 Q2330.32 537.545 2327.26 536.474 L2327.26 530.832 Q2329.69 532.25 2332.58 532.973 Q2335.47 533.696 2338.63 533.696 Q2344.12 533.696 2346.99 531.526 Q2349.88 529.356 2349.88 525.218 Q2349.88 521.399 2347.19 519.258 Q2344.53 517.088 2339.76 517.088 L2334.72 517.088 L2334.72 512.285 L2339.99 512.285 Q2344.3 512.285 2346.58 510.577 Q2348.87 508.841 2348.87 505.601 Q2348.87 502.273 2346.5 500.508 Q2344.15 498.714 2339.76 498.714 Q2337.35 498.714 2334.6 499.235 Q2331.86 499.756 2328.56 500.855 L2328.56 495.647 Q2331.88 494.721 2334.78 494.258 Q2337.7 493.795 2340.28 493.795 Q2346.93 493.795 2350.81 496.833 Q2354.69 499.842 2354.69 504.993 Q2354.69 508.581 2352.63 511.069 Q2350.58 513.529 2346.79 514.484 Z\" fill=\"#000000\" fill-rule=\"nonzero\" fill-opacity=\"1\" /><path clip-path=\"url(#clip570)\" d=\"M2366.95 536.879 L2366.95 531.555 Q2369.15 532.597 2371.41 533.147 Q2373.67 533.696 2375.84 533.696 Q2381.62 533.696 2384.66 529.819 Q2387.73 525.913 2388.16 517.985 Q2386.49 520.473 2383.91 521.804 Q2381.33 523.135 2378.21 523.135 Q2371.73 523.135 2367.94 519.229 Q2364.18 515.294 2364.18 508.494 Q2364.18 501.839 2368.11 497.817 Q2372.05 493.795 2378.59 493.795 Q2386.08 493.795 2390.02 499.553 Q2393.98 505.282 2393.98 516.22 Q2393.98 526.434 2389.12 532.539 Q2384.29 538.615 2376.1 538.615 Q2373.9 538.615 2371.64 538.181 Q2369.38 537.747 2366.95 536.879 M2378.59 518.563 Q2382.52 518.563 2384.81 515.872 Q2387.12 513.182 2387.12 508.494 Q2387.12 503.835 2384.81 501.145 Q2382.52 498.425 2378.59 498.425 Q2374.65 498.425 2372.34 501.145 Q2370.05 503.835 2370.05 508.494 Q2370.05 513.182 2372.34 515.872 Q2374.65 518.563 2378.59 518.563 Z\" fill=\"#000000\" fill-rule=\"nonzero\" fill-opacity=\"1\" /><path clip-path=\"url(#clip570)\" d=\"M2327.04 258.026 L2312.28 281.087 L2327.04 281.087 L2327.04 258.026 M2325.5 252.934 L2332.85 252.934 L2332.85 281.087 L2339.02 281.087 L2339.02 285.948 L2332.85 285.948 L2332.85 296.134 L2327.04 296.134 L2327.04 285.948 L2307.54 285.948 L2307.54 280.306 L2325.5 252.934 Z\" fill=\"#000000\" fill-rule=\"nonzero\" fill-opacity=\"1\" /><path clip-path=\"url(#clip570)\" d=\"M2348.86 295.237 L2348.86 289.912 Q2351.05 290.954 2353.31 291.504 Q2355.57 292.054 2357.74 292.054 Q2363.53 292.054 2366.56 288.176 Q2369.63 284.27 2370.06 276.342 Q2368.39 278.83 2365.81 280.161 Q2363.24 281.492 2360.11 281.492 Q2353.63 281.492 2349.84 277.586 Q2346.08 273.651 2346.08 266.851 Q2346.08 260.196 2350.01 256.174 Q2353.95 252.152 2360.49 252.152 Q2367.98 252.152 2371.92 257.91 Q2375.88 263.639 2375.88 274.577 Q2375.88 284.791 2371.02 290.896 Q2366.19 296.973 2358 296.973 Q2355.8 296.973 2353.54 296.539 Q2351.29 296.105 2348.86 295.237 M2360.49 276.921 Q2364.42 276.921 2366.71 274.23 Q2369.02 271.539 2369.02 266.851 Q2369.02 262.193 2366.71 259.502 Q2364.42 256.782 2360.49 256.782 Q2356.55 256.782 2354.24 259.502 Q2351.95 262.193 2351.95 266.851 Q2351.95 271.539 2354.24 274.23 Q2356.55 276.921 2360.49 276.921 Z\" fill=\"#000000\" fill-rule=\"nonzero\" fill-opacity=\"1\" /><path clip-path=\"url(#clip570)\" d=\"M2398.88 275.619 Q2394.72 275.619 2392.32 277.847 Q2389.94 280.075 2389.94 283.981 Q2389.94 287.887 2392.32 290.115 Q2394.72 292.343 2398.88 292.343 Q2403.05 292.343 2405.45 290.115 Q2407.85 287.858 2407.85 283.981 Q2407.85 280.075 2405.45 277.847 Q2403.08 275.619 2398.88 275.619 M2393.04 273.13 Q2389.28 272.204 2387.17 269.629 Q2385.08 267.054 2385.08 263.35 Q2385.08 258.171 2388.76 255.162 Q2392.46 252.152 2398.88 252.152 Q2405.34 252.152 2409.01 255.162 Q2412.69 258.171 2412.69 263.35 Q2412.69 267.054 2410.57 269.629 Q2408.49 272.204 2404.76 273.13 Q2408.98 274.114 2411.33 276.979 Q2413.7 279.843 2413.7 283.981 Q2413.7 290.26 2409.85 293.616 Q2406.03 296.973 2398.88 296.973 Q2391.74 296.973 2387.89 293.616 Q2384.07 290.26 2384.07 283.981 Q2384.07 279.843 2386.44 276.979 Q2388.81 274.114 2393.04 273.13 M2390.9 263.9 Q2390.9 267.256 2392.98 269.137 Q2395.09 271.018 2398.88 271.018 Q2402.65 271.018 2404.76 269.137 Q2406.9 267.256 2406.9 263.9 Q2406.9 260.543 2404.76 258.663 Q2402.65 256.782 2398.88 256.782 Q2395.09 256.782 2392.98 258.663 Q2390.9 260.543 2390.9 263.9 Z\" fill=\"#000000\" fill-rule=\"nonzero\" fill-opacity=\"1\" /></svg>\n"
      ]
     },
     "metadata": {},
     "output_type": "display_data"
    }
   ],
   "source": [
    "pred_y = predict(graph, test_x, batch_size)\n",
    "classification_report(test_y, pred_y)\n",
    "plot_confusion_matrix(test_y, pred_y)"
   ]
  },
  {
   "cell_type": "code",
   "execution_count": 12,
   "id": "617527d7-dea6-41da-9ecd-f68b7687482b",
   "metadata": {},
   "outputs": [
    {
     "name": "stdout",
     "output_type": "stream",
     "text": [
      "----EPOCH 1----"
     ]
    },
    {
     "name": "stdout",
     "output_type": "stream",
     "text": [
      "\n",
      "0/938 avg epoch loss: 153.89149\n"
     ]
    },
    {
     "name": "stdout",
     "output_type": "stream",
     "text": [
      "94/938 avg epoch loss: 135.0295\n"
     ]
    },
    {
     "name": "stdout",
     "output_type": "stream",
     "text": [
      "188/938 avg epoch loss: 120.15896"
     ]
    },
    {
     "name": "stdout",
     "output_type": "stream",
     "text": [
      "\n",
      "282/938 avg epoch loss: 105.91018\n"
     ]
    },
    {
     "name": "stdout",
     "output_type": "stream",
     "text": [
      "376"
     ]
    },
    {
     "name": "stdout",
     "output_type": "stream",
     "text": [
      "/938 avg epoch loss: 94.38652\n",
      "470/938 avg epoch loss: 84.90334"
     ]
    },
    {
     "name": "stdout",
     "output_type": "stream",
     "text": [
      "\n",
      "564/938 avg epoch loss: 77.36919\n"
     ]
    },
    {
     "name": "stdout",
     "output_type": "stream",
     "text": [
      "658/938 avg epoch loss: 71.45464\n"
     ]
    },
    {
     "name": "stdout",
     "output_type": "stream",
     "text": [
      "752/938 avg epoch loss: 66.77687\n"
     ]
    },
    {
     "name": "stdout",
     "output_type": "stream",
     "text": [
      "846/938 avg epoch loss: "
     ]
    },
    {
     "name": "stdout",
     "output_type": "stream",
     "text": [
      "62.70663\n",
      "\n",
      "----EPOCH 2----\n"
     ]
    },
    {
     "name": "stdout",
     "output_type": "stream",
     "text": [
      "0/938 avg epoch loss: 28.44691\n"
     ]
    },
    {
     "name": "stdout",
     "output_type": "stream",
     "text": [
      "94/938 avg epoch loss: 26.93317\n"
     ]
    },
    {
     "name": "stdout",
     "output_type": "stream",
     "text": [
      "188/938 avg epoch loss: 25.79848\n"
     ]
    },
    {
     "name": "stdout",
     "output_type": "stream",
     "text": [
      "282/938 avg epoch loss: 24.89389"
     ]
    },
    {
     "name": "stdout",
     "output_type": "stream",
     "text": [
      "\n",
      "376/938 avg epoch loss: 24.3815"
     ]
    },
    {
     "name": "stdout",
     "output_type": "stream",
     "text": [
      "\n",
      "470/938 avg epoch loss: 23.7726\n"
     ]
    },
    {
     "name": "stdout",
     "output_type": "stream",
     "text": [
      "564/938 avg epoch loss: 23.51689"
     ]
    },
    {
     "name": "stdout",
     "output_type": "stream",
     "text": [
      "\n",
      "658/938 avg epoch loss: 23.07665"
     ]
    },
    {
     "name": "stdout",
     "output_type": "stream",
     "text": [
      "\n",
      "752/938 avg epoch loss: 22.63488\n"
     ]
    },
    {
     "name": "stdout",
     "output_type": "stream",
     "text": [
      "846/938 avg epoch loss: 22.285\n"
     ]
    },
    {
     "name": "stdout",
     "output_type": "stream",
     "text": [
      "\n",
      "----EPOCH 3----\n"
     ]
    },
    {
     "name": "stdout",
     "output_type": "stream",
     "text": [
      "0/938 avg epoch loss: 22.37159"
     ]
    },
    {
     "name": "stdout",
     "output_type": "stream",
     "text": [
      "\n",
      "94/"
     ]
    },
    {
     "name": "stdout",
     "output_type": "stream",
     "text": [
      "938 avg epoch loss: 19.09239\n",
      "188/938 avg epoch loss: 18.71828\n"
     ]
    },
    {
     "name": "stdout",
     "output_type": "stream",
     "text": [
      "282/938 avg epoch loss: 18.14781\n"
     ]
    },
    {
     "name": "stdout",
     "output_type": "stream",
     "text": [
      "376/938 avg epoch loss: 17.94659"
     ]
    },
    {
     "name": "stdout",
     "output_type": "stream",
     "text": [
      "\n",
      "470/938 avg epoch loss: 17.77953\n"
     ]
    },
    {
     "name": "stdout",
     "output_type": "stream",
     "text": [
      "564/938 avg epoch loss: 17.7308\n"
     ]
    },
    {
     "name": "stdout",
     "output_type": "stream",
     "text": [
      "658/938 avg epoch loss: 17.32898"
     ]
    },
    {
     "name": "stdout",
     "output_type": "stream",
     "text": [
      "\n",
      "752/938 avg epoch loss: 17.03266\n"
     ]
    },
    {
     "name": "stdout",
     "output_type": "stream",
     "text": [
      "846/938 avg epoch loss: 16.75234\n",
      "\n",
      "----EPOCH 4----"
     ]
    },
    {
     "name": "stdout",
     "output_type": "stream",
     "text": [
      "\n",
      "0/938 avg epoch loss: 17.39868"
     ]
    },
    {
     "name": "stdout",
     "output_type": "stream",
     "text": [
      "\n",
      "94/938 avg epoch loss: 14.7854\n"
     ]
    },
    {
     "name": "stdout",
     "output_type": "stream",
     "text": [
      "188/938 avg epoch loss: 15.0993\n"
     ]
    },
    {
     "name": "stdout",
     "output_type": "stream",
     "text": [
      "282/938 avg epoch loss: 14.82323"
     ]
    },
    {
     "name": "stdout",
     "output_type": "stream",
     "text": [
      "\n",
      "376"
     ]
    },
    {
     "name": "stdout",
     "output_type": "stream",
     "text": [
      "/938 avg epoch loss: 14.54911\n",
      "470/938 avg epoch loss: 14.38062\n"
     ]
    },
    {
     "name": "stdout",
     "output_type": "stream",
     "text": [
      "564/938 avg epoch loss: 14.15572\n"
     ]
    },
    {
     "name": "stdout",
     "output_type": "stream",
     "text": [
      "658/938 avg epoch loss: 14.10847\n"
     ]
    },
    {
     "name": "stdout",
     "output_type": "stream",
     "text": [
      "752/938 avg epoch loss: 13.91001\n"
     ]
    },
    {
     "name": "stdout",
     "output_type": "stream",
     "text": [
      "846/938 avg epoch loss: 13.82006"
     ]
    },
    {
     "name": "stdout",
     "output_type": "stream",
     "text": [
      "\n",
      "\n",
      "----EPOCH 5----\n"
     ]
    },
    {
     "name": "stdout",
     "output_type": "stream",
     "text": [
      "0/938 avg epoch loss: 6.76944\n"
     ]
    },
    {
     "name": "stdout",
     "output_type": "stream",
     "text": [
      "94/938 avg epoch loss: 12.81709"
     ]
    },
    {
     "name": "stdout",
     "output_type": "stream",
     "text": [
      "\n",
      "188/938 avg epoch loss: 12.86324\n"
     ]
    },
    {
     "name": "stdout",
     "output_type": "stream",
     "text": [
      "282/938 avg epoch loss: 12.58277\n"
     ]
    },
    {
     "name": "stdout",
     "output_type": "stream",
     "text": [
      "376/938 avg epoch loss: 12.43814"
     ]
    },
    {
     "name": "stdout",
     "output_type": "stream",
     "text": [
      "\n",
      "470/938 avg epoch loss: "
     ]
    },
    {
     "name": "stdout",
     "output_type": "stream",
     "text": [
      "12.2788\n",
      "564/938 avg epoch loss: 12.21613\n"
     ]
    },
    {
     "name": "stdout",
     "output_type": "stream",
     "text": [
      "658/938 avg epoch loss: 12.1031\n"
     ]
    },
    {
     "name": "stdout",
     "output_type": "stream",
     "text": [
      "752/938 avg epoch loss: 12.01576\n"
     ]
    },
    {
     "name": "stdout",
     "output_type": "stream",
     "text": [
      "846/938 avg epoch loss: 11.90365\n"
     ]
    },
    {
     "name": "stdout",
     "output_type": "stream",
     "text": [
      "\n",
      "----EPOCH 6----\n"
     ]
    },
    {
     "name": "stdout",
     "output_type": "stream",
     "text": [
      "0/938 avg epoch loss: 10.4255\n"
     ]
    },
    {
     "name": "stdout",
     "output_type": "stream",
     "text": [
      "94/938 avg epoch loss: 11.67899"
     ]
    },
    {
     "name": "stdout",
     "output_type": "stream",
     "text": [
      "\n",
      "188/938 avg epoch loss: 11.32726\n"
     ]
    },
    {
     "name": "stdout",
     "output_type": "stream",
     "text": [
      "282/938 avg epoch loss: 11.12233"
     ]
    },
    {
     "name": "stdout",
     "output_type": "stream",
     "text": [
      "\n",
      "376/938"
     ]
    },
    {
     "name": "stdout",
     "output_type": "stream",
     "text": [
      " avg epoch loss: 10.99609\n",
      "470/938 avg epoch loss: 10.84434\n"
     ]
    },
    {
     "name": "stdout",
     "output_type": "stream",
     "text": [
      "564/938 avg epoch loss: 10.65465\n"
     ]
    },
    {
     "name": "stdout",
     "output_type": "stream",
     "text": [
      "658/938 avg epoch loss: 10.50085"
     ]
    },
    {
     "name": "stdout",
     "output_type": "stream",
     "text": [
      "\n",
      "752/938 avg epoch loss: 10.42065"
     ]
    },
    {
     "name": "stdout",
     "output_type": "stream",
     "text": [
      "\n",
      "846/938 avg epoch loss: 10.45865\n"
     ]
    },
    {
     "name": "stdout",
     "output_type": "stream",
     "text": [
      "\n",
      "----EPOCH 7----"
     ]
    },
    {
     "name": "stdout",
     "output_type": "stream",
     "text": [
      "\n",
      "0/938 avg epoch loss: 6.89326"
     ]
    },
    {
     "name": "stdout",
     "output_type": "stream",
     "text": [
      "\n",
      "94/938 avg epoch loss: 9.73394"
     ]
    },
    {
     "name": "stdout",
     "output_type": "stream",
     "text": [
      "\n",
      "188/938 avg epoch loss: 9.44549\n"
     ]
    },
    {
     "name": "stdout",
     "output_type": "stream",
     "text": [
      "282"
     ]
    },
    {
     "name": "stdout",
     "output_type": "stream",
     "text": [
      "/938 avg epoch loss: 9.62092\n",
      "376/938 avg epoch loss: 9.58225\n"
     ]
    },
    {
     "name": "stdout",
     "output_type": "stream",
     "text": [
      "470/938 avg epoch loss: 9.64317\n"
     ]
    },
    {
     "name": "stdout",
     "output_type": "stream",
     "text": [
      "564/938 avg epoch loss: "
     ]
    },
    {
     "name": "stdout",
     "output_type": "stream",
     "text": [
      "9.68792\n",
      "658/938 avg epoch loss: 9.55251"
     ]
    },
    {
     "name": "stdout",
     "output_type": "stream",
     "text": [
      "\n",
      "752/938 avg epoch loss: "
     ]
    },
    {
     "name": "stdout",
     "output_type": "stream",
     "text": [
      "9.38389\n",
      "846/938 avg epoch loss: 9.31726"
     ]
    },
    {
     "name": "stdout",
     "output_type": "stream",
     "text": [
      "\n",
      "\n",
      "----EPOCH 8----"
     ]
    },
    {
     "name": "stdout",
     "output_type": "stream",
     "text": [
      "\n",
      "0/938 avg epoch loss: 8.43487"
     ]
    },
    {
     "name": "stdout",
     "output_type": "stream",
     "text": [
      "\n",
      "94/938 avg epoch loss: 8.56707\n"
     ]
    },
    {
     "name": "stdout",
     "output_type": "stream",
     "text": [
      "188/938 avg epoch loss: 8.99803\n"
     ]
    },
    {
     "name": "stdout",
     "output_type": "stream",
     "text": [
      "282/938 avg epoch loss: 8.66426\n"
     ]
    },
    {
     "name": "stdout",
     "output_type": "stream",
     "text": [
      "376/938 avg epoch loss: 8.72433\n"
     ]
    },
    {
     "name": "stdout",
     "output_type": "stream",
     "text": [
      "470/938 avg epoch loss: 8.66901"
     ]
    },
    {
     "name": "stdout",
     "output_type": "stream",
     "text": [
      "\n",
      "564/938 avg epoch loss: 8.69732"
     ]
    },
    {
     "name": "stdout",
     "output_type": "stream",
     "text": [
      "\n",
      "658/938 avg epoch loss: 8.61137\n"
     ]
    },
    {
     "name": "stdout",
     "output_type": "stream",
     "text": [
      "752/938 avg epoch loss: 8.58562\n"
     ]
    },
    {
     "name": "stdout",
     "output_type": "stream",
     "text": [
      "846/938 avg epoch loss: 8.53367"
     ]
    },
    {
     "name": "stdout",
     "output_type": "stream",
     "text": [
      "\n",
      "\n",
      "----EPOCH 9----\n"
     ]
    },
    {
     "name": "stdout",
     "output_type": "stream",
     "text": [
      "0/938 avg epoch loss: 7.59495\n"
     ]
    },
    {
     "name": "stdout",
     "output_type": "stream",
     "text": [
      "94/938 avg epoch loss: 8.34428\n"
     ]
    },
    {
     "name": "stdout",
     "output_type": "stream",
     "text": [
      "188/938 avg epoch loss: 8.29197\n"
     ]
    },
    {
     "name": "stdout",
     "output_type": "stream",
     "text": [
      "282/938 avg epoch loss: "
     ]
    },
    {
     "name": "stdout",
     "output_type": "stream",
     "text": [
      "7.9186\n",
      "376/938 avg epoch loss: 7.91981"
     ]
    },
    {
     "name": "stdout",
     "output_type": "stream",
     "text": [
      "\n",
      "470/938 avg epoch loss: 7.91511"
     ]
    },
    {
     "name": "stdout",
     "output_type": "stream",
     "text": [
      "\n",
      "564/938 avg epoch loss: 7.97781"
     ]
    },
    {
     "name": "stdout",
     "output_type": "stream",
     "text": [
      "\n",
      "658/938 avg epoch loss: 7.93265\n"
     ]
    },
    {
     "name": "stdout",
     "output_type": "stream",
     "text": [
      "752/938 avg epoch loss: 7.81754\n"
     ]
    },
    {
     "name": "stdout",
     "output_type": "stream",
     "text": [
      "846/938 avg epoch loss: 7.88155\n"
     ]
    },
    {
     "name": "stdout",
     "output_type": "stream",
     "text": [
      "\n",
      "----EPOCH 10----\n"
     ]
    },
    {
     "name": "stdout",
     "output_type": "stream",
     "text": [
      "0/938 avg epoch loss: 9.64987"
     ]
    },
    {
     "name": "stdout",
     "output_type": "stream",
     "text": [
      "\n",
      "94/938"
     ]
    },
    {
     "name": "stdout",
     "output_type": "stream",
     "text": [
      " avg epoch loss: 7.06679\n",
      "188/938 avg epoch loss: 7.30477"
     ]
    },
    {
     "name": "stdout",
     "output_type": "stream",
     "text": [
      "\n",
      "282/938 avg epoch loss: 7.30029\n"
     ]
    },
    {
     "name": "stdout",
     "output_type": "stream",
     "text": [
      "376/938 avg epoch loss: 7.49646\n"
     ]
    },
    {
     "name": "stdout",
     "output_type": "stream",
     "text": [
      "470/938 avg epoch loss: 7.40346"
     ]
    },
    {
     "name": "stdout",
     "output_type": "stream",
     "text": [
      "\n",
      "564/938 avg epoch loss: 7.355\n"
     ]
    },
    {
     "name": "stdout",
     "output_type": "stream",
     "text": [
      "658/938 avg epoch loss: 7.33632"
     ]
    },
    {
     "name": "stdout",
     "output_type": "stream",
     "text": [
      "\n",
      "752/938 avg epoch loss: 7.33419"
     ]
    },
    {
     "name": "stdout",
     "output_type": "stream",
     "text": [
      "\n",
      "846/938 avg epoch loss: 7.29986"
     ]
    },
    {
     "name": "stdout",
     "output_type": "stream",
     "text": [
      "\n",
      "\n",
      "Training finished!\n"
     ]
    },
    {
     "data": {
      "image/png": "[encoded data removed]",
      "image/svg+xml": [
       "<?xml version=\"1.0\" encoding=\"utf-8\"?>\n",
       "<svg xmlns=\"http://www.w3.org/2000/svg\" xmlns:xlink=\"http://www.w3.org/1999/xlink\" width=\"600\" height=\"400\" viewBox=\"0 0 2400 1600\">\n",
       "<defs>\n",
       "  <clipPath id=\"clip240\">\n",
       "    <rect x=\"0\" y=\"0\" width=\"2400\" height=\"1600\"/>\n",
       "  </clipPath>\n",
       "</defs>\n",
       "<path clip-path=\"url(#clip240)\" d=\"M0 1600 L2400 1600 L2400 0 L0 0  Z\" fill=\"#ffffff\" fill-rule=\"evenodd\" fill-opacity=\"1\"/>\n",
       "<defs>\n",
       "  <clipPath id=\"clip241\">\n",
       "    <rect x=\"480\" y=\"0\" width=\"1681\" height=\"1600\"/>\n",
       "  </clipPath>\n",
       "</defs>\n",
       "<path clip-path=\"url(#clip240)\" d=\"M169.121 1486.45 L2352.76 1486.45 L2352.76 47.2441 L169.121 47.2441  Z\" fill=\"#ffffff\" fill-rule=\"evenodd\" fill-opacity=\"1\"/>\n",
       "<defs>\n",
       "  <clipPath id=\"clip242\">\n",
       "    <rect x=\"169\" y=\"47\" width=\"2185\" height=\"1440\"/>\n",
       "  </clipPath>\n",
       "</defs>\n",
       "<polyline clip-path=\"url(#clip242)\" style=\"stroke:#000000; stroke-linecap:round; stroke-linejoin:round; stroke-width:2; stroke-opacity:0.1; fill:none\" points=\"210.114,1486.45 210.114,47.2441 \"/>\n",
       "<polyline clip-path=\"url(#clip242)\" style=\"stroke:#000000; stroke-linecap:round; stroke-linejoin:round; stroke-width:2; stroke-opacity:0.1; fill:none\" points=\"730.324,1486.45 730.324,47.2441 \"/>\n",
       "<polyline clip-path=\"url(#clip242)\" style=\"stroke:#000000; stroke-linecap:round; stroke-linejoin:round; stroke-width:2; stroke-opacity:0.1; fill:none\" points=\"1250.53,1486.45 1250.53,47.2441 \"/>\n",
       "<polyline clip-path=\"url(#clip242)\" style=\"stroke:#000000; stroke-linecap:round; stroke-linejoin:round; stroke-width:2; stroke-opacity:0.1; fill:none\" points=\"1770.74,1486.45 1770.74,47.2441 \"/>\n",
       "<polyline clip-path=\"url(#clip242)\" style=\"stroke:#000000; stroke-linecap:round; stroke-linejoin:round; stroke-width:2; stroke-opacity:0.1; fill:none\" points=\"2290.95,1486.45 2290.95,47.2441 \"/>\n",
       "<polyline clip-path=\"url(#clip240)\" style=\"stroke:#000000; stroke-linecap:round; stroke-linejoin:round; stroke-width:4; stroke-opacity:1; fill:none\" points=\"169.121,1486.45 2352.76,1486.45 \"/>\n",
       "<polyline clip-path=\"url(#clip240)\" style=\"stroke:#000000; stroke-linecap:round; stroke-linejoin:round; stroke-width:4; stroke-opacity:1; fill:none\" points=\"210.114,1486.45 210.114,1467.55 \"/>\n",
       "<polyline clip-path=\"url(#clip240)\" style=\"stroke:#000000; stroke-linecap:round; stroke-linejoin:round; stroke-width:4; stroke-opacity:1; fill:none\" points=\"730.324,1486.45 730.324,1467.55 \"/>\n",
       "<polyline clip-path=\"url(#clip240)\" style=\"stroke:#000000; stroke-linecap:round; stroke-linejoin:round; stroke-width:4; stroke-opacity:1; fill:none\" points=\"1250.53,1486.45 1250.53,1467.55 \"/>\n",
       "<polyline clip-path=\"url(#clip240)\" style=\"stroke:#000000; stroke-linecap:round; stroke-linejoin:round; stroke-width:4; stroke-opacity:1; fill:none\" points=\"1770.74,1486.45 1770.74,1467.55 \"/>\n",
       "<polyline clip-path=\"url(#clip240)\" style=\"stroke:#000000; stroke-linecap:round; stroke-linejoin:round; stroke-width:4; stroke-opacity:1; fill:none\" points=\"2290.95,1486.45 2290.95,1467.55 \"/>\n",
       "<path clip-path=\"url(#clip240)\" d=\"M210.114 1517.37 Q206.503 1517.37 204.674 1520.93 Q202.869 1524.47 202.869 1531.6 Q202.869 1538.71 204.674 1542.27 Q206.503 1545.82 210.114 1545.82 Q213.748 1545.82 215.554 1542.27 Q217.382 1538.71 217.382 1531.6 Q217.382 1524.47 215.554 1520.93 Q213.748 1517.37 210.114 1517.37 M210.114 1513.66 Q215.924 1513.66 218.98 1518.27 Q222.058 1522.85 222.058 1531.6 Q222.058 1540.33 218.98 1544.94 Q215.924 1549.52 210.114 1549.52 Q204.304 1549.52 201.225 1544.94 Q198.17 1540.33 198.17 1531.6 Q198.17 1522.85 201.225 1518.27 Q204.304 1513.66 210.114 1513.66 Z\" fill=\"#000000\" fill-rule=\"nonzero\" fill-opacity=\"1\" /><path clip-path=\"url(#clip240)\" d=\"M709.595 1544.91 L725.914 1544.91 L725.914 1548.85 L703.97 1548.85 L703.97 1544.91 Q706.632 1542.16 711.215 1537.53 Q715.822 1532.88 717.002 1531.53 Q719.248 1529.01 720.127 1527.27 Q721.03 1525.51 721.03 1523.82 Q721.03 1521.07 719.086 1519.33 Q717.164 1517.6 714.063 1517.6 Q711.864 1517.6 709.41 1518.36 Q706.979 1519.13 704.202 1520.68 L704.202 1515.95 Q707.026 1514.82 709.479 1514.24 Q711.933 1513.66 713.97 1513.66 Q719.34 1513.66 722.535 1516.35 Q725.729 1519.03 725.729 1523.52 Q725.729 1525.65 724.919 1527.57 Q724.132 1529.47 722.026 1532.07 Q721.447 1532.74 718.345 1535.95 Q715.243 1539.15 709.595 1544.91 Z\" fill=\"#000000\" fill-rule=\"nonzero\" fill-opacity=\"1\" /><path clip-path=\"url(#clip240)\" d=\"M735.776 1514.29 L754.132 1514.29 L754.132 1518.22 L740.058 1518.22 L740.058 1526.7 Q741.076 1526.35 742.095 1526.19 Q743.113 1526 744.132 1526 Q749.919 1526 753.299 1529.17 Q756.678 1532.34 756.678 1537.76 Q756.678 1543.34 753.206 1546.44 Q749.734 1549.52 743.414 1549.52 Q741.238 1549.52 738.97 1549.15 Q736.725 1548.78 734.317 1548.04 L734.317 1543.34 Q736.401 1544.47 738.623 1545.03 Q740.845 1545.58 743.322 1545.58 Q747.326 1545.58 749.664 1543.48 Q752.002 1541.37 752.002 1537.76 Q752.002 1534.15 749.664 1532.04 Q747.326 1529.94 743.322 1529.94 Q741.447 1529.94 739.572 1530.35 Q737.72 1530.77 735.776 1531.65 L735.776 1514.29 Z\" fill=\"#000000\" fill-rule=\"nonzero\" fill-opacity=\"1\" /><path clip-path=\"url(#clip240)\" d=\"M1225.23 1514.29 L1243.59 1514.29 L1243.59 1518.22 L1229.52 1518.22 L1229.52 1526.7 Q1230.53 1526.35 1231.55 1526.19 Q1232.57 1526 1233.59 1526 Q1239.38 1526 1242.76 1529.17 Q1246.14 1532.34 1246.14 1537.76 Q1246.14 1543.34 1242.66 1546.44 Q1239.19 1549.52 1232.87 1549.52 Q1230.7 1549.52 1228.43 1549.15 Q1226.18 1548.78 1223.78 1548.04 L1223.78 1543.34 Q1225.86 1544.47 1228.08 1545.03 Q1230.3 1545.58 1232.78 1545.58 Q1236.78 1545.58 1239.12 1543.48 Q1241.46 1541.37 1241.46 1537.76 Q1241.46 1534.15 1239.12 1532.04 Q1236.78 1529.94 1232.78 1529.94 Q1230.9 1529.94 1229.03 1530.35 Q1227.18 1530.77 1225.23 1531.65 L1225.23 1514.29 Z\" fill=\"#000000\" fill-rule=\"nonzero\" fill-opacity=\"1\" /><path clip-path=\"url(#clip240)\" d=\"M1265.35 1517.37 Q1261.74 1517.37 1259.91 1520.93 Q1258.1 1524.47 1258.1 1531.6 Q1258.1 1538.71 1259.91 1542.27 Q1261.74 1545.82 1265.35 1545.82 Q1268.98 1545.82 1270.79 1542.27 Q1272.62 1538.71 1272.62 1531.6 Q1272.62 1524.47 1270.79 1520.93 Q1268.98 1517.37 1265.35 1517.37 M1265.35 1513.66 Q1271.16 1513.66 1274.21 1518.27 Q1277.29 1522.85 1277.29 1531.6 Q1277.29 1540.33 1274.21 1544.94 Q1271.16 1549.52 1265.35 1549.52 Q1259.54 1549.52 1256.46 1544.94 Q1253.4 1540.33 1253.4 1531.6 Q1253.4 1522.85 1256.46 1518.27 Q1259.54 1513.66 1265.35 1513.66 Z\" fill=\"#000000\" fill-rule=\"nonzero\" fill-opacity=\"1\" /><path clip-path=\"url(#clip240)\" d=\"M1744.6 1514.29 L1766.82 1514.29 L1766.82 1516.28 L1754.27 1548.85 L1749.39 1548.85 L1761.2 1518.22 L1744.6 1518.22 L1744.6 1514.29 Z\" fill=\"#000000\" fill-rule=\"nonzero\" fill-opacity=\"1\" /><path clip-path=\"url(#clip240)\" d=\"M1775.99 1514.29 L1794.34 1514.29 L1794.34 1518.22 L1780.27 1518.22 L1780.27 1526.7 Q1781.29 1526.35 1782.31 1526.19 Q1783.33 1526 1784.34 1526 Q1790.13 1526 1793.51 1529.17 Q1796.89 1532.34 1796.89 1537.76 Q1796.89 1543.34 1793.42 1546.44 Q1789.95 1549.52 1783.63 1549.52 Q1781.45 1549.52 1779.18 1549.15 Q1776.94 1548.78 1774.53 1548.04 L1774.53 1543.34 Q1776.61 1544.47 1778.83 1545.03 Q1781.06 1545.58 1783.53 1545.58 Q1787.54 1545.58 1789.88 1543.48 Q1792.21 1541.37 1792.21 1537.76 Q1792.21 1534.15 1789.88 1532.04 Q1787.54 1529.94 1783.53 1529.94 Q1781.66 1529.94 1779.78 1530.35 Q1777.93 1530.77 1775.99 1531.65 L1775.99 1514.29 Z\" fill=\"#000000\" fill-rule=\"nonzero\" fill-opacity=\"1\" /><path clip-path=\"url(#clip240)\" d=\"M2250.56 1544.91 L2258.2 1544.91 L2258.2 1518.55 L2249.89 1520.21 L2249.89 1515.95 L2258.15 1514.29 L2262.83 1514.29 L2262.83 1544.91 L2270.47 1544.91 L2270.47 1548.85 L2250.56 1548.85 L2250.56 1544.91 Z\" fill=\"#000000\" fill-rule=\"nonzero\" fill-opacity=\"1\" /><path clip-path=\"url(#clip240)\" d=\"M2289.91 1517.37 Q2286.3 1517.37 2284.47 1520.93 Q2282.67 1524.47 2282.67 1531.6 Q2282.67 1538.71 2284.47 1542.27 Q2286.3 1545.82 2289.91 1545.82 Q2293.55 1545.82 2295.35 1542.27 Q2297.18 1538.71 2297.18 1531.6 Q2297.18 1524.47 2295.35 1520.93 Q2293.55 1517.37 2289.91 1517.37 M2289.91 1513.66 Q2295.72 1513.66 2298.78 1518.27 Q2301.86 1522.85 2301.86 1531.6 Q2301.86 1540.33 2298.78 1544.94 Q2295.72 1549.52 2289.91 1549.52 Q2284.1 1549.52 2281.02 1544.94 Q2277.97 1540.33 2277.97 1531.6 Q2277.97 1522.85 2281.02 1518.27 Q2284.1 1513.66 2289.91 1513.66 Z\" fill=\"#000000\" fill-rule=\"nonzero\" fill-opacity=\"1\" /><path clip-path=\"url(#clip240)\" d=\"M2320.08 1517.37 Q2316.46 1517.37 2314.64 1520.93 Q2312.83 1524.47 2312.83 1531.6 Q2312.83 1538.71 2314.64 1542.27 Q2316.46 1545.82 2320.08 1545.82 Q2323.71 1545.82 2325.51 1542.27 Q2327.34 1538.71 2327.34 1531.6 Q2327.34 1524.47 2325.51 1520.93 Q2323.71 1517.37 2320.08 1517.37 M2320.08 1513.66 Q2325.89 1513.66 2328.94 1518.27 Q2332.02 1522.85 2332.02 1531.6 Q2332.02 1540.33 2328.94 1544.94 Q2325.89 1549.52 2320.08 1549.52 Q2314.26 1549.52 2311.19 1544.94 Q2308.13 1540.33 2308.13 1531.6 Q2308.13 1522.85 2311.19 1518.27 Q2314.26 1513.66 2320.08 1513.66 Z\" fill=\"#000000\" fill-rule=\"nonzero\" fill-opacity=\"1\" /><polyline clip-path=\"url(#clip242)\" style=\"stroke:#000000; stroke-linecap:round; stroke-linejoin:round; stroke-width:2; stroke-opacity:0.1; fill:none\" points=\"169.121,1323.62 2352.76,1323.62 \"/>\n",
       "<polyline clip-path=\"url(#clip242)\" style=\"stroke:#000000; stroke-linecap:round; stroke-linejoin:round; stroke-width:2; stroke-opacity:0.1; fill:none\" points=\"169.121,1139.04 2352.76,1139.04 \"/>\n",
       "<polyline clip-path=\"url(#clip242)\" style=\"stroke:#000000; stroke-linecap:round; stroke-linejoin:round; stroke-width:2; stroke-opacity:0.1; fill:none\" points=\"169.121,954.469 2352.76,954.469 \"/>\n",
       "<polyline clip-path=\"url(#clip242)\" style=\"stroke:#000000; stroke-linecap:round; stroke-linejoin:round; stroke-width:2; stroke-opacity:0.1; fill:none\" points=\"169.121,769.896 2352.76,769.896 \"/>\n",
       "<polyline clip-path=\"url(#clip242)\" style=\"stroke:#000000; stroke-linecap:round; stroke-linejoin:round; stroke-width:2; stroke-opacity:0.1; fill:none\" points=\"169.121,585.323 2352.76,585.323 \"/>\n",
       "<polyline clip-path=\"url(#clip242)\" style=\"stroke:#000000; stroke-linecap:round; stroke-linejoin:round; stroke-width:2; stroke-opacity:0.1; fill:none\" points=\"169.121,400.749 2352.76,400.749 \"/>\n",
       "<polyline clip-path=\"url(#clip242)\" style=\"stroke:#000000; stroke-linecap:round; stroke-linejoin:round; stroke-width:2; stroke-opacity:0.1; fill:none\" points=\"169.121,216.176 2352.76,216.176 \"/>\n",
       "<polyline clip-path=\"url(#clip240)\" style=\"stroke:#000000; stroke-linecap:round; stroke-linejoin:round; stroke-width:4; stroke-opacity:1; fill:none\" points=\"169.121,1486.45 169.121,47.2441 \"/>\n",
       "<polyline clip-path=\"url(#clip240)\" style=\"stroke:#000000; stroke-linecap:round; stroke-linejoin:round; stroke-width:4; stroke-opacity:1; fill:none\" points=\"169.121,1323.62 188.019,1323.62 \"/>\n",
       "<polyline clip-path=\"url(#clip240)\" style=\"stroke:#000000; stroke-linecap:round; stroke-linejoin:round; stroke-width:4; stroke-opacity:1; fill:none\" points=\"169.121,1139.04 188.019,1139.04 \"/>\n",
       "<polyline clip-path=\"url(#clip240)\" style=\"stroke:#000000; stroke-linecap:round; stroke-linejoin:round; stroke-width:4; stroke-opacity:1; fill:none\" points=\"169.121,954.469 188.019,954.469 \"/>\n",
       "<polyline clip-path=\"url(#clip240)\" style=\"stroke:#000000; stroke-linecap:round; stroke-linejoin:round; stroke-width:4; stroke-opacity:1; fill:none\" points=\"169.121,769.896 188.019,769.896 \"/>\n",
       "<polyline clip-path=\"url(#clip240)\" style=\"stroke:#000000; stroke-linecap:round; stroke-linejoin:round; stroke-width:4; stroke-opacity:1; fill:none\" points=\"169.121,585.323 188.019,585.323 \"/>\n",
       "<polyline clip-path=\"url(#clip240)\" style=\"stroke:#000000; stroke-linecap:round; stroke-linejoin:round; stroke-width:4; stroke-opacity:1; fill:none\" points=\"169.121,400.749 188.019,400.749 \"/>\n",
       "<polyline clip-path=\"url(#clip240)\" style=\"stroke:#000000; stroke-linecap:round; stroke-linejoin:round; stroke-width:4; stroke-opacity:1; fill:none\" points=\"169.121,216.176 188.019,216.176 \"/>\n",
       "<path clip-path=\"url(#clip240)\" d=\"M85.0429 1336.96 L101.362 1336.96 L101.362 1340.9 L79.4179 1340.9 L79.4179 1336.96 Q82.0799 1334.21 86.6632 1329.58 Q91.2697 1324.92 92.4502 1323.58 Q94.6956 1321.06 95.5752 1319.32 Q96.478 1317.56 96.478 1315.87 Q96.478 1313.12 94.5336 1311.38 Q92.6123 1309.65 89.5104 1309.65 Q87.3114 1309.65 84.8577 1310.41 Q82.4271 1311.17 79.6494 1312.72 L79.6494 1308 Q82.4734 1306.87 84.9271 1306.29 Q87.3808 1305.71 89.4178 1305.71 Q94.7882 1305.71 97.9826 1308.4 Q101.177 1311.08 101.177 1315.57 Q101.177 1317.7 100.367 1319.62 Q99.5798 1321.52 97.4734 1324.11 Q96.8947 1324.78 93.7928 1328 Q90.691 1331.2 85.0429 1336.96 Z\" fill=\"#000000\" fill-rule=\"nonzero\" fill-opacity=\"1\" /><path clip-path=\"url(#clip240)\" d=\"M121.177 1309.41 Q117.566 1309.41 115.737 1312.98 Q113.932 1316.52 113.932 1323.65 Q113.932 1330.76 115.737 1334.32 Q117.566 1337.86 121.177 1337.86 Q124.811 1337.86 126.617 1334.32 Q128.445 1330.76 128.445 1323.65 Q128.445 1316.52 126.617 1312.98 Q124.811 1309.41 121.177 1309.41 M121.177 1305.71 Q126.987 1305.71 130.043 1310.32 Q133.121 1314.9 133.121 1323.65 Q133.121 1332.38 130.043 1336.98 Q126.987 1341.57 121.177 1341.57 Q115.367 1341.57 112.288 1336.98 Q109.233 1332.38 109.233 1323.65 Q109.233 1314.9 112.288 1310.32 Q115.367 1305.71 121.177 1305.71 Z\" fill=\"#000000\" fill-rule=\"nonzero\" fill-opacity=\"1\" /><path clip-path=\"url(#clip240)\" d=\"M93.8623 1125.84 L82.0568 1144.29 L93.8623 1144.29 L93.8623 1125.84 M92.6354 1121.76 L98.515 1121.76 L98.515 1144.29 L103.446 1144.29 L103.446 1148.17 L98.515 1148.17 L98.515 1156.32 L93.8623 1156.32 L93.8623 1148.17 L78.2605 1148.17 L78.2605 1143.66 L92.6354 1121.76 Z\" fill=\"#000000\" fill-rule=\"nonzero\" fill-opacity=\"1\" /><path clip-path=\"url(#clip240)\" d=\"M121.177 1124.84 Q117.566 1124.84 115.737 1128.41 Q113.932 1131.95 113.932 1139.08 Q113.932 1146.18 115.737 1149.75 Q117.566 1153.29 121.177 1153.29 Q124.811 1153.29 126.617 1149.75 Q128.445 1146.18 128.445 1139.08 Q128.445 1131.95 126.617 1128.41 Q124.811 1124.84 121.177 1124.84 M121.177 1121.14 Q126.987 1121.14 130.043 1125.74 Q133.121 1130.33 133.121 1139.08 Q133.121 1147.8 130.043 1152.41 Q126.987 1156.99 121.177 1156.99 Q115.367 1156.99 112.288 1152.41 Q109.233 1147.8 109.233 1139.08 Q109.233 1130.33 112.288 1125.74 Q115.367 1121.14 121.177 1121.14 Z\" fill=\"#000000\" fill-rule=\"nonzero\" fill-opacity=\"1\" /><path clip-path=\"url(#clip240)\" d=\"M91.5938 952.606 Q88.4456 952.606 86.5938 954.758 Q84.7651 956.911 84.7651 960.661 Q84.7651 964.388 86.5938 966.564 Q88.4456 968.717 91.5938 968.717 Q94.7419 968.717 96.5706 966.564 Q98.4224 964.388 98.4224 960.661 Q98.4224 956.911 96.5706 954.758 Q94.7419 952.606 91.5938 952.606 M100.876 937.953 L100.876 942.212 Q99.1169 941.379 97.3113 940.939 Q95.5289 940.499 93.7697 940.499 Q89.1401 940.499 86.6864 943.624 Q84.2558 946.749 83.9086 953.069 Q85.2743 951.055 87.3345 949.99 Q89.3947 948.902 91.8715 948.902 Q97.0798 948.902 100.089 952.073 Q103.121 955.221 103.121 960.661 Q103.121 965.985 99.9733 969.203 Q96.8252 972.42 91.5938 972.42 Q85.5984 972.42 82.4271 967.837 Q79.2559 963.23 79.2559 954.504 Q79.2559 946.309 83.1447 941.448 Q87.0336 936.564 93.5845 936.564 Q95.3437 936.564 97.1261 936.911 Q98.9317 937.258 100.876 937.953 Z\" fill=\"#000000\" fill-rule=\"nonzero\" fill-opacity=\"1\" /><path clip-path=\"url(#clip240)\" d=\"M121.177 940.268 Q117.566 940.268 115.737 943.832 Q113.932 947.374 113.932 954.504 Q113.932 961.61 115.737 965.175 Q117.566 968.717 121.177 968.717 Q124.811 968.717 126.617 965.175 Q128.445 961.61 128.445 954.504 Q128.445 947.374 126.617 943.832 Q124.811 940.268 121.177 940.268 M121.177 936.564 Q126.987 936.564 130.043 941.17 Q133.121 945.754 133.121 954.504 Q133.121 963.23 130.043 967.837 Q126.987 972.42 121.177 972.42 Q115.367 972.42 112.288 967.837 Q109.233 963.23 109.233 954.504 Q109.233 945.754 112.288 941.17 Q115.367 936.564 121.177 936.564 Z\" fill=\"#000000\" fill-rule=\"nonzero\" fill-opacity=\"1\" /><path clip-path=\"url(#clip240)\" d=\"M91.0151 770.764 Q87.6817 770.764 85.7605 772.546 Q83.8623 774.329 83.8623 777.454 Q83.8623 780.579 85.7605 782.361 Q87.6817 784.143 91.0151 784.143 Q94.3484 784.143 96.2697 782.361 Q98.1909 780.555 98.1909 777.454 Q98.1909 774.329 96.2697 772.546 Q94.3715 770.764 91.0151 770.764 M86.3392 768.773 Q83.3299 768.032 81.6401 765.972 Q79.9735 763.912 79.9735 760.949 Q79.9735 756.806 82.9133 754.398 Q85.8762 751.991 91.0151 751.991 Q96.1771 751.991 99.1169 754.398 Q102.057 756.806 102.057 760.949 Q102.057 763.912 100.367 765.972 Q98.7002 768.032 95.7141 768.773 Q99.0937 769.56 100.969 771.852 Q102.867 774.143 102.867 777.454 Q102.867 782.477 99.7882 785.162 Q96.7326 787.847 91.0151 787.847 Q85.2975 787.847 82.2188 785.162 Q79.1633 782.477 79.1633 777.454 Q79.1633 774.143 81.0614 771.852 Q82.9595 769.56 86.3392 768.773 M84.6262 761.389 Q84.6262 764.074 86.2929 765.579 Q87.9827 767.083 91.0151 767.083 Q94.0243 767.083 95.7141 765.579 Q97.4271 764.074 97.4271 761.389 Q97.4271 758.704 95.7141 757.199 Q94.0243 755.694 91.0151 755.694 Q87.9827 755.694 86.2929 757.199 Q84.6262 758.704 84.6262 761.389 Z\" fill=\"#000000\" fill-rule=\"nonzero\" fill-opacity=\"1\" /><path clip-path=\"url(#clip240)\" d=\"M121.177 755.694 Q117.566 755.694 115.737 759.259 Q113.932 762.801 113.932 769.93 Q113.932 777.037 115.737 780.602 Q117.566 784.143 121.177 784.143 Q124.811 784.143 126.617 780.602 Q128.445 777.037 128.445 769.93 Q128.445 762.801 126.617 759.259 Q124.811 755.694 121.177 755.694 M121.177 751.991 Q126.987 751.991 130.043 756.597 Q133.121 761.181 133.121 769.93 Q133.121 778.657 130.043 783.264 Q126.987 787.847 121.177 787.847 Q115.367 787.847 112.288 783.264 Q109.233 778.657 109.233 769.93 Q109.233 761.181 112.288 756.597 Q115.367 751.991 121.177 751.991 Z\" fill=\"#000000\" fill-rule=\"nonzero\" fill-opacity=\"1\" /><path clip-path=\"url(#clip240)\" d=\"M51.6634 598.667 L59.3023 598.667 L59.3023 572.302 L50.9921 573.968 L50.9921 569.709 L59.256 568.043 L63.9319 568.043 L63.9319 598.667 L71.5707 598.667 L71.5707 602.603 L51.6634 602.603 L51.6634 598.667 Z\" fill=\"#000000\" fill-rule=\"nonzero\" fill-opacity=\"1\" /><path clip-path=\"url(#clip240)\" d=\"M91.0151 571.121 Q87.404 571.121 85.5753 574.686 Q83.7697 578.228 83.7697 585.357 Q83.7697 592.464 85.5753 596.029 Q87.404 599.57 91.0151 599.57 Q94.6493 599.57 96.4548 596.029 Q98.2835 592.464 98.2835 585.357 Q98.2835 578.228 96.4548 574.686 Q94.6493 571.121 91.0151 571.121 M91.0151 567.418 Q96.8252 567.418 99.8808 572.024 Q102.959 576.607 102.959 585.357 Q102.959 594.084 99.8808 598.691 Q96.8252 603.274 91.0151 603.274 Q85.2049 603.274 82.1262 598.691 Q79.0707 594.084 79.0707 585.357 Q79.0707 576.607 82.1262 572.024 Q85.2049 567.418 91.0151 567.418 Z\" fill=\"#000000\" fill-rule=\"nonzero\" fill-opacity=\"1\" /><path clip-path=\"url(#clip240)\" d=\"M121.177 571.121 Q117.566 571.121 115.737 574.686 Q113.932 578.228 113.932 585.357 Q113.932 592.464 115.737 596.029 Q117.566 599.57 121.177 599.57 Q124.811 599.57 126.617 596.029 Q128.445 592.464 128.445 585.357 Q128.445 578.228 126.617 574.686 Q124.811 571.121 121.177 571.121 M121.177 567.418 Q126.987 567.418 130.043 572.024 Q133.121 576.607 133.121 585.357 Q133.121 594.084 130.043 598.691 Q126.987 603.274 121.177 603.274 Q115.367 603.274 112.288 598.691 Q109.233 594.084 109.233 585.357 Q109.233 576.607 112.288 572.024 Q115.367 567.418 121.177 567.418 Z\" fill=\"#000000\" fill-rule=\"nonzero\" fill-opacity=\"1\" /><path clip-path=\"url(#clip240)\" d=\"M51.6634 414.094 L59.3023 414.094 L59.3023 387.729 L50.9921 389.395 L50.9921 385.136 L59.256 383.469 L63.9319 383.469 L63.9319 414.094 L71.5707 414.094 L71.5707 418.029 L51.6634 418.029 L51.6634 414.094 Z\" fill=\"#000000\" fill-rule=\"nonzero\" fill-opacity=\"1\" /><path clip-path=\"url(#clip240)\" d=\"M85.0429 414.094 L101.362 414.094 L101.362 418.029 L79.4179 418.029 L79.4179 414.094 Q82.0799 411.34 86.6632 406.71 Q91.2697 402.057 92.4502 400.715 Q94.6956 398.192 95.5752 396.455 Q96.478 394.696 96.478 393.006 Q96.478 390.252 94.5336 388.516 Q92.6123 386.78 89.5104 386.78 Q87.3114 386.78 84.8577 387.543 Q82.4271 388.307 79.6494 389.858 L79.6494 385.136 Q82.4734 384.002 84.9271 383.423 Q87.3808 382.844 89.4178 382.844 Q94.7882 382.844 97.9826 385.53 Q101.177 388.215 101.177 392.705 Q101.177 394.835 100.367 396.756 Q99.5798 398.654 97.4734 401.247 Q96.8947 401.918 93.7928 405.136 Q90.691 408.33 85.0429 414.094 Z\" fill=\"#000000\" fill-rule=\"nonzero\" fill-opacity=\"1\" /><path clip-path=\"url(#clip240)\" d=\"M121.177 386.548 Q117.566 386.548 115.737 390.113 Q113.932 393.654 113.932 400.784 Q113.932 407.891 115.737 411.455 Q117.566 414.997 121.177 414.997 Q124.811 414.997 126.617 411.455 Q128.445 407.891 128.445 400.784 Q128.445 393.654 126.617 390.113 Q124.811 386.548 121.177 386.548 M121.177 382.844 Q126.987 382.844 130.043 387.451 Q133.121 392.034 133.121 400.784 Q133.121 409.511 130.043 414.117 Q126.987 418.701 121.177 418.701 Q115.367 418.701 112.288 414.117 Q109.233 409.511 109.233 400.784 Q109.233 392.034 112.288 387.451 Q115.367 382.844 121.177 382.844 Z\" fill=\"#000000\" fill-rule=\"nonzero\" fill-opacity=\"1\" /><path clip-path=\"url(#clip240)\" d=\"M51.6634 229.521 L59.3023 229.521 L59.3023 203.155 L50.9921 204.822 L50.9921 200.563 L59.256 198.896 L63.9319 198.896 L63.9319 229.521 L71.5707 229.521 L71.5707 233.456 L51.6634 233.456 L51.6634 229.521 Z\" fill=\"#000000\" fill-rule=\"nonzero\" fill-opacity=\"1\" /><path clip-path=\"url(#clip240)\" d=\"M93.8623 202.97 L82.0568 221.419 L93.8623 221.419 L93.8623 202.97 M92.6354 198.896 L98.515 198.896 L98.515 221.419 L103.446 221.419 L103.446 225.308 L98.515 225.308 L98.515 233.456 L93.8623 233.456 L93.8623 225.308 L78.2605 225.308 L78.2605 220.794 L92.6354 198.896 Z\" fill=\"#000000\" fill-rule=\"nonzero\" fill-opacity=\"1\" /><path clip-path=\"url(#clip240)\" d=\"M121.177 201.975 Q117.566 201.975 115.737 205.54 Q113.932 209.081 113.932 216.211 Q113.932 223.317 115.737 226.882 Q117.566 230.424 121.177 230.424 Q124.811 230.424 126.617 226.882 Q128.445 223.317 128.445 216.211 Q128.445 209.081 126.617 205.54 Q124.811 201.975 121.177 201.975 M121.177 198.271 Q126.987 198.271 130.043 202.878 Q133.121 207.461 133.121 216.211 Q133.121 224.938 130.043 229.544 Q126.987 234.127 121.177 234.127 Q115.367 234.127 112.288 229.544 Q109.233 224.938 109.233 216.211 Q109.233 207.461 112.288 202.878 Q115.367 198.271 121.177 198.271 Z\" fill=\"#000000\" fill-rule=\"nonzero\" fill-opacity=\"1\" /><polyline clip-path=\"url(#clip242)\" style=\"stroke:#009af9; stroke-linecap:round; stroke-linejoin:round; stroke-width:4; stroke-opacity:1; fill:none\" points=\"230.922,87.9763 251.731,262.047 272.539,399.282 293.348,530.78 314.156,637.127 334.964,724.645 355.773,794.175 376.581,848.758 397.39,891.928 418.198,929.49 439.006,1245.66 459.815,1259.63 480.623,1270.1 501.432,1278.45 522.24,1283.18 543.048,1288.8 563.857,1291.16 584.665,1295.22 605.474,1299.3 626.282,1302.53 647.091,1301.73 667.899,1331.99 688.707,1335.44 709.516,1340.71 730.324,1342.57 751.133,1344.11 771.941,1344.56 792.749,1348.27 813.558,1351 834.366,1353.59 855.175,1347.62 875.983,1371.74 896.791,1368.84 917.6,1371.39 938.408,1373.92 959.217,1375.47 980.025,1377.55 1000.83,1377.99 1021.64,1379.82 1042.45,1380.65 1063.26,1445.72 1084.07,1389.9 1104.88,1389.48 1125.68,1392.07 1146.49,1393.4 1167.3,1394.87 1188.11,1395.45 1208.92,1396.49 1229.73,1397.3 1250.53,1398.33 1271.34,1411.98 1292.15,1400.41 1312.96,1403.65 1333.77,1405.54 1354.58,1406.71 1375.38,1408.11 1396.19,1409.86 1417,1411.28 1437.81,1412.02 1458.62,1411.67 1479.43,1444.57 1500.24,1418.36 1521.04,1421.02 1541.85,1419.4 1562.66,1419.76 1583.47,1419.2 1604.28,1418.78 1625.09,1420.03 1645.89,1421.59 1666.7,1422.2 1687.51,1430.35 1708.32,1429.13 1729.13,1425.15 1749.94,1428.23 1770.74,1427.67 1791.55,1428.19 1812.36,1427.92 1833.17,1428.72 1853.98,1428.95 1874.79,1429.43 1895.6,1438.1 1916.4,1431.18 1937.21,1431.66 1958.02,1435.11 1978.83,1435.1 1999.64,1435.14 2020.45,1434.56 2041.25,1434.98 2062.06,1436.04 2082.87,1435.45 2103.68,1419.13 2124.49,1442.97 2145.3,1440.78 2166.1,1440.82 2186.91,1439.01 2207.72,1439.86 2228.53,1440.31 2249.34,1440.48 2270.15,1440.5 2290.95,1440.82 \"/>\n",
       "<circle clip-path=\"url(#clip242)\" cx=\"418.198\" cy=\"929.49\" r=\"14.4\" fill=\"#e26f46\" fill-rule=\"evenodd\" fill-opacity=\"1\" stroke=\"#000000\" stroke-opacity=\"1\" stroke-width=\"3.2\"/>\n",
       "<circle clip-path=\"url(#clip242)\" cx=\"626.282\" cy=\"1302.53\" r=\"14.4\" fill=\"#e26f46\" fill-rule=\"evenodd\" fill-opacity=\"1\" stroke=\"#000000\" stroke-opacity=\"1\" stroke-width=\"3.2\"/>\n",
       "<circle clip-path=\"url(#clip242)\" cx=\"834.366\" cy=\"1353.59\" r=\"14.4\" fill=\"#e26f46\" fill-rule=\"evenodd\" fill-opacity=\"1\" stroke=\"#000000\" stroke-opacity=\"1\" stroke-width=\"3.2\"/>\n",
       "<circle clip-path=\"url(#clip242)\" cx=\"1042.45\" cy=\"1380.65\" r=\"14.4\" fill=\"#e26f46\" fill-rule=\"evenodd\" fill-opacity=\"1\" stroke=\"#000000\" stroke-opacity=\"1\" stroke-width=\"3.2\"/>\n",
       "<circle clip-path=\"url(#clip242)\" cx=\"1250.53\" cy=\"1398.33\" r=\"14.4\" fill=\"#e26f46\" fill-rule=\"evenodd\" fill-opacity=\"1\" stroke=\"#000000\" stroke-opacity=\"1\" stroke-width=\"3.2\"/>\n",
       "<circle clip-path=\"url(#clip242)\" cx=\"1458.62\" cy=\"1411.67\" r=\"14.4\" fill=\"#e26f46\" fill-rule=\"evenodd\" fill-opacity=\"1\" stroke=\"#000000\" stroke-opacity=\"1\" stroke-width=\"3.2\"/>\n",
       "<circle clip-path=\"url(#clip242)\" cx=\"1666.7\" cy=\"1422.2\" r=\"14.4\" fill=\"#e26f46\" fill-rule=\"evenodd\" fill-opacity=\"1\" stroke=\"#000000\" stroke-opacity=\"1\" stroke-width=\"3.2\"/>\n",
       "<circle clip-path=\"url(#clip242)\" cx=\"1874.79\" cy=\"1429.43\" r=\"14.4\" fill=\"#e26f46\" fill-rule=\"evenodd\" fill-opacity=\"1\" stroke=\"#000000\" stroke-opacity=\"1\" stroke-width=\"3.2\"/>\n",
       "<circle clip-path=\"url(#clip242)\" cx=\"2082.87\" cy=\"1435.45\" r=\"14.4\" fill=\"#e26f46\" fill-rule=\"evenodd\" fill-opacity=\"1\" stroke=\"#000000\" stroke-opacity=\"1\" stroke-width=\"3.2\"/>\n",
       "<circle clip-path=\"url(#clip242)\" cx=\"2290.95\" cy=\"1440.82\" r=\"14.4\" fill=\"#e26f46\" fill-rule=\"evenodd\" fill-opacity=\"1\" stroke=\"#000000\" stroke-opacity=\"1\" stroke-width=\"3.2\"/>\n",
       "<path clip-path=\"url(#clip240)\" d=\"M1765.4 250.738 L2279.97 250.738 L2279.97 95.2176 L1765.4 95.2176  Z\" fill=\"#ffffff\" fill-rule=\"evenodd\" fill-opacity=\"1\"/>\n",
       "<polyline clip-path=\"url(#clip240)\" style=\"stroke:#000000; stroke-linecap:round; stroke-linejoin:round; stroke-width:4; stroke-opacity:1; fill:none\" points=\"1765.4,250.738 2279.97,250.738 2279.97,95.2176 1765.4,95.2176 1765.4,250.738 \"/>\n",
       "<polyline clip-path=\"url(#clip240)\" style=\"stroke:#009af9; stroke-linecap:round; stroke-linejoin:round; stroke-width:4; stroke-opacity:1; fill:none\" points=\"1789.67,147.058 1935.24,147.058 \"/>\n",
       "<path clip-path=\"url(#clip240)\" d=\"M1959.5 128.319 L1963.76 128.319 L1963.76 164.338 L1959.5 164.338 L1959.5 128.319 Z\" fill=\"#000000\" fill-rule=\"nonzero\" fill-opacity=\"1\" /><path clip-path=\"url(#clip240)\" d=\"M1982.72 141.398 Q1979.29 141.398 1977.3 144.083 Q1975.31 146.745 1975.31 151.398 Q1975.31 156.051 1977.28 158.736 Q1979.27 161.398 1982.72 161.398 Q1986.12 161.398 1988.11 158.713 Q1990.11 156.027 1990.11 151.398 Q1990.11 146.791 1988.11 144.106 Q1986.12 141.398 1982.72 141.398 M1982.72 137.787 Q1988.28 137.787 1991.45 141.398 Q1994.62 145.009 1994.62 151.398 Q1994.62 157.764 1991.45 161.398 Q1988.28 165.009 1982.72 165.009 Q1977.14 165.009 1973.97 161.398 Q1970.82 157.764 1970.82 151.398 Q1970.82 145.009 1973.97 141.398 Q1977.14 137.787 1982.72 137.787 Z\" fill=\"#000000\" fill-rule=\"nonzero\" fill-opacity=\"1\" /><path clip-path=\"url(#clip240)\" d=\"M2018.21 139.176 L2018.21 143.203 Q2016.4 142.277 2014.46 141.815 Q2012.51 141.352 2010.43 141.352 Q2007.26 141.352 2005.66 142.324 Q2004.09 143.296 2004.09 145.24 Q2004.09 146.722 2005.22 147.578 Q2006.35 148.412 2009.78 149.176 L2011.24 149.5 Q2015.78 150.472 2017.67 152.254 Q2019.6 154.014 2019.6 157.185 Q2019.6 160.796 2016.73 162.902 Q2013.88 165.009 2008.88 165.009 Q2006.79 165.009 2004.53 164.592 Q2002.28 164.199 1999.78 163.388 L1999.78 158.99 Q2002.14 160.217 2004.43 160.842 Q2006.73 161.444 2008.97 161.444 Q2011.98 161.444 2013.6 160.426 Q2015.22 159.384 2015.22 157.509 Q2015.22 155.773 2014.04 154.847 Q2012.88 153.921 2008.92 153.064 L2007.44 152.717 Q2003.48 151.884 2001.73 150.171 Q1999.97 148.435 1999.97 145.426 Q1999.97 141.768 2002.56 139.778 Q2005.15 137.787 2009.92 137.787 Q2012.28 137.787 2014.36 138.134 Q2016.45 138.481 2018.21 139.176 Z\" fill=\"#000000\" fill-rule=\"nonzero\" fill-opacity=\"1\" /><path clip-path=\"url(#clip240)\" d=\"M2042.91 139.176 L2042.91 143.203 Q2041.1 142.277 2039.16 141.815 Q2037.21 141.352 2035.13 141.352 Q2031.96 141.352 2030.36 142.324 Q2028.79 143.296 2028.79 145.24 Q2028.79 146.722 2029.92 147.578 Q2031.05 148.412 2034.48 149.176 L2035.94 149.5 Q2040.48 150.472 2042.37 152.254 Q2044.29 154.014 2044.29 157.185 Q2044.29 160.796 2041.42 162.902 Q2038.58 165.009 2033.58 165.009 Q2031.49 165.009 2029.23 164.592 Q2026.98 164.199 2024.48 163.388 L2024.48 158.99 Q2026.84 160.217 2029.13 160.842 Q2031.42 161.444 2033.67 161.444 Q2036.68 161.444 2038.3 160.426 Q2039.92 159.384 2039.92 157.509 Q2039.92 155.773 2038.74 154.847 Q2037.58 153.921 2033.62 153.064 L2032.14 152.717 Q2028.18 151.884 2026.42 150.171 Q2024.67 148.435 2024.67 145.426 Q2024.67 141.768 2027.26 139.778 Q2029.85 137.787 2034.62 137.787 Q2036.98 137.787 2039.06 138.134 Q2041.15 138.481 2042.91 139.176 Z\" fill=\"#000000\" fill-rule=\"nonzero\" fill-opacity=\"1\" /><path clip-path=\"url(#clip240)\" d=\"M2070.78 172.208 L2070.78 175.518 L2046.15 175.518 L2046.15 172.208 L2070.78 172.208 Z\" fill=\"#000000\" fill-rule=\"nonzero\" fill-opacity=\"1\" /><path clip-path=\"url(#clip240)\" d=\"M2093.39 151.398 Q2093.39 146.699 2091.45 144.037 Q2089.53 141.352 2086.15 141.352 Q2082.77 141.352 2080.82 144.037 Q2078.9 146.699 2078.9 151.398 Q2078.9 156.097 2080.82 158.782 Q2082.77 161.444 2086.15 161.444 Q2089.53 161.444 2091.45 158.782 Q2093.39 156.097 2093.39 151.398 M2078.9 142.347 Q2080.24 140.032 2082.28 138.921 Q2084.34 137.787 2087.19 137.787 Q2091.91 137.787 2094.85 141.537 Q2097.81 145.287 2097.81 151.398 Q2097.81 157.509 2094.85 161.259 Q2091.91 165.009 2087.19 165.009 Q2084.34 165.009 2082.28 163.898 Q2080.24 162.763 2078.9 160.449 L2078.9 164.338 L2074.62 164.338 L2074.62 128.319 L2078.9 128.319 L2078.9 142.347 Z\" fill=\"#000000\" fill-rule=\"nonzero\" fill-opacity=\"1\" /><path clip-path=\"url(#clip240)\" d=\"M2116.66 151.305 Q2111.49 151.305 2109.5 152.486 Q2107.51 153.666 2107.51 156.514 Q2107.51 158.782 2108.99 160.125 Q2110.5 161.444 2113.07 161.444 Q2116.61 161.444 2118.74 158.944 Q2120.89 156.421 2120.89 152.254 L2120.89 151.305 L2116.66 151.305 M2125.15 149.546 L2125.15 164.338 L2120.89 164.338 L2120.89 160.402 Q2119.43 162.763 2117.26 163.898 Q2115.08 165.009 2111.93 165.009 Q2107.95 165.009 2105.59 162.787 Q2103.25 160.541 2103.25 156.791 Q2103.25 152.416 2106.17 150.194 Q2109.11 147.972 2114.92 147.972 L2120.89 147.972 L2120.89 147.555 Q2120.89 144.615 2118.95 143.018 Q2117.03 141.398 2113.53 141.398 Q2111.31 141.398 2109.2 141.93 Q2107.1 142.463 2105.15 143.527 L2105.15 139.592 Q2107.49 138.69 2109.69 138.25 Q2111.89 137.787 2113.97 137.787 Q2119.6 137.787 2122.37 140.703 Q2125.15 143.62 2125.15 149.546 Z\" fill=\"#000000\" fill-rule=\"nonzero\" fill-opacity=\"1\" /><path clip-path=\"url(#clip240)\" d=\"M2138.14 131.051 L2138.14 138.412 L2146.91 138.412 L2146.91 141.722 L2138.14 141.722 L2138.14 155.796 Q2138.14 158.967 2138.99 159.87 Q2139.87 160.773 2142.53 160.773 L2146.91 160.773 L2146.91 164.338 L2142.53 164.338 Q2137.6 164.338 2135.73 162.509 Q2133.85 160.657 2133.85 155.796 L2133.85 141.722 L2130.73 141.722 L2130.73 138.412 L2133.85 138.412 L2133.85 131.051 L2138.14 131.051 Z\" fill=\"#000000\" fill-rule=\"nonzero\" fill-opacity=\"1\" /><path clip-path=\"url(#clip240)\" d=\"M2171.17 139.407 L2171.17 143.389 Q2169.36 142.393 2167.53 141.907 Q2165.73 141.398 2163.88 141.398 Q2159.73 141.398 2157.44 144.037 Q2155.15 146.652 2155.15 151.398 Q2155.15 156.143 2157.44 158.782 Q2159.73 161.398 2163.88 161.398 Q2165.73 161.398 2167.53 160.912 Q2169.36 160.402 2171.17 159.407 L2171.17 163.342 Q2169.39 164.176 2167.47 164.592 Q2165.57 165.009 2163.41 165.009 Q2157.56 165.009 2154.11 161.328 Q2150.66 157.648 2150.66 151.398 Q2150.66 145.055 2154.13 141.421 Q2157.63 137.787 2163.69 137.787 Q2165.66 137.787 2167.53 138.203 Q2169.41 138.597 2171.17 139.407 Z\" fill=\"#000000\" fill-rule=\"nonzero\" fill-opacity=\"1\" /><path clip-path=\"url(#clip240)\" d=\"M2200.13 148.689 L2200.13 164.338 L2195.87 164.338 L2195.87 148.828 Q2195.87 145.148 2194.43 143.319 Q2193 141.49 2190.13 141.49 Q2186.68 141.49 2184.69 143.69 Q2182.7 145.889 2182.7 149.685 L2182.7 164.338 L2178.41 164.338 L2178.41 128.319 L2182.7 128.319 L2182.7 142.44 Q2184.22 140.102 2186.28 138.944 Q2188.37 137.787 2191.08 137.787 Q2195.54 137.787 2197.84 140.565 Q2200.13 143.319 2200.13 148.689 Z\" fill=\"#000000\" fill-rule=\"nonzero\" fill-opacity=\"1\" /><path clip-path=\"url(#clip240)\" d=\"M2230.8 150.31 L2230.8 152.393 L2211.21 152.393 Q2211.49 156.791 2213.85 159.106 Q2216.24 161.398 2220.47 161.398 Q2222.93 161.398 2225.22 160.796 Q2227.53 160.194 2229.8 158.99 L2229.8 163.018 Q2227.51 163.99 2225.1 164.5 Q2222.7 165.009 2220.22 165.009 Q2214.02 165.009 2210.38 161.398 Q2206.77 157.787 2206.77 151.629 Q2206.77 145.264 2210.2 141.537 Q2213.65 137.787 2219.48 137.787 Q2224.71 137.787 2227.74 141.166 Q2230.8 144.523 2230.8 150.31 M2226.54 149.06 Q2226.49 145.565 2224.57 143.481 Q2222.67 141.398 2219.53 141.398 Q2215.96 141.398 2213.81 143.412 Q2211.68 145.426 2211.35 149.083 L2226.54 149.06 Z\" fill=\"#000000\" fill-rule=\"nonzero\" fill-opacity=\"1\" /><path clip-path=\"url(#clip240)\" d=\"M2254.32 139.176 L2254.32 143.203 Q2252.51 142.277 2250.57 141.815 Q2248.62 141.352 2246.54 141.352 Q2243.37 141.352 2241.77 142.324 Q2240.2 143.296 2240.2 145.24 Q2240.2 146.722 2241.33 147.578 Q2242.46 148.412 2245.89 149.176 L2247.35 149.5 Q2251.89 150.472 2253.78 152.254 Q2255.71 154.014 2255.71 157.185 Q2255.71 160.796 2252.84 162.902 Q2249.99 165.009 2244.99 165.009 Q2242.9 165.009 2240.64 164.592 Q2238.39 164.199 2235.89 163.388 L2235.89 158.99 Q2238.25 160.217 2240.54 160.842 Q2242.84 161.444 2245.08 161.444 Q2248.09 161.444 2249.71 160.426 Q2251.33 159.384 2251.33 157.509 Q2251.33 155.773 2250.15 154.847 Q2248.99 153.921 2245.03 153.064 L2243.55 152.717 Q2239.59 151.884 2237.84 150.171 Q2236.08 148.435 2236.08 145.426 Q2236.08 141.768 2238.67 139.778 Q2241.26 137.787 2246.03 137.787 Q2248.39 137.787 2250.47 138.134 Q2252.56 138.481 2254.32 139.176 Z\" fill=\"#000000\" fill-rule=\"nonzero\" fill-opacity=\"1\" /><circle clip-path=\"url(#clip240)\" cx=\"1862.45\" cy=\"198.898\" r=\"20.48\" fill=\"#e26f46\" fill-rule=\"evenodd\" fill-opacity=\"1\" stroke=\"#000000\" stroke-opacity=\"1\" stroke-width=\"4.55111\"/>\n",
       "<path clip-path=\"url(#clip240)\" d=\"M1983.53 202.15 L1983.53 204.233 L1963.95 204.233 Q1964.23 208.631 1966.59 210.946 Q1968.97 213.238 1973.21 213.238 Q1975.66 213.238 1977.95 212.636 Q1980.27 212.034 1982.54 210.83 L1982.54 214.858 Q1980.24 215.83 1977.84 216.34 Q1975.43 216.849 1972.95 216.849 Q1966.75 216.849 1963.11 213.238 Q1959.5 209.627 1959.5 203.469 Q1959.5 197.104 1962.93 193.377 Q1966.38 189.627 1972.21 189.627 Q1977.44 189.627 1980.48 193.006 Q1983.53 196.363 1983.53 202.15 M1979.27 200.9 Q1979.23 197.405 1977.3 195.321 Q1975.41 193.238 1972.26 193.238 Q1968.69 193.238 1966.54 195.252 Q1964.41 197.266 1964.09 200.923 L1979.27 200.9 Z\" fill=\"#000000\" fill-rule=\"nonzero\" fill-opacity=\"1\" /><path clip-path=\"url(#clip240)\" d=\"M1994.64 212.289 L1994.64 226.039 L1990.36 226.039 L1990.36 190.252 L1994.64 190.252 L1994.64 194.187 Q1995.98 191.872 1998.02 190.761 Q2000.08 189.627 2002.93 189.627 Q2007.65 189.627 2010.59 193.377 Q2013.55 197.127 2013.55 203.238 Q2013.55 209.349 2010.59 213.099 Q2007.65 216.849 2002.93 216.849 Q2000.08 216.849 1998.02 215.738 Q1995.98 214.603 1994.64 212.289 M2009.13 203.238 Q2009.13 198.539 2007.19 195.877 Q2005.27 193.192 2001.89 193.192 Q1998.51 193.192 1996.56 195.877 Q1994.64 198.539 1994.64 203.238 Q1994.64 207.937 1996.56 210.622 Q1998.51 213.284 2001.89 213.284 Q2005.27 213.284 2007.19 210.622 Q2009.13 207.937 2009.13 203.238 Z\" fill=\"#000000\" fill-rule=\"nonzero\" fill-opacity=\"1\" /><path clip-path=\"url(#clip240)\" d=\"M2030.66 193.238 Q2027.23 193.238 2025.24 195.923 Q2023.25 198.585 2023.25 203.238 Q2023.25 207.891 2025.22 210.576 Q2027.21 213.238 2030.66 213.238 Q2034.06 213.238 2036.05 210.553 Q2038.04 207.867 2038.04 203.238 Q2038.04 198.631 2036.05 195.946 Q2034.06 193.238 2030.66 193.238 M2030.66 189.627 Q2036.22 189.627 2039.39 193.238 Q2042.56 196.849 2042.56 203.238 Q2042.56 209.604 2039.39 213.238 Q2036.22 216.849 2030.66 216.849 Q2025.08 216.849 2021.91 213.238 Q2018.76 209.604 2018.76 203.238 Q2018.76 196.849 2021.91 193.238 Q2025.08 189.627 2030.66 189.627 Z\" fill=\"#000000\" fill-rule=\"nonzero\" fill-opacity=\"1\" /><path clip-path=\"url(#clip240)\" d=\"M2068.28 191.247 L2068.28 195.229 Q2066.47 194.233 2064.64 193.747 Q2062.84 193.238 2060.98 193.238 Q2056.84 193.238 2054.55 195.877 Q2052.26 198.492 2052.26 203.238 Q2052.26 207.983 2054.55 210.622 Q2056.84 213.238 2060.98 213.238 Q2062.84 213.238 2064.64 212.752 Q2066.47 212.242 2068.28 211.247 L2068.28 215.182 Q2066.49 216.016 2064.57 216.432 Q2062.67 216.849 2060.52 216.849 Q2054.66 216.849 2051.22 213.168 Q2047.77 209.488 2047.77 203.238 Q2047.77 196.895 2051.24 193.261 Q2054.73 189.627 2060.8 189.627 Q2062.77 189.627 2064.64 190.043 Q2066.52 190.437 2068.28 191.247 Z\" fill=\"#000000\" fill-rule=\"nonzero\" fill-opacity=\"1\" /><path clip-path=\"url(#clip240)\" d=\"M2097.23 200.529 L2097.23 216.178 L2092.97 216.178 L2092.97 200.668 Q2092.97 196.988 2091.54 195.159 Q2090.1 193.33 2087.23 193.33 Q2083.79 193.33 2081.79 195.53 Q2079.8 197.729 2079.8 201.525 L2079.8 216.178 L2075.52 216.178 L2075.52 180.159 L2079.8 180.159 L2079.8 194.28 Q2081.33 191.942 2083.39 190.784 Q2085.47 189.627 2088.18 189.627 Q2092.65 189.627 2094.94 192.405 Q2097.23 195.159 2097.23 200.529 Z\" fill=\"#000000\" fill-rule=\"nonzero\" fill-opacity=\"1\" /><path clip-path=\"url(#clip240)\" d=\"M2122.26 191.016 L2122.26 195.043 Q2120.45 194.117 2118.51 193.655 Q2116.56 193.192 2114.48 193.192 Q2111.31 193.192 2109.71 194.164 Q2108.14 195.136 2108.14 197.08 Q2108.14 198.562 2109.27 199.418 Q2110.41 200.252 2113.83 201.016 L2115.29 201.34 Q2119.83 202.312 2121.72 204.094 Q2123.65 205.854 2123.65 209.025 Q2123.65 212.636 2120.78 214.742 Q2117.93 216.849 2112.93 216.849 Q2110.85 216.849 2108.58 216.432 Q2106.33 216.039 2103.83 215.228 L2103.83 210.83 Q2106.19 212.057 2108.48 212.682 Q2110.78 213.284 2113.02 213.284 Q2116.03 213.284 2117.65 212.266 Q2119.27 211.224 2119.27 209.349 Q2119.27 207.613 2118.09 206.687 Q2116.93 205.761 2112.97 204.904 L2111.49 204.557 Q2107.53 203.724 2105.78 202.011 Q2104.02 200.275 2104.02 197.266 Q2104.02 193.608 2106.61 191.618 Q2109.2 189.627 2113.97 189.627 Q2116.33 189.627 2118.41 189.974 Q2120.5 190.321 2122.26 191.016 Z\" fill=\"#000000\" fill-rule=\"nonzero\" fill-opacity=\"1\" /></svg>\n"
      ],
      "text/html": [
       "<?xml version=\"1.0\" encoding=\"utf-8\"?>\n",
       "<svg xmlns=\"http://www.w3.org/2000/svg\" xmlns:xlink=\"http://www.w3.org/1999/xlink\" width=\"600\" height=\"400\" viewBox=\"0 0 2400 1600\">\n",
       "<defs>\n",
       "  <clipPath id=\"clip290\">\n",
       "    <rect x=\"0\" y=\"0\" width=\"2400\" height=\"1600\"/>\n",
       "  </clipPath>\n",
       "</defs>\n",
       "<path clip-path=\"url(#clip290)\" d=\"M0 1600 L2400 1600 L2400 0 L0 0  Z\" fill=\"#ffffff\" fill-rule=\"evenodd\" fill-opacity=\"1\"/>\n",
       "<defs>\n",
       "  <clipPath id=\"clip291\">\n",
       "    <rect x=\"480\" y=\"0\" width=\"1681\" height=\"1600\"/>\n",
       "  </clipPath>\n",
       "</defs>\n",
       "<path clip-path=\"url(#clip290)\" d=\"M169.121 1486.45 L2352.76 1486.45 L2352.76 47.2441 L169.121 47.2441  Z\" fill=\"#ffffff\" fill-rule=\"evenodd\" fill-opacity=\"1\"/>\n",
       "<defs>\n",
       "  <clipPath id=\"clip292\">\n",
       "    <rect x=\"169\" y=\"47\" width=\"2185\" height=\"1440\"/>\n",
       "  </clipPath>\n",
       "</defs>\n",
       "<polyline clip-path=\"url(#clip292)\" style=\"stroke:#000000; stroke-linecap:round; stroke-linejoin:round; stroke-width:2; stroke-opacity:0.1; fill:none\" points=\"210.114,1486.45 210.114,47.2441 \"/>\n",
       "<polyline clip-path=\"url(#clip292)\" style=\"stroke:#000000; stroke-linecap:round; stroke-linejoin:round; stroke-width:2; stroke-opacity:0.1; fill:none\" points=\"730.324,1486.45 730.324,47.2441 \"/>\n",
       "<polyline clip-path=\"url(#clip292)\" style=\"stroke:#000000; stroke-linecap:round; stroke-linejoin:round; stroke-width:2; stroke-opacity:0.1; fill:none\" points=\"1250.53,1486.45 1250.53,47.2441 \"/>\n",
       "<polyline clip-path=\"url(#clip292)\" style=\"stroke:#000000; stroke-linecap:round; stroke-linejoin:round; stroke-width:2; stroke-opacity:0.1; fill:none\" points=\"1770.74,1486.45 1770.74,47.2441 \"/>\n",
       "<polyline clip-path=\"url(#clip292)\" style=\"stroke:#000000; stroke-linecap:round; stroke-linejoin:round; stroke-width:2; stroke-opacity:0.1; fill:none\" points=\"2290.95,1486.45 2290.95,47.2441 \"/>\n",
       "<polyline clip-path=\"url(#clip290)\" style=\"stroke:#000000; stroke-linecap:round; stroke-linejoin:round; stroke-width:4; stroke-opacity:1; fill:none\" points=\"169.121,1486.45 2352.76,1486.45 \"/>\n",
       "<polyline clip-path=\"url(#clip290)\" style=\"stroke:#000000; stroke-linecap:round; stroke-linejoin:round; stroke-width:4; stroke-opacity:1; fill:none\" points=\"210.114,1486.45 210.114,1467.55 \"/>\n",
       "<polyline clip-path=\"url(#clip290)\" style=\"stroke:#000000; stroke-linecap:round; stroke-linejoin:round; stroke-width:4; stroke-opacity:1; fill:none\" points=\"730.324,1486.45 730.324,1467.55 \"/>\n",
       "<polyline clip-path=\"url(#clip290)\" style=\"stroke:#000000; stroke-linecap:round; stroke-linejoin:round; stroke-width:4; stroke-opacity:1; fill:none\" points=\"1250.53,1486.45 1250.53,1467.55 \"/>\n",
       "<polyline clip-path=\"url(#clip290)\" style=\"stroke:#000000; stroke-linecap:round; stroke-linejoin:round; stroke-width:4; stroke-opacity:1; fill:none\" points=\"1770.74,1486.45 1770.74,1467.55 \"/>\n",
       "<polyline clip-path=\"url(#clip290)\" style=\"stroke:#000000; stroke-linecap:round; stroke-linejoin:round; stroke-width:4; stroke-opacity:1; fill:none\" points=\"2290.95,1486.45 2290.95,1467.55 \"/>\n",
       "<path clip-path=\"url(#clip290)\" d=\"M210.114 1517.37 Q206.503 1517.37 204.674 1520.93 Q202.869 1524.47 202.869 1531.6 Q202.869 1538.71 204.674 1542.27 Q206.503 1545.82 210.114 1545.82 Q213.748 1545.82 215.554 1542.27 Q217.382 1538.71 217.382 1531.6 Q217.382 1524.47 215.554 1520.93 Q213.748 1517.37 210.114 1517.37 M210.114 1513.66 Q215.924 1513.66 218.98 1518.27 Q222.058 1522.85 222.058 1531.6 Q222.058 1540.33 218.98 1544.94 Q215.924 1549.52 210.114 1549.52 Q204.304 1549.52 201.225 1544.94 Q198.17 1540.33 198.17 1531.6 Q198.17 1522.85 201.225 1518.27 Q204.304 1513.66 210.114 1513.66 Z\" fill=\"#000000\" fill-rule=\"nonzero\" fill-opacity=\"1\" /><path clip-path=\"url(#clip290)\" d=\"M709.595 1544.91 L725.914 1544.91 L725.914 1548.85 L703.97 1548.85 L703.97 1544.91 Q706.632 1542.16 711.215 1537.53 Q715.822 1532.88 717.002 1531.53 Q719.248 1529.01 720.127 1527.27 Q721.03 1525.51 721.03 1523.82 Q721.03 1521.07 719.086 1519.33 Q717.164 1517.6 714.063 1517.6 Q711.864 1517.6 709.41 1518.36 Q706.979 1519.13 704.202 1520.68 L704.202 1515.95 Q707.026 1514.82 709.479 1514.24 Q711.933 1513.66 713.97 1513.66 Q719.34 1513.66 722.535 1516.35 Q725.729 1519.03 725.729 1523.52 Q725.729 1525.65 724.919 1527.57 Q724.132 1529.47 722.026 1532.07 Q721.447 1532.74 718.345 1535.95 Q715.243 1539.15 709.595 1544.91 Z\" fill=\"#000000\" fill-rule=\"nonzero\" fill-opacity=\"1\" /><path clip-path=\"url(#clip290)\" d=\"M735.776 1514.29 L754.132 1514.29 L754.132 1518.22 L740.058 1518.22 L740.058 1526.7 Q741.076 1526.35 742.095 1526.19 Q743.113 1526 744.132 1526 Q749.919 1526 753.299 1529.17 Q756.678 1532.34 756.678 1537.76 Q756.678 1543.34 753.206 1546.44 Q749.734 1549.52 743.414 1549.52 Q741.238 1549.52 738.97 1549.15 Q736.725 1548.78 734.317 1548.04 L734.317 1543.34 Q736.401 1544.47 738.623 1545.03 Q740.845 1545.58 743.322 1545.58 Q747.326 1545.58 749.664 1543.48 Q752.002 1541.37 752.002 1537.76 Q752.002 1534.15 749.664 1532.04 Q747.326 1529.94 743.322 1529.94 Q741.447 1529.94 739.572 1530.35 Q737.72 1530.77 735.776 1531.65 L735.776 1514.29 Z\" fill=\"#000000\" fill-rule=\"nonzero\" fill-opacity=\"1\" /><path clip-path=\"url(#clip290)\" d=\"M1225.23 1514.29 L1243.59 1514.29 L1243.59 1518.22 L1229.52 1518.22 L1229.52 1526.7 Q1230.53 1526.35 1231.55 1526.19 Q1232.57 1526 1233.59 1526 Q1239.38 1526 1242.76 1529.17 Q1246.14 1532.34 1246.14 1537.76 Q1246.14 1543.34 1242.66 1546.44 Q1239.19 1549.52 1232.87 1549.52 Q1230.7 1549.52 1228.43 1549.15 Q1226.18 1548.78 1223.78 1548.04 L1223.78 1543.34 Q1225.86 1544.47 1228.08 1545.03 Q1230.3 1545.58 1232.78 1545.58 Q1236.78 1545.58 1239.12 1543.48 Q1241.46 1541.37 1241.46 1537.76 Q1241.46 1534.15 1239.12 1532.04 Q1236.78 1529.94 1232.78 1529.94 Q1230.9 1529.94 1229.03 1530.35 Q1227.18 1530.77 1225.23 1531.65 L1225.23 1514.29 Z\" fill=\"#000000\" fill-rule=\"nonzero\" fill-opacity=\"1\" /><path clip-path=\"url(#clip290)\" d=\"M1265.35 1517.37 Q1261.74 1517.37 1259.91 1520.93 Q1258.1 1524.47 1258.1 1531.6 Q1258.1 1538.71 1259.91 1542.27 Q1261.74 1545.82 1265.35 1545.82 Q1268.98 1545.82 1270.79 1542.27 Q1272.62 1538.71 1272.62 1531.6 Q1272.62 1524.47 1270.79 1520.93 Q1268.98 1517.37 1265.35 1517.37 M1265.35 1513.66 Q1271.16 1513.66 1274.21 1518.27 Q1277.29 1522.85 1277.29 1531.6 Q1277.29 1540.33 1274.21 1544.94 Q1271.16 1549.52 1265.35 1549.52 Q1259.54 1549.52 1256.46 1544.94 Q1253.4 1540.33 1253.4 1531.6 Q1253.4 1522.85 1256.46 1518.27 Q1259.54 1513.66 1265.35 1513.66 Z\" fill=\"#000000\" fill-rule=\"nonzero\" fill-opacity=\"1\" /><path clip-path=\"url(#clip290)\" d=\"M1744.6 1514.29 L1766.82 1514.29 L1766.82 1516.28 L1754.27 1548.85 L1749.39 1548.85 L1761.2 1518.22 L1744.6 1518.22 L1744.6 1514.29 Z\" fill=\"#000000\" fill-rule=\"nonzero\" fill-opacity=\"1\" /><path clip-path=\"url(#clip290)\" d=\"M1775.99 1514.29 L1794.34 1514.29 L1794.34 1518.22 L1780.27 1518.22 L1780.27 1526.7 Q1781.29 1526.35 1782.31 1526.19 Q1783.33 1526 1784.34 1526 Q1790.13 1526 1793.51 1529.17 Q1796.89 1532.34 1796.89 1537.76 Q1796.89 1543.34 1793.42 1546.44 Q1789.95 1549.52 1783.63 1549.52 Q1781.45 1549.52 1779.18 1549.15 Q1776.94 1548.78 1774.53 1548.04 L1774.53 1543.34 Q1776.61 1544.47 1778.83 1545.03 Q1781.06 1545.58 1783.53 1545.58 Q1787.54 1545.58 1789.88 1543.48 Q1792.21 1541.37 1792.21 1537.76 Q1792.21 1534.15 1789.88 1532.04 Q1787.54 1529.94 1783.53 1529.94 Q1781.66 1529.94 1779.78 1530.35 Q1777.93 1530.77 1775.99 1531.65 L1775.99 1514.29 Z\" fill=\"#000000\" fill-rule=\"nonzero\" fill-opacity=\"1\" /><path clip-path=\"url(#clip290)\" d=\"M2250.56 1544.91 L2258.2 1544.91 L2258.2 1518.55 L2249.89 1520.21 L2249.89 1515.95 L2258.15 1514.29 L2262.83 1514.29 L2262.83 1544.91 L2270.47 1544.91 L2270.47 1548.85 L2250.56 1548.85 L2250.56 1544.91 Z\" fill=\"#000000\" fill-rule=\"nonzero\" fill-opacity=\"1\" /><path clip-path=\"url(#clip290)\" d=\"M2289.91 1517.37 Q2286.3 1517.37 2284.47 1520.93 Q2282.67 1524.47 2282.67 1531.6 Q2282.67 1538.71 2284.47 1542.27 Q2286.3 1545.82 2289.91 1545.82 Q2293.55 1545.82 2295.35 1542.27 Q2297.18 1538.71 2297.18 1531.6 Q2297.18 1524.47 2295.35 1520.93 Q2293.55 1517.37 2289.91 1517.37 M2289.91 1513.66 Q2295.72 1513.66 2298.78 1518.27 Q2301.86 1522.85 2301.86 1531.6 Q2301.86 1540.33 2298.78 1544.94 Q2295.72 1549.52 2289.91 1549.52 Q2284.1 1549.52 2281.02 1544.94 Q2277.97 1540.33 2277.97 1531.6 Q2277.97 1522.85 2281.02 1518.27 Q2284.1 1513.66 2289.91 1513.66 Z\" fill=\"#000000\" fill-rule=\"nonzero\" fill-opacity=\"1\" /><path clip-path=\"url(#clip290)\" d=\"M2320.08 1517.37 Q2316.46 1517.37 2314.64 1520.93 Q2312.83 1524.47 2312.83 1531.6 Q2312.83 1538.71 2314.64 1542.27 Q2316.46 1545.82 2320.08 1545.82 Q2323.71 1545.82 2325.51 1542.27 Q2327.34 1538.71 2327.34 1531.6 Q2327.34 1524.47 2325.51 1520.93 Q2323.71 1517.37 2320.08 1517.37 M2320.08 1513.66 Q2325.89 1513.66 2328.94 1518.27 Q2332.02 1522.85 2332.02 1531.6 Q2332.02 1540.33 2328.94 1544.94 Q2325.89 1549.52 2320.08 1549.52 Q2314.26 1549.52 2311.19 1544.94 Q2308.13 1540.33 2308.13 1531.6 Q2308.13 1522.85 2311.19 1518.27 Q2314.26 1513.66 2320.08 1513.66 Z\" fill=\"#000000\" fill-rule=\"nonzero\" fill-opacity=\"1\" /><polyline clip-path=\"url(#clip292)\" style=\"stroke:#000000; stroke-linecap:round; stroke-linejoin:round; stroke-width:2; stroke-opacity:0.1; fill:none\" points=\"169.121,1323.62 2352.76,1323.62 \"/>\n",
       "<polyline clip-path=\"url(#clip292)\" style=\"stroke:#000000; stroke-linecap:round; stroke-linejoin:round; stroke-width:2; stroke-opacity:0.1; fill:none\" points=\"169.121,1139.04 2352.76,1139.04 \"/>\n",
       "<polyline clip-path=\"url(#clip292)\" style=\"stroke:#000000; stroke-linecap:round; stroke-linejoin:round; stroke-width:2; stroke-opacity:0.1; fill:none\" points=\"169.121,954.469 2352.76,954.469 \"/>\n",
       "<polyline clip-path=\"url(#clip292)\" style=\"stroke:#000000; stroke-linecap:round; stroke-linejoin:round; stroke-width:2; stroke-opacity:0.1; fill:none\" points=\"169.121,769.896 2352.76,769.896 \"/>\n",
       "<polyline clip-path=\"url(#clip292)\" style=\"stroke:#000000; stroke-linecap:round; stroke-linejoin:round; stroke-width:2; stroke-opacity:0.1; fill:none\" points=\"169.121,585.323 2352.76,585.323 \"/>\n",
       "<polyline clip-path=\"url(#clip292)\" style=\"stroke:#000000; stroke-linecap:round; stroke-linejoin:round; stroke-width:2; stroke-opacity:0.1; fill:none\" points=\"169.121,400.749 2352.76,400.749 \"/>\n",
       "<polyline clip-path=\"url(#clip292)\" style=\"stroke:#000000; stroke-linecap:round; stroke-linejoin:round; stroke-width:2; stroke-opacity:0.1; fill:none\" points=\"169.121,216.176 2352.76,216.176 \"/>\n",
       "<polyline clip-path=\"url(#clip290)\" style=\"stroke:#000000; stroke-linecap:round; stroke-linejoin:round; stroke-width:4; stroke-opacity:1; fill:none\" points=\"169.121,1486.45 169.121,47.2441 \"/>\n",
       "<polyline clip-path=\"url(#clip290)\" style=\"stroke:#000000; stroke-linecap:round; stroke-linejoin:round; stroke-width:4; stroke-opacity:1; fill:none\" points=\"169.121,1323.62 188.019,1323.62 \"/>\n",
       "<polyline clip-path=\"url(#clip290)\" style=\"stroke:#000000; stroke-linecap:round; stroke-linejoin:round; stroke-width:4; stroke-opacity:1; fill:none\" points=\"169.121,1139.04 188.019,1139.04 \"/>\n",
       "<polyline clip-path=\"url(#clip290)\" style=\"stroke:#000000; stroke-linecap:round; stroke-linejoin:round; stroke-width:4; stroke-opacity:1; fill:none\" points=\"169.121,954.469 188.019,954.469 \"/>\n",
       "<polyline clip-path=\"url(#clip290)\" style=\"stroke:#000000; stroke-linecap:round; stroke-linejoin:round; stroke-width:4; stroke-opacity:1; fill:none\" points=\"169.121,769.896 188.019,769.896 \"/>\n",
       "<polyline clip-path=\"url(#clip290)\" style=\"stroke:#000000; stroke-linecap:round; stroke-linejoin:round; stroke-width:4; stroke-opacity:1; fill:none\" points=\"169.121,585.323 188.019,585.323 \"/>\n",
       "<polyline clip-path=\"url(#clip290)\" style=\"stroke:#000000; stroke-linecap:round; stroke-linejoin:round; stroke-width:4; stroke-opacity:1; fill:none\" points=\"169.121,400.749 188.019,400.749 \"/>\n",
       "<polyline clip-path=\"url(#clip290)\" style=\"stroke:#000000; stroke-linecap:round; stroke-linejoin:round; stroke-width:4; stroke-opacity:1; fill:none\" points=\"169.121,216.176 188.019,216.176 \"/>\n",
       "<path clip-path=\"url(#clip290)\" d=\"M85.0429 1336.96 L101.362 1336.96 L101.362 1340.9 L79.4179 1340.9 L79.4179 1336.96 Q82.0799 1334.21 86.6632 1329.58 Q91.2697 1324.92 92.4502 1323.58 Q94.6956 1321.06 95.5752 1319.32 Q96.478 1317.56 96.478 1315.87 Q96.478 1313.12 94.5336 1311.38 Q92.6123 1309.65 89.5104 1309.65 Q87.3114 1309.65 84.8577 1310.41 Q82.4271 1311.17 79.6494 1312.72 L79.6494 1308 Q82.4734 1306.87 84.9271 1306.29 Q87.3808 1305.71 89.4178 1305.71 Q94.7882 1305.71 97.9826 1308.4 Q101.177 1311.08 101.177 1315.57 Q101.177 1317.7 100.367 1319.62 Q99.5798 1321.52 97.4734 1324.11 Q96.8947 1324.78 93.7928 1328 Q90.691 1331.2 85.0429 1336.96 Z\" fill=\"#000000\" fill-rule=\"nonzero\" fill-opacity=\"1\" /><path clip-path=\"url(#clip290)\" d=\"M121.177 1309.41 Q117.566 1309.41 115.737 1312.98 Q113.932 1316.52 113.932 1323.65 Q113.932 1330.76 115.737 1334.32 Q117.566 1337.86 121.177 1337.86 Q124.811 1337.86 126.617 1334.32 Q128.445 1330.76 128.445 1323.65 Q128.445 1316.52 126.617 1312.98 Q124.811 1309.41 121.177 1309.41 M121.177 1305.71 Q126.987 1305.71 130.043 1310.32 Q133.121 1314.9 133.121 1323.65 Q133.121 1332.38 130.043 1336.98 Q126.987 1341.57 121.177 1341.57 Q115.367 1341.57 112.288 1336.98 Q109.233 1332.38 109.233 1323.65 Q109.233 1314.9 112.288 1310.32 Q115.367 1305.71 121.177 1305.71 Z\" fill=\"#000000\" fill-rule=\"nonzero\" fill-opacity=\"1\" /><path clip-path=\"url(#clip290)\" d=\"M93.8623 1125.84 L82.0568 1144.29 L93.8623 1144.29 L93.8623 1125.84 M92.6354 1121.76 L98.515 1121.76 L98.515 1144.29 L103.446 1144.29 L103.446 1148.17 L98.515 1148.17 L98.515 1156.32 L93.8623 1156.32 L93.8623 1148.17 L78.2605 1148.17 L78.2605 1143.66 L92.6354 1121.76 Z\" fill=\"#000000\" fill-rule=\"nonzero\" fill-opacity=\"1\" /><path clip-path=\"url(#clip290)\" d=\"M121.177 1124.84 Q117.566 1124.84 115.737 1128.41 Q113.932 1131.95 113.932 1139.08 Q113.932 1146.18 115.737 1149.75 Q117.566 1153.29 121.177 1153.29 Q124.811 1153.29 126.617 1149.75 Q128.445 1146.18 128.445 1139.08 Q128.445 1131.95 126.617 1128.41 Q124.811 1124.84 121.177 1124.84 M121.177 1121.14 Q126.987 1121.14 130.043 1125.74 Q133.121 1130.33 133.121 1139.08 Q133.121 1147.8 130.043 1152.41 Q126.987 1156.99 121.177 1156.99 Q115.367 1156.99 112.288 1152.41 Q109.233 1147.8 109.233 1139.08 Q109.233 1130.33 112.288 1125.74 Q115.367 1121.14 121.177 1121.14 Z\" fill=\"#000000\" fill-rule=\"nonzero\" fill-opacity=\"1\" /><path clip-path=\"url(#clip290)\" d=\"M91.5938 952.606 Q88.4456 952.606 86.5938 954.758 Q84.7651 956.911 84.7651 960.661 Q84.7651 964.388 86.5938 966.564 Q88.4456 968.717 91.5938 968.717 Q94.7419 968.717 96.5706 966.564 Q98.4224 964.388 98.4224 960.661 Q98.4224 956.911 96.5706 954.758 Q94.7419 952.606 91.5938 952.606 M100.876 937.953 L100.876 942.212 Q99.1169 941.379 97.3113 940.939 Q95.5289 940.499 93.7697 940.499 Q89.1401 940.499 86.6864 943.624 Q84.2558 946.749 83.9086 953.069 Q85.2743 951.055 87.3345 949.99 Q89.3947 948.902 91.8715 948.902 Q97.0798 948.902 100.089 952.073 Q103.121 955.221 103.121 960.661 Q103.121 965.985 99.9733 969.203 Q96.8252 972.42 91.5938 972.42 Q85.5984 972.42 82.4271 967.837 Q79.2559 963.23 79.2559 954.504 Q79.2559 946.309 83.1447 941.448 Q87.0336 936.564 93.5845 936.564 Q95.3437 936.564 97.1261 936.911 Q98.9317 937.258 100.876 937.953 Z\" fill=\"#000000\" fill-rule=\"nonzero\" fill-opacity=\"1\" /><path clip-path=\"url(#clip290)\" d=\"M121.177 940.268 Q117.566 940.268 115.737 943.832 Q113.932 947.374 113.932 954.504 Q113.932 961.61 115.737 965.175 Q117.566 968.717 121.177 968.717 Q124.811 968.717 126.617 965.175 Q128.445 961.61 128.445 954.504 Q128.445 947.374 126.617 943.832 Q124.811 940.268 121.177 940.268 M121.177 936.564 Q126.987 936.564 130.043 941.17 Q133.121 945.754 133.121 954.504 Q133.121 963.23 130.043 967.837 Q126.987 972.42 121.177 972.42 Q115.367 972.42 112.288 967.837 Q109.233 963.23 109.233 954.504 Q109.233 945.754 112.288 941.17 Q115.367 936.564 121.177 936.564 Z\" fill=\"#000000\" fill-rule=\"nonzero\" fill-opacity=\"1\" /><path clip-path=\"url(#clip290)\" d=\"M91.0151 770.764 Q87.6817 770.764 85.7605 772.546 Q83.8623 774.329 83.8623 777.454 Q83.8623 780.579 85.7605 782.361 Q87.6817 784.143 91.0151 784.143 Q94.3484 784.143 96.2697 782.361 Q98.1909 780.555 98.1909 777.454 Q98.1909 774.329 96.2697 772.546 Q94.3715 770.764 91.0151 770.764 M86.3392 768.773 Q83.3299 768.032 81.6401 765.972 Q79.9735 763.912 79.9735 760.949 Q79.9735 756.806 82.9133 754.398 Q85.8762 751.991 91.0151 751.991 Q96.1771 751.991 99.1169 754.398 Q102.057 756.806 102.057 760.949 Q102.057 763.912 100.367 765.972 Q98.7002 768.032 95.7141 768.773 Q99.0937 769.56 100.969 771.852 Q102.867 774.143 102.867 777.454 Q102.867 782.477 99.7882 785.162 Q96.7326 787.847 91.0151 787.847 Q85.2975 787.847 82.2188 785.162 Q79.1633 782.477 79.1633 777.454 Q79.1633 774.143 81.0614 771.852 Q82.9595 769.56 86.3392 768.773 M84.6262 761.389 Q84.6262 764.074 86.2929 765.579 Q87.9827 767.083 91.0151 767.083 Q94.0243 767.083 95.7141 765.579 Q97.4271 764.074 97.4271 761.389 Q97.4271 758.704 95.7141 757.199 Q94.0243 755.694 91.0151 755.694 Q87.9827 755.694 86.2929 757.199 Q84.6262 758.704 84.6262 761.389 Z\" fill=\"#000000\" fill-rule=\"nonzero\" fill-opacity=\"1\" /><path clip-path=\"url(#clip290)\" d=\"M121.177 755.694 Q117.566 755.694 115.737 759.259 Q113.932 762.801 113.932 769.93 Q113.932 777.037 115.737 780.602 Q117.566 784.143 121.177 784.143 Q124.811 784.143 126.617 780.602 Q128.445 777.037 128.445 769.93 Q128.445 762.801 126.617 759.259 Q124.811 755.694 121.177 755.694 M121.177 751.991 Q126.987 751.991 130.043 756.597 Q133.121 761.181 133.121 769.93 Q133.121 778.657 130.043 783.264 Q126.987 787.847 121.177 787.847 Q115.367 787.847 112.288 783.264 Q109.233 778.657 109.233 769.93 Q109.233 761.181 112.288 756.597 Q115.367 751.991 121.177 751.991 Z\" fill=\"#000000\" fill-rule=\"nonzero\" fill-opacity=\"1\" /><path clip-path=\"url(#clip290)\" d=\"M51.6634 598.667 L59.3023 598.667 L59.3023 572.302 L50.9921 573.968 L50.9921 569.709 L59.256 568.043 L63.9319 568.043 L63.9319 598.667 L71.5707 598.667 L71.5707 602.603 L51.6634 602.603 L51.6634 598.667 Z\" fill=\"#000000\" fill-rule=\"nonzero\" fill-opacity=\"1\" /><path clip-path=\"url(#clip290)\" d=\"M91.0151 571.121 Q87.404 571.121 85.5753 574.686 Q83.7697 578.228 83.7697 585.357 Q83.7697 592.464 85.5753 596.029 Q87.404 599.57 91.0151 599.57 Q94.6493 599.57 96.4548 596.029 Q98.2835 592.464 98.2835 585.357 Q98.2835 578.228 96.4548 574.686 Q94.6493 571.121 91.0151 571.121 M91.0151 567.418 Q96.8252 567.418 99.8808 572.024 Q102.959 576.607 102.959 585.357 Q102.959 594.084 99.8808 598.691 Q96.8252 603.274 91.0151 603.274 Q85.2049 603.274 82.1262 598.691 Q79.0707 594.084 79.0707 585.357 Q79.0707 576.607 82.1262 572.024 Q85.2049 567.418 91.0151 567.418 Z\" fill=\"#000000\" fill-rule=\"nonzero\" fill-opacity=\"1\" /><path clip-path=\"url(#clip290)\" d=\"M121.177 571.121 Q117.566 571.121 115.737 574.686 Q113.932 578.228 113.932 585.357 Q113.932 592.464 115.737 596.029 Q117.566 599.57 121.177 599.57 Q124.811 599.57 126.617 596.029 Q128.445 592.464 128.445 585.357 Q128.445 578.228 126.617 574.686 Q124.811 571.121 121.177 571.121 M121.177 567.418 Q126.987 567.418 130.043 572.024 Q133.121 576.607 133.121 585.357 Q133.121 594.084 130.043 598.691 Q126.987 603.274 121.177 603.274 Q115.367 603.274 112.288 598.691 Q109.233 594.084 109.233 585.357 Q109.233 576.607 112.288 572.024 Q115.367 567.418 121.177 567.418 Z\" fill=\"#000000\" fill-rule=\"nonzero\" fill-opacity=\"1\" /><path clip-path=\"url(#clip290)\" d=\"M51.6634 414.094 L59.3023 414.094 L59.3023 387.729 L50.9921 389.395 L50.9921 385.136 L59.256 383.469 L63.9319 383.469 L63.9319 414.094 L71.5707 414.094 L71.5707 418.029 L51.6634 418.029 L51.6634 414.094 Z\" fill=\"#000000\" fill-rule=\"nonzero\" fill-opacity=\"1\" /><path clip-path=\"url(#clip290)\" d=\"M85.0429 414.094 L101.362 414.094 L101.362 418.029 L79.4179 418.029 L79.4179 414.094 Q82.0799 411.34 86.6632 406.71 Q91.2697 402.057 92.4502 400.715 Q94.6956 398.192 95.5752 396.455 Q96.478 394.696 96.478 393.006 Q96.478 390.252 94.5336 388.516 Q92.6123 386.78 89.5104 386.78 Q87.3114 386.78 84.8577 387.543 Q82.4271 388.307 79.6494 389.858 L79.6494 385.136 Q82.4734 384.002 84.9271 383.423 Q87.3808 382.844 89.4178 382.844 Q94.7882 382.844 97.9826 385.53 Q101.177 388.215 101.177 392.705 Q101.177 394.835 100.367 396.756 Q99.5798 398.654 97.4734 401.247 Q96.8947 401.918 93.7928 405.136 Q90.691 408.33 85.0429 414.094 Z\" fill=\"#000000\" fill-rule=\"nonzero\" fill-opacity=\"1\" /><path clip-path=\"url(#clip290)\" d=\"M121.177 386.548 Q117.566 386.548 115.737 390.113 Q113.932 393.654 113.932 400.784 Q113.932 407.891 115.737 411.455 Q117.566 414.997 121.177 414.997 Q124.811 414.997 126.617 411.455 Q128.445 407.891 128.445 400.784 Q128.445 393.654 126.617 390.113 Q124.811 386.548 121.177 386.548 M121.177 382.844 Q126.987 382.844 130.043 387.451 Q133.121 392.034 133.121 400.784 Q133.121 409.511 130.043 414.117 Q126.987 418.701 121.177 418.701 Q115.367 418.701 112.288 414.117 Q109.233 409.511 109.233 400.784 Q109.233 392.034 112.288 387.451 Q115.367 382.844 121.177 382.844 Z\" fill=\"#000000\" fill-rule=\"nonzero\" fill-opacity=\"1\" /><path clip-path=\"url(#clip290)\" d=\"M51.6634 229.521 L59.3023 229.521 L59.3023 203.155 L50.9921 204.822 L50.9921 200.563 L59.256 198.896 L63.9319 198.896 L63.9319 229.521 L71.5707 229.521 L71.5707 233.456 L51.6634 233.456 L51.6634 229.521 Z\" fill=\"#000000\" fill-rule=\"nonzero\" fill-opacity=\"1\" /><path clip-path=\"url(#clip290)\" d=\"M93.8623 202.97 L82.0568 221.419 L93.8623 221.419 L93.8623 202.97 M92.6354 198.896 L98.515 198.896 L98.515 221.419 L103.446 221.419 L103.446 225.308 L98.515 225.308 L98.515 233.456 L93.8623 233.456 L93.8623 225.308 L78.2605 225.308 L78.2605 220.794 L92.6354 198.896 Z\" fill=\"#000000\" fill-rule=\"nonzero\" fill-opacity=\"1\" /><path clip-path=\"url(#clip290)\" d=\"M121.177 201.975 Q117.566 201.975 115.737 205.54 Q113.932 209.081 113.932 216.211 Q113.932 223.317 115.737 226.882 Q117.566 230.424 121.177 230.424 Q124.811 230.424 126.617 226.882 Q128.445 223.317 128.445 216.211 Q128.445 209.081 126.617 205.54 Q124.811 201.975 121.177 201.975 M121.177 198.271 Q126.987 198.271 130.043 202.878 Q133.121 207.461 133.121 216.211 Q133.121 224.938 130.043 229.544 Q126.987 234.127 121.177 234.127 Q115.367 234.127 112.288 229.544 Q109.233 224.938 109.233 216.211 Q109.233 207.461 112.288 202.878 Q115.367 198.271 121.177 198.271 Z\" fill=\"#000000\" fill-rule=\"nonzero\" fill-opacity=\"1\" /><polyline clip-path=\"url(#clip292)\" style=\"stroke:#009af9; stroke-linecap:round; stroke-linejoin:round; stroke-width:4; stroke-opacity:1; fill:none\" points=\"230.922,87.9763 251.731,262.047 272.539,399.282 293.348,530.78 314.156,637.127 334.964,724.645 355.773,794.175 376.581,848.758 397.39,891.928 418.198,929.49 439.006,1245.66 459.815,1259.63 480.623,1270.1 501.432,1278.45 522.24,1283.18 543.048,1288.8 563.857,1291.16 584.665,1295.22 605.474,1299.3 626.282,1302.53 647.091,1301.73 667.899,1331.99 688.707,1335.44 709.516,1340.71 730.324,1342.57 751.133,1344.11 771.941,1344.56 792.749,1348.27 813.558,1351 834.366,1353.59 855.175,1347.62 875.983,1371.74 896.791,1368.84 917.6,1371.39 938.408,1373.92 959.217,1375.47 980.025,1377.55 1000.83,1377.99 1021.64,1379.82 1042.45,1380.65 1063.26,1445.72 1084.07,1389.9 1104.88,1389.48 1125.68,1392.07 1146.49,1393.4 1167.3,1394.87 1188.11,1395.45 1208.92,1396.49 1229.73,1397.3 1250.53,1398.33 1271.34,1411.98 1292.15,1400.41 1312.96,1403.65 1333.77,1405.54 1354.58,1406.71 1375.38,1408.11 1396.19,1409.86 1417,1411.28 1437.81,1412.02 1458.62,1411.67 1479.43,1444.57 1500.24,1418.36 1521.04,1421.02 1541.85,1419.4 1562.66,1419.76 1583.47,1419.2 1604.28,1418.78 1625.09,1420.03 1645.89,1421.59 1666.7,1422.2 1687.51,1430.35 1708.32,1429.13 1729.13,1425.15 1749.94,1428.23 1770.74,1427.67 1791.55,1428.19 1812.36,1427.92 1833.17,1428.72 1853.98,1428.95 1874.79,1429.43 1895.6,1438.1 1916.4,1431.18 1937.21,1431.66 1958.02,1435.11 1978.83,1435.1 1999.64,1435.14 2020.45,1434.56 2041.25,1434.98 2062.06,1436.04 2082.87,1435.45 2103.68,1419.13 2124.49,1442.97 2145.3,1440.78 2166.1,1440.82 2186.91,1439.01 2207.72,1439.86 2228.53,1440.31 2249.34,1440.48 2270.15,1440.5 2290.95,1440.82 \"/>\n",
       "<circle clip-path=\"url(#clip292)\" cx=\"418.198\" cy=\"929.49\" r=\"14.4\" fill=\"#e26f46\" fill-rule=\"evenodd\" fill-opacity=\"1\" stroke=\"#000000\" stroke-opacity=\"1\" stroke-width=\"3.2\"/>\n",
       "<circle clip-path=\"url(#clip292)\" cx=\"626.282\" cy=\"1302.53\" r=\"14.4\" fill=\"#e26f46\" fill-rule=\"evenodd\" fill-opacity=\"1\" stroke=\"#000000\" stroke-opacity=\"1\" stroke-width=\"3.2\"/>\n",
       "<circle clip-path=\"url(#clip292)\" cx=\"834.366\" cy=\"1353.59\" r=\"14.4\" fill=\"#e26f46\" fill-rule=\"evenodd\" fill-opacity=\"1\" stroke=\"#000000\" stroke-opacity=\"1\" stroke-width=\"3.2\"/>\n",
       "<circle clip-path=\"url(#clip292)\" cx=\"1042.45\" cy=\"1380.65\" r=\"14.4\" fill=\"#e26f46\" fill-rule=\"evenodd\" fill-opacity=\"1\" stroke=\"#000000\" stroke-opacity=\"1\" stroke-width=\"3.2\"/>\n",
       "<circle clip-path=\"url(#clip292)\" cx=\"1250.53\" cy=\"1398.33\" r=\"14.4\" fill=\"#e26f46\" fill-rule=\"evenodd\" fill-opacity=\"1\" stroke=\"#000000\" stroke-opacity=\"1\" stroke-width=\"3.2\"/>\n",
       "<circle clip-path=\"url(#clip292)\" cx=\"1458.62\" cy=\"1411.67\" r=\"14.4\" fill=\"#e26f46\" fill-rule=\"evenodd\" fill-opacity=\"1\" stroke=\"#000000\" stroke-opacity=\"1\" stroke-width=\"3.2\"/>\n",
       "<circle clip-path=\"url(#clip292)\" cx=\"1666.7\" cy=\"1422.2\" r=\"14.4\" fill=\"#e26f46\" fill-rule=\"evenodd\" fill-opacity=\"1\" stroke=\"#000000\" stroke-opacity=\"1\" stroke-width=\"3.2\"/>\n",
       "<circle clip-path=\"url(#clip292)\" cx=\"1874.79\" cy=\"1429.43\" r=\"14.4\" fill=\"#e26f46\" fill-rule=\"evenodd\" fill-opacity=\"1\" stroke=\"#000000\" stroke-opacity=\"1\" stroke-width=\"3.2\"/>\n",
       "<circle clip-path=\"url(#clip292)\" cx=\"2082.87\" cy=\"1435.45\" r=\"14.4\" fill=\"#e26f46\" fill-rule=\"evenodd\" fill-opacity=\"1\" stroke=\"#000000\" stroke-opacity=\"1\" stroke-width=\"3.2\"/>\n",
       "<circle clip-path=\"url(#clip292)\" cx=\"2290.95\" cy=\"1440.82\" r=\"14.4\" fill=\"#e26f46\" fill-rule=\"evenodd\" fill-opacity=\"1\" stroke=\"#000000\" stroke-opacity=\"1\" stroke-width=\"3.2\"/>\n",
       "<path clip-path=\"url(#clip290)\" d=\"M1765.4 250.738 L2279.97 250.738 L2279.97 95.2176 L1765.4 95.2176  Z\" fill=\"#ffffff\" fill-rule=\"evenodd\" fill-opacity=\"1\"/>\n",
       "<polyline clip-path=\"url(#clip290)\" style=\"stroke:#000000; stroke-linecap:round; stroke-linejoin:round; stroke-width:4; stroke-opacity:1; fill:none\" points=\"1765.4,250.738 2279.97,250.738 2279.97,95.2176 1765.4,95.2176 1765.4,250.738 \"/>\n",
       "<polyline clip-path=\"url(#clip290)\" style=\"stroke:#009af9; stroke-linecap:round; stroke-linejoin:round; stroke-width:4; stroke-opacity:1; fill:none\" points=\"1789.67,147.058 1935.24,147.058 \"/>\n",
       "<path clip-path=\"url(#clip290)\" d=\"M1959.5 128.319 L1963.76 128.319 L1963.76 164.338 L1959.5 164.338 L1959.5 128.319 Z\" fill=\"#000000\" fill-rule=\"nonzero\" fill-opacity=\"1\" /><path clip-path=\"url(#clip290)\" d=\"M1982.72 141.398 Q1979.29 141.398 1977.3 144.083 Q1975.31 146.745 1975.31 151.398 Q1975.31 156.051 1977.28 158.736 Q1979.27 161.398 1982.72 161.398 Q1986.12 161.398 1988.11 158.713 Q1990.11 156.027 1990.11 151.398 Q1990.11 146.791 1988.11 144.106 Q1986.12 141.398 1982.72 141.398 M1982.72 137.787 Q1988.28 137.787 1991.45 141.398 Q1994.62 145.009 1994.62 151.398 Q1994.62 157.764 1991.45 161.398 Q1988.28 165.009 1982.72 165.009 Q1977.14 165.009 1973.97 161.398 Q1970.82 157.764 1970.82 151.398 Q1970.82 145.009 1973.97 141.398 Q1977.14 137.787 1982.72 137.787 Z\" fill=\"#000000\" fill-rule=\"nonzero\" fill-opacity=\"1\" /><path clip-path=\"url(#clip290)\" d=\"M2018.21 139.176 L2018.21 143.203 Q2016.4 142.277 2014.46 141.815 Q2012.51 141.352 2010.43 141.352 Q2007.26 141.352 2005.66 142.324 Q2004.09 143.296 2004.09 145.24 Q2004.09 146.722 2005.22 147.578 Q2006.35 148.412 2009.78 149.176 L2011.24 149.5 Q2015.78 150.472 2017.67 152.254 Q2019.6 154.014 2019.6 157.185 Q2019.6 160.796 2016.73 162.902 Q2013.88 165.009 2008.88 165.009 Q2006.79 165.009 2004.53 164.592 Q2002.28 164.199 1999.78 163.388 L1999.78 158.99 Q2002.14 160.217 2004.43 160.842 Q2006.73 161.444 2008.97 161.444 Q2011.98 161.444 2013.6 160.426 Q2015.22 159.384 2015.22 157.509 Q2015.22 155.773 2014.04 154.847 Q2012.88 153.921 2008.92 153.064 L2007.44 152.717 Q2003.48 151.884 2001.73 150.171 Q1999.97 148.435 1999.97 145.426 Q1999.97 141.768 2002.56 139.778 Q2005.15 137.787 2009.92 137.787 Q2012.28 137.787 2014.36 138.134 Q2016.45 138.481 2018.21 139.176 Z\" fill=\"#000000\" fill-rule=\"nonzero\" fill-opacity=\"1\" /><path clip-path=\"url(#clip290)\" d=\"M2042.91 139.176 L2042.91 143.203 Q2041.1 142.277 2039.16 141.815 Q2037.21 141.352 2035.13 141.352 Q2031.96 141.352 2030.36 142.324 Q2028.79 143.296 2028.79 145.24 Q2028.79 146.722 2029.92 147.578 Q2031.05 148.412 2034.48 149.176 L2035.94 149.5 Q2040.48 150.472 2042.37 152.254 Q2044.29 154.014 2044.29 157.185 Q2044.29 160.796 2041.42 162.902 Q2038.58 165.009 2033.58 165.009 Q2031.49 165.009 2029.23 164.592 Q2026.98 164.199 2024.48 163.388 L2024.48 158.99 Q2026.84 160.217 2029.13 160.842 Q2031.42 161.444 2033.67 161.444 Q2036.68 161.444 2038.3 160.426 Q2039.92 159.384 2039.92 157.509 Q2039.92 155.773 2038.74 154.847 Q2037.58 153.921 2033.62 153.064 L2032.14 152.717 Q2028.18 151.884 2026.42 150.171 Q2024.67 148.435 2024.67 145.426 Q2024.67 141.768 2027.26 139.778 Q2029.85 137.787 2034.62 137.787 Q2036.98 137.787 2039.06 138.134 Q2041.15 138.481 2042.91 139.176 Z\" fill=\"#000000\" fill-rule=\"nonzero\" fill-opacity=\"1\" /><path clip-path=\"url(#clip290)\" d=\"M2070.78 172.208 L2070.78 175.518 L2046.15 175.518 L2046.15 172.208 L2070.78 172.208 Z\" fill=\"#000000\" fill-rule=\"nonzero\" fill-opacity=\"1\" /><path clip-path=\"url(#clip290)\" d=\"M2093.39 151.398 Q2093.39 146.699 2091.45 144.037 Q2089.53 141.352 2086.15 141.352 Q2082.77 141.352 2080.82 144.037 Q2078.9 146.699 2078.9 151.398 Q2078.9 156.097 2080.82 158.782 Q2082.77 161.444 2086.15 161.444 Q2089.53 161.444 2091.45 158.782 Q2093.39 156.097 2093.39 151.398 M2078.9 142.347 Q2080.24 140.032 2082.28 138.921 Q2084.34 137.787 2087.19 137.787 Q2091.91 137.787 2094.85 141.537 Q2097.81 145.287 2097.81 151.398 Q2097.81 157.509 2094.85 161.259 Q2091.91 165.009 2087.19 165.009 Q2084.34 165.009 2082.28 163.898 Q2080.24 162.763 2078.9 160.449 L2078.9 164.338 L2074.62 164.338 L2074.62 128.319 L2078.9 128.319 L2078.9 142.347 Z\" fill=\"#000000\" fill-rule=\"nonzero\" fill-opacity=\"1\" /><path clip-path=\"url(#clip290)\" d=\"M2116.66 151.305 Q2111.49 151.305 2109.5 152.486 Q2107.51 153.666 2107.51 156.514 Q2107.51 158.782 2108.99 160.125 Q2110.5 161.444 2113.07 161.444 Q2116.61 161.444 2118.74 158.944 Q2120.89 156.421 2120.89 152.254 L2120.89 151.305 L2116.66 151.305 M2125.15 149.546 L2125.15 164.338 L2120.89 164.338 L2120.89 160.402 Q2119.43 162.763 2117.26 163.898 Q2115.08 165.009 2111.93 165.009 Q2107.95 165.009 2105.59 162.787 Q2103.25 160.541 2103.25 156.791 Q2103.25 152.416 2106.17 150.194 Q2109.11 147.972 2114.92 147.972 L2120.89 147.972 L2120.89 147.555 Q2120.89 144.615 2118.95 143.018 Q2117.03 141.398 2113.53 141.398 Q2111.31 141.398 2109.2 141.93 Q2107.1 142.463 2105.15 143.527 L2105.15 139.592 Q2107.49 138.69 2109.69 138.25 Q2111.89 137.787 2113.97 137.787 Q2119.6 137.787 2122.37 140.703 Q2125.15 143.62 2125.15 149.546 Z\" fill=\"#000000\" fill-rule=\"nonzero\" fill-opacity=\"1\" /><path clip-path=\"url(#clip290)\" d=\"M2138.14 131.051 L2138.14 138.412 L2146.91 138.412 L2146.91 141.722 L2138.14 141.722 L2138.14 155.796 Q2138.14 158.967 2138.99 159.87 Q2139.87 160.773 2142.53 160.773 L2146.91 160.773 L2146.91 164.338 L2142.53 164.338 Q2137.6 164.338 2135.73 162.509 Q2133.85 160.657 2133.85 155.796 L2133.85 141.722 L2130.73 141.722 L2130.73 138.412 L2133.85 138.412 L2133.85 131.051 L2138.14 131.051 Z\" fill=\"#000000\" fill-rule=\"nonzero\" fill-opacity=\"1\" /><path clip-path=\"url(#clip290)\" d=\"M2171.17 139.407 L2171.17 143.389 Q2169.36 142.393 2167.53 141.907 Q2165.73 141.398 2163.88 141.398 Q2159.73 141.398 2157.44 144.037 Q2155.15 146.652 2155.15 151.398 Q2155.15 156.143 2157.44 158.782 Q2159.73 161.398 2163.88 161.398 Q2165.73 161.398 2167.53 160.912 Q2169.36 160.402 2171.17 159.407 L2171.17 163.342 Q2169.39 164.176 2167.47 164.592 Q2165.57 165.009 2163.41 165.009 Q2157.56 165.009 2154.11 161.328 Q2150.66 157.648 2150.66 151.398 Q2150.66 145.055 2154.13 141.421 Q2157.63 137.787 2163.69 137.787 Q2165.66 137.787 2167.53 138.203 Q2169.41 138.597 2171.17 139.407 Z\" fill=\"#000000\" fill-rule=\"nonzero\" fill-opacity=\"1\" /><path clip-path=\"url(#clip290)\" d=\"M2200.13 148.689 L2200.13 164.338 L2195.87 164.338 L2195.87 148.828 Q2195.87 145.148 2194.43 143.319 Q2193 141.49 2190.13 141.49 Q2186.68 141.49 2184.69 143.69 Q2182.7 145.889 2182.7 149.685 L2182.7 164.338 L2178.41 164.338 L2178.41 128.319 L2182.7 128.319 L2182.7 142.44 Q2184.22 140.102 2186.28 138.944 Q2188.37 137.787 2191.08 137.787 Q2195.54 137.787 2197.84 140.565 Q2200.13 143.319 2200.13 148.689 Z\" fill=\"#000000\" fill-rule=\"nonzero\" fill-opacity=\"1\" /><path clip-path=\"url(#clip290)\" d=\"M2230.8 150.31 L2230.8 152.393 L2211.21 152.393 Q2211.49 156.791 2213.85 159.106 Q2216.24 161.398 2220.47 161.398 Q2222.93 161.398 2225.22 160.796 Q2227.53 160.194 2229.8 158.99 L2229.8 163.018 Q2227.51 163.99 2225.1 164.5 Q2222.7 165.009 2220.22 165.009 Q2214.02 165.009 2210.38 161.398 Q2206.77 157.787 2206.77 151.629 Q2206.77 145.264 2210.2 141.537 Q2213.65 137.787 2219.48 137.787 Q2224.71 137.787 2227.74 141.166 Q2230.8 144.523 2230.8 150.31 M2226.54 149.06 Q2226.49 145.565 2224.57 143.481 Q2222.67 141.398 2219.53 141.398 Q2215.96 141.398 2213.81 143.412 Q2211.68 145.426 2211.35 149.083 L2226.54 149.06 Z\" fill=\"#000000\" fill-rule=\"nonzero\" fill-opacity=\"1\" /><path clip-path=\"url(#clip290)\" d=\"M2254.32 139.176 L2254.32 143.203 Q2252.51 142.277 2250.57 141.815 Q2248.62 141.352 2246.54 141.352 Q2243.37 141.352 2241.77 142.324 Q2240.2 143.296 2240.2 145.24 Q2240.2 146.722 2241.33 147.578 Q2242.46 148.412 2245.89 149.176 L2247.35 149.5 Q2251.89 150.472 2253.78 152.254 Q2255.71 154.014 2255.71 157.185 Q2255.71 160.796 2252.84 162.902 Q2249.99 165.009 2244.99 165.009 Q2242.9 165.009 2240.64 164.592 Q2238.39 164.199 2235.89 163.388 L2235.89 158.99 Q2238.25 160.217 2240.54 160.842 Q2242.84 161.444 2245.08 161.444 Q2248.09 161.444 2249.71 160.426 Q2251.33 159.384 2251.33 157.509 Q2251.33 155.773 2250.15 154.847 Q2248.99 153.921 2245.03 153.064 L2243.55 152.717 Q2239.59 151.884 2237.84 150.171 Q2236.08 148.435 2236.08 145.426 Q2236.08 141.768 2238.67 139.778 Q2241.26 137.787 2246.03 137.787 Q2248.39 137.787 2250.47 138.134 Q2252.56 138.481 2254.32 139.176 Z\" fill=\"#000000\" fill-rule=\"nonzero\" fill-opacity=\"1\" /><circle clip-path=\"url(#clip290)\" cx=\"1862.45\" cy=\"198.898\" r=\"20.48\" fill=\"#e26f46\" fill-rule=\"evenodd\" fill-opacity=\"1\" stroke=\"#000000\" stroke-opacity=\"1\" stroke-width=\"4.55111\"/>\n",
       "<path clip-path=\"url(#clip290)\" d=\"M1983.53 202.15 L1983.53 204.233 L1963.95 204.233 Q1964.23 208.631 1966.59 210.946 Q1968.97 213.238 1973.21 213.238 Q1975.66 213.238 1977.95 212.636 Q1980.27 212.034 1982.54 210.83 L1982.54 214.858 Q1980.24 215.83 1977.84 216.34 Q1975.43 216.849 1972.95 216.849 Q1966.75 216.849 1963.11 213.238 Q1959.5 209.627 1959.5 203.469 Q1959.5 197.104 1962.93 193.377 Q1966.38 189.627 1972.21 189.627 Q1977.44 189.627 1980.48 193.006 Q1983.53 196.363 1983.53 202.15 M1979.27 200.9 Q1979.23 197.405 1977.3 195.321 Q1975.41 193.238 1972.26 193.238 Q1968.69 193.238 1966.54 195.252 Q1964.41 197.266 1964.09 200.923 L1979.27 200.9 Z\" fill=\"#000000\" fill-rule=\"nonzero\" fill-opacity=\"1\" /><path clip-path=\"url(#clip290)\" d=\"M1994.64 212.289 L1994.64 226.039 L1990.36 226.039 L1990.36 190.252 L1994.64 190.252 L1994.64 194.187 Q1995.98 191.872 1998.02 190.761 Q2000.08 189.627 2002.93 189.627 Q2007.65 189.627 2010.59 193.377 Q2013.55 197.127 2013.55 203.238 Q2013.55 209.349 2010.59 213.099 Q2007.65 216.849 2002.93 216.849 Q2000.08 216.849 1998.02 215.738 Q1995.98 214.603 1994.64 212.289 M2009.13 203.238 Q2009.13 198.539 2007.19 195.877 Q2005.27 193.192 2001.89 193.192 Q1998.51 193.192 1996.56 195.877 Q1994.64 198.539 1994.64 203.238 Q1994.64 207.937 1996.56 210.622 Q1998.51 213.284 2001.89 213.284 Q2005.27 213.284 2007.19 210.622 Q2009.13 207.937 2009.13 203.238 Z\" fill=\"#000000\" fill-rule=\"nonzero\" fill-opacity=\"1\" /><path clip-path=\"url(#clip290)\" d=\"M2030.66 193.238 Q2027.23 193.238 2025.24 195.923 Q2023.25 198.585 2023.25 203.238 Q2023.25 207.891 2025.22 210.576 Q2027.21 213.238 2030.66 213.238 Q2034.06 213.238 2036.05 210.553 Q2038.04 207.867 2038.04 203.238 Q2038.04 198.631 2036.05 195.946 Q2034.06 193.238 2030.66 193.238 M2030.66 189.627 Q2036.22 189.627 2039.39 193.238 Q2042.56 196.849 2042.56 203.238 Q2042.56 209.604 2039.39 213.238 Q2036.22 216.849 2030.66 216.849 Q2025.08 216.849 2021.91 213.238 Q2018.76 209.604 2018.76 203.238 Q2018.76 196.849 2021.91 193.238 Q2025.08 189.627 2030.66 189.627 Z\" fill=\"#000000\" fill-rule=\"nonzero\" fill-opacity=\"1\" /><path clip-path=\"url(#clip290)\" d=\"M2068.28 191.247 L2068.28 195.229 Q2066.47 194.233 2064.64 193.747 Q2062.84 193.238 2060.98 193.238 Q2056.84 193.238 2054.55 195.877 Q2052.26 198.492 2052.26 203.238 Q2052.26 207.983 2054.55 210.622 Q2056.84 213.238 2060.98 213.238 Q2062.84 213.238 2064.64 212.752 Q2066.47 212.242 2068.28 211.247 L2068.28 215.182 Q2066.49 216.016 2064.57 216.432 Q2062.67 216.849 2060.52 216.849 Q2054.66 216.849 2051.22 213.168 Q2047.77 209.488 2047.77 203.238 Q2047.77 196.895 2051.24 193.261 Q2054.73 189.627 2060.8 189.627 Q2062.77 189.627 2064.64 190.043 Q2066.52 190.437 2068.28 191.247 Z\" fill=\"#000000\" fill-rule=\"nonzero\" fill-opacity=\"1\" /><path clip-path=\"url(#clip290)\" d=\"M2097.23 200.529 L2097.23 216.178 L2092.97 216.178 L2092.97 200.668 Q2092.97 196.988 2091.54 195.159 Q2090.1 193.33 2087.23 193.33 Q2083.79 193.33 2081.79 195.53 Q2079.8 197.729 2079.8 201.525 L2079.8 216.178 L2075.52 216.178 L2075.52 180.159 L2079.8 180.159 L2079.8 194.28 Q2081.33 191.942 2083.39 190.784 Q2085.47 189.627 2088.18 189.627 Q2092.65 189.627 2094.94 192.405 Q2097.23 195.159 2097.23 200.529 Z\" fill=\"#000000\" fill-rule=\"nonzero\" fill-opacity=\"1\" /><path clip-path=\"url(#clip290)\" d=\"M2122.26 191.016 L2122.26 195.043 Q2120.45 194.117 2118.51 193.655 Q2116.56 193.192 2114.48 193.192 Q2111.31 193.192 2109.71 194.164 Q2108.14 195.136 2108.14 197.08 Q2108.14 198.562 2109.27 199.418 Q2110.41 200.252 2113.83 201.016 L2115.29 201.34 Q2119.83 202.312 2121.72 204.094 Q2123.65 205.854 2123.65 209.025 Q2123.65 212.636 2120.78 214.742 Q2117.93 216.849 2112.93 216.849 Q2110.85 216.849 2108.58 216.432 Q2106.33 216.039 2103.83 215.228 L2103.83 210.83 Q2106.19 212.057 2108.48 212.682 Q2110.78 213.284 2113.02 213.284 Q2116.03 213.284 2117.65 212.266 Q2119.27 211.224 2119.27 209.349 Q2119.27 207.613 2118.09 206.687 Q2116.93 205.761 2112.97 204.904 L2111.49 204.557 Q2107.53 203.724 2105.78 202.011 Q2104.02 200.275 2104.02 197.266 Q2104.02 193.608 2106.61 191.618 Q2109.2 189.627 2113.97 189.627 Q2116.33 189.627 2118.41 189.974 Q2120.5 190.321 2122.26 191.016 Z\" fill=\"#000000\" fill-rule=\"nonzero\" fill-opacity=\"1\" /></svg>\n"
      ]
     },
     "metadata": {},
     "output_type": "display_data"
    }
   ],
   "source": [
    "epochs = 10\n",
    "batch_size = 64\n",
    "learning_rate = 0.0075\n",
    "pool_size = (4,4)\n",
    "\n",
    "model = [\n",
    "    Conv2DNode(batch_size=batch_size, filters=24, kernel_size=(3,3), input_shape=(28,28,1), activation=\"relu\"),\n",
    "    MaxPoolNode(pool_size=(4,4)),\n",
    "    FlattenNode(input_shape=(6,6,24)),\n",
    "    DenseNode(neurons=32, activation=\"relu\", input_shape=(prod((6,6,24)), 1)),\n",
    "    DenseNode(neurons=10, activation=\"softmax\", input_shape=(32,1))\n",
    "]\n",
    "\n",
    "graph1 = graph_build(model, \"cross_entropy_loss\")\n",
    "\n",
    "loss1 = train!(graph1, train_x, train_y, epochs, batch_size, learning_rate, \"sgd\")\n",
    "plot_loss(loss1, epochs)"
   ]
  },
  {
   "cell_type": "code",
   "execution_count": 13,
   "id": "2522c34c-babf-4c8b-85b1-24a2268f7692",
   "metadata": {},
   "outputs": [
    {
     "name": "stdout",
     "output_type": "stream",
     "text": [
      "Accuracy: 0.9594\n"
     ]
    }
   ],
   "source": [
    "accuracy = evaluate(graph1, test_x, test_y, batch_size, pool_size)\n",
    "println(\"Accuracy: \", accuracy)"
   ]
  },
  {
   "cell_type": "code",
   "execution_count": 59,
   "id": "6ed447ef",
   "metadata": {},
   "outputs": [],
   "source": [
    "pred_y = predict(graph1, test_x, batch_size)\n",
    "classification_report(test_y, pred_y)\n",
    "plot_confusion_matrix(test_y, pred_y)"
   ]
  }
 ],
 "metadata": {
  "kernelspec": {
   "display_name": "Julia 1.8.5",
   "language": "julia",
   "name": "julia-1.8"
  },
  "language_info": {
   "file_extension": ".jl",
   "mimetype": "application/julia",
   "name": "julia",
   "version": "1.8.5"
  }
 },
 "nbformat": 4,
 "nbformat_minor": 5
}
