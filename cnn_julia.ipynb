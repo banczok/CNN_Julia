{
 "cells": [
  {
   "cell_type": "code",
   "execution_count": 3,
   "id": "9beed57c-7db7-4e59-9990-a470390d4b59",
   "metadata": {},
   "outputs": [],
   "source": [
    "abstract type Node end\n",
    "#@code_warntype, @simd, @inbounds, statyczne typowenie (brak niestabilności typów, brak Any), @benchmark_tools, @btime, brak alokacji, \n",
    "#kolumny czy wiersze w for\n",
    "#test co szybsz, Matrix czy Array{Float64, 2}\n",
    "#softmax backward\n",
    "\n",
    "mutable struct Conv2DNode <: Node\n",
    "    x::Array{Float64, 4}\n",
    "    W::Array{Float64, 4}\n",
    "    b::Vector{Float64}\n",
    "    batch_size::Int\n",
    "    kernel_size::Tuple{Int, Int}\n",
    "    filters::Int\n",
    "    output::Any\n",
    "    gradient_W::Any\n",
    "    gradient_b::Any\n",
    "    activation::String\n",
    "    m_W::Array{Float64}\n",
    "    v_W::Array{Float64}\n",
    "    m_b::Array{Float64}\n",
    "    v_b::Array{Float64}\n",
    "end\n",
    "\n",
    "mutable struct MaxPoolNode <: Node\n",
    "    x::Any\n",
    "    pool_size::Tuple{Int, Int}\n",
    "    output::Any\n",
    "end\n",
    "\n",
    "mutable struct DenseNode <: Node\n",
    "    x::Any\n",
    "    W::Matrix{Float64} \n",
    "    b::Vector{Float64}\n",
    "    neurons::Int\n",
    "    output::Any\n",
    "    gradient_W::Any\n",
    "    gradient_b::Any\n",
    "    activation::String\n",
    "    m_W::Array{Float64}\n",
    "    v_W::Array{Float64}\n",
    "    m_b::Array{Float64}\n",
    "    v_b::Array{Float64}\n",
    "end\n",
    "\n",
    "mutable struct FlattenNode <: Node\n",
    "    x::Any\n",
    "    output::Any\n",
    "    input_shape::Tuple{Int, Int, Int}\n",
    "end\n",
    "\n",
    "mutable struct ReLUNode <: Node\n",
    "    x::Any\n",
    "    output::Any\n",
    "end\n",
    "\n",
    "mutable struct SoftmaxNode <: Node\n",
    "    x::Any\n",
    "    output::Any\n",
    "end\n",
    "\n",
    "mutable struct SigmoidNode <: Node\n",
    "    x::Any\n",
    "    output::Any\n",
    "end\n",
    "\n",
    "mutable struct TanhNode <: Node\n",
    "    x::Any\n",
    "    output::Any\n",
    "end\n",
    "\n",
    "mutable struct LeakyReLUNode <: Node\n",
    "    x::Any\n",
    "    output::Any\n",
    "    alpha::Float64\n",
    "end\n"
   ]
  },
  {
   "cell_type": "code",
   "execution_count": 4,
   "id": "e8eb86b4-d598-4d00-ab75-f71b4ab219a7",
   "metadata": {
    "tags": []
   },
   "outputs": [
    {
     "data": {
      "text/plain": [
       "forward! (generic function with 9 methods)"
      ]
     },
     "metadata": {},
     "output_type": "display_data"
    }
   ],
   "source": [
    "function forward!(node::Conv2DNode, x) \n",
    "    node.x = x\n",
    "    W = node.W\n",
    "    b = node.b\n",
    "\n",
    "    batch_size, input_height, input_width, input_channels = size(x)\n",
    "    filter_height, filter_width,  num_chanels, num_filters = size(W)\n",
    "\n",
    "    output_height = 1 + (input_height - filter_height)\n",
    "    output_width = 1 + (input_width - filter_width)\n",
    "\n",
    "    output = zeros(batch_size, output_height, output_width, num_filters)\n",
    "    for n in 1:batch_size\n",
    "        for f in 1:num_filters\n",
    "            for i in 1:input_height-filter_height+1\n",
    "                for j in 1:input_width-filter_width+1\n",
    "                    window = view(x, n, i:i+filter_height-1, j:j+filter_width-1, :)\n",
    "                    output[n, i, j, f] = sum(window .* W[:,:,:,f]) + b[f]\n",
    "                    \n",
    "                end\n",
    "            end\n",
    "        end\n",
    "    end\n",
    "    \n",
    "    node.output = output\n",
    "end\n",
    "\n",
    "function forward!(node::MaxPoolNode, x)\n",
    "    node.x = x\n",
    "    pool_size = node.pool_size\n",
    "    \n",
    "    batch_size, input_height, input_width, input_channels = size(x)\n",
    "\n",
    "    output_height = 1 + (input_height - pool_size[1]) ÷ pool_size[1]\n",
    "    output_width = 1 + (input_width - pool_size[2]) ÷ pool_size[2]\n",
    "\n",
    "    output = zeros(batch_size, output_height, output_width, input_channels)\n",
    "\n",
    "    for n in 1:batch_size\n",
    "        for c in 1:input_channels\n",
    "            for i in 1:pool_size[1]:input_height-pool_size[1]+1\n",
    "                for j in 1:pool_size[2]:input_width-pool_size[2]+1\n",
    "                    window = view(x, n, i:i+pool_size[1]-1, j:j+pool_size[2]-1, c)\n",
    "                    output[n, 1+div(i-1, pool_size[1]), 1+div(j-1, pool_size[2]), c] = maximum(window)\n",
    "                end\n",
    "            end\n",
    "        end\n",
    "    end\n",
    "\n",
    "    node.output = output\n",
    "end\n",
    "\n",
    "\n",
    "function forward!(node::ReLUNode, x)\n",
    "    node.x = x\n",
    "    node.output = max.(0, x)\n",
    "end\n",
    "\n",
    "function forward!(node::DenseNode, x)\n",
    "    node.x = x\n",
    "    W = node.W\n",
    "    b = node.b\n",
    "    node.output = x * W .+ b'\n",
    "end\n",
    "\n",
    "function forward!(node::SoftmaxNode, x)\n",
    "    node.x = x\n",
    "    exp_x = exp.(x .- maximum(x, dims=2))\n",
    "    node.output = exp_x ./ sum(exp_x, dims=2)\n",
    "end\n",
    "\n",
    "function forward!(node::FlattenNode, x)\n",
    "    node.x = x\n",
    "    \n",
    "    node.output = reshape(x, size(x, 1), size(x, 2) * size(x, 3) * size(x, 4))\n",
    "end\n",
    "\n",
    "function forward!(node::SigmoidNode, x)\n",
    "    node.x = x\n",
    "    node.output = 1.0 ./ (1.0 .+ exp.(-x))\n",
    "end\n",
    "\n",
    "function forward!(node::TanhNode, x)\n",
    "    node.x = x\n",
    "    node.output = tanh.(x)\n",
    "end\n",
    "\n",
    "function forward!(node::LeakyReLUNode, x)\n",
    "    node.x = x\n",
    "    node.output = ifelse.(x .> 0, x, node.alpha .* x)\n",
    "end"
   ]
  },
  {
   "cell_type": "code",
   "execution_count": 5,
   "id": "602fd274-f243-48fd-874c-9567ce11b6a9",
   "metadata": {
    "tags": []
   },
   "outputs": [
    {
     "data": {
      "text/plain": [
       "backward! (generic function with 8 methods)"
      ]
     },
     "metadata": {},
     "output_type": "display_data"
    }
   ],
   "source": [
    "function backward!(node::Conv2DNode, dy, x)\n",
    "    W = node.W\n",
    "    batch_size, input_height, input_width, input_channels = size(x)\n",
    "    filter_height, filter_width, num_channels, num_filters = size(W)\n",
    "\n",
    "    dx = zeros(size(x))\n",
    "    dW = zeros(size(W))\n",
    "    db = zeros(num_filters)\n",
    "\n",
    "    for n in 1:batch_size\n",
    "        for f in 1:num_filters\n",
    "            for i in 1:input_height - filter_height + 1\n",
    "                for j in 1:input_width - filter_width + 1\n",
    "                    dx[n, i:i + filter_height - 1, j:j + filter_width - 1, :] .+= W[:, :, :, f] .* dy[n, i, j, f]\n",
    "                    dW[:, :, :, f] .+= view(x, n, i:i + filter_height - 1, j:j + filter_width - 1, :) .* dy[n, i, j, f]\n",
    "                end\n",
    "            end\n",
    "            db[f] += sum(dy[n, :, :, f])\n",
    "        end\n",
    "    end\n",
    "\n",
    "    return (dx, dW, db)\n",
    "end\n",
    "\n",
    "\n",
    "function backward!(node::MaxPoolNode, dy, x)\n",
    "    pool_size = node.pool_size\n",
    "    new_size = size(node.output)\n",
    "    dy = reshape(dy, new_size)\n",
    "    \n",
    "    #println(\"back_max_pool \",size(dy),size(x), pool_size)\n",
    "    \n",
    "    batch_size, height, width, channels = size(x)\n",
    "    dx = zeros(size(x))\n",
    "    for b in 1:batch_size\n",
    "        for c in 1:channels\n",
    "            for i in 1:pool_size[1]:height-pool_size[1]+1\n",
    "                for j in 1:pool_size[2]:width-pool_size[2]+1\n",
    "                    window = view(x, b, i:i+pool_size[1]-1, j:j+pool_size[2]-1, c)\n",
    "                    dx[b, i:i+pool_size[1]-1, j:j+pool_size[2]-1, c] .+= dy[b, i ÷ pool_size[1]+1, j ÷ pool_size[2]+1, c] .* (window .== maximum(window))\n",
    "                end\n",
    "            end\n",
    "        end\n",
    "    end\n",
    "    return dx\n",
    "end\n",
    "\n",
    "\n",
    "function backward!(node::DenseNode, dy, x)\n",
    "    W = node.W\n",
    "    #println(\"back_dense \",size(dy),size(x), size(W))\n",
    "    dx, dW, db = dy * W', x' * dy, reshape(sum(dy, dims=1), :, 1)\n",
    "    #println(\"back_dense123 \",size(dx),size(dW), size(db))\n",
    "    return (dx, dW, db)\n",
    "end\n",
    "\n",
    "\n",
    "function backward!(node::ReLUNode, dy, x)\n",
    "    #println(\"back_relu \", size(dy), size(x))\n",
    "    dx = dy .* (x .> 0)\n",
    "    return dx\n",
    "end\n",
    "\n",
    "function backward!(node::FlattenNode, dy, x)\n",
    "    input_shape = node.input_shape\n",
    "    dx = reshape(dy, size(x, 1), input_shape...)\n",
    "    return dx\n",
    "end\n",
    "\n",
    "\n",
    "function backward!(node::SigmoidNode, dy, x)\n",
    "    dx = dy .* (node.output .* (1.0 .- node.output))\n",
    "    return dx\n",
    "end\n",
    "\n",
    "function backward!(node::TanhNode, dy, x)\n",
    "    dx = dy .* (1.0 .- node.output .^ 2)\n",
    "    return dx\n",
    "end\n",
    "\n",
    "function backward!(node::LeakyReLUNode, dy, x)\n",
    "    dx = dy .* ifelse.(x .> 0, 1, node.alpha)\n",
    "    return dx\n",
    "end"
   ]
  },
  {
   "cell_type": "code",
   "execution_count": 6,
   "id": "d202a415",
   "metadata": {},
   "outputs": [
    {
     "data": {
      "text/plain": [
       "hasproperty (generic function with 1 method)"
      ]
     },
     "metadata": {},
     "output_type": "display_data"
    }
   ],
   "source": [
    "function Conv2DNode(; batch_size::Int, filters::Int, kernel_size::Tuple{Int, Int}, input_shape::Tuple{Int, Int, Int}, activation::String)\n",
    "    W = randn(kernel_size[1], kernel_size[2], input_shape[3], filters) * sqrt(1 / (kernel_size[1] * kernel_size[2] * input_shape[3]))\n",
    "    b = zeros(filters)\n",
    "\n",
    "    return Conv2DNode(zeros(size(W)), W, b, batch_size, kernel_size, filters, nothing, nothing, nothing, activation, zeros(size(W)), zeros(size(W)), zeros(size(b)), zeros(size(b)))\n",
    "end\n",
    "\n",
    "function MaxPoolNode(; pool_size::Tuple{Int, Int})\n",
    "    return MaxPoolNode(nothing, pool_size, nothing)\n",
    "end\n",
    "\n",
    "function DenseNode(; neurons::Int, activation::String, input_shape::Union{Tuple{Int, Int}, Tuple{Int, Int, Int}})\n",
    "    W = randn(prod(input_shape), neurons) * sqrt(1 / (prod(input_shape)))\n",
    "    b = zeros(neurons)\n",
    "\n",
    "    return DenseNode(nothing, W, b, neurons, nothing, nothing, nothing, activation, zeros(size(W)), zeros(size(W)), zeros(size(b)), zeros(size(b)))\n",
    "end\n",
    "\n",
    "function FlattenNode(; input_shape::Tuple{Int, Int, Int})\n",
    "    return FlattenNode(nothing, nothing, input_shape)\n",
    "end\n",
    "\n",
    "function forward_pass!(graph, x)\n",
    "    input = x\n",
    "    for node in graph\n",
    "        forward!(node, input)\n",
    "        input = node.output\n",
    "    end\n",
    "    return input\n",
    "end\n",
    "\n",
    "function backward_pass!(graph, y_true)\n",
    "    preds = graph[end].output\n",
    "    dout  = softmax_cross_entropy_backward(preds, y_true)\n",
    "    \n",
    "    for i in reverse(1:length(graph)-1)\n",
    "        layer = graph[i]\n",
    "        prev_layer_output = i > 1 ? graph[i - 1].output : layer.x\n",
    "        if hasproperty(layer, :gradient_W)\n",
    "            dout,dW,db = backward!(layer, dout, prev_layer_output)\n",
    "            layer.gradient_W = dW\n",
    "            layer.gradient_b = db\n",
    "        else \n",
    "            dout = backward!(layer, dout, prev_layer_output)\n",
    "        end\n",
    "    end\n",
    "end\n",
    "\n",
    "function onehotbatch(labels, classes)\n",
    "    Y = zeros(Int, length(labels), length(classes))\n",
    "    for (i, label) in enumerate(labels)\n",
    "        Y[i, label .== classes] .= 1\n",
    "    end\n",
    "    return Y\n",
    "end\n",
    "\n",
    "function graph_build(layers)\n",
    "    output = []\n",
    "    for layer in layers\n",
    "        push!(output, layer)\n",
    "        if hasproperty(layer, :activation)\n",
    "            push!(output, getActivation(layer.activation))\n",
    "        end\n",
    "    end\n",
    "\n",
    "    return output\n",
    "end\n",
    "\n",
    "function getActivation(name)\n",
    "    if name == \"relu\"\n",
    "        return ReLUNode(nothing, nothing)\n",
    "    elseif name == \"softmax\"\n",
    "        return SoftmaxNode(nothing, nothing)\n",
    "    elseif name == \"sigmoid\"\n",
    "        return SigmoidNode(nothing, nothing)\n",
    "    elseif name == \"tanh\"\n",
    "        return TanhNode(nothing, nothing)\n",
    "    elseif name == \"leakyrelu\"\n",
    "        return LeakyReLUNode(nothing, nothing, 0.01)\n",
    "    else \n",
    "        error(\"no such activation function\")\n",
    "    end\n",
    "end\n",
    "\n",
    "function softmax_cross_entropy_backward(y_pred, y_true)\n",
    "    batch_size = size(y_pred, 1)\n",
    "    dloss = (y_pred .- onehotbatch(y_true, 0:9)) ./ size(y_true, 1)\n",
    "    return dloss\n",
    "end\n",
    "\n",
    "import Base.hasproperty\n",
    "hasproperty(x, s::Symbol) = s in fieldnames(typeof(x))"
   ]
  },
  {
   "cell_type": "code",
   "execution_count": 7,
   "id": "433dfab2-7d04-4fef-a952-6546082e4fc5",
   "metadata": {
    "tags": []
   },
   "outputs": [
    {
     "data": {
      "text/plain": [
       "plot_loss (generic function with 1 method)"
      ]
     },
     "metadata": {},
     "output_type": "display_data"
    }
   ],
   "source": [
    "function update_adam!(layer, learning_rate, t, beta1 = 0.9, beta2 = 0.999, epsilon = 1e-8)\n",
    "    layer.m_W = beta1 * layer.m_W + (1 - beta1) * layer.gradient_W\n",
    "    layer.v_W = beta2 * layer.v_W + (1 - beta2) * layer.gradient_W .^ 2\n",
    "    mhat_W = layer.m_W / (1 - beta1 ^ t)\n",
    "    vhat_W = layer.v_W / (1 - beta2 ^ t)\n",
    "    layer.W .-= learning_rate .* mhat_W ./ (sqrt.(vhat_W) .+ epsilon)\n",
    "\n",
    "\n",
    "    layer.m_b = beta1 * layer.m_b + (1 - beta1) * layer.gradient_b\n",
    "    layer.v_b = beta2 * layer.v_b + (1 - beta2) * layer.gradient_b .^ 2\n",
    "    mhat_b = layer.m_b / (1 - beta1 ^ t)\n",
    "    vhat_b = layer.v_b / (1 - beta2 ^ t)\n",
    "    layer.b .-= learning_rate .* mhat_b ./ (sqrt.(vhat_b) .+ epsilon)\n",
    "end\n",
    "\n",
    "function update_sgd!(layer, learning_rate)\n",
    "    layer.W .-= learning_rate .* layer.gradient_W\n",
    "    layer.b .-= learning_rate .* layer.gradient_b\n",
    "end\n",
    "\n",
    "function train!(graph, train_x, train_y, epochs=5, batch_size=32, learning_rate=1e-3, optimizer=\"adam\")\n",
    "    total_batches = ceil(Int, size(train_x, 1) / batch_size)\n",
    "    each = ceil(Int, total_batches/10)\n",
    " \n",
    "    loss_history = zeros(ceil(Int, total_batches*epochs/each))\n",
    "    counter = 1\n",
    "    \n",
    "    for epoch in 1:epochs\n",
    "        println(\"----EPOCH $epoch----\")\n",
    "\n",
    "        idx = randperm(size(train_x, 1))\n",
    "        train_x = train_x[idx, :, :, :]\n",
    "        train_y = train_y[idx]\n",
    "        loss = 0\n",
    "        current_epoch_loss = zeros(total_batches)\n",
    "        \n",
    "\n",
    "        for i in 1:batch_size:size(train_x, 1)\n",
    "            x_batch = train_x[i:min(i+batch_size-1, end), :, :, :]\n",
    "            y_batch = train_y[i:min(i+batch_size-1, end)]\n",
    "            tmp  = (i ÷ batch_size)\n",
    "\n",
    "            forward_pass!(graph, x_batch)\n",
    "            \n",
    "            loss = -sum(log.(graph[end].output) .* onehotbatch(y_batch, 0:9))#/size(y_batch, 1)\n",
    "            current_epoch_loss[tmp+1] = loss\n",
    "            \n",
    "            backward_pass!(graph, y_batch)\n",
    "\n",
    "            for layer in graph\n",
    "                if hasproperty(layer, :gradient_W)\n",
    "                    if optimizer == \"adam\"\n",
    "                        update_adam!(layer, learning_rate, i)\n",
    "                    elseif optimizer == \"sgd\"\n",
    "                        update_sgd!(layer, learning_rate)\n",
    "                    else\n",
    "                        error(\"Invalid optimizer selected.\")\n",
    "                    end\n",
    "                end\n",
    "            end\n",
    "\n",
    "            \n",
    "            if i == 1  ||  tmp % each == 0\n",
    "                avg_loss = sum(current_epoch_loss)/(tmp+1)\n",
    "\n",
    "                loss_history[counter] = avg_loss\n",
    "                counter += 1\n",
    "                print(i ÷ batch_size, \"/\", total_batches)\n",
    "                println(\" avg epoch loss: \", round(avg_loss, digits=5))\n",
    "                \n",
    "            end\n",
    "        end\n",
    "        println()\n",
    "        \n",
    "    end\n",
    "    println(\"Training finished!\")\n",
    "\n",
    "    return loss_history\n",
    "end\n",
    "\n",
    "function evaluate(graph, x_data, y_data, batch_size, pool_size)\n",
    "    num_correct = 0\n",
    "    num_samples = size(x_data, 1)\n",
    "\n",
    "    for i in 1:batch_size:num_samples\n",
    "        x_batch = x_data[i:min(i+batch_size-1, end), :, :, :]\n",
    "        y_batch = y_data[i:min(i+batch_size-1, end)]\n",
    "        \n",
    "        forward_pass!(graph, x_batch)\n",
    "        pred = graph[end].output\n",
    "        \n",
    "        predictions = argmax.(eachrow(pred)) .- 1\n",
    "        num_correct += sum(predictions .== y_batch)\n",
    "    end\n",
    "\n",
    "    accuracy = num_correct / num_samples\n",
    "    return accuracy\n",
    "end\n",
    "\n",
    "function plot_loss(loss::Vector{Float64}, epochs::Int)\n",
    "    plot(1:size(loss,1), loss, label=\"loss_batches\")\n",
    "\n",
    "    each = Int64(size(loss,1)/epochs)\n",
    "    pts = loss[each:each:end]\n",
    "    plot!(each:each:each*size(pts,1), pts, seriestype=:scatter, label=\"epochs\")\n",
    "end\n"
   ]
  },
  {
   "cell_type": "code",
   "execution_count": 8,
   "id": "4d5e96f3-f2cb-47d1-a14d-8c9d84c3bd53",
   "metadata": {
    "tags": []
   },
   "outputs": [
    {
     "data": {
      "text/plain": [
       "3"
      ]
     },
     "metadata": {},
     "output_type": "display_data"
    }
   ],
   "source": [
    "using PyCall\n",
    "using LinearAlgebra\n",
    "using Random\n",
    "\n",
    "mnist = pyimport(\"mnist\")\n",
    "\n",
    "# Load the MNIST dataset\n",
    "train_data = mnist.train_images()\n",
    "train_labels = Int64.(mnist.train_labels())\n",
    "train_x =  reshape(train_data, :, 28, 28, 1) / 255.0\n",
    "train_y = train_labels\n",
    "\n",
    "\n",
    "n = 1000\n",
    "idx = randperm(n)\n",
    "train_x = train_x[idx, :,:,:]\n",
    "train_y = train_y[idx]\n",
    "\n",
    "train_y[1]"
   ]
  },
  {
   "cell_type": "code",
   "execution_count": 9,
   "id": "0b287c46-20e9-435c-95e2-23d699c4eca6",
   "metadata": {
    "tags": []
   },
   "outputs": [
    {
     "name": "stdout",
     "output_type": "stream",
     "text": [
      "----EPOCH 1----\n"
     ]
    },
    {
     "name": "stdout",
     "output_type": "stream",
     "text": [
      "0/63 avg epoch loss: "
     ]
    },
    {
     "name": "stdout",
     "output_type": "stream",
     "text": [
      "35.6166\n"
     ]
    },
    {
     "name": "stdout",
     "output_type": "stream",
     "text": [
      "7/63 avg epoch loss: 36.84964"
     ]
    },
    {
     "name": "stdout",
     "output_type": "stream",
     "text": [
      "\n",
      "14/63 avg epoch loss: 34.7969\n"
     ]
    },
    {
     "name": "stdout",
     "output_type": "stream",
     "text": [
      "21/63 avg epoch loss: 31.65634"
     ]
    },
    {
     "name": "stdout",
     "output_type": "stream",
     "text": [
      "\n",
      "28/63 avg epoch loss: 28.50604\n"
     ]
    },
    {
     "name": "stdout",
     "output_type": "stream",
     "text": [
      "35/63 avg epoch loss: 27.06497\n"
     ]
    },
    {
     "name": "stdout",
     "output_type": "stream",
     "text": [
      "42/63 avg epoch loss: 25.03224\n"
     ]
    },
    {
     "name": "stdout",
     "output_type": "stream",
     "text": [
      "49/63 avg epoch loss: 23.29332\n"
     ]
    },
    {
     "name": "stdout",
     "output_type": "stream",
     "text": [
      "56/63 avg epoch loss: 21.94665\n"
     ]
    },
    {
     "name": "stdout",
     "output_type": "stream",
     "text": [
      "\n",
      "----EPOCH 2----\n",
      "0/63 avg epoch loss: 8.18272"
     ]
    },
    {
     "name": "stdout",
     "output_type": "stream",
     "text": [
      "\n",
      "7/63 avg epoch loss: 7.71762"
     ]
    },
    {
     "name": "stdout",
     "output_type": "stream",
     "text": [
      "\n",
      "14/63 avg epoch loss: 7.7576\n"
     ]
    },
    {
     "name": "stdout",
     "output_type": "stream",
     "text": [
      "21/63 avg epoch loss: 7.76736\n"
     ]
    },
    {
     "name": "stdout",
     "output_type": "stream",
     "text": [
      "28/63 avg epoch loss: 8.09964\n"
     ]
    },
    {
     "name": "stdout",
     "output_type": "stream",
     "text": [
      "35/63 avg epoch loss: 8.28271"
     ]
    },
    {
     "name": "stdout",
     "output_type": "stream",
     "text": [
      "\n",
      "42/63 avg epoch loss: 8.77769\n"
     ]
    },
    {
     "name": "stdout",
     "output_type": "stream",
     "text": [
      "49/63 avg epoch loss: 8.39043"
     ]
    },
    {
     "name": "stdout",
     "output_type": "stream",
     "text": [
      "\n",
      "56/63 avg epoch loss: 8.12515"
     ]
    },
    {
     "name": "stdout",
     "output_type": "stream",
     "text": [
      "\n",
      "\n",
      "----EPOCH 3----\n",
      "0/63 avg epoch loss: 10.44286"
     ]
    },
    {
     "name": "stdout",
     "output_type": "stream",
     "text": [
      "\n",
      "7/63 avg epoch loss: 5.28006\n"
     ]
    },
    {
     "name": "stdout",
     "output_type": "stream",
     "text": [
      "14/63 avg epoch loss: "
     ]
    },
    {
     "name": "stdout",
     "output_type": "stream",
     "text": [
      "5.61144\n",
      "21/63 avg epoch loss: 5.379\n"
     ]
    },
    {
     "name": "stdout",
     "output_type": "stream",
     "text": [
      "28/63 avg epoch loss: 5.34886"
     ]
    },
    {
     "name": "stdout",
     "output_type": "stream",
     "text": [
      "\n",
      "35/63 avg epoch loss: 5.32253"
     ]
    },
    {
     "name": "stdout",
     "output_type": "stream",
     "text": [
      "\n",
      "42/63 avg epoch loss: 5.66864\n"
     ]
    },
    {
     "name": "stdout",
     "output_type": "stream",
     "text": [
      "49/63 avg epoch loss: 5.83315"
     ]
    },
    {
     "name": "stdout",
     "output_type": "stream",
     "text": [
      "\n",
      "56/63 avg epoch loss: 5.83205"
     ]
    },
    {
     "name": "stdout",
     "output_type": "stream",
     "text": [
      "\n",
      "\n",
      "Training finished!"
     ]
    },
    {
     "name": "stdout",
     "output_type": "stream",
     "text": [
      "\n"
     ]
    },
    {
     "data": {
      "image/png": "[encoded data removed]",
      "image/svg+xml": [
       "<?xml version=\"1.0\" encoding=\"utf-8\"?>\n",
       "<svg xmlns=\"http://www.w3.org/2000/svg\" xmlns:xlink=\"http://www.w3.org/1999/xlink\" width=\"600\" height=\"400\" viewBox=\"0 0 2400 1600\">\n",
       "<defs>\n",
       "  <clipPath id=\"clip540\">\n",
       "    <rect x=\"0\" y=\"0\" width=\"2400\" height=\"1600\"/>\n",
       "  </clipPath>\n",
       "</defs>\n",
       "<path clip-path=\"url(#clip540)\" d=\"M0 1600 L2400 1600 L2400 0 L0 0  Z\" fill=\"#ffffff\" fill-rule=\"evenodd\" fill-opacity=\"1\"/>\n",
       "<defs>\n",
       "  <clipPath id=\"clip541\">\n",
       "    <rect x=\"480\" y=\"0\" width=\"1681\" height=\"1600\"/>\n",
       "  </clipPath>\n",
       "</defs>\n",
       "<path clip-path=\"url(#clip540)\" d=\"M140.696 1486.45 L2352.76 1486.45 L2352.76 47.2441 L140.696 47.2441  Z\" fill=\"#ffffff\" fill-rule=\"evenodd\" fill-opacity=\"1\"/>\n",
       "<defs>\n",
       "  <clipPath id=\"clip542\">\n",
       "    <rect x=\"140\" y=\"47\" width=\"2213\" height=\"1440\"/>\n",
       "  </clipPath>\n",
       "</defs>\n",
       "<polyline clip-path=\"url(#clip542)\" style=\"stroke:#000000; stroke-linecap:round; stroke-linejoin:round; stroke-width:2; stroke-opacity:0.1; fill:none\" points=\"524.355,1486.45 524.355,47.2441 \"/>\n",
       "<polyline clip-path=\"url(#clip542)\" style=\"stroke:#000000; stroke-linecap:round; stroke-linejoin:round; stroke-width:2; stroke-opacity:0.1; fill:none\" points=\"925.672,1486.45 925.672,47.2441 \"/>\n",
       "<polyline clip-path=\"url(#clip542)\" style=\"stroke:#000000; stroke-linecap:round; stroke-linejoin:round; stroke-width:2; stroke-opacity:0.1; fill:none\" points=\"1326.99,1486.45 1326.99,47.2441 \"/>\n",
       "<polyline clip-path=\"url(#clip542)\" style=\"stroke:#000000; stroke-linecap:round; stroke-linejoin:round; stroke-width:2; stroke-opacity:0.1; fill:none\" points=\"1728.31,1486.45 1728.31,47.2441 \"/>\n",
       "<polyline clip-path=\"url(#clip542)\" style=\"stroke:#000000; stroke-linecap:round; stroke-linejoin:round; stroke-width:2; stroke-opacity:0.1; fill:none\" points=\"2129.62,1486.45 2129.62,47.2441 \"/>\n",
       "<polyline clip-path=\"url(#clip540)\" style=\"stroke:#000000; stroke-linecap:round; stroke-linejoin:round; stroke-width:4; stroke-opacity:1; fill:none\" points=\"140.696,1486.45 2352.76,1486.45 \"/>\n",
       "<polyline clip-path=\"url(#clip540)\" style=\"stroke:#000000; stroke-linecap:round; stroke-linejoin:round; stroke-width:4; stroke-opacity:1; fill:none\" points=\"524.355,1486.45 524.355,1467.55 \"/>\n",
       "<polyline clip-path=\"url(#clip540)\" style=\"stroke:#000000; stroke-linecap:round; stroke-linejoin:round; stroke-width:4; stroke-opacity:1; fill:none\" points=\"925.672,1486.45 925.672,1467.55 \"/>\n",
       "<polyline clip-path=\"url(#clip540)\" style=\"stroke:#000000; stroke-linecap:round; stroke-linejoin:round; stroke-width:4; stroke-opacity:1; fill:none\" points=\"1326.99,1486.45 1326.99,1467.55 \"/>\n",
       "<polyline clip-path=\"url(#clip540)\" style=\"stroke:#000000; stroke-linecap:round; stroke-linejoin:round; stroke-width:4; stroke-opacity:1; fill:none\" points=\"1728.31,1486.45 1728.31,1467.55 \"/>\n",
       "<polyline clip-path=\"url(#clip540)\" style=\"stroke:#000000; stroke-linecap:round; stroke-linejoin:round; stroke-width:4; stroke-opacity:1; fill:none\" points=\"2129.62,1486.45 2129.62,1467.55 \"/>\n",
       "<path clip-path=\"url(#clip540)\" d=\"M514.633 1514.29 L532.989 1514.29 L532.989 1518.22 L518.915 1518.22 L518.915 1526.7 Q519.934 1526.35 520.952 1526.19 Q521.971 1526 522.989 1526 Q528.776 1526 532.156 1529.17 Q535.535 1532.34 535.535 1537.76 Q535.535 1543.34 532.063 1546.44 Q528.591 1549.52 522.271 1549.52 Q520.096 1549.52 517.827 1549.15 Q515.582 1548.78 513.174 1548.04 L513.174 1543.34 Q515.258 1544.47 517.48 1545.03 Q519.702 1545.58 522.179 1545.58 Q526.183 1545.58 528.521 1543.48 Q530.859 1541.37 530.859 1537.76 Q530.859 1534.15 528.521 1532.04 Q526.183 1529.94 522.179 1529.94 Q520.304 1529.94 518.429 1530.35 Q516.577 1530.77 514.633 1531.65 L514.633 1514.29 Z\" fill=\"#000000\" fill-rule=\"nonzero\" fill-opacity=\"1\" /><path clip-path=\"url(#clip540)\" d=\"M900.36 1544.91 L907.998 1544.91 L907.998 1518.55 L899.688 1520.21 L899.688 1515.95 L907.952 1514.29 L912.628 1514.29 L912.628 1544.91 L920.267 1544.91 L920.267 1548.85 L900.36 1548.85 L900.36 1544.91 Z\" fill=\"#000000\" fill-rule=\"nonzero\" fill-opacity=\"1\" /><path clip-path=\"url(#clip540)\" d=\"M939.711 1517.37 Q936.1 1517.37 934.271 1520.93 Q932.466 1524.47 932.466 1531.6 Q932.466 1538.71 934.271 1542.27 Q936.1 1545.82 939.711 1545.82 Q943.345 1545.82 945.151 1542.27 Q946.98 1538.71 946.98 1531.6 Q946.98 1524.47 945.151 1520.93 Q943.345 1517.37 939.711 1517.37 M939.711 1513.66 Q945.521 1513.66 948.577 1518.27 Q951.656 1522.85 951.656 1531.6 Q951.656 1540.33 948.577 1544.94 Q945.521 1549.52 939.711 1549.52 Q933.901 1549.52 930.822 1544.94 Q927.767 1540.33 927.767 1531.6 Q927.767 1522.85 930.822 1518.27 Q933.901 1513.66 939.711 1513.66 Z\" fill=\"#000000\" fill-rule=\"nonzero\" fill-opacity=\"1\" /><path clip-path=\"url(#clip540)\" d=\"M1302.17 1544.91 L1309.81 1544.91 L1309.81 1518.55 L1301.5 1520.21 L1301.5 1515.95 L1309.77 1514.29 L1314.44 1514.29 L1314.44 1544.91 L1322.08 1544.91 L1322.08 1548.85 L1302.17 1548.85 L1302.17 1544.91 Z\" fill=\"#000000\" fill-rule=\"nonzero\" fill-opacity=\"1\" /><path clip-path=\"url(#clip540)\" d=\"M1331.57 1514.29 L1349.93 1514.29 L1349.93 1518.22 L1335.85 1518.22 L1335.85 1526.7 Q1336.87 1526.35 1337.89 1526.19 Q1338.91 1526 1339.93 1526 Q1345.72 1526 1349.1 1529.17 Q1352.48 1532.34 1352.48 1537.76 Q1352.48 1543.34 1349 1546.44 Q1345.53 1549.52 1339.21 1549.52 Q1337.04 1549.52 1334.77 1549.15 Q1332.52 1548.78 1330.11 1548.04 L1330.11 1543.34 Q1332.2 1544.47 1334.42 1545.03 Q1336.64 1545.58 1339.12 1545.58 Q1343.12 1545.58 1345.46 1543.48 Q1347.8 1541.37 1347.8 1537.76 Q1347.8 1534.15 1345.46 1532.04 Q1343.12 1529.94 1339.12 1529.94 Q1337.24 1529.94 1335.37 1530.35 Q1333.52 1530.77 1331.57 1531.65 L1331.57 1514.29 Z\" fill=\"#000000\" fill-rule=\"nonzero\" fill-opacity=\"1\" /><path clip-path=\"url(#clip540)\" d=\"M1707.08 1544.91 L1723.4 1544.91 L1723.4 1548.85 L1701.45 1548.85 L1701.45 1544.91 Q1704.12 1542.16 1708.7 1537.53 Q1713.31 1532.88 1714.49 1531.53 Q1716.73 1529.01 1717.61 1527.27 Q1718.51 1525.51 1718.51 1523.82 Q1718.51 1521.07 1716.57 1519.33 Q1714.65 1517.6 1711.55 1517.6 Q1709.35 1517.6 1706.89 1518.36 Q1704.46 1519.13 1701.69 1520.68 L1701.69 1515.95 Q1704.51 1514.82 1706.96 1514.24 Q1709.42 1513.66 1711.45 1513.66 Q1716.82 1513.66 1720.02 1516.35 Q1723.21 1519.03 1723.21 1523.52 Q1723.21 1525.65 1722.4 1527.57 Q1721.62 1529.47 1719.51 1532.07 Q1718.93 1532.74 1715.83 1535.95 Q1712.73 1539.15 1707.08 1544.91 Z\" fill=\"#000000\" fill-rule=\"nonzero\" fill-opacity=\"1\" /><path clip-path=\"url(#clip540)\" d=\"M1743.21 1517.37 Q1739.6 1517.37 1737.77 1520.93 Q1735.97 1524.47 1735.97 1531.6 Q1735.97 1538.71 1737.77 1542.27 Q1739.6 1545.82 1743.21 1545.82 Q1746.85 1545.82 1748.65 1542.27 Q1750.48 1538.71 1750.48 1531.6 Q1750.48 1524.47 1748.65 1520.93 Q1746.85 1517.37 1743.21 1517.37 M1743.21 1513.66 Q1749.02 1513.66 1752.08 1518.27 Q1755.16 1522.85 1755.16 1531.6 Q1755.16 1540.33 1752.08 1544.94 Q1749.02 1549.52 1743.21 1549.52 Q1737.4 1549.52 1734.32 1544.94 Q1731.27 1540.33 1731.27 1531.6 Q1731.27 1522.85 1734.32 1518.27 Q1737.4 1513.66 1743.21 1513.66 Z\" fill=\"#000000\" fill-rule=\"nonzero\" fill-opacity=\"1\" /><path clip-path=\"url(#clip540)\" d=\"M2108.89 1544.91 L2125.21 1544.91 L2125.21 1548.85 L2103.27 1548.85 L2103.27 1544.91 Q2105.93 1542.16 2110.51 1537.53 Q2115.12 1532.88 2116.3 1531.53 Q2118.55 1529.01 2119.43 1527.27 Q2120.33 1525.51 2120.33 1523.82 Q2120.33 1521.07 2118.39 1519.33 Q2116.46 1517.6 2113.36 1517.6 Q2111.16 1517.6 2108.71 1518.36 Q2106.28 1519.13 2103.5 1520.68 L2103.5 1515.95 Q2106.33 1514.82 2108.78 1514.24 Q2111.23 1513.66 2113.27 1513.66 Q2118.64 1513.66 2121.83 1516.35 Q2125.03 1519.03 2125.03 1523.52 Q2125.03 1525.65 2124.22 1527.57 Q2123.43 1529.47 2121.32 1532.07 Q2120.75 1532.74 2117.64 1535.95 Q2114.54 1539.15 2108.89 1544.91 Z\" fill=\"#000000\" fill-rule=\"nonzero\" fill-opacity=\"1\" /><path clip-path=\"url(#clip540)\" d=\"M2135.07 1514.29 L2153.43 1514.29 L2153.43 1518.22 L2139.36 1518.22 L2139.36 1526.7 Q2140.38 1526.35 2141.39 1526.19 Q2142.41 1526 2143.43 1526 Q2149.22 1526 2152.6 1529.17 Q2155.98 1532.34 2155.98 1537.76 Q2155.98 1543.34 2152.51 1546.44 Q2149.03 1549.52 2142.71 1549.52 Q2140.54 1549.52 2138.27 1549.15 Q2136.02 1548.78 2133.62 1548.04 L2133.62 1543.34 Q2135.7 1544.47 2137.92 1545.03 Q2140.14 1545.58 2142.62 1545.58 Q2146.63 1545.58 2148.96 1543.48 Q2151.3 1541.37 2151.3 1537.76 Q2151.3 1534.15 2148.96 1532.04 Q2146.63 1529.94 2142.62 1529.94 Q2140.75 1529.94 2138.87 1530.35 Q2137.02 1530.77 2135.07 1531.65 L2135.07 1514.29 Z\" fill=\"#000000\" fill-rule=\"nonzero\" fill-opacity=\"1\" /><polyline clip-path=\"url(#clip542)\" style=\"stroke:#000000; stroke-linecap:round; stroke-linejoin:round; stroke-width:2; stroke-opacity:0.1; fill:none\" points=\"140.696,1457.76 2352.76,1457.76 \"/>\n",
       "<polyline clip-path=\"url(#clip542)\" style=\"stroke:#000000; stroke-linecap:round; stroke-linejoin:round; stroke-width:2; stroke-opacity:0.1; fill:none\" points=\"140.696,1242.72 2352.76,1242.72 \"/>\n",
       "<polyline clip-path=\"url(#clip542)\" style=\"stroke:#000000; stroke-linecap:round; stroke-linejoin:round; stroke-width:2; stroke-opacity:0.1; fill:none\" points=\"140.696,1027.68 2352.76,1027.68 \"/>\n",
       "<polyline clip-path=\"url(#clip542)\" style=\"stroke:#000000; stroke-linecap:round; stroke-linejoin:round; stroke-width:2; stroke-opacity:0.1; fill:none\" points=\"140.696,812.643 2352.76,812.643 \"/>\n",
       "<polyline clip-path=\"url(#clip542)\" style=\"stroke:#000000; stroke-linecap:round; stroke-linejoin:round; stroke-width:2; stroke-opacity:0.1; fill:none\" points=\"140.696,597.604 2352.76,597.604 \"/>\n",
       "<polyline clip-path=\"url(#clip542)\" style=\"stroke:#000000; stroke-linecap:round; stroke-linejoin:round; stroke-width:2; stroke-opacity:0.1; fill:none\" points=\"140.696,382.565 2352.76,382.565 \"/>\n",
       "<polyline clip-path=\"url(#clip542)\" style=\"stroke:#000000; stroke-linecap:round; stroke-linejoin:round; stroke-width:2; stroke-opacity:0.1; fill:none\" points=\"140.696,167.525 2352.76,167.525 \"/>\n",
       "<polyline clip-path=\"url(#clip540)\" style=\"stroke:#000000; stroke-linecap:round; stroke-linejoin:round; stroke-width:4; stroke-opacity:1; fill:none\" points=\"140.696,1486.45 140.696,47.2441 \"/>\n",
       "<polyline clip-path=\"url(#clip540)\" style=\"stroke:#000000; stroke-linecap:round; stroke-linejoin:round; stroke-width:4; stroke-opacity:1; fill:none\" points=\"140.696,1457.76 159.593,1457.76 \"/>\n",
       "<polyline clip-path=\"url(#clip540)\" style=\"stroke:#000000; stroke-linecap:round; stroke-linejoin:round; stroke-width:4; stroke-opacity:1; fill:none\" points=\"140.696,1242.72 159.593,1242.72 \"/>\n",
       "<polyline clip-path=\"url(#clip540)\" style=\"stroke:#000000; stroke-linecap:round; stroke-linejoin:round; stroke-width:4; stroke-opacity:1; fill:none\" points=\"140.696,1027.68 159.593,1027.68 \"/>\n",
       "<polyline clip-path=\"url(#clip540)\" style=\"stroke:#000000; stroke-linecap:round; stroke-linejoin:round; stroke-width:4; stroke-opacity:1; fill:none\" points=\"140.696,812.643 159.593,812.643 \"/>\n",
       "<polyline clip-path=\"url(#clip540)\" style=\"stroke:#000000; stroke-linecap:round; stroke-linejoin:round; stroke-width:4; stroke-opacity:1; fill:none\" points=\"140.696,597.604 159.593,597.604 \"/>\n",
       "<polyline clip-path=\"url(#clip540)\" style=\"stroke:#000000; stroke-linecap:round; stroke-linejoin:round; stroke-width:4; stroke-opacity:1; fill:none\" points=\"140.696,382.565 159.593,382.565 \"/>\n",
       "<polyline clip-path=\"url(#clip540)\" style=\"stroke:#000000; stroke-linecap:round; stroke-linejoin:round; stroke-width:4; stroke-opacity:1; fill:none\" points=\"140.696,167.525 159.593,167.525 \"/>\n",
       "<path clip-path=\"url(#clip540)\" d=\"M83.7929 1440.48 L102.149 1440.48 L102.149 1444.42 L88.0753 1444.42 L88.0753 1452.89 Q89.0938 1452.54 90.1123 1452.38 Q91.1308 1452.19 92.1493 1452.19 Q97.9363 1452.19 101.316 1455.36 Q104.696 1458.54 104.696 1463.95 Q104.696 1469.53 101.223 1472.63 Q97.7511 1475.71 91.4317 1475.71 Q89.2558 1475.71 86.9873 1475.34 Q84.7419 1474.97 82.3346 1474.23 L82.3346 1469.53 Q84.4179 1470.67 86.6401 1471.22 Q88.8623 1471.78 91.3391 1471.78 Q95.3437 1471.78 97.6817 1469.67 Q100.02 1467.56 100.02 1463.95 Q100.02 1460.34 97.6817 1458.24 Q95.3437 1456.13 91.3391 1456.13 Q89.4641 1456.13 87.5892 1456.55 Q85.7373 1456.96 83.7929 1457.84 L83.7929 1440.48 Z\" fill=\"#000000\" fill-rule=\"nonzero\" fill-opacity=\"1\" /><path clip-path=\"url(#clip540)\" d=\"M53.3995 1256.07 L61.0384 1256.07 L61.0384 1229.7 L52.7282 1231.37 L52.7282 1227.11 L60.9921 1225.44 L65.668 1225.44 L65.668 1256.07 L73.3068 1256.07 L73.3068 1260 L53.3995 1260 L53.3995 1256.07 Z\" fill=\"#000000\" fill-rule=\"nonzero\" fill-opacity=\"1\" /><path clip-path=\"url(#clip540)\" d=\"M92.7512 1228.52 Q89.1401 1228.52 87.3114 1232.08 Q85.5058 1235.63 85.5058 1242.76 Q85.5058 1249.86 87.3114 1253.43 Q89.1401 1256.97 92.7512 1256.97 Q96.3854 1256.97 98.1909 1253.43 Q100.02 1249.86 100.02 1242.76 Q100.02 1235.63 98.1909 1232.08 Q96.3854 1228.52 92.7512 1228.52 M92.7512 1224.82 Q98.5613 1224.82 101.617 1229.42 Q104.696 1234.01 104.696 1242.76 Q104.696 1251.48 101.617 1256.09 Q98.5613 1260.67 92.7512 1260.67 Q86.941 1260.67 83.8623 1256.09 Q80.8068 1251.48 80.8068 1242.76 Q80.8068 1234.01 83.8623 1229.42 Q86.941 1224.82 92.7512 1224.82 Z\" fill=\"#000000\" fill-rule=\"nonzero\" fill-opacity=\"1\" /><path clip-path=\"url(#clip540)\" d=\"M54.3949 1041.03 L62.0337 1041.03 L62.0337 1014.66 L53.7236 1016.33 L53.7236 1012.07 L61.9874 1010.4 L66.6633 1010.4 L66.6633 1041.03 L74.3022 1041.03 L74.3022 1044.96 L54.3949 1044.96 L54.3949 1041.03 Z\" fill=\"#000000\" fill-rule=\"nonzero\" fill-opacity=\"1\" /><path clip-path=\"url(#clip540)\" d=\"M83.7929 1010.4 L102.149 1010.4 L102.149 1014.34 L88.0753 1014.34 L88.0753 1022.81 Q89.0938 1022.46 90.1123 1022.3 Q91.1308 1022.12 92.1493 1022.12 Q97.9363 1022.12 101.316 1025.29 Q104.696 1028.46 104.696 1033.87 Q104.696 1039.45 101.223 1042.55 Q97.7511 1045.63 91.4317 1045.63 Q89.2558 1045.63 86.9873 1045.26 Q84.7419 1044.89 82.3346 1044.15 L82.3346 1039.45 Q84.4179 1040.59 86.6401 1041.14 Q88.8623 1041.7 91.3391 1041.7 Q95.3437 1041.7 97.6817 1039.59 Q100.02 1037.49 100.02 1033.87 Q100.02 1030.26 97.6817 1028.16 Q95.3437 1026.05 91.3391 1026.05 Q89.4641 1026.05 87.5892 1026.47 Q85.7373 1026.88 83.7929 1027.76 L83.7929 1010.4 Z\" fill=\"#000000\" fill-rule=\"nonzero\" fill-opacity=\"1\" /><path clip-path=\"url(#clip540)\" d=\"M56.6171 825.988 L72.9365 825.988 L72.9365 829.923 L50.9921 829.923 L50.9921 825.988 Q53.6541 823.233 58.2375 818.604 Q62.8439 813.951 64.0245 812.608 Q66.2698 810.085 67.1494 808.349 Q68.0522 806.59 68.0522 804.9 Q68.0522 802.145 66.1078 800.409 Q64.1865 798.673 61.0847 798.673 Q58.8856 798.673 56.4319 799.437 Q54.0014 800.201 51.2236 801.752 L51.2236 797.03 Q54.0477 795.895 56.5014 795.317 Q58.955 794.738 60.9921 794.738 Q66.3624 794.738 69.5568 797.423 Q72.7513 800.108 72.7513 804.599 Q72.7513 806.729 71.9411 808.65 Q71.1541 810.548 69.0476 813.141 Q68.4689 813.812 65.367 817.029 Q62.2652 820.224 56.6171 825.988 Z\" fill=\"#000000\" fill-rule=\"nonzero\" fill-opacity=\"1\" /><path clip-path=\"url(#clip540)\" d=\"M92.7512 798.442 Q89.1401 798.442 87.3114 802.006 Q85.5058 805.548 85.5058 812.678 Q85.5058 819.784 87.3114 823.349 Q89.1401 826.891 92.7512 826.891 Q96.3854 826.891 98.1909 823.349 Q100.02 819.784 100.02 812.678 Q100.02 805.548 98.1909 802.006 Q96.3854 798.442 92.7512 798.442 M92.7512 794.738 Q98.5613 794.738 101.617 799.344 Q104.696 803.928 104.696 812.678 Q104.696 821.404 101.617 826.011 Q98.5613 830.594 92.7512 830.594 Q86.941 830.594 83.8623 826.011 Q80.8068 821.404 80.8068 812.678 Q80.8068 803.928 83.8623 799.344 Q86.941 794.738 92.7512 794.738 Z\" fill=\"#000000\" fill-rule=\"nonzero\" fill-opacity=\"1\" /><path clip-path=\"url(#clip540)\" d=\"M57.6125 610.949 L73.9318 610.949 L73.9318 614.884 L51.9875 614.884 L51.9875 610.949 Q54.6495 608.194 59.2328 603.564 Q63.8393 598.912 65.0198 597.569 Q67.2652 595.046 68.1448 593.31 Q69.0476 591.551 69.0476 589.861 Q69.0476 587.106 67.1032 585.37 Q65.1819 583.634 62.08 583.634 Q59.881 583.634 57.4273 584.398 Q54.9967 585.162 52.219 586.713 L52.219 581.99 Q55.043 580.856 57.4967 580.277 Q59.9504 579.699 61.9874 579.699 Q67.3578 579.699 70.5522 582.384 Q73.7466 585.069 73.7466 589.56 Q73.7466 591.689 72.9365 593.611 Q72.1494 595.509 70.0429 598.101 Q69.4642 598.773 66.3624 601.99 Q63.2606 605.185 57.6125 610.949 Z\" fill=\"#000000\" fill-rule=\"nonzero\" fill-opacity=\"1\" /><path clip-path=\"url(#clip540)\" d=\"M83.7929 580.324 L102.149 580.324 L102.149 584.259 L88.0753 584.259 L88.0753 592.731 Q89.0938 592.384 90.1123 592.222 Q91.1308 592.037 92.1493 592.037 Q97.9363 592.037 101.316 595.208 Q104.696 598.379 104.696 603.796 Q104.696 609.375 101.223 612.476 Q97.7511 615.555 91.4317 615.555 Q89.2558 615.555 86.9873 615.185 Q84.7419 614.814 82.3346 614.074 L82.3346 609.375 Q84.4179 610.509 86.6401 611.064 Q88.8623 611.62 91.3391 611.62 Q95.3437 611.62 97.6817 609.513 Q100.02 607.407 100.02 603.796 Q100.02 600.185 97.6817 598.078 Q95.3437 595.972 91.3391 595.972 Q89.4641 595.972 87.5892 596.388 Q85.7373 596.805 83.7929 597.685 L83.7929 580.324 Z\" fill=\"#000000\" fill-rule=\"nonzero\" fill-opacity=\"1\" /><path clip-path=\"url(#clip540)\" d=\"M66.7559 381.21 Q70.1124 381.928 71.9874 384.196 Q73.8855 386.465 73.8855 389.798 Q73.8855 394.914 70.367 397.715 Q66.8485 400.516 60.3671 400.516 Q58.1912 400.516 55.8764 400.076 Q53.5847 399.659 51.131 398.803 L51.131 394.289 Q53.0754 395.423 55.3903 396.002 Q57.7051 396.581 60.2282 396.581 Q64.6263 396.581 66.918 394.845 Q69.2328 393.108 69.2328 389.798 Q69.2328 386.743 67.08 385.03 Q64.9504 383.294 61.131 383.294 L57.1032 383.294 L57.1032 379.451 L61.3161 379.451 Q64.7652 379.451 66.5939 378.085 Q68.4226 376.697 68.4226 374.104 Q68.4226 371.442 66.5245 370.03 Q64.6495 368.595 61.131 368.595 Q59.2097 368.595 57.0106 369.011 Q54.8115 369.428 52.1727 370.308 L52.1727 366.141 Q54.8347 365.4 57.1495 365.03 Q59.4875 364.66 61.5476 364.66 Q66.8717 364.66 69.9735 367.09 Q73.0753 369.497 73.0753 373.618 Q73.0753 376.488 71.4318 378.479 Q69.7883 380.447 66.7559 381.21 Z\" fill=\"#000000\" fill-rule=\"nonzero\" fill-opacity=\"1\" /><path clip-path=\"url(#clip540)\" d=\"M92.7512 368.363 Q89.1401 368.363 87.3114 371.928 Q85.5058 375.47 85.5058 382.599 Q85.5058 389.706 87.3114 393.271 Q89.1401 396.812 92.7512 396.812 Q96.3854 396.812 98.1909 393.271 Q100.02 389.706 100.02 382.599 Q100.02 375.47 98.1909 371.928 Q96.3854 368.363 92.7512 368.363 M92.7512 364.66 Q98.5613 364.66 101.617 369.266 Q104.696 373.849 104.696 382.599 Q104.696 391.326 101.617 395.933 Q98.5613 400.516 92.7512 400.516 Q86.941 400.516 83.8623 395.933 Q80.8068 391.326 80.8068 382.599 Q80.8068 373.849 83.8623 369.266 Q86.941 364.66 92.7512 364.66 Z\" fill=\"#000000\" fill-rule=\"nonzero\" fill-opacity=\"1\" /><path clip-path=\"url(#clip540)\" d=\"M67.7513 166.171 Q71.1078 166.889 72.9827 169.157 Q74.8809 171.426 74.8809 174.759 Q74.8809 179.875 71.3624 182.676 Q67.8439 185.477 61.3624 185.477 Q59.1865 185.477 56.8717 185.037 Q54.5801 184.62 52.1264 183.764 L52.1264 179.25 Q54.0708 180.384 56.3856 180.963 Q58.7004 181.541 61.2236 181.541 Q65.6217 181.541 67.9133 179.805 Q70.2281 178.069 70.2281 174.759 Q70.2281 171.704 68.0754 169.991 Q65.9457 168.255 62.1263 168.255 L58.0986 168.255 L58.0986 164.412 L62.3115 164.412 Q65.7606 164.412 67.5893 163.046 Q69.418 161.657 69.418 159.065 Q69.418 156.403 67.5198 154.991 Q65.6448 153.556 62.1263 153.556 Q60.205 153.556 58.006 153.972 Q55.8069 154.389 53.168 155.268 L53.168 151.102 Q55.8301 150.361 58.1449 149.991 Q60.4828 149.62 62.543 149.62 Q67.867 149.62 70.9689 152.051 Q74.0707 154.458 74.0707 158.579 Q74.0707 161.449 72.4272 163.44 Q70.7837 165.407 67.7513 166.171 Z\" fill=\"#000000\" fill-rule=\"nonzero\" fill-opacity=\"1\" /><path clip-path=\"url(#clip540)\" d=\"M83.7929 150.245 L102.149 150.245 L102.149 154.181 L88.0753 154.181 L88.0753 162.653 Q89.0938 162.305 90.1123 162.143 Q91.1308 161.958 92.1493 161.958 Q97.9363 161.958 101.316 165.13 Q104.696 168.301 104.696 173.717 Q104.696 179.296 101.223 182.398 Q97.7511 185.477 91.4317 185.477 Q89.2558 185.477 86.9873 185.106 Q84.7419 184.736 82.3346 183.995 L82.3346 179.296 Q84.4179 180.43 86.6401 180.986 Q88.8623 181.541 91.3391 181.541 Q95.3437 181.541 97.6817 179.435 Q100.02 177.329 100.02 173.717 Q100.02 170.106 97.6817 168 Q95.3437 165.893 91.3391 165.893 Q89.4641 165.893 87.5892 166.31 Q85.7373 166.727 83.7929 167.606 L83.7929 150.245 Z\" fill=\"#000000\" fill-rule=\"nonzero\" fill-opacity=\"1\" /><polyline clip-path=\"url(#clip542)\" style=\"stroke:#009af9; stroke-linecap:round; stroke-linejoin:round; stroke-width:4; stroke-opacity:1; fill:none\" points=\"203.301,141.007 283.564,87.9763 363.828,176.26 444.091,311.329 524.355,446.817 604.618,508.794 684.882,596.217 765.145,671.004 845.409,728.922 925.672,1320.88 1005.94,1340.88 1086.2,1339.16 1166.46,1338.74 1246.73,1324.45 1326.99,1316.58 1407.25,1295.29 1487.52,1311.95 1567.78,1323.35 1648.04,1223.67 1728.31,1445.72 1808.57,1431.46 1888.83,1441.46 1969.1,1442.76 2049.36,1443.89 2129.62,1429 2209.89,1421.93 2290.15,1421.98 \"/>\n",
       "<circle clip-path=\"url(#clip542)\" cx=\"845.409\" cy=\"728.922\" r=\"14.4\" fill=\"#e26f46\" fill-rule=\"evenodd\" fill-opacity=\"1\" stroke=\"#000000\" stroke-opacity=\"1\" stroke-width=\"3.2\"/>\n",
       "<circle clip-path=\"url(#clip542)\" cx=\"1567.78\" cy=\"1323.35\" r=\"14.4\" fill=\"#e26f46\" fill-rule=\"evenodd\" fill-opacity=\"1\" stroke=\"#000000\" stroke-opacity=\"1\" stroke-width=\"3.2\"/>\n",
       "<circle clip-path=\"url(#clip542)\" cx=\"2290.15\" cy=\"1421.98\" r=\"14.4\" fill=\"#e26f46\" fill-rule=\"evenodd\" fill-opacity=\"1\" stroke=\"#000000\" stroke-opacity=\"1\" stroke-width=\"3.2\"/>\n",
       "<path clip-path=\"url(#clip540)\" d=\"M1761.61 250.738 L2279.02 250.738 L2279.02 95.2176 L1761.61 95.2176  Z\" fill=\"#ffffff\" fill-rule=\"evenodd\" fill-opacity=\"1\"/>\n",
       "<polyline clip-path=\"url(#clip540)\" style=\"stroke:#000000; stroke-linecap:round; stroke-linejoin:round; stroke-width:4; stroke-opacity:1; fill:none\" points=\"1761.61,250.738 2279.02,250.738 2279.02,95.2176 1761.61,95.2176 1761.61,250.738 \"/>\n",
       "<polyline clip-path=\"url(#clip540)\" style=\"stroke:#009af9; stroke-linecap:round; stroke-linejoin:round; stroke-width:4; stroke-opacity:1; fill:none\" points=\"1786.19,147.058 1933.66,147.058 \"/>\n",
       "<path clip-path=\"url(#clip540)\" d=\"M1958.24 128.319 L1962.5 128.319 L1962.5 164.338 L1958.24 164.338 L1958.24 128.319 Z\" fill=\"#000000\" fill-rule=\"nonzero\" fill-opacity=\"1\" /><path clip-path=\"url(#clip540)\" d=\"M1981.46 141.398 Q1978.03 141.398 1976.04 144.083 Q1974.05 146.745 1974.05 151.398 Q1974.05 156.051 1976.02 158.736 Q1978.01 161.398 1981.46 161.398 Q1984.86 161.398 1986.85 158.713 Q1988.84 156.027 1988.84 151.398 Q1988.84 146.791 1986.85 144.106 Q1984.86 141.398 1981.46 141.398 M1981.46 137.787 Q1987.01 137.787 1990.18 141.398 Q1993.36 145.009 1993.36 151.398 Q1993.36 157.764 1990.18 161.398 Q1987.01 165.009 1981.46 165.009 Q1975.88 165.009 1972.71 161.398 Q1969.56 157.764 1969.56 151.398 Q1969.56 145.009 1972.71 141.398 Q1975.88 137.787 1981.46 137.787 Z\" fill=\"#000000\" fill-rule=\"nonzero\" fill-opacity=\"1\" /><path clip-path=\"url(#clip540)\" d=\"M2016.94 139.176 L2016.94 143.203 Q2015.14 142.277 2013.19 141.815 Q2011.25 141.352 2009.17 141.352 Q2005.99 141.352 2004.4 142.324 Q2002.82 143.296 2002.82 145.24 Q2002.82 146.722 2003.96 147.578 Q2005.09 148.412 2008.52 149.176 L2009.98 149.5 Q2014.51 150.472 2016.41 152.254 Q2018.33 154.014 2018.33 157.185 Q2018.33 160.796 2015.46 162.902 Q2012.61 165.009 2007.61 165.009 Q2005.53 165.009 2003.26 164.592 Q2001.02 164.199 1998.52 163.388 L1998.52 158.99 Q2000.88 160.217 2003.17 160.842 Q2005.46 161.444 2007.71 161.444 Q2010.72 161.444 2012.34 160.426 Q2013.96 159.384 2013.96 157.509 Q2013.96 155.773 2012.78 154.847 Q2011.62 153.921 2007.66 153.064 L2006.18 152.717 Q2002.22 151.884 2000.46 150.171 Q1998.7 148.435 1998.7 145.426 Q1998.7 141.768 2001.3 139.778 Q2003.89 137.787 2008.66 137.787 Q2011.02 137.787 2013.1 138.134 Q2015.18 138.481 2016.94 139.176 Z\" fill=\"#000000\" fill-rule=\"nonzero\" fill-opacity=\"1\" /><path clip-path=\"url(#clip540)\" d=\"M2041.64 139.176 L2041.64 143.203 Q2039.84 142.277 2037.89 141.815 Q2035.95 141.352 2033.86 141.352 Q2030.69 141.352 2029.1 142.324 Q2027.52 143.296 2027.52 145.24 Q2027.52 146.722 2028.66 147.578 Q2029.79 148.412 2033.22 149.176 L2034.67 149.5 Q2039.21 150.472 2041.11 152.254 Q2043.03 154.014 2043.03 157.185 Q2043.03 160.796 2040.16 162.902 Q2037.31 165.009 2032.31 165.009 Q2030.23 165.009 2027.96 164.592 Q2025.72 164.199 2023.22 163.388 L2023.22 158.99 Q2025.58 160.217 2027.87 160.842 Q2030.16 161.444 2032.41 161.444 Q2035.42 161.444 2037.04 160.426 Q2038.66 159.384 2038.66 157.509 Q2038.66 155.773 2037.48 154.847 Q2036.32 153.921 2032.36 153.064 L2030.88 152.717 Q2026.92 151.884 2025.16 150.171 Q2023.4 148.435 2023.4 145.426 Q2023.4 141.768 2025.99 139.778 Q2028.59 137.787 2033.36 137.787 Q2035.72 137.787 2037.8 138.134 Q2039.88 138.481 2041.64 139.176 Z\" fill=\"#000000\" fill-rule=\"nonzero\" fill-opacity=\"1\" /><path clip-path=\"url(#clip540)\" d=\"M2069.51 172.208 L2069.51 175.518 L2044.88 175.518 L2044.88 172.208 L2069.51 172.208 Z\" fill=\"#000000\" fill-rule=\"nonzero\" fill-opacity=\"1\" /><path clip-path=\"url(#clip540)\" d=\"M2092.13 151.398 Q2092.13 146.699 2090.18 144.037 Q2088.26 141.352 2084.88 141.352 Q2081.5 141.352 2079.56 144.037 Q2077.64 146.699 2077.64 151.398 Q2077.64 156.097 2079.56 158.782 Q2081.5 161.444 2084.88 161.444 Q2088.26 161.444 2090.18 158.782 Q2092.13 156.097 2092.13 151.398 M2077.64 142.347 Q2078.98 140.032 2081.02 138.921 Q2083.08 137.787 2085.92 137.787 Q2090.65 137.787 2093.59 141.537 Q2096.55 145.287 2096.55 151.398 Q2096.55 157.509 2093.59 161.259 Q2090.65 165.009 2085.92 165.009 Q2083.08 165.009 2081.02 163.898 Q2078.98 162.763 2077.64 160.449 L2077.64 164.338 L2073.36 164.338 L2073.36 128.319 L2077.64 128.319 L2077.64 142.347 Z\" fill=\"#000000\" fill-rule=\"nonzero\" fill-opacity=\"1\" /><path clip-path=\"url(#clip540)\" d=\"M2115.39 151.305 Q2110.23 151.305 2108.24 152.486 Q2106.25 153.666 2106.25 156.514 Q2106.25 158.782 2107.73 160.125 Q2109.23 161.444 2111.8 161.444 Q2115.35 161.444 2117.48 158.944 Q2119.63 156.421 2119.63 152.254 L2119.63 151.305 L2115.39 151.305 M2123.89 149.546 L2123.89 164.338 L2119.63 164.338 L2119.63 160.402 Q2118.17 162.763 2115.99 163.898 Q2113.82 165.009 2110.67 165.009 Q2106.69 165.009 2104.33 162.787 Q2101.99 160.541 2101.99 156.791 Q2101.99 152.416 2104.91 150.194 Q2107.85 147.972 2113.66 147.972 L2119.63 147.972 L2119.63 147.555 Q2119.63 144.615 2117.68 143.018 Q2115.76 141.398 2112.27 141.398 Q2110.04 141.398 2107.94 141.93 Q2105.83 142.463 2103.89 143.527 L2103.89 139.592 Q2106.23 138.69 2108.42 138.25 Q2110.62 137.787 2112.71 137.787 Q2118.33 137.787 2121.11 140.703 Q2123.89 143.62 2123.89 149.546 Z\" fill=\"#000000\" fill-rule=\"nonzero\" fill-opacity=\"1\" /><path clip-path=\"url(#clip540)\" d=\"M2136.87 131.051 L2136.87 138.412 L2145.65 138.412 L2145.65 141.722 L2136.87 141.722 L2136.87 155.796 Q2136.87 158.967 2137.73 159.87 Q2138.61 160.773 2141.27 160.773 L2145.65 160.773 L2145.65 164.338 L2141.27 164.338 Q2136.34 164.338 2134.47 162.509 Q2132.59 160.657 2132.59 155.796 L2132.59 141.722 L2129.47 141.722 L2129.47 138.412 L2132.59 138.412 L2132.59 131.051 L2136.87 131.051 Z\" fill=\"#000000\" fill-rule=\"nonzero\" fill-opacity=\"1\" /><path clip-path=\"url(#clip540)\" d=\"M2169.91 139.407 L2169.91 143.389 Q2168.1 142.393 2166.27 141.907 Q2164.47 141.398 2162.61 141.398 Q2158.47 141.398 2156.18 144.037 Q2153.89 146.652 2153.89 151.398 Q2153.89 156.143 2156.18 158.782 Q2158.47 161.398 2162.61 161.398 Q2164.47 161.398 2166.27 160.912 Q2168.1 160.402 2169.91 159.407 L2169.91 163.342 Q2168.12 164.176 2166.2 164.592 Q2164.3 165.009 2162.15 165.009 Q2156.29 165.009 2152.85 161.328 Q2149.4 157.648 2149.4 151.398 Q2149.4 145.055 2152.87 141.421 Q2156.36 137.787 2162.43 137.787 Q2164.4 137.787 2166.27 138.203 Q2168.15 138.597 2169.91 139.407 Z\" fill=\"#000000\" fill-rule=\"nonzero\" fill-opacity=\"1\" /><path clip-path=\"url(#clip540)\" d=\"M2198.86 148.689 L2198.86 164.338 L2194.6 164.338 L2194.6 148.828 Q2194.6 145.148 2193.17 143.319 Q2191.73 141.49 2188.86 141.49 Q2185.41 141.49 2183.42 143.69 Q2181.43 145.889 2181.43 149.685 L2181.43 164.338 L2177.15 164.338 L2177.15 128.319 L2181.43 128.319 L2181.43 142.44 Q2182.96 140.102 2185.02 138.944 Q2187.1 137.787 2189.81 137.787 Q2194.28 137.787 2196.57 140.565 Q2198.86 143.319 2198.86 148.689 Z\" fill=\"#000000\" fill-rule=\"nonzero\" fill-opacity=\"1\" /><path clip-path=\"url(#clip540)\" d=\"M2229.53 150.31 L2229.53 152.393 L2209.95 152.393 Q2210.23 156.791 2212.59 159.106 Q2214.97 161.398 2219.21 161.398 Q2221.66 161.398 2223.96 160.796 Q2226.27 160.194 2228.54 158.99 L2228.54 163.018 Q2226.25 163.99 2223.84 164.5 Q2221.43 165.009 2218.96 165.009 Q2212.75 165.009 2209.12 161.398 Q2205.51 157.787 2205.51 151.629 Q2205.51 145.264 2208.93 141.537 Q2212.38 137.787 2218.22 137.787 Q2223.45 137.787 2226.48 141.166 Q2229.53 144.523 2229.53 150.31 M2225.28 149.06 Q2225.23 145.565 2223.31 143.481 Q2221.41 141.398 2218.26 141.398 Q2214.7 141.398 2212.54 143.412 Q2210.41 145.426 2210.09 149.083 L2225.28 149.06 Z\" fill=\"#000000\" fill-rule=\"nonzero\" fill-opacity=\"1\" /><path clip-path=\"url(#clip540)\" d=\"M2253.05 139.176 L2253.05 143.203 Q2251.25 142.277 2249.3 141.815 Q2247.36 141.352 2245.28 141.352 Q2242.1 141.352 2240.51 142.324 Q2238.93 143.296 2238.93 145.24 Q2238.93 146.722 2240.07 147.578 Q2241.2 148.412 2244.63 149.176 L2246.09 149.5 Q2250.62 150.472 2252.52 152.254 Q2254.44 154.014 2254.44 157.185 Q2254.44 160.796 2251.57 162.902 Q2248.72 165.009 2243.72 165.009 Q2241.64 165.009 2239.37 164.592 Q2237.13 164.199 2234.63 163.388 L2234.63 158.99 Q2236.99 160.217 2239.28 160.842 Q2241.57 161.444 2243.82 161.444 Q2246.83 161.444 2248.45 160.426 Q2250.07 159.384 2250.07 157.509 Q2250.07 155.773 2248.89 154.847 Q2247.73 153.921 2243.77 153.064 L2242.29 152.717 Q2238.33 151.884 2236.57 150.171 Q2234.81 148.435 2234.81 145.426 Q2234.81 141.768 2237.41 139.778 Q2240 137.787 2244.77 137.787 Q2247.13 137.787 2249.21 138.134 Q2251.29 138.481 2253.05 139.176 Z\" fill=\"#000000\" fill-rule=\"nonzero\" fill-opacity=\"1\" /><circle clip-path=\"url(#clip540)\" cx=\"1859.93\" cy=\"198.898\" r=\"20.48\" fill=\"#e26f46\" fill-rule=\"evenodd\" fill-opacity=\"1\" stroke=\"#000000\" stroke-opacity=\"1\" stroke-width=\"4.55111\"/>\n",
       "<path clip-path=\"url(#clip540)\" d=\"M1982.27 202.15 L1982.27 204.233 L1962.68 204.233 Q1962.96 208.631 1965.32 210.946 Q1967.71 213.238 1971.94 213.238 Q1974.4 213.238 1976.69 212.636 Q1979 212.034 1981.27 210.83 L1981.27 214.858 Q1978.98 215.83 1976.57 216.34 Q1974.17 216.849 1971.69 216.849 Q1965.49 216.849 1961.85 213.238 Q1958.24 209.627 1958.24 203.469 Q1958.24 197.104 1961.67 193.377 Q1965.11 189.627 1970.95 189.627 Q1976.18 189.627 1979.21 193.006 Q1982.27 196.363 1982.27 202.15 M1978.01 200.9 Q1977.96 197.405 1976.04 195.321 Q1974.14 193.238 1970.99 193.238 Q1967.43 193.238 1965.28 195.252 Q1963.15 197.266 1962.82 200.923 L1978.01 200.9 Z\" fill=\"#000000\" fill-rule=\"nonzero\" fill-opacity=\"1\" /><path clip-path=\"url(#clip540)\" d=\"M1993.38 212.289 L1993.38 226.039 L1989.1 226.039 L1989.1 190.252 L1993.38 190.252 L1993.38 194.187 Q1994.72 191.872 1996.76 190.761 Q1998.82 189.627 2001.67 189.627 Q2006.39 189.627 2009.33 193.377 Q2012.29 197.127 2012.29 203.238 Q2012.29 209.349 2009.33 213.099 Q2006.39 216.849 2001.67 216.849 Q1998.82 216.849 1996.76 215.738 Q1994.72 214.603 1993.38 212.289 M2007.87 203.238 Q2007.87 198.539 2005.92 195.877 Q2004 193.192 2000.62 193.192 Q1997.24 193.192 1995.3 195.877 Q1993.38 198.539 1993.38 203.238 Q1993.38 207.937 1995.3 210.622 Q1997.24 213.284 2000.62 213.284 Q2004 213.284 2005.92 210.622 Q2007.87 207.937 2007.87 203.238 Z\" fill=\"#000000\" fill-rule=\"nonzero\" fill-opacity=\"1\" /><path clip-path=\"url(#clip540)\" d=\"M2029.4 193.238 Q2025.97 193.238 2023.98 195.923 Q2021.99 198.585 2021.99 203.238 Q2021.99 207.891 2023.96 210.576 Q2025.95 213.238 2029.4 213.238 Q2032.8 213.238 2034.79 210.553 Q2036.78 207.867 2036.78 203.238 Q2036.78 198.631 2034.79 195.946 Q2032.8 193.238 2029.4 193.238 M2029.4 189.627 Q2034.95 189.627 2038.12 193.238 Q2041.3 196.849 2041.3 203.238 Q2041.3 209.604 2038.12 213.238 Q2034.95 216.849 2029.4 216.849 Q2023.82 216.849 2020.65 213.238 Q2017.5 209.604 2017.5 203.238 Q2017.5 196.849 2020.65 193.238 Q2023.82 189.627 2029.4 189.627 Z\" fill=\"#000000\" fill-rule=\"nonzero\" fill-opacity=\"1\" /><path clip-path=\"url(#clip540)\" d=\"M2067.01 191.247 L2067.01 195.229 Q2065.21 194.233 2063.38 193.747 Q2061.57 193.238 2059.72 193.238 Q2055.58 193.238 2053.29 195.877 Q2050.99 198.492 2050.99 203.238 Q2050.99 207.983 2053.29 210.622 Q2055.58 213.238 2059.72 213.238 Q2061.57 213.238 2063.38 212.752 Q2065.21 212.242 2067.01 211.247 L2067.01 215.182 Q2065.23 216.016 2063.31 216.432 Q2061.41 216.849 2059.26 216.849 Q2053.4 216.849 2049.95 213.168 Q2046.5 209.488 2046.5 203.238 Q2046.5 196.895 2049.98 193.261 Q2053.47 189.627 2059.54 189.627 Q2061.5 189.627 2063.38 190.043 Q2065.25 190.437 2067.01 191.247 Z\" fill=\"#000000\" fill-rule=\"nonzero\" fill-opacity=\"1\" /><path clip-path=\"url(#clip540)\" d=\"M2095.97 200.529 L2095.97 216.178 L2091.71 216.178 L2091.71 200.668 Q2091.71 196.988 2090.28 195.159 Q2088.84 193.33 2085.97 193.33 Q2082.52 193.33 2080.53 195.53 Q2078.54 197.729 2078.54 201.525 L2078.54 216.178 L2074.26 216.178 L2074.26 180.159 L2078.54 180.159 L2078.54 194.28 Q2080.07 191.942 2082.13 190.784 Q2084.21 189.627 2086.92 189.627 Q2091.39 189.627 2093.68 192.405 Q2095.97 195.159 2095.97 200.529 Z\" fill=\"#000000\" fill-rule=\"nonzero\" fill-opacity=\"1\" /><path clip-path=\"url(#clip540)\" d=\"M2120.99 191.016 L2120.99 195.043 Q2119.19 194.117 2117.24 193.655 Q2115.3 193.192 2113.22 193.192 Q2110.04 193.192 2108.45 194.164 Q2106.87 195.136 2106.87 197.08 Q2106.87 198.562 2108.01 199.418 Q2109.14 200.252 2112.57 201.016 L2114.03 201.34 Q2118.56 202.312 2120.46 204.094 Q2122.38 205.854 2122.38 209.025 Q2122.38 212.636 2119.51 214.742 Q2116.67 216.849 2111.67 216.849 Q2109.58 216.849 2107.31 216.432 Q2105.07 216.039 2102.57 215.228 L2102.57 210.83 Q2104.93 212.057 2107.22 212.682 Q2109.51 213.284 2111.76 213.284 Q2114.77 213.284 2116.39 212.266 Q2118.01 211.224 2118.01 209.349 Q2118.01 207.613 2116.83 206.687 Q2115.67 205.761 2111.71 204.904 L2110.23 204.557 Q2106.27 203.724 2104.51 202.011 Q2102.75 200.275 2102.75 197.266 Q2102.75 193.608 2105.35 191.618 Q2107.94 189.627 2112.71 189.627 Q2115.07 189.627 2117.15 189.974 Q2119.23 190.321 2120.99 191.016 Z\" fill=\"#000000\" fill-rule=\"nonzero\" fill-opacity=\"1\" /></svg>\n"
      ],
      "text/html": [
       "<?xml version=\"1.0\" encoding=\"utf-8\"?>\n",
       "<svg xmlns=\"http://www.w3.org/2000/svg\" xmlns:xlink=\"http://www.w3.org/1999/xlink\" width=\"600\" height=\"400\" viewBox=\"0 0 2400 1600\">\n",
       "<defs>\n",
       "  <clipPath id=\"clip590\">\n",
       "    <rect x=\"0\" y=\"0\" width=\"2400\" height=\"1600\"/>\n",
       "  </clipPath>\n",
       "</defs>\n",
       "<path clip-path=\"url(#clip590)\" d=\"M0 1600 L2400 1600 L2400 0 L0 0  Z\" fill=\"#ffffff\" fill-rule=\"evenodd\" fill-opacity=\"1\"/>\n",
       "<defs>\n",
       "  <clipPath id=\"clip591\">\n",
       "    <rect x=\"480\" y=\"0\" width=\"1681\" height=\"1600\"/>\n",
       "  </clipPath>\n",
       "</defs>\n",
       "<path clip-path=\"url(#clip590)\" d=\"M140.696 1486.45 L2352.76 1486.45 L2352.76 47.2441 L140.696 47.2441  Z\" fill=\"#ffffff\" fill-rule=\"evenodd\" fill-opacity=\"1\"/>\n",
       "<defs>\n",
       "  <clipPath id=\"clip592\">\n",
       "    <rect x=\"140\" y=\"47\" width=\"2213\" height=\"1440\"/>\n",
       "  </clipPath>\n",
       "</defs>\n",
       "<polyline clip-path=\"url(#clip592)\" style=\"stroke:#000000; stroke-linecap:round; stroke-linejoin:round; stroke-width:2; stroke-opacity:0.1; fill:none\" points=\"524.355,1486.45 524.355,47.2441 \"/>\n",
       "<polyline clip-path=\"url(#clip592)\" style=\"stroke:#000000; stroke-linecap:round; stroke-linejoin:round; stroke-width:2; stroke-opacity:0.1; fill:none\" points=\"925.672,1486.45 925.672,47.2441 \"/>\n",
       "<polyline clip-path=\"url(#clip592)\" style=\"stroke:#000000; stroke-linecap:round; stroke-linejoin:round; stroke-width:2; stroke-opacity:0.1; fill:none\" points=\"1326.99,1486.45 1326.99,47.2441 \"/>\n",
       "<polyline clip-path=\"url(#clip592)\" style=\"stroke:#000000; stroke-linecap:round; stroke-linejoin:round; stroke-width:2; stroke-opacity:0.1; fill:none\" points=\"1728.31,1486.45 1728.31,47.2441 \"/>\n",
       "<polyline clip-path=\"url(#clip592)\" style=\"stroke:#000000; stroke-linecap:round; stroke-linejoin:round; stroke-width:2; stroke-opacity:0.1; fill:none\" points=\"2129.62,1486.45 2129.62,47.2441 \"/>\n",
       "<polyline clip-path=\"url(#clip590)\" style=\"stroke:#000000; stroke-linecap:round; stroke-linejoin:round; stroke-width:4; stroke-opacity:1; fill:none\" points=\"140.696,1486.45 2352.76,1486.45 \"/>\n",
       "<polyline clip-path=\"url(#clip590)\" style=\"stroke:#000000; stroke-linecap:round; stroke-linejoin:round; stroke-width:4; stroke-opacity:1; fill:none\" points=\"524.355,1486.45 524.355,1467.55 \"/>\n",
       "<polyline clip-path=\"url(#clip590)\" style=\"stroke:#000000; stroke-linecap:round; stroke-linejoin:round; stroke-width:4; stroke-opacity:1; fill:none\" points=\"925.672,1486.45 925.672,1467.55 \"/>\n",
       "<polyline clip-path=\"url(#clip590)\" style=\"stroke:#000000; stroke-linecap:round; stroke-linejoin:round; stroke-width:4; stroke-opacity:1; fill:none\" points=\"1326.99,1486.45 1326.99,1467.55 \"/>\n",
       "<polyline clip-path=\"url(#clip590)\" style=\"stroke:#000000; stroke-linecap:round; stroke-linejoin:round; stroke-width:4; stroke-opacity:1; fill:none\" points=\"1728.31,1486.45 1728.31,1467.55 \"/>\n",
       "<polyline clip-path=\"url(#clip590)\" style=\"stroke:#000000; stroke-linecap:round; stroke-linejoin:round; stroke-width:4; stroke-opacity:1; fill:none\" points=\"2129.62,1486.45 2129.62,1467.55 \"/>\n",
       "<path clip-path=\"url(#clip590)\" d=\"M514.633 1514.29 L532.989 1514.29 L532.989 1518.22 L518.915 1518.22 L518.915 1526.7 Q519.934 1526.35 520.952 1526.19 Q521.971 1526 522.989 1526 Q528.776 1526 532.156 1529.17 Q535.535 1532.34 535.535 1537.76 Q535.535 1543.34 532.063 1546.44 Q528.591 1549.52 522.271 1549.52 Q520.096 1549.52 517.827 1549.15 Q515.582 1548.78 513.174 1548.04 L513.174 1543.34 Q515.258 1544.47 517.48 1545.03 Q519.702 1545.58 522.179 1545.58 Q526.183 1545.58 528.521 1543.48 Q530.859 1541.37 530.859 1537.76 Q530.859 1534.15 528.521 1532.04 Q526.183 1529.94 522.179 1529.94 Q520.304 1529.94 518.429 1530.35 Q516.577 1530.77 514.633 1531.65 L514.633 1514.29 Z\" fill=\"#000000\" fill-rule=\"nonzero\" fill-opacity=\"1\" /><path clip-path=\"url(#clip590)\" d=\"M900.36 1544.91 L907.998 1544.91 L907.998 1518.55 L899.688 1520.21 L899.688 1515.95 L907.952 1514.29 L912.628 1514.29 L912.628 1544.91 L920.267 1544.91 L920.267 1548.85 L900.36 1548.85 L900.36 1544.91 Z\" fill=\"#000000\" fill-rule=\"nonzero\" fill-opacity=\"1\" /><path clip-path=\"url(#clip590)\" d=\"M939.711 1517.37 Q936.1 1517.37 934.271 1520.93 Q932.466 1524.47 932.466 1531.6 Q932.466 1538.71 934.271 1542.27 Q936.1 1545.82 939.711 1545.82 Q943.345 1545.82 945.151 1542.27 Q946.98 1538.71 946.98 1531.6 Q946.98 1524.47 945.151 1520.93 Q943.345 1517.37 939.711 1517.37 M939.711 1513.66 Q945.521 1513.66 948.577 1518.27 Q951.656 1522.85 951.656 1531.6 Q951.656 1540.33 948.577 1544.94 Q945.521 1549.52 939.711 1549.52 Q933.901 1549.52 930.822 1544.94 Q927.767 1540.33 927.767 1531.6 Q927.767 1522.85 930.822 1518.27 Q933.901 1513.66 939.711 1513.66 Z\" fill=\"#000000\" fill-rule=\"nonzero\" fill-opacity=\"1\" /><path clip-path=\"url(#clip590)\" d=\"M1302.17 1544.91 L1309.81 1544.91 L1309.81 1518.55 L1301.5 1520.21 L1301.5 1515.95 L1309.77 1514.29 L1314.44 1514.29 L1314.44 1544.91 L1322.08 1544.91 L1322.08 1548.85 L1302.17 1548.85 L1302.17 1544.91 Z\" fill=\"#000000\" fill-rule=\"nonzero\" fill-opacity=\"1\" /><path clip-path=\"url(#clip590)\" d=\"M1331.57 1514.29 L1349.93 1514.29 L1349.93 1518.22 L1335.85 1518.22 L1335.85 1526.7 Q1336.87 1526.35 1337.89 1526.19 Q1338.91 1526 1339.93 1526 Q1345.72 1526 1349.1 1529.17 Q1352.48 1532.34 1352.48 1537.76 Q1352.48 1543.34 1349 1546.44 Q1345.53 1549.52 1339.21 1549.52 Q1337.04 1549.52 1334.77 1549.15 Q1332.52 1548.78 1330.11 1548.04 L1330.11 1543.34 Q1332.2 1544.47 1334.42 1545.03 Q1336.64 1545.58 1339.12 1545.58 Q1343.12 1545.58 1345.46 1543.48 Q1347.8 1541.37 1347.8 1537.76 Q1347.8 1534.15 1345.46 1532.04 Q1343.12 1529.94 1339.12 1529.94 Q1337.24 1529.94 1335.37 1530.35 Q1333.52 1530.77 1331.57 1531.65 L1331.57 1514.29 Z\" fill=\"#000000\" fill-rule=\"nonzero\" fill-opacity=\"1\" /><path clip-path=\"url(#clip590)\" d=\"M1707.08 1544.91 L1723.4 1544.91 L1723.4 1548.85 L1701.45 1548.85 L1701.45 1544.91 Q1704.12 1542.16 1708.7 1537.53 Q1713.31 1532.88 1714.49 1531.53 Q1716.73 1529.01 1717.61 1527.27 Q1718.51 1525.51 1718.51 1523.82 Q1718.51 1521.07 1716.57 1519.33 Q1714.65 1517.6 1711.55 1517.6 Q1709.35 1517.6 1706.89 1518.36 Q1704.46 1519.13 1701.69 1520.68 L1701.69 1515.95 Q1704.51 1514.82 1706.96 1514.24 Q1709.42 1513.66 1711.45 1513.66 Q1716.82 1513.66 1720.02 1516.35 Q1723.21 1519.03 1723.21 1523.52 Q1723.21 1525.65 1722.4 1527.57 Q1721.62 1529.47 1719.51 1532.07 Q1718.93 1532.74 1715.83 1535.95 Q1712.73 1539.15 1707.08 1544.91 Z\" fill=\"#000000\" fill-rule=\"nonzero\" fill-opacity=\"1\" /><path clip-path=\"url(#clip590)\" d=\"M1743.21 1517.37 Q1739.6 1517.37 1737.77 1520.93 Q1735.97 1524.47 1735.97 1531.6 Q1735.97 1538.71 1737.77 1542.27 Q1739.6 1545.82 1743.21 1545.82 Q1746.85 1545.82 1748.65 1542.27 Q1750.48 1538.71 1750.48 1531.6 Q1750.48 1524.47 1748.65 1520.93 Q1746.85 1517.37 1743.21 1517.37 M1743.21 1513.66 Q1749.02 1513.66 1752.08 1518.27 Q1755.16 1522.85 1755.16 1531.6 Q1755.16 1540.33 1752.08 1544.94 Q1749.02 1549.52 1743.21 1549.52 Q1737.4 1549.52 1734.32 1544.94 Q1731.27 1540.33 1731.27 1531.6 Q1731.27 1522.85 1734.32 1518.27 Q1737.4 1513.66 1743.21 1513.66 Z\" fill=\"#000000\" fill-rule=\"nonzero\" fill-opacity=\"1\" /><path clip-path=\"url(#clip590)\" d=\"M2108.89 1544.91 L2125.21 1544.91 L2125.21 1548.85 L2103.27 1548.85 L2103.27 1544.91 Q2105.93 1542.16 2110.51 1537.53 Q2115.12 1532.88 2116.3 1531.53 Q2118.55 1529.01 2119.43 1527.27 Q2120.33 1525.51 2120.33 1523.82 Q2120.33 1521.07 2118.39 1519.33 Q2116.46 1517.6 2113.36 1517.6 Q2111.16 1517.6 2108.71 1518.36 Q2106.28 1519.13 2103.5 1520.68 L2103.5 1515.95 Q2106.33 1514.82 2108.78 1514.24 Q2111.23 1513.66 2113.27 1513.66 Q2118.64 1513.66 2121.83 1516.35 Q2125.03 1519.03 2125.03 1523.52 Q2125.03 1525.65 2124.22 1527.57 Q2123.43 1529.47 2121.32 1532.07 Q2120.75 1532.74 2117.64 1535.95 Q2114.54 1539.15 2108.89 1544.91 Z\" fill=\"#000000\" fill-rule=\"nonzero\" fill-opacity=\"1\" /><path clip-path=\"url(#clip590)\" d=\"M2135.07 1514.29 L2153.43 1514.29 L2153.43 1518.22 L2139.36 1518.22 L2139.36 1526.7 Q2140.38 1526.35 2141.39 1526.19 Q2142.41 1526 2143.43 1526 Q2149.22 1526 2152.6 1529.17 Q2155.98 1532.34 2155.98 1537.76 Q2155.98 1543.34 2152.51 1546.44 Q2149.03 1549.52 2142.71 1549.52 Q2140.54 1549.52 2138.27 1549.15 Q2136.02 1548.78 2133.62 1548.04 L2133.62 1543.34 Q2135.7 1544.47 2137.92 1545.03 Q2140.14 1545.58 2142.62 1545.58 Q2146.63 1545.58 2148.96 1543.48 Q2151.3 1541.37 2151.3 1537.76 Q2151.3 1534.15 2148.96 1532.04 Q2146.63 1529.94 2142.62 1529.94 Q2140.75 1529.94 2138.87 1530.35 Q2137.02 1530.77 2135.07 1531.65 L2135.07 1514.29 Z\" fill=\"#000000\" fill-rule=\"nonzero\" fill-opacity=\"1\" /><polyline clip-path=\"url(#clip592)\" style=\"stroke:#000000; stroke-linecap:round; stroke-linejoin:round; stroke-width:2; stroke-opacity:0.1; fill:none\" points=\"140.696,1457.76 2352.76,1457.76 \"/>\n",
       "<polyline clip-path=\"url(#clip592)\" style=\"stroke:#000000; stroke-linecap:round; stroke-linejoin:round; stroke-width:2; stroke-opacity:0.1; fill:none\" points=\"140.696,1242.72 2352.76,1242.72 \"/>\n",
       "<polyline clip-path=\"url(#clip592)\" style=\"stroke:#000000; stroke-linecap:round; stroke-linejoin:round; stroke-width:2; stroke-opacity:0.1; fill:none\" points=\"140.696,1027.68 2352.76,1027.68 \"/>\n",
       "<polyline clip-path=\"url(#clip592)\" style=\"stroke:#000000; stroke-linecap:round; stroke-linejoin:round; stroke-width:2; stroke-opacity:0.1; fill:none\" points=\"140.696,812.643 2352.76,812.643 \"/>\n",
       "<polyline clip-path=\"url(#clip592)\" style=\"stroke:#000000; stroke-linecap:round; stroke-linejoin:round; stroke-width:2; stroke-opacity:0.1; fill:none\" points=\"140.696,597.604 2352.76,597.604 \"/>\n",
       "<polyline clip-path=\"url(#clip592)\" style=\"stroke:#000000; stroke-linecap:round; stroke-linejoin:round; stroke-width:2; stroke-opacity:0.1; fill:none\" points=\"140.696,382.565 2352.76,382.565 \"/>\n",
       "<polyline clip-path=\"url(#clip592)\" style=\"stroke:#000000; stroke-linecap:round; stroke-linejoin:round; stroke-width:2; stroke-opacity:0.1; fill:none\" points=\"140.696,167.525 2352.76,167.525 \"/>\n",
       "<polyline clip-path=\"url(#clip590)\" style=\"stroke:#000000; stroke-linecap:round; stroke-linejoin:round; stroke-width:4; stroke-opacity:1; fill:none\" points=\"140.696,1486.45 140.696,47.2441 \"/>\n",
       "<polyline clip-path=\"url(#clip590)\" style=\"stroke:#000000; stroke-linecap:round; stroke-linejoin:round; stroke-width:4; stroke-opacity:1; fill:none\" points=\"140.696,1457.76 159.593,1457.76 \"/>\n",
       "<polyline clip-path=\"url(#clip590)\" style=\"stroke:#000000; stroke-linecap:round; stroke-linejoin:round; stroke-width:4; stroke-opacity:1; fill:none\" points=\"140.696,1242.72 159.593,1242.72 \"/>\n",
       "<polyline clip-path=\"url(#clip590)\" style=\"stroke:#000000; stroke-linecap:round; stroke-linejoin:round; stroke-width:4; stroke-opacity:1; fill:none\" points=\"140.696,1027.68 159.593,1027.68 \"/>\n",
       "<polyline clip-path=\"url(#clip590)\" style=\"stroke:#000000; stroke-linecap:round; stroke-linejoin:round; stroke-width:4; stroke-opacity:1; fill:none\" points=\"140.696,812.643 159.593,812.643 \"/>\n",
       "<polyline clip-path=\"url(#clip590)\" style=\"stroke:#000000; stroke-linecap:round; stroke-linejoin:round; stroke-width:4; stroke-opacity:1; fill:none\" points=\"140.696,597.604 159.593,597.604 \"/>\n",
       "<polyline clip-path=\"url(#clip590)\" style=\"stroke:#000000; stroke-linecap:round; stroke-linejoin:round; stroke-width:4; stroke-opacity:1; fill:none\" points=\"140.696,382.565 159.593,382.565 \"/>\n",
       "<polyline clip-path=\"url(#clip590)\" style=\"stroke:#000000; stroke-linecap:round; stroke-linejoin:round; stroke-width:4; stroke-opacity:1; fill:none\" points=\"140.696,167.525 159.593,167.525 \"/>\n",
       "<path clip-path=\"url(#clip590)\" d=\"M83.7929 1440.48 L102.149 1440.48 L102.149 1444.42 L88.0753 1444.42 L88.0753 1452.89 Q89.0938 1452.54 90.1123 1452.38 Q91.1308 1452.19 92.1493 1452.19 Q97.9363 1452.19 101.316 1455.36 Q104.696 1458.54 104.696 1463.95 Q104.696 1469.53 101.223 1472.63 Q97.7511 1475.71 91.4317 1475.71 Q89.2558 1475.71 86.9873 1475.34 Q84.7419 1474.97 82.3346 1474.23 L82.3346 1469.53 Q84.4179 1470.67 86.6401 1471.22 Q88.8623 1471.78 91.3391 1471.78 Q95.3437 1471.78 97.6817 1469.67 Q100.02 1467.56 100.02 1463.95 Q100.02 1460.34 97.6817 1458.24 Q95.3437 1456.13 91.3391 1456.13 Q89.4641 1456.13 87.5892 1456.55 Q85.7373 1456.96 83.7929 1457.84 L83.7929 1440.48 Z\" fill=\"#000000\" fill-rule=\"nonzero\" fill-opacity=\"1\" /><path clip-path=\"url(#clip590)\" d=\"M53.3995 1256.07 L61.0384 1256.07 L61.0384 1229.7 L52.7282 1231.37 L52.7282 1227.11 L60.9921 1225.44 L65.668 1225.44 L65.668 1256.07 L73.3068 1256.07 L73.3068 1260 L53.3995 1260 L53.3995 1256.07 Z\" fill=\"#000000\" fill-rule=\"nonzero\" fill-opacity=\"1\" /><path clip-path=\"url(#clip590)\" d=\"M92.7512 1228.52 Q89.1401 1228.52 87.3114 1232.08 Q85.5058 1235.63 85.5058 1242.76 Q85.5058 1249.86 87.3114 1253.43 Q89.1401 1256.97 92.7512 1256.97 Q96.3854 1256.97 98.1909 1253.43 Q100.02 1249.86 100.02 1242.76 Q100.02 1235.63 98.1909 1232.08 Q96.3854 1228.52 92.7512 1228.52 M92.7512 1224.82 Q98.5613 1224.82 101.617 1229.42 Q104.696 1234.01 104.696 1242.76 Q104.696 1251.48 101.617 1256.09 Q98.5613 1260.67 92.7512 1260.67 Q86.941 1260.67 83.8623 1256.09 Q80.8068 1251.48 80.8068 1242.76 Q80.8068 1234.01 83.8623 1229.42 Q86.941 1224.82 92.7512 1224.82 Z\" fill=\"#000000\" fill-rule=\"nonzero\" fill-opacity=\"1\" /><path clip-path=\"url(#clip590)\" d=\"M54.3949 1041.03 L62.0337 1041.03 L62.0337 1014.66 L53.7236 1016.33 L53.7236 1012.07 L61.9874 1010.4 L66.6633 1010.4 L66.6633 1041.03 L74.3022 1041.03 L74.3022 1044.96 L54.3949 1044.96 L54.3949 1041.03 Z\" fill=\"#000000\" fill-rule=\"nonzero\" fill-opacity=\"1\" /><path clip-path=\"url(#clip590)\" d=\"M83.7929 1010.4 L102.149 1010.4 L102.149 1014.34 L88.0753 1014.34 L88.0753 1022.81 Q89.0938 1022.46 90.1123 1022.3 Q91.1308 1022.12 92.1493 1022.12 Q97.9363 1022.12 101.316 1025.29 Q104.696 1028.46 104.696 1033.87 Q104.696 1039.45 101.223 1042.55 Q97.7511 1045.63 91.4317 1045.63 Q89.2558 1045.63 86.9873 1045.26 Q84.7419 1044.89 82.3346 1044.15 L82.3346 1039.45 Q84.4179 1040.59 86.6401 1041.14 Q88.8623 1041.7 91.3391 1041.7 Q95.3437 1041.7 97.6817 1039.59 Q100.02 1037.49 100.02 1033.87 Q100.02 1030.26 97.6817 1028.16 Q95.3437 1026.05 91.3391 1026.05 Q89.4641 1026.05 87.5892 1026.47 Q85.7373 1026.88 83.7929 1027.76 L83.7929 1010.4 Z\" fill=\"#000000\" fill-rule=\"nonzero\" fill-opacity=\"1\" /><path clip-path=\"url(#clip590)\" d=\"M56.6171 825.988 L72.9365 825.988 L72.9365 829.923 L50.9921 829.923 L50.9921 825.988 Q53.6541 823.233 58.2375 818.604 Q62.8439 813.951 64.0245 812.608 Q66.2698 810.085 67.1494 808.349 Q68.0522 806.59 68.0522 804.9 Q68.0522 802.145 66.1078 800.409 Q64.1865 798.673 61.0847 798.673 Q58.8856 798.673 56.4319 799.437 Q54.0014 800.201 51.2236 801.752 L51.2236 797.03 Q54.0477 795.895 56.5014 795.317 Q58.955 794.738 60.9921 794.738 Q66.3624 794.738 69.5568 797.423 Q72.7513 800.108 72.7513 804.599 Q72.7513 806.729 71.9411 808.65 Q71.1541 810.548 69.0476 813.141 Q68.4689 813.812 65.367 817.029 Q62.2652 820.224 56.6171 825.988 Z\" fill=\"#000000\" fill-rule=\"nonzero\" fill-opacity=\"1\" /><path clip-path=\"url(#clip590)\" d=\"M92.7512 798.442 Q89.1401 798.442 87.3114 802.006 Q85.5058 805.548 85.5058 812.678 Q85.5058 819.784 87.3114 823.349 Q89.1401 826.891 92.7512 826.891 Q96.3854 826.891 98.1909 823.349 Q100.02 819.784 100.02 812.678 Q100.02 805.548 98.1909 802.006 Q96.3854 798.442 92.7512 798.442 M92.7512 794.738 Q98.5613 794.738 101.617 799.344 Q104.696 803.928 104.696 812.678 Q104.696 821.404 101.617 826.011 Q98.5613 830.594 92.7512 830.594 Q86.941 830.594 83.8623 826.011 Q80.8068 821.404 80.8068 812.678 Q80.8068 803.928 83.8623 799.344 Q86.941 794.738 92.7512 794.738 Z\" fill=\"#000000\" fill-rule=\"nonzero\" fill-opacity=\"1\" /><path clip-path=\"url(#clip590)\" d=\"M57.6125 610.949 L73.9318 610.949 L73.9318 614.884 L51.9875 614.884 L51.9875 610.949 Q54.6495 608.194 59.2328 603.564 Q63.8393 598.912 65.0198 597.569 Q67.2652 595.046 68.1448 593.31 Q69.0476 591.551 69.0476 589.861 Q69.0476 587.106 67.1032 585.37 Q65.1819 583.634 62.08 583.634 Q59.881 583.634 57.4273 584.398 Q54.9967 585.162 52.219 586.713 L52.219 581.99 Q55.043 580.856 57.4967 580.277 Q59.9504 579.699 61.9874 579.699 Q67.3578 579.699 70.5522 582.384 Q73.7466 585.069 73.7466 589.56 Q73.7466 591.689 72.9365 593.611 Q72.1494 595.509 70.0429 598.101 Q69.4642 598.773 66.3624 601.99 Q63.2606 605.185 57.6125 610.949 Z\" fill=\"#000000\" fill-rule=\"nonzero\" fill-opacity=\"1\" /><path clip-path=\"url(#clip590)\" d=\"M83.7929 580.324 L102.149 580.324 L102.149 584.259 L88.0753 584.259 L88.0753 592.731 Q89.0938 592.384 90.1123 592.222 Q91.1308 592.037 92.1493 592.037 Q97.9363 592.037 101.316 595.208 Q104.696 598.379 104.696 603.796 Q104.696 609.375 101.223 612.476 Q97.7511 615.555 91.4317 615.555 Q89.2558 615.555 86.9873 615.185 Q84.7419 614.814 82.3346 614.074 L82.3346 609.375 Q84.4179 610.509 86.6401 611.064 Q88.8623 611.62 91.3391 611.62 Q95.3437 611.62 97.6817 609.513 Q100.02 607.407 100.02 603.796 Q100.02 600.185 97.6817 598.078 Q95.3437 595.972 91.3391 595.972 Q89.4641 595.972 87.5892 596.388 Q85.7373 596.805 83.7929 597.685 L83.7929 580.324 Z\" fill=\"#000000\" fill-rule=\"nonzero\" fill-opacity=\"1\" /><path clip-path=\"url(#clip590)\" d=\"M66.7559 381.21 Q70.1124 381.928 71.9874 384.196 Q73.8855 386.465 73.8855 389.798 Q73.8855 394.914 70.367 397.715 Q66.8485 400.516 60.3671 400.516 Q58.1912 400.516 55.8764 400.076 Q53.5847 399.659 51.131 398.803 L51.131 394.289 Q53.0754 395.423 55.3903 396.002 Q57.7051 396.581 60.2282 396.581 Q64.6263 396.581 66.918 394.845 Q69.2328 393.108 69.2328 389.798 Q69.2328 386.743 67.08 385.03 Q64.9504 383.294 61.131 383.294 L57.1032 383.294 L57.1032 379.451 L61.3161 379.451 Q64.7652 379.451 66.5939 378.085 Q68.4226 376.697 68.4226 374.104 Q68.4226 371.442 66.5245 370.03 Q64.6495 368.595 61.131 368.595 Q59.2097 368.595 57.0106 369.011 Q54.8115 369.428 52.1727 370.308 L52.1727 366.141 Q54.8347 365.4 57.1495 365.03 Q59.4875 364.66 61.5476 364.66 Q66.8717 364.66 69.9735 367.09 Q73.0753 369.497 73.0753 373.618 Q73.0753 376.488 71.4318 378.479 Q69.7883 380.447 66.7559 381.21 Z\" fill=\"#000000\" fill-rule=\"nonzero\" fill-opacity=\"1\" /><path clip-path=\"url(#clip590)\" d=\"M92.7512 368.363 Q89.1401 368.363 87.3114 371.928 Q85.5058 375.47 85.5058 382.599 Q85.5058 389.706 87.3114 393.271 Q89.1401 396.812 92.7512 396.812 Q96.3854 396.812 98.1909 393.271 Q100.02 389.706 100.02 382.599 Q100.02 375.47 98.1909 371.928 Q96.3854 368.363 92.7512 368.363 M92.7512 364.66 Q98.5613 364.66 101.617 369.266 Q104.696 373.849 104.696 382.599 Q104.696 391.326 101.617 395.933 Q98.5613 400.516 92.7512 400.516 Q86.941 400.516 83.8623 395.933 Q80.8068 391.326 80.8068 382.599 Q80.8068 373.849 83.8623 369.266 Q86.941 364.66 92.7512 364.66 Z\" fill=\"#000000\" fill-rule=\"nonzero\" fill-opacity=\"1\" /><path clip-path=\"url(#clip590)\" d=\"M67.7513 166.171 Q71.1078 166.889 72.9827 169.157 Q74.8809 171.426 74.8809 174.759 Q74.8809 179.875 71.3624 182.676 Q67.8439 185.477 61.3624 185.477 Q59.1865 185.477 56.8717 185.037 Q54.5801 184.62 52.1264 183.764 L52.1264 179.25 Q54.0708 180.384 56.3856 180.963 Q58.7004 181.541 61.2236 181.541 Q65.6217 181.541 67.9133 179.805 Q70.2281 178.069 70.2281 174.759 Q70.2281 171.704 68.0754 169.991 Q65.9457 168.255 62.1263 168.255 L58.0986 168.255 L58.0986 164.412 L62.3115 164.412 Q65.7606 164.412 67.5893 163.046 Q69.418 161.657 69.418 159.065 Q69.418 156.403 67.5198 154.991 Q65.6448 153.556 62.1263 153.556 Q60.205 153.556 58.006 153.972 Q55.8069 154.389 53.168 155.268 L53.168 151.102 Q55.8301 150.361 58.1449 149.991 Q60.4828 149.62 62.543 149.62 Q67.867 149.62 70.9689 152.051 Q74.0707 154.458 74.0707 158.579 Q74.0707 161.449 72.4272 163.44 Q70.7837 165.407 67.7513 166.171 Z\" fill=\"#000000\" fill-rule=\"nonzero\" fill-opacity=\"1\" /><path clip-path=\"url(#clip590)\" d=\"M83.7929 150.245 L102.149 150.245 L102.149 154.181 L88.0753 154.181 L88.0753 162.653 Q89.0938 162.305 90.1123 162.143 Q91.1308 161.958 92.1493 161.958 Q97.9363 161.958 101.316 165.13 Q104.696 168.301 104.696 173.717 Q104.696 179.296 101.223 182.398 Q97.7511 185.477 91.4317 185.477 Q89.2558 185.477 86.9873 185.106 Q84.7419 184.736 82.3346 183.995 L82.3346 179.296 Q84.4179 180.43 86.6401 180.986 Q88.8623 181.541 91.3391 181.541 Q95.3437 181.541 97.6817 179.435 Q100.02 177.329 100.02 173.717 Q100.02 170.106 97.6817 168 Q95.3437 165.893 91.3391 165.893 Q89.4641 165.893 87.5892 166.31 Q85.7373 166.727 83.7929 167.606 L83.7929 150.245 Z\" fill=\"#000000\" fill-rule=\"nonzero\" fill-opacity=\"1\" /><polyline clip-path=\"url(#clip592)\" style=\"stroke:#009af9; stroke-linecap:round; stroke-linejoin:round; stroke-width:4; stroke-opacity:1; fill:none\" points=\"203.301,141.007 283.564,87.9763 363.828,176.26 444.091,311.329 524.355,446.817 604.618,508.794 684.882,596.217 765.145,671.004 845.409,728.922 925.672,1320.88 1005.94,1340.88 1086.2,1339.16 1166.46,1338.74 1246.73,1324.45 1326.99,1316.58 1407.25,1295.29 1487.52,1311.95 1567.78,1323.35 1648.04,1223.67 1728.31,1445.72 1808.57,1431.46 1888.83,1441.46 1969.1,1442.76 2049.36,1443.89 2129.62,1429 2209.89,1421.93 2290.15,1421.98 \"/>\n",
       "<circle clip-path=\"url(#clip592)\" cx=\"845.409\" cy=\"728.922\" r=\"14.4\" fill=\"#e26f46\" fill-rule=\"evenodd\" fill-opacity=\"1\" stroke=\"#000000\" stroke-opacity=\"1\" stroke-width=\"3.2\"/>\n",
       "<circle clip-path=\"url(#clip592)\" cx=\"1567.78\" cy=\"1323.35\" r=\"14.4\" fill=\"#e26f46\" fill-rule=\"evenodd\" fill-opacity=\"1\" stroke=\"#000000\" stroke-opacity=\"1\" stroke-width=\"3.2\"/>\n",
       "<circle clip-path=\"url(#clip592)\" cx=\"2290.15\" cy=\"1421.98\" r=\"14.4\" fill=\"#e26f46\" fill-rule=\"evenodd\" fill-opacity=\"1\" stroke=\"#000000\" stroke-opacity=\"1\" stroke-width=\"3.2\"/>\n",
       "<path clip-path=\"url(#clip590)\" d=\"M1761.61 250.738 L2279.02 250.738 L2279.02 95.2176 L1761.61 95.2176  Z\" fill=\"#ffffff\" fill-rule=\"evenodd\" fill-opacity=\"1\"/>\n",
       "<polyline clip-path=\"url(#clip590)\" style=\"stroke:#000000; stroke-linecap:round; stroke-linejoin:round; stroke-width:4; stroke-opacity:1; fill:none\" points=\"1761.61,250.738 2279.02,250.738 2279.02,95.2176 1761.61,95.2176 1761.61,250.738 \"/>\n",
       "<polyline clip-path=\"url(#clip590)\" style=\"stroke:#009af9; stroke-linecap:round; stroke-linejoin:round; stroke-width:4; stroke-opacity:1; fill:none\" points=\"1786.19,147.058 1933.66,147.058 \"/>\n",
       "<path clip-path=\"url(#clip590)\" d=\"M1958.24 128.319 L1962.5 128.319 L1962.5 164.338 L1958.24 164.338 L1958.24 128.319 Z\" fill=\"#000000\" fill-rule=\"nonzero\" fill-opacity=\"1\" /><path clip-path=\"url(#clip590)\" d=\"M1981.46 141.398 Q1978.03 141.398 1976.04 144.083 Q1974.05 146.745 1974.05 151.398 Q1974.05 156.051 1976.02 158.736 Q1978.01 161.398 1981.46 161.398 Q1984.86 161.398 1986.85 158.713 Q1988.84 156.027 1988.84 151.398 Q1988.84 146.791 1986.85 144.106 Q1984.86 141.398 1981.46 141.398 M1981.46 137.787 Q1987.01 137.787 1990.18 141.398 Q1993.36 145.009 1993.36 151.398 Q1993.36 157.764 1990.18 161.398 Q1987.01 165.009 1981.46 165.009 Q1975.88 165.009 1972.71 161.398 Q1969.56 157.764 1969.56 151.398 Q1969.56 145.009 1972.71 141.398 Q1975.88 137.787 1981.46 137.787 Z\" fill=\"#000000\" fill-rule=\"nonzero\" fill-opacity=\"1\" /><path clip-path=\"url(#clip590)\" d=\"M2016.94 139.176 L2016.94 143.203 Q2015.14 142.277 2013.19 141.815 Q2011.25 141.352 2009.17 141.352 Q2005.99 141.352 2004.4 142.324 Q2002.82 143.296 2002.82 145.24 Q2002.82 146.722 2003.96 147.578 Q2005.09 148.412 2008.52 149.176 L2009.98 149.5 Q2014.51 150.472 2016.41 152.254 Q2018.33 154.014 2018.33 157.185 Q2018.33 160.796 2015.46 162.902 Q2012.61 165.009 2007.61 165.009 Q2005.53 165.009 2003.26 164.592 Q2001.02 164.199 1998.52 163.388 L1998.52 158.99 Q2000.88 160.217 2003.17 160.842 Q2005.46 161.444 2007.71 161.444 Q2010.72 161.444 2012.34 160.426 Q2013.96 159.384 2013.96 157.509 Q2013.96 155.773 2012.78 154.847 Q2011.62 153.921 2007.66 153.064 L2006.18 152.717 Q2002.22 151.884 2000.46 150.171 Q1998.7 148.435 1998.7 145.426 Q1998.7 141.768 2001.3 139.778 Q2003.89 137.787 2008.66 137.787 Q2011.02 137.787 2013.1 138.134 Q2015.18 138.481 2016.94 139.176 Z\" fill=\"#000000\" fill-rule=\"nonzero\" fill-opacity=\"1\" /><path clip-path=\"url(#clip590)\" d=\"M2041.64 139.176 L2041.64 143.203 Q2039.84 142.277 2037.89 141.815 Q2035.95 141.352 2033.86 141.352 Q2030.69 141.352 2029.1 142.324 Q2027.52 143.296 2027.52 145.24 Q2027.52 146.722 2028.66 147.578 Q2029.79 148.412 2033.22 149.176 L2034.67 149.5 Q2039.21 150.472 2041.11 152.254 Q2043.03 154.014 2043.03 157.185 Q2043.03 160.796 2040.16 162.902 Q2037.31 165.009 2032.31 165.009 Q2030.23 165.009 2027.96 164.592 Q2025.72 164.199 2023.22 163.388 L2023.22 158.99 Q2025.58 160.217 2027.87 160.842 Q2030.16 161.444 2032.41 161.444 Q2035.42 161.444 2037.04 160.426 Q2038.66 159.384 2038.66 157.509 Q2038.66 155.773 2037.48 154.847 Q2036.32 153.921 2032.36 153.064 L2030.88 152.717 Q2026.92 151.884 2025.16 150.171 Q2023.4 148.435 2023.4 145.426 Q2023.4 141.768 2025.99 139.778 Q2028.59 137.787 2033.36 137.787 Q2035.72 137.787 2037.8 138.134 Q2039.88 138.481 2041.64 139.176 Z\" fill=\"#000000\" fill-rule=\"nonzero\" fill-opacity=\"1\" /><path clip-path=\"url(#clip590)\" d=\"M2069.51 172.208 L2069.51 175.518 L2044.88 175.518 L2044.88 172.208 L2069.51 172.208 Z\" fill=\"#000000\" fill-rule=\"nonzero\" fill-opacity=\"1\" /><path clip-path=\"url(#clip590)\" d=\"M2092.13 151.398 Q2092.13 146.699 2090.18 144.037 Q2088.26 141.352 2084.88 141.352 Q2081.5 141.352 2079.56 144.037 Q2077.64 146.699 2077.64 151.398 Q2077.64 156.097 2079.56 158.782 Q2081.5 161.444 2084.88 161.444 Q2088.26 161.444 2090.18 158.782 Q2092.13 156.097 2092.13 151.398 M2077.64 142.347 Q2078.98 140.032 2081.02 138.921 Q2083.08 137.787 2085.92 137.787 Q2090.65 137.787 2093.59 141.537 Q2096.55 145.287 2096.55 151.398 Q2096.55 157.509 2093.59 161.259 Q2090.65 165.009 2085.92 165.009 Q2083.08 165.009 2081.02 163.898 Q2078.98 162.763 2077.64 160.449 L2077.64 164.338 L2073.36 164.338 L2073.36 128.319 L2077.64 128.319 L2077.64 142.347 Z\" fill=\"#000000\" fill-rule=\"nonzero\" fill-opacity=\"1\" /><path clip-path=\"url(#clip590)\" d=\"M2115.39 151.305 Q2110.23 151.305 2108.24 152.486 Q2106.25 153.666 2106.25 156.514 Q2106.25 158.782 2107.73 160.125 Q2109.23 161.444 2111.8 161.444 Q2115.35 161.444 2117.48 158.944 Q2119.63 156.421 2119.63 152.254 L2119.63 151.305 L2115.39 151.305 M2123.89 149.546 L2123.89 164.338 L2119.63 164.338 L2119.63 160.402 Q2118.17 162.763 2115.99 163.898 Q2113.82 165.009 2110.67 165.009 Q2106.69 165.009 2104.33 162.787 Q2101.99 160.541 2101.99 156.791 Q2101.99 152.416 2104.91 150.194 Q2107.85 147.972 2113.66 147.972 L2119.63 147.972 L2119.63 147.555 Q2119.63 144.615 2117.68 143.018 Q2115.76 141.398 2112.27 141.398 Q2110.04 141.398 2107.94 141.93 Q2105.83 142.463 2103.89 143.527 L2103.89 139.592 Q2106.23 138.69 2108.42 138.25 Q2110.62 137.787 2112.71 137.787 Q2118.33 137.787 2121.11 140.703 Q2123.89 143.62 2123.89 149.546 Z\" fill=\"#000000\" fill-rule=\"nonzero\" fill-opacity=\"1\" /><path clip-path=\"url(#clip590)\" d=\"M2136.87 131.051 L2136.87 138.412 L2145.65 138.412 L2145.65 141.722 L2136.87 141.722 L2136.87 155.796 Q2136.87 158.967 2137.73 159.87 Q2138.61 160.773 2141.27 160.773 L2145.65 160.773 L2145.65 164.338 L2141.27 164.338 Q2136.34 164.338 2134.47 162.509 Q2132.59 160.657 2132.59 155.796 L2132.59 141.722 L2129.47 141.722 L2129.47 138.412 L2132.59 138.412 L2132.59 131.051 L2136.87 131.051 Z\" fill=\"#000000\" fill-rule=\"nonzero\" fill-opacity=\"1\" /><path clip-path=\"url(#clip590)\" d=\"M2169.91 139.407 L2169.91 143.389 Q2168.1 142.393 2166.27 141.907 Q2164.47 141.398 2162.61 141.398 Q2158.47 141.398 2156.18 144.037 Q2153.89 146.652 2153.89 151.398 Q2153.89 156.143 2156.18 158.782 Q2158.47 161.398 2162.61 161.398 Q2164.47 161.398 2166.27 160.912 Q2168.1 160.402 2169.91 159.407 L2169.91 163.342 Q2168.12 164.176 2166.2 164.592 Q2164.3 165.009 2162.15 165.009 Q2156.29 165.009 2152.85 161.328 Q2149.4 157.648 2149.4 151.398 Q2149.4 145.055 2152.87 141.421 Q2156.36 137.787 2162.43 137.787 Q2164.4 137.787 2166.27 138.203 Q2168.15 138.597 2169.91 139.407 Z\" fill=\"#000000\" fill-rule=\"nonzero\" fill-opacity=\"1\" /><path clip-path=\"url(#clip590)\" d=\"M2198.86 148.689 L2198.86 164.338 L2194.6 164.338 L2194.6 148.828 Q2194.6 145.148 2193.17 143.319 Q2191.73 141.49 2188.86 141.49 Q2185.41 141.49 2183.42 143.69 Q2181.43 145.889 2181.43 149.685 L2181.43 164.338 L2177.15 164.338 L2177.15 128.319 L2181.43 128.319 L2181.43 142.44 Q2182.96 140.102 2185.02 138.944 Q2187.1 137.787 2189.81 137.787 Q2194.28 137.787 2196.57 140.565 Q2198.86 143.319 2198.86 148.689 Z\" fill=\"#000000\" fill-rule=\"nonzero\" fill-opacity=\"1\" /><path clip-path=\"url(#clip590)\" d=\"M2229.53 150.31 L2229.53 152.393 L2209.95 152.393 Q2210.23 156.791 2212.59 159.106 Q2214.97 161.398 2219.21 161.398 Q2221.66 161.398 2223.96 160.796 Q2226.27 160.194 2228.54 158.99 L2228.54 163.018 Q2226.25 163.99 2223.84 164.5 Q2221.43 165.009 2218.96 165.009 Q2212.75 165.009 2209.12 161.398 Q2205.51 157.787 2205.51 151.629 Q2205.51 145.264 2208.93 141.537 Q2212.38 137.787 2218.22 137.787 Q2223.45 137.787 2226.48 141.166 Q2229.53 144.523 2229.53 150.31 M2225.28 149.06 Q2225.23 145.565 2223.31 143.481 Q2221.41 141.398 2218.26 141.398 Q2214.7 141.398 2212.54 143.412 Q2210.41 145.426 2210.09 149.083 L2225.28 149.06 Z\" fill=\"#000000\" fill-rule=\"nonzero\" fill-opacity=\"1\" /><path clip-path=\"url(#clip590)\" d=\"M2253.05 139.176 L2253.05 143.203 Q2251.25 142.277 2249.3 141.815 Q2247.36 141.352 2245.28 141.352 Q2242.1 141.352 2240.51 142.324 Q2238.93 143.296 2238.93 145.24 Q2238.93 146.722 2240.07 147.578 Q2241.2 148.412 2244.63 149.176 L2246.09 149.5 Q2250.62 150.472 2252.52 152.254 Q2254.44 154.014 2254.44 157.185 Q2254.44 160.796 2251.57 162.902 Q2248.72 165.009 2243.72 165.009 Q2241.64 165.009 2239.37 164.592 Q2237.13 164.199 2234.63 163.388 L2234.63 158.99 Q2236.99 160.217 2239.28 160.842 Q2241.57 161.444 2243.82 161.444 Q2246.83 161.444 2248.45 160.426 Q2250.07 159.384 2250.07 157.509 Q2250.07 155.773 2248.89 154.847 Q2247.73 153.921 2243.77 153.064 L2242.29 152.717 Q2238.33 151.884 2236.57 150.171 Q2234.81 148.435 2234.81 145.426 Q2234.81 141.768 2237.41 139.778 Q2240 137.787 2244.77 137.787 Q2247.13 137.787 2249.21 138.134 Q2251.29 138.481 2253.05 139.176 Z\" fill=\"#000000\" fill-rule=\"nonzero\" fill-opacity=\"1\" /><circle clip-path=\"url(#clip590)\" cx=\"1859.93\" cy=\"198.898\" r=\"20.48\" fill=\"#e26f46\" fill-rule=\"evenodd\" fill-opacity=\"1\" stroke=\"#000000\" stroke-opacity=\"1\" stroke-width=\"4.55111\"/>\n",
       "<path clip-path=\"url(#clip590)\" d=\"M1982.27 202.15 L1982.27 204.233 L1962.68 204.233 Q1962.96 208.631 1965.32 210.946 Q1967.71 213.238 1971.94 213.238 Q1974.4 213.238 1976.69 212.636 Q1979 212.034 1981.27 210.83 L1981.27 214.858 Q1978.98 215.83 1976.57 216.34 Q1974.17 216.849 1971.69 216.849 Q1965.49 216.849 1961.85 213.238 Q1958.24 209.627 1958.24 203.469 Q1958.24 197.104 1961.67 193.377 Q1965.11 189.627 1970.95 189.627 Q1976.18 189.627 1979.21 193.006 Q1982.27 196.363 1982.27 202.15 M1978.01 200.9 Q1977.96 197.405 1976.04 195.321 Q1974.14 193.238 1970.99 193.238 Q1967.43 193.238 1965.28 195.252 Q1963.15 197.266 1962.82 200.923 L1978.01 200.9 Z\" fill=\"#000000\" fill-rule=\"nonzero\" fill-opacity=\"1\" /><path clip-path=\"url(#clip590)\" d=\"M1993.38 212.289 L1993.38 226.039 L1989.1 226.039 L1989.1 190.252 L1993.38 190.252 L1993.38 194.187 Q1994.72 191.872 1996.76 190.761 Q1998.82 189.627 2001.67 189.627 Q2006.39 189.627 2009.33 193.377 Q2012.29 197.127 2012.29 203.238 Q2012.29 209.349 2009.33 213.099 Q2006.39 216.849 2001.67 216.849 Q1998.82 216.849 1996.76 215.738 Q1994.72 214.603 1993.38 212.289 M2007.87 203.238 Q2007.87 198.539 2005.92 195.877 Q2004 193.192 2000.62 193.192 Q1997.24 193.192 1995.3 195.877 Q1993.38 198.539 1993.38 203.238 Q1993.38 207.937 1995.3 210.622 Q1997.24 213.284 2000.62 213.284 Q2004 213.284 2005.92 210.622 Q2007.87 207.937 2007.87 203.238 Z\" fill=\"#000000\" fill-rule=\"nonzero\" fill-opacity=\"1\" /><path clip-path=\"url(#clip590)\" d=\"M2029.4 193.238 Q2025.97 193.238 2023.98 195.923 Q2021.99 198.585 2021.99 203.238 Q2021.99 207.891 2023.96 210.576 Q2025.95 213.238 2029.4 213.238 Q2032.8 213.238 2034.79 210.553 Q2036.78 207.867 2036.78 203.238 Q2036.78 198.631 2034.79 195.946 Q2032.8 193.238 2029.4 193.238 M2029.4 189.627 Q2034.95 189.627 2038.12 193.238 Q2041.3 196.849 2041.3 203.238 Q2041.3 209.604 2038.12 213.238 Q2034.95 216.849 2029.4 216.849 Q2023.82 216.849 2020.65 213.238 Q2017.5 209.604 2017.5 203.238 Q2017.5 196.849 2020.65 193.238 Q2023.82 189.627 2029.4 189.627 Z\" fill=\"#000000\" fill-rule=\"nonzero\" fill-opacity=\"1\" /><path clip-path=\"url(#clip590)\" d=\"M2067.01 191.247 L2067.01 195.229 Q2065.21 194.233 2063.38 193.747 Q2061.57 193.238 2059.72 193.238 Q2055.58 193.238 2053.29 195.877 Q2050.99 198.492 2050.99 203.238 Q2050.99 207.983 2053.29 210.622 Q2055.58 213.238 2059.72 213.238 Q2061.57 213.238 2063.38 212.752 Q2065.21 212.242 2067.01 211.247 L2067.01 215.182 Q2065.23 216.016 2063.31 216.432 Q2061.41 216.849 2059.26 216.849 Q2053.4 216.849 2049.95 213.168 Q2046.5 209.488 2046.5 203.238 Q2046.5 196.895 2049.98 193.261 Q2053.47 189.627 2059.54 189.627 Q2061.5 189.627 2063.38 190.043 Q2065.25 190.437 2067.01 191.247 Z\" fill=\"#000000\" fill-rule=\"nonzero\" fill-opacity=\"1\" /><path clip-path=\"url(#clip590)\" d=\"M2095.97 200.529 L2095.97 216.178 L2091.71 216.178 L2091.71 200.668 Q2091.71 196.988 2090.28 195.159 Q2088.84 193.33 2085.97 193.33 Q2082.52 193.33 2080.53 195.53 Q2078.54 197.729 2078.54 201.525 L2078.54 216.178 L2074.26 216.178 L2074.26 180.159 L2078.54 180.159 L2078.54 194.28 Q2080.07 191.942 2082.13 190.784 Q2084.21 189.627 2086.92 189.627 Q2091.39 189.627 2093.68 192.405 Q2095.97 195.159 2095.97 200.529 Z\" fill=\"#000000\" fill-rule=\"nonzero\" fill-opacity=\"1\" /><path clip-path=\"url(#clip590)\" d=\"M2120.99 191.016 L2120.99 195.043 Q2119.19 194.117 2117.24 193.655 Q2115.3 193.192 2113.22 193.192 Q2110.04 193.192 2108.45 194.164 Q2106.87 195.136 2106.87 197.08 Q2106.87 198.562 2108.01 199.418 Q2109.14 200.252 2112.57 201.016 L2114.03 201.34 Q2118.56 202.312 2120.46 204.094 Q2122.38 205.854 2122.38 209.025 Q2122.38 212.636 2119.51 214.742 Q2116.67 216.849 2111.67 216.849 Q2109.58 216.849 2107.31 216.432 Q2105.07 216.039 2102.57 215.228 L2102.57 210.83 Q2104.93 212.057 2107.22 212.682 Q2109.51 213.284 2111.76 213.284 Q2114.77 213.284 2116.39 212.266 Q2118.01 211.224 2118.01 209.349 Q2118.01 207.613 2116.83 206.687 Q2115.67 205.761 2111.71 204.904 L2110.23 204.557 Q2106.27 203.724 2104.51 202.011 Q2102.75 200.275 2102.75 197.266 Q2102.75 193.608 2105.35 191.618 Q2107.94 189.627 2112.71 189.627 Q2115.07 189.627 2117.15 189.974 Q2119.23 190.321 2120.99 191.016 Z\" fill=\"#000000\" fill-rule=\"nonzero\" fill-opacity=\"1\" /></svg>\n"
      ]
     },
     "metadata": {},
     "output_type": "display_data"
    }
   ],
   "source": [
    "using Plots\n",
    "\n",
    "epochs = 3\n",
    "batch_size = 16\n",
    "learning_rate = 0.0075\n",
    "pool_size = (4,4)\n",
    "\n",
    "model = [\n",
    "    Conv2DNode(batch_size=batch_size, filters=2, kernel_size=(3,3), input_shape=(28,28,1), activation=\"relu\"),\n",
    "    MaxPoolNode(pool_size=(4,4)),\n",
    "    FlattenNode(input_shape=(6,6,2)),\n",
    "    DenseNode(neurons=32, activation=\"relu\", input_shape=(prod((6,6,2)), 1)),\n",
    "    DenseNode(neurons=10, activation=\"softmax\", input_shape=(32,1))\n",
    "]\n",
    "\n",
    "graph = graph_build(model)\n",
    "\n",
    "loss = train!(graph, train_x, train_y, epochs, batch_size, learning_rate, \"adam\")\n",
    "plot_loss(loss, epochs)"
   ]
  },
  {
   "cell_type": "code",
   "execution_count": 14,
   "id": "2304da79",
   "metadata": {},
   "outputs": [
    {
     "name": "stdout",
     "output_type": "stream",
     "text": [
      "Accuracy: 0.8062\n"
     ]
    }
   ],
   "source": [
    "test_data = mnist.test_images()\n",
    "test_labels = Int64.(mnist.test_labels())\n",
    "\n",
    "test_x =  reshape(test_data, :, 28, 28, 1) / 255.0\n",
    "test_y = test_labels\n",
    "\n",
    "n = 5000\n",
    "idx = randperm(n)\n",
    "\n",
    "test_x = test_x[idx, :,:,:]\n",
    "test_y = test_y[idx]\n",
    "\n",
    "accuracy = evaluate(graph, test_x, test_y, batch_size, pool_size)\n",
    "println(\"Accuracy: \", accuracy)"
   ]
  },
  {
   "cell_type": "code",
   "execution_count": null,
   "id": "617527d7-dea6-41da-9ecd-f68b7687482b",
   "metadata": {},
   "outputs": [
    {
     "name": "stdout",
     "output_type": "stream",
     "text": [
      "----EPOCH 1----\n"
     ]
    },
    {
     "ename": "LoadError",
     "evalue": "MethodError: no method matching Vector{Float64}(::Matrix{Float64})\n\nYou might have used a 2d row vector where a 1d column vector was required.\nNote the difference between 1d column vector [1,2,3] and 2d row vector [1 2 3].\nYou can convert to a column vector with the vec() function.\n\u001b[0mClosest candidates are:\n\u001b[0m  Array{T, N}(::AbstractArray{S, N}) where {T, N, S} at array.jl:626\n\u001b[0m  Vector{T}() where T at boot.jl:478\n\u001b[0m  Vector{T}(\u001b[91m::Core.Compiler.AbstractRange{T}\u001b[39m) where T at range.jl:1361\n\u001b[0m  ...",
     "output_type": "error",
     "traceback": [
      "MethodError: no method matching Vector{Float64}(::Matrix{Float64})\n\nYou might have used a 2d row vector where a 1d column vector was required.\nNote the difference between 1d column vector [1,2,3] and 2d row vector [1 2 3].\nYou can convert to a column vector with the vec() function.\n\u001b[0mClosest candidates are:\n\u001b[0m  Array{T, N}(::AbstractArray{S, N}) where {T, N, S} at array.jl:626\n\u001b[0m  Vector{T}() where T at boot.jl:478\n\u001b[0m  Vector{T}(\u001b[91m::Core.Compiler.AbstractRange{T}\u001b[39m) where T at range.jl:1361\n\u001b[0m  ...",
      "",
      "Stacktrace:",
      " [1] convert(#unused#::Type{Vector{Float64}}, a::Matrix{Float64})",
      "   @ Base .\\array.jl:617",
      " [2] setproperty!(x::DenseNode, f::Symbol, v::Matrix{Float64})",
      "   @ Base .\\Base.jl:39",
      " [3] backward_pass!(graph::Vector{Any}, y_true::Vector{Int64})",
      "   @ Main .\\In[4]:42",
      " [4] train!(graph::Vector{Any}, train_x::Array{Float64, 4}, train_y::Vector{Int64}, epochs::Int64, batch_size::Int64, learning_rate::Float64, optimizer::String)",
      "   @ Main .\\In[5]:48",
      " [5] top-level scope",
      "   @ In[11]:18"
     ]
    }
   ],
   "source": [
    "using Plots\n",
    "\n",
    "epochs = 10\n",
    "batch_size = 64\n",
    "learning_rate = 0.0025\n",
    "pool_size = (4,4)\n",
    "\n",
    "model = [\n",
    "    Conv2DNode(batch_size=32, filters=2, kernel_size=(3,3), input_shape=(28,28,1), activation=\"relu\"),\n",
    "    MaxPoolNode(pool_size=(4,4)),\n",
    "    FlattenNode(input_shape=(6,6,2)),\n",
    "    DenseNode(neurons=32, activation=\"relu\", input_shape=(72, 1)),\n",
    "    DenseNode(neurons=10, activation=\"softmax\", input_shape=(32,1))\n",
    "]\n",
    "\n",
    "graph = graph_build(model)\n",
    "\n",
    "loss = train!(graph, train_x, train_y, epochs, batch_size, learning_rate, \"adam\")\n",
    "plot_loss(loss, epochs)"
   ]
  },
  {
   "cell_type": "code",
   "execution_count": null,
   "id": "2522c34c-babf-4c8b-85b1-24a2268f7692",
   "metadata": {},
   "outputs": [
    {
     "name": "stdout",
     "output_type": "stream",
     "text": [
      "Accuracy: 0.9242\n"
     ]
    }
   ],
   "source": [
    "accuracy = evaluate(graph, test_x, test_y, batch_size, pool_size)\n",
    "println(\"Accuracy: \", accuracy)"
   ]
  }
 ],
 "metadata": {
  "kernelspec": {
   "display_name": "Julia 1.8.5",
   "language": "julia",
   "name": "julia-1.8"
  },
  "language_info": {
   "file_extension": ".jl",
   "mimetype": "application/julia",
   "name": "julia",
   "version": "1.8.5"
  }
 },
 "nbformat": 4,
 "nbformat_minor": 5
}
